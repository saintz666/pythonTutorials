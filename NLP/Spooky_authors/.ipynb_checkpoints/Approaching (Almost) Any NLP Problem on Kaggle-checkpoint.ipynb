{
 "cells": [
  {
   "cell_type": "markdown",
   "metadata": {},
   "source": [
    "In this post I'll talk about approaching natural language processing problems on Kaggle. As an example, we will use the data from this competition. We will create a very basic first model first and then improve it using different other features. We will also see how deep neural networks can be used and end this post with some ideas about ensembling in general.\n",
    "\n",
    "This covers:\n",
    "\n",
    "1. tfidf\n",
    "2. count features\n",
    "3. logistic regression\n",
    "4. naive bayes\n",
    "5. svm\n",
    "6. xgboost\n",
    "7. grid search\n",
    "8. word vectors\n",
    "9. LSTM\n",
    "10. GRU\n",
    "11. Ensembling"
   ]
  },
  {
   "cell_type": "code",
   "execution_count": 1,
   "metadata": {
    "collapsed": false
   },
   "outputs": [
    {
     "name": "stderr",
     "output_type": "stream",
     "text": [
      "C:\\Anaconda3\\lib\\site-packages\\sklearn\\cross_validation.py:41: DeprecationWarning: This module was deprecated in version 0.18 in favor of the model_selection module into which all the refactored classes and functions are moved. Also note that the interface of the new CV iterators are different from that of this module. This module will be removed in 0.20.\n",
      "  \"This module will be removed in 0.20.\", DeprecationWarning)\n",
      "Using Theano backend.\n"
     ]
    }
   ],
   "source": [
    "import pandas as pd\n",
    "import numpy as np\n",
    "import xgboost as xgb\n",
    "from tqdm import tqdm\n",
    "from sklearn.svm import SVC\n",
    "from keras.models import Sequential\n",
    "from keras.layers.recurrent import LSTM, GRU\n",
    "from keras.layers.core import Dense, Activation, Dropout\n",
    "from keras.layers.embeddings import Embedding\n",
    "from keras.layers.normalization import BatchNormalization\n",
    "from keras.utils import np_utils\n",
    "from sklearn import preprocessing, decomposition, model_selection, metrics, pipeline\n",
    "from sklearn.model_selection import GridSearchCV\n",
    "from sklearn.feature_extraction.text import TfidfVectorizer, CountVectorizer\n",
    "from sklearn.decomposition import TruncatedSVD\n",
    "from sklearn.linear_model import LogisticRegression\n",
    "from sklearn.model_selection import train_test_split\n",
    "from sklearn.naive_bayes import MultinomialNB\n",
    "from keras.layers import GlobalMaxPooling1D, Conv1D, MaxPooling1D, Flatten, Bidirectional, SpatialDropout1D\n",
    "from keras.preprocessing import sequence, text\n",
    "from keras.callbacks import EarlyStopping\n",
    "from nltk import word_tokenize\n",
    "from nltk.corpus import stopwords\n",
    "stop_words = stopwords.words('english')"
   ]
  },
  {
   "cell_type": "markdown",
   "metadata": {
    "collapsed": true
   },
   "source": [
    "###### Let's load the datasets"
   ]
  },
  {
   "cell_type": "code",
   "execution_count": 2,
   "metadata": {
    "collapsed": true
   },
   "outputs": [],
   "source": [
    "train = pd.read_csv(r\"C:\\Users\\piush\\Desktop\\Dataset\\spookyAuthor\\train.csv\")\n",
    "test = pd.read_csv(r\"C:\\Users\\piush\\Desktop\\Dataset\\spookyAuthor\\test.csv\")\n",
    "sample = pd.read_csv(r\"C:\\Users\\piush\\Desktop\\Dataset\\spookyAuthor\\sample_submission.csv\")"
   ]
  },
  {
   "cell_type": "markdown",
   "metadata": {},
   "source": [
    "#### A quick look at the data"
   ]
  },
  {
   "cell_type": "code",
   "execution_count": 3,
   "metadata": {
    "collapsed": false
   },
   "outputs": [
    {
     "data": {
      "text/html": [
       "<div>\n",
       "<table border=\"1\" class=\"dataframe\">\n",
       "  <thead>\n",
       "    <tr style=\"text-align: right;\">\n",
       "      <th></th>\n",
       "      <th>id</th>\n",
       "      <th>text</th>\n",
       "      <th>author</th>\n",
       "    </tr>\n",
       "  </thead>\n",
       "  <tbody>\n",
       "    <tr>\n",
       "      <th>0</th>\n",
       "      <td>id26305</td>\n",
       "      <td>This process, however, afforded me no means of...</td>\n",
       "      <td>EAP</td>\n",
       "    </tr>\n",
       "    <tr>\n",
       "      <th>1</th>\n",
       "      <td>id17569</td>\n",
       "      <td>It never once occurred to me that the fumbling...</td>\n",
       "      <td>HPL</td>\n",
       "    </tr>\n",
       "  </tbody>\n",
       "</table>\n",
       "</div>"
      ],
      "text/plain": [
       "        id                                               text author\n",
       "0  id26305  This process, however, afforded me no means of...    EAP\n",
       "1  id17569  It never once occurred to me that the fumbling...    HPL"
      ]
     },
     "execution_count": 3,
     "metadata": {},
     "output_type": "execute_result"
    }
   ],
   "source": [
    "train.head(2)"
   ]
  },
  {
   "cell_type": "code",
   "execution_count": 4,
   "metadata": {
    "collapsed": false
   },
   "outputs": [
    {
     "data": {
      "text/html": [
       "<div>\n",
       "<table border=\"1\" class=\"dataframe\">\n",
       "  <thead>\n",
       "    <tr style=\"text-align: right;\">\n",
       "      <th></th>\n",
       "      <th>id</th>\n",
       "      <th>text</th>\n",
       "    </tr>\n",
       "  </thead>\n",
       "  <tbody>\n",
       "    <tr>\n",
       "      <th>0</th>\n",
       "      <td>id02310</td>\n",
       "      <td>Still, as I urged our leaving Ireland with suc...</td>\n",
       "    </tr>\n",
       "    <tr>\n",
       "      <th>1</th>\n",
       "      <td>id24541</td>\n",
       "      <td>If a fire wanted fanning, it could readily be ...</td>\n",
       "    </tr>\n",
       "  </tbody>\n",
       "</table>\n",
       "</div>"
      ],
      "text/plain": [
       "        id                                               text\n",
       "0  id02310  Still, as I urged our leaving Ireland with suc...\n",
       "1  id24541  If a fire wanted fanning, it could readily be ..."
      ]
     },
     "execution_count": 4,
     "metadata": {},
     "output_type": "execute_result"
    }
   ],
   "source": [
    "test.head(2)"
   ]
  },
  {
   "cell_type": "code",
   "execution_count": 5,
   "metadata": {
    "collapsed": false
   },
   "outputs": [
    {
     "data": {
      "text/html": [
       "<div>\n",
       "<table border=\"1\" class=\"dataframe\">\n",
       "  <thead>\n",
       "    <tr style=\"text-align: right;\">\n",
       "      <th></th>\n",
       "      <th>id</th>\n",
       "      <th>EAP</th>\n",
       "      <th>HPL</th>\n",
       "      <th>MWS</th>\n",
       "    </tr>\n",
       "  </thead>\n",
       "  <tbody>\n",
       "    <tr>\n",
       "      <th>0</th>\n",
       "      <td>id02310</td>\n",
       "      <td>0.403494</td>\n",
       "      <td>0.287808</td>\n",
       "      <td>0.308698</td>\n",
       "    </tr>\n",
       "    <tr>\n",
       "      <th>1</th>\n",
       "      <td>id24541</td>\n",
       "      <td>0.403494</td>\n",
       "      <td>0.287808</td>\n",
       "      <td>0.308698</td>\n",
       "    </tr>\n",
       "  </tbody>\n",
       "</table>\n",
       "</div>"
      ],
      "text/plain": [
       "        id       EAP       HPL       MWS\n",
       "0  id02310  0.403494  0.287808  0.308698\n",
       "1  id24541  0.403494  0.287808  0.308698"
      ]
     },
     "execution_count": 5,
     "metadata": {},
     "output_type": "execute_result"
    }
   ],
   "source": [
    "sample.head(2)"
   ]
  },
  {
   "cell_type": "markdown",
   "metadata": {},
   "source": [
    "The problem requires us to predict the author, i.e. EAP, HPL and MWS given the text. In simpler words, text classification with 3 different classes.\n",
    "\n",
    "For this particular problem, Kaggle has specified multi-class log-loss as evaluation metric. This is implemented in the follow way (taken from: https://github.com/dnouri/nolearn/blob/master/nolearn/lasagne/util.py)"
   ]
  },
  {
   "cell_type": "code",
   "execution_count": 6,
   "metadata": {
    "collapsed": true
   },
   "outputs": [],
   "source": [
    "def multiclass_logloss(actual, predicted, eps=1e-15):\n",
    "    \"\"\"Multi class version of Logarithmic Loss metric.\n",
    "    :param actual: Array containing the actual target classes\n",
    "    :param predicted: Matrix with class predictions, one probability per class\n",
    "    \"\"\"\n",
    "    # Convert 'actual' to a binary array if it's not already:\n",
    "    if len(actual.shape) == 1:\n",
    "        actual2 = np.zeros((actual.shape[0], predicted.shape[1]))\n",
    "        for i, val in enumerate(actual):\n",
    "            actual2[i, val] = 1\n",
    "        actual = actual2\n",
    "\n",
    "    clip = np.clip(predicted, eps, 1 - eps)\n",
    "    rows = actual.shape[0]\n",
    "    vsota = np.sum(actual * np.log(clip))\n",
    "    return -1.0 / rows * vsota"
   ]
  },
  {
   "cell_type": "markdown",
   "metadata": {},
   "source": [
    "###### We use the LabelEncoder from scikit-learn to convert text labels to integers, 0, 1 2"
   ]
  },
  {
   "cell_type": "code",
   "execution_count": 7,
   "metadata": {
    "collapsed": true
   },
   "outputs": [],
   "source": [
    "lbl_enc = preprocessing.LabelEncoder()\n",
    "y = lbl_enc.fit_transform(train.author.values)"
   ]
  },
  {
   "cell_type": "markdown",
   "metadata": {},
   "source": [
    "###### Before going further it is important that we split the data into training and validation sets. We can do it using train_test_split from the model_selection module of scikit-learn."
   ]
  },
  {
   "cell_type": "code",
   "execution_count": 8,
   "metadata": {
    "collapsed": false
   },
   "outputs": [],
   "source": [
    "xtrain, xvalid, ytrain, yvalid = train_test_split(train.text.values, y, \n",
    "                                                  stratify=y, \n",
    "                                                  random_state=42, \n",
    "                                                  test_size=0.1, shuffle=True)"
   ]
  },
  {
   "cell_type": "markdown",
   "metadata": {},
   "source": [
    "###### Check the name: it is valid dataset"
   ]
  },
  {
   "cell_type": "code",
   "execution_count": 9,
   "metadata": {
    "collapsed": false
   },
   "outputs": [
    {
     "data": {
      "text/plain": [
       "'0.19.1'"
      ]
     },
     "execution_count": 9,
     "metadata": {},
     "output_type": "execute_result"
    }
   ],
   "source": [
    "import sklearn\n",
    "sklearn.__version__\n",
    "#upgraded the scikit learn to 0.19"
   ]
  },
  {
   "cell_type": "code",
   "execution_count": 10,
   "metadata": {
    "collapsed": false
   },
   "outputs": [
    {
     "name": "stdout",
     "output_type": "stream",
     "text": [
      "(17621,)\n",
      "(1958,)\n"
     ]
    }
   ],
   "source": [
    "print (xtrain.shape)\n",
    "print (xvalid.shape)"
   ]
  },
  {
   "cell_type": "markdown",
   "metadata": {},
   "source": [
    "##### Building Basic Models\n",
    "Let's start building our very first model.\n",
    "\n",
    "Our very first model is a simple TF-IDF (Term Frequency - Inverse Document Frequency) followed by a simple Logistic Regression."
   ]
  },
  {
   "cell_type": "code",
   "execution_count": 11,
   "metadata": {
    "collapsed": true
   },
   "outputs": [],
   "source": [
    "# Always start with these features. They work (almost) everytime!\n",
    "tfv = TfidfVectorizer(min_df=3,  max_features=None, \n",
    "            strip_accents='unicode', analyzer='word',token_pattern=r'\\w{1,}',\n",
    "            ngram_range=(1, 3), use_idf=1,smooth_idf=1,sublinear_tf=1,\n",
    "            stop_words = 'english')\n",
    "\n",
    "# Fitting TF-IDF to both training and valid sets (semi-supervised learning)\n",
    "tfv.fit(list(xtrain) + list(xvalid))\n",
    "xtrain_tfv =  tfv.transform(xtrain) \n",
    "xvalid_tfv = tfv.transform(xvalid)"
   ]
  },
  {
   "cell_type": "code",
   "execution_count": 12,
   "metadata": {
    "collapsed": false
   },
   "outputs": [
    {
     "name": "stdout",
     "output_type": "stream",
     "text": [
      "logloss: 0.626 \n"
     ]
    }
   ],
   "source": [
    "# Fitting a simple Logistic Regression on TFIDF\n",
    "clf = LogisticRegression(C=1.0)\n",
    "clf.fit(xtrain_tfv, ytrain)\n",
    "predictions = clf.predict_proba(xvalid_tfv)\n",
    "\n",
    "print (\"logloss: %0.3f \" % multiclass_logloss(yvalid, predictions))"
   ]
  },
  {
   "cell_type": "markdown",
   "metadata": {},
   "source": [
    "###### And there we go. We have our first model with a multiclass logloss of 0.626.\n",
    "\n",
    "But we are greedy and want a better score. Lets look at the same model with a different data.\n",
    "\n",
    "Instead of using TF-IDF, we can also use word counts as features. This can be done easily using CountVectorizer from scikit-learn."
   ]
  },
  {
   "cell_type": "code",
   "execution_count": 13,
   "metadata": {
    "collapsed": true
   },
   "outputs": [],
   "source": [
    "ctv = CountVectorizer(analyzer='word',token_pattern=r'\\w{1,}',\n",
    "            ngram_range=(1, 3), stop_words = 'english')\n",
    "\n",
    "# Fitting Count Vectorizer to both training and valid sets (semi-supervised learning)\n",
    "ctv.fit(list(xtrain) + list(xvalid))\n",
    "xtrain_ctv =  ctv.transform(xtrain) \n",
    "xvalid_ctv = ctv.transform(xvalid)"
   ]
  },
  {
   "cell_type": "code",
   "execution_count": 14,
   "metadata": {
    "collapsed": false
   },
   "outputs": [
    {
     "name": "stdout",
     "output_type": "stream",
     "text": [
      "logloss: 0.528 \n"
     ]
    }
   ],
   "source": [
    "# Fitting a simple Logistic Regression on Counts\n",
    "clf = LogisticRegression(C=1.0)\n",
    "clf.fit(xtrain_ctv, ytrain)\n",
    "predictions = clf.predict_proba(xvalid_ctv)\n",
    "\n",
    "print (\"logloss: %0.3f \" % multiclass_logloss(yvalid, predictions))"
   ]
  },
  {
   "cell_type": "markdown",
   "metadata": {},
   "source": [
    "###### We just improved our first model by 0.1!!!\n",
    "\n",
    "Next, let's try a very simple model which was quite famous in ancient times - Naive Bayes.\n",
    "\n",
    "Let's see what happens when we use naive bayes on these two datasets:"
   ]
  },
  {
   "cell_type": "code",
   "execution_count": 15,
   "metadata": {
    "collapsed": false
   },
   "outputs": [
    {
     "name": "stdout",
     "output_type": "stream",
     "text": [
      "logloss: 0.578 \n"
     ]
    }
   ],
   "source": [
    "# Fitting a simple Naive Bayes on TFIDF\n",
    "clf = MultinomialNB()\n",
    "clf.fit(xtrain_tfv, ytrain)\n",
    "predictions = clf.predict_proba(xvalid_tfv)\n",
    "\n",
    "print (\"logloss: %0.3f \" % multiclass_logloss(yvalid, predictions))"
   ]
  },
  {
   "cell_type": "markdown",
   "metadata": {},
   "source": [
    "Good performance! But the logistic regression on counts is still better! What happens when we use this model on counts data instead?"
   ]
  },
  {
   "cell_type": "code",
   "execution_count": 16,
   "metadata": {
    "collapsed": false
   },
   "outputs": [
    {
     "name": "stdout",
     "output_type": "stream",
     "text": [
      "logloss: 0.485 \n"
     ]
    }
   ],
   "source": [
    "# Fitting a simple Naive Bayes on Counts\n",
    "clf = MultinomialNB()\n",
    "clf.fit(xtrain_ctv, ytrain)\n",
    "predictions = clf.predict_proba(xvalid_ctv)\n",
    "\n",
    "print (\"logloss: %0.3f \" % multiclass_logloss(yvalid, predictions))"
   ]
  },
  {
   "cell_type": "markdown",
   "metadata": {},
   "source": [
    "###### Whoa! Seems like old stuff still works good!!!! One more ancient algorithms in the list is SVMs. Some people \"love\" SVMs. So, we must try SVM on this dataset.\n",
    "\n",
    "Since SVMs take a lot of time, we will reduce the number of features from the TF-IDF using Singular Value Decomposition before applying SVM.\n",
    "\n",
    "Also, note that before applying SVMs, we must standardize the data."
   ]
  },
  {
   "cell_type": "code",
   "execution_count": 17,
   "metadata": {
    "collapsed": true
   },
   "outputs": [],
   "source": [
    "# Apply SVD, I chose 120 components. 120-200 components are good enough for SVM model.\n",
    "svd = decomposition.TruncatedSVD(n_components=120)\n",
    "svd.fit(xtrain_tfv)\n",
    "xtrain_svd = svd.transform(xtrain_tfv)\n",
    "xvalid_svd = svd.transform(xvalid_tfv)\n",
    "\n",
    "# Scale the data obtained from SVD. Renaming variable to reuse without scaling.\n",
    "scl = preprocessing.StandardScaler()\n",
    "scl.fit(xtrain_svd)\n",
    "xtrain_svd_scl = scl.transform(xtrain_svd)\n",
    "xvalid_svd_scl = scl.transform(xvalid_svd)"
   ]
  },
  {
   "cell_type": "markdown",
   "metadata": {},
   "source": [
    "###### Now it's time to apply SVM. This takes a long time"
   ]
  },
  {
   "cell_type": "code",
   "execution_count": 18,
   "metadata": {
    "collapsed": false
   },
   "outputs": [],
   "source": [
    "# # Fitting a simple SVM\n",
    "# clf = SVC(C=1.0, probability=True) # since we need probabilities\n",
    "# clf.fit(xtrain_svd_scl, ytrain)\n",
    "# predictions = clf.predict_proba(xvalid_svd_scl)\n",
    "\n",
    "# print (\"logloss: %0.3f \" % multiclass_logloss(yvalid, predictions))"
   ]
  },
  {
   "cell_type": "markdown",
   "metadata": {},
   "source": [
    "###### Oops! time to get up! Looks like SVM doesn't perform well on this data...!\n",
    "\n",
    "Before moving further, lets apply the most popular algorithm on Kaggle: xgboost!"
   ]
  },
  {
   "cell_type": "code",
   "execution_count": 19,
   "metadata": {
    "collapsed": false
   },
   "outputs": [
    {
     "name": "stdout",
     "output_type": "stream",
     "text": [
      "logloss: 0.782 \n"
     ]
    }
   ],
   "source": [
    "# Fitting a simple xgboost on tf-idf\n",
    "clf = xgb.XGBClassifier(max_depth=7, n_estimators=200, colsample_bytree=0.8, \n",
    "                        subsample=0.8, nthread=10, learning_rate=0.1)\n",
    "clf.fit(xtrain_tfv.tocsc(), ytrain)\n",
    "predictions = clf.predict_proba(xvalid_tfv.tocsc())\n",
    "\n",
    "print (\"logloss: %0.3f \" % multiclass_logloss(yvalid, predictions))"
   ]
  },
  {
   "cell_type": "code",
   "execution_count": 20,
   "metadata": {
    "collapsed": false
   },
   "outputs": [
    {
     "name": "stdout",
     "output_type": "stream",
     "text": [
      "logloss: 0.772 \n"
     ]
    }
   ],
   "source": [
    "# Fitting a simple xgboost on tf-idf\n",
    "clf = xgb.XGBClassifier(max_depth=7, n_estimators=200, colsample_bytree=0.8, \n",
    "                        subsample=0.8, nthread=10, learning_rate=0.1)\n",
    "clf.fit(xtrain_ctv.tocsc(), ytrain)\n",
    "predictions = clf.predict_proba(xvalid_ctv.tocsc())\n",
    "\n",
    "print (\"logloss: %0.3f \" % multiclass_logloss(yvalid, predictions))"
   ]
  },
  {
   "cell_type": "code",
   "execution_count": 21,
   "metadata": {
    "collapsed": false
   },
   "outputs": [
    {
     "name": "stdout",
     "output_type": "stream",
     "text": [
      "logloss: 0.764 \n"
     ]
    }
   ],
   "source": [
    "# Fitting a simple xgboost on tf-idf svd features\n",
    "clf = xgb.XGBClassifier(max_depth=7, n_estimators=200, colsample_bytree=0.8, \n",
    "                        subsample=0.8, nthread=10, learning_rate=0.1)\n",
    "clf.fit(xtrain_svd, ytrain)\n",
    "predictions = clf.predict_proba(xvalid_svd)\n",
    "\n",
    "print (\"logloss: %0.3f \" % multiclass_logloss(yvalid, predictions))"
   ]
  },
  {
   "cell_type": "code",
   "execution_count": 22,
   "metadata": {
    "collapsed": false
   },
   "outputs": [
    {
     "name": "stdout",
     "output_type": "stream",
     "text": [
      "logloss: 0.810 \n"
     ]
    }
   ],
   "source": [
    "# Fitting a simple xgboost on tf-idf svd features\n",
    "clf = xgb.XGBClassifier(nthread=10)\n",
    "clf.fit(xtrain_svd, ytrain)\n",
    "predictions = clf.predict_proba(xvalid_svd)\n",
    "\n",
    "print (\"logloss: %0.3f \" % multiclass_logloss(yvalid, predictions))"
   ]
  },
  {
   "cell_type": "markdown",
   "metadata": {},
   "source": [
    "###### Seems like no luck with XGBoost! But that is not correct.\n",
    "\n",
    "I haven't done any hyperparameter optimizations yet. And since I'm lazy, I'll just tell you how to do it and you can do it on your own! ;). This will be discussed in the next section:\n",
    "\n",
    "##### Grid Search\n",
    "Its a technique for hyperparameter optimization. Not so effective but can give good results if you know the grid you want to use. I specify the parameters that should usually be used in this post: http://blog.kaggle.com/2016/07/21/approaching-almost-any-machine-learning-problem-abhishek-thakur/ \n",
    "\n",
    "Please keep in mind that these are the parameters I usually use. There are many other methods of hyperparameter optimization which may or may not be as effective.\n",
    "\n",
    "In this section, I'll talk about grid search using logistic regression.\n",
    "\n",
    "Before starting with grid search we need to create a scoring function. This is accomplished using the make_scorer function of scikit-learn."
   ]
  },
  {
   "cell_type": "code",
   "execution_count": 23,
   "metadata": {
    "collapsed": true
   },
   "outputs": [],
   "source": [
    "mll_scorer = metrics.make_scorer(multiclass_logloss, greater_is_better=False, needs_proba=True)"
   ]
  },
  {
   "cell_type": "markdown",
   "metadata": {},
   "source": [
    "Next we need a pipeline. For demonstration here, i'll be using a pipeline consisting of SVD, scaling and then logistic regression. Its better to understand with more modules in pipeline than just one ;)\n",
    "\n",
    "Truncated SVD :\n",
    "\n",
    "Dimensionality reduction using truncated SVD (aka LSA).\n",
    "This transformer performs linear dimensionality reduction by means of truncated singular value decomposition (SVD). Contrary to PCA, this estimator does not center the data before computing the singular value decomposition. This means it can work with scipy.sparse matrices efficiently.\n",
    "\n",
    "http://scikit-learn.org/stable/modules/generated/sklearn.decomposition.TruncatedSVD.html\n"
   ]
  },
  {
   "cell_type": "code",
   "execution_count": 24,
   "metadata": {
    "collapsed": true
   },
   "outputs": [],
   "source": [
    "# Initialize SVD\n",
    "svd = TruncatedSVD()\n",
    "    \n",
    "# Initialize the standard scaler \n",
    "scl = preprocessing.StandardScaler()\n",
    "\n",
    "# We will use logistic regression here..\n",
    "lr_model = LogisticRegression()\n",
    "\n",
    "# Create the pipeline \n",
    "clf = pipeline.Pipeline([('svd', svd),\n",
    "                         ('scl', scl),\n",
    "                         ('lr', lr_model)])"
   ]
  },
  {
   "cell_type": "markdown",
   "metadata": {},
   "source": [
    "Next we need a grid of parameters:"
   ]
  },
  {
   "cell_type": "code",
   "execution_count": 25,
   "metadata": {
    "collapsed": true
   },
   "outputs": [],
   "source": [
    "param_grid = {'svd__n_components' : [120, 180],\n",
    "              'lr__C': [0.1, 1.0, 10], \n",
    "              'lr__penalty': ['l1', 'l2']}"
   ]
  },
  {
   "cell_type": "markdown",
   "metadata": {},
   "source": [
    "So, for SVD we evaluate 120 and 180 components and for logistic regression we evaluate three different values of C with l1 and l2 penalty. We can now start grid search on these parameters."
   ]
  },
  {
   "cell_type": "markdown",
   "metadata": {},
   "source": [
    "#### Took a long time so I interrupted it"
   ]
  },
  {
   "cell_type": "code",
   "execution_count": 26,
   "metadata": {
    "collapsed": false
   },
   "outputs": [],
   "source": [
    "# # Initialize Grid Search Model\n",
    "# model = GridSearchCV(estimator=clf, param_grid=param_grid, scoring=mll_scorer,\n",
    "#                                  verbose=10, n_jobs=-1, iid=True, refit=True, cv=2)\n",
    "\n",
    "# # Fit Grid Search Model\n",
    "# model.fit(xtrain_tfv, ytrain)  # we can use the full data here but im only using xtrain\n",
    "# print(\"Best score: %0.3f\" % model.best_score_)\n",
    "# print(\"Best parameters set:\")\n",
    "# best_parameters = model.best_estimator_.get_params()\n",
    "# for param_name in sorted(param_grid.keys()):\n",
    "#     print(\"\\t%s: %r\" % (param_name, best_parameters[param_name]))"
   ]
  },
  {
   "cell_type": "markdown",
   "metadata": {},
   "source": [
    "###### The score comes similar to what we had for SVM. This technique can be used to finetune xgboost or even multinomial naive bayes as below. \n",
    "\n",
    "We will use the tfidf data here:"
   ]
  },
  {
   "cell_type": "code",
   "execution_count": 27,
   "metadata": {
    "collapsed": false
   },
   "outputs": [],
   "source": [
    "# nb_model = MultinomialNB()\n",
    "\n",
    "# # Create the pipeline \n",
    "# clf = pipeline.Pipeline([('nb', nb_model)])\n",
    "\n",
    "# # parameter grid\n",
    "# param_grid = {'nb__alpha': [0.001, 0.01, 0.1, 1, 10, 100]}\n",
    "\n",
    "# # Initialize Grid Search Model\n",
    "# model = GridSearchCV(estimator=clf, param_grid=param_grid, scoring=mll_scorer,\n",
    "#                                  verbose=10, n_jobs=-1, iid=True, refit=True, cv=2)\n",
    "\n",
    "# # Fit Grid Search Model\n",
    "# model.fit(xtrain_tfv, ytrain)  # we can use the full data here but im only using xtrain. \n",
    "# print(\"Best score: %0.3f\" % model.best_score_)\n",
    "# print(\"Best parameters set:\")\n",
    "# best_parameters = model.best_estimator_.get_params()\n",
    "# for param_name in sorted(param_grid.keys()):\n",
    "#     print(\"\\t%s: %r\" % (param_name, best_parameters[param_name]))"
   ]
  },
  {
   "cell_type": "markdown",
   "metadata": {},
   "source": [
    "###### This is an improvement of 8% over the original naive bayes score!\n",
    "\n",
    "In NLP problems, it's customary to look at word vectors. Word vectors give a lot of insights about the data. Let's dive into that.\n",
    "\n",
    "##### Word Vectors\n",
    "Without going into too much details, I would explain how to create sentence vectors and how can we use them to create a machine learning model on top of it. I am a fan of GloVe vectors, word2vec and fasttext. In this post, I'll be using the GloVe vectors. You can download the GloVe vectors from here http://www-nlp.stanford.edu/data/glove.840B.300d.zip"
   ]
  },
  {
   "cell_type": "code",
   "execution_count": null,
   "metadata": {
    "collapsed": false
   },
   "outputs": [
    {
     "name": "stderr",
     "output_type": "stream",
     "text": [
      "\n",
      "0it [00:00, ?it/s]\n",
      "1442it [00:00, 14232.20it/s]\n",
      "2901it [00:00, 14118.61it/s]\n",
      "4389it [00:00, 14340.70it/s]\n",
      "6273it [00:00, 14895.65it/s]\n",
      "7889it [00:00, 15121.82it/s]\n",
      "9414it [00:00, 15118.29it/s]\n",
      "11325it [00:00, 15353.15it/s]\n",
      "12833it [00:00, 15302.94it/s]\n",
      "14480it [00:00, 15408.73it/s]\n",
      "16299it [00:01, 15488.10it/s]\n",
      "17842it [00:01, 15413.38it/s]\n",
      "19367it [00:01, 15336.03it/s]\n",
      "21014it [00:01, 15312.80it/s]\n",
      "22533it [00:01, 15290.94it/s]\n",
      "24036it [00:01, 15261.80it/s]\n",
      "25538it [00:01, 15173.04it/s]\n",
      "27086it [00:01, 15129.50it/s]\n",
      "28796it [00:01, 15113.63it/s]\n",
      "30268it [00:02, 15091.76it/s]\n",
      "31885it [00:02, 15036.07it/s]\n",
      "33386it [00:02, 14931.93it/s]\n",
      "34848it [00:02, 14912.20it/s]\n",
      "36446it [00:02, 14954.62it/s]\n",
      "38099it [00:02, 14984.23it/s]\n",
      "39788it [00:02, 14991.19it/s]\n",
      "41345it [00:02, 15002.25it/s]\n",
      "42861it [00:02, 14778.04it/s]\n",
      "44237it [00:03, 14505.34it/s]\n",
      "45658it [00:03, 14476.25it/s]\n",
      "47309it [00:03, 14472.38it/s]\n",
      "49132it [00:03, 14517.72it/s]\n",
      "50672it [00:03, 14540.50it/s]\n",
      "52201it [00:03, 14560.47it/s]\n",
      "53823it [00:03, 14601.16it/s]\n",
      "55626it [00:03, 14635.06it/s]\n",
      "57189it [00:03, 14656.80it/s]\n",
      "58764it [00:04, 14683.35it/s]\n",
      "60607it [00:04, 14721.12it/s]\n",
      "62206it [00:04, 14747.88it/s]\n",
      "64049it [00:04, 14780.02it/s]\n",
      "65821it [00:04, 14799.59it/s]\n",
      "67427it [00:04, 14814.24it/s]\n",
      "68990it [00:04, 14742.10it/s]\n",
      "70458it [00:04, 14472.86it/s]\n",
      "71717it [00:05, 14341.57it/s]\n",
      "72932it [00:05, 14294.95it/s]\n",
      "74775it [00:05, 14339.42it/s]\n",
      "76340it [00:05, 14361.27it/s]\n",
      "77930it [00:05, 14387.12it/s]\n",
      "79762it [00:05, 14420.56it/s]\n",
      "81282it [00:05, 14431.49it/s]\n",
      "82868it [00:05, 14455.27it/s]\n",
      "84427it [00:05, 14474.46it/s]\n",
      "85958it [00:05, 14480.06it/s]\n",
      "87482it [00:06, 14461.09it/s]\n",
      "88980it [00:06, 14469.40it/s]\n",
      "90783it [00:06, 14493.29it/s]\n",
      "92289it [00:06, 14494.70it/s]\n",
      "93805it [00:06, 14506.68it/s]\n",
      "95306it [00:06, 14487.35it/s]\n",
      "96762it [00:06, 14453.11it/s]\n",
      "98247it [00:06, 14456.42it/s]\n",
      "99664it [00:06, 14445.40it/s]\n",
      "101214it [00:06, 14460.79it/s]\n",
      "102859it [00:07, 14458.45it/s]\n",
      "104422it [00:07, 14474.02it/s]\n",
      "105898it [00:07, 14445.92it/s]\n",
      "107312it [00:07, 14435.42it/s]\n",
      "108713it [00:07, 14313.10it/s]\n",
      "109959it [00:07, 14229.21it/s]\n",
      "111112it [00:07, 14190.61it/s]\n",
      "112254it [00:07, 14135.52it/s]\n",
      "113364it [00:08, 14064.97it/s]\n",
      "114424it [00:08, 14014.37it/s]\n",
      "116254it [00:08, 14043.40it/s]\n",
      "117855it [00:08, 14064.98it/s]\n",
      "119387it [00:08, 14078.72it/s]\n",
      "120833it [00:08, 14082.17it/s]\n",
      "122358it [00:08, 14094.31it/s]\n",
      "123887it [00:08, 14086.67it/s]\n",
      "125358it [00:08, 14088.53it/s]\n",
      "127178it [00:09, 14112.05it/s]\n",
      "128646it [00:09, 14116.47it/s]\n",
      "130118it [00:09, 14099.65it/s]\n",
      "131659it [00:09, 14111.81it/s]\n",
      "133458it [00:09, 14130.25it/s]\n",
      "135048it [00:09, 14139.76it/s]\n",
      "136726it [00:09, 14150.37it/s]\n",
      "138338it [00:09, 14148.19it/s]\n",
      "139964it [00:09, 14168.43it/s]\n",
      "141605it [00:09, 14189.68it/s]\n",
      "143240it [00:10, 14202.68it/s]\n",
      "144784it [00:10, 14179.48it/s]\n",
      "146234it [00:10, 14078.03it/s]\n",
      "147817it [00:10, 14081.05it/s]\n",
      "149126it [00:10, 14025.75it/s]\n",
      "150336it [00:10, 13972.21it/s]\n",
      "151468it [00:12, 12471.04it/s]\n",
      "152569it [00:12, 12396.88it/s]\n",
      "153346it [00:14, 10882.36it/s]\n",
      "153903it [00:14, 10457.98it/s]\n",
      "154749it [00:14, 10406.48it/s]\n",
      "155205it [00:15, 10000.18it/s]\n",
      "155545it [00:16, 9587.52it/s] \n",
      "155798it [00:16, 9367.54it/s]\n",
      "155994it [00:16, 9205.56it/s]\n",
      "156150it [00:17, 9047.34it/s]\n",
      "156274it [00:18, 8675.06it/s]\n",
      "156372it [00:18, 8626.75it/s]\n",
      "156463it [00:18, 8582.81it/s]\n",
      "156553it [00:18, 8506.29it/s]\n",
      "156676it [00:18, 8423.99it/s]\n",
      "156778it [00:18, 8375.75it/s]\n",
      "156879it [00:18, 8331.98it/s]\n",
      "157133it [00:18, 8275.69it/s]\n",
      "157238it [00:19, 8230.96it/s]\n",
      "157339it [00:19, 8173.90it/s]\n",
      "157431it [00:19, 7885.48it/s]\n",
      "158299it [00:20, 7886.99it/s]\n",
      "158594it [00:20, 7655.07it/s]\n",
      "158857it [00:20, 7612.36it/s]\n",
      "159064it [00:21, 7540.29it/s]\n",
      "159263it [00:21, 7496.23it/s]\n",
      "159423it [00:21, 7441.44it/s]\n",
      "159562it [00:21, 7376.96it/s]\n",
      "159680it [00:21, 7321.42it/s]\n",
      "159782it [00:22, 7219.74it/s]\n",
      "159872it [00:22, 7190.48it/s]\n",
      "160074it [00:23, 6955.08it/s]\n",
      "160734it [00:23, 6953.11it/s]\n",
      "161241it [00:23, 6928.12it/s]\n",
      "161509it [00:23, 6831.34it/s]\n",
      "161798it [00:23, 6793.66it/s]\n",
      "162380it [00:23, 6785.58it/s]\n",
      "163016it [00:24, 6782.99it/s]\n",
      "163523it [00:24, 6763.25it/s]\n",
      "164549it [00:24, 6780.49it/s]\n",
      "166176it [00:24, 6815.47it/s]\n",
      "167632it [00:24, 6840.04it/s]\n",
      "168875it [00:24, 6861.28it/s]\n",
      "169911it [00:24, 6874.37it/s]\n",
      "171345it [00:24, 6900.68it/s]\n",
      "172779it [00:24, 6929.70it/s]\n",
      "174131it [00:25, 6955.71it/s]\n",
      "175596it [00:25, 6982.99it/s]\n",
      "176844it [00:25, 6899.84it/s]\n",
      "177795it [00:27, 6579.16it/s]\n",
      "178540it [00:27, 6557.14it/s]\n",
      "179139it [00:27, 6494.86it/s]\n",
      "179607it [00:27, 6444.48it/s]\n",
      "179984it [00:28, 6401.23it/s]\n",
      "180293it [00:28, 6388.69it/s]\n",
      "180601it [00:28, 6361.63it/s]\n",
      "180871it [00:28, 6264.33it/s]\n",
      "181331it [00:29, 6244.58it/s]\n",
      "182714it [00:29, 6269.60it/s]\n",
      "184426it [00:29, 6303.06it/s]\n",
      "185943it [00:29, 6333.25it/s]\n",
      "187292it [00:29, 6357.39it/s]\n",
      "188947it [00:29, 6390.76it/s]\n",
      "190481it [00:29, 6418.92it/s]\n",
      "192039it [00:29, 6446.04it/s]\n",
      "193355it [00:29, 6464.94it/s]\n",
      "194612it [00:30, 6438.13it/s]\n",
      "195736it [00:30, 6453.64it/s]\n",
      "197155it [00:30, 6476.49it/s]\n",
      "198740it [00:30, 6504.05it/s]\n",
      "200210it [00:30, 6530.08it/s]\n",
      "201479it [00:30, 6547.33it/s]\n",
      "202695it [00:30, 6563.49it/s]\n",
      "204324it [00:30, 6593.15it/s]\n",
      "205809it [00:31, 6616.42it/s]\n",
      "207513it [00:31, 6647.93it/s]\n",
      "208986it [00:31, 6672.11it/s]\n",
      "210353it [00:31, 6663.74it/s]\n",
      "211478it [00:31, 6626.13it/s]\n",
      "212642it [00:32, 6643.66it/s]\n",
      "214232it [00:32, 6669.69it/s]\n",
      "215739it [00:32, 6695.39it/s]\n",
      "217357it [00:32, 6724.60it/s]\n",
      "219196it [00:32, 6752.75it/s]\n",
      "220528it [00:32, 6761.05it/s]\n",
      "221713it [00:32, 6775.54it/s]\n",
      "222921it [00:32, 6791.49it/s]\n",
      "224324it [00:32, 6810.73it/s]\n",
      "225518it [00:33, 6825.61it/s]\n",
      "226702it [00:33, 6828.94it/s]\n",
      "228054it [00:33, 6847.58it/s]\n",
      "229671it [00:33, 6872.31it/s]\n",
      "231221it [00:33, 6897.90it/s]\n",
      "232525it [00:33, 6909.85it/s]\n",
      "233777it [00:33, 6929.46it/s]\n",
      "235025it [00:33, 6932.84it/s]\n",
      "236128it [00:34, 6943.77it/s]\n",
      "237492it [00:34, 6960.40it/s]\n",
      "238720it [00:34, 6975.92it/s]\n",
      "239870it [00:34, 6975.18it/s]\n",
      "240901it [00:34, 6987.75it/s]\n",
      "242092it [00:34, 7001.48it/s]\n",
      "243388it [00:34, 7018.95it/s]\n",
      "244707it [00:34, 7034.73it/s]\n",
      "245866it [00:34, 7046.31it/s]\n",
      "247004it [00:35, 7056.73it/s]\n",
      "248491it [00:35, 7079.34it/s]\n",
      "249967it [00:35, 7099.28it/s]\n",
      "251343it [00:35, 7118.12it/s]\n",
      "252638it [00:35, 7121.68it/s]\n",
      "253964it [00:35, 7136.22it/s]\n",
      "255114it [00:35, 7146.03it/s]\n",
      "256333it [00:35, 7160.02it/s]\n",
      "257588it [00:35, 7174.68it/s]\n",
      "258756it [00:36, 7177.78it/s]\n",
      "259880it [00:36, 7188.18it/s]\n",
      "260947it [00:36, 7197.93it/s]\n",
      "262113it [00:36, 7207.39it/s]\n",
      "263407it [00:36, 7222.77it/s]\n",
      "264525it [00:36, 7230.18it/s]\n",
      "265890it [00:36, 7247.24it/s]\n",
      "267045it [00:36, 7256.55it/s]\n",
      "268157it [00:37, 7200.25it/s]\n",
      "269011it [00:38, 7040.63it/s]\n",
      "269636it [00:38, 7001.46it/s]\n",
      "270135it [00:38, 6956.47it/s]\n",
      "270531it [00:39, 6911.74it/s]\n",
      "270847it [00:39, 6889.10it/s]\n",
      "271123it [00:39, 6855.42it/s]\n",
      "271352it [00:39, 6805.66it/s]\n",
      "271534it [00:40, 6784.07it/s]\n",
      "271697it [00:40, 6766.71it/s]\n",
      "271899it [00:40, 6752.28it/s]\n",
      "272153it [00:40, 6737.58it/s]\n",
      "272357it [00:40, 6721.19it/s]\n",
      "272525it [00:40, 6700.37it/s]\n",
      "272676it [00:40, 6675.03it/s]\n",
      "272808it [00:41, 6650.53it/s]\n",
      "272966it [00:41, 6637.93it/s]\n",
      "273169it [00:41, 6624.32it/s]\n",
      "273372it [00:41, 6610.89it/s]\n",
      "273626it [00:41, 6589.46it/s]\n",
      "273779it [00:41, 6571.47it/s]\n",
      "273931it [00:41, 6555.50it/s]\n",
      "274066it [00:41, 6540.85it/s]\n",
      "274195it [00:42, 6527.86it/s]\n",
      "274338it [00:42, 6482.87it/s]\n",
      "274490it [00:42, 6470.47it/s]\n",
      "274643it [00:42, 6441.92it/s]\n",
      "274795it [00:42, 6423.03it/s]\n",
      "274938it [00:42, 6411.35it/s]\n",
      "275130it [00:42, 6400.79it/s]\n",
      "275303it [00:43, 6388.45it/s]\n",
      "275447it [00:43, 6376.83it/s]\n",
      "275659it [00:43, 6365.49it/s]\n",
      "275964it [00:43, 6357.74it/s]\n",
      "276167it [00:43, 6345.51it/s]\n",
      "276421it [00:43, 6329.68it/s]\n",
      "276608it [00:43, 6304.87it/s]\n",
      "276767it [00:44, 6288.72it/s]\n",
      "276913it [00:44, 6267.58it/s]\n",
      "277041it [00:44, 6246.93it/s]\n",
      "277183it [00:44, 6226.09it/s]\n",
      "277336it [00:44, 6208.89it/s]\n",
      "277440it [00:44, 6197.04it/s]\n",
      "277544it [00:44, 6179.07it/s]\n",
      "277641it [00:45, 6167.33it/s]\n",
      "277793it [00:45, 6151.92it/s]\n",
      "277935it [00:45, 6141.51it/s]\n",
      "278047it [00:45, 6117.88it/s]\n",
      "278149it [00:45, 6105.01it/s]\n",
      "278250it [00:45, 6088.86it/s]\n",
      "278390it [00:45, 6078.65it/s]\n",
      "278494it [00:45, 6065.10it/s]\n",
      "278606it [00:46, 6045.91it/s]\n",
      "278809it [00:46, 6036.90it/s]\n",
      "279002it [00:46, 6027.98it/s]\n",
      "279165it [00:46, 6017.24it/s]\n",
      "279372it [00:46, 6008.78it/s]\n",
      "279633it [00:46, 6001.54it/s]\n",
      "280649it [00:46, 6010.38it/s]\n",
      "281858it [00:46, 6023.36it/s]\n",
      "282596it [00:46, 6026.22it/s]\n",
      "283488it [00:46, 6032.49it/s]\n",
      "284871it [00:47, 6047.08it/s]\n",
      "286521it [00:47, 6067.47it/s]\n",
      "287962it [00:47, 6083.12it/s]\n",
      "289075it [00:47, 6089.27it/s]\n",
      "290318it [00:47, 6102.60it/s]\n",
      "291665it [00:47, 6117.89it/s]\n",
      "292885it [00:47, 6130.59it/s]\n",
      "294254it [00:47, 6146.40it/s]\n",
      "295489it [00:48, 6112.19it/s]\n",
      "296561it [00:48, 6121.67it/s]\n",
      "297542it [00:48, 6121.79it/s]\n",
      "298882it [00:48, 6136.83it/s]\n",
      "300215it [00:48, 6151.41it/s]\n",
      "301322it [00:48, 6157.33it/s]\n",
      "302349it [00:49, 6163.95it/s]\n",
      "303338it [00:49, 6169.70it/s]\n",
      "304693it [00:49, 6184.02it/s]\n",
      "305740it [00:49, 6178.80it/s]\n",
      "306906it [00:49, 6189.84it/s]\n",
      "308101it [00:49, 6201.18it/s]\n",
      "309713it [00:49, 6218.76it/s]\n",
      "310850it [00:50, 6188.76it/s]\n",
      "311726it [00:50, 6190.68it/s]\n",
      "312720it [00:50, 6196.17it/s]\n",
      "313552it [00:50, 6200.34it/s]\n",
      "314387it [00:50, 6204.67it/s]\n",
      "315219it [00:50, 6207.46it/s]\n",
      "316026it [00:50, 6205.34it/s]\n",
      "316771it [00:51, 6207.74it/s]\n",
      "317505it [00:51, 6207.11it/s]\n",
      "318196it [00:51, 6181.12it/s]\n",
      "318743it [00:51, 6161.25it/s]\n",
      "319191it [00:52, 6132.54it/s]\n",
      "319547it [00:52, 6116.11it/s]\n",
      "319850it [00:52, 6105.41it/s]\n",
      "320184it [00:52, 6096.79it/s]\n",
      "320455it [00:53, 6041.76it/s]\n",
      "320661it [00:53, 6031.00it/s]\n",
      "320853it [00:53, 6016.32it/s]\n",
      "321049it [00:54, 5923.80it/s]\n",
      "321253it [00:54, 5918.20it/s]\n",
      "322116it [00:54, 5923.05it/s]\n",
      "322476it [00:54, 5915.30it/s]\n",
      "322811it [00:55, 5842.31it/s]\n",
      "323059it [00:55, 5831.17it/s]\n",
      "323283it [00:55, 5794.86it/s]\n",
      "323489it [00:56, 5727.68it/s]\n",
      "323642it [00:56, 5708.81it/s]\n",
      "324257it [00:56, 5709.61it/s]\n",
      "324520it [00:57, 5669.25it/s]\n",
      "324722it [00:57, 5661.84it/s]\n",
      "325167it [00:57, 5659.39it/s]\n",
      "325433it [00:57, 5641.81it/s]\n",
      "325777it [00:57, 5635.06it/s]\n",
      "326012it [00:57, 5621.22it/s]\n",
      "326416it [00:58, 5618.53it/s]\n",
      "326947it [00:58, 5617.35it/s]\n",
      "327282it [00:58, 5566.43it/s]\n",
      "327843it [00:58, 5566.42it/s]\n",
      "328427it [00:58, 5566.90it/s]\n",
      "328841it [00:59, 5492.91it/s]\n",
      "329337it [00:59, 5490.13it/s]\n",
      "329674it [01:00, 5429.60it/s]\n",
      "330049it [01:00, 5426.29it/s]\n",
      "330330it [01:01, 5384.90it/s]\n",
      "330543it [01:01, 5370.83it/s]\n",
      "330724it [01:01, 5363.90it/s]\n",
      "330964it [01:01, 5358.55it/s]\n",
      "331270it [01:02, 5313.18it/s]\n",
      "331422it [01:02, 5307.01it/s]\n",
      "331642it [01:02, 5301.96it/s]\n",
      "331843it [01:02, 5296.60it/s]\n",
      "332134it [01:02, 5289.85it/s]\n",
      "332324it [01:02, 5280.97it/s]\n",
      "332497it [01:03, 5267.68it/s]\n",
      "332646it [01:03, 5256.95it/s]\n",
      "332795it [01:03, 5248.06it/s]\n",
      "332921it [01:03, 5228.57it/s]\n",
      "333049it [01:03, 5221.43it/s]\n",
      "333354it [01:03, 5216.68it/s]\n",
      "333559it [01:04, 5211.76it/s]\n",
      "333761it [01:04, 5204.30it/s]\n",
      "333926it [01:04, 5196.42it/s]\n",
      "334080it [01:04, 5185.16it/s]\n",
      "334320it [01:04, 5176.96it/s]\n",
      "334464it [01:04, 5170.32it/s]\n",
      "334625it [01:04, 5164.45it/s]\n",
      "334778it [01:04, 5156.86it/s]\n",
      "334916it [01:05, 5149.52it/s]\n",
      "335082it [01:05, 5143.62it/s]\n",
      "335947it [01:05, 5148.94it/s]\n",
      "336760it [01:05, 5153.48it/s]\n",
      "337252it [01:05, 5148.55it/s]\n",
      "337689it [01:05, 5132.75it/s]\n",
      "338041it [01:05, 5124.48it/s]\n",
      "338354it [01:06, 5122.32it/s]\n",
      "338663it [01:06, 5107.68it/s]\n",
      "339131it [01:06, 5107.02it/s]\n",
      "340574it [01:06, 5120.03it/s]\n",
      "342145it [01:06, 5135.83it/s]\n",
      "343675it [01:06, 5151.06it/s]\n",
      "344759it [01:06, 5159.34it/s]\n",
      "345837it [01:06, 5167.55it/s]\n",
      "347031it [01:07, 5177.55it/s]\n",
      "348131it [01:07, 5184.66it/s]\n",
      "349547it [01:07, 5196.38it/s]\n",
      "350828it [01:07, 5207.54it/s]\n",
      "352575it [01:07, 5224.52it/s]\n",
      "353822it [01:07, 5234.00it/s]\n",
      "355343it [01:07, 5248.66it/s]\n",
      "357000it [01:07, 5264.16it/s]\n",
      "358333it [01:07, 5271.10it/s]\n",
      "359511it [01:08, 5280.18it/s]\n",
      "360715it [01:08, 5288.94it/s]\n",
      "361840it [01:08, 5297.51it/s]\n",
      "362958it [01:08, 5305.01it/s]\n",
      "364043it [01:08, 5313.04it/s]\n",
      "365897it [01:08, 5331.13it/s]\n",
      "367318it [01:08, 5344.04it/s]\n",
      "368932it [01:08, 5359.61it/s]\n",
      "370314it [01:08, 5370.71it/s]\n",
      "371642it [01:09, 5382.09it/s]\n",
      "372966it [01:09, 5391.07it/s]\n",
      "374197it [01:09, 5400.88it/s]\n",
      "375853it [01:09, 5415.80it/s]\n",
      "377292it [01:09, 5428.62it/s]\n",
      "378785it [01:09, 5442.14it/s]\n",
      "380160it [01:09, 5452.39it/s]\n",
      "381463it [01:09, 5462.42it/s]\n",
      "382888it [01:09, 5473.78it/s]\n",
      "384143it [01:10, 5481.28it/s]\n",
      "385304it [01:10, 5488.54it/s]\n",
      "386412it [01:10, 5492.88it/s]\n",
      "387414it [01:10, 5499.00it/s]\n",
      "388637it [01:10, 5507.48it/s]\n",
      "389952it [01:10, 5518.24it/s]\n",
      "391204it [01:10, 5527.93it/s]\n",
      "392342it [01:10, 5535.11it/s]\n",
      "393793it [01:10, 5547.72it/s]\n",
      "395587it [01:11, 5563.96it/s]\n",
      "397157it [01:11, 5578.18it/s]\n",
      "398543it [01:11, 5589.74it/s]\n",
      "399926it [01:11, 5598.83it/s]\n",
      "401304it [01:11, 5610.01it/s]\n",
      "402780it [01:11, 5622.78it/s]\n",
      "404132it [01:11, 5621.75it/s]\n",
      "405239it [01:12, 5615.11it/s]\n",
      "406132it [01:12, 5599.21it/s]\n",
      "406830it [01:12, 5574.82it/s]\n",
      "407366it [01:13, 5535.05it/s]\n",
      "407767it [01:13, 5525.86it/s]\n",
      "408110it [01:14, 5510.38it/s]\n",
      "408388it [01:14, 5499.22it/s]\n",
      "408628it [01:14, 5486.30it/s]\n",
      "409413it [01:14, 5488.42it/s]\n",
      "410184it [01:14, 5486.11it/s]\n",
      "410561it [01:15, 5463.72it/s]\n",
      "410855it [01:15, 5450.63it/s]\n",
      "411101it [01:16, 5404.98it/s]\n",
      "411303it [01:16, 5398.02it/s]\n",
      "412110it [01:16, 5401.50it/s]\n",
      "412473it [01:16, 5397.13it/s]\n",
      "412811it [01:16, 5382.14it/s]\n",
      "413085it [01:17, 5356.22it/s]\n",
      "413296it [01:17, 5350.28it/s]\n",
      "413644it [01:17, 5343.67it/s]\n",
      "413848it [01:17, 5313.52it/s]\n",
      "414004it [01:18, 5300.33it/s]\n",
      "414356it [01:18, 5297.70it/s]\n",
      "414661it [01:18, 5289.94it/s]\n",
      "414852it [01:18, 5268.66it/s]\n",
      "415002it [01:18, 5254.49it/s]\n",
      "415125it [01:19, 5245.98it/s]\n",
      "415424it [01:19, 5241.45it/s]\n",
      "415780it [01:19, 5236.57it/s]\n",
      "415968it [01:19, 5227.68it/s]\n",
      "416130it [01:19, 5222.99it/s]\n",
      "416291it [01:21, 5137.56it/s]\n",
      "416646it [01:21, 5134.99it/s]\n",
      "417203it [01:21, 5135.45it/s]\n",
      "417495it [01:21, 5102.69it/s]\n",
      "417715it [01:21, 5095.98it/s]\n",
      "417917it [01:22, 5085.16it/s]\n",
      "418084it [01:22, 5057.92it/s]\n",
      "418257it [01:22, 5053.92it/s]\n",
      "418398it [01:23, 5033.99it/s]\n",
      "418528it [01:23, 4992.81it/s]\n",
      "418611it [01:24, 4971.79it/s]\n",
      "418986it [01:24, 4962.46it/s]\n",
      "419327it [01:24, 4960.79it/s]\n",
      "419495it [01:24, 4948.66it/s]\n",
      "419749it [01:25, 4937.88it/s]\n",
      "419879it [01:25, 4933.36it/s]\n",
      "420309it [01:25, 4932.83it/s]\n",
      "420716it [01:25, 4931.74it/s]\n",
      "420990it [01:25, 4904.02it/s]\n",
      "421225it [01:25, 4899.65it/s]\n",
      "421428it [01:26, 4894.69it/s]\n",
      "421617it [01:26, 4890.83it/s]\n",
      "421835it [01:26, 4885.94it/s]\n",
      "422038it [01:26, 4871.57it/s]\n",
      "422191it [01:26, 4866.33it/s]\n",
      "422327it [01:26, 4862.08it/s]\n",
      "422462it [01:27, 4855.19it/s]\n",
      "422649it [01:27, 4851.38it/s]\n",
      "422802it [01:27, 4846.19it/s]\n",
      "423005it [01:27, 4842.44it/s]\n",
      "423158it [01:27, 4836.70it/s]\n",
      "423311it [01:27, 4830.87it/s]\n",
      "423445it [01:27, 4827.07it/s]\n",
      "423574it [01:27, 4821.76it/s]\n",
      "423718it [01:27, 4817.72it/s]\n",
      "423850it [01:28, 4813.00it/s]\n",
      "423974it [01:28, 4804.81it/s]\n",
      "424125it [01:28, 4800.52it/s]\n",
      "424278it [01:28, 4792.23it/s]\n",
      "424431it [01:28, 4787.73it/s]\n",
      "424685it [01:28, 4784.28it/s]\n",
      "424838it [01:28, 4779.79it/s]\n",
      "424979it [01:28, 4775.79it/s]\n",
      "425118it [01:29, 4770.40it/s]\n",
      "425248it [01:29, 4761.18it/s]\n",
      "425359it [01:29, 4754.69it/s]\n",
      "425459it [01:29, 4749.71it/s]\n",
      "425556it [01:29, 4744.72it/s]\n",
      "425652it [01:29, 4740.50it/s]\n",
      "425754it [01:29, 4733.29it/s]\n",
      "425855it [01:30, 4728.58it/s]\n",
      "425957it [01:30, 4720.75it/s]\n",
      "426059it [01:30, 4716.22it/s]\n",
      "426161it [01:30, 4710.43it/s]\n",
      "426243it [01:30, 4705.17it/s]\n",
      "426321it [01:30, 4698.67it/s]\n",
      "426415it [01:30, 4692.82it/s]\n",
      "426568it [01:30, 4688.24it/s]\n",
      "426720it [01:31, 4683.47it/s]\n",
      "426924it [01:31, 4680.05it/s]\n",
      "427077it [01:31, 4674.94it/s]\n",
      "427199it [01:31, 4670.37it/s]\n",
      "427331it [01:31, 4664.80it/s]\n",
      "427442it [01:31, 4658.90it/s]\n",
      "427586it [01:31, 4654.58it/s]\n",
      "427738it [01:31, 4650.35it/s]\n",
      "427933it [01:32, 4646.93it/s]\n",
      "428146it [01:32, 4639.77it/s]\n",
      "428349it [01:32, 4634.56it/s]\n",
      "428502it [01:32, 4630.18it/s]\n",
      "428705it [01:32, 4625.01it/s]\n",
      "428838it [01:32, 4620.61it/s]\n",
      "429113it [01:32, 4618.25it/s]\n",
      "429316it [01:33, 4614.47it/s]\n",
      "429571it [01:33, 4609.31it/s]\n",
      "429736it [01:33, 4604.60it/s]\n",
      "429889it [01:33, 4599.43it/s]\n",
      "430030it [01:33, 4593.52it/s]\n",
      "430157it [01:33, 4589.27it/s]\n",
      "430385it [01:33, 4586.05it/s]\n",
      "430589it [01:33, 4582.15it/s]\n",
      "430793it [01:34, 4578.78it/s]\n",
      "430952it [01:34, 4570.57it/s]\n",
      "431200it [01:34, 4566.62it/s]\n",
      "431377it [01:34, 4563.06it/s]\n",
      "431548it [01:34, 4559.91it/s]\n",
      "431704it [01:34, 4555.58it/s]\n",
      "431851it [01:34, 4551.41it/s]\n",
      "432014it [01:35, 4546.15it/s]\n",
      "432167it [01:35, 4542.96it/s]\n",
      "432306it [01:35, 4539.47it/s]\n",
      "432443it [01:35, 4529.64it/s]\n",
      "432556it [01:35, 4525.32it/s]\n",
      "432665it [01:35, 4521.23it/s]\n",
      "432829it [01:35, 4515.81it/s]\n",
      "432982it [01:35, 4511.07it/s]\n",
      "433091it [01:36, 4507.30it/s]\n",
      "433236it [01:36, 4503.64it/s]\n",
      "433376it [01:36, 4500.37it/s]\n",
      "433498it [01:36, 4495.77it/s]\n",
      "433617it [01:36, 4491.18it/s]\n",
      "433847it [01:36, 4488.91it/s]\n",
      "434053it [01:36, 4486.12it/s]\n",
      "434216it [01:36, 4482.95it/s]\n",
      "434375it [01:36, 4478.66it/s]\n",
      "434524it [01:37, 4474.97it/s]\n",
      "434712it [01:37, 4472.10it/s]\n",
      "434866it [01:37, 4467.72it/s]\n",
      "435009it [01:37, 4464.23it/s]\n",
      "435221it [01:37, 4460.72it/s]\n",
      "435425it [01:37, 4457.08it/s]\n",
      "435579it [01:37, 4453.37it/s]\n",
      "435832it [01:37, 4448.18it/s]\n",
      "436035it [01:38, 4443.96it/s]\n",
      "436188it [01:38, 4440.93it/s]\n",
      "436392it [01:38, 4437.86it/s]\n",
      "436548it [01:38, 4433.14it/s]\n",
      "436691it [01:38, 4429.88it/s]\n",
      "436832it [01:38, 4425.74it/s]\n",
      "436965it [01:38, 4420.08it/s]\n",
      "437084it [01:38, 4415.76it/s]\n",
      "437196it [01:39, 4412.24it/s]\n",
      "437307it [01:39, 4408.06it/s]\n",
      "437413it [01:39, 4403.51it/s]\n",
      "437512it [01:39, 4399.04it/s]\n",
      "437664it [01:39, 4395.91it/s]\n",
      "437969it [01:39, 4393.85it/s]\n",
      "438224it [01:39, 4391.83it/s]\n",
      "438406it [01:39, 4387.84it/s]\n",
      "438575it [01:40, 4382.04it/s]\n",
      "438723it [01:40, 4376.71it/s]\n",
      "438855it [01:40, 4370.27it/s]\n",
      "439157it [01:40, 4368.84it/s]\n",
      "440924it [01:40, 4381.66it/s]\n",
      "442703it [01:40, 4394.50it/s]\n",
      "444078it [01:40, 4403.73it/s]\n",
      "445270it [01:40, 4411.17it/s]\n",
      "446359it [01:41, 4417.57it/s]\n",
      "447447it [01:41, 4423.82it/s]\n",
      "449086it [01:41, 4435.35it/s]\n",
      "450589it [01:41, 4445.71it/s]\n",
      "452255it [01:41, 4457.13it/s]\n",
      "453596it [01:42, 4441.58it/s]\n",
      "454596it [01:42, 4429.67it/s]\n",
      "455358it [01:42, 4429.32it/s]\n",
      "456237it [01:42, 4433.43it/s]\n",
      "457965it [01:43, 4445.47it/s]\n",
      "459490it [01:43, 4455.55it/s]\n",
      "461194it [01:43, 4467.32it/s]\n",
      "462673it [01:43, 4476.95it/s]\n",
      "464289it [01:43, 4487.79it/s]\n",
      "465959it [01:43, 4499.18it/s]\n",
      "467477it [01:43, 4509.08it/s]\n",
      "469266it [01:43, 4521.52it/s]\n",
      "470726it [01:43, 4530.77it/s]\n",
      "472144it [01:44, 4539.84it/s]\n",
      "473543it [01:44, 4548.57it/s]\n",
      "474911it [01:44, 4555.55it/s]\n",
      "476274it [01:44, 4563.78it/s]\n",
      "478018it [01:44, 4575.65it/s]\n",
      "479626it [01:44, 4586.28it/s]\n",
      "481359it [01:44, 4598.04it/s]\n",
      "482804it [01:44, 4607.03it/s]\n",
      "484213it [01:44, 4616.07it/s]\n",
      "485622it [01:45, 4624.60it/s]\n",
      "486989it [01:45, 4633.18it/s]\n",
      "488353it [01:45, 4640.57it/s]\n",
      "489776it [01:45, 4649.09it/s]\n",
      "491318it [01:45, 4658.69it/s]\n",
      "492615it [01:45, 4666.19it/s]\n",
      "494348it [01:45, 4677.60it/s]\n",
      "496155it [01:45, 4689.84it/s]\n",
      "497860it [01:45, 4701.12it/s]\n",
      "499337it [01:46, 4708.81it/s]\n",
      "500746it [01:46, 4717.20it/s]\n",
      "502075it [01:46, 4725.21it/s]\n",
      "503422it [01:46, 4733.29it/s]\n",
      "504740it [01:46, 4725.48it/s]\n",
      "505750it [01:47, 4696.81it/s]\n",
      "506492it [01:48, 4673.29it/s]\n",
      "507043it [01:48, 4663.04it/s]\n",
      "507475it [01:49, 4645.13it/s]\n",
      "507803it [01:49, 4639.94it/s]\n",
      "508083it [01:49, 4631.94it/s]\n",
      "508313it [01:49, 4624.66it/s]\n",
      "508505it [01:50, 4621.98it/s]\n",
      "508694it [01:50, 4619.03it/s]\n",
      "508878it [01:50, 4615.77it/s]\n",
      "509061it [01:50, 4610.17it/s]\n",
      "509218it [01:50, 4606.15it/s]\n",
      "509369it [01:50, 4603.88it/s]\n",
      "509519it [01:50, 4598.70it/s]\n",
      "509653it [01:50, 4592.93it/s]\n",
      "509907it [01:51, 4588.72it/s]\n",
      "510111it [01:51, 4586.08it/s]\n",
      "510259it [01:51, 4582.22it/s]\n",
      "510398it [01:51, 4579.02it/s]\n",
      "510569it [01:51, 4576.22it/s]\n",
      "510722it [01:51, 4572.49it/s]\n",
      "510875it [01:51, 4569.75it/s]\n",
      "511079it [01:52, 4561.13it/s]\n",
      "511231it [01:52, 4557.88it/s]\n",
      "511384it [01:52, 4550.99it/s]\n",
      "511495it [01:53, 4523.60it/s]\n",
      "511690it [01:53, 4517.43it/s]\n",
      "511842it [01:53, 4510.10it/s]\n",
      "511924it [01:54, 4485.84it/s]\n",
      "512301it [01:54, 4482.82it/s]\n",
      "512454it [01:54, 4470.23it/s]\n",
      "512547it [01:55, 4447.40it/s]\n",
      "512617it [01:55, 4424.75it/s]\n",
      "512669it [01:55, 4420.94it/s]\n",
      "512861it [01:56, 4417.76it/s]\n",
      "513065it [01:56, 4399.22it/s]\n",
      "513217it [01:57, 4380.77it/s]\n",
      "513274it [01:57, 4354.23it/s]\n",
      "513319it [01:58, 4332.15it/s]\n",
      "513503it [01:58, 4329.83it/s]\n",
      "513578it [01:58, 4320.67it/s]\n",
      "513778it [01:58, 4318.63it/s]\n",
      "513982it [01:59, 4315.01it/s]\n",
      "514095it [01:59, 4312.07it/s]\n",
      "514206it [01:59, 4307.35it/s]\n",
      "514389it [01:59, 4304.16it/s]\n",
      "514592it [01:59, 4300.97it/s]\n",
      "514715it [01:59, 4296.56it/s]\n",
      "514847it [02:00, 4289.50it/s]\n",
      "515000it [02:00, 4287.13it/s]\n",
      "515255it [02:00, 4284.59it/s]\n",
      "515459it [02:00, 4281.83it/s]\n",
      "515604it [02:00, 4274.24it/s]\n",
      "515723it [02:00, 4269.91it/s]\n",
      "515968it [02:00, 4267.42it/s]\n",
      "516121it [02:01, 4261.22it/s]\n",
      "516261it [02:01, 4258.71it/s]\n",
      "516382it [02:01, 4255.20it/s]\n",
      "516506it [02:01, 4252.64it/s]\n",
      "516630it [02:01, 4249.80it/s]\n",
      "516783it [02:01, 4246.57it/s]\n",
      "516936it [02:01, 4240.95it/s]\n",
      "517041it [02:02, 4230.77it/s]\n",
      "517140it [02:02, 4224.91it/s]\n",
      "517214it [02:02, 4221.43it/s]\n",
      "517285it [02:02, 4218.21it/s]\n",
      "517354it [02:02, 4209.93it/s]\n",
      "517410it [02:03, 4206.09it/s]\n",
      "517496it [02:03, 4202.30it/s]\n",
      "517553it [02:03, 4189.39it/s]\n",
      "517649it [02:03, 4186.89it/s]\n",
      "517852it [02:03, 4184.78it/s]\n",
      "518056it [02:03, 4182.58it/s]\n",
      "518176it [02:04, 4176.45it/s]\n",
      "518437it [02:04, 4175.05it/s]\n",
      "518583it [02:04, 4169.39it/s]\n",
      "518769it [02:04, 4162.99it/s]\n",
      "518972it [02:04, 4161.17it/s]\n",
      "519176it [02:04, 4158.21it/s]\n",
      "519380it [02:04, 4155.60it/s]\n",
      "519533it [02:05, 4150.23it/s]\n",
      "519685it [02:05, 4147.81it/s]\n",
      "519815it [02:05, 4142.65it/s]\n",
      "519991it [02:05, 4138.90it/s]\n",
      "520103it [02:05, 4133.62it/s]\n",
      "520347it [02:05, 4131.97it/s]\n",
      "520482it [02:06, 4122.30it/s]\n",
      "520589it [02:06, 4113.98it/s]\n",
      "520676it [02:06, 4107.53it/s]\n",
      "520748it [02:06, 4101.53it/s]\n",
      "520847it [02:07, 4098.78it/s]\n",
      "521010it [02:07, 4092.00it/s]\n",
      "521213it [02:07, 4087.08it/s]\n",
      "521291it [02:07, 4083.86it/s]\n",
      "521483it [02:07, 4082.15it/s]\n",
      "521593it [02:07, 4077.07it/s]\n",
      "521688it [02:08, 4072.14it/s]\n",
      "521875it [02:08, 4070.17it/s]\n",
      "522079it [02:08, 4068.42it/s]\n",
      "522232it [02:08, 4065.61it/s]\n",
      "522363it [02:08, 4057.58it/s]\n",
      "522469it [02:08, 4052.85it/s]\n",
      "522561it [02:09, 4046.20it/s]\n",
      "522639it [02:09, 4043.39it/s]\n",
      "522894it [02:09, 4041.73it/s]\n",
      "523012it [02:09, 4037.58it/s]\n",
      "523149it [02:09, 4035.25it/s]\n",
      "523352it [02:09, 4032.90it/s]\n",
      "523607it [02:09, 4029.82it/s]\n",
      "523811it [02:10, 4028.20it/s]\n",
      "524014it [02:10, 4026.51it/s]\n",
      "524180it [02:10, 4024.48it/s]\n",
      "524371it [02:10, 4022.16it/s]\n",
      "524575it [02:10, 4019.87it/s]\n",
      "524737it [02:10, 4013.79it/s]\n",
      "524931it [02:10, 4012.09it/s]\n",
      "525084it [02:11, 4006.71it/s]\n",
      "525237it [02:11, 3997.92it/s]\n",
      "525390it [02:11, 3994.63it/s]\n",
      "525645it [02:11, 3991.35it/s]\n",
      "525836it [02:11, 3989.78it/s]\n",
      "525975it [02:11, 3987.43it/s]\n",
      "526139it [02:12, 3985.68it/s]\n",
      "526282it [02:12, 3978.71it/s]\n",
      "526460it [02:12, 3976.28it/s]\n",
      "526664it [02:12, 3974.69it/s]\n",
      "526817it [02:12, 3972.45it/s]\n",
      "527071it [02:12, 3970.52it/s]\n",
      "527326it [02:12, 3968.97it/s]\n",
      "527579it [02:12, 3967.90it/s]"
     ]
    }
   ],
   "source": [
    "# load the GloVe vectors in a dictionary:\n",
    "\n",
    "embeddings_index = {}\n",
    "f = open('glove.840B.300d.txt')\n",
    "for line in tqdm(f):\n",
    "    values = line.split()\n",
    "    word = values[0]\n",
    "    coefs = np.asarray(values[1:], dtype='float32')\n",
    "    embeddings_index[word] = coefs\n",
    "f.close()\n",
    "\n",
    "print('Found %s word vectors.' % len(embeddings_index))"
   ]
  },
  {
   "cell_type": "code",
   "execution_count": null,
   "metadata": {
    "collapsed": true
   },
   "outputs": [],
   "source": [
    "# this function creates a normalized vector for the whole sentence\n",
    "def sent2vec(s):\n",
    "    words = str(s).lower().decode('utf-8')\n",
    "    words = word_tokenize(words)\n",
    "    words = [w for w in words if not w in stop_words]\n",
    "    words = [w for w in words if w.isalpha()]\n",
    "    M = []\n",
    "    for w in words:\n",
    "        try:\n",
    "            M.append(embeddings_index[w])\n",
    "        except:\n",
    "            continue\n",
    "    M = np.array(M)\n",
    "    v = M.sum(axis=0)\n",
    "    if type(v) != np.ndarray:\n",
    "        return np.zeros(300)\n",
    "    return v / np.sqrt((v ** 2).sum())"
   ]
  },
  {
   "cell_type": "code",
   "execution_count": null,
   "metadata": {
    "collapsed": true
   },
   "outputs": [],
   "source": [
    "# create sentence vectors using the above function for training and validation set\n",
    "xtrain_glove = [sent2vec(x) for x in tqdm(xtrain)]\n",
    "xvalid_glove = [sent2vec(x) for x in tqdm(xvalid)]"
   ]
  },
  {
   "cell_type": "markdown",
   "metadata": {},
   "source": [
    "Let's see the performance of xgboost on glove features:"
   ]
  },
  {
   "cell_type": "code",
   "execution_count": null,
   "metadata": {
    "collapsed": true
   },
   "outputs": [],
   "source": [
    "# Fitting a simple xgboost on glove features\n",
    "clf = xgb.XGBClassifier(nthread=10, silent=False)\n",
    "clf.fit(xtrain_glove, ytrain)\n",
    "predictions = clf.predict_proba(xvalid_glove)\n",
    "\n",
    "print (\"logloss: %0.3f \" % multiclass_logloss(yvalid, predictions))"
   ]
  },
  {
   "cell_type": "code",
   "execution_count": null,
   "metadata": {
    "collapsed": true
   },
   "outputs": [],
   "source": [
    "# Fitting a simple xgboost on glove features\n",
    "clf = xgb.XGBClassifier(max_depth=7, n_estimators=200, colsample_bytree=0.8, \n",
    "                        subsample=0.8, nthread=10, learning_rate=0.1, silent=False)\n",
    "clf.fit(xtrain_glove, ytrain)\n",
    "predictions = clf.predict_proba(xvalid_glove)\n",
    "\n",
    "print (\"logloss: %0.3f \" % multiclass_logloss(yvalid, predictions))"
   ]
  },
  {
   "cell_type": "markdown",
   "metadata": {},
   "source": [
    "we see that a simple tuning of parameters can improve xgboost score on GloVe features! Believe me you can squeeze a lot more from it.\n",
    "\n",
    "## Deep Learning\n",
    "\n",
    "But this is an era of deep learning! We cant live without training a few neural networks. Here, we will train LSTM and a simple dense network on the GloVe features. Let's start with the dense network first:"
   ]
  },
  {
   "cell_type": "code",
   "execution_count": null,
   "metadata": {
    "collapsed": true
   },
   "outputs": [],
   "source": [
    "# scale the data before any neural net:\n",
    "scl = preprocessing.StandardScaler()\n",
    "xtrain_glove_scl = scl.fit_transform(xtrain_glove)\n",
    "xvalid_glove_scl = scl.transform(xvalid_glove)"
   ]
  },
  {
   "cell_type": "code",
   "execution_count": null,
   "metadata": {
    "collapsed": true
   },
   "outputs": [],
   "source": [
    "# we need to binarize the labels for the neural net\n",
    "ytrain_enc = np_utils.to_categorical(ytrain)\n",
    "yvalid_enc = np_utils.to_categorical(yvalid)"
   ]
  },
  {
   "cell_type": "code",
   "execution_count": null,
   "metadata": {
    "collapsed": true
   },
   "outputs": [],
   "source": [
    "# create a simple 3 layer sequential neural net\n",
    "model = Sequential()\n",
    "\n",
    "model.add(Dense(300, input_dim=300, activation='relu'))\n",
    "model.add(Dropout(0.2))\n",
    "model.add(BatchNormalization())\n",
    "\n",
    "model.add(Dense(300, activation='relu'))\n",
    "model.add(Dropout(0.3))\n",
    "model.add(BatchNormalization())\n",
    "\n",
    "model.add(Dense(3))\n",
    "model.add(Activation('softmax'))\n",
    "\n",
    "# compile the model\n",
    "model.compile(loss='categorical_crossentropy', optimizer='adam')"
   ]
  },
  {
   "cell_type": "code",
   "execution_count": null,
   "metadata": {
    "collapsed": true
   },
   "outputs": [],
   "source": [
    "model.fit(xtrain_glove_scl, y=ytrain_enc, batch_size=64, \n",
    "          epochs=5, verbose=1, \n",
    "          validation_data=(xvalid_glove_scl, yvalid_enc))"
   ]
  },
  {
   "cell_type": "markdown",
   "metadata": {},
   "source": [
    "You need to keep on tuning the parameters of the neural network, add more layers, increase dropout to get better results. Here, I'm just showing that its fast to implement and run and gets better result than xgboost without any optimization :)\n",
    "\n",
    "To move further, i.e. with LSTMs we need to tokenize the text data"
   ]
  },
  {
   "cell_type": "code",
   "execution_count": null,
   "metadata": {
    "collapsed": true
   },
   "outputs": [],
   "source": [
    "# using keras tokenizer here\n",
    "token = text.Tokenizer(num_words=None)\n",
    "max_len = 70\n",
    "\n",
    "token.fit_on_texts(list(xtrain) + list(xvalid))\n",
    "xtrain_seq = token.texts_to_sequences(xtrain)\n",
    "xvalid_seq = token.texts_to_sequences(xvalid)\n",
    "\n",
    "# zero pad the sequences\n",
    "xtrain_pad = sequence.pad_sequences(xtrain_seq, maxlen=max_len)\n",
    "xvalid_pad = sequence.pad_sequences(xvalid_seq, maxlen=max_len)\n",
    "\n",
    "word_index = token.word_index"
   ]
  },
  {
   "cell_type": "code",
   "execution_count": null,
   "metadata": {
    "collapsed": true
   },
   "outputs": [],
   "source": [
    "# create an embedding matrix for the words we have in the dataset\n",
    "embedding_matrix = np.zeros((len(word_index) + 1, 300))\n",
    "for word, i in tqdm(word_index.items()):\n",
    "    embedding_vector = embeddings_index.get(word)\n",
    "    if embedding_vector is not None:\n",
    "        embedding_matrix[i] = embedding_vector"
   ]
  },
  {
   "cell_type": "code",
   "execution_count": null,
   "metadata": {
    "collapsed": true
   },
   "outputs": [],
   "source": [
    "# A simple LSTM with glove embeddings and two dense layers\n",
    "model = Sequential()\n",
    "model.add(Embedding(len(word_index) + 1,\n",
    "                     300,\n",
    "                     weights=[embedding_matrix],\n",
    "                     input_length=max_len,\n",
    "                     trainable=False))\n",
    "model.add(SpatialDropout1D(0.3))\n",
    "model.add(LSTM(100, dropout=0.3, recurrent_dropout=0.3))\n",
    "\n",
    "model.add(Dense(1024, activation='relu'))\n",
    "model.add(Dropout(0.8))\n",
    "\n",
    "model.add(Dense(1024, activation='relu'))\n",
    "model.add(Dropout(0.8))\n",
    "\n",
    "model.add(Dense(3))\n",
    "model.add(Activation('softmax'))\n",
    "model.compile(loss='categorical_crossentropy', optimizer='adam')"
   ]
  },
  {
   "cell_type": "code",
   "execution_count": null,
   "metadata": {
    "collapsed": true
   },
   "outputs": [],
   "source": [
    "model.fit(xtrain_pad, y=ytrain_enc, batch_size=512, epochs=100, verbose=1, validation_data=(xvalid_pad, yvalid_enc))"
   ]
  },
  {
   "cell_type": "markdown",
   "metadata": {},
   "source": [
    "We see that the score is now less than 0.5. I ran it for many epochs without stopping at the best but you can use early stopping to stop at the best iteration. How do I use early stopping?\n",
    "\n",
    "well, pretty easy. let's compile the model again:"
   ]
  },
  {
   "cell_type": "code",
   "execution_count": null,
   "metadata": {
    "collapsed": true
   },
   "outputs": [],
   "source": [
    "# A simple LSTM with glove embeddings and two dense layers\n",
    "model = Sequential()\n",
    "model.add(Embedding(len(word_index) + 1,\n",
    "                     300,\n",
    "                     weights=[embedding_matrix],\n",
    "                     input_length=max_len,\n",
    "                     trainable=False))\n",
    "model.add(SpatialDropout1D(0.3))\n",
    "model.add(LSTM(300, dropout=0.3, recurrent_dropout=0.3))\n",
    "\n",
    "model.add(Dense(1024, activation='relu'))\n",
    "model.add(Dropout(0.8))\n",
    "\n",
    "model.add(Dense(1024, activation='relu'))\n",
    "model.add(Dropout(0.8))\n",
    "\n",
    "model.add(Dense(3))\n",
    "model.add(Activation('softmax'))\n",
    "model.compile(loss='categorical_crossentropy', optimizer='adam')\n",
    "\n",
    "# Fit the model with early stopping callback\n",
    "earlystop = EarlyStopping(monitor='val_loss', min_delta=0, patience=3, verbose=0, mode='auto')\n",
    "model.fit(xtrain_pad, y=ytrain_enc, batch_size=512, epochs=100, \n",
    "          verbose=1, validation_data=(xvalid_pad, yvalid_enc), callbacks=[earlystop])"
   ]
  },
  {
   "cell_type": "markdown",
   "metadata": {},
   "source": [
    "One question could be: why do i use so much dropout? Well, fit the model with no or little dropout and you will that it starts to overfit :)\n",
    "\n",
    "Let's see if Bi-directional LSTM can give us better results. Its a piece of cake to do it with Keras :)"
   ]
  },
  {
   "cell_type": "code",
   "execution_count": null,
   "metadata": {
    "collapsed": true
   },
   "outputs": [],
   "source": [
    "# A simple bidirectional LSTM with glove embeddings and two dense layers\n",
    "model = Sequential()\n",
    "model.add(Embedding(len(word_index) + 1,\n",
    "                     300,\n",
    "                     weights=[embedding_matrix],\n",
    "                     input_length=max_len,\n",
    "                     trainable=False))\n",
    "model.add(SpatialDropout1D(0.3))\n",
    "model.add(Bidirectional(LSTM(300, dropout=0.3, recurrent_dropout=0.3)))\n",
    "\n",
    "model.add(Dense(1024, activation='relu'))\n",
    "model.add(Dropout(0.8))\n",
    "\n",
    "model.add(Dense(1024, activation='relu'))\n",
    "model.add(Dropout(0.8))\n",
    "\n",
    "model.add(Dense(3))\n",
    "model.add(Activation('softmax'))\n",
    "model.compile(loss='categorical_crossentropy', optimizer='adam')\n",
    "\n",
    "# Fit the model with early stopping callback\n",
    "earlystop = EarlyStopping(monitor='val_loss', min_delta=0, patience=3, verbose=0, mode='auto')\n",
    "model.fit(xtrain_pad, y=ytrain_enc, batch_size=512, epochs=100, \n",
    "          verbose=1, validation_data=(xvalid_pad, yvalid_enc), callbacks=[earlystop])"
   ]
  },
  {
   "cell_type": "markdown",
   "metadata": {},
   "source": [
    "Pretty close! Lets try two layers of GRU:"
   ]
  },
  {
   "cell_type": "code",
   "execution_count": null,
   "metadata": {
    "collapsed": true
   },
   "outputs": [],
   "source": [
    "# GRU with glove embeddings and two dense layers\n",
    "model = Sequential()\n",
    "model.add(Embedding(len(word_index) + 1,\n",
    "                     300,\n",
    "                     weights=[embedding_matrix],\n",
    "                     input_length=max_len,\n",
    "                     trainable=False))\n",
    "model.add(SpatialDropout1D(0.3))\n",
    "model.add(GRU(300, dropout=0.3, recurrent_dropout=0.3, return_sequences=True))\n",
    "model.add(GRU(300, dropout=0.3, recurrent_dropout=0.3))\n",
    "\n",
    "model.add(Dense(1024, activation='relu'))\n",
    "model.add(Dropout(0.8))\n",
    "\n",
    "model.add(Dense(1024, activation='relu'))\n",
    "model.add(Dropout(0.8))\n",
    "\n",
    "model.add(Dense(3))\n",
    "model.add(Activation('softmax'))\n",
    "model.compile(loss='categorical_crossentropy', optimizer='adam')\n",
    "\n",
    "# Fit the model with early stopping callback\n",
    "earlystop = EarlyStopping(monitor='val_loss', min_delta=0, patience=3, verbose=0, mode='auto')\n",
    "model.fit(xtrain_pad, y=ytrain_enc, batch_size=512, epochs=100, \n",
    "          verbose=1, validation_data=(xvalid_pad, yvalid_enc), callbacks=[earlystop])"
   ]
  },
  {
   "cell_type": "markdown",
   "metadata": {},
   "source": [
    "Nice! Much better than what we had previously! Keep optimizing and the performance will keep improving.\n",
    "Worth trying: stemming and lemmatization. This is something I'm skipping for now.\n",
    "\n",
    "In the Kaggle world, to get a top score you should have an ensemble of models. Let's check a little bit of ensembling!\n",
    "\n",
    "\n",
    "## Ensembling\n",
    "\n",
    "Few months back I made a simple ensembler but I didn't have time to develop it fully. It can be found here: https://github.com/abhishekkrthakur/pysembler . I'm going to use some part of it here:"
   ]
  },
  {
   "cell_type": "code",
   "execution_count": null,
   "metadata": {
    "collapsed": true
   },
   "outputs": [],
   "source": [
    "# this is the main ensembling class. how to use it is in the next cell!\n",
    "import numpy as np\n",
    "from sklearn.metrics import roc_auc_score\n",
    "from sklearn.preprocessing import LabelEncoder\n",
    "from sklearn.model_selection import StratifiedKFold, KFold\n",
    "import pandas as pd\n",
    "import os\n",
    "import sys\n",
    "import logging\n",
    "\n",
    "logging.basicConfig(\n",
    "    level=logging.DEBUG,\n",
    "    format=\"[%(asctime)s] %(levelname)s %(message)s\",\n",
    "    datefmt=\"%H:%M:%S\", stream=sys.stdout)\n",
    "logger = logging.getLogger(__name__)\n",
    "\n",
    "\n",
    "class Ensembler(object):\n",
    "    def __init__(self, model_dict, num_folds=3, task_type='classification', optimize=roc_auc_score,\n",
    "                 lower_is_better=False, save_path=None):\n",
    "        \"\"\"\n",
    "        Ensembler init function\n",
    "        :param model_dict: model dictionary, see README for its format\n",
    "        :param num_folds: the number of folds for ensembling\n",
    "        :param task_type: classification or regression\n",
    "        :param optimize: the function to optimize for, e.g. AUC, logloss, etc. Must have two arguments y_test and y_pred\n",
    "        :param lower_is_better: is lower value of optimization function better or higher\n",
    "        :param save_path: path to which model pickles will be dumped to along with generated predictions, or None\n",
    "        \"\"\"\n",
    "\n",
    "        self.model_dict = model_dict\n",
    "        self.levels = len(self.model_dict)\n",
    "        self.num_folds = num_folds\n",
    "        self.task_type = task_type\n",
    "        self.optimize = optimize\n",
    "        self.lower_is_better = lower_is_better\n",
    "        self.save_path = save_path\n",
    "\n",
    "        self.training_data = None\n",
    "        self.test_data = None\n",
    "        self.y = None\n",
    "        self.lbl_enc = None\n",
    "        self.y_enc = None\n",
    "        self.train_prediction_dict = None\n",
    "        self.test_prediction_dict = None\n",
    "        self.num_classes = None\n",
    "\n",
    "    def fit(self, training_data, y, lentrain):\n",
    "        \"\"\"\n",
    "        :param training_data: training data in tabular format\n",
    "        :param y: binary, multi-class or regression\n",
    "        :return: chain of models to be used in prediction\n",
    "        \"\"\"\n",
    "\n",
    "        self.training_data = training_data\n",
    "        self.y = y\n",
    "\n",
    "        if self.task_type == 'classification':\n",
    "            self.num_classes = len(np.unique(self.y))\n",
    "            logger.info(\"Found %d classes\", self.num_classes)\n",
    "            self.lbl_enc = LabelEncoder()\n",
    "            self.y_enc = self.lbl_enc.fit_transform(self.y)\n",
    "            kf = StratifiedKFold(n_splits=self.num_folds)\n",
    "            train_prediction_shape = (lentrain, self.num_classes)\n",
    "        else:\n",
    "            self.num_classes = -1\n",
    "            self.y_enc = self.y\n",
    "            kf = KFold(n_splits=self.num_folds)\n",
    "            train_prediction_shape = (lentrain, 1)\n",
    "\n",
    "        self.train_prediction_dict = {}\n",
    "        for level in range(self.levels):\n",
    "            self.train_prediction_dict[level] = np.zeros((train_prediction_shape[0],\n",
    "                                                          train_prediction_shape[1] * len(self.model_dict[level])))\n",
    "\n",
    "        for level in range(self.levels):\n",
    "\n",
    "            if level == 0:\n",
    "                temp_train = self.training_data\n",
    "            else:\n",
    "                temp_train = self.train_prediction_dict[level - 1]\n",
    "\n",
    "            for model_num, model in enumerate(self.model_dict[level]):\n",
    "                validation_scores = []\n",
    "                foldnum = 1\n",
    "                for train_index, valid_index in kf.split(self.train_prediction_dict[0], self.y_enc):\n",
    "                    logger.info(\"Training Level %d Fold # %d. Model # %d\", level, foldnum, model_num)\n",
    "\n",
    "                    if level != 0:\n",
    "                        l_training_data = temp_train[train_index]\n",
    "                        l_validation_data = temp_train[valid_index]\n",
    "                        model.fit(l_training_data, self.y_enc[train_index])\n",
    "                    else:\n",
    "                        l0_training_data = temp_train[0][model_num]\n",
    "                        if type(l0_training_data) == list:\n",
    "                            l_training_data = [x[train_index] for x in l0_training_data]\n",
    "                            l_validation_data = [x[valid_index] for x in l0_training_data]\n",
    "                        else:\n",
    "                            l_training_data = l0_training_data[train_index]\n",
    "                            l_validation_data = l0_training_data[valid_index]\n",
    "                        model.fit(l_training_data, self.y_enc[train_index])\n",
    "\n",
    "                    logger.info(\"Predicting Level %d. Fold # %d. Model # %d\", level, foldnum, model_num)\n",
    "\n",
    "                    if self.task_type == 'classification':\n",
    "                        temp_train_predictions = model.predict_proba(l_validation_data)\n",
    "                        self.train_prediction_dict[level][valid_index,\n",
    "                        (model_num * self.num_classes):(model_num * self.num_classes) +\n",
    "                                                       self.num_classes] = temp_train_predictions\n",
    "\n",
    "                    else:\n",
    "                        temp_train_predictions = model.predict(l_validation_data)\n",
    "                        self.train_prediction_dict[level][valid_index, model_num] = temp_train_predictions\n",
    "                    validation_score = self.optimize(self.y_enc[valid_index], temp_train_predictions)\n",
    "                    validation_scores.append(validation_score)\n",
    "                    logger.info(\"Level %d. Fold # %d. Model # %d. Validation Score = %f\", level, foldnum, model_num,\n",
    "                                validation_score)\n",
    "                    foldnum += 1\n",
    "                avg_score = np.mean(validation_scores)\n",
    "                std_score = np.std(validation_scores)\n",
    "                logger.info(\"Level %d. Model # %d. Mean Score = %f. Std Dev = %f\", level, model_num,\n",
    "                            avg_score, std_score)\n",
    "\n",
    "            logger.info(\"Saving predictions for level # %d\", level)\n",
    "            train_predictions_df = pd.DataFrame(self.train_prediction_dict[level])\n",
    "            train_predictions_df.to_csv(os.path.join(self.save_path, \"train_predictions_level_\" + str(level) + \".csv\"),\n",
    "                                        index=False, header=None)\n",
    "\n",
    "        return self.train_prediction_dict\n",
    "\n",
    "    def predict(self, test_data, lentest):\n",
    "        self.test_data = test_data\n",
    "        if self.task_type == 'classification':\n",
    "            test_prediction_shape = (lentest, self.num_classes)\n",
    "        else:\n",
    "            test_prediction_shape = (lentest, 1)\n",
    "\n",
    "        self.test_prediction_dict = {}\n",
    "        for level in range(self.levels):\n",
    "            self.test_prediction_dict[level] = np.zeros((test_prediction_shape[0],\n",
    "                                                         test_prediction_shape[1] * len(self.model_dict[level])))\n",
    "        self.test_data = test_data\n",
    "        for level in range(self.levels):\n",
    "            if level == 0:\n",
    "                temp_train = self.training_data\n",
    "                temp_test = self.test_data\n",
    "            else:\n",
    "                temp_train = self.train_prediction_dict[level - 1]\n",
    "                temp_test = self.test_prediction_dict[level - 1]\n",
    "\n",
    "            for model_num, model in enumerate(self.model_dict[level]):\n",
    "\n",
    "                logger.info(\"Training Fulldata Level %d. Model # %d\", level, model_num)\n",
    "                if level == 0:\n",
    "                    model.fit(temp_train[0][model_num], self.y_enc)\n",
    "                else:\n",
    "                    model.fit(temp_train, self.y_enc)\n",
    "\n",
    "                logger.info(\"Predicting Test Level %d. Model # %d\", level, model_num)\n",
    "\n",
    "                if self.task_type == 'classification':\n",
    "                    if level == 0:\n",
    "                        temp_test_predictions = model.predict_proba(temp_test[0][model_num])\n",
    "                    else:\n",
    "                        temp_test_predictions = model.predict_proba(temp_test)\n",
    "                    self.test_prediction_dict[level][:, (model_num * self.num_classes): (model_num * self.num_classes) +\n",
    "                                                                                        self.num_classes] = temp_test_predictions\n",
    "\n",
    "                else:\n",
    "                    if level == 0:\n",
    "                        temp_test_predictions = model.predict(temp_test[0][model_num])\n",
    "                    else:\n",
    "                        temp_test_predictions = model.predict(temp_test)\n",
    "                    self.test_prediction_dict[level][:, model_num] = temp_test_predictions\n",
    "\n",
    "            test_predictions_df = pd.DataFrame(self.test_prediction_dict[level])\n",
    "            test_predictions_df.to_csv(os.path.join(self.save_path, \"test_predictions_level_\" + str(level) + \".csv\"),\n",
    "                                       index=False, header=None)\n",
    "\n",
    "        return self.test_prediction_dict"
   ]
  },
  {
   "cell_type": "code",
   "execution_count": null,
   "metadata": {
    "collapsed": true
   },
   "outputs": [],
   "source": [
    "# specify the data to be used for every level of ensembling:\n",
    "train_data_dict = {0: [xtrain_tfv, xtrain_ctv, xtrain_tfv, xtrain_ctv], 1: [xtrain_glove]}\n",
    "test_data_dict = {0: [xvalid_tfv, xvalid_ctv, xvalid_tfv, xvalid_ctv], 1: [xvalid_glove]}\n",
    "\n",
    "model_dict = {0: [LogisticRegression(), LogisticRegression(), MultinomialNB(alpha=0.1), MultinomialNB()],\n",
    "\n",
    "              1: [xgb.XGBClassifier(silent=True, n_estimators=120, max_depth=7)]}\n",
    "\n",
    "ens = Ensembler(model_dict=model_dict, num_folds=3, task_type='classification',\n",
    "                optimize=multiclass_logloss, lower_is_better=True, save_path='')\n",
    "\n",
    "ens.fit(train_data_dict, ytrain, lentrain=xtrain_glove.shape[0])\n",
    "preds = ens.predict(test_data_dict, lentest=xvalid_glove.shape[0])"
   ]
  },
  {
   "cell_type": "code",
   "execution_count": null,
   "metadata": {
    "collapsed": true
   },
   "outputs": [],
   "source": [
    "# check error:\n",
    "multiclass_logloss(yvalid, preds[1])"
   ]
  },
  {
   "cell_type": "code",
   "execution_count": null,
   "metadata": {
    "collapsed": true
   },
   "outputs": [],
   "source": [
    "Thus, we see that ensembling improves the score by a great extent! Since this is supposed to be a tutorial only I wont be providing any CSVs that you can submit to the leaderboard.\n",
    "\n",
    "I hope you like it!\n",
    "\n",
    "P.S.: If the response is good, I'll add more stuff in this! :)"
   ]
  }
 ],
 "metadata": {
  "anaconda-cloud": {},
  "kernelspec": {
   "display_name": "Python [conda root]",
   "language": "python",
   "name": "conda-root-py"
  },
  "language_info": {
   "codemirror_mode": {
    "name": "ipython",
    "version": 3
   },
   "file_extension": ".py",
   "mimetype": "text/x-python",
   "name": "python",
   "nbconvert_exporter": "python",
   "pygments_lexer": "ipython3",
   "version": "3.5.1"
  }
 },
 "nbformat": 4,
 "nbformat_minor": 2
}
