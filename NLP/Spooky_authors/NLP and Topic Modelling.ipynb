{
 "cells": [
  {
   "cell_type": "markdown",
   "metadata": {},
   "source": [
    "Topic modelling is the process in which we try uncover abstract themes or \"topics\" based on the underlying documents and words in a corpus of text. I will introduce two standard topic modelling techniques here with the first technique known as Latent Dirichlet Allocation (LDA) and the second Non-negative Matrix Factorization (NMF). I will also take the opportunity to introduce some Natural Language Processing basics such as Tokenization, Stemming and vectorization of the raw text which should also hopefully come in handy when making predictions with learning models.\n",
    "\n",
    "The outline of this notebook is as follows:\n",
    "\n",
    "1. Exploratory Data Analysis (EDA) and Wordclouds - Analyzing the data by generating simple statistics such word frequencies over the different authors as well as plotting some wordclouds (with image masks).\n",
    "\n",
    "2. Natural Language Processing (NLP) with NLTK (Natural Language Toolkit) - Introducing basic text processing methods such as tokenizations, stop word removal, stemming and vectorizing text via term frequencies (TF) as well as the inverse document frequencies (TF-IDF)\n",
    "\n",
    "3. Topic Modelling with LDA and NNMF - Implementing the two topic modelling techniques of Latent Dirichlet Allocation (LDA) and Non-negative Matrix Factorization (NMF)."
   ]
  },
  {
   "cell_type": "code",
   "execution_count": 1,
   "metadata": {
    "collapsed": false
   },
   "outputs": [
    {
     "data": {
      "text/html": [
       "<script>requirejs.config({paths: { 'plotly': ['https://cdn.plot.ly/plotly-latest.min']},});if(!window.Plotly) {{require(['plotly'],function(plotly) {window.Plotly=plotly;});}}</script>"
      ],
      "text/vnd.plotly.v1+html": [
       "<script>requirejs.config({paths: { 'plotly': ['https://cdn.plot.ly/plotly-latest.min']},});if(!window.Plotly) {{require(['plotly'],function(plotly) {window.Plotly=plotly;});}}</script>"
      ]
     },
     "metadata": {},
     "output_type": "display_data"
    }
   ],
   "source": [
    "import base64\n",
    "import numpy as np\n",
    "import pandas as pd\n",
    "import plotly.offline as py\n",
    "py.init_notebook_mode(connected=True)\n",
    "import plotly.graph_objs as go\n",
    "import plotly.tools as tls\n",
    "from collections import Counter\n",
    "from scipy.misc import imread\n",
    "from sklearn.feature_extraction.text import TfidfVectorizer, CountVectorizer\n",
    "from sklearn.decomposition import NMF, LatentDirichletAllocation\n",
    "from matplotlib import pyplot as plt\n",
    "%matplotlib inline"
   ]
  },
  {
   "cell_type": "code",
   "execution_count": 2,
   "metadata": {
    "collapsed": false
   },
   "outputs": [],
   "source": [
    "# Loading in the training data with Pandas\n",
    "train = pd.read_csv(r\"C:\\Users\\piush\\Desktop\\Dataset\\spookyAuthor\\train.csv\")"
   ]
  },
  {
   "cell_type": "code",
   "execution_count": 3,
   "metadata": {
    "collapsed": false
   },
   "outputs": [
    {
     "data": {
      "text/html": [
       "<div>\n",
       "<table border=\"1\" class=\"dataframe\">\n",
       "  <thead>\n",
       "    <tr style=\"text-align: right;\">\n",
       "      <th></th>\n",
       "      <th>id</th>\n",
       "      <th>text</th>\n",
       "      <th>author</th>\n",
       "    </tr>\n",
       "  </thead>\n",
       "  <tbody>\n",
       "    <tr>\n",
       "      <th>0</th>\n",
       "      <td>id26305</td>\n",
       "      <td>This process, however, afforded me no means of...</td>\n",
       "      <td>EAP</td>\n",
       "    </tr>\n",
       "    <tr>\n",
       "      <th>1</th>\n",
       "      <td>id17569</td>\n",
       "      <td>It never once occurred to me that the fumbling...</td>\n",
       "      <td>HPL</td>\n",
       "    </tr>\n",
       "    <tr>\n",
       "      <th>2</th>\n",
       "      <td>id11008</td>\n",
       "      <td>In his left hand was a gold snuff box, from wh...</td>\n",
       "      <td>EAP</td>\n",
       "    </tr>\n",
       "    <tr>\n",
       "      <th>3</th>\n",
       "      <td>id27763</td>\n",
       "      <td>How lovely is spring As we looked from Windsor...</td>\n",
       "      <td>MWS</td>\n",
       "    </tr>\n",
       "    <tr>\n",
       "      <th>4</th>\n",
       "      <td>id12958</td>\n",
       "      <td>Finding nothing else, not even gold, the Super...</td>\n",
       "      <td>HPL</td>\n",
       "    </tr>\n",
       "  </tbody>\n",
       "</table>\n",
       "</div>"
      ],
      "text/plain": [
       "        id                                               text author\n",
       "0  id26305  This process, however, afforded me no means of...    EAP\n",
       "1  id17569  It never once occurred to me that the fumbling...    HPL\n",
       "2  id11008  In his left hand was a gold snuff box, from wh...    EAP\n",
       "3  id27763  How lovely is spring As we looked from Windsor...    MWS\n",
       "4  id12958  Finding nothing else, not even gold, the Super...    HPL"
      ]
     },
     "execution_count": 3,
     "metadata": {},
     "output_type": "execute_result"
    }
   ],
   "source": [
    "train.head()"
   ]
  },
  {
   "cell_type": "markdown",
   "metadata": {},
   "source": [
    "According to the competition page there are three distinct author initials we have already been provided with a mapping of these initials to the actual author which is as follows:\n",
    "\n",
    "(Links to their Wikipedia page profiles if you click on their names)\n",
    "\n",
    "EAP - Edgar Allen Poe : American writer who wrote poetry and short stories that revolved around tales of mystery and the grisly and the grim. Arguably his most famous work is the poem - \"The Raven\" and he is also widely considered the pioneer of the genre of the detective fiction.\n",
    "\n",
    "HPL - HP Lovecraft : Best known for authoring works of horror fiction, the stories that he is most celebrated for revolve around the fictional mythology of the infamous creature \"Cthulhu\" - a hybrid chimera mix of Octopus head and humanoid body with wings on the back.\n",
    "\n",
    "MWS - Mary Shelley : Seemed to have been involved in a whole panoply of literary pursuits - novelist, dramatist, travel-writer, biographer. She is most celebrated for the classic tale of Frankenstein where the scientist Frankenstein a.k.a \"The Modern Prometheus\" creates the Monster that comes to be associated with his name.\n",
    "\n",
    "Next, let us take a look at how large the training data is:"
   ]
  },
  {
   "cell_type": "code",
   "execution_count": 4,
   "metadata": {
    "collapsed": false
   },
   "outputs": [
    {
     "name": "stdout",
     "output_type": "stream",
     "text": [
      "(19579, 3)\n"
     ]
    }
   ],
   "source": [
    "print(train.shape)"
   ]
  },
  {
   "cell_type": "markdown",
   "metadata": {},
   "source": [
    "##### Summary statistics of the training set\n",
    "Here we can visualize some basic statistics in the data, like the distribution of entries for each author. For this purpose, I will invoke the handy Plot.ly visualisation library and plot some simple bar plots. Unhide the cell below if you want to see the Plot.ly code."
   ]
  },
  {
   "cell_type": "code",
   "execution_count": 5,
   "metadata": {
    "collapsed": false
   },
   "outputs": [
    {
     "data": {
      "application/vnd.plotly.v1+json": {
       "data": [
        {
         "marker": {
          "color": [
           7900,
           6044,
           5635
          ],
          "colorscale": "Jet"
         },
         "text": "Text entries attributed to Author",
         "type": "bar",
         "x": [
          "Edgar Allen Poe",
          "HP Lovecraft",
          "Mary Shelley"
         ],
         "y": [
          7900,
          6044,
          5635
         ]
        }
       ],
       "layout": {
        "title": "Target variable distribution"
       }
      },
      "text/html": [
       "<div id=\"e4752d9f-e4ab-44dc-b326-b95522670521\" style=\"height: 525px; width: 100%;\" class=\"plotly-graph-div\"></div><script type=\"text/javascript\">require([\"plotly\"], function(Plotly) { window.PLOTLYENV=window.PLOTLYENV || {};window.PLOTLYENV.BASE_URL=\"https://plot.ly\";Plotly.newPlot(\"e4752d9f-e4ab-44dc-b326-b95522670521\", [{\"type\": \"bar\", \"marker\": {\"colorscale\": \"Jet\", \"color\": [7900, 6044, 5635]}, \"text\": \"Text entries attributed to Author\", \"y\": [7900, 6044, 5635], \"x\": [\"Edgar Allen Poe\", \"HP Lovecraft\", \"Mary Shelley\"]}], {\"title\": \"Target variable distribution\"}, {\"linkText\": \"Export to plot.ly\", \"showLink\": true})});</script>"
      ],
      "text/vnd.plotly.v1+html": [
       "<div id=\"e4752d9f-e4ab-44dc-b326-b95522670521\" style=\"height: 525px; width: 100%;\" class=\"plotly-graph-div\"></div><script type=\"text/javascript\">require([\"plotly\"], function(Plotly) { window.PLOTLYENV=window.PLOTLYENV || {};window.PLOTLYENV.BASE_URL=\"https://plot.ly\";Plotly.newPlot(\"e4752d9f-e4ab-44dc-b326-b95522670521\", [{\"type\": \"bar\", \"marker\": {\"colorscale\": \"Jet\", \"color\": [7900, 6044, 5635]}, \"text\": \"Text entries attributed to Author\", \"y\": [7900, 6044, 5635], \"x\": [\"Edgar Allen Poe\", \"HP Lovecraft\", \"Mary Shelley\"]}], {\"title\": \"Target variable distribution\"}, {\"linkText\": \"Export to plot.ly\", \"showLink\": true})});</script>"
      ]
     },
     "metadata": {},
     "output_type": "display_data"
    }
   ],
   "source": [
    "z = {'EAP': 'Edgar Allen Poe', 'MWS': 'Mary Shelley', 'HPL': 'HP Lovecraft'}\n",
    "data = [go.Bar(\n",
    "            x = train.author.map(z).unique(),\n",
    "            y = train.author.value_counts().values,\n",
    "            marker= dict(colorscale='Jet',\n",
    "                         color = train.author.value_counts().values\n",
    "                        ),\n",
    "            text='Text entries attributed to Author'\n",
    "    )]\n",
    "\n",
    "layout = go.Layout(\n",
    "    title='Target variable distribution'\n",
    ")\n",
    "\n",
    "fig = go.Figure(data=data, layout=layout)\n",
    "\n",
    "py.iplot(fig, filename='basic-bar')"
   ]
  },
  {
   "cell_type": "markdown",
   "metadata": {},
   "source": [
    "###### Count all the words in a series"
   ]
  },
  {
   "cell_type": "code",
   "execution_count": 6,
   "metadata": {
    "collapsed": false
   },
   "outputs": [],
   "source": [
    "eap_words = train['text'].str.split(expand=True).unstack().value_counts()"
   ]
  },
  {
   "cell_type": "code",
   "execution_count": 7,
   "metadata": {
    "collapsed": false
   },
   "outputs": [
    {
     "data": {
      "application/vnd.plotly.v1+json": {
       "data": [
        {
         "marker": {
          "color": [
           33296,
           20851,
           17059,
           12615,
           10382,
           10359,
           8787,
           6440,
           5988,
           5037,
           4324,
           4207,
           3802,
           3528,
           3422,
           3247,
           3227,
           3203,
           3048,
           2925,
           2758,
           2725,
           2533,
           2521,
           2285,
           2268,
           2121,
           2118,
           2089,
           2015,
           2007,
           1953,
           1691,
           1679,
           1644,
           1500,
           1428,
           1395,
           1373,
           1372,
           1347,
           1308,
           1259,
           1215,
           1202,
           1178,
           1134,
           1104,
           1100,
           1036,
           992,
           957,
           954,
           929,
           925,
           924,
           915,
           901,
           880,
           873,
           863,
           861,
           829,
           823,
           814,
           751,
           713,
           707,
           701,
           648,
           645,
           645,
           638,
           624,
           623,
           600,
           595,
           592,
           576,
           575,
           574,
           565,
           550,
           545,
           539,
           534,
           532,
           531,
           527,
           527,
           526,
           503,
           502,
           497,
           493,
           493,
           491,
           488,
           486,
           482
          ],
          "colorscale": "Jet"
         },
         "text": "Word counts",
         "type": "bar",
         "x": [
          "the",
          "of",
          "and",
          "to",
          "I",
          "a",
          "in",
          "was",
          "that",
          "my",
          "had",
          "with",
          "his",
          "as",
          "he",
          "it",
          "for",
          "which",
          "not",
          "at",
          "from",
          "by",
          "is",
          "but",
          "on",
          "be",
          "The",
          "were",
          "have",
          "me",
          "this",
          "her",
          "all",
          "or",
          "an",
          "no",
          "you",
          "so",
          "been",
          "one",
          "we",
          "upon",
          "could",
          "its",
          "would",
          "when",
          "they",
          "their",
          "more",
          "him"
         ],
         "y": [
          33296,
          20851,
          17059,
          12615,
          10382,
          10359,
          8787,
          6440,
          5988,
          5037,
          4324,
          4207,
          3802,
          3528,
          3422,
          3247,
          3227,
          3203,
          3048,
          2925,
          2758,
          2725,
          2533,
          2521,
          2285,
          2268,
          2121,
          2118,
          2089,
          2015,
          2007,
          1953,
          1691,
          1679,
          1644,
          1500,
          1428,
          1395,
          1373,
          1372,
          1347,
          1308,
          1259,
          1215,
          1202,
          1178,
          1134,
          1104,
          1100,
          1036
         ]
        }
       ],
       "layout": {
        "title": "Top 50 (Uncleaned) Word frequencies for Edgar Allen Poe"
       }
      },
      "text/html": [
       "<div id=\"56af0b18-f9a8-42da-9d6d-08549f993b40\" style=\"height: 525px; width: 100%;\" class=\"plotly-graph-div\"></div><script type=\"text/javascript\">require([\"plotly\"], function(Plotly) { window.PLOTLYENV=window.PLOTLYENV || {};window.PLOTLYENV.BASE_URL=\"https://plot.ly\";Plotly.newPlot(\"56af0b18-f9a8-42da-9d6d-08549f993b40\", [{\"type\": \"bar\", \"marker\": {\"colorscale\": \"Jet\", \"color\": [33296, 20851, 17059, 12615, 10382, 10359, 8787, 6440, 5988, 5037, 4324, 4207, 3802, 3528, 3422, 3247, 3227, 3203, 3048, 2925, 2758, 2725, 2533, 2521, 2285, 2268, 2121, 2118, 2089, 2015, 2007, 1953, 1691, 1679, 1644, 1500, 1428, 1395, 1373, 1372, 1347, 1308, 1259, 1215, 1202, 1178, 1134, 1104, 1100, 1036, 992, 957, 954, 929, 925, 924, 915, 901, 880, 873, 863, 861, 829, 823, 814, 751, 713, 707, 701, 648, 645, 645, 638, 624, 623, 600, 595, 592, 576, 575, 574, 565, 550, 545, 539, 534, 532, 531, 527, 527, 526, 503, 502, 497, 493, 493, 491, 488, 486, 482]}, \"text\": \"Word counts\", \"y\": [33296, 20851, 17059, 12615, 10382, 10359, 8787, 6440, 5988, 5037, 4324, 4207, 3802, 3528, 3422, 3247, 3227, 3203, 3048, 2925, 2758, 2725, 2533, 2521, 2285, 2268, 2121, 2118, 2089, 2015, 2007, 1953, 1691, 1679, 1644, 1500, 1428, 1395, 1373, 1372, 1347, 1308, 1259, 1215, 1202, 1178, 1134, 1104, 1100, 1036], \"x\": [\"the\", \"of\", \"and\", \"to\", \"I\", \"a\", \"in\", \"was\", \"that\", \"my\", \"had\", \"with\", \"his\", \"as\", \"he\", \"it\", \"for\", \"which\", \"not\", \"at\", \"from\", \"by\", \"is\", \"but\", \"on\", \"be\", \"The\", \"were\", \"have\", \"me\", \"this\", \"her\", \"all\", \"or\", \"an\", \"no\", \"you\", \"so\", \"been\", \"one\", \"we\", \"upon\", \"could\", \"its\", \"would\", \"when\", \"they\", \"their\", \"more\", \"him\"]}], {\"title\": \"Top 50 (Uncleaned) Word frequencies for Edgar Allen Poe\"}, {\"linkText\": \"Export to plot.ly\", \"showLink\": true})});</script>"
      ],
      "text/vnd.plotly.v1+html": [
       "<div id=\"56af0b18-f9a8-42da-9d6d-08549f993b40\" style=\"height: 525px; width: 100%;\" class=\"plotly-graph-div\"></div><script type=\"text/javascript\">require([\"plotly\"], function(Plotly) { window.PLOTLYENV=window.PLOTLYENV || {};window.PLOTLYENV.BASE_URL=\"https://plot.ly\";Plotly.newPlot(\"56af0b18-f9a8-42da-9d6d-08549f993b40\", [{\"type\": \"bar\", \"marker\": {\"colorscale\": \"Jet\", \"color\": [33296, 20851, 17059, 12615, 10382, 10359, 8787, 6440, 5988, 5037, 4324, 4207, 3802, 3528, 3422, 3247, 3227, 3203, 3048, 2925, 2758, 2725, 2533, 2521, 2285, 2268, 2121, 2118, 2089, 2015, 2007, 1953, 1691, 1679, 1644, 1500, 1428, 1395, 1373, 1372, 1347, 1308, 1259, 1215, 1202, 1178, 1134, 1104, 1100, 1036, 992, 957, 954, 929, 925, 924, 915, 901, 880, 873, 863, 861, 829, 823, 814, 751, 713, 707, 701, 648, 645, 645, 638, 624, 623, 600, 595, 592, 576, 575, 574, 565, 550, 545, 539, 534, 532, 531, 527, 527, 526, 503, 502, 497, 493, 493, 491, 488, 486, 482]}, \"text\": \"Word counts\", \"y\": [33296, 20851, 17059, 12615, 10382, 10359, 8787, 6440, 5988, 5037, 4324, 4207, 3802, 3528, 3422, 3247, 3227, 3203, 3048, 2925, 2758, 2725, 2533, 2521, 2285, 2268, 2121, 2118, 2089, 2015, 2007, 1953, 1691, 1679, 1644, 1500, 1428, 1395, 1373, 1372, 1347, 1308, 1259, 1215, 1202, 1178, 1134, 1104, 1100, 1036], \"x\": [\"the\", \"of\", \"and\", \"to\", \"I\", \"a\", \"in\", \"was\", \"that\", \"my\", \"had\", \"with\", \"his\", \"as\", \"he\", \"it\", \"for\", \"which\", \"not\", \"at\", \"from\", \"by\", \"is\", \"but\", \"on\", \"be\", \"The\", \"were\", \"have\", \"me\", \"this\", \"her\", \"all\", \"or\", \"an\", \"no\", \"you\", \"so\", \"been\", \"one\", \"we\", \"upon\", \"could\", \"its\", \"would\", \"when\", \"they\", \"their\", \"more\", \"him\"]}], {\"title\": \"Top 50 (Uncleaned) Word frequencies for Edgar Allen Poe\"}, {\"linkText\": \"Export to plot.ly\", \"showLink\": true})});</script>"
      ]
     },
     "metadata": {},
     "output_type": "display_data"
    }
   ],
   "source": [
    "data = [go.Bar(\n",
    "    x = eap_words.index.values[0:50],\n",
    "    y = eap_words.values[0:50],\n",
    "    marker = dict(colorscale='Jet',color = eap_words.values[0:100]\n",
    "                 ),\n",
    "    text = 'Word counts'\n",
    "    )]\n",
    "layout = go.Layout(\n",
    "title = \"Top 50 (Uncleaned) Word frequencies for Edgar Allen Poe\")\n",
    "\n",
    "fig = go.Figure(data = data,layout = layout)\n",
    "\n",
    "py.iplot(fig, filename='basic_bar')"
   ]
  },
  {
   "cell_type": "code",
   "execution_count": 8,
   "metadata": {
    "collapsed": false
   },
   "outputs": [
    {
     "data": {
      "application/vnd.plotly.v1+json": {
       "data": [
        {
         "marker": {
          "color": [
           17059,
           12615,
           10382,
           10359,
           8787,
           6440,
           5988,
           5037,
           4324,
           4207,
           3802,
           3528,
           3422,
           3247,
           3227,
           3203,
           3048,
           2925,
           2758,
           2725,
           2533,
           2521,
           2285,
           2268,
           2121,
           2118,
           2089,
           2015,
           2007,
           1953,
           1691,
           1679,
           1644,
           1500,
           1428,
           1395,
           1373,
           1372,
           1347,
           1308,
           1259,
           1215,
           1202,
           1178,
           1134,
           1104,
           1100,
           1036,
           992,
           957,
           954,
           929,
           925,
           924,
           915,
           901,
           880,
           873,
           863,
           861,
           829,
           823,
           814,
           751,
           713,
           707,
           701,
           648,
           645,
           645,
           638,
           624,
           623,
           600,
           595,
           592,
           576,
           575,
           574,
           565,
           550,
           545,
           539,
           534,
           532,
           531,
           527,
           527,
           526,
           503,
           502,
           497,
           493,
           493,
           491,
           488,
           486,
           482
          ],
          "colorscale": "Viridis"
         },
         "text": "Word counts",
         "type": "bar",
         "x": [
          "and",
          "to",
          "I",
          "a",
          "in",
          "was",
          "that",
          "my",
          "had",
          "with",
          "his",
          "as",
          "he",
          "it",
          "for",
          "which",
          "not",
          "at",
          "from",
          "by",
          "is",
          "but",
          "on",
          "be",
          "The",
          "were",
          "have",
          "me",
          "this",
          "her",
          "all",
          "or",
          "an",
          "no",
          "you",
          "so",
          "been",
          "one",
          "we",
          "upon",
          "could",
          "its",
          "would",
          "when",
          "they",
          "their",
          "more",
          "him"
         ],
         "y": [
          17059,
          12615,
          10382,
          10359,
          8787,
          6440,
          5988,
          5037,
          4324,
          4207,
          3802,
          3528,
          3422,
          3247,
          3227,
          3203,
          3048,
          2925,
          2758,
          2725,
          2533,
          2521,
          2285,
          2268,
          2121,
          2118,
          2089,
          2015,
          2007,
          1953,
          1691,
          1679,
          1644,
          1500,
          1428,
          1395,
          1373,
          1372,
          1347,
          1308,
          1259,
          1215,
          1202,
          1178,
          1134,
          1104,
          1100,
          1036
         ]
        }
       ],
       "layout": {
        "title": "Top 50 (Uncleaned) Word frequencies for Mary Shelly"
       }
      },
      "text/html": [
       "<div id=\"ebb951b7-1d85-40bd-b20f-e6c9d877ce01\" style=\"height: 525px; width: 100%;\" class=\"plotly-graph-div\"></div><script type=\"text/javascript\">require([\"plotly\"], function(Plotly) { window.PLOTLYENV=window.PLOTLYENV || {};window.PLOTLYENV.BASE_URL=\"https://plot.ly\";Plotly.newPlot(\"ebb951b7-1d85-40bd-b20f-e6c9d877ce01\", [{\"type\": \"bar\", \"marker\": {\"colorscale\": \"Viridis\", \"color\": [17059, 12615, 10382, 10359, 8787, 6440, 5988, 5037, 4324, 4207, 3802, 3528, 3422, 3247, 3227, 3203, 3048, 2925, 2758, 2725, 2533, 2521, 2285, 2268, 2121, 2118, 2089, 2015, 2007, 1953, 1691, 1679, 1644, 1500, 1428, 1395, 1373, 1372, 1347, 1308, 1259, 1215, 1202, 1178, 1134, 1104, 1100, 1036, 992, 957, 954, 929, 925, 924, 915, 901, 880, 873, 863, 861, 829, 823, 814, 751, 713, 707, 701, 648, 645, 645, 638, 624, 623, 600, 595, 592, 576, 575, 574, 565, 550, 545, 539, 534, 532, 531, 527, 527, 526, 503, 502, 497, 493, 493, 491, 488, 486, 482]}, \"text\": \"Word counts\", \"y\": [17059, 12615, 10382, 10359, 8787, 6440, 5988, 5037, 4324, 4207, 3802, 3528, 3422, 3247, 3227, 3203, 3048, 2925, 2758, 2725, 2533, 2521, 2285, 2268, 2121, 2118, 2089, 2015, 2007, 1953, 1691, 1679, 1644, 1500, 1428, 1395, 1373, 1372, 1347, 1308, 1259, 1215, 1202, 1178, 1134, 1104, 1100, 1036], \"x\": [\"and\", \"to\", \"I\", \"a\", \"in\", \"was\", \"that\", \"my\", \"had\", \"with\", \"his\", \"as\", \"he\", \"it\", \"for\", \"which\", \"not\", \"at\", \"from\", \"by\", \"is\", \"but\", \"on\", \"be\", \"The\", \"were\", \"have\", \"me\", \"this\", \"her\", \"all\", \"or\", \"an\", \"no\", \"you\", \"so\", \"been\", \"one\", \"we\", \"upon\", \"could\", \"its\", \"would\", \"when\", \"they\", \"their\", \"more\", \"him\"]}], {\"title\": \"Top 50 (Uncleaned) Word frequencies for Mary Shelly\"}, {\"linkText\": \"Export to plot.ly\", \"showLink\": true})});</script>"
      ],
      "text/vnd.plotly.v1+html": [
       "<div id=\"ebb951b7-1d85-40bd-b20f-e6c9d877ce01\" style=\"height: 525px; width: 100%;\" class=\"plotly-graph-div\"></div><script type=\"text/javascript\">require([\"plotly\"], function(Plotly) { window.PLOTLYENV=window.PLOTLYENV || {};window.PLOTLYENV.BASE_URL=\"https://plot.ly\";Plotly.newPlot(\"ebb951b7-1d85-40bd-b20f-e6c9d877ce01\", [{\"type\": \"bar\", \"marker\": {\"colorscale\": \"Viridis\", \"color\": [17059, 12615, 10382, 10359, 8787, 6440, 5988, 5037, 4324, 4207, 3802, 3528, 3422, 3247, 3227, 3203, 3048, 2925, 2758, 2725, 2533, 2521, 2285, 2268, 2121, 2118, 2089, 2015, 2007, 1953, 1691, 1679, 1644, 1500, 1428, 1395, 1373, 1372, 1347, 1308, 1259, 1215, 1202, 1178, 1134, 1104, 1100, 1036, 992, 957, 954, 929, 925, 924, 915, 901, 880, 873, 863, 861, 829, 823, 814, 751, 713, 707, 701, 648, 645, 645, 638, 624, 623, 600, 595, 592, 576, 575, 574, 565, 550, 545, 539, 534, 532, 531, 527, 527, 526, 503, 502, 497, 493, 493, 491, 488, 486, 482]}, \"text\": \"Word counts\", \"y\": [17059, 12615, 10382, 10359, 8787, 6440, 5988, 5037, 4324, 4207, 3802, 3528, 3422, 3247, 3227, 3203, 3048, 2925, 2758, 2725, 2533, 2521, 2285, 2268, 2121, 2118, 2089, 2015, 2007, 1953, 1691, 1679, 1644, 1500, 1428, 1395, 1373, 1372, 1347, 1308, 1259, 1215, 1202, 1178, 1134, 1104, 1100, 1036], \"x\": [\"and\", \"to\", \"I\", \"a\", \"in\", \"was\", \"that\", \"my\", \"had\", \"with\", \"his\", \"as\", \"he\", \"it\", \"for\", \"which\", \"not\", \"at\", \"from\", \"by\", \"is\", \"but\", \"on\", \"be\", \"The\", \"were\", \"have\", \"me\", \"this\", \"her\", \"all\", \"or\", \"an\", \"no\", \"you\", \"so\", \"been\", \"one\", \"we\", \"upon\", \"could\", \"its\", \"would\", \"when\", \"they\", \"their\", \"more\", \"him\"]}], {\"title\": \"Top 50 (Uncleaned) Word frequencies for Mary Shelly\"}, {\"linkText\": \"Export to plot.ly\", \"showLink\": true})});</script>"
      ]
     },
     "metadata": {},
     "output_type": "display_data"
    }
   ],
   "source": [
    "data = [go.Bar(\n",
    "    x = eap_words.index.values[2:50],\n",
    "    y = eap_words.values[2:50],\n",
    "    marker = dict(colorscale='Viridis',color = eap_words.values[2:100]\n",
    "                 ),\n",
    "    text = 'Word counts'\n",
    "    )]\n",
    "layout = go.Layout(\n",
    "title = \"Top 50 (Uncleaned) Word frequencies for Mary Shelly\")\n",
    "\n",
    "fig = go.Figure(data = data,layout = layout)\n",
    "\n",
    "py.iplot(fig, filename='basic_bar')"
   ]
  },
  {
   "cell_type": "markdown",
   "metadata": {},
   "source": [
    "Notice anything odd about the words that appear in this word frequency plot? Do these words actually tell us much about the themes and concepts that Mary Shelley wants to portray to the reader in her stories?\n",
    "\n",
    "These words are all so commonly occuring words which you could find just anywhere else. Not just in spooky stories and novels by our three authors but also in newspapers, kid book, religious texts - really almost every other english text. Therefore we must find some way to preprocess our dataset first to strip out all these commonly occurring words which do not bring much to the table."
   ]
  },
  {
   "cell_type": "markdown",
   "metadata": {},
   "source": [
    "##### WordClouds to visualise each author's work\n",
    "One very handy visualization tool for a data scientist when it comes to any sort of natural language processing is plotting \"Word Cloud\". A word cloud (as the name suggests) is an image that is made up of a mixture of distinct words which may make up a text or book and where the size of each word is proportional to its word frequency in that text (number of times the word appears). Here instead of dealing with an actual book or text, our words can simply be taken from the column \"text\"\n",
    "\n",
    "###### Store the text of each author in a Python list\n",
    "\n",
    "We first create three different python lists that store the texts of Edgar Allen Poe, HP Lovecraft and Mary Shelley respectively as follows:"
   ]
  },
  {
   "cell_type": "code",
   "execution_count": 9,
   "metadata": {
    "collapsed": true
   },
   "outputs": [],
   "source": [
    "eap = train[train.author==\"EAP\"][\"text\"].values\n",
    "hpl = train[train.author==\"HPL\"][\"text\"].values\n",
    "mws = train[train.author==\"MWS\"][\"text\"].values"
   ]
  },
  {
   "cell_type": "code",
   "execution_count": 10,
   "metadata": {
    "collapsed": false
   },
   "outputs": [
    {
     "data": {
      "text/plain": [
       "array([ 'This process, however, afforded me no means of ascertaining the dimensions of my dungeon; as I might make its circuit, and return to the point whence I set out, without being aware of the fact; so perfectly uniform seemed the wall.',\n",
       "       'In his left hand was a gold snuff box, from which, as he capered down the hill, cutting all manner of fantastic steps, he took snuff incessantly with an air of the greatest possible self satisfaction.',\n",
       "       'The astronomer, perhaps, at this point, took refuge in the suggestion of non luminosity; and here analogy was suddenly let fall.',\n",
       "       ..., 'The lids clenched themselves together as if in a spasm.',\n",
       "       'Mais il faut agir that is to say, a Frenchman never faints outright.',\n",
       "       'For an item of news like this, it strikes us it was very coolly received.\"'], dtype=object)"
      ]
     },
     "execution_count": 10,
     "metadata": {},
     "output_type": "execute_result"
    }
   ],
   "source": [
    "#select the datafrome with author is EAP\n",
    "#train[train.author==\"EAP\"]\n",
    "#select the text only\n",
    "train[train.author==\"EAP\"][\"text\"]\n",
    "#Put all the text into an array\n",
    "train[train.author==\"EAP\"][\"text\"].values"
   ]
  },
  {
   "cell_type": "markdown",
   "metadata": {},
   "source": [
    "Next to create our wordclouds, I will import the python module \"wordcloud\"."
   ]
  },
  {
   "cell_type": "code",
   "execution_count": 11,
   "metadata": {
    "collapsed": false
   },
   "outputs": [],
   "source": [
    "from wordcloud import WordCloud, STOPWORDS"
   ]
  },
  {
   "cell_type": "markdown",
   "metadata": {},
   "source": [
    "But generating a normal wordcloud is rather boring so I would like to introduce to you a technique of importing pictures (something relevant) and using the outline of that picture as a mask for our wordclouds. Therefore the pictures that I have chosen are the ones I feel most representative for their authors:\n",
    "\n",
    "1) The Raven for Edgar Allen Poe \n",
    "\n",
    "2) Octopus Cthulu-thingy for HP Lovecraft and \n",
    "\n",
    "3) Frankenstein for Mary Shelly\n",
    "\n",
    "The way I am loading in the pictures on Kaggle is a sort of a feature hack although readers familiar to my work know this trick. I first derive the Base64 encoding of whatever images I want to use and then use that particular encoding and re-convert the picture back on the notebook. The cell below contains the Base64 encoding of the three images I will use but I have hidden them so that I do not pollute this notebook with just long streteches of text - unhide them if you want to see the encoding."
   ]
  },
  {
   "cell_type": "code",
   "execution_count": 12,
   "metadata": {
    "collapsed": true
   },
   "outputs": [],
   "source": [
    "#eap_64 = base64.b64encode(eap)\n",
    "#mws_64 = base64.b64encode(mws)\n",
    "#hpl_64 = base64.b64encode(hpl)"
   ]
  },
  {
   "cell_type": "code",
   "execution_count": 63,
   "metadata": {
    "collapsed": false
   },
   "outputs": [
    {
     "ename": "OSError",
     "evalue": "cannot identify image file 'eap.png'",
     "output_type": "error",
     "traceback": [
      "\u001b[0;31m---------------------------------------------------------------------------\u001b[0m",
      "\u001b[0;31mOSError\u001b[0m                                   Traceback (most recent call last)",
      "\u001b[0;32m<ipython-input-63-03272e921490>\u001b[0m in \u001b[0;36m<module>\u001b[0;34m()\u001b[0m\n\u001b[1;32m      4\u001b[0m \u001b[0mf1\u001b[0m\u001b[1;33m.\u001b[0m\u001b[0mwrite\u001b[0m\u001b[1;33m(\u001b[0m\u001b[0mcodecs\u001b[0m\u001b[1;33m.\u001b[0m\u001b[0mdecode\u001b[0m\u001b[1;33m(\u001b[0m\u001b[0meap_64\u001b[0m\u001b[1;33m,\u001b[0m\u001b[1;34m'base64'\u001b[0m\u001b[1;33m)\u001b[0m\u001b[1;33m)\u001b[0m\u001b[1;33m\u001b[0m\u001b[0m\n\u001b[1;32m      5\u001b[0m \u001b[0mf1\u001b[0m\u001b[1;33m.\u001b[0m\u001b[0mclose\u001b[0m\u001b[1;33m(\u001b[0m\u001b[1;33m)\u001b[0m\u001b[1;33m\u001b[0m\u001b[0m\n\u001b[0;32m----> 6\u001b[0;31m \u001b[0mimg1\u001b[0m \u001b[1;33m=\u001b[0m \u001b[0mimread\u001b[0m\u001b[1;33m(\u001b[0m\u001b[1;34m\"eap.png\"\u001b[0m\u001b[1;33m)\u001b[0m\u001b[1;33m\u001b[0m\u001b[0m\n\u001b[0m\u001b[1;32m      7\u001b[0m \u001b[1;31m# img = img.resize((980,1080))\u001b[0m\u001b[1;33m\u001b[0m\u001b[1;33m\u001b[0m\u001b[0m\n\u001b[1;32m      8\u001b[0m \u001b[0mhcmask\u001b[0m \u001b[1;33m=\u001b[0m \u001b[0mimg1\u001b[0m\u001b[1;33m\u001b[0m\u001b[0m\n",
      "\u001b[0;32mC:\\Anaconda3\\lib\\site-packages\\scipy\\misc\\pilutil.py\u001b[0m in \u001b[0;36mimread\u001b[0;34m(name, flatten, mode)\u001b[0m\n\u001b[1;32m    154\u001b[0m     \"\"\"\n\u001b[1;32m    155\u001b[0m \u001b[1;33m\u001b[0m\u001b[0m\n\u001b[0;32m--> 156\u001b[0;31m     \u001b[0mim\u001b[0m \u001b[1;33m=\u001b[0m \u001b[0mImage\u001b[0m\u001b[1;33m.\u001b[0m\u001b[0mopen\u001b[0m\u001b[1;33m(\u001b[0m\u001b[0mname\u001b[0m\u001b[1;33m)\u001b[0m\u001b[1;33m\u001b[0m\u001b[0m\n\u001b[0m\u001b[1;32m    157\u001b[0m     \u001b[1;32mreturn\u001b[0m \u001b[0mfromimage\u001b[0m\u001b[1;33m(\u001b[0m\u001b[0mim\u001b[0m\u001b[1;33m,\u001b[0m \u001b[0mflatten\u001b[0m\u001b[1;33m=\u001b[0m\u001b[0mflatten\u001b[0m\u001b[1;33m,\u001b[0m \u001b[0mmode\u001b[0m\u001b[1;33m=\u001b[0m\u001b[0mmode\u001b[0m\u001b[1;33m)\u001b[0m\u001b[1;33m\u001b[0m\u001b[0m\n\u001b[1;32m    158\u001b[0m \u001b[1;33m\u001b[0m\u001b[0m\n",
      "\u001b[0;32mC:\\Anaconda3\\lib\\site-packages\\PIL\\Image.py\u001b[0m in \u001b[0;36mopen\u001b[0;34m(fp, mode)\u001b[0m\n\u001b[1;32m   2317\u001b[0m \u001b[1;33m\u001b[0m\u001b[0m\n\u001b[1;32m   2318\u001b[0m     raise IOError(\"cannot identify image file %r\"\n\u001b[0;32m-> 2319\u001b[0;31m                   % (filename if filename else fp))\n\u001b[0m\u001b[1;32m   2320\u001b[0m \u001b[1;33m\u001b[0m\u001b[0m\n\u001b[1;32m   2321\u001b[0m \u001b[1;31m#\u001b[0m\u001b[1;33m\u001b[0m\u001b[1;33m\u001b[0m\u001b[0m\n",
      "\u001b[0;31mOSError\u001b[0m: cannot identify image file 'eap.png'"
     ]
    }
   ],
   "source": [
    "import codecs\n",
    "#Generate the Mask for EAP\n",
    "f1 = open(\"eap.png\", \"wb\")\n",
    "f1.write(codecs.decode(eap_64,'base64'))\n",
    "f1.close()\n",
    "img1 = imread(\"eap.png\")\n",
    "# img = img.resize((980,1080))\n",
    "hcmask = img1\n",
    "\n",
    "f2 = open(\"mws.png\", \"wb\")\n",
    "f2.write(codecs.decode(mws_64,'base64'))\n",
    "f2.close()\n",
    "img2 = imread(\"mws.png\")\n",
    "hcmask2 = img2\n",
    "\n",
    "f3 = open(\"hpl.png\", \"wb\")\n",
    "f3.write(codecs.decode(hpl_64,'base64'))\n",
    "f3.close()\n",
    "img3 = imread(\"hpl.png\")\n",
    "hcmask3 = img3"
   ]
  },
  {
   "cell_type": "markdown",
   "metadata": {},
   "source": [
    "Finally plotting the word clouds via the following few lines (unhide to see the code):"
   ]
  },
  {
   "cell_type": "code",
   "execution_count": 20,
   "metadata": {
    "collapsed": false
   },
   "outputs": [],
   "source": [
    "# The wordcloud of Cthulhu/squidy thing for HP Lovecraft\n",
    "# plt.figure(figsize=(16,13))\n",
    "# wc = WordCloud(background_color=\"black\", max_words=10000, \n",
    "#                stopwords=STOPWORDS, max_font_size= 40)\n",
    "# wc.generate(\" \".join(hpl))\n",
    "# plt.title(\"HP Lovecraft (Cthulhu-Squidy)\", fontsize=16)\n",
    "# #plt.imshow(wc.recolor( colormap= 'Pastel1_r' , random_state=17), alpha=0.98)\n",
    "# plt.axis('off')"
   ]
  },
  {
   "cell_type": "markdown",
   "metadata": {
    "collapsed": true
   },
   "source": [
    "Well there you have it, three separate word clouds, one for each of our spooky authors. Right off the bat, you can see from these word clouds some of the choice words that were favoured by the different authors.\n",
    "\n",
    "For example, you can see the HP lovecraft favours words like \"dream\", \"time\", \"strange\", \"past\", \"ancient\" which seem to resonate with themes that the author was famous for, themes around the hidden psyche and esoteric nature of fate and chance as well as the infamous Cthulhu and mentions of ancient cults associated with it.\n",
    "\n",
    "On the other hand, one can see that Mary Shelley's words revolve around primal instincts and themes of morality which range from the positive to negative ends of the spectrum, such as \"friend\", \"fear\", \"hope\", \"spirit\" etc.\n",
    "\n",
    "However, as you can see from the word clouds, there are still a handful of words that seem to be quite out of place. Words such as \"us\", \"go\", \"he\" which seem to appear commonly every where in text"
   ]
  },
  {
   "cell_type": "markdown",
   "metadata": {},
   "source": [
    "##### 2. Natural Language Processing"
   ]
  },
  {
   "cell_type": "markdown",
   "metadata": {},
   "source": [
    "In almost all Natural Language Processing (the field that explores interactions between a computer and human languages) tasks that you will come across (be it topic modelling, or word clustering or document-text classification etc), one will generally always have to undergo these few pre-processing steps to convert the input raw text into a form that is readable by your model and the machine. You certainly can't expect to feed a Random Forest model a paragraph of words and expect it to immediately predict which author that paragraph came from. Behind the scenes, text pre-processing can be boiled down to these few simple steps:\n",
    "\n",
    "1. Tokenization - Segregation of the text into its individual constitutent words.\n",
    "2. Stopwords - Throw away any words that occur too frequently as its frequency of occurrence will not be useful in helping detecting relevant texts. (as an aside also consider throwing away words that occur very infrequently).\n",
    "3. Stemming - combine variants of words into a single parent word that still conveys the same meaning\n",
    "4. Vectorization - Converting text into vector format. One of the simplest is the famous bag-of-words approach, where you create a matrix (for each document or text in the corpus). In the simplest form, this matrix stores word frequencies (word counts) and is oft referred to as vectorization of the raw text.\n",
    "\n",
    "Natural Language Toolkit (NLTK): To make our Natural Language Processing endeavours more convenient, let me introduce to you one of the most handy toolkits that on NLP - the Natural Language Toolkit, also more commonly referred to as the NLTK module. To import the toolkit, it is as easier as:"
   ]
  },
  {
   "cell_type": "code",
   "execution_count": 22,
   "metadata": {
    "collapsed": true
   },
   "outputs": [],
   "source": [
    "import nltk"
   ]
  },
  {
   "cell_type": "markdown",
   "metadata": {},
   "source": [
    "###### 2a. Tokenization\n",
    "The concept of tokenization is the act of taking a sequence of characters (think of Python strings) in a given document and dicing it up into its individual constituent pieces, which are the eponymous \"tokens\" of this method. One could loosely think of them as singular words in a sentence. One could naively implement the \"split( )\" method on a string which separates it into a python list based on the identifier in the argument. It is actually not that trivial to\n",
    "\n",
    "Here we split the first sentence of the text in the training data just on a space as follows:"
   ]
  },
  {
   "cell_type": "code",
   "execution_count": 23,
   "metadata": {
    "collapsed": false
   },
   "outputs": [
    {
     "name": "stdout",
     "output_type": "stream",
     "text": [
      "This process, however, afforded me no means of ascertaining the dimensions of my dungeon; as I might make its circuit, and return to the point whence I set out, without being aware of the fact; so perfectly uniform seemed the wall.\n",
      "==========================================================================================\n",
      "['This', 'process,', 'however,', 'afforded', 'me', 'no', 'means', 'of', 'ascertaining', 'the', 'dimensions', 'of', 'my', 'dungeon;', 'as', 'I', 'might', 'make', 'its', 'circuit,', 'and', 'return', 'to', 'the', 'point', 'whence', 'I', 'set', 'out,', 'without', 'being', 'aware', 'of', 'the', 'fact;', 'so', 'perfectly', 'uniform', 'seemed', 'the', 'wall.']\n"
     ]
    }
   ],
   "source": [
    "#storing the first text element as a string\n",
    "first_text = train.text.values[0]\n",
    "print(first_text)\n",
    "print(\"=\" *90)\n",
    "print(first_text.split(\" \"))"
   ]
  },
  {
   "cell_type": "markdown",
   "metadata": {},
   "source": [
    "However as you can see from this first attempt at tokenization, the segregation of the sentence into its individual elements (or terms) is not entirely accurate. As an example, look at the second element of the list which contains the term \"process,\". The punctuation mark (comma) has also been included and is being treated along with the word \"process\" as a term in itself. Ideally we would like the comma and the word to be in two different and separate elements of the list. Trying to do this with pure python list operations will be quite complex so this is where the NLTK library comes into play. There is a convenient method \"word_tokenize( )\" (TreebankWord tokenizer) which strips out singular words as well as punctuations into separate elements automatically as follows:"
   ]
  },
  {
   "cell_type": "code",
   "execution_count": 24,
   "metadata": {
    "collapsed": false
   },
   "outputs": [
    {
     "name": "stdout",
     "output_type": "stream",
     "text": [
      "['This', 'process', ',', 'however', ',', 'afforded', 'me', 'no', 'means', 'of', 'ascertaining', 'the', 'dimensions', 'of', 'my', 'dungeon', ';', 'as', 'I', 'might', 'make', 'its', 'circuit', ',', 'and', 'return', 'to', 'the', 'point', 'whence', 'I', 'set', 'out', ',', 'without', 'being', 'aware', 'of', 'the', 'fact', ';', 'so', 'perfectly', 'uniform', 'seemed', 'the', 'wall', '.']\n"
     ]
    }
   ],
   "source": [
    "first_text_list = nltk.word_tokenize(first_text)\n",
    "print(first_text_list)"
   ]
  },
  {
   "cell_type": "markdown",
   "metadata": {},
   "source": [
    "###### 2b. Stopword Removal\n",
    "As alluded to above stopwords are generally words that appear so commonly and at such a high frequency in the corpus that they don't actually contribute much to the learning or predictive process as a learning model would fail to distinguish it from other texts. Stopwordsinclude terms such as \"to\" or \"the\" and therefore, it would be to our benefit to remove them during the pre-processing phase. Conveniently, NLTK comes with a predefined list of 153 english stopwords. (unhide the second cell below to see this list)"
   ]
  },
  {
   "cell_type": "code",
   "execution_count": 26,
   "metadata": {
    "collapsed": false
   },
   "outputs": [
    {
     "name": "stdout",
     "output_type": "stream",
     "text": [
      "153\n",
      "['i', 'me', 'my', 'myself', 'we', 'our', 'ours', 'ourselves', 'you', 'your', 'yours', 'yourself', 'yourselves', 'he', 'him', 'his', 'himself', 'she', 'her', 'hers', 'herself', 'it', 'its', 'itself', 'they', 'them', 'their', 'theirs', 'themselves', 'what', 'which', 'who', 'whom', 'this', 'that', 'these', 'those', 'am', 'is', 'are', 'was', 'were', 'be', 'been', 'being', 'have', 'has', 'had', 'having', 'do', 'does', 'did', 'doing', 'a', 'an', 'the', 'and', 'but', 'if', 'or', 'because', 'as', 'until', 'while', 'of', 'at', 'by', 'for', 'with', 'about', 'against', 'between', 'into', 'through', 'during', 'before', 'after', 'above', 'below', 'to', 'from', 'up', 'down', 'in', 'out', 'on', 'off', 'over', 'under', 'again', 'further', 'then', 'once', 'here', 'there', 'when', 'where', 'why', 'how', 'all', 'any', 'both', 'each', 'few', 'more', 'most', 'other', 'some', 'such', 'no', 'nor', 'not', 'only', 'own', 'same', 'so', 'than', 'too', 'very', 's', 't', 'can', 'will', 'just', 'don', 'should', 'now', 'd', 'll', 'm', 'o', 're', 've', 'y', 'ain', 'aren', 'couldn', 'didn', 'doesn', 'hadn', 'hasn', 'haven', 'isn', 'ma', 'mightn', 'mustn', 'needn', 'shan', 'shouldn', 'wasn', 'weren', 'won', 'wouldn']\n"
     ]
    }
   ],
   "source": [
    "stopwords = nltk.corpus.stopwords.words('english')\n",
    "print(len(stopwords))\n",
    "print(stopwords)"
   ]
  },
  {
   "cell_type": "markdown",
   "metadata": {},
   "source": [
    "###### To filter out stop words from our tokenized list of words, we can simply use a list comprehension as follows:"
   ]
  },
  {
   "cell_type": "code",
   "execution_count": 27,
   "metadata": {
    "collapsed": false
   },
   "outputs": [
    {
     "name": "stdout",
     "output_type": "stream",
     "text": [
      "['process', ',', 'however', ',', 'afforded', 'means', 'ascertaining', 'dimensions', 'dungeon', ';', 'might', 'make', 'circuit', ',', 'return', 'point', 'whence', 'set', ',', 'without', 'aware', 'fact', ';', 'perfectly', 'uniform', 'seemed', 'wall', '.']\n",
      "==========================================================================================\n",
      "Length of original list: 48 words\n",
      "Length of list after stopwords removal: 28 words\n"
     ]
    }
   ],
   "source": [
    "first_text_list_cleaned = [word for word in first_text_list if word.lower() not in stopwords]\n",
    "print(first_text_list_cleaned)\n",
    "print(\"=\"*90)\n",
    "print(\"Length of original list: {0} words\\n\"\n",
    "      \"Length of list after stopwords removal: {1} words\"\n",
    "      .format(len(first_text_list), len(first_text_list_cleaned)))"
   ]
  },
  {
   "cell_type": "markdown",
   "metadata": {},
   "source": [
    "As you can see, our list with stopwords removed is now substantially shorter than before where commonly occuring words such as \"I\", \"me\", \"to\" and \"the\" have been removed."
   ]
  },
  {
   "cell_type": "markdown",
   "metadata": {},
   "source": [
    "###### 2c. Stemming\n",
    "After removal of stopwords, the next stage of NLP that I would like to introduce is the process of Stemming. The work at this stage attempts to reduce as many different variations of similar words into a single term ( different branches all reduced to single word stem). Therefore if we have \"running\", \"runs\" and \"run\", you would really want these three distinct words to collapse into just the word \"run\". (However of course you lose granularity of the past, present or future tense).\n",
    "\n",
    "We can turn to NLTK again which provides various stemmers which include variants such as the Porter stemming algorithm, the lancaster stemmer and the Snowball stemmer. In the following example, I will create a porter stemmer instance as follows:"
   ]
  },
  {
   "cell_type": "code",
   "execution_count": 28,
   "metadata": {
    "collapsed": true
   },
   "outputs": [],
   "source": [
    "stemmer = nltk.stem.PorterStemmer()"
   ]
  },
  {
   "cell_type": "markdown",
   "metadata": {},
   "source": [
    "And now we can use stemmer to see if it can reduce our these test words (\"running\", \"runs\", \"run\") into their a single stemmed word. Conveniently we can test the stemmer on the fly as follows:"
   ]
  },
  {
   "cell_type": "code",
   "execution_count": 29,
   "metadata": {
    "collapsed": false
   },
   "outputs": [
    {
     "name": "stdout",
     "output_type": "stream",
     "text": [
      "The stemmed form of running is: run\n",
      "The stemmed form of runs is: run\n",
      "The stemmed form of run is: run\n"
     ]
    }
   ],
   "source": [
    "print(\"The stemmed form of running is: {}\".format(stemmer.stem(\"running\")))\n",
    "print(\"The stemmed form of runs is: {}\".format(stemmer.stem(\"runs\")))\n",
    "print(\"The stemmed form of run is: {}\".format(stemmer.stem(\"run\")))"
   ]
  },
  {
   "cell_type": "markdown",
   "metadata": {},
   "source": [
    "As we can see, the stemmer has successfully reduced the given words above into a base form and this will be most in helping us reduce the size of our dataset of words when we come to learning and classification tasks.\n",
    "\n",
    "However there is one flaw with stemming and that is the fact that the process involves quite a crude heuristic in chopping off the ends of words in the hope of reducing a particular word into a human recognizable base form. Therefore this process does not take into account vocabulary or word forms when collapsing words as this example will illustrate:"
   ]
  },
  {
   "cell_type": "code",
   "execution_count": 30,
   "metadata": {
    "collapsed": false
   },
   "outputs": [
    {
     "name": "stdout",
     "output_type": "stream",
     "text": [
      "The stemmed form of leaves is: leav\n"
     ]
    }
   ],
   "source": [
    "print(\"The stemmed form of leaves is: {}\".format(stemmer.stem(\"leaves\")))"
   ]
  },
  {
   "cell_type": "markdown",
   "metadata": {},
   "source": [
    "###### Aside on Lemmatization\n",
    "\n",
    "There is another NLP technique that a data scientist could use instead of stemming. This method is called lemmatization which aims to achieve the same effect as the former method. Unlike a stemmer, lemmatizing the dataset aims to reduce words based on an actual dictionary or vocabulary (the lemma) and therefore will not chop off words into stemmed forms that do not carry any meaning.\n",
    "\n",
    "###### 2d. Vectorizing Raw Text\n",
    "In the vast collection of NLP literature, there are many different purposes for analyzing raw text, where in some cases you would like to compare the similarity of one body of text to another (Clustering techniques/Distance measurements), text classification (the purpose of this competition) as well as uncovering the topics that comprise a body of text (the aim of this notebook). With the purpose of uncovering topics at the back of our minds we must now think of how to feed the raw text into a machine learning model. Having already discussed tokenization, stopword removals and stemming (or maybe lemmatizing) we have now arrived at a reasonably cleaner text dataset then we started out with. However at this juncture, our raw text though human readable is still unfortunately not yet machine readable. A machine can read in bits and numbers and therefore we will first need to convert our text into numbers for which we utilise a very common approach known as the Bag-of-Words\n",
    "\n",
    "##### The Bag of Words approach\n",
    "\n",
    "This approach uses the counts of words as a starting block and records the occurrence of each word (from the entire text) in a vector specific to that particular word. For example given these two sentences \"I love to eat Burgers\", \"I love to eat Fries\", we first tokenize to obtain our vocabulary of 6 words from which we can get the word counts for - [I, love, to, eat, Burgers, Fries].\n",
    "\n",
    "Vectorizing the text via the Bag of Words approach, we get six distinct vectors one for each word. So you ask since we now have rows consisting of numbers (instead of text) what forms the columns (or features)? Well each word now becomes an individual feature/column in this new transformed dataset. To illustrate this point, I shall utilize the Scikit-learn library to implement a vectorizer that generates a vector of word counts (term frequencies) - via the CountVectorizer method as follows."
   ]
  },
  {
   "cell_type": "code",
   "execution_count": 31,
   "metadata": {
    "collapsed": true
   },
   "outputs": [],
   "source": [
    "# Defining our sentence\n",
    "sentence = [\"I love to eat Burgers\", \n",
    "            \"I love to eat Fries\"]\n",
    "vectorizer = CountVectorizer(min_df=0)\n",
    "sentence_transform = vectorizer.fit_transform(sentence)"
   ]
  },
  {
   "cell_type": "code",
   "execution_count": 32,
   "metadata": {
    "collapsed": false
   },
   "outputs": [
    {
     "data": {
      "text/plain": [
       "<2x5 sparse matrix of type '<class 'numpy.int64'>'\n",
       "\twith 8 stored elements in Compressed Sparse Row format>"
      ]
     },
     "execution_count": 32,
     "metadata": {},
     "output_type": "execute_result"
    }
   ],
   "source": [
    "sentence_transform"
   ]
  },
  {
   "cell_type": "markdown",
   "metadata": {},
   "source": [
    "###### Fitting the vectorizer to the dataset\n",
    "\n",
    "Here we initialize and create a simple term frequency object via the CountVectorizer function simply called \"vectorizer\". The parameters that I have provided explicitly (the rest are left as default) are the bare minimum. Here \"min_df\" in the parameter refers to the minimum document frequency and the vectorizer will simply drop all words that occur less than that value set (either integer or in fraction form). For a detailed read up on this method as well as the rest of the parameters that one could use, I refer you to the Sklearn website. \n",
    "\n",
    "http://scikit-learn.org/stable/modules/generated/sklearn.feature_extraction.text.CountVectorizer.html\n",
    "\n",
    "Finally we apply the fit_transform method is actually comprised of two steps. The first step is the fit method where the vectorizer is mapped to the the dataset that you provide. Once this is done, the actual vectorizing operation is performed via the transform method where the raw text is turned into its vector form as shown below:"
   ]
  },
  {
   "cell_type": "code",
   "execution_count": 33,
   "metadata": {
    "collapsed": false
   },
   "outputs": [
    {
     "name": "stdout",
     "output_type": "stream",
     "text": [
      "The features are:\n",
      " ['burgers', 'eat', 'fries', 'love', 'to']\n",
      "\n",
      "The vectorized array looks like:\n",
      " [[1 1 0 1 1]\n",
      " [0 1 1 1 1]]\n"
     ]
    }
   ],
   "source": [
    "print(\"The features are:\\n {}\".format(vectorizer.get_feature_names()))\n",
    "print(\"\\nThe vectorized array looks like:\\n {}\".format(sentence_transform.toarray()))"
   ]
  },
  {
   "cell_type": "markdown",
   "metadata": {},
   "source": [
    "###### Sparse matrix vector ouptuts\n",
    "\n",
    "From the output of the vectorized text, we can see that the features consist of the words in the corpus of text that we fed into the vectorizer (here the corpus being the two sentences we defined earlier). Simply call the get_feature_names attribute from the vectorizer to inspect it.\n",
    "\n",
    "With regards to the transformed text, one would be tempted to inspect the values by simplying calling it. However when you try to call it you really just get a message which states \"sparse matrix of type class 'numpy.int64' with 8 stored elements in Compressed Sparse Row format\". Therefore this means that the vectorizer returns the transformed raw text as a matrix where most of its values are zero or almost negligible, hence the term sparse. Thinking about this, it does make sense that our returned matrices contain quite a high degree of sparsity."
   ]
  },
  {
   "cell_type": "code",
   "execution_count": 34,
   "metadata": {
    "collapsed": true
   },
   "outputs": [],
   "source": [
    "eap_transform = vectorizer.fit_transform(eap)"
   ]
  },
  {
   "cell_type": "code",
   "execution_count": 38,
   "metadata": {
    "collapsed": false
   },
   "outputs": [
    {
     "name": "stdout",
     "output_type": "stream",
     "text": [
      "The features are:\n",
      " ['aaem', 'ab', 'aback', 'abandon', 'abandoned', 'abandoning', 'abandonment', 'abased', 'abasement', 'abashed', 'abated', 'abating', 'abbey', 'abbeys', 'abbreviation', 'abbé', 'abdication', 'abernethy', 'aberration', 'abeyance', 'abhor', 'abhorrence', 'abide', 'abilities', 'ability', 'abject', 'able', 'abnormal', 'abnormally', 'abolished', 'abominable', 'aboriginal', 'abortions', 'abortive', 'abounded', 'abounds', 'about', 'above', 'abroad', 'abrupt', 'abruptly', 'absconded', 'absence', 'absent', 'absolute', 'absolutely', 'absolved', 'absorbed', 'absorbing', 'abstract', 'abstracted', 'abstraction', 'abstractions', 'abstractly', 'abstruse', 'abstruseness', 'absurd', 'absurdities', 'absurdity', 'absurdly', 'absurdum', 'abundance', 'abundantly', 'abuse', 'abused', 'abuses', 'abxut', 'abyss', 'abysses', 'academy', 'accelerated', 'accelerating', 'acceleration', 'accent', 'accents', 'accentuation', 'accept', 'acceptance', 'acceptation', 'accepted', 'accepting', 'access', 'accession', 'accessory', 'accident', 'accidental', 'accidentally', 'accidents', 'acclamation', 'accommodate', 'accommodated', 'accommodation', 'accompanied', 'accompanies', 'accompany', 'accompanying', 'accomplice', 'accomplices', 'accomplish', 'accomplished', 'accomplishing', 'accomplishment', 'accord', 'accordance', 'accorded', 'according', 'accordingly', 'accorto', 'accost', 'accosted', 'account', 'accounted', 'accounting', 'accounts', 'accoutred', 'accoutrements', 'accredited', 'accruing', 'accumulate', 'accumulating', 'accumulations', 'accumulative', 'accuracy', 'accurate', 'accurately', 'accursed', 'accusation', 'accuse', 'accused', 'accusing', 'accustomed', 'acetous', 'ached', 'achievement', 'achievements', 'achilles', 'acid', 'acknowledge', 'acknowledged', 'acknowledgement', 'acknowledges', 'acknowledging', 'acknowledgment', 'acquaint', 'acquaintance', 'acquaintances', 'acquainted', 'acquiescence', 'acquired', 'acquirement', 'acquires', 'acquisition', 'acquisitions', 'acre', 'acrid', 'across', 'act', 'acted', 'acting', 'action', 'actions', 'active', 'activity', 'acts', 'actual', 'actually', 'actuated', 'actuates', 'acumen', 'acute', 'acutely', 'acuteness', 'ad', 'adage', 'adam', 'adapt', 'adaptation', 'adapted', 'adapting', 'adaption', 'add', 'added', 'adders', 'addicted', 'adding', 'addison', 'addition', 'additional', 'address', 'addressed', 'addresses', 'addressing', 'adds', 'adduce', 'adduced', 'adelaide', 'ademptum', 'adept', 'adequacy', 'adequate', 'adequately', 'adhered', 'adherence', 'adhesion', 'adieu', 'adjacent', 'adjective', 'adjoining', 'adjust', 'adjusted', 'adjusting', 'adjustment', 'admeasurement', 'administered', 'administration', 'admirable', 'admirably', 'admiration', 'admire', 'admired', 'admirer', 'admirers', 'admiring', 'admission', 'admit', 'admits', 'admittance', 'admitted', 'admitting', 'admonisher', 'admonition', 'ado', 'adolphe', 'adopt', 'adopted', 'adopting', 'adoration', 'adore', 'adored', 'adorned', 'adroitness', 'adult', 'advance', 'advanced', 'advances', 'advantage', 'advantageous', 'advantages', 'advent', 'adventitious', 'adventure', 'adventurer', 'adventurers', 'adventures', 'adventuring', 'advert', 'adverted', 'adverting', 'advertise', 'advertisement', 'advertisements', 'advertiser', 'advertising', 'advice', 'advisable', 'advise', 'advised', 'advising', 'advocated', 'advoue', 'aeolus', 'aerial', 'aerienne', 'aeris', 'aeronaut', 'aeronautic', 'aeronauts', 'aerostation', 'afar', 'affability', 'affair', 'affairs', 'affect', 'affectation', 'affected', 'affectedly', 'affecting', 'affection', 'affectionate', 'affectionateness', 'affections', 'affidavits', 'affinity', 'affirmative', 'affixed', 'afflatus', 'afflict', 'afflicted', 'affluence', 'afford', 'afforded', 'affording', 'affords', 'affronted', 'afloat', 'aforesaid', 'afraid', 'afrasiab', 'africa', 'african', 'after', 'afternoon', 'afterward', 'afterwards', 'ag', 'again', 'against', 'agathos', 'age', 'aged', 'agencies', 'agency', 'agent', 'agents', 'ages', 'aggregate', 'aggregated', 'aghast', 'agile', 'agility', 'agir', 'agitated', 'agitates', 'agitating', 'agitation', 'ago', 'agog', 'agonies', 'agony', 'agraffas', 'agree', 'agreeable', 'agreed', 'agreeing', 'agreement', 'agressi', 'ague', 'ah', 'ahead', 'ahem', 'ai', 'aid', 'aided', 'aidenn', 'aides', 'aiding', 'aigrette', 'ails', 'aim', 'aimed', 'aiming', 'aimless', 'aims', 'ainsworth', 'aint', 'air', 'airs', 'aisles', 'ajar', 'akin', 'al', 'alabaster', 'alarm', 'alarmed', 'alarmedly', 'alarming', 'alarummed', 'alas', 'albano', 'albany', 'alberto', 'alchemy', 'alcmaeon', 'alcyone', 'ale', 'ales', 'alex', 'alexander', 'alexandre', 'alfonzo', 'algebraic', 'algebraical', 'algebraists', 'alien', 'alienation', 'alight', 'alighted', 'alike', 'aliment', 'alimentiveness', 'aliquantulum', 'alit', 'aliterque', 'alive', 'all', 'allah', 'allay', 'allayed', 'allbreath', 'allegorical', 'allegorically', 'alleviate', 'alleviating', 'alleviation', 'alley', 'alleys', 'allotted', 'allow', 'allowed', 'allowing', 'alloy', 'allude', 'alluded', 'alludes', 'alluding', 'allusion', 'allusions', 'alluvial', 'alma', 'almighty', 'almost', 'aloft', 'alone', 'along', 'aloud', 'alow', 'alpha', 'alphabet', 'alpheus', 'already', 'also', 'altar', 'alter', 'alteration', 'alterations', 'altercation', 'altered', 'altering', 'alternate', 'alternately', 'alternations', 'alternative', 'although', 'altitude', 'altitudes', 'altogether', 'always', 'am', 'amassed', 'amativeness', 'amazed', 'amazement', 'amazing', 'amazingly', 'ambaaren', 'ambiguity', 'ambition', 'ambitious', 'ambois', 'amen', 'amending', 'amendment', 'amenity', 'america', 'american', 'americans', 'ami', 'amiability', 'amiable', 'amicable', 'amicae', 'amid', 'among', 'amontillado', 'amount', 'amounted', 'amounting', 'amounts', 'amour', 'amphitheatre', 'ample', 'amplitudine', 'amply', 'amriccan', 'amuse', 'amused', 'amusement', 'amusements', 'amusing', 'amèrement', 'an', 'ana', 'analogical', 'analogies', 'analogous', 'analogy', 'analyse', 'analysis', 'analyst', 'analytic', 'analytical', 'analyze', 'analyzed', 'analyzing', 'anan', 'anatomical', 'anaxagoras', 'ancestor', 'ancestors', 'anchor', 'anchorage', 'ancient', 'and', 'andava', 'andree', 'andrews', 'andromache', 'andrée', 'anecdote', 'anecdotes', 'anemonae', 'anemone', 'anerh', 'aneurism', 'anfongsgrunde', 'angel', 'angelic', 'angels', 'anger', 'angle', 'angled', 'angler', 'angles', 'anglo', 'anglois', 'angrily', 'angry', 'anguish', 'angular', 'animadversion', 'animadversions', 'animal', 'animals', 'animated', 'animation', 'animosity', 'ankle', 'ankles', 'annihilated', 'annihilation', 'anniversary', 'announce', 'announcement', 'announcing', 'annoy', 'annoyance', 'annoyed', 'annoying', 'annoys', 'annual', 'annually', 'anomalies', 'anomalous', 'anomaly', 'anon', 'anonymous', 'another', 'answer', 'answered', 'answering', 'answers', 'antagonist', 'antagonistical', 'antares', 'ante', 'antediluvian', 'antennæ', 'anticipate', 'anticipated', 'anticipation', 'anticipations', 'antin', 'antioch', 'antiochia', 'antiochus', 'antipathies', 'antipathy', 'antipodes', 'antiquarian', 'antiquarians', 'antique', 'antiquities', 'antiquity', 'antiquum', 'antony', 'anxieties', 'anxiety', 'anxious', 'anxiously', 'anxther', 'any', 'anybody', 'anyhow', 'anything', 'aoede', 'aorta', 'apart', 'apartment', 'apartments', 'apathy', 'ape', 'aperture', 'apertures', 'apex', 'aphelion', 'aphrodite', 'apicius', 'apocryphal', 'apollo', 'apollonius', 'apologetic', 'apologie', 'apologies', 'apologize', 'apology', 'apophysis', 'apothecary', 'apothegm', 'apotheosis', 'apout', 'appalled', 'appalling', 'appals', 'apparatus', 'apparel', 'apparelled', 'apparent', 'apparently', 'apparition', 'appeal', 'appealing', 'appeals', 'appear', 'appearance', 'appearances', 'appeared', 'appearing', 'appears', 'appeased', 'appellation', 'appellations', 'appendages', 'appended', 'appendix', 'appertain', 'appertaining', 'appertains', 'appetite', 'applause', 'apple', 'apples', 'appliances', 'applicable', 'application', 'applicationem', 'applied', 'applies', 'apply', 'applying', 'appointed', 'appointment', 'appreciable', 'appreciate', 'appreciated', 'appreciation', 'apprehend', 'apprehended', 'apprehending', 'apprehension', 'apprehensions', 'apprehensive', 'apprentices', 'approach', 'approached', 'approaches', 'approaching', 'approbation', 'approbatory', 'appropriate', 'appropriated', 'approved', 'april', 'apt', 'apuleius', 'aqua', 'aquiline', 'arabella', 'arabesque', 'arabian', 'arago', 'arbitrary', 'arcadians', 'arch', 'archangel', 'archangels', 'arched', 'archimedean', 'archipelago', 'architect', 'architects', 'architectural', 'architecture', 'archives', 'archway', 'archytas', 'ardent', 'ardently', 'ardor', 'are', 'area', 'aren', 'argostino', 'argue', 'argued', 'argues', 'argument', 'argumentative', 'arguments', 'argumentum', 'aria', 'arianus', 'aries', 'aright', 'ariosto', 'arise', 'arisen', 'arises', 'arising', 'aristocracy', 'aristotelian', 'arithmetic', 'arithmetical', 'arm', 'armed', 'arming', 'armorial', 'armory', 'arms', 'army', 'arnheim', 'aromatic', 'arose', 'around', 'arouse', 'aroused', 'arousing', 'arpino', 'arrange', 'arranged', 'arrangement', 'arrangements', 'arranges', 'arranging', 'arrant', 'array', 'arrest', 'arrested', 'arrival', 'arrivals', 'arrive', 'arrived', 'arrives', 'arriving', 'arrogance', 'arrogated', 'arrondees', 'arrow', 'art', 'artemis', 'article', 'articles', 'articulation', 'articulo', 'artifices', 'artificial', 'artificialities', 'artillery', 'artisan', 'artist', 'artistic', 'artistical', 'arts', 'as', 'asbestic', 'ascend', 'ascendancy', 'ascended', 'ascending', 'ascension', 'ascensions', 'ascent', 'ascertain', 'ascertained', 'ascertaining', 'ashamed', 'ashes', 'ashimah', 'ashore', 'ashtophet', 'asiatic', 'aside', 'ask', 'asked', 'asks', 'aslant', 'asleep', 'aspect', 'aspects', 'asperation', 'asphodel', 'asphodels', 'asphytic', 'aspirations', 'aspires', 'aspiring', 'ass', 'assailed', 'assassin', 'assassinated', 'assassination', 'assassins', 'assault', 'assaulting', 'assemblage', 'assembled', 'assembly', 'assent', 'assented', 'assert', 'asserted', 'assertion', 'assertions', 'asserts', 'asses', 'asseverations', 'assiduously', 'assign', 'assignable', 'assigned', 'assist', 'assistance', 'assistant', 'assistants', 'assists', 'associate', 'associates', 'association', 'assoilzie', 'assume', 'assumed', 'assumes', 'assuming', 'assumption', 'assumptions', 'assurance', 'assure', 'assured', 'assuredly', 'assurement', 'assures', 'astarte', 'astern', 'asteroids', 'asthma', 'astonish', 'astonished', 'astonishing', 'astonishingly', 'astonishment', 'astoreth', 'astound', 'astounded', 'astounding', 'astoundingly', 'astrologers', 'astrology', 'astronomer', 'astronomers', 'astronomical', 'astronomy', 'astute', 'astuteness', 'asunder', 'asylum', 'at', 'atalanta', 'atalantic', 'ate', 'athenian', 'athens', 'athwart', 'atlantic', 'atmosphere', 'atmospheric', 'atom', 'atomic', 'atomies', 'atoms', 'atrocious', 'atrocities', 'atrocity', 'atrée', 'attach', 'attached', 'attaching', 'attachment', 'attack', 'attacked', 'attacks', 'attain', 'attainable', 'attained', 'attaining', 'attainment', 'attainments', 'attains', 'attempt', 'attempted', 'attempting', 'attempts', 'attend', 'attendance', 'attendant', 'attendants', 'attended', 'attending', 'attention', 'attentions', 'attentive', 'attentively', 'atticus', 'attired', 'attitude', 'attorney', 'attract', 'attracted', 'attracting', 'attraction', 'attractions', 'attributable', 'attribute', 'attributed', 'attributing', 'au', 'auction', 'audacious', 'audacities', 'audacity', 'audible', 'audibly', 'audience', 'auditory', 'aug', 'augmented', 'augmenting', 'august', 'auguste', 'augustus', 'aunt', 'auoir', 'aurelian', 'auriclas', 'auricula', 'auriculas', 'auspices', 'aussi', 'austere', 'austin', 'austrian', 'authenticated', 'author', 'authorities', 'authority', 'authors', 'authorship', 'autobiography', 'autocrats', 'autograph', 'automata', 'automaton', 'autres', 'autumn', 'autumnal', 'avail', 'availability', 'available', 'availed', 'availing', 'avails', 'avalanche', 'avarice', 'avaricious', 'avatar', 'ave', 'avenger', 'avenue', 'avenues', 'average', 'averni', 'averred', 'averse', 'aversion', 'averted', 'avidity', 'avisson', 'avoid', 'avoided', 'avoiding', 'avoirdupois', 'avowedly', 'await', 'awaited', 'awaiting', 'awake', 'awaken', 'awakened', 'awakening', 'awaking', 'aware', 'away', 'awe', 'awed', 'awful', 'awhile', 'awkward', 'awkwardly', 'awoke', 'awry', 'axe', 'axiom', 'axiomatic', 'axioms', 'axis', 'ay', 'aye', 'az', 'azrael', 'baal', 'babbage', 'babel', 'babies', 'baboon', 'baboons', 'babylon', 'bacchanalian', 'back', 'backed', 'backs', 'backward', 'bacon', 'baconian', 'bad', 'bade', 'baffled', 'baffles', 'bag', 'baggage', 'bagpipes', 'bags', 'baiae', 'bail', 'baissée', 'baked', 'balance', 'balanced', 'balancing', 'balconies', 'balderdash', 'ball', 'ballast', 'ballet', 'balloon', 'balloons', 'balm', 'baltimore', 'balustrade', 'bamboozled', 'ban', 'band', 'bandage', 'bandaged', 'bandages', 'bands', 'bank', 'banker', 'bankrupt', 'banks', 'banners', 'banter', 'bantry', 'baptism', 'baptismal', 'baptiste', 'bar', 'barac', 'barb', 'barbarous', 'barber', 'barclay', 'bard', 'bards', 'bare', 'barely', 'bargain', 'bargaining', 'barge', 'bargeman', 'bargemen', 'bark', 'barlow', 'barometer', 'barometers', 'baron', 'barred', 'barrel', 'barrels', 'barricade', 'barricaded', 'barriers', 'barrière', 'barroques', 'barry', 'bars', 'bartholinus', 'bas', 'base', 'based', 'baseless', 'bases', 'basest', 'basin', 'basis', 'basket', 'bass', 'basso', 'bat', 'batavia', 'bath', 'bathed', 'bathing', 'bats', 'batten', 'batter', 'battery', 'battle', 'battlement', 'battlements', 'bawled', 'bawling', 'bay', 'bayonet', 'be', 'beach', 'beads', 'beak', 'beam', 'beaming', 'beams', 'beant', 'bear', 'beard', 'bearer', 'bearing', 'bearings', 'bears', 'beast', 'beasts', 'beat', 'beaten', 'beati', 'beating', 'beau', 'beaucoup', 'beauties', 'beautiful', 'beautifully', 'beauty', 'beauvais', 'beaver', 'becalmed', 'became', 'because', 'beckoned', 'beckoning', 'become', 'becomes', 'becoming', 'bed', 'bedchamber', 'bedecked', 'bedewed', 'bedight', 'bedizzened', 'bedlamite', 'bedlo', 'bedloe', 'bedpost', 'bedposts', 'bedroom', 'beds', 'bedside', 'bedstead', 'bee', 'beefsteak', 'been', 'beer', 'bees', 'beetle', 'beetling', 'befall', 'befallen', 'befitting', 'before', 'befriended', 'befriends', 'befxre', 'beg', 'began', 'beggar', 'beggarly', 'beggary', 'begged', 'begging', 'begin', 'beginning', 'begins', 'begirt', 'begs', 'beguile', 'begun', 'behalf', 'behave', 'behaved', 'behaving', 'behavior', 'behaviour', 'beheld', 'behemoth', 'behind', 'behold', 'beholder', 'beholds', 'being', 'beings', 'bel', 'belabor', 'belay', 'belfry', 'belied', 'belief', 'believe', 'believed', 'believes', 'believing', 'bell', 'belles', 'belligerents', 'bellini', 'bellissima', 'bellowing', 'bellowings', 'bellows', 'bells', 'belong', 'belonged', 'belonging', 'belongs', 'beloved', 'below', 'belphegor', 'belt', 'belted', 'ben', 'benares', 'benches', 'bending', 'bendis', 'bends', 'beneath', 'benefit', 'benefits', 'bengalee', 'benign', 'benignity', 'bent', 'bentham', 'bentinck', 'bentley', 'bepuffed', 'bequeath', 'bequeathed', 'bequest', 'bereavement', 'berenice', 'berlifitzing', 'berlin', 'berry', 'berth', 'berths', 'beseamed', 'beseech', 'beset', 'beside', 'besides', 'besieged', 'besmeared', 'besotted', 'besought', 'bespeak', 'besprinkled', 'bess', 'bessop', 'best', 'bestir', 'bestow', 'bestowed', 'bestowing', 'bestrode', 'betaken', 'bethinking', 'bethought', 'bethumbed', 'betook', 'betrayal', 'betrayed', 'betrayer', 'betrays', 'betrothed', 'better', 'betting', 'between', 'bewilder', 'bewildered', 'bewildering', 'bewilderment', 'bewinged', 'bewitched', 'bewitching', 'bewitchingly', 'beyond', 'bi', 'bias', 'bibbing', 'bible', 'bibliographical', 'bibliotheca', 'bibulus', 'bid', 'bidden', 'bidding', 'bids', 'bien', 'bienseance', 'big', 'bigger', 'bignonia', 'bigoted', 'bijou', 'bilge', 'bill', 'billets', 'billingsgate', 'billow', 'bills', 'bin', 'binary', 'binder', 'biography', 'biot', 'birch', 'bird', 'birds', 'birth', 'birthday', 'bishop', 'bismuth', 'bison', 'bit', 'bite', 'bitten', 'bitter', 'bitterest', 'bitterly', 'bitterness', 'bivalve', 'bivouac', 'bizarre', 'bizarrerie', 'blab', 'black', 'blackberries', 'blackened', 'blacker', 'blackguard', 'blackguards', 'blacking', 'blackness', 'blackwood', 'bladders', 'blade', 'blades', 'blame', 'blanc', 'blandest', 'blank', 'blankets', 'blanks', 'blarney', 'blasphemous', 'blast', 'blasted', 'blaze', 'blazed', 'blazing', 'bleak', 'bled', 'bleeding', 'blemish', 'blend', 'blended', 'bless', 'blessed', 'blessing', 'blessings', 'bleu', 'bleus', 'blew', 'blieve', 'blind', 'blinded', 'blindly', 'blindness', 'blink', 'blinking', 'bliss', 'blissful', 'blitzen', 'block', 'blocks', 'blood', 'bloodless', 'bloody', 'bloom', 'bloomed', 'blossoming', 'blossoms', 'blotted', 'blotting', 'blow', 'blowing', 'blown', 'blows', 'bluddennuff', 'blue', 'blunder', 'blunderbuss', 'blunderbuzzard', 'blundering', 'blunt', 'blurred', 'blush', 'blushed', 'blushing', 'bluster', 'boar', 'board', 'boarded', 'boarding', 'boards', 'boasted', 'boat', 'boats', 'bob', 'bobby', 'bobolink', 'boded', 'bodies', 'bodiless', 'bodily', 'boding', 'body', 'bog', 'bogs', 'boiling', 'bois', 'boisterous', 'boisterously', 'bold', 'boldest', 'boldly', 'boldness', 'bolt', 'bolted', 'bolts', 'bombay', 'bombshell', 'bon', 'bona', 'bonaparte', 'bond', 'bonds', 'bone', 'boned', 'bones', 'bonfire', 'bonne', 'bonnet', 'book', 'booked', 'books', 'bookseller', 'boom', 'booming', 'booms', 'boon', 'boosed', 'boot', 'boots', 'bordeaux', 'border', 'bordered', 'bordering', 'borders', 'bore', 'boredom', 'boring', 'born', 'borne', 'borneo', 'bornese', 'borough', 'borrow', 'borrowed', 'borrows', 'bosky', 'bosom', 'bosoms', 'bossieux', 'bossuet', 'boston', 'bot', 'botanical', 'botanically', 'both', 'bottle', 'bottles', 'bottom', 'bottomed', 'bottoms', 'bouche', 'boudoir', 'bouffon', 'bought', 'bouleversement', 'boullard', 'boulogne', 'bound', 'boundaries', 'boundary', 'bounded', 'boundless', 'bounds', 'bouquets', 'bourdon', 'bout', 'bow', 'bowed', 'bowels', 'bower', 'bowing', 'bowl', 'bows', 'box', 'boxes', 'boy', 'boyhood', 'boyish', 'boys', 'boz', 'bracelet', 'brackets', 'braggadocio', 'brain', 'brains', 'brambles', 'bran', 'branch', 'branches', 'brand', 'brandished', 'brandy', 'bransby', 'bras', 'brass', 'bravado', 'brave', 'bravo', 'braying', 'brazen', 'brazier', 'breaches', 'bread', 'breadth', 'break', 'breakers', 'breakfast', 'breaking', 'breast', 'breath', 'breathe', 'breathed', 'breathes', 'breathing', 'breathings', 'breathless', 'breathlessly', 'bred', 'breeches', 'breed', 'breeding', 'breeze', 'bremen', 'brethren', 'brevet', 'brevity', 'brewing', 'brewster', 'brick', 'bricks', 'brickwork', 'bridal', 'bride', 'bridge', 'brief', 'briefly', 'brigadier', 'bright', 'brightened', 'brighter', 'brightest', 'brightly', 'brilliancy', 'brilliant', 'brilliantly', 'brim', 'brimful', 'bring', 'bringhurst', 'bringing', 'brings', 'brink', 'brisk', 'briskly', 'bristles', 'britain', 'britannia', 'britannica', 'british', 'broach', 'broad', 'broadcloth', 'broadest', 'broadway', 'brobdignag', 'brocade', 'brochures', 'broglio', 'broils', 'broke', 'broken', 'brooded', 'brook', 'brother', 'brotherhood', 'brothers', 'brougham', 'brought', 'brow', 'brownson', 'brows', 'bruise', 'bruised', 'bruises', 'bruited', 'brun', 'brunswick', 'brush', 'brushed', 'brushes', 'brushing', 'brusquerie', 'brussels', 'brutal', 'brutally', 'brute', 'brutus', 'bryant', 'brève', 'bubastis', 'buck', 'bucket', 'buckholm', 'buckingham', 'buckle', 'buckles', 'buckskin', 'bud', 'buffaloes', 'buffon', 'buffoon', 'buffooneries', 'buffoons', 'bug', 'bugaboo', 'bugaboos', 'bugbears', 'bugs', 'build', 'building', 'buildings', 'built', 'bulk', 'bulky', 'bull', 'bullet', 'bullethead', 'bulls', 'bulwarks', 'bump', 'bumper', 'bumpkin', 'bunch', 'bundle', 'bung', 'buoy', 'buoyant', 'buoyantly', 'buoyed', 'buoys', 'buppy', 'burden', 'burdens', 'bureau', 'buren', 'burghers', 'burgomaster', 'burgomasters', 'burial', 'buried', 'buries', 'burn', 'burned', 'burning', 'burnished', 'burnt', 'burr', 'burst', 'bursting', 'bursts', 'burthen', 'burthened', 'burthening', 'bury', 'burying', 'bush', 'bushes', 'busied', 'busies', 'busily', 'business', 'buskin', 'bussy', 'bust', 'bustle', 'bustled', 'busy', 'busying', 'but', 'butcheries', 'butchery', 'butefulle', 'butt', 'butter', 'buttercup', 'butterflies', 'butterfly', 'button', 'buttons', 'buttresses', 'buy', 'buying', 'buzz', 'bxg', 'bxw', 'bxwl', 'by', 'bye', 'bygone', 'byron', 'bystanders', 'bête', 'cabalistic', 'cabalistical', 'cabbage', 'cabbaged', 'cabbages', 'cabin', 'cabinet', 'cabins', 'caboose', 'cadaverous', 'cadaverousness', 'cadence', 'cadences', 'cadet', 'cage', 'cajoled', 'cake', 'cakes', 'calamities', 'calamitous', 'calamity', 'calculate', 'calculated', 'calculating', 'calculation', 'calculations', 'calculus', 'calcutta', 'calf', 'california', 'caligula', 'call', 'called', 'calling', 'calls', 'calm', 'calmest', 'calmly', 'calmness', 'caloric', 'cambric', 'came', 'cameleopard', 'cameleopards', 'camp', 'campaign', 'campanella', 'campi', 'camus', 'can', 'canal', 'canaries', 'cancale', 'cancel', 'candelabra', 'candelabrum', 'candid', 'candle', 'candles', 'candor', 'cane', 'caning', 'canisters', 'cannon', 'cannot', 'canoe', 'canopy', 'cant', 'canteen', 'canteens', 'canvas', 'canvass', 'caoutchouc', 'cap', 'capabilities', 'capability', 'capable', 'capacious', 'capacities', 'capacity', 'caparisoned', 'cape', 'capered', 'capers', 'capital', 'capitals', 'capon', 'caprice', 'caprices', 'capricornutti', 'caps', 'capsize', 'capt', 'captain', 'captivated', 'captive', 'captured', 'capuletti', 'caput', 'car', 'caracols', 'caravaggio', 'carcase', 'carcass', 'carcasses', 'card', 'carded', 'cards', 'care', 'cared', 'career', 'careered', 'careering', 'careful', 'carefully', 'careless', 'carelessly', 'cares', 'caressed', 'caresses', 'caressing', 'cargo', 'caricature', 'carlos', 'carne', 'carnival', 'carolina', 'carousal', 'carousals', 'carpaccio', 'carpenters', 'carpet', 'carpeted', 'carpets', 'carriage', 'carried', 'carrier', 'carries', 'carry', 'carrying', 'cart', 'carted', 'cartel', 'cartes', 'carthaginian', 'cartilaginous', 'carve', 'carved', 'carvers', 'carving', 'carvings', 'case', 'casement', 'casements', 'cases', 'cash', 'casimir', 'cask', 'casks', 'cassock', 'cast', 'castellated', 'casting', 'castle', 'castles', 'castor', 'castors', 'casual', 'casually', 'cat', 'catacombs', 'catalani', 'catalepsy', 'cataleptic', 'cataleptical', 'catalogue', 'catalpa', 'catalpas', 'catapult', 'cataract', 'cataracts', 'catastrophe', 'catch', 'catching', 'catechism', 'category', 'caterwauled', 'caterwauling', 'cathedral', 'cats', 'caught', 'cauliflowers', 'cause', 'caused', 'causeless', 'causes', 'causeway', 'causing', 'caustic', 'caution', 'cautioned', 'cautious', 'cautiously', 'cavalier', 'cavern', 'cavernous', 'caverns', 'cavities', 'cavity', 'cayley', 'cc', 'ce', 'cease', 'ceased', 'ceaseless', 'ceases', 'ceasing', 'cecila', 'cecilia', 'ceiling', 'ceilings', 'celebrated', 'celebration', 'celebrity', 'cell', 'cellar', 'cellars', 'cells', 'cellular', 'cemeteries', 'censer', 'censers', 'cent', 'center', 'central', 'centre', 'centres', 'centrifugal', 'centripetal', 'cents', 'centuries', 'century', 'cerements', 'ceremonial', 'ceremonies', 'ceremony', 'certain', 'certainly', 'certainty', 'certum', 'cervantes', 'ces', 'cessation', 'cessations', 'cet', 'cetera', 'cette', 'chafed', 'chagrin', 'chagrined', 'chain', 'chained', 'chains', 'chair', 'chairs', 'chaise', 'chaldaea', 'chalk', 'challenge', 'chamber', 'chambers', 'chambertin', 'chambre', 'chamfort', 'champagne', 'champion', 'chance', 'chanced', 'chances', 'change', 'changed', 'changes', 'changing', 'channel', 'channels', 'channing', 'chantilly', 'chanting', 'chaos', 'chaotic', 'chap', 'chapeau', 'chapman', 'chapter', 'chapters', 'character', 'characteristic', 'characteristically', 'characteristics', 'characterization', 'characterize', 'characterized', 'characters', 'charcoal', 'charge', 'charged', 'charger', 'charges', 'charitable', 'charity', 'charlatanerie', 'charles', 'charleston', 'charlestown', 'charlottesville', 'charm', 'charming', 'charmion', 'charms', 'charnel', 'chart', 'chartreuse', 'chase', 'chased', 'chasm', 'chasms', 'chassez', 'chastity', 'chat', 'chateau', 'chateaubriand', 'chatted', 'chatter', 'chattered', 'chattering', 'chaussée', 'che', 'cheap', 'cheat', 'cheats', 'check', 'checked', 'cheek', 'cheeks', 'cheer', 'cheerful', 'cheerfully', 'cheerfulness', 'cheerily', 'cheering', 'cheers', 'cheese', 'chemical', 'chemically', 'chemin', 'chemist', 'chequered', 'cher', 'cherished', 'cherishing', 'cherub', 'chess', 'chessboard', 'chessmen', 'chest', 'chestnuts', 'chevalier', 'cheyte', 'chez', 'chian', 'chichester', 'chicken', 'chickens', 'chided', 'chief', 'chiefly', 'chien', 'child', 'childhood', 'childish', 'childishly', 'children', 'chili', 'chill', 'chilled', 'chilliness', 'chilling', 'chills', 'chilly', 'chimaeras', 'chime', 'chimed', 'chimera', 'chimerical', 'chiming', 'chimney', 'chimneys', 'chimpanzees', 'chin', 'chinese', 'chins', 'chip', 'chiponchipino', 'chiromancy', 'chirp', 'chirurgical', 'chisel', 'chiseled', 'chiselled', 'chiselling', 'chivalrous', 'chivalry', 'chloride', 'cho', 'choctaw', 'choctaws', 'choice', 'choked', 'choking', 'choose', 'chooses', 'chopped', 'chopping', 'chops', 'chords', 'chorum', 'chose', 'chosen', 'choses', 'christ', 'christendom', 'christened', 'christi', 'christian', 'chronic', 'chronometer', 'chrysalis', 'chuckle', 'chuckled', 'chuckling', 'church', 'churches', 'château', 'cicero', 'cigar', 'cimabue', 'cimabué', 'cipher', 'ciphers', 'circle', 'circles', 'circuit', 'circuitous', 'circular', 'circulated', 'circulation', 'circumambient', 'circumference', 'circumgyratory', 'circumjacent', 'circumlocution', 'circumscribing', 'circumstance', 'circumstanced', 'circumstances', 'circumstantial', 'circumvolutions', 'citadel', 'citation', 'cities', 'citing', 'citizen', 'citizens', 'city', 'civil', 'civilities', 'civility', 'civilization', 'civilize', 'clad', 'claim', 'claimant', 'claimed', 'claims', 'clambered', 'clambering', 'clamminess', 'clammy', 'clamor', 'clamored', 'clamorer', 'clamorously', 'clandestinely', 'clangor', 'clangorous', 'clanking', 'clapped', 'clapper', 'clarke', 'clasp', 'clasped', 'class', 'classes', 'classical', 'classically', 'classify', 'classifying', 'clatter', 'clattering', 'claude', 'clause', 'claws', 'clay', 'clean', 'cleanest', 'cleanly', 'clear', 'cleared', 'clearer', 'clearest', 'clearing', 'clearly', 'clearness', 'cleft', 'clematis', 'clenched', 'cleomenes', 'clergyman', 'clerically', 'clerk', 'clever', 'cleverly', 'cleverness', 'clew', 'cliff', 'cliffs', 'climate', 'climax', 'climb', 'climber', 'climbing', 'clime', 'cling', 'cloak', 'cloaks', 'clock', 'clocks', 'clod', 'cloister', 'clos', 'close', 'closed', 'closely', 'closeness', 'closer', 'closes', 'closest', 'closet', 'closets', 'closing', 'cloth', 'clothed', 'clothes', 'clothing', 'clotted', 'cloud', 'clouded', 'clouds', 'cloudy', 'clout', 'clown', 'club', 'clubs', 'clue', 'clump', 'clumps', 'clumsily', 'clung', 'cluster', 'clustered', 'clutched', 'clutches', 'clutching', 'co', 'coach', 'coachman', 'coadjutor', 'coadjutors', 'coal', 'coalesce', 'coalescence', 'coals', 'coarse', 'coast', 'coastmen', 'coat', 'coating', 'coats', 'cobbett', 'cobbler', 'cock', 'cocked', 'cocking', 'cocoa', 'code', 'coelius', 'coffee', 'coffer', 'coffin', 'coffins', 'cognizance', 'cognizant', 'cognomen', 'cognoscenti', 'cohort', 'coin', 'coinage', 'coincide', 'coincidence', 'coincidences', 'coincident', 'coins', 'cold', 'coldness', 'coleridge', 'collapsed', 'collar', 'collated', 'collateral', 'collation', 'collect', 'collected', 'collectedly', 'collecting', 'collection', 'collectively', 'collector', 'college', 'colleges', 'collegians', 'collision', 'collocation', 'collocations', 'colloquialism', 'colloquy', 'collusion', 'color', 'colored', 'colors', 'colossal', 'colouring', 'colours', 'columbiad', 'column', 'columnar', 'columns', 'com', 'combat', 'combativeness', 'combattendo', 'combination', 'combinations', 'combine', 'combined', 'combing', 'combining', 'combustible', 'come', 'comeagain', 'comes', 'comet', 'cometary', 'cometh', 'comets', 'comfortable', 'comforter', 'comfortless', 'comicality', 'coming', 'command', 'commanded', 'commanding', 'comme', 'commemorates', 'commence', 'commenced', 'commencement', 'commencements', 'commences', 'commencing', 'commendable', 'commendation', 'commensurate', 'comment', 'commentaries', 'commented', 'commenting', 'comments', 'commerce', 'commerciel', 'commingled', 'commiseration', 'commission', 'commit', 'committed', 'committee', 'committing', 'commodious', 'commodities', 'commodus', 'common', 'commonalty', 'commoner', 'commonest', 'commonly', 'commotion', 'communicate', 'communicated', 'communicates', 'communicating', 'communication', 'communications', 'communion', 'community', 'compact', 'companion', 'companionless', 'companions', 'companionship', 'company', 'comparative', 'comparatively', 'compare', 'compared', 'comparing', 'comparison', 'compartment', 'compartments', 'compass', 'compassion', 'compassioning', 'compassless', 'compeers', 'compel', 'compelled', 'compels', 'compendious', 'compendium', 'compensated', 'compensation', 'competing', 'competition', 'compiled', 'compiler', 'complacency', 'complacent', 'complacently', 'complain', 'complained', 'complaisance', 'complete', 'completed', 'completely', 'completing', 'completion', 'complex', 'complexion', 'complexity', 'compliance', 'complicated', 'compliment', 'compliments', 'comply', 'complying', 'compose', 'composed', 'composing', 'composite', 'composition', 'compositions', 'composure', 'compound', 'comprehend', 'comprehended', 'comprehending', 'comprehensible', 'comprehension', 'comprehensive', 'compressed', 'compressing', 'compression', 'comprising', 'compromised', 'comptoir', 'compulsory', 'compute', 'computed', 'con', 'concave', 'concavity', 'conceal', 'concealed', 'concealing', 'concealment', 'concealments', 'conceals', 'conceit', 'conceivable', 'conceive', 'conceived', 'conceiving', 'concentrated', 'concentration', 'concentrative', 'concentric', 'conception', 'conceptions', 'concern', 'concerned', 'concerning', 'concerns', 'concert', 'concerto', 'concierge', 'conciliate', 'concision', 'conclude', 'concluded', 'concludes', 'concluding', 'conclusion', 'conclusions', 'conclusive', 'concocted', 'concocting', 'concord', 'concrete', 'concurred', 'concurrence', 'concussions', 'condemnation', 'condemned', 'condensation', 'condense', 'condensed', 'condenser', 'condensing', 'condescended', 'condition', 'conditionally', 'conditioned', 'conditions', 'condor', 'condorcet', 'conduct', 'conduit', 'cone', 'confectioner', 'confederacy', 'confer', 'conference', 'confess', 'confessed', 'confession', 'confessions', 'confide', 'confided', 'confidence', 'confident', 'confidential', 'confidently', 'confiding', 'confine', 'confined', 'confinement', 'confines', 'confining', 'confirmation', 'confirmed', 'conflagration', 'conflict', 'conflicting', 'conformation', 'confound', 'confounded', 'confounds', 'confront', 'confronted', 'confronting', 'confronts', 'confused', 'confusedly', 'confusion', 'confutation', 'confute', 'confuted', 'congeniality', 'conglomeration', 'congratulated', 'congregated', 'congress', 'conic', 'conical', 'conjecture', 'conjectures', 'conjoined', 'conjointly', 'conjunction', 'conjuror', 'connected', 'connecting', 'connection', 'connections', 'connell', 'connexion', 'connexions', 'connings', 'connivance', 'connoisseur', 'conquer', 'conqueror', 'conquers', 'conscience', 'conscientious', 'conscientiously', 'conscious', 'consciousness', 'consecutive', 'consent', 'consented', 'consenting', 'consequence', 'consequences', 'consequent', 'consequently', 'considdeble', 'consider', 'considerable', 'considerably', 'considerate', 'consideration', 'considerations', 'considered', 'considering', 'considers', 'consigned', 'consigning', 'consist', 'consisted', 'consistency', 'consistent', 'consisting', 'consists', 'consolation', 'consolations', 'consolatory', 'consoled', 'consoles', 'consort', 'conspicuous', 'conspicuously', 'conspiracy', 'conspired', 'constables', 'constant', 'constantly', 'consternation', 'constituted', 'constitutes', 'constitution', 'constitutional', 'constitutionally', 'constrained', 'constraint', 'constriction', 'construct', 'constructed', 'constructing', 'construction', 'constructionem', 'constructive', 'constructs', 'construed', 'consubstantialism', 'consult', 'consultations', 'consulting', 'consults', 'consumed', 'consuming', 'consummate', 'consummated', 'consummation', 'consumption', 'consumptive', 'contact', 'contagion', 'contain', 'contained', 'containing', 'contains', 'contemns', 'contemplated', 'contemplating', 'contemplation', 'contemplative', 'contemporaries', 'contempt', 'contemptible', 'contemptuously', 'contend', 'contended', 'contending', 'content', 'contented', 'contentedly', 'contenting', 'contention', 'contento', 'contents', 'contes', 'contest', 'context', 'contiguous', 'continent', 'continental', 'continents', 'contingencies', 'continual', 'continually', 'continue', 'continued', 'continues', 'continuing', 'continuous', 'continuously', 'contortions', 'contour', 'contract', 'contracted', 'contraction', 'contradicted', 'contradiction', 'contradictions', 'contradictories', 'contradictory', 'contradistinction', 'contralto', 'contrary', 'contrast', 'contre', 'contree', 'contributed', 'contribution', 'contributions', 'contributors', 'contrivance', 'contrivances', 'contrive', 'contrived', 'control', 'controversy', 'controvert', 'contusion', 'conundrums', 'convalescent', 'convenience', 'conveniences', 'convenient', 'conveniently', 'convention', 'conventional', 'conventionalities', 'convenue', 'conversant', 'conversation', 'conversational', 'conversations', 'converse', 'conversed', 'converses', 'conversible', 'conversing', 'convert', 'converted', 'convex', 'convexity', 'convey', 'conveyed', 'conveying', 'conveys', 'convict', 'conviction', 'convince', 'convinced', 'convinces', 'convincing', 'convolute', 'convolutions', 'convulsion', 'convulsions', 'convulsive', 'convulsively', 'cooing', 'cool', 'coolly', 'coolness', 'cools', 'coop', 'copernicus', 'copied', 'copies', 'copious', 'copiously', 'copper', 'coppered', 'coppice', 'copy', 'copyist', 'coquet', 'coquetry', 'coquetted', 'coquettish', 'coral', 'cord', 'cordage', 'cordial', 'cordiality', 'cordially', 'cordova', 'corinnos', 'cork', 'corn', 'cornelius', 'corner', 'cornered', 'corners', 'cornice', 'cornices', 'corns', 'cornwallis', 'corporate', 'corporation', 'corps', 'corpse', 'corpses', 'corpulent', 'correct', 'corrected', 'correcting', 'correction', 'correctly', 'correspond', 'correspondence', 'correspondent', 'correspondents', 'corresponding', 'corridor', 'corridors', 'corroborate', 'corroborated', 'corroborates', 'corroboration', 'corroborative', 'corrosion', 'corrosive', 'corrupitur', 'corruption', 'corty', 'cosmogony', 'cost', 'costly', 'costume', 'costumes', 'cotch', 'cotopaxi', 'cottage', 'cottle', 'cotton', 'couch', 'cough', 'could', 'couldn', 'couldst', 'council', 'councils', 'counsel', 'counsels', 'count', 'counted', 'countenance', 'countenanced', 'countenances', 'counter', 'counteracted', 'counterbalance', 'counterbalances', 'counterfeit', 'counterfeiting', 'counterfeits', 'counterpart', 'counters', 'counties', 'counting', 'countless', 'country', 'countrymen', 'counts', 'county', 'coup', 'couple', 'coupled', 'courage', 'courageously', 'courier', 'course', 'coursers', 'courses', 'court', 'courtesy', 'courtier', 'courtiers', 'courts', 'cousin', 'cousins', 'cove', 'covenant', 'cover', 'covered', 'covering', 'covers', 'covert', 'coveted', 'cow', 'cowards', 'crab', 'crack', 'cracked', 'cracking', 'crackling', 'cradle', 'craft', 'crafty', 'crag', 'craggy', 'crags', 'crammed', 'cranium', 'crank', 'cravat', 'craving', 'crawling', 'crayons', 'crazy', 'creaked', 'creases', 'create', 'created', 'creates', 'creating', 'creation', 'creations', 'creative', 'creator', 'creature', 'creatures', 'crebillon', 'credence', 'credentials', 'credible', 'credit', 'credited', 'creditors', 'credulity', 'creed', 'creek', 'creep', 'creeping', 'crept', 'crescent', 'cresset', 'crest', 'crevice', 'crew', 'cricket', 'cried', 'cries', 'crime', 'crimes', 'criminate', 'crimson', 'crisis', 'crisp', 'criterion', 'critic', 'critical', 'criticise', 'criticism', 'croak', 'croaked', 'croissart', 'crooked', 'crops', 'cross', 'crossed', 'crossing', 'crossings', 'crotchet', 'crouch', 'crow', 'crowbar', 'crowd', 'crowded', 'crowding', 'crown', 'crowned', 'crows', 'crucible', 'crucibles', 'crucifixes', 'crude', 'cruel', 'cruelly', 'cruelty', 'cruises', 'crumbled', 'crumbling', 'crumple', 'crumpled', 'crushed', 'crushing', 'crxw', 'crxwing', 'cry', 'crypt', 'cryptograph', 'cryptographist', 'crystal', 'crébillon', 'cub', 'cubic', 'cubical', 'cudgel', 'cue', 'cuff', 'cuffing', 'cui', 'culley', 'culpable', 'cultivated', 'cultivating', 'cultivation', 'culture', 'cum', 'cunning', 'cunningly', 'cup', 'cupboard', 'cupboards', 'cur', 'curas', 'cure', 'cured', 'cures', 'curio', 'curiosities', 'curiosity', 'curious', 'curiously', 'curling', 'curls', 'curly', 'curmudgeon', 'currency', 'current', 'currents', 'currycomb', 'curse', 'cursed', 'cursing', 'cursory', 'curt', 'curtail', 'curtain', 'curtains', 'curtis', 'curvature', 'curve', 'curved', 'curvets', 'curvetted', 'cushion', 'cushioned', 'cushions', 'cusps', 'custom', 'customarily', 'customary', 'customer', 'customers', 'customs', 'cut', 'cuts', 'cutter', 'cutting', 'cuvier', 'cxck', 'cxme', 'cxncxrd', 'cxw', 'cxxl', 'cycle', 'cycles', 'cylinder', 'cylinders', 'cylindrical', 'cypher', 'cypress', 'cypresses', 'cyrus', 'céder', 'cöincident', 'dabbled', 'dabbler', 'dabbling', 'daddy', 'daddyship', 'dagger', 'daily', 'daintiest', 'daintiness', 'dainty', 'dais', 'daisies', 'daisy', 'dalliance', 'dallying', 'damage', 'damaged', 'damages', 'damascus', 'dames', 'dammed', 'damn', 'damnable', 'damnation', 'damned', 'damning', 'damp', 'dampness', 'damps', 'damsels', 'dan', 'dance', 'danced', 'dancers', 'dances', 'dancing', 'dandy', 'danger', 'dangerous', 'dangerously', 'dangers', 'dangle', 'dangled', 'dangling', 'daniel', 'dank', 'dante', 'daphne', 'daphnis', 'dar', 'dare', 'dared', 'dares', 'daring', 'dark', 'darkened', 'darker', 'darkest', 'darkling', 'darkly', 'darkness', 'darry', 'dart', 'darted', 'dashed', 'dashing', 'dastardly', 'dat', 'data', 'date', 'dating', 'daubed', 'daughter', 'daughters', 'david', 'davidson', 'davy', 'dawn', 'dawned', 'dawns', 'day', 'daybreak', 'daylight', 'days', 'daytime', 'dazzle', 'dazzled', 'dazzling', 'de', 'dead', 'deaden', 'deadened', 'deadly', 'deaf', 'deafen', 'deal', 'dealer', 'dealings', 'dealt', 'dear', 'dearest', 'death', 'deathful', 'deaths', 'debauch', 'debaucheries', 'debbil', 'debbils', 'debt', 'debts', 'decadence', 'decamps', 'decanter', 'decay', 'decayed', 'decaying', 'decease', 'deceased', 'deceit', 'deceived', 'decency', 'decent', 'decently', 'deception', 'decide', 'decided', 'decidedly', 'deciding', 'decision', 'decisions', 'decisive', 'decisively', 'deck', 'declaration', 'declare', 'declared', 'declares', 'declaring', 'decline', 'declined', 'declines', 'declining', 'declivity', 'decollavimus', 'decomposed', 'decomposition', 'decora', 'decoration', 'decorations', 'decorist', 'decorum', 'decrease', 'decreases', 'decreasing', 'decree', 'decrees', 'decypher', 'decyphering', 'deduce', 'deduced', 'deducible', 'deducing', 'deductions', 'deductive', 'dee', 'deed', 'deeds', 'deem', 'deemed', 'deep', 'deepen', 'deepened', 'deepening', 'deeper', 'deepest', 'deeply', 'deer', 'default', 'defeat', 'defeated', 'defect', 'defective', 'defects', 'defence', 'defenceless', 'defend', 'defended', 'deference', 'deferred', 'deferring', 'defiance', 'deficiencies', 'deficiency', 'deficient', 'defied', 'define', 'defined', 'definite', 'definitely', 'definiteness', 'definition', 'definitive', 'definitiveness', 'deflect', 'deformed', 'deformity', 'defy', 'defying', 'degradation', 'degree', 'degrees', 'dei', 'deigning', 'deity', 'dejected', 'del', 'delay', 'deliberate', 'deliberately', 'deliberateness', 'deliberation', 'delicacy', 'delicate', 'delicately', 'delicious', 'deliciously', 'delight', 'delighted', 'delightful', 'delightfully', 'delighting', 'delineated', 'delineation', 'delirious', 'delirium', 'deliver', 'deliverance', 'delivered', 'deliverer', 'deliverers', 'delivers', 'delivery', 'delly', 'deloraine', 'delphinus', 'deluc', 'delude', 'deluge', 'deluged', 'delusion', 'delusive', 'dem', 'demand', 'demanded', 'demanding', 'demands', 'demeanor', 'demented', 'demerit', 'demijohns', 'demnition', 'democracy', 'democratic', 'democritus', 'demolished', 'demon', 'demoniac', 'demoniacal', 'demoniacally', 'demons', 'demonstrable', 'demonstrably', 'demonstrate', 'demonstrated', 'demonstrates', 'demonstration', 'demonstrations', 'demosthenes', 'demur', 'demure', 'demurely', 'demureness', 'den', 'denial', 'denied', 'denies', 'denis', 'denizens', 'denn', 'denominate', 'denominated', 'denomination', 'denoted', 'denouement', 'denouncement', 'denouncing', 'dense', 'densely', 'denser', 'densities', 'density', 'dents', 'deny', 'denying', 'depart', 'departed', 'departing', 'departs', 'departure', 'depend', 'depended', 'dependence', 'dependent', 'depending', 'depends', 'depict', 'depicted', 'deplorable', 'depopulated', 'deposed', 'deposes', 'deposit', 'deposited', 'depositing', 'deposition', 'deposits', 'depot', 'deprecates', 'depreciations', 'depressed', 'depression', 'depressions', 'deprive', 'deprived', 'depth', 'depths', 'deputed', 'der', 'derision', 'derisive', 'derivable', 'derivation', 'derivationibus', 'derivative', 'derive', 'derived', 'derives', 'des', 'descant', 'descanted', 'descend', 'descendant', 'descended', 'descending', 'descends', 'descensus', 'descent', 'descents', 'describe', 'described', 'describes', 'describing', 'description', 'descriptions', 'descriptive', 'dese', 'desecrating', 'desert', 'deserted', 'deserve', 'deserved', 'deserves', 'desideratum', 'design', 'designate', 'designated', 'designates', 'designations', 'designed', 'designs', 'desire', 'desired', 'desires', 'desirous', 'desk', 'desks', 'desolate', 'desolation', 'desoulieres', 'despair', 'despaired', 'despairing', 'despairingly', 'despatched', 'despera', 'desperado', 'desperadoes', 'desperate', 'desperately', 'desperation', 'despicable', 'despise', 'despised', 'despises', 'despising', 'despite', 'despoiled', 'despotic', 'despotism', 'dessein', 'dessert', 'destination', 'destined', 'destinies', 'destiny', 'destroy', 'destroyed', 'destroyer', 'destroying', 'destruction', 'desultory', 'detach', 'detaching', 'detail', 'detailed', 'detailing', 'details', 'detain', 'detained', 'detect', 'detected', 'detecting', 'detection', 'deter', 'deteriorate', 'determinate', 'determination', 'determine', 'determined', 'determining', 'deterred', 'deters', 'detestable', 'detested', 'deuced', 'deux', 'devastated', 'developed', 'developing', 'development', 'developments', 'deviate', 'deviates', 'deviations', 'device', 'devices', 'devil', 'devilish', 'devils', 'devious', 'devised', 'devising', 'devoid', 'devolving', 'devote', 'devoted', 'devotedly', 'devoting', 'devotion', 'devour', 'devoured', 'devout', 'devoutest', 'devoutly', 'dew', 'dews', 'dexterity', 'dexterously', 'dey', 'di', 'diable', 'diagnosis', 'diagonally', 'dial', 'diameter', 'diamond', 'diamonds', 'dian', 'diana', 'diary', 'diatribe', 'diavolo', 'dice', 'dicebant', 'dick', 'dickey', 'dictate', 'dictated', 'dictates', 'did', 'didactic', 'diddle', 'diddled', 'diddler', 'diddles', 'diddling', 'didn', 'didst', 'die', 'died', 'dies', 'diet', 'dieth', 'dieu', 'differ', 'differed', 'difference', 'differences', 'different', 'differential', 'differently', 'differing', 'differs', 'difficult', 'difficulties', 'difficulty', 'diffuse', 'diffused', 'diffusion', 'diffusive', 'dig', 'digest', 'digested', 'digging', 'digits', 'digne', 'dignified', 'dignity', 'dilapidated', 'dilate', 'dilation', 'dilemma', 'diligence', 'diligent', 'diligently', 'diluted', 'dim', 'dimension', 'dimensions', 'diminish', 'diminished', 'diminishing', 'diminution', 'diminutive', 'dimmer', 'dimpled', 'dimples', 'din', 'dingy', 'dining', 'dinner', 'dinners', 'dint', 'diodorus', 'diogenes', 'dios', 'diplomacy', 'diplomatist', 'dipped', 'dips', 'direct', 'directed', 'directing', 'direction', 'directions', 'directly', 'directors', 'direful', 'direst', 'dirt', 'dirteen', 'dirty', 'dis', 'disabuse', 'disadvantage', 'disadvantages', 'disagreeable', 'disagreed', 'disagreement', 'disappear', 'disappearance', 'disappeared', 'disappearing', 'disappears', 'disappointed', 'disappointment', 'disarrange', 'disarranged', 'disarrangement', 'disaster', 'disastrous', 'disastrously', 'disbelief', 'disbelieve', 'disbelieving', 'disburses', 'discard', 'discarded', 'discern', 'discerned', 'discernible', 'discharge', 'discharged', 'discharges', 'discharging', 'disciple', 'disciples', 'disclaim', 'disclose', 'disclosed', 'disclosing', 'disclosure', 'discoloration', 'discolored', 'discomfited', 'discomfiture', 'discomfort', 'discomposed', 'disconcert', 'disconcerted', 'disconsolate', 'disconsolately', 'discontinuance', 'discordant', 'discordantly', 'discourage', 'discouraged', 'discourse', 'discoursed', 'discoursing', 'discover', 'discoverable', 'discovered', 'discoveries', 'discovering', 'discovery', 'discreditable', 'discrepancies', 'discrepancy', 'discretion', 'discrimination', 'discriminative', 'discursive', 'discuss', 'discussed', 'discussing', 'discussion', 'discussions', 'disdain', 'disdained', 'disdaining', 'disease', 'diseased', 'diseases', 'disenchained', 'disenfranchised', 'disengage', 'disengaged', 'disengagement', 'disentangled', 'disentangles', 'disfigured', 'disfigures', 'disgraceful', 'disgracefully', 'disguise', 'disgust', 'disgusted', 'disgusting', 'dish', 'disheartened', 'dishes', 'dishevelled', 'disinclined', 'disingenuous', 'disinter', 'disinterment', 'disinterred', 'disinterring', 'disk', 'dislike', 'dislikes', 'dislodged', 'dislodging', 'dismal', 'dismally', 'dismay', 'dismembered', 'dismiss', 'dismissed', 'dismissing', 'disorder', 'disordered', 'disorders', 'disorganization', 'dispassionate', 'dispelief', 'dispelled', 'dispense', 'dispensed', 'dispirited', 'displace', 'displaced', 'displaces', 'displacing', 'display', 'displayed', 'displaying', 'displays', 'displeased', 'displeases', 'displeasure', 'disposal', 'dispose', 'disposed', 'disposing', 'disposition', 'disproportion', 'disproved', 'dispute', 'disputed', 'disputes', 'disputing', 'disquietude', 'disquisitions', 'disregarded', 'disregardful', 'disregarding', 'disrepute', 'disruption', 'dissatisfaction', 'dissect', 'dissecting', 'dissection', 'dissemble', 'disservice', 'dissimilar', 'dissimulation', 'dissipate', 'dissipated', 'dissipating', 'dissipation', 'dissolute', 'dissolution', 'dissonant', 'dissuaded', 'distance', 'distances', 'distant', 'distantly', 'distasteful', 'distempered', 'distended', 'distending', 'distension', 'distention', 'distillation', 'distinct', 'distinction', 'distinctive', 'distinctly', 'distinctness', 'distinguish', 'distinguishable', 'distinguished', 'distinguishing', 'distingué', 'distorted', 'distortion', 'distracted', 'distress', 'distressed', 'distressing', 'distributio', 'district', 'districts', 'disturb', 'disturbance', 'disturbances', 'disturbed', 'disturbing', 'dithyrambics', 'ditty', 'dived', 'diverging', 'diverse', 'diversity', 'diverted', 'diverting', 'divest', 'divested', 'divesting', 'divide', 'divided', 'divides', 'dividing', 'divine', 'divinely', 'divinest', 'divinity', 'division', 'divisions', 'divorce', 'divulge', 'divulged', 'dizzily', 'dizziness', 'dizzy', 'dizzying', 'do', 'dobson', 'doch', 'docility', 'docos', 'doctor', 'doctors', 'doctrines', 'document', 'documents', 'dod', 'dodona', 'does', 'doesn', 'doffed', 'dog', 'dogged', 'doggedly', 'doggrel', 'dogless', 'dogma', 'dogmatic', 'dogmaticians', 'dogs', 'doing', 'doings', 'doll', 'dollar', 'dollars', 'dolt', 'domain', 'domains', 'domestic', 'domesticated', 'domination', 'dominic', 'dominion', 'dominions', 'domino', 'don', 'done', 'donjon', 'donkey', 'donkeys', 'donna', 'donner', 'doo', 'doodle', 'doodling', 'doom', 'doomed', 'doomsday', 'dooo', 'dooooooh', 'door', 'doors', 'doorway', 'dormant', 'dormitories', 'dose', 'dost', 'dotage', 'doth', 'doting', 'dots', 'dotted', 'double', 'doubled', 'doublet', 'doubly', 'doubt', 'doubted', 'doubtful', 'doubting', 'doubtless', 'doubts', 'doughty', 'doux', 'dover', 'dow', 'down', 'downcast', 'downfall', 'downright', 'downward', 'downwards', 'doze', 'dozen', 'dozing', 'dr', 'drab', 'draconian', 'drag', 'dragged', 'dragging', 'draggled', 'dragon', 'dram', 'drama', 'drams', 'drank', 'draper', 'draperied', 'draperies', 'drapery', 'draping', 'draught', 'draughts', 'draw', 'drawer', 'drawers', 'drawing', 'drawings', 'drawling', 'drawlingly', 'drawn', 'dread', 'dreaded', 'dreadful', 'dreadfully', 'dreading', 'dreads', 'dream', 'dreamed', 'dreamer', 'dreaming', 'dreams', 'dreamy', 'dreary', 'drenching', 'dresden', 'dress', 'dressed', 'dresses', 'dressing', 'drew', 'drifted', 'drifting', 'drink', 'drinking', 'drinks', 'dripped', 'drivel', 'driven', 'driver', 'drives', 'driving', 'drizzling', 'drole', 'droll', 'drolleries', 'drollery', 'drollest', 'dromedary', 'dronk', 'droop', 'drooping', 'droopingly', 'drop', 'dropped', 'dropping', 'drops', 'dropsical', 'dropsy', 'dross', 'drove', 'drowned', 'drowning', 'drowsily', 'drowsy', 'drs', 'drug', 'druidical', 'drum', 'drummers', 'drummummupp', 'drums', 'drunk', 'drunkard', 'drunken', 'drxwn', 'dry', 'dryly', 'dryness', 'drômes', 'du', 'dub', 'dubble', 'dublin', 'dubourg', 'duc', 'ducal', 'duchess', 'duck', 'ducks', 'ducrow', 'dudgeon', 'due', 'duelli', 'duelling', 'duellist', 'duello', 'dug', 'duk', 'duke', 'dull', 'duller', 'dully', 'duly', 'dumas', 'dumbarton', 'dumpy', 'dun', 'dunder', 'dungeon', 'dungeons', 'duns', 'dunôt', 'dupe', 'dupin', 'duquel', 'durability', 'durable', 'duration', 'durch', 'dure', 'during', 'dusk', 'duskly', 'dusky', 'dust', 'dutch', 'dutchman', 'duties', 'duty', 'duval', 'dvelf', 'dwarf', 'dwell', 'dwelled', 'dwellers', 'dwelling', 'dwellings', 'dwells', 'dwelt', 'dwindled', 'dx', 'dxes', 'dxg', 'dxll', 'dxn', 'dying', 'dynamically', 'dynamics', 'dyspeptic', 'déshabillé', 'each', 'eager', 'eagerly', 'eagerness', 'eagle', 'ear', 'earl', 'earldoms', 'earlier', 'earliest', 'early', 'earn', 'earned', 'earnest', 'earnestly', 'earnestness', 'earns', 'earrings', 'ears', 'earth', 'earthen', 'earthern', 'earthly', 'earthquake', 'earthquakes', 'earthy', 'ease', 'easier', 'easily', 'east', 'eastern', 'eastward', 'easy', 'eat', 'eaten', 'eater', 'eating', 'eats', 'eave', 'eaves', 'ebb', 'ebber', 'eberry', 'ebery', 'ebn', 'ebon', 'ebony', 'ecarte', 'eccentric', 'eccentrically', 'eccentricities', 'eccentricity', 'ecclesiae', 'eccossois', 'echo', 'echoed', 'echoes', 'echoing', 'eclipsed', 'ecliptic', 'economy', 'ecstacies', 'ecstasies', 'ecstasy', 'ecstatic', 'ed', 'eddies', 'eddying', 'eder', 'edge', 'edges', 'edgeways', 'edina', 'edinburgh', 'edit', 'editing', 'edition', 'editor', 'editorial', 'editorials', 'editors', 'edouard', 'educated', 'education', 'educe', 'educed', 'edward', 'ee', 'eend', 'eeth', 'effect', 'effected', 'effecting', 'effective', 'effects', 'effectual', 'effectually', 'effeminate', 'efficiency', 'efficient', 'effort', 'efforts', 'effrontery', 'effudit', 'effulgence', 'effusion', 'eglantine', 'egotism', 'egree', 'egregious', 'egress', 'egypt', 'egyptian', 'eh', 'eight', 'eighteen', 'eighth', 'eighths', 'eighty', 'eiros', 'either', 'ejaculated', 'ejaculation', 'ejaculations', 'ejected', 'ejecting', 'el', 'elaborate', 'elaborately', 'elah', 'elapsed', 'elapses', 'elapsing', 'elastic', 'elasticity', 'elbow', 'elbowed', 'elbowing', 'elbows', 'eld', 'elder', 'elderly', 'eldest', 'eleatic', 'elector', 'electric', 'electrical', 'electricity', 'electro', 'elegance', 'elegant', 'element', 'elementary', 'elements', 'elenchi', 'eleonora', 'elephant', 'elephants', 'elevate', 'elevated', 'elevates', 'elevating', 'elevation', 'eleven', 'eleventh', 'elicit', 'elicited', 'elipse', 'elite', 'elizabethan', 'elle', 'ellent', 'ellipse', 'ellipsoid', 'ellison', 'elm', 'elongation', 'eloped', 'elopement', 'eloquence', 'eloquent', 'else', 'elses', 'elsewhere', 'elucidation', 'elude', 'eluded', 'eludes', 'eluding', 'em', 'emaciated', 'emaciation', 'emanate', 'emanated', 'emanating', 'emanation', 'embalmed', 'embankment', 'embark', 'embarrass', 'embarrassed', 'embarrassing', 'embarrassment', 'embellish', 'embellishment', 'embellishments', 'embers', 'embittered', 'emblem', 'embodied', 'embodiment', 'embody', 'embolden', 'embossed', 'embrace', 'embraced', 'embracing', 'embroidered', 'embryo', 'emendation', 'emerald', 'emerge', 'emerged', 'emergency', 'emerging', 'emeritus', 'emicant', 'emigrate', 'eminence', 'eminent', 'eminently', 'emissaries', 'emit', 'emitted', 'emitting', 'emmons', 'emotion', 'emotions', 'emperor', 'emperors', 'emphasis', 'emphasizing', 'emphatic', 'emphatically', 'empire', 'empirical', 'employ', 'employed', 'employers', 'employing', 'employment', 'employs', 'emptied', 'empty', 'en', 'enable', 'enabled', 'enables', 'enactments', 'enamel', 'enamelled', 'enamored', 'encased', 'enchained', 'enchanted', 'enchanter', 'enchanting', 'enchantingly', 'enchantment', 'encircle', 'encircled', 'encircling', 'encke', 'enclos', 'enclose', 'enclosed', 'enclosing', 'enclosure', 'encoffined', 'encompass', 'encompassed', 'encompassing', 'encore', 'encored', 'encounter', 'encountered', 'encouraged', 'encroached', 'encroachments', 'encrusted', 'encumber', 'encumbered', 'encyclopaedia', 'encyclopædia', 'end', 'endeared', 'endeavor', 'endeavored', 'endeavoring', 'endeavors', 'endeavour', 'endeavoured', 'endeavours', 'ended', 'ending', 'endless', 'endlessly', 'endorsement', 'endow', 'endowed', 'endowing', 'endowment', 'endowments', 'ends', 'endued', 'endurance', 'endure', 'endured', 'endureth', 'enduring', 'enemies', 'enemy', 'energetic', 'energies', 'energy', 'enfeeble', 'enforce', 'enforcing', 'engage', 'engaged', 'engagement', 'engagements', 'engaging', 'engender', 'engendered', 'engine', 'engirdle', 'engirdled', 'england', 'english', 'englishman', 'engraven', 'engraving', 'engravings', 'engrossing', 'engulfed', 'engulfs', 'enigma', 'enigmas', 'enjoy', 'enjoyed', 'enjoying', 'enjoyment', 'enjoyments', 'enkindle', 'enkindled', 'enkindling', 'enlarged', 'enlighten', 'enlightened', 'enlisting', 'enmity', 'ennui', 'enormities', 'enormity', 'enormous', 'enormously', 'enough', 'enquirer', 'enraged', 'enraptured', 'enriching', 'ensconced', 'ensemble', 'enshrine', 'enshrouded', 'ensue', 'ensued', 'ensues', 'ensuing', 'ensured', 'entablature', 'entangle', 'entangled', 'entanglement', 'entangling', 'entendre', 'enter', 'entered', 'entereth', 'entering', 'enters', 'entertain', 'entertained', 'entertainment', 'enthral', 'enthroned', 'enthusiasm', 'enthusiast', 'enthusiastic', 'enthusiastically', 'enthusiasts', 'entire', 'entirely', 'entities', 'entitled', 'entitling', 'entombed', 'entomological', 'entrance', 'entranced', 'entrances', 'entrancing', 'entrapment', 'entrapped', 'entre', 'entreaties', 'entreating', 'entric', 'entrust', 'entrusted', 'enuff', 'enumerated', 'enunciated', 'enunciation', 'envelop', 'enveloped', 'envelops', 'envied', 'environed', 'environs', 'envy', 'enwrapped', 'enwrapt', 'enwritten', 'eo', 'ephesus', 'epictetus', 'epicurus', 'epidaphne', 'epidendrum', 'epigoniad', 'epigram', 'epilepsis', 'epilepsy', 'epimanes', 'epimenides', 'epiphanes', 'epistle', 'epistles', 'epitaphs', 'epithet', 'epithets', 'epoch', 'epochs', 'equal', 'equality', 'equalled', 'equally', 'equals', 'equanimity', 'equator', 'equatorial', 'equerries', 'equinoctial', 'equipment', 'equitably', 'equivalent', 'equivocal', 'er', 'era', 'ere', 'erebus', 'erect', 'erected', 'erecting', 'erection', 'erewhile', 'ermengarde', 'ermined', 'ernest', 'eros', 'err', 'erred', 'erring', 'erroneously', 'error', 'errors', 'errs', 'erry', 'erudite', 'erudition', 'escape', 'escaped', 'escapes', 'escaping', 'eschew', 'eschewed', 'escondida', 'escort', 'escorted', 'escritoire', 'escutcheons', 'espanaye', 'especial', 'especially', 'esprit', 'espritism', 'esq', 'esquimau', 'essay', 'essays', 'essence', 'essential', 'essentially', 'esset', 'est', 'establish', 'established', 'establishes', 'establishing', 'establishment', 'estate', 'estates', 'esteem', 'estimate', 'estimated', 'estimating', 'estimation', 'estrange', 'estranged', 'et', 'etaient', 'etait', 'etc', 'eternal', 'eternally', 'eternity', 'ethelred', 'ether', 'ethereal', 'ethical', 'ethics', 'etienne', 'etiquette', 'etoile', 'eton', 'etruscan', 'ettrick', 'etudier', 'eugenie', 'eulogies', 'euphonious', 'euphorbium', 'europe', 'european', 'eusebius', 'eustache', 'evade', 'evanescent', 'evaporating', 'evaporation', 'eve', 'even', 'evening', 'evenly', 'event', 'eventful', 'events', 'ever', 'everard', 'evergreens', 'everlasting', 'everlastingly', 'evermore', 'every', 'everybody', 'everyday', 'everything', 'everywhere', 'eves', 'evidence', 'evidences', 'evident', 'evidently', 'evil', 'evils', 'evince', 'evinced', 'evinces', 'evincing', 'evolution', 'evolutions', 'evolving', 'ex', 'exact', 'exacted', 'exactions', 'exactitude', 'exactly', 'exaggerate', 'exaggerated', 'exaggeration', 'exaltation', 'exalted', 'examination', 'examinations', 'examine', 'examined', 'examiner', 'examines', 'examining', 'example', 'examples', 'exasperated', 'excavated', 'excavation', 'exceed', 'exceeded', 'exceeding', 'exceedingly', 'exceeds', 'excel', 'excelled', 'excellence', 'excellencies', 'excellency', 'excellent', 'except', 'excepted', 'excepting', 'exception', 'exceptions', 'excess', 'excesses', 'excessive', 'excessively', 'exchange', 'exchanged', 'exchanging', 'excitability', 'excitable', 'excitation', 'excite', 'excited', 'excitement', 'excites', 'exciting', 'exclaimed', 'exclaims', 'excluded', 'exclusion', 'exclusive', 'exclusively', 'excoriated', 'excoriations', 'excrescence', 'excursion', 'excursions', 'excuse', 'excuses', 'executed', 'executing', 'execution', 'exemplifying', 'exemption', 'exercise', 'exercised', 'exercises', 'exergues', 'exerted', 'exertion', 'exertions', 'exhalation', 'exhalations', 'exhaust', 'exhausted', 'exhausting', 'exhaustion', 'exhibit', 'exhibited', 'exhibiter', 'exhibiting', 'exhibition', 'exhibitions', 'exist', 'existed', 'existence', 'existent', 'existing', 'exists', 'exit', 'exonerated', 'exorbitant', 'expanded', 'expanding', 'expanse', 'expansion', 'expatiate', 'expatiating', 'expect', 'expectation', 'expectations', 'expected', 'expecting', 'expedient', 'expedition', 'expeditious', 'expending', 'expenditure', 'expense', 'expenses', 'expensive', 'experience', 'experienced', 'experiences', 'experiment', 'experimental', 'experimentalist', 'experimentally', 'experiments', 'expiration', 'expire', 'expired', 'explain', 'explained', 'explaining', 'explains', 'explanation', 'explanations', 'explanatory', 'explicit', 'explicitly', 'expliquer', 'exploit', 'exploraturi', 'explore', 'explored', 'explorer', 'explosion', 'expose', 'exposed', 'exposes', 'expostulation', 'exposure', 'express', 'expressed', 'expresses', 'expressing', 'expression', 'expressions', 'exquisite', 'exquisitely', 'extend', 'extended', 'extending', 'extends', 'extension', 'extensive', 'extent', 'exterior', 'external', 'externally', 'extinct', 'extinction', 'extinguish', 'extinguished', 'extinguishment', 'extort', 'extorted', 'extra', 'extraction', 'extracts', 'extraordinary', 'extravagance', 'extravagances', 'extravagantly', 'extreme', 'extremely', 'extremeness', 'extremes', 'extremities', 'extremity', 'extricating', 'extrinsic', 'exult', 'exultation', 'exultingly', 'exults', 'eye', 'eyebrows', 'eyed', 'eyeglass', 'eyeing', 'eyelid', 'eyelids', 'eyes', 'ezekiel', 'fable', 'fables', 'fabric', 'fabrics', 'fabulous', 'fac', 'face', 'faces', 'facilis', 'facilities', 'facility', 'facsimiles', 'fact', 'facto', 'facts', 'faculties', 'faculty', 'faded', 'faecunditatis', 'fail', 'failed', 'failing', 'fails', 'failure', 'failures', 'fain', 'faint', 'faintest', 'fainting', 'faintly', 'faints', 'fair', 'faire', 'fairest', 'fairies', 'fairly', 'fairy', 'fait', 'faith', 'faithful', 'faithfully', 'fall', 'fallacy', 'fallen', 'falling', 'falls', 'false', 'falsely', 'falsify', 'falsities', 'falsity', 'falstaffian', 'faltered', 'fama', 'fame', 'familiar', 'familiarity', 'families', 'family', 'famous', 'fan', 'fanatico', 'fancied', 'fancies', 'fanciful', 'fancy', 'fancying', 'fandango', 'fanfaronade', 'fangs', 'fans', 'fantastic', 'fantastically', 'fantasy', 'far', 'farce', 'fare', 'farewell', 'farmhouse', 'farming', 'farrago', 'farther', 'farthest', 'farthingale', 'fascinated', 'fascinating', 'fascination', 'fashion', 'fashionable', 'fashionably', 'fashioned', 'fashioning', 'fashions', 'fast', 'fasted', 'fasten', 'fastened', 'fastening', 'fastenings', 'faster', 'fastidious', 'fastidiously', 'fat', 'fatal', 'fatality', 'fatally', 'fate', 'fates', 'father', 'fatherly', 'fathers', 'fathom', 'fathomed', 'fathoms', 'fatigue', 'fatigued', 'fatquack', 'fattened', 'fatty', 'fatui', 'faubourg', 'faucal', 'fault', 'faulty', 'faut', 'favor', 'favorable', 'favored', 'favorite', 'favourite', 'fawn', 'fay', 'fays', 'fear', 'feared', 'fearful', 'fearfully', 'fearing', 'fearlessly', 'fears', 'feasibility', 'feasible', 'feast', 'feasted', 'feat', 'feather', 'feathered', 'feathers', 'feathery', 'feature', 'features', 'feb', 'fed', 'feeble', 'feeblest', 'feebly', 'feed', 'feeding', 'feel', 'feeling', 'feelings', 'feels', 'feerd', 'feered', 'feet', 'feigned', 'feint', 'felicity', 'feline', 'fell', 'fellow', 'fellowmen', 'fellows', 'felon', 'felt', 'feltspar', 'female', 'females', 'feminine', 'femoris', 'fence', 'fences', 'fender', 'fer', 'ferdinand', 'ferment', 'fermentation', 'ferocious', 'ferocity', 'ferrades', 'ferry', 'fertile', 'ferule', 'fervid', 'fervor', 'fetched', 'fete', 'fether', 'fetid', 'fetter', 'fettered', 'fetterless', 'fetters', 'feudal', 'fever', 'feverish', 'feverishly', 'few', 'fewer', 'fibe', 'fibre', 'fibres', 'fibula', 'fiction', 'fictitious', 'fiddle', 'fiddlestick', 'fide', 'fidelity', 'fie', 'field', 'fields', 'fiend', 'fiendish', 'fiends', 'fierce', 'fiercely', 'fierceness', 'fiercest', 'fiery', 'fifteen', 'fifteenth', 'fifth', 'fiftieth', 'fifty', 'figgurs', 'fight', 'fighting', 'figurative', 'figuratively', 'figure', 'figures', 'files', 'filigreed', 'filius', 'fill', 'fillagree', 'filled', 'filleted', 'filling', 'fills', 'film', 'fils', 'filtered', 'filth', 'filthy', 'final', 'finale', 'finally', 'financial', 'financier', 'find', 'finder', 'finding', 'finds', 'fine', 'finely', 'finer', 'finesse', 'finest', 'finger', 'fingernails', 'fingers', 'finicky', 'finished', 'finishing', 'fins', 'fiorituri', 'fir', 'fire', 'fired', 'fireplace', 'fireplaces', 'fires', 'firing', 'firm', 'firma', 'firmament', 'firmanent', 'firmly', 'firmness', 'firs', 'first', 'firstly', 'fish', 'fishermen', 'fishing', 'fissure', 'fist', 'fists', 'fit', 'fitful', 'fitfully', 'fitness', 'fits', 'fitted', 'fitting', 'fitz', 'five', 'fix', 'fixed', 'fixedly', 'fixture', 'fizz', 'fizzes', 'fizzing', 'flaccid', 'flaccus', 'flag', 'flagon', 'flagrant', 'flagstones', 'flakes', 'flambeaux', 'flame', 'flames', 'flaming', 'flapped', 'flapping', 'flaring', 'flash', 'flashed', 'flashes', 'flashing', 'flashy', 'flasks', 'flat', 'flatness', 'flattened', 'flatter', 'flattered', 'flatteringly', 'flatu', 'flatzplatz', 'flavius', 'flaw', 'flayed', 'fled', 'fledged', 'flee', 'fleece', 'flees', 'fleets', 'flesh', 'fleshly', 'fleshy', 'flew', 'flexible', 'flickering', 'flies', 'flight', 'flights', 'flimen', 'fling', 'flirt', 'flirtations', 'flirting', 'flitted', 'flitting', 'float', 'floated', 'floating', 'flock', 'flocks', 'flog', 'flogging', 'floggings', 'flood', 'flooded', 'floor', 'flooring', 'floors', 'florence', 'florentin', 'florid', 'flos', 'flounces', 'floundered', 'flourish', 'flourished', 'flourishing', 'flow', 'flowed', 'flower', 'flowers', 'flowing', 'flows', 'fluctuating', 'flud', 'flue', 'fluently', 'fluid', 'flummery', 'flung', 'flush', 'flushed', 'fluttering', 'flux', 'fly', 'flying', 'foam', 'foamed', 'foaming', 'foamless', 'fob', 'focal', 'focus', 'foes', 'fog', 'foible', 'foie', 'foils', 'fois', 'fol', 'fold', 'folded', 'folder', 'folding', 'folds', 'foliage', 'folio', 'follies', 'follow', 'followed', 'followers', 'following', 'follows', 'folly', 'fond', 'font', 'food', 'fool', 'foolish', 'foolishly', 'fools', 'foolscap', 'foot', 'footed', 'footfall', 'footing', 'footman', 'footnote', 'footnotes', 'footpads', 'footrace', 'footstep', 'footsteps', 'footstool', 'foppery', 'for', 'forbade', 'forbear', 'forbearance', 'forbid', 'forbidden', 'forbidding', 'forbids', 'forbore', 'force', 'forced', 'forces', 'forcible', 'forcibly', 'forcing', 'fore', 'foreboded', 'foreboding', 'forebore', 'foredoomed', 'forefathers', 'forefinger', 'forego', 'foregoing', 'foreground', 'forehead', 'foreign', 'foreigner', 'foreman', 'forenoon', 'forensica', 'foreruns', 'foreseen', 'foreshadowed', 'foreshadowing', 'foresight', 'forest', 'forests', 'forethought', 'foretold', 'foretopsail', 'forever', 'forget', 'forgetful', 'forgetfulness', 'forgetting', 'forgive', 'forgot', 'forgotten', 'fork', 'form', 'formal', 'formalities', 'formality', 'formally', 'formation', 'formations', 'formed', 'former', 'formerly', 'forming', 'formless', 'forms', 'formulae', 'forsaken', 'forsooth', 'forsyth', 'fort', 'forte', 'forth', 'forthcoming', 'forthwith', 'fortified', 'fortnight', 'fortuitous', 'fortunate', 'fortunately', 'fortunato', 'fortune', 'fortunes', 'forty', 'forward', 'fossillus', 'fought', 'foul', 'fouled', 'found', 'foundation', 'foundations', 'founded', 'foundered', 'fountain', 'fountains', 'four', 'fourpence', 'fourteen', 'fourteenth', 'fourth', 'fourthly', 'fowl', 'fox', 'fracture', 'fractured', 'fragile', 'fragility', 'fragment', 'fragments', 'fragrance', 'fragrant', 'frail', 'frame', 'framed', 'frames', 'framework', 'france', 'francis', 'francs', 'frank', 'frankly', 'frankness', 'frantic', 'frantically', 'fraser', 'fraternity', 'frauds', 'fraying', 'freak', 'freaks', 'fred', 'frederick', 'free', 'freedom', 'freely', 'freighted', 'french', 'frenchman', 'frenchwoman', 'frenzy', 'frequency', 'frequent', 'frequented', 'frequenting', 'frequently', 'frescos', 'fresh', 'freshened', 'freshness', 'fretted', 'freyhere', 'fricassée', 'friction', 'friday', 'friend', 'friendless', 'friendly', 'friends', 'friendship', 'fright', 'frightened', 'frightful', 'frightfully', 'frigid', 'frigidity', 'fringed', 'frisked', 'frisking', 'frivolity', 'frivolous', 'fro', 'frock', 'frog', 'frogpondium', 'frogs', 'froisart', 'froissart', 'frolic', 'frolicsome', 'from', 'front', 'fronting', 'fronts', 'froth', 'frothing', 'frowned', 'frows', 'froze', 'frozen', 'fru', 'fruit', 'fruiterer', 'fruitful', 'fruitless', 'fruits', 'frustrate', 'frustrated', 'frxg', 'frxwn', 'fudge', 'fuel', 'fugitive', 'fulfil', 'fulfilled', 'fulfilling', 'fulfilment', 'full', 'fuller', 'fullest', 'fullness', 'fully', 'fulness', 'fulsomely', 'fum', 'fumes', 'functionaries', 'functionary', 'functions', 'fund', 'funds', 'funeral', 'funereal', 'funeste', 'fungi', 'fungus', 'funnel', 'funniest', 'funnin', 'fur', 'furies', 'furious', 'furiously', 'furled', 'furlong', 'furnace', 'furnaces', 'furnish', 'furnished', 'furnishing', 'furniture', 'furrier', 'furrows', 'furs', 'further', 'furtherance', 'furthering', 'furthermore', 'furtively', 'fury', 'fuseli', 'fusion', 'fuss', 'futile', 'futility', 'future', 'fxr', 'fxwl', 'fxxl', 'gabalah', 'gabalus', 'gable', 'gables', 'gad', 'gagged', 'gagne', 'gaieties', 'gaillard', 'gaily', 'gain', 'gained', 'gaining', 'gainsayed', 'gait', 'gala', 'galaxy', 'gale', 'gales', 'gallant', 'galled', 'gallery', 'galling', 'gallons', 'galloping', 'gallows', 'galvanic', 'gambler', 'gambols', 'game', 'games', 'gammoned', 'gang', 'gangs', 'ganzas', 'gaping', 'garcio', 'garden', 'gardener', 'gardening', 'gargantua', 'garment', 'garments', 'garnered', 'garret', 'garrets', 'garter', 'garters', 'gas', 'gaseous', 'gases', 'gash', 'gasped', 'gasping', 'gaspingly', 'gasps', 'gate', 'gates', 'gateway', 'gather', 'gathered', 'gathering', 'gathers', 'gaudy', 'gaunt', 'gauntlet', 'gauntleted', 'gauze', 'gave', 'gay', 'gayest', 'gaze', 'gazed', 'gazelle', 'gazette', 'gazing', 'ge', 'gelatinous', 'gem', 'gemmary', 'gendarme', 'genera', 'general', 'generalities', 'generality', 'generalization', 'generally', 'generate', 'generated', 'generation', 'generosity', 'generous', 'geneva', 'genii', 'genius', 'geniuses', 'genoese', 'gentilhomme', 'gentle', 'gentleman', 'gentlemanly', 'gentlemen', 'gentleness', 'gentler', 'gently', 'genuine', 'genus', 'geographer', 'geological', 'geometry', 'george', 'geraniums', 'germ', 'germain', 'german', 'germany', 'gesticulate', 'gesticulations', 'gesture', 'gestures', 'get', 'gets', 'getting', 'gh', 'ghastliest', 'ghastly', 'ghost', 'giant', 'gib', 'gibbering', 'gibraltar', 'giddiness', 'giddy', 'gift', 'gifts', 'gigantic', 'gilded', 'gilt', 'gimlet', 'gimlets', 'gin', 'gingerly', 'girdled', 'girl', 'girls', 'girting', 'git', 'gittin', 'give', 'given', 'givers', 'gives', 'giving', 'glad', 'gladdens', 'gladiatorial', 'gladly', 'glance', 'glanced', 'glances', 'glancing', 'glanvill', 'glare', 'glared', 'glaring', 'glaringly', 'glass', 'glasses', 'glasshouse', 'glassy', 'glazed', 'gleam', 'gleamed', 'gleaming', 'gleams', 'glean', 'glee', 'glendinning', 'glens', 'glided', 'glides', 'gliding', 'glimmer', 'glimpse', 'glimpses', 'glistened', 'glitter', 'glittering', 'globe', 'globes', 'gloom', 'gloomily', 'gloomy', 'glories', 'glorifying', 'glorious', 'gloriously', 'glory', 'gloss', 'glossy', 'glove', 'gloved', 'glover', 'gloves', 'glow', 'glowed', 'glowing', 'glutinous', 'gnarled', 'gnashed', 'gnomes', 'go', 'goaded', 'goading', 'goal', 'goat', 'goats', 'gobble', 'gobletful', 'goblets', 'goblins', 'god', 'goddesses', 'godhead', 'gods', 'godwin', 'goes', 'gog', 'goggle', 'goignard', 'going', 'gol', 'golconda', 'gold', 'golden', 'golly', 'gondola', 'gondolier', 'gone', 'gongs', 'good', 'goodly', 'goodness', 'goods', 'goole', 'goose', 'goosetherumfoodle', 'gore', 'gorge', 'gorgeous', 'gorgeously', 'gorges', 'gorgias', 'gossamer', 'gossip', 'got', 'gothic', 'gott', 'gouge', 'gout', 'gouty', 'government', 'governor', 'grabs', 'grace', 'graceful', 'gracefully', 'gracefulness', 'graces', 'gracious', 'graciously', 'gradation', 'grade', 'gradual', 'gradually', 'grand', 'grande', 'grandeur', 'grandiloquence', 'grandjean', 'grandmother', 'granite', 'grano', 'grant', 'granted', 'granting', 'granulated', 'grapnel', 'grapple', 'gras', 'grasp', 'grasped', 'grasping', 'grass', 'grasshoppers', 'grated', 'grateful', 'gratification', 'gratified', 'gratify', 'grating', 'gratitude', 'grave', 'gravel', 'gravely', 'graven', 'graves', 'graveyard', 'gravitating', 'gravitation', 'gravities', 'gravity', 'gray', 'grayish', 'grease', 'great', 'greater', 'greatest', 'greatly', 'greatness', 'grecian', 'greece', 'greedy', 'greek', 'greeks', 'green', 'greenest', 'greet', 'greeted', 'grenouille', 'gresset', 'grew', 'grey', 'grief', 'griefs', 'grieve', 'grieved', 'grim', 'grimaces', 'grimm', 'grin', 'grind', 'grinders', 'grinding', 'grinning', 'grins', 'grip', 'grisette', 'griswold', 'groan', 'groaned', 'groans', 'grocery', 'grooming', 'grooms', 'grope', 'groped', 'groping', 'gross', 'grossly', 'grotesque', 'grotesquely', 'grotesqueness', 'grotesquerie', 'grotesques', 'ground', 'grounds', 'groundwork', 'group', 'groups', 'grovelled', 'grovelling', 'groves', 'grow', 'growing', 'growl', 'growled', 'grown', 'grows', 'growth', 'gruff', 'grumble', 'grumbling', 'grunted', 'gruntundguzzell', 'grxwl', 'grâve', 'gualtier', 'guard', 'guarda', 'guarded', 'guardian', 'guardianship', 'guerre', 'guess', 'guessed', 'guesser', 'guesses', 'guessing', 'guest', 'guests', 'guffaw', 'guidance', 'guide', 'guided', 'guides', 'guiding', 'guido', 'guilt', 'guilty', 'guineas', 'guinge', 'guitar', 'gulf', 'gulfs', 'gum', 'gums', 'gun', 'gunning', 'guns', 'gush', 'gust', 'gusty', 'gutta', 'gutter', 'guttural', 'gx', 'gxt', 'gxxd', 'gxxse', 'gypsy', 'gyrating', 'gyrations', 'gyratory', 'ha', 'hab', 'habet', 'habiliment', 'habiliments', 'habit', 'habitation', 'habitations', 'habited', 'habits', 'habitual', 'habitually', 'habitudes', 'hack', 'had', 'hades', 'hadst', 'hag', 'hail', 'hailed', 'hailing', 'hair', 'hairs', 'hairy', 'halcyon', 'hale', 'half', 'hall', 'halloo', 'halls', 'halt', 'hammer', 'hammers', 'hand', 'handed', 'handiwork', 'handkerchief', 'handkerchiefs', 'handle', 'handled', 'handles', 'hands', 'handsome', 'handsomely', 'handsomest', 'handwriting', 'hang', 'hanged', 'hanging', 'hangings', 'hangman', 'hangs', 'hans', 'happen', 'happened', 'happening', 'happens', 'happier', 'happily', 'happiness', 'happy', 'harangue', 'harassed', 'hard', 'hardly', 'hardness', 'hardware', 'hardy', 'hare', 'hark', 'harkened', 'harlaem', 'harm', 'harmless', 'harmoniously', 'harmonized', 'harmony', 'harp', 'harrison', 'harry', 'harsh', 'hartley', 'harvest', 'has', 'hasn', 'hasp', 'hast', 'haste', 'hasten', 'hastened', 'hastening', 'hastens', 'hastily', 'hastings', 'hat', 'hatch', 'hatchway', 'hate', 'hated', 'hath', 'hating', 'hatred', 'hats', 'hatteras', 'haubrion', 'haughtiest', 'haughty', 'hauled', 'haunt', 'haunted', 'haunts', 'hauteur', 'have', 'havelius', 'haven', 'having', 'havn', 'hawk', 'hazard', 'hazarded', 'hazardous', 'hazel', 'he', 'head', 'headache', 'headboard', 'headed', 'heading', 'headless', 'headlong', 'heads', 'headway', 'heady', 'health', 'healthily', 'healthy', 'heaped', 'heaps', 'hear', 'heard', 'hearers', 'hearing', 'hearken', 'hearkened', 'hearkening', 'hears', 'hearse', 'heart', 'hearted', 'heartfelt', 'heartful', 'hearth', 'hearths', 'hearts', 'hearty', 'heat', 'heated', 'heaved', 'heaven', 'heavenly', 'heavens', 'heavier', 'heavily', 'heaviness', 'heaving', 'heavy', 'hebby', 'hebrew', 'hebrews', 'hectic', 'hedelin', 'heeding', 'heel', 'heeled', 'heels', 'heerd', 'heigho', 'height', 'heighten', 'heightened', 'heir', 'heiress', 'heirs', 'helas', 'held', 'helena', 'heliogabalus', 'hell', 'heloise', 'help', 'helped', 'helping', 'helplessness', 'helseggen', 'hem', 'hemisphere', 'hemispherical', 'hemlock', 'hemmed', 'hen', 'hence', 'henceforward', 'henna', 'henri', 'hens', 'henson', 'her', 'heraclides', 'heraclitus', 'herculean', 'herd', 'here', 'hereafter', 'hereditarily', 'hereditary', 'herein', 'heresy', 'heretical', 'heretofore', 'hereupon', 'herman', 'hermann', 'hermit', 'hernani', 'hero', 'herod', 'heroded', 'herodes', 'herr', 'hers', 'herschel', 'herself', 'hesitate', 'hesitated', 'hesitates', 'hesitating', 'hesitation', 'hessian', 'heterogeneous', 'hewn', 'hey', 'hi', 'hickories', 'hickory', 'hid', 'hidden', 'hide', 'hideous', 'hideously', 'hideousness', 'hiding', 'hieroglyphical', 'hieroglyphics', 'hieronymus', 'high', 'higher', 'highest', 'highly', 'highness', 'highway', 'hilarity', 'hill', 'hillocks', 'hills', 'hillsides', 'him', 'himself', 'hind', 'hinder', 'hindoo', 'hinges', 'hinnon', 'hint', 'hinted', 'hints', 'hippocratian', 'hippodrome', 'hippopotami', 'hips', 'his', 'hissing', 'histoire', 'historian', 'historians', 'histories', 'history', 'hit', 'hitch', 'hither', 'hitherto', 'hitting', 'ho', 'hoarsely', 'hoary', 'hoax', 'hoaxes', 'hoaxy', 'hobbies', 'hobbling', 'hobby', 'hock', 'hog', 'hogarth', 'hoggishly', 'hogs', 'hogshead', 'hogsheads', 'hoisted', 'holberg', 'hold', 'holder', 'holding', 'holds', 'hole', 'holes', 'holidays', 'holies', 'holland', 'hollander', 'hollands', 'hollow', 'holy', 'homage', 'home', 'homer', 'homeward', 'hominis', 'hommy', 'homo', 'homouioisios', 'homousios', 'honest', 'honesty', 'honeysuckle', 'honor', 'honorable', 'honored', 'honourable', 'honours', 'hoo', 'hook', 'hooked', 'hoop', 'hope', 'hoped', 'hopeless', 'hopelessness', 'hopes', 'hoping', 'horace', 'horizon', 'horizontal', 'horizontally', 'horn', 'horrendum', 'horreur', 'horrible', 'horribly', 'horrid', 'horridly', 'horrific', 'horror', 'horrorless', 'horrors', 'horse', 'horseback', 'horseman', 'horses', 'hospital', 'hospitals', 'host', 'hostel', 'hostess', 'hostility', 'hosts', 'hot', 'hotel', 'hotels', 'hotholm', 'hottentot', 'hound', 'hour', 'houri', 'hourly', 'hours', 'house', 'household', 'housekeeper', 'houseless', 'houses', 'hove', 'hovel', 'hover', 'hovered', 'hovering', 'how', 'however', 'howl', 'howled', 'howling', 'howlings', 'hoyle', 'hu', 'hubbub', 'hudibras', 'hue', 'hued', 'hues', 'huge', 'hugh', 'hull', 'hum', 'human', 'humanities', 'humanity', 'humble', 'humbled', 'humboldt', 'humdrum', 'humming', 'humor', 'humored', 'humoredly', 'humph', 'humphrey', 'hundred', 'hundreds', 'hung', 'hungarian', 'hungarians', 'hungary', 'hunger', 'hungry', 'hunks', 'hunt', 'hunted', 'hunter', 'hunting', 'huomo', 'hurl', 'hurled', 'hurlygurly', 'hurrah', 'hurricane', 'hurried', 'hurriedly', 'hurry', 'hurrying', 'hurt', 'husband', 'hush', 'hushed', 'hushing', 'huskiness', 'husky', 'hut', 'huzzy', 'hx', 'hxg', 'hxllx', 'hxme', 'hxmx', 'hxw', 'hxwl', 'hyacinth', 'hyacinths', 'hydrangea', 'hydrogen', 'hyena', 'hymn', 'hymns', 'hyper', 'hypochondriac', 'hypocrisy', 'hypocritical', 'hypothenuse', 'hypothesis', 'hysterical', 'hysterics', 'ian', 'ice', 'ices', 'ich', 'iciness', 'icy', 'id', 'idea', 'ideal', 'ideality', 'idealized', 'ideas', 'idees', 'identical', 'identification', 'identified', 'identifies', 'identify', 'identifying', 'identity', 'idiocy', 'idiom', 'idiosyncrasy', 'idiosyncratic', 'idiot', 'idiotic', 'idiots', 'idle', 'idleness', 'idly', 'idolatrous', 'idolized', 'idols', 'idée', 'if', 'iferous', 'ignes', 'ignited', 'igniting', 'ignoble', 'ignoramus', 'ignorance', 'ignorant', 'ignoratio', 'ignotum', 'il', 'ilential', 'ill', 'illimitable', 'illness', 'illnesses', 'illuminated', 'illumine', 'illumined', 'illusions', 'illustrate', 'illustrated', 'illustration', 'illustrious', 'image', 'imaged', 'images', 'imaginary', 'imagination', 'imaginations', 'imaginative', 'imagine', 'imagined', 'imagines', 'imagining', 'imbedded', 'imbibed', 'imbibes', 'imbue', 'imbued', 'imitate', 'imitated', 'imitation', 'imitative', 'immaterial', 'immateriality', 'immature', 'immeasurable', 'immeasurably', 'immediate', 'immediately', 'immemorial', 'immense', 'immensely', 'immerse', 'immersed', 'immersion', 'immethodical', 'imminent', 'immolation', 'immortal', 'immortality', 'immovably', 'immoveable', 'immutable', 'impaired', 'impalpability', 'impalpable', 'impart', 'imparted', 'impartiality', 'imparts', 'impassioned', 'impatience', 'impatient', 'impatiently', 'impeded', 'impediment', 'impediments', 'impelled', 'impels', 'impended', 'impends', 'impenetrable', 'imperatively', 'imperceptible', 'imperceptibly', 'imperfect', 'imperfectly', 'imperial', 'imperious', 'imperiously', 'impertinence', 'impertinences', 'impertinent', 'impetuosity', 'impetuous', 'impetuously', 'impetus', 'impinging', 'impious', 'implacable', 'implanted', 'implements', 'implicate', 'implicated', 'implicit', 'implicitly', 'implied', 'implies', 'implore', 'imploring', 'imply', 'import', 'importance', 'important', 'importunate', 'importuning', 'importunities', 'impose', 'imposed', 'imposing', 'imposition', 'impositions', 'impossibile', 'impossibilities', 'impossibility', 'impossible', 'impost', 'impostor', 'imposture', 'impotent', 'impracticable', 'imprecations', 'impregnating', 'impregnation', 'impress', 'impressed', 'impresses', 'impression', 'impressions', 'impressive', 'impressiveness', 'imprimus', 'imprinted', 'imprisoned', 'improbable', 'impromptus', 'impropriety', 'improve', 'improved', 'improvement', 'improvements', 'improvisations', 'improvisatori', 'improviso', 'imprudence', 'imprudent', 'imprudently', 'imps', 'impudent', 'impulse', 'impulses', 'impulsive', 'impune', 'impunity', 'in', 'inability', 'inaccessible', 'inaccuracy', 'inadequacy', 'inadequate', 'inadmissible', 'inadvertence', 'inadvertently', 'inanimate', 'inanition', 'inapplicable', 'inappreciable', 'inapprehension', 'inappropriate', 'inarticulate', 'inasmuch', 'inattentive', 'inaudible', 'inaudibly', 'incalculable', 'incantations', 'incapable', 'incapacity', 'incarnate', 'incarnation', 'incense', 'incensed', 'incessantly', 'inch', 'inches', 'incident', 'incidents', 'incipient', 'incision', 'incitamentum', 'inclination', 'inclinations', 'inclined', 'include', 'included', 'includes', 'including', 'incoherence', 'incoherent', 'incoherently', 'income', 'incommunicativeness', 'incomparably', 'incomprehensible', 'inconceivable', 'inconceivably', 'incongruities', 'incongruous', 'inconsequence', 'inconsequential', 'inconsiderable', 'inconsistency', 'inconsistent', 'incontestably', 'incontrovertible', 'inconvenience', 'inconveniences', 'inconvenient', 'inconveniently', 'increase', 'increased', 'increases', 'increasing', 'incredible', 'incredulity', 'incredulously', 'incubus', 'inculpate', 'incumbent', 'incurring', 'indaginé', 'indebted', 'indecent', 'indecision', 'indeed', 'indefatigable', 'indefinable', 'indefinite', 'indefinitely', 'indelible', 'indelicate', 'indemnity', 'indentations', 'indenture', 'indentures', 'independence', 'independent', 'independently', 'indescribable', 'indescribably', 'indeterminate', 'indeterminately', 'index', 'india', 'indiaman', 'indian', 'indians', 'indicate', 'indicated', 'indicates', 'indicating', 'indication', 'indications', 'indicative', 'indifference', 'indifferent', 'indigestible', 'indignant', 'indignation', 'indirect', 'indiscernible', 'indiscretions', 'indiscriminate', 'indispensable', 'indisposed', 'indisposition', 'indisputably', 'indissolubly', 'indistinct', 'indistinctly', 'indite', 'inditer', 'inditing', 'indivduationis', 'individual', 'individuality', 'individualized', 'individually', 'individuals', 'indivisible', 'indolent', 'indubitably', 'induce', 'induced', 'inducement', 'inducing', 'induct', 'induction', 'inductions', 'inductive', 'indulge', 'indulged', 'indulges', 'indulging', 'industriously', 'industry', 'indwelling', 'ineffable', 'ineffectual', 'ineptum', 'inertiæ', 'inessential', 'inestimable', 'inevitable', 'inevitably', 'inexperience', 'inexplicable', 'inexpressible', 'inexpressibles', 'inexpressibly', 'inexpressive', 'inextinguishable', 'inextricable', 'infallible', 'infallibly', 'infamous', 'infamy', 'infancy', 'infant', 'infatuation', 'infect', 'infected', 'infection', 'inference', 'inferences', 'inferior', 'infernal', 'infernally', 'inferno', 'inferred', 'inferring', 'infested', 'infesting', 'infinite', 'infinitely', 'infinitude', 'infinity', 'infirm', 'infirmities', 'infirmity', 'inflamed', 'inflammatory', 'inflated', 'inflation', 'inflections', 'inflict', 'inflicted', 'influence', 'influenced', 'influences', 'influential', 'info', 'inform', 'information', 'informe', 'informed', 'informing', 'informs', 'infusions', 'ing', 'ingenious', 'ingens', 'ingenuity', 'inglitch', 'inglorious', 'ingrain', 'ingratitude', 'ingredients', 'ingress', 'inhabit', 'inhabitant', 'inhabitants', 'inhabited', 'inhalation', 'inhaling', 'inherent', 'inheritance', 'inherited', 'inhuman', 'inhumation', 'inhumed', 'inimitable', 'initial', 'initials', 'injudicious', 'injunction', 'injure', 'injured', 'injuriae', 'injuries', 'injury', 'ink', 'inkling', 'inky', 'inlaid', 'inlet', 'inmates', 'inmost', 'inn', 'innate', 'inner', 'innermost', 'innocence', 'innocent', 'innocently', 'innumerable', 'inopportuneness', 'inordinate', 'inordinately', 'inorganic', 'inorganization', 'inquest', 'inquietude', 'inquire', 'inquired', 'inquirendo', 'inquirer', 'inquiries', 'inquiring', 'inquiry', 'inquisition', 'inquisitive', 'inquisitively', 'inquisitiveness', 'inquisitorial', 'insane', 'insanity', 'inscribed', 'inscription', 'inscriptions', 'inscrutability', 'inscrutable', 'insect', 'insensibility', 'insensible', 'insensibly', 'inseparable', 'insert', 'inserted', 'insertion', 'inserts', 'inside', 'insight', 'insignia', 'insignificant', 'insinuate', 'insinuated', 'insinuations', 'insipidity', 'insist', 'insisted', 'insisting', 'insists', 'insolence', 'insolent', 'insolubility', 'insoluble', 'insomnia', 'inspect', 'inspecting', 'inspection', 'inspiration', 'inspire', 'inspired', 'inspires', 'inspiring', 'inst', 'instability', 'instance', 'instanced', 'instances', 'instant', 'instantaneous', 'instantaneously', 'instanter', 'instantiae', 'instantly', 'instead', 'instil', 'instinct', 'instinctive', 'instinctively', 'institute', 'instituted', 'institution', 'institutions', 'instruct', 'instructed', 'instructions', 'instrument', 'instrumental', 'instrumentality', 'instruments', 'insufferable', 'insufferably', 'insufficient', 'insulated', 'insult', 'insulted', 'insulting', 'insultingly', 'insults', 'insuperable', 'insurance', 'insure', 'insurmountable', 'insurrection', 'intangible', 'integrity', 'intellect', 'intellects', 'intellectual', 'intellectually', 'intelligence', 'intelligences', 'intelligent', 'intelligible', 'intemperance', 'intemperate', 'intend', 'intended', 'intending', 'intends', 'intense', 'intensely', 'intensest', 'intensities', 'intensity', 'intent', 'intention', 'intentional', 'intentionally', 'intentions', 'intently', 'intentness', 'inter', 'intercourse', 'interest', 'interested', 'interesting', 'interests', 'interfere', 'interfered', 'interference', 'interim', 'interior', 'interiorly', 'interjectional', 'interleaf', 'interloper', 'intermediate', 'interment', 'interments', 'interminableness', 'intermingled', 'intermingling', 'internal', 'internally', 'interposed', 'interpretation', 'interpreter', 'interred', 'interregnum', 'interrupt', 'interrupted', 'interrupting', 'interruption', 'interruptions', 'interspaces', 'intersperse', 'interspersed', 'intersperses', 'interspersing', 'intertangled', 'intertwining', 'interupted', 'interval', 'intervals', 'intervene', 'intervened', 'intervening', 'intervention', 'interview', 'interviews', 'interweaving', 'interwoven', 'intimacy', 'intimate', 'intimated', 'intimately', 'intimates', 'intimation', 'into', 'intolerable', 'intolerably', 'intonation', 'intoxicated', 'intoxication', 'intractable', 'intrench', 'intricacies', 'intricacy', 'intricate', 'intriguant', 'intrigue', 'intrigues', 'intriguing', 'intrinsic', 'introduce', 'introduced', 'introducing', 'introduction', 'intrude', 'intruded', 'intruder', 'intruders', 'intruding', 'intrusion', 'intuition', 'intuitive', 'inutility', 'invalid', 'invariable', 'invariably', 'invent', 'invented', 'invention', 'inventions', 'inventive', 'inventor', 'inventus', 'inversion', 'invest', 'invested', 'investigate', 'investigated', 'investigation', 'investigations', 'investiture', 'investment', 'inveterate', 'invidious', 'invigorated', 'inviolable', 'invisible', 'invitations', 'invited', 'invitingly', 'invoice', 'invoked', 'involuntarily', 'involuntary', 'involute', 'involutions', 'involve', 'involved', 'involving', 'inward', 'inwardly', 'io', 'ionia', 'ionic', 'irascibility', 'irdonozur', 'iris', 'irish', 'irksome', 'iron', 'irradiating', 'irreclaimable', 'irreducible', 'irregular', 'irregularity', 'irregularly', 'irrelevant', 'irreparably', 'irrepressible', 'irresistible', 'irresolution', 'irreverence', 'irrevocable', 'irritability', 'irritable', 'irritate', 'irritated', 'irritating', 'irritation', 'is', 'ise', 'isidore', 'isis', 'island', 'islanders', 'islands', 'isle', 'islesen', 'islet', 'isn', 'isolated', 'israelitish', 'issachar', 'issue', 'issued', 'issues', 'issuing', 'isæus', 'it', 'italian', 'italians', 'italics', 'italicus', 'itchiatuckanee', 'item', 'items', 'its', 'itself', 'ivory', 'ivy', 'iz', 'izzards', 'jack', 'jacket', 'jaconet', 'jacques', 'jade', 'jagged', 'jail', 'jammed', 'jan', 'january', 'jar', 'jardin', 'jargon', 'jarring', 'jauntily', 'jaunty', 'java', 'jaw', 'jaws', 'je', 'jealous', 'jealousy', 'jean', 'jehovah', 'jellies', 'jeopardize', 'jeopardized', 'jeremiad', 'jeremy', 'jeremys', 'jerk', 'jerked', 'jerking', 'jerks', 'jermyn', 'jest', 'jesting', 'jests', 'jet', 'jetty', 'jeu', 'jew', 'jewelled', 'jewelry', 'jewels', 'jews', 'jib', 'jingled', 'jingling', 'jis', 'job', 'jog', 'jogged', 'johann', 'johannisberger', 'john', 'join', 'joined', 'joint', 'joke', 'joking', 'jolly', 'jonas', 'jones', 'jostling', 'jouissent', 'jourdain', 'journal', 'journalist', 'journalists', 'journals', 'journey', 'journeyed', 'journeyings', 'journeys', 'jovis', 'joy', 'joyeuse', 'joyous', 'joys', 'ju', 'judge', 'judged', 'judges', 'judging', 'judgment', 'judgments', 'judicial', 'judicious', 'jug', 'jules', 'julie', 'julien', 'july', 'jumble', 'jump', 'jumped', 'junction', 'juncture', 'june', 'jung', 'junior', 'juniors', 'juniper', 'junius', 'jup', 'jupiter', 'just', 'justice', 'justifiable', 'justification', 'justify', 'justly', 'juxta', 'juxtaposition', 'jxhn', 'kai', 'kanadaw', 'kate', 'kathleen', 'keats', 'keel', 'keen', 'keener', 'keenest', 'keenly', 'keenness', 'keep', 'keeper', 'keepers', 'keeping', 'keeps', 'keer', 'keg', 'kegs', 'keildhelm', 'kempelen', 'kennel', 'kepler', 'kept', 'kerseymere', 'key', 'keys', 'kiao', 'kick', 'kickapo', 'kickapoo', 'kickapoos', 'kicked', 'kicking', 'kicks', 'kid', 'kidd', 'kill', 'killed', 'kimbo', 'kind', 'kinder', 'kindness', 'kinds', 'king', 'kingdom', 'kings', 'kiosk', 'kirschenwasser', 'kiss', 'kissam', 'kissed', 'kisses', 'kittens', 'klimm', 'knapsack', 'knee', 'knees', 'knelt', 'knew', 'knickerbocker', 'knife', 'knight', 'knights', 'knit', 'knitting', 'knob', 'knock', 'knocked', 'knocker', 'knocking', 'knot', 'know', 'knowest', 'knoweth', 'knowing', 'knowingly', 'knowledge', 'known', 'knows', 'knxw', 'kock', 'kraut', 'kritik', 'kupris', 'la', 'labelled', 'labels', 'labor', 'labored', 'laborers', 'laboring', 'laborious', 'labors', 'lace', 'lacessit', 'lachadive', 'lachrymatory', 'lack', 'lackobreath', 'laconic', 'ladder', 'laden', 'ladies', 'ladle', 'lady', 'laertius', 'lafitte', 'laid', 'lake', 'lakelet', 'lakes', 'lalande', 'lamartine', 'lamb', 'lambent', 'lamentable', 'lamented', 'lamenting', 'lamp', 'lamps', 'land', 'landaff', 'landed', 'landing', 'landlady', 'landlord', 'landor', 'landscape', 'landscapes', 'landsman', 'lane', 'lanes', 'language', 'languages', 'languidly', 'lantern', 'lanterns', 'lap', 'laplace', 'lapse', 'lapsing', 'larboard', 'large', 'largely', 'larger', 'largest', 'lark', 'lasalle', 'lash', 'lashed', 'lashes', 'last', 'lasted', 'lasting', 'lastly', 'latch', 'late', 'lately', 'later', 'lateral', 'lath', 'lather', 'lathered', 'latin', 'latitude', 'latour', 'latter', 'latterly', 'lattice', 'latticed', 'laudable', 'lauded', 'lauding', 'laugh', 'laughable', 'laughed', 'laughing', 'laughingly', 'laughs', 'laughter', 'launcelot', 'laundress', 'laurels', 'laved', 'lavish', 'lavished', 'law', 'lawn', 'laws', 'lawyer', 'lawyers', 'lay', 'lazily', 'le', 'lead', 'leaden', 'leader', 'leading', 'leads', 'leaf', 'leafy', 'league', 'leak', 'lean', 'leaned', 'leaning', 'leans', 'leap', 'leaped', 'leaping', 'leaps', 'learn', 'learned', 'learnedly', 'learning', 'least', 'leather', 'leave', 'leaves', 'leaving', 'lecturer', 'led', 'leda', 'ledge', 'ledger', 'lee', 'leech', 'leeches', 'leer', 'leetle', 'leeward', 'lef', 'left', 'leg', 'legacy', 'legally', 'legend', 'legible', 'legion', 'legions', 'legislative', 'legislature', 'legitimate', 'legrand', 'legs', 'leipsic', 'leisure', 'leisurely', 'lend', 'length', 'lengthen', 'lens', 'lenses', 'lent', 'lenticular', 'leonardo', 'leonidas', 'leonville', 'leopard', 'les', 'less', 'lesser', 'lesson', 'lest', 'let', 'lethargy', 'lets', 'letter', 'lettered', 'letters', 'letting', 'lettres', 'levatas', 'levee', 'level', 'levelled', 'levels', 'lever', 'levers', 'levique', 'levities', 'levity', 'lewis', 'lex', 'li', 'liable', 'liberal', 'liberally', 'liberty', 'library', 'libya', 'license', 'licking', 'lid', 'lids', 'lie', 'lied', 'lies', 'lieth', 'lieu', 'lieutenant', 'life', 'lifeless', 'lift', 'lifted', 'lifting', 'lifts', 'ligeia', 'light', 'lighted', 'lighten', 'lightened', 'lighter', 'lightest', 'lighting', 'lightly', 'lightness', 'lightning', 'lights', 'like', 'likeliness', 'likely', 'likeness', 'likens', 'likewise', 'lilienthal', 'lilies', 'lily', 'limb', 'limbs', 'lime', 'limit', 'limited', 'limiting', 'limitless', 'limits', 'linden', 'line', 'lineament', 'lined', 'linen', 'liner', 'lines', 'linger', 'lingering', 'lingers', 'lining', 'linings', 'link', 'links', 'lintels', 'lion', 'lions', 'lionship', 'lip', 'lips', 'liqueur', 'liqueurs', 'liquid', 'liquor', 'liquors', 'liriodendron', 'lisped', 'list', 'listen', 'listened', 'listener', 'listening', 'listlessly', 'lit', 'litera', 'literal', 'literally', 'literary', 'literatim', 'literature', 'lithe', 'lithographs', 'litten', 'litter', 'litterateur', 'litters', 'little', 'littleness', 'live', 'lived', 'liveliest', 'livelihood', 'lively', 'livery', 'lives', 'liveth', 'livid', 'living', 'livre', 'll', 'lo', 'load', 'loaded', 'loadstone', 'loaf', 'loathed', 'loathing', 'loathsome', 'lobe', 'local', 'locale', 'localities', 'locality', 'location', 'lock', 'locke', 'locked', 'locking', 'locks', 'locust', 'locusts', 'locution', 'lodge', 'lodged', 'lodging', 'lofoden', 'loft', 'loftier', 'loftiest', 'loftily', 'lofty', 'log', 'loge', 'logged', 'logic', 'logical', 'logically', 'logs', 'loin', 'loiter', 'loitered', 'lol', 'lollipop', 'lombardy', 'london', 'lone', 'lonely', 'lonesome', 'long', 'longboat', 'longed', 'longer', 'longest', 'longing', 'longitudinal', 'longitudinally', 'longue', 'look', 'looked', 'looking', 'lookout', 'looks', 'loop', 'loops', 'loose', 'loosed', 'loosely', 'loosened', 'loosening', 'lor', 'lord', 'lore', 'lose', 'loser', 'loses', 'losing', 'loss', 'lost', 'lot', 'loth', 'lothario', 'loud', 'louder', 'loudest', 'loudly', 'loudness', 'louis', 'love', 'loved', 'loveliest', 'loveliness', 'lovely', 'lover', 'lovers', 'loving', 'low', 'lower', 'lowered', 'lowest', 'loyal', 'loyalty', 'lozenge', 'lucan', 'luchesi', 'lucid', 'luck', 'luckily', 'lucrative', 'ludicrous', 'lui', 'lulling', 'lumen', 'luminiferous', 'luminosity', 'luminous', 'luminousness', 'lunacy', 'lunar', 'lunarian', 'lunarians', 'lunatic', 'lunatico', 'lunatics', 'lung', 'lungs', 'lurch', 'lurid', 'lurked', 'lurking', 'lussac', 'lustra', 'lustre', 'lustrous', 'lustrum', 'lute', 'luxor', 'luxuriance', 'luxuriant', 'luxuriantly', 'luxuries', 'luxurious', 'luxuriously', 'luxuriousness', 'luxury', 'lxg', 'lxrd', 'lxxk', 'lying', 'lynx', 'lyons', 'lyrae', 'lyre', 'lyrics', 'lysias', 'lyttleton', 'ma', 'macassar', 'mace', 'maces', 'machiavelli', 'machine', 'machinery', 'machines', 'maculae', 'mad', 'madam', 'madame', 'maddening', 'made', 'madeline', 'mademoiselle', 'madly', 'madman', 'madmen', 'madness', 'madonna', 'maelström', 'maelzel', 'magazine', 'magazines', 'magian', 'magic', 'magical', 'magically', 'magician', 'magnet', 'magnetic', 'magnetics', 'magnetism', 'magnetoesthetics', 'magnificence', 'magnificent', 'magnifico', 'magnitude', 'magnolias', 'maguntinae', 'maid', 'maiden', 'mail', 'maillard', 'maillardet', 'mails', 'main', 'maine', 'mainly', 'maintain', 'maintained', 'maintaining', 'maintains', 'mais', 'maison', 'maisons', 'majestic', 'majesty', 'major', 'majority', 'make', 'maker', 'makes', 'makesetai', 'making', 'mal', 'malabar', 'maladies', 'malady', 'malays', 'malcontent', 'male', 'malevolence', 'malibran', 'maliceful', 'malignancy', 'malignity', 'mallet', 'maltese', 'maltreated', 'maltreating', 'mammalia', 'man', 'manage', 'manageable', 'managed', 'mandate', 'mandeville', 'mandragora', 'mangled', 'manhood', 'mania', 'maniac', 'maniere', 'manifest', 'manifestation', 'manifestations', 'manifested', 'manifold', 'manipulations', 'mankind', 'manly', 'mann', 'manner', 'mannerisms', 'manners', 'manoeuvre', 'manoeuvres', 'manoevres', 'mansarde', 'mansardes', 'mansion', 'mansions', 'mantel', 'mantelet', 'mantelpieces', 'mantle', 'mantled', 'manual', 'manufacture', 'manufactured', 'manumitted', 'manuscript', 'manuscrit', 'many', 'map', 'maple', 'maps', 'marble', 'marbles', 'march', 'marchesa', 'marco', 'marcy', 'mare', 'margin', 'marginal', 'margins', 'marian', 'marie', 'marinade', 'mark', 'markbrünnen', 'marked', 'markedly', 'marks', 'marlin', 'marmontel', 'marquis', 'marriage', 'marriages', 'married', 'marrow', 'marry', 'marsh', 'marston', 'marsyas', 'marvel', 'marvellous', 'marx', 'mary', 'mask', 'masked', 'maskers', 'masks', 'mason', 'masonry', 'masquerade', 'masqueraders', 'mass', 'massa', 'massacre', 'masse', 'masses', 'massive', 'massy', 'mast', 'master', 'masterminds', 'masterpiece', 'mastery', 'mastication', 'mastiff', 'mastodon', 'masts', 'match', 'mate', 'mater', 'material', 'materialism', 'materiality', 'materially', 'materials', 'mates', 'mathematical', 'mathematically', 'mathematician', 'mathematicians', 'mathematics', 'matronly', 'matter', 'mattered', 'matters', 'mattock', 'mature', 'matured', 'maturing', 'maturity', 'maury', 'may', 'mazes', 'mazurka', 'mazurkiad', 'mazy', 'mdcxlvii', 'me', 'meadows', 'meagre', 'meal', 'meals', 'mean', 'meandering', 'meaning', 'meaningless', 'means', 'meant', 'meantime', 'meanwhile', 'meas', 'measurable', 'measure', 'measured', 'measures', 'meat', 'mecca', 'mechanical', 'mechanism', 'medallion', 'medallions', 'medals', 'median', 'mediate', 'medical', 'medicean', 'medicinal', 'medicine', 'medii', 'meditate', 'meditated', 'meditates', 'meditating', 'meditation', 'meditations', 'meditatively', 'mediterranean', 'medium', 'medley', 'medoc', 'meek', 'meekly', 'meerschaum', 'meet', 'meeting', 'meetings', 'mein', 'melancholy', 'mele', 'melete', 'melodies', 'melodious', 'melodrama', 'melody', 'melon', 'melted', 'melting', 'melts', 'mem', 'member', 'members', 'membrane', 'meme', 'memoirs', 'memorable', 'memorandum', 'memorials', 'memories', 'memory', 'men', 'menace', 'menages', 'mended', 'mender', 'mendicant', 'menehoult', 'menhoult', 'menials', 'mennais', 'mental', 'mentally', 'mention', 'mentioned', 'mentioning', 'mentions', 'mentoni', 'mercator', 'merchandise', 'merchant', 'merciful', 'merciless', 'mercurie', 'mercury', 'mercy', 'mere', 'merely', 'merest', 'merge', 'merged', 'merit', 'merited', 'merits', 'merriment', 'merry', 'mes', 'mesmer', 'mesmeric', 'mesmerism', 'mesmerist', 'mesmerized', 'mesmerizing', 'message', 'messenger', 'messieurs', 'messrs', 'messy', 'mestorne', 'met', 'metal', 'metallic', 'metamorphosis', 'metaphor', 'metaphysical', 'metaphysician', 'metaphysicians', 'metaphysics', 'metaphysithe', 'metempsychosis', 'meteoric', 'methinks', 'method', 'methodical', 'methodically', 'methodize', 'methods', 'methought', 'metropolis', 'metzengerstein', 'mewed', 'mexican', 'miasma', 'mice', 'microscope', 'microscopes', 'mid', 'middle', 'midnight', 'midst', 'midsummer', 'midway', 'mienne', 'mieux', 'mige', 'might', 'mighty', 'mignaud', 'migrate', 'migrated', 'miguel', 'mihi', 'mild', 'milder', 'mildew', 'mildewed', 'mile', 'miles', 'military', 'militates', 'militating', 'milk', 'milky', 'mill', 'mille', 'milled', 'miller', 'million', 'millionaires', 'millions', 'millstone', 'milton', 'mimes', 'mimic', 'mimicking', 'minarets', 'mind', 'minded', 'minding', 'minds', 'mine', 'mineral', 'mineralizing', 'mines', 'mingle', 'mingled', 'miniature', 'minister', 'ministerial', 'ministers', 'minor', 'minute', 'minutely', 'minuteness', 'minutes', 'minutest', 'mio', 'miracle', 'miracles', 'miraculous', 'miraculously', 'miranda', 'mirror', 'mirrors', 'mirth', 'mirthful', 'mis', 'misadventure', 'misanthrope', 'misanthropic', 'misanthropy', 'misapprehended', 'misarrangement', 'miscalculation', 'miscalculations', 'miscellaneous', 'mischief', 'mischievous', 'misconceived', 'miscreants', 'miser', 'miserable', 'miserably', 'miseries', 'misery', 'misfortune', 'misfortunes', 'misinformed', 'mislaid', 'misled', 'misrule', 'miss', 'missed', 'misses', 'missing', 'mist', 'mistake', 'mistaken', 'mistakes', 'mistaking', 'mistook', 'mistress', 'mistrust', 'mists', 'misty', 'misunderstanding', 'misunderstood', 'mixed', 'mixture', 'mizen', 'mizzen', 'mneme', 'moaning', 'moanings', 'mob', 'mobile', 'mobilia', 'mockery', 'mocking', 'mode', 'model', 'modelled', 'moderate', 'moderately', 'modern', 'modes', 'modest', 'modeste', 'modestly', 'modesty', 'modification', 'modifications', 'modified', 'modify', 'modo', 'modulated', 'modulation', 'modus', 'moiety', 'moissart', 'moist', 'moisture', 'molded', 'mole', 'moles', 'mollified', 'molten', 'molucca', 'moment', 'momentary', 'momently', 'momentous', 'moments', 'mon', 'monarch', 'monastic', 'monck', 'monday', 'money', 'moneypenny', 'moniteur', 'monk', 'monkey', 'monkish', 'monks', 'monody', 'monologue', 'monomania', 'monopoly', 'monos', 'monotone', 'monotonous', 'monotonously', 'monotony', 'monsieur', 'monster', 'monstrosities', 'monstrosity', 'monstrous', 'monstrum', 'montani', 'month', 'monthly', 'months', 'montresors', 'monument', 'mood', 'moodily', 'moodiness', 'moods', 'moody', 'moon', 'moonless', 'moonlight', 'moons', 'moral', 'morale', 'moralist', 'moralists', 'morality', 'morals', 'morass', 'moraux', 'morbid', 'morbidly', 'morceau', 'more', 'moreau', 'morella', 'moreover', 'moresque', 'morgue', 'morir', 'morning', 'morrow', 'morry', 'morsel', 'mortal', 'mortality', 'mortals', 'mortar', 'mortification', 'mortified', 'mortify', 'mortis', 'morto', 'mortuorum', 'mortuus', 'morty', 'mos', 'mosaics', 'mosaiques', 'moscow', 'moses', 'moshe', 'moskoe', 'moslemin', 'mosques', 'moss', 'most', 'mostly', 'mosäiques', 'moth', 'mother', 'motion', 'motioned', 'motioning', 'motionless', 'motionlessness', 'motions', 'motive', 'motives', 'motivirt', 'motley', 'motto', 'mouff', 'mought', 'mould', 'moulded', 'mouldering', 'moultrie', 'mound', 'mountain', 'mountainous', 'mountains', 'mountebanks', 'mounting', 'mourn', 'mournful', 'mournfully', 'mourning', 'mouse', 'mousseux', 'mouth', 'mouthed', 'mouths', 'move', 'moveable', 'moved', 'movement', 'movements', 'moves', 'moving', 'mr', 'mrs', 'ms', 'mss', 'much', 'mud', 'muddled', 'muddy', 'mudler', 'muerte', 'muffled', 'mulberries', 'mulct', 'multicolor', 'multiform', 'multiple', 'multiplication', 'multiplicity', 'multiplied', 'multiplies', 'multiply', 'multiplying', 'multitude', 'multitudinous', 'mumble', 'mumblethumb', 'mummer', 'munificent', 'munroe', 'murder', 'murdered', 'murderer', 'murderers', 'murders', 'muriton', 'murky', 'murmur', 'murmured', 'murmuring', 'murmurs', 'mus', 'muscle', 'muscles', 'muscular', 'muse', 'mused', 'muses', 'muset', 'museums', 'mushrooms', 'music', 'musical', 'musically', 'musician', 'musicians', 'musing', 'musingly', 'musings', 'musique', 'muskets', 'muslin', 'must', 'mustachios', 'mustard', 'muster', 'musty', 'musée', 'mute', 'mutely', 'mutilated', 'mutilation', 'mutiny', 'mutter', 'muttered', 'muttering', 'mutually', 'muzzle', 'mxther', 'my', 'mynheer', 'myriad', 'myriads', 'myrmidons', 'myrtle', 'myrtles', 'myself', 'mysteries', 'mysterious', 'mystery', 'mystic', 'mystical', 'mystific', 'mystification', 'mystified', 'mystifique', 'mythology', 'ménageais', 'même', 'nail', 'nailed', 'nails', 'naivete', 'naked', 'nakedness', 'name', 'named', 'nameless', 'names', 'namesake', 'nantz', 'nap', 'nape', 'naples', 'napoleon', 'napoli', 'narrated', 'narrating', 'narration', 'narrative', 'narratives', 'narrow', 'narrowed', 'narrower', 'narrowly', 'nascent', 'nascitur', 'nassau', 'nasty', 'nat', 'nation', 'national', 'nationality', 'nations', 'native', 'natives', 'nativity', 'naturae', 'natural', 'naturalists', 'naturally', 'naturalness', 'nature', 'natured', 'naught', 'nauseated', 'naval', 'navigation', 'navigator', 'navigators', 'nay', 'ne', 'neal', 'neapolitan', 'neapolitans', 'near', 'nearer', 'nearest', 'nearly', 'neat', 'neatly', 'neatness', 'nebber', 'neber', 'nebula', 'nebular', 'nebulosity', 'nebulous', 'nebulæ', 'necessarily', 'necessary', 'necessity', 'neck', 'necks', 'necromancy', 'need', 'needed', 'needle', 'needles', 'needless', 'needs', 'negative', 'neglect', 'neglected', 'negligent', 'negligently', 'negro', 'negroes', 'neighbor', 'neighborhood', 'neighboring', 'neighbors', 'neighbour', 'neighbourhood', 'neighbouring', 'neither', 'nem', 'nemo', 'nephew', 'neptunian', 'nerve', 'nerves', 'nerving', 'nervous', 'nervously', 'nervousness', 'net', 'nether', 'network', 'neuclid', 'neufchatelish', 'neuralgia', 'neuralgic', 'neutral', 'never', 'nevertheless', 'nevis', 'new', 'newfoundland', 'newly', 'news', 'newspaper', 'newspapers', 'newton', 'next', 'niagara', 'nib', 'nibble', 'nice', 'nicely', 'nicety', 'niche', 'niches', 'nicholas', 'nichols', 'nick', 'nicolino', 'niece', 'nier', 'nigger', 'niggerless', 'night', 'nightcap', 'nightingale', 'nightly', 'nightmare', 'nights', 'nihil', 'nihility', 'nihilo', 'nill', 'nimbleness', 'nine', 'nineteenth', 'ninety', 'nineveh', 'ninny', 'ninon', 'ninth', 'niobe', 'nitre', 'nitrogen', 'no', 'nobility', 'noble', 'nobleman', 'noblest', 'nobody', 'nocturnal', 'nod', 'nodded', 'noffin', 'noise', 'noiselessly', 'noises', 'nom', 'nombre', 'nommy', 'non', 'nonce', 'nonchalance', 'nonchalant', 'nondescript', 'none', 'nonentity', 'nonsense', 'nook', 'nooks', 'noon', 'noonday', 'noose', 'nooses', 'noovers', 'nopolis', 'nor', 'nordland', 'norfolk', 'normal', 'norman', 'north', 'northeast', 'northern', 'northward', 'northwardly', 'northwesterly', 'northwestern', 'norway', 'norwegian', 'norwegians', 'nose', 'noses', 'nosology', 'nostril', 'nostrils', 'not', 'notable', 'note', 'noted', 'notes', 'nothing', 'nothingness', 'notice', 'noticeable', 'noticed', 'notices', 'noticing', 'notion', 'notions', 'notoriety', 'notorious', 'notoriously', 'notre', 'noturwissenchaft', 'notwithstanding', 'noumena', 'nourjahad', 'nouvelette', 'nouvelle', 'novalis', 'novel', 'novelists', 'novelty', 'november', 'novice', 'now', 'nubian', 'nubium', 'nucleus', 'nues', 'nuff', 'null', 'nullity', 'number', 'numbered', 'numberless', 'numbers', 'numbness', 'numerous', 'numerously', 'nuptials', 'nurse', 'nurses', 'nurtured', 'nut', 'nutriment', 'nuts', 'nx', 'nxbxdy', 'nxne', 'nxr', 'nxthing', 'nxw', 'oak', 'oaken', 'oaks', 'oar', 'oarsmen', 'oasis', 'oat', 'oath', 'oaths', 'ob', 'obedient', 'obey', 'obeyed', 'object', 'objected', 'objection', 'objectionable', 'objections', 'objectless', 'objects', 'obligation', 'oblige', 'obliged', 'obligingly', 'obliterated', 'obliterates', 'oblong', 'obscure', 'obscurity', 'observable', 'observant', 'observation', 'observations', 'observe', 'observed', 'observer', 'observes', 'observing', 'obst', 'obstacle', 'obstinacy', 'obstinate', 'obstinately', 'obstreperous', 'obstructed', 'obstruction', 'obstrusive', 'obtain', 'obtained', 'obtaining', 'obtains', 'obtrude', 'obtruded', 'obtrusive', 'obtrusively', 'obtuse', 'obviated', 'obvious', 'obviously', 'obviousness', 'occasion', 'occasional', 'occasionally', 'occasioned', 'occasions', 'occidit', 'occultation', 'occupant', 'occupants', 'occupation', 'occupations', 'occupied', 'occupy', 'occupying', 'occur', 'occurred', 'occurrence', 'occurrences', 'occurring', 'occurs', 'ocean', 'oceans', 'ochori', 'ocracoke', 'octaves', 'octavo', 'october', 'ocular', 'odd', 'oddities', 'oddly', 'odds', 'ode', 'odenheimer', 'odigies', 'odious', 'odor', 'odorous', 'odors', 'odour', 'odyssey', 'oeil', 'of', 'off', 'offal', 'offence', 'offend', 'offended', 'offending', 'offensive', 'offer', 'offered', 'offering', 'offers', 'office', 'officer', 'officers', 'offices', 'official', 'officiate', 'officiousness', 'offspring', 'often', 'oftener', 'ogs', 'oh', 'oil', 'oily', 'oinos', 'oiseau', 'old', 'oldeb', 'older', 'oldest', 'ole', 'olive', 'olympiad', 'olympics', 'omelette', 'omen', 'omened', 'ominous', 'omission', 'omit', 'omitted', 'omne', 'omni', 'omnibus', 'omnipotence', 'omnipresence', 'omniprevalence', 'omniscience', 'on', 'once', 'ond', 'one', 'oneness', 'onerous', 'ones', 'only', 'onward', 'onwards', 'onyxes', 'oozing', 'oozy', 'opals', 'open', 'opened', 'opening', 'openings', 'openly', 'openness', 'opens', 'opera', 'operandi', 'operate', 'operated', 'operating', 'operation', 'operations', 'operator', 'opinion', 'opinions', 'opium', 'oporto', 'oppodeldoc', 'opponent', 'opponents', 'opportunely', 'opportunite', 'opportunities', 'opportunity', 'oppose', 'opposed', 'opposite', 'opposition', 'oppress', 'oppressed', 'oppression', 'oppressive', 'oppressively', 'optic', 'optical', 'opulence', 'or', 'orange', 'oration', 'orations', 'orators', 'orb', 'orbit', 'orbs', 'orchestra', 'order', 'ordered', 'orderly', 'orders', 'ordinarily', 'ordinary', 'orfeo', 'organ', 'organic', 'organization', 'organs', 'oriels', 'oriental', 'origin', 'original', 'originality', 'originally', 'originate', 'originated', 'oriole', 'orion', 'ornament', 'ornamental', 'ornamented', 'ornaments', 'orontes', 'orthodox', 'orthographically', 'ortolan', 'ortolans', 'os', 'osborne', 'oscillation', 'ose', 'ossa', 'osseous', 'ossi', 'ossification', 'ostensible', 'ostensibly', 'otello', 'other', 'others', 'otherwise', 'otterholm', 'ottoman', 'ottomans', 'ought', 'ounce', 'ounces', 'our', 'ourang', 'ours', 'ourself', 'ourselves', 'out', 'outang', 'outangs', 'outbidding', 'outbursts', 'outcry', 'outer', 'outfit', 'outlay', 'outlet', 'outline', 'outlines', 'outrage', 'outrageous', 'outrages', 'outre', 'outreaching', 'outrider', 'outright', 'outrun', 'outset', 'outside', 'outskirts', 'outstretched', 'outstripped', 'outward', 'outwardly', 'outwards', 'outwits', 'ov', 'oval', 'oven', 'over', 'overawed', 'overboard', 'overburthened', 'overcast', 'overcharged', 'overcoat', 'overcome', 'overdone', 'overflowing', 'overgrown', 'overhanging', 'overhead', 'overheard', 'overhung', 'overlapping', 'overlooked', 'overpowered', 'overpowering', 'overran', 'overrated', 'overreaching', 'overruled', 'overscored', 'overshadowed', 'overshadows', 'overshot', 'oversight', 'oversights', 'overspread', 'overstowed', 'overstrained', 'overtake', 'overtaken', 'overtakes', 'overthrew', 'overthrow', 'overthrown', 'overthrows', 'overtook', 'overtopped', 'overturned', 'overwhelm', 'overwhelmed', 'overwhelming', 'ow', 'owd', 'owed', 'owes', 'owing', 'owl', 'own', 'owner', 'owns', 'oxford', 'oxus', 'oxygen', 'oysters', 'pabulum', 'pace', 'paced', 'paces', 'pacific', 'pacify', 'pacing', 'pack', 'package', 'packages', 'packed', 'packet', 'packets', 'packs', 'paddings', 'paddle', 'paestum', 'pagan', 'page', 'pages', 'pagoda', 'paid', 'pain', 'pained', 'painful', 'painfully', 'pains', 'paint', 'painted', 'painter', 'painters', 'painting', 'paintings', 'pair', 'palace', 'palaces', 'palais', 'palanquins', 'palate', 'palaver', 'palazzo', 'pale', 'paleness', 'palin', 'pall', 'palled', 'pallet', 'pallid', 'pallor', 'palm', 'palpabilities', 'palpability', 'palpable', 'palpably', 'palpitate', 'palpitated', 'palpitating', 'palsied', 'paltry', 'palæ', 'pamphlet', 'pan', 'pane', 'panel', 'panes', 'pangs', 'panic', 'pannel', 'pannels', 'panorama', 'panoramic', 'pansies', 'pantaloons', 'panted', 'panting', 'papa', 'paper', 'papers', 'papier', 'papillon', 'papillotes', 'papyrus', 'par', 'parable', 'parachutes', 'parade', 'paraded', 'paradise', 'paradises', 'paradox', 'paradoxical', 'paragrab', 'paragraph', 'paragraphs', 'parallel', 'parallelism', 'paralysis', 'paralyze', 'paralyzed', 'paraphrased', 'parasites', 'parasol', 'parcel', 'parcels', 'parched', 'parchment', 'pardon', 'pardoned', 'pardonne', 'pardons', 'parentheses', 'parents', 'parfumerie', 'paris', 'parish', 'parisian', 'parisians', 'parièr', 'park', 'parley', 'parlor', 'parmi', 'parmly', 'paroxysm', 'paroxysms', 'part', 'partaking', 'parte', 'parted', 'parti', 'partial', 'partiality', 'partially', 'participants', 'participate', 'participation', 'particle', 'particles', 'particular', 'particularizing', 'particularly', 'particulars', 'parties', 'parting', 'partisan', 'partition', 'partitioned', 'partitions', 'partly', 'partner', 'partook', 'parts', 'party', 'parvenu', 'pas', 'pascal', 'pasquinaded', 'pass', 'passable', 'passage', 'passages', 'passed', 'passenger', 'passengers', 'passers', 'passes', 'passing', 'passion', 'passionate', 'passionately', 'passions', 'passive', 'passports', 'past', 'paste', 'pasteboard', 'pastimes', 'pastor', 'pastoral', 'pat', 'patchy', 'pate', 'patent', 'paternal', 'path', 'pathetic', 'pathology', 'paths', 'pathway', 'patience', 'patient', 'patiently', 'patients', 'patriarch', 'patrimony', 'patriots', 'patron', 'patronage', 'patronise', 'patronize', 'patronized', 'patronizing', 'patronymic', 'pattern', 'patterns', 'patting', 'paul', 'pauline', 'pause', 'paused', 'pauses', 'pausing', 'pauvre', 'paved', 'pavement', 'paving', 'pavée', 'paw', 'pay', 'paying', 'payment', 'pays', 'pe', 'pea', 'peaaema', 'peace', 'peaceable', 'peaceful', 'peal', 'pear', 'pearl', 'pearly', 'peasant', 'peasantry', 'pebbles', 'peculiar', 'peculiarities', 'peculiarity', 'peculiarly', 'pecuniary', 'pedants', 'pedestrian', 'pedro', 'peep', 'peer', 'peering', 'peers', 'peevish', 'peevishly', 'peevishness', 'peg', 'pehabe', 'peine', 'pele', 'pelief', 'pelion', 'pell', 'peltries', 'pemmican', 'pen', 'pencil', 'pendulous', 'pendulum', 'pendulums', 'penetrate', 'penetrated', 'penetrating', 'penetration', 'peninsula', 'pennant', 'penned', 'pennies', 'penning', 'penny', 'pensiero', 'pension', 'penstruthal', 'pensé', 'pentagon', 'people', 'peopleless', 'pepper', 'per', 'perambulations', 'peray', 'perceive', 'perceived', 'perceives', 'perceiving', 'perceptible', 'perceptibly', 'perception', 'perceptions', 'percha', 'perchance', 'percival', 'perdidit', 'perds', 'perdu', 'peregrinations', 'peremptorily', 'peremptory', 'perennial', 'perfect', 'perfection', 'perfectionists', 'perfectly', 'perforations', 'perforce', 'perform', 'performance', 'performed', 'performers', 'performing', 'performs', 'perfume', 'perfumed', 'perfumer', 'perfumery', 'perfumes', 'perhaps', 'pericranium', 'perier', 'perigee', 'perihelion', 'peril', 'perilous', 'perils', 'period', 'periodical', 'periodically', 'periodicals', 'periods', 'perish', 'perished', 'perishing', 'permanent', 'permanently', 'permeate', 'permeates', 'permission', 'permit', 'permits', 'permitted', 'permitting', 'pernicious', 'perpendicular', 'perpendicularly', 'perpetrate', 'perpetrated', 'perpetration', 'perpetrator', 'perpetrators', 'perpetual', 'perpetually', 'perpetuated', 'perplex', 'perplexed', 'perplexing', 'perplexity', 'persecute', 'persecution', 'persecutor', 'persecutors', 'persepolis', 'perseverance', 'persevere', 'persevered', 'perseveres', 'persevering', 'perseveringly', 'persia', 'persist', 'person', 'personage', 'personages', 'personal', 'personally', 'personified', 'persons', 'perspective', 'perspiration', 'persuaded', 'persuasion', 'pert', 'perticcler', 'pertinaciously', 'pertinacity', 'pertinent', 'perturbation', 'peru', 'perusal', 'peruse', 'perused', 'pervaded', 'pervades', 'pervading', 'perverse', 'perverseness', 'perversion', 'perversity', 'pest', 'pestilence', 'pestilences', 'pestilent', 'pestilential', 'pesty', 'pet', 'peter', 'petersham', 'petit', 'petition', 'petitmaître', 'petrified', 'pets', 'petticoat', 'petticoats', 'pettitt', 'petto', 'petty', 'petulant', 'petulantly', 'pew', 'pfaal', 'pfaall', 'phalaris', 'phantasies', 'phantasm', 'phantasma', 'phantasmagoric', 'phantasy', 'phantom', 'phaseless', 'phenomena', 'phenomenon', 'pheugoen', 'philadelphia', 'philippic', 'philosopher', 'philosophers', 'philosophic', 'philosophical', 'philosophie', 'philosophy', 'phiz', 'phlegethon', 'phlegraei', 'phosphorescent', 'phosphoric', 'phrase', 'phraseology', 'phrases', 'phrenological', 'phrenologists', 'phrenology', 'phrensied', 'phrenzied', 'phrenzy', 'phthisis', 'physical', 'physically', 'physician', 'physicians', 'physics', 'physiognomy', 'physiologist', 'physiology', 'physique', 'piano', 'piazetta', 'piazza', 'piazzas', 'pick', 'picked', 'picking', 'picks', 'pictorial', 'picture', 'pictured', 'pictures', 'picturesque', 'picturesqueness', 'pie', 'piece', 'pieces', 'piena', 'piercing', 'pierre', 'piety', 'pig', 'pigeon', 'pigeons', 'pigger', 'pigs', 'pilau', 'pile', 'piled', 'piles', 'pilgrimage', 'pilier', 'pillar', 'pillars', 'pillow', 'pillows', 'pin', 'pinch', 'pinched', 'pindar', 'pine', 'pined', 'piningly', 'pinion', 'pinioned', 'pinions', 'pinnacle', 'pinnacles', 'pinxit', 'pious', 'piously', 'pipe', 'pipes', 'piquancy', 'piquant', 'pique', 'pirate', 'pirates', 'pirouette', 'pirouetted', 'pistol', 'pistols', 'pit', 'pitch', 'pitched', 'pitcher', 'pitches', 'pitching', 'pitchy', 'piteously', 'pith', 'pitiable', 'pitied', 'pitiful', 'pits', 'pittoresque', 'pity', 'pivot', 'pivots', 'pizziness', 'pizzness', 'placard', 'placards', 'place', 'placed', 'places', 'placid', 'placidity', 'placidly', 'placing', 'plague', 'plain', 'plainly', 'plaits', 'plan', 'plane', 'planet', 'planetary', 'planets', 'plank', 'plankings', 'planks', 'planned', 'plans', 'plant', 'plantation', 'plantes', 'plaster', 'plastered', 'plate', 'plates', 'platform', 'platonist', 'plausibility', 'plausible', 'play', 'played', 'player', 'players', 'playing', 'plays', 'plazer', 'pleading', 'pleadings', 'pleasant', 'pleasantly', 'pleasantry', 'please', 'pleased', 'pleasing', 'pleasurable', 'pleasure', 'pleasures', 'plebeian', 'pledge', 'pleiades', 'plentifulness', 'plenty', 'plicable', 'plot', 'plotting', 'plucking', 'plum', 'plume', 'plumed', 'plumes', 'plumped', 'plunder', 'plunderer', 'plunge', 'plunged', 'plunging', 'plus', 'pluto', 'ply', 'plying', 'pocket', 'pocketbook', 'pocketing', 'pockets', 'poem', 'poems', 'poet', 'poete', 'poetic', 'poetical', 'poetry', 'poets', 'poh', 'poignant', 'point', 'pointed', 'pointedly', 'pointing', 'points', 'poised', 'poison', 'poisoned', 'poisonous', 'poke', 'poked', 'poking', 'polar', 'pole', 'poles', 'police', 'policial', 'policy', 'polish', 'polished', 'polite', 'politian', 'political', 'politician', 'politics', 'poll', 'pollution', 'polyglott', 'polytechnic', 'pomp', 'pompey', 'pomposity', 'pompous', 'pon', 'pond', 'ponder', 'ponderable', 'pondered', 'pondering', 'ponderous', 'ponders', 'ponds', 'ponte', 'ponto', 'poodle', 'pool', 'poop', 'poor', 'pop', 'popinjay', 'poplar', 'poplars', 'poppies', 'popping', 'populace', 'popular', 'population', 'populous', 'pore', 'pored', 'pores', 'poring', 'pork', 'porous', 'porphyrogene', 'porphyry', 'porpoise', 'porque', 'porridge', 'port', 'portal', 'portals', 'portend', 'portentous', 'portents', 'portion', 'portions', 'portly', 'portmanteau', 'portrait', 'portraite', 'portraiture', 'portray', 'ports', 'position', 'positions', 'positive', 'positively', 'positiveness', 'possess', 'possessed', 'possessing', 'possession', 'possessions', 'possessor', 'possibility', 'possibilty', 'possible', 'possibly', 'possum', 'post', 'postage', 'posteriori', 'posterity', 'postponing', 'postscript', 'posture', 'postures', 'pot', 'potency', 'potent', 'pots', 'pound', 'pounds', 'pour', 'poured', 'pouring', 'pover', 'poverty', 'powder', 'powdered', 'power', 'powerful', 'powerfully', 'powerfulness', 'powering', 'powers', 'pp', 'practicability', 'practicable', 'practical', 'practice', 'practise', 'practised', 'practising', 'practitioners', 'prairie', 'praise', 'praised', 'pratol', 'pratt', 'pray', 'prayed', 'prayer', 'prayers', 'pre', 'preached', 'precaution', 'precautions', 'preceded', 'precedes', 'preceding', 'precepts', 'precincts', 'precious', 'precipice', 'precipices', 'precipitancy', 'precipitate', 'precipitated', 'precipitous', 'precise', 'precisely', 'precision', 'preclude', 'precluded', 'preconceived', 'preconcert', 'preconcertedly', 'predecessors', 'predicament', 'predicate', 'predict', 'predicted', 'predilection', 'predisposed', 'predisposing', 'predominant', 'predominate', 'predominates', 'predominating', 'preeches', 'preeminence', 'preeminent', 'prefacing', 'prefect', 'prefecture', 'prefer', 'preferred', 'prefixed', 'pregnancy', 'pregnant', 'preignac', 'prejudice', 'prejudices', 'preliminaries', 'premature', 'premeditated', 'premier', 'premise', 'premises', 'premium', 'prentice', 'preparation', 'preparations', 'preparatory', 'prepare', 'prepared', 'prepares', 'preparing', 'preponderate', 'prepossessions', 'preposterous', 'prerogative', 'presburg', 'prescribed', 'prescriptive', 'presence', 'present', 'presentant', 'presentation', 'presented', 'presentiment', 'presenting', 'presently', 'presentment', 'presents', 'preservation', 'preserve', 'preserved', 'preserver', 'preserving', 'presided', 'president', 'press', 'pressed', 'pressing', 'pressure', 'preston', 'presumable', 'presume', 'presumed', 'pretence', 'pretences', 'pretend', 'pretended', 'pretends', 'pretense', 'pretension', 'pretensions', 'preternatural', 'pretty', 'prevail', 'prevailed', 'prevailing', 'prevails', 'prevalence', 'prevalent', 'prevarication', 'prevent', 'prevented', 'preventing', 'prevention', 'previous', 'previously', 'prey', 'preys', 'price', 'prices', 'pricked', 'pride', 'priesthood', 'priestley', 'priestly', 'prig', 'prim', 'prima', 'primary', 'primeval', 'primitive', 'primness', 'primum', 'primæval', 'prince', 'princely', 'princes', 'principal', 'principality', 'principally', 'principia', 'principium', 'principle', 'principles', 'print', 'printed', 'printer', 'printing', 'prints', 'prior', 'priori', 'priority', 'prison', 'prisoner', 'prisoners', 'prisons', 'privacy', 'private', 'privately', 'privilege', 'privileges', 'privy', 'prize', 'pro', 'probabilities', 'probability', 'probable', 'probably', 'probe', 'probed', 'probes', 'probing', 'problem', 'problems', 'proboscis', 'proceed', 'proceeded', 'proceeding', 'proceedings', 'proceeds', 'process', 'processes', 'proche', 'proclaimed', 'proclamation', 'procure', 'procured', 'procuring', 'prodigal', 'prodigies', 'prodigious', 'prodigiously', 'produce', 'produced', 'produces', 'producing', 'productions', 'profanation', 'profanely', 'profanity', 'professed', 'professes', 'professing', 'profession', 'professor', 'proffered', 'proffit', 'proficiency', 'profile', 'profit', 'profitable', 'profligacy', 'profound', 'profoundest', 'profoundly', 'profundity', 'profuse', 'profusely', 'profuseness', 'profusion', 'progenitors', 'progress', 'progressed', 'progresses', 'progression', 'progressive', 'prohibited', 'project', 'projected', 'projecting', 'projection', 'projections', 'projector', 'projects', 'prolegomena', 'prolongation', 'promenade', 'prometheus', 'prominence', 'prominences', 'prominent', 'promiscuously', 'promise', 'promised', 'promises', 'promising', 'promote', 'prompt', 'prompted', 'promptings', 'promptly', 'promptness', 'prone', 'proneness', 'pronounce', 'pronounced', 'pronouncing', 'pronunciation', 'proof', 'proofs', 'propagated', 'propeller', 'propellers', 'propelling', 'propensities', 'propensity', 'proper', 'properly', 'properties', 'property', 'prophecy', 'prophet', 'proportion', 'proportionate', 'proportionately', 'proportioned', 'proportions', 'proposal', 'proposals', 'propose', 'proposed', 'proposing', 'proposition', 'propositions', 'propounded', 'propounding', 'propped', 'proprieties', 'proprietor', 'propriety', 'propulsion', 'prosecute', 'prosecuted', 'prosecution', 'prospect', 'prospectively', 'prospects', 'prosperity', 'prospero', 'prostrate', 'prostrating', 'protect', 'protected', 'protection', 'protracted', 'protruded', 'protruding', 'protuberance', 'proud', 'prove', 'proved', 'proverb', 'proverbially', 'proverbs', 'proves', 'provide', 'provided', 'providence', 'providential', 'providentially', 'province', 'provinces', 'proving', 'provision', 'provisions', 'proviso', 'provokingly', 'prowling', 'proximate', 'proximity', 'prudence', 'prudent', 'pruderies', 'prudish', 'prussian', 'prying', 'præter', 'præternatural', 'prævalent', 'préparées', 'pseudonym', 'psychal', 'psyche', 'ptolemais', 'public', 'publication', 'publications', 'publicly', 'publique', 'published', 'publishing', 'puckered', 'puddle', 'pudicitae', 'puff', 'puffed', 'puffy', 'pull', 'pulled', 'pulling', 'pulls', 'pulmonary', 'pulpit', 'pulsation', 'pulse', 'pump', 'pumped', 'pumpkin', 'pumps', 'punch', 'puncheon', 'puncheons', 'punctilios', 'punctilious', 'punctuality', 'punctually', 'pundit', 'pundita', 'pungencies', 'pungent', 'pungently', 'punish', 'punished', 'punishing', 'punishment', 'punishments', 'punning', 'pupil', 'pupils', 'puppets', 'puppy', 'purchase', 'purchased', 'purchaser', 'purchases', 'purchasing', 'pure', 'purely', 'purest', 'purification', 'purity', 'purlieus', 'purloined', 'purloiner', 'purple', 'purplish', 'purport', 'purported', 'purports', 'purpose', 'purposeless', 'purposely', 'purposes', 'purred', 'purse', 'purses', 'pursuance', 'pursuant', 'pursue', 'pursued', 'pursuer', 'pursuers', 'pursuing', 'pursuit', 'pursy', 'puseyism', 'push', 'pushing', 'puss', 'put', 'putridity', 'puts', 'putting', 'putty', 'puzzled', 'puzzles', 'pxh', 'pxll', 'pxxr', 'pyramid', 'père', 'quack', 'quackery', 'quacking', 'quadrant', 'quadrupled', 'quaffed', 'quaint', 'quaintly', 'qualification', 'qualifications', 'qualified', 'qualities', 'quality', 'quantities', 'quantity', 'quantum', 'quarrel', 'quarter', 'quarterly', 'quarters', 'quartier', 'quarto', 'quasi', 'quaver', 'quavering', 'que', 'queen', 'queenly', 'queer', 'queerest', 'quelling', 'quench', 'queries', 'querulous', 'query', 'quest', 'question', 'questioned', 'questionings', 'questions', 'qui', 'quia', 'quick', 'quickened', 'quicker', 'quickly', 'quid', 'quidnuncs', 'quiescence', 'quiet', 'quieted', 'quietly', 'quietude', 'quill', 'quintessence', 'quit', 'quite', 'quits', 'quitted', 'quitting', 'quiver', 'quivered', 'quivering', 'quivers', 'quixotic', 'quiz', 'quizzed', 'quizzem', 'quizzes', 'quizzical', 'quocunque', 'quoi', 'quondam', 'quos', 'quotations', 'quote', 'quoted', 'quoting', 'rabbit', 'rabbits', 'rabble', 'race', 'races', 'rack', 'raconteur', 'radiance', 'radiant', 'radiation', 'radical', 'radicalism', 'radically', 'radicalness', 'radii', 'rafaelle', 'rag', 'ragamuffin', 'rage', 'raged', 'ragged', 'raging', 'rail', 'railroad', 'rails', 'raiment', 'rain', 'rainbow', 'raise', 'raised', 'raises', 'raising', 'raisonnement', 'rake', 'rallied', 'ram', 'ramble', 'rambling', 'rampart', 'ramparts', 'ramus', 'ran', 'randolph', 'random', 'rang', 'range', 'ranged', 'rank', 'ranks', 'ransacking', 'rant', 'rantipole', 'rap', 'rapid', 'rapidity', 'rapidly', 'rapier', 'rapine', 'rapped', 'rapport', 'raps', 'rapt', 'rapturous', 'rare', 'rarefaction', 'rarefied', 'rarely', 'rarer', 'rarest', 'rarified', 'rarity', 'rascal', 'rascality', 'rascally', 'rash', 'rashness', 'rat', 'rate', 'rather', 'ratio', 'ratiocination', 'rational', 'rationale', 'rats', 'rattled', 'rattling', 'ravages', 'raved', 'raven', 'ravenous', 'ravine', 'ravines', 'raving', 'ravings', 'ravishing', 'ravisius', 'ray', 'raylessness', 'rays', 'razor', 'razorlike', 're', 'reach', 'reached', 'reaches', 'reaching', 'read', 'reader', 'readers', 'readily', 'readiness', 'reading', 'readings', 'reads', 'ready', 'real', 'realities', 'reality', 'realization', 'realize', 'realized', 'really', 'realm', 'reap', 'reappeared', 'reapproached', 'rear', 'reared', 'reason', 'reasonable', 'reasoned', 'reasoner', 'reasoners', 'reasoning', 'reasonings', 'reasons', 'reassure', 'reassured', 'rebel', 'rebellion', 'rebels', 'rebuilt', 'rebukes', 'rebut', 'rebuts', 'recall', 'recalled', 'recalling', 'recalls', 'receipt', 'receipted', 'receive', 'received', 'receives', 'receiving', 'recency', 'recent', 'receptacle', 'reception', 'recess', 'recesses', 'recherche', 'recherché', 'recherchés', 'recipients', 'recitations', 'recitative', 'reckless', 'recklessly', 'reckoning', 'reclaimed', 'reclined', 'reclining', 'recognisable', 'recognise', 'recognised', 'recognises', 'recognising', 'recognition', 'recognize', 'recognized', 'recognizing', 'recoiling', 'recollect', 'recollected', 'recollection', 'recollections', 'recommandable', 'recommenced', 'recommend', 'recommendation', 'recommended', 'recommending', 'reconcile', 'reconciled', 'reconnoitre', 'reconsider', 'recontre', 'record', 'recorded', 'recorder', 'recording', 'records', 'recourse', 'recover', 'recovered', 'recovering', 'recovery', 'recreant', 'recrossed', 'recrossing', 'rectangular', 'rectangularly', 'recurrence', 'recusant', 'red', 'redivert', 'redness', 'redolent', 'redouble', 'redoubled', 'redoubtable', 'redresser', 'reduced', 'reduction', 'reduplication', 'reeds', 'reefed', 'reeked', 'reeking', 'reeled', 'reeler', 'reeling', 'refastened', 'refer', 'referable', 'reference', 'referrable', 'referred', 'referrible', 'referring', 'refined', 'refinedly', 'reflect', 'reflected', 'reflecting', 'reflection', 'reflections', 'reflective', 'reflux', 'refolded', 'refract', 'refracted', 'refracting', 'refraction', 'refrain', 'refrained', 'refresh', 'refreshments', 'refuge', 'refusal', 'refusals', 'refuse', 'refused', 'refusing', 'refutation', 'refuted', 'regain', 'regained', 'regaining', 'regal', 'regard', 'regarded', 'regarding', 'regardless', 'regards', 'regenerate', 'regenerated', 'regenerating', 'regeneration', 'regia', 'regiment', 'region', 'regions', 'registered', 'regni', 'regret', 'regretful', 'regretted', 'regular', 'regularity', 'regularly', 'regulate', 'regulated', 'regulating', 'reign', 'reigned', 'reigneth', 'reigning', 'reinem', 'reins', 'reinstate', 'reject', 'rejected', 'rejecting', 'rejoice', 'rejoiced', 'rejoices', 'rejoinder', 'relapse', 'relapsed', 'relate', 'related', 'relates', 'relating', 'relation', 'relations', 'relationship', 'relative', 'relatives', 'relaxed', 'release', 'released', 'relented', 'relentless', 'relentlessly', 'relevancy', 'reliable', 'reliance', 'relics', 'relief', 'relieve', 'relieved', 'relieves', 'relieving', 'relinquish', 'relish', 'relished', 'reluctance', 'reluctant', 'reluctantly', 'rely', 'rem', 'remain', 'remainder', 'remained', 'remaining', 'remains', 'remanded', 'remark', 'remarkable', 'remarkably', 'remarked', 'remarking', 'remarks', 'remedied', 'remedies', 'remedy', 'remember', 'remembered', 'remembering', 'remembers', 'remembrance', 'remind', 'reminded', 'reminiscences', 'remissness', 'remnant', 'remnants', 'remodelled', 'remonstrance', 'remorse', 'remorseless', 'remote', 'remotely', 'remoteness', 'remotest', 'removal', 'remove', 'removed', 'removes', 'removing', 'remuneration', 'rencontre', 'rencounters', 'render', 'rendered', 'rendering', 'renders', 'rending', 'renelle', 'renew', 'renewal', 'renewed', 'renovation', 'renown', 'rents', 'repair', 'repaired', 'repayment', 'repeat', 'repeated', 'repeatedly', 'repeaters', 'repeating', 'reperuse', 'repetition', 'repetitions', 'replace', 'replaced', 'replacing', 'replete', 'repletion', 'replied', 'replies', 'reply', 'replying', 'report', 'repose', 'reposed', 'reposes', 'reposing', 'reprehensible', 'represent', 'representation', 'representations', 'representative', 'represented', 'represents', 'repress', 'repression', 'reproach', 'reproof', 'republic', 'republican', 'republicanism', 'republish', 'repugnance', 'repulsive', 'reputation', 'reputed', 'request', 'requested', 'requesting', 'requests', 'require', 'required', 'requires', 'requiring', 'requisite', 'rescue', 'research', 'researches', 'resemblance', 'resemble', 'resembled', 'resembles', 'resembling', 'resented', 'resentment', 'reserve', 'reserved', 'reserving', 'resided', 'residence', 'resident', 'resides', 'residing', 'resign', 'resignation', 'resigned', 'resignedly', 'resigning', 'resist', 'resistance', 'resisted', 'resistlessly', 'resolute', 'resolutely', 'resolution', 'resolutions', 'resolve', 'resolved', 'resolvent', 'resolving', 'resort', 'resorted', 'resorting', 'resounded', 'resource', 'resources', 'respect', 'respectaable', 'respectable', 'respectably', 'respected', 'respectful', 'respectfully', 'respecting', 'respective', 'respectively', 'respects', 'respiration', 'respite', 'resplendent', 'responded', 'responsibilities', 'rest', 'restaurateur', 'rested', 'resting', 'restive', 'restless', 'restlessness', 'restoration', 'restorations', 'restore', 'restored', 'restoring', 'restrain', 'restrained', 'restrains', 'restraint', 'restraints', 'restriction', 'result', 'resulted', 'resulting', 'results', 'resume', 'resumed', 'resumes', 'resuming', 'resurrection', 'resurrexit', 'resuscitation', 'retail', 'retain', 'retained', 'retaining', 'retaliations', 'retard', 'retardation', 'retarded', 'retarding', 'retention', 'retina', 'retire', 'retired', 'retirement', 'retirements', 'retires', 'retiring', 'retouch', 'retrace', 'retraced', 'retracing', 'retreat', 'retreated', 'retreating', 'retribution', 'retrieval', 'retro', 'retrogradation', 'retrograde', 'retrograding', 'return', 'returned', 'returneth', 'returning', 'returns', 'revealed', 'revealing', 'revel', 'revelled', 'reveller', 'revellers', 'revels', 'revenge', 'revenue', 'reverberated', 'reverberation', 'reverberations', 'reverence', 'reverenced', 'reverend', 'reverent', 'reverently', 'reverie', 'reveries', 'reverse', 'reversed', 'reverses', 'revert', 'revery', 'reviendrai', 'review', 'revival', 'revive', 'revived', 'reviving', 'revolting', 'revolution', 'revolutions', 'revolve', 'revolved', 'revolves', 'revolving', 'revulsion', 'reward', 'rewarding', 'reçue', 'rhapsodical', 'rhetorical', 'rheumatism', 'rhine', 'rhinoceros', 'rhode', 'rhymes', 'rialto', 'ribands', 'ribband', 'ribbon', 'ribbons', 'ribs', 'rice', 'rich', 'richbourg', 'richelieu', 'richer', 'riches', 'richest', 'richly', 'richmond', 'richness', 'rid', 'ridden', 'riddle', 'riddles', 'ride', 'rider', 'ridge', 'ridicule', 'ridiculer', 'ridiculous', 'ridiculously', 'riding', 'rife', 'rifled', 'rift', 'rigging', 'right', 'righted', 'righteous', 'rightful', 'rightly', 'rights', 'rigid', 'rigidity', 'rigidly', 'rigmarole', 'rigorous', 'rigorously', 'riker', 'rim', 'rims', 'ring', 'ringing', 'ringlets', 'rings', 'rinsed', 'rioters', 'riots', 'ripened', 'ripening', 'riper', 'ripped', 'ripping', 'ripple', 'ripples', 'rise', 'risen', 'rises', 'rising', 'risk', 'ritual', 'ritzner', 'rival', 'rivalled', 'rivalry', 'river', 'rivers', 'rivet', 'riveted', 'rivetted', 'rivulet', 'rivulets', 'road', 'roads', 'roam', 'roamed', 'roaming', 'roams', 'roanoke', 'roar', 'roared', 'roaring', 'roarings', 'roasted', 'robber', 'robbers', 'robbery', 'robe', 'robed', 'robert', 'robes', 'robust', 'roch', 'rocher', 'rock', 'rocked', 'rocking', 'rocks', 'rocky', 'rod', 'rode', 'roderick', 'rods', 'rogers', 'rogêt', 'roi', 'roll', 'rolled', 'rolling', 'roman', 'romance', 'romantic', 'romanticist', 'rombert', 'rome', 'roof', 'roofs', 'room', 'rooms', 'roomy', 'rooted', 'roots', 'rope', 'ropes', 'roquelaire', 'rose', 'rosemary', 'roses', 'ross', 'rot', 'rotation', 'rotted', 'rotten', 'rotterdam', 'rotting', 'rotund', 'rotundity', 'rouge', 'rough', 'roughened', 'roughly', 'roule', 'round', 'roundabout', 'rounded', 'roundness', 'rounds', 'rousseau', 'rout', 'route', 'routes', 'routine', 'row', 'rowdy', 'rowena', 'rowing', 'royal', 'rub', 'rubbed', 'rubber', 'rubbing', 'rubbish', 'rubens', 'rubies', 'rubini', 'ruby', 'rudder', 'rudderless', 'ruddier', 'ruddy', 'rude', 'rudely', 'rudeness', 'rudiment', 'rudimental', 'rue', 'ruffian', 'ruffians', 'ruffle', 'rug', 'rugged', 'ruin', 'ruinous', 'ruins', 'rule', 'ruled', 'ruler', 'rules', 'ruleth', 'rum', 'rumbling', 'rumgudgeon', 'ruminating', 'rummaging', 'rummer', 'rumor', 'rumors', 'rumpled', 'run', 'runaway', 'rung', 'running', 'runs', 'rural', 'rush', 'rushed', 'rushes', 'rushing', 'russia', 'russian', 'rustled', 'rustling', 'ruts', 'rxlling', 'rèduit', 'rôle', 'sa', 'sabage', 'sabbath', 'sable', 'sacking', 'sacks', 'sacred', 'sacrifice', 'sacrificed', 'sacrificing', 'sacré', 'sad', 'saddened', 'saddle', 'sadly', 'sadness', 'safe', 'safeguard', 'safely', 'safer', 'safety', 'saffron', 'sagacious', 'sagaciously', 'sagacity', 'said', 'sail', 'sailed', 'sailing', 'sailor', 'sailors', 'sails', 'saint', 'sais', 'sake', 'salad', 'salamanca', 'salamander', 'salary', 'sale', 'salis', 'salle', 'sallied', 'sallies', 'sally', 'saloon', 'saloons', 'salsafette', 'salt', 'salts', 'saluted', 'salvation', 'salvatorish', 'samaria', 'same', 'san', 'sanctimoniousness', 'sanctity', 'sanctum', 'sand', 'sandalled', 'sandflesen', 'sands', 'sandy', 'sane', 'sang', 'sangsue', 'sangsues', 'sanguine', 'sanguinis', 'sanity', 'sank', 'sans', 'sante', 'santé', 'sapphires', 'saracen', 'saracenic', 'saratoga', 'sarcasm', 'sarcastic', 'sarcophagi', 'sarcophagus', 'sardanapalus', 'sarmatic', 'sartain', 'sash', 'sashes', 'sassafras', 'sasso', 'sat', 'satanic', 'sate', 'satellite', 'satellites', 'satiating', 'satin', 'satinet', 'satirical', 'satirist', 'satisfaction', 'satisfactorily', 'satisfactory', 'satisfied', 'satisfy', 'satisfying', 'saturated', 'saturday', 'saturn', 'saturnian', 'satyr', 'sauce', 'saucer', 'sauer', 'sauerkraut', 'sauntered', 'sauntering', 'sausage', 'sauterne', 'savage', 'savages', 'savans', 'save', 'saved', 'saving', 'savor', 'saw', 'saws', 'saxon', 'say', 'sayest', 'saying', 'sayings', 'says', 'scaffold', 'scale', 'scales', 'scalp', 'scalping', 'scaly', 'scamp', 'scampering', 'scampers', 'scan', 'scanned', 'scantlings', 'scanty', 'scapegrace', 'scarabaeus', 'scarabæi', 'scarabæus', 'scarce', 'scarcely', 'scare', 'scared', 'scarf', 'scarlet', 'scarred', 'scattered', 'scene', 'scenery', 'scenes', 'scent', 'scented', 'scentless', 'sceptical', 'scepticism', 'sceptre', 'scheme', 'schemes', 'schiedam', 'schiller', 'schiraz', 'schlumberger', 'scholar', 'scholars', 'school', 'schoolboy', 'schoolfellows', 'schoolmates', 'schools', 'schooner', 'schroeter', 'science', 'sciences', 'scientific', 'scimetar', 'scimitar', 'scoffed', 'scope', 'score', 'scored', 'scores', 'scorn', 'scorned', 'scorning', 'scoundrel', 'scoundrelly', 'scoundrels', 'scourge', 'scowl', 'scrambled', 'scrambling', 'scrap', 'scrape', 'scraping', 'scraps', 'scratch', 'scratching', 'scrawl', 'scream', 'screamed', 'screaming', 'screams', 'screeching', 'screen', 'screw', 'screwed', 'scribble', 'scribbler', 'scripta', 'scriptural', 'scroll', 'scruple', 'scruples', 'scrupulous', 'scrupulously', 'scrutinize', 'scrutinized', 'scrutinizing', 'scrutiny', 'scud', 'scudded', 'scuffle', 'scuffling', 'scull', 'scullion', 'sculptor', 'sculptural', 'sculpture', 'sculptured', 'sculptures', 'scythe', 'scythes', 'scythian', 'se', 'sea', 'seabright', 'seal', 'sealed', 'sealing', 'seaman', 'seamed', 'seamen', 'search', 'searched', 'searches', 'searching', 'seas', 'season', 'seasoned', 'seasons', 'seat', 'seated', 'seating', 'seats', 'secluded', 'seclusion', 'second', 'secondary', 'seconded', 'secondly', 'seconds', 'secrecy', 'secret', 'secretary', 'secreted', 'secreting', 'secretly', 'secrets', 'section', 'sections', 'sects', 'secundum', 'secundus', 'secure', 'secured', 'securely', 'securing', 'securities', 'security', 'sedges', 'seduce', 'seduced', 'seductions', 'see', 'seed', 'seeing', 'seek', 'seeker', 'seekers', 'seeking', 'seeks', 'seem', 'seemed', 'seeming', 'seemingly', 'seems', 'seen', 'sees', 'segment', 'segonde', 'seine', 'seize', 'seized', 'seizing', 'seizure', 'seldom', 'select', 'selected', 'selection', 'selects', 'self', 'sell', 'selle', 'selling', 'semblance', 'semi', 'semicircle', 'semicircular', 'senate', 'send', 'sending', 'senior', 'sensation', 'sensations', 'sense', 'senseless', 'senses', 'sensibility', 'sensibly', 'sensitive', 'sensual', 'sent', 'sentence', 'sentences', 'sentience', 'sentient', 'sentiment', 'sentiments', 'sentry', 'senty', 'sep', 'separate', 'separated', 'separation', 'september', 'sepulchral', 'sepulchre', 'sepulchrum', 'sepulture', 'sepultus', 'sequel', 'sequence', 'sera', 'serai', 'seraph', 'seraphic', 'serene', 'serge', 'series', 'seringa', 'serious', 'seriously', 'sermonic', 'serpent', 'serpents', 'servant', 'servants', 'serve', 'served', 'servi', 'service', 'services', 'servile', 'ses', 'session', 'set', 'sets', 'setting', 'settings', 'settle', 'settled', 'settlement', 'settling', 'seul', 'seulement', 'seven', 'seventeenth', 'seventh', 'seventy', 'sever', 'several', 'severe', 'severed', 'severely', 'severity', 'sewer', 'sex', 'sexton', 'shackles', 'shade', 'shaded', 'shades', 'shadow', 'shadowed', 'shadows', 'shadowy', 'shake', 'shaken', 'shakes', 'shakespeare', 'shaking', 'shall', 'shallow', 'shallowness', 'shalmanezer', 'shalt', 'sham', 'shame', 'shamed', 'shameful', 'shamefully', 'shank', 'shape', 'shaped', 'shapes', 'share', 'sharp', 'sharply', 'shattered', 'shaved', 'shaving', 'she', 'shears', 'sheathed', 'sheep', 'sheer', 'sheet', 'sheets', 'shelf', 'shell', 'shells', 'shelter', 'sheltered', 'shelves', 'shepherd', 'sheppard', 'sherry', 'shicken', 'shield', 'shift', 'shifted', 'shifting', 'shilling', 'shingles', 'shining', 'ship', 'shipmate', 'shipped', 'shipping', 'ships', 'shirt', 'shivering', 'shock', 'shocking', 'shoe', 'shoes', 'shone', 'shook', 'shoot', 'shooting', 'shop', 'shopkeeper', 'shore', 'shores', 'short', 'shorter', 'shortly', 'shot', 'should', 'shoulder', 'shoulders', 'shouldn', 'shouldst', 'shout', 'shouted', 'shouting', 'shoutings', 'shouts', 'shovel', 'show', 'showed', 'shower', 'showers', 'showing', 'shown', 'shows', 'showy', 'shrank', 'shreds', 'shriek', 'shrieked', 'shrieking', 'shrieks', 'shrill', 'shrine', 'shrines', 'shrink', 'shrinking', 'shrivelled', 'shroud', 'shrouded', 'shrub', 'shrubberies', 'shrubbery', 'shrubs', 'shrugged', 'shrunk', 'shudder', 'shuddered', 'shuddering', 'shuffle', 'shunned', 'shut', 'shuts', 'shutter', 'shutters', 'shutting', 'si', 'sic', 'sicily', 'sick', 'sickened', 'sickening', 'sickly', 'sickness', 'side', 'sidelong', 'sidereal', 'sides', 'sie', 'siege', 'sienta', 'sieur', 'sieve', 'sifted', 'sigh', 'sighed', 'sighing', 'sighs', 'sight', 'sign', 'signal', 'signalizing', 'signals', 'signature', 'signed', 'significant', 'significantly', 'signing', 'signor', 'signora', 'signs', 'silence', 'silenced', 'silent', 'silently', 'silius', 'silk', 'silken', 'silliman', 'silly', 'silver', 'silvery', 'simia', 'similar', 'similarity', 'similarly', 'simile', 'similes', 'similitude', 'simoom', 'simoon', 'simple', 'simplest', 'simpleton', 'simplicity', 'simply', 'simpson', 'simultaneous', 'simultaneously', 'sin', 'since', 'sincere', 'sincerely', 'sincerity', 'sinciput', 'sine', 'sinecures', 'sing', 'singed', 'singing', 'single', 'singly', 'singular', 'singularity', 'singularly', 'sinister', 'sinivate', 'sink', 'sinking', 'sinks', 'sinned', 'sinner', 'sins', 'sinuous', 'sipped', 'sir', 'sire', 'sis', 'sister', 'sisters', 'sit', 'site', 'sits', 'sitting', 'sittings', 'situated', 'situation', 'six', 'sixes', 'sixpence', 'sixteen', 'sixteenth', 'sixth', 'sixthly', 'sixty', 'size', 'sized', 'sizes', 'skeered', 'skeleton', 'skeletons', 'skeptical', 'sketch', 'sketchy', 'skies', 'skiff', 'skilful', 'skilfully', 'skill', 'skimmed', 'skin', 'skipped', 'skirt', 'skirts', 'skulking', 'skull', 'sky', 'slab', 'slabs', 'slack', 'slain', 'slake', 'slammed', 'slang', 'slate', 'slave', 'slayeth', 'sleep', 'sleeper', 'sleepers', 'sleeping', 'sleeve', 'sleeves', 'slender', 'slept', 'slice', 'slid', 'slide', 'sliding', 'slight', 'slightest', 'slightly', 'slime', 'slip', 'slipped', 'slippers', 'slippery', 'slipping', 'slips', 'sliver', 'slope', 'sloped', 'slopes', 'slouched', 'slow', 'slowly', 'sluggish', 'sluggishly', 'slumber', 'slumbered', 'slumberer', 'slumbering', 'slumbers', 'sluys', 'slxw', 'slyass', 'smack', 'small', 'smaller', 'smallest', 'smart', 'smell', 'smelled', 'smells', 'smelt', 'smile', 'smiled', 'smiles', 'smiling', 'smith', 'smitherton', 'smitten', 'smoke', 'smoking', 'smoky', 'smooth', 'smoother', 'smoothness', 'smother', 'smothered', 'smothering', 'smug', 'smuggle', 'smuggling', 'snail', 'snake', 'snap', 'snapping', 'snares', 'snatchers', 'snatches', 'sneer', 'sneered', 'sneezed', 'snob', 'snobbs', 'snore', 'snow', 'snowball', 'snowy', 'snub', 'snubbing', 'snuff', 'snuffy', 'snug', 'snugger', 'snugly', 'so', 'soar', 'soared', 'soaring', 'soars', 'sob', 'sobbing', 'sober', 'social', 'society', 'socket', 'sockets', 'socle', 'socrates', 'sod', 'sodales', 'sods', 'sofa', 'soft', 'softened', 'softening', 'softer', 'softness', 'soho', 'soient', 'soil', 'soiled', 'soiree', 'soirée', 'sojourn', 'sojourners', 'solace', 'solar', 'sold', 'soldier', 'sole', 'soleil', 'solely', 'solemn', 'solemnity', 'solemnly', 'soles', 'solicited', 'soliciting', 'solicitously', 'solicitude', 'solid', 'solidity', 'soliloquy', 'solitary', 'solitude', 'solitudes', 'solomon', 'soluble', 'solution', 'solutions', 'solve', 'solved', 'solving', 'sombre', 'some', 'somebody', 'somehow', 'something', 'sometime', 'sometimes', 'somewhat', 'somewhere', 'somnambula', 'somnolency', 'son', 'song', 'songs', 'sonorous', 'sonorously', 'sons', 'sonum', 'soon', 'sooner', 'soot', 'sooth', 'soothed', 'soothing', 'sophist', 'sophists', 'soprano', 'sorcery', 'sore', 'sorely', 'sorrow', 'sorrowful', 'sorrows', 'sorry', 'sort', 'sorts', 'sospiri', 'soto', 'sottise', 'sottish', 'sought', 'soul', 'soulless', 'souls', 'sound', 'sounded', 'soundest', 'sounding', 'soundless', 'soundly', 'sounds', 'soup', 'sour', 'source', 'sources', 'sourit', 'south', 'southeast', 'southeastern', 'southerly', 'southern', 'southward', 'southwardly', 'southwest', 'sovereign', 'sovereignty', 'sow', 'space', 'spaces', 'spacious', 'spade', 'spades', 'spain', 'spallanzani', 'spaniard', 'spanish', 'spanked', 'spanker', 'spanned', 'spare', 'spared', 'spareness', 'sparkled', 'sparkling', 'sparsely', 'sparta', 'spasm', 'spasmodic', 'spasms', 'spattering', 'speak', 'speaker', 'speaking', 'speaks', 'spears', 'special', 'specie', 'species', 'specific', 'specifically', 'specified', 'specifying', 'specimen', 'specimens', 'specious', 'speck', 'speckled', 'spect', 'spectacle', 'spectacles', 'spectator', 'spectators', 'spectral', 'spectrum', 'speculate', 'speculating', 'speculation', 'speculations', 'speculative', 'speculatively', 'speculum', 'speech', 'speeches', 'speechless', 'speed', 'speedily', 'speeding', 'speedy', 'spell', 'spells', 'spelt', 'spend', 'spendthrifts', 'spent', 'sphere', 'spheres', 'spherical', 'sphynxes', 'spicing', 'spicy', 'spike', 'spikes', 'spinning', 'spins', 'spiral', 'spirit', 'spirited', 'spirits', 'spiritual', 'spirituality', 'spite', 'spitefully', 'splendor', 'splinter', 'splintered', 'splinters', 'split', 'splitting', 'splotch', 'spoil', 'spoiled', 'spoke', 'spoken', 'sported', 'sporting', 'spot', 'spots', 'spotted', 'sprang', 'sprawling', 'spray', 'spread', 'spreading', 'sprightly', 'spring', 'springing', 'springs', 'springy', 'sprung', 'spun', 'spunging', 'spurned', 'spurzheimites', 'spy', 'squall', 'squalling', 'square', 'squares', 'squat', 'squeak', 'squeaking', 'squeeze', 'squint', 'st', 'stab', 'stable', 'stables', 'stael', 'stage', 'staggered', 'staggering', 'stagnation', 'staid', 'stained', 'stair', 'staircase', 'staircases', 'stairs', 'stake', 'stale', 'stalk', 'stalked', 'stalking', 'stall', 'stamboul', 'stamen', 'stamp', 'stamped', 'stamping', 'stand', 'standing', 'stands', 'stanza', 'stanzas', 'staples', 'stapleton', 'star', 'starboard', 'stare', 'stared', 'stares', 'starry', 'stars', 'start', 'started', 'starting', 'startle', 'startled', 'startling', 'starvation', 'starving', 'state', 'stated', 'stateliest', 'stately', 'statement', 'states', 'stating', 'station', 'stationary', 'stationed', 'stations', 'statuary', 'statue', 'statues', 'stature', 'statures', 'stave', 'stay', 'stayed', 'stays', 'stead', 'steadied', 'steadiest', 'steadily', 'steady', 'steal', 'stealthily', 'stealthy', 'steam', 'steamboat', 'steed', 'steel', 'steen', 'steep', 'steeped', 'steeple', 'steered', 'steering', 'stemmed', 'stemming', 'stems', 'stench', 'stentorian', 'step', 'stephanie', 'stepped', 'stepping', 'steps', 'sterb', 'stereotomy', 'sterling', 'stern', 'sterner', 'sternest', 'sternly', 'stertorous', 'stick', 'stiff', 'stiffened', 'stiffly', 'stiffness', 'stifle', 'stifled', 'stifling', 'stiletto', 'still', 'stillness', 'stimulate', 'stimulates', 'sting', 'stint', 'stir', 'stirred', 'stirring', 'stock', 'stocked', 'stockings', 'stocks', 'stole', 'stolid', 'stomach', 'stone', 'stones', 'stony', 'stood', 'stoop', 'stooped', 'stooping', 'stoops', 'stop', 'stopped', 'stopping', 'store', 'stored', 'stores', 'stories', 'storm', 'stormy', 'story', 'stout', 'stoutest', 'stowage', 'stowageroom', 'stowed', 'stragglers', 'straight', 'straightforward', 'straightway', 'strain', 'strained', 'straining', 'strains', 'strait', 'straitjacket', 'strange', 'strangely', 'strangeness', 'stranger', 'strangers', 'strangest', 'strangle', 'strap', 'strata', 'stratum', 'stray', 'strayed', 'streak', 'streaks', 'stream', 'streamed', 'streamer', 'streaming', 'streamlets', 'streams', 'street', 'streets', 'strength', 'strengthen', 'strengthened', 'strenuous', 'strenuously', 'stretch', 'stretched', 'stretches', 'stretching', 'strewed', 'stricken', 'strict', 'strictest', 'strictly', 'strictness', 'stride', 'strides', 'strike', 'strikes', 'striking', 'strikingly', 'string', 'stringed', 'strings', 'strip', 'striped', 'stripped', 'strips', 'strived', 'striving', 'strode', 'stroke', 'strokes', 'stroll', 'strolled', 'strolling', 'strong', 'stronger', 'strongest', 'strongly', 'strove', 'struck', 'structure', 'structures', 'struggle', 'struggled', 'struggles', 'struggling', 'strung', 'ström', 'stubborn', 'stubbornness', 'stubbs', 'stubby', 'stuck', 'stud', 'studded', 'studding', 'student', 'students', 'studied', 'studies', 'studious', 'study', 'stuff', 'stuffed', 'stuffs', 'stuffundpuff', 'stumble', 'stumbled', 'stumbling', 'stump', 'stumpy', 'stunned', 'stupefied', 'stupendous', 'stupid', 'stupidity', 'stupidly', 'stupified', 'stupor', 'sturdily', 'sturdy', 'stxp', 'sty', 'style', 'styled', 'styles', 'stylus', 'suarven', 'suavity', 'sub', 'subdivisions', 'subdue', 'subdued', 'subduing', 'subject', 'subjected', 'subjects', 'subjoined', 'sublimating', 'sublimation', 'sublime', 'sublimity', 'sublunary', 'submission', 'submit', 'submitted', 'subscription', 'subsequent', 'subsequently', 'subserved', 'subservience', 'subside', 'subsided', 'subsidence', 'substance', 'substances', 'substantial', 'substantiality', 'substantive', 'substitute', 'substituted', 'substituting', 'subtend', 'subtended', 'subtends', 'subterranean', 'subterrene', 'subtle', 'suburbs', 'succeed', 'succeeded', 'succeeding', 'succeeds', 'success', 'successes', 'successful', 'successfully', 'succession', 'successive', 'successively', 'succinctly', 'succumb', 'succumbed', 'such', 'suction', 'sudden', 'suddenly', 'suddenness', 'suffer', 'sufferance', 'suffered', 'sufferer', 'sufferers', 'suffering', 'suffers', 'suffice', 'sufficed', 'sufficiency', 'sufficient', 'sufficiently', 'suffocating', 'suffocation', 'suffuse', 'sugar', 'suggest', 'suggested', 'suggestion', 'suggestions', 'suggestive', 'suggests', 'suicidal', 'suicide', 'suit', 'suitable', 'suite', 'suited', 'suites', 'suitor', 'suitors', 'suky', 'sul', 'sulky', 'sullen', 'sullenly', 'sullied', 'sullivan', 'sulphur', 'sulphurous', 'sum', 'summary', 'summed', 'summer', 'summers', 'summing', 'summit', 'summits', 'summon', 'summoned', 'summoning', 'summons', 'sumptuous', 'sumptuously', 'sums', 'sun', 'sunda', 'sunday', 'sundays', 'sunder', 'sundown', 'sundry', 'sung', 'sunk', 'sunken', 'sunlight', 'sunrise', 'suns', 'sunset', 'sunshine', 'sunship', 'sunt', 'sup', 'super', 'superabundance', 'superadded', 'superb', 'superbly', 'superbus', 'supererogation', 'supererogatory', 'superficial', 'superficially', 'superfluities', 'superfluous', 'superhuman', 'superinduced', 'superinduces', 'superintended', 'superintendence', 'superintendent', 'superior', 'superiority', 'superlatively', 'supernal', 'supernatural', 'supernaturally', 'supernumerary', 'superscription', 'superseded', 'superstition', 'superstitions', 'superstitious', 'supervened', 'supervision', 'supinely', 'supper', 'suppers', 'supplied', 'supply', 'supplying', 'support', 'supported', 'supporting', 'supports', 'suppose', 'supposed', 'supposes', 'supposing', 'supposition', 'supposititious', 'suppressed', 'supremacy', 'supreme', 'supremely', 'supremeness', 'sur', 'surcingle', 'sure', 'surely', 'surest', 'surf', 'surface', 'surfaces', 'surge', 'surgeon', 'surmise', 'surmount', 'surmounted', 'surname', 'surnamed', 'surpass', 'surpassed', 'surpasses', 'surpassing', 'surpassingly', 'surplus', 'surprise', 'surprised', 'surprising', 'surprisingly', 'surrender', 'surrendered', 'surround', 'surrounded', 'surrounding', 'surtout', 'survey', 'surveyed', 'surveying', 'survived', 'survivors', 'susceptibility', 'susceptible', 'suspect', 'suspected', 'suspecting', 'suspend', 'suspended', 'suspenders', 'suspending', 'suspense', 'suspensions', 'suspicion', 'suspicions', 'suspicious', 'suspiciously', 'sustain', 'sustained', 'sustaining', 'sustenance', 'swaggerers', 'swallow', 'swallowed', 'swallows', 'swammerdamm', 'swamp', 'swamping', 'swan', 'swar', 'sward', 'swarm', 'swarmed', 'swarming', 'swarthiness', 'swarthy', 'sway', 'swayed', 'swaying', 'swear', 'swede', 'swedenborg', 'sweep', 'sweeping', 'sweepings', 'sweeps', 'sweet', 'sweeter', 'sweetest', 'sweetly', 'swell', 'swelled', 'swelling', 'swells', 'sweltering', 'swelters', 'swept', 'swerving', 'swiftly', 'swim', 'swimmer', 'swimming', 'swimmingly', 'swing', 'swinging', 'swings', 'swollen', 'swoon', 'swooned', 'swooning', 'swoop', 'sword', 'swore', 'sworn', 'swung', 'sx', 'sxrrxws', 'sxw', 'sy', 'sybils', 'sycamore', 'sycophancy', 'syfe', 'syllabification', 'syllable', 'syllables', 'syllabus', 'sylphs', 'symmetry', 'sympathize', 'sympathized', 'sympathy', 'symptoms', 'syphon', 'syria', 'syrian', 'syrians', 'syrups', 'system', 'systematized', 'systems', 'ta', 'taba', 'tabby', 'tabitha', 'table', 'tables', 'tablets', 'tacit', 'tact', 'taffety', 'taffrail', 'tail', 'tailor', 'tailors', 'tails', 'taint', 'tainted', 'take', 'taken', 'takes', 'taking', 'talbot', 'talbots', 'tale', 'talent', 'talented', 'talents', 'tales', 'talk', 'talked', 'talking', 'tall', 'taller', 'tame', 'tamed', 'tamely', 'tan', 'tanbark', 'tangent', 'tangible', 'tank', 'tantalization', 'tantalize', 'tantum', 'tap', 'tape', 'taper', 'tapering', 'tapers', 'tapestried', 'tapestries', 'tapestry', 'tapis', 'taps', 'tar', 'tardily', 'tardy', 'target', 'tarn', 'tarpaulin', 'tarr', 'tarred', 'tarried', 'task', 'tasked', 'tasking', 'taste', 'tasteful', 'tastes', 'tasty', 'tat', 'tattered', 'tattle', 'tattoo', 'taught', 'tavern', 'tawny', 'tax', 'te', 'tea', 'teak', 'teapot', 'tear', 'tearing', 'tears', 'technically', 'tedious', 'tedium', 'tee', 'teeming', 'teeth', 'teetotum', 'teian', 'teios', 'telegraph', 'telegraphed', 'telescope', 'telescopes', 'telescopic', 'tell', 'tellin', 'telling', 'tells', 'tem', 'temoins', 'temper', 'temperament', 'temperment', 'tempers', 'tempest', 'tempestuous', 'temple', 'temples', 'templeton', 'tempora', 'temporal', 'temporarily', 'temporary', 'temps', 'tempt', 'temptation', 'temptations', 'tempted', 'ten', 'tenable', 'tenant', 'tenantable', 'tenanted', 'tenanting', 'tended', 'tendency', 'tender', 'tenderness', 'tending', 'tendre', 'tendrils', 'tends', 'tenebrarum', 'tenement', 'tenfold', 'tenor', 'tenth', 'tenths', 'tenty', 'tenuity', 'tenure', 'term', 'termed', 'terminate', 'terminated', 'terminates', 'terminating', 'termination', 'terminations', 'terming', 'terms', 'terra', 'terrace', 'terraces', 'terrestrial', 'terrible', 'terribly', 'terrific', 'terrifically', 'terrified', 'terrify', 'terror', 'terrors', 'tertullian', 'test', 'testator', 'tested', 'testified', 'testify', 'testimony', 'tests', 'tete', 'teufel', 'teuffel', 'text', 'textilem', 'textor', 'texture', 'th', 'thames', 'than', 'thank', 'thanked', 'that', 'thatched', 'the', 'theatre', 'theatrical', 'thee', 'theft', 'their', 'theirs', 'them', 'theme', 'themes', 'themselves', 'then', 'thence', 'thenceforward', 'theodore', 'theological', 'theology', 'theophrastus', 'theories', 'theorist', 'theorize', 'theory', 'there', 'thereabouts', 'thereby', 'therefore', 'therefrom', 'therein', 'thereof', 'thereunto', 'thereupon', 'therewith', 'these', 'they', 'thick', 'thicker', 'thicket', 'thickly', 'thickness', 'thief', 'thieves', 'thigh', 'thighs', 'thin', 'thine', 'thing', 'things', 'thingum', 'think', 'thinker', 'thinkers', 'thinking', 'thinks', 'thinner', 'third', 'thirds', 'thirst', 'thirteen', 'thirteenth', 'thirtieth', 'thirty', 'this', 'thistles', 'thither', 'thomas', 'thompson', 'thorn', 'thorns', 'thorough', 'thoroughfare', 'thoroughfares', 'thoroughly', 'those', 'thou', 'though', 'thought', 'thoughtful', 'thoughtfully', 'thoughtless', 'thoughtlessness', 'thoughts', 'thousand', 'thousands', 'thr', 'thrace', 'thrashed', 'thrashing', 'thread', 'threaded', 'threads', 'threat', 'threatened', 'threatening', 'threats', 'three', 'threshold', 'threw', 'thrice', 'thrill', 'thrilled', 'thrilling', 'thrillingly', 'thrills', 'throat', 'throats', 'throne', 'throng', 'thronged', 'thronging', 'throttled', 'through', 'throughout', 'throw', 'throwing', 'thrown', 'throws', 'thrust', 'thrusting', 'thule', 'thumb', 'thump', 'thumped', 'thunder', 'thunderbolt', 'thundering', 'thunders', 'thunderstricken', 'thunderstruck', 'thursday', 'thus', 'thwart', 'thwarted', 'thy', 'thyeste', 'thyself', 'théâtre', 'tibia', 'ticking', 'tickings', 'tide', 'tides', 'tidings', 'tie', 'tieck', 'tied', 'tier', 'tiger', 'tight', 'tightened', 'tightening', 'tightly', 'tiled', 'tiles', 'till', 'tillers', 'tills', 'tim', 'timber', 'timbers', 'timbuctoo', 'time', 'timely', 'timepiece', 'times', 'timid', 'tin', 'tinctured', 'ting', 'tinge', 'tinged', 'tingle', 'tingling', 'tink', 'tinkling', 'tinned', 'tint', 'tinted', 'tints', 'tiny', 'tip', 'tipped', 'tippling', 'tiptoe', 'tirade', 'tiresome', 'tiré', 'tis', 'tissue', 'tissues', 'titanic', 'titian', 'title', 'titled', 'titles', 'tiz', 'to', 'toad', 'toast', 'tobacco', 'tobacconist', 'todder', 'toe', 'toes', 'together', 'toil', 'toiled', 'toilet', 'toils', 'toilsome', 'token', 'tokens', 'told', 'toledo', 'tolerable', 'tolerably', 'toll', 'tom', 'tomahawk', 'tomb', 'tombs', 'tommy', 'tomorrow', 'tompkins', 'tone', 'toned', 'tones', 'tong', 'tongue', 'tongued', 'tongues', 'tonnerres', 'tons', 'too', 'took', 'tools', 'toothpick', 'top', 'topic', 'topical', 'topics', 'topography', 'tops', 'topsiturviness', 'topsy', 'torch', 'torches', 'tore', 'torment', 'tormented', 'tormenting', 'tormentor', 'tormentors', 'torments', 'torn', 'torny', 'torpid', 'torpor', 'torrents', 'tortoise', 'tortoni', 'torture', 'tortured', 'tortures', 'tossed', 'total', 'totality', 'totally', 'totter', 'tottered', 'tottering', 'tottle', 'totum', 'touch', 'touched', 'touches', 'touching', 'tour', 'tourniquet', 'tous', 'tousand', 'tout', 'toute', 'toutes', 'tow', 'toward', 'towards', 'towed', 'tower', 'towered', 'towering', 'town', 'towns', 'toy', 'toys', 'trabes', 'trace', 'traced', 'traces', 'tracing', 'track', 'tracks', 'tract', 'trade', 'trading', 'tragedies', 'tragedy', 'trail', 'trailing', 'train', 'training', 'trains', 'trait', 'traits', 'trammpled', 'trampled', 'trance', 'trances', 'tranquil', 'tranquillitatis', 'tranquilly', 'transacting', 'transaction', 'transactions', 'transcendental', 'transcendentalism', 'transcendentals', 'transcribed', 'transfer', 'transferring', 'transfusion', 'transient', 'transition', 'translate', 'translated', 'translating', 'translation', 'translations', 'transmission', 'transmitting', 'transmuted', 'transparency', 'transparent', 'transport', 'transports', 'traordinary', 'trap', 'traps', 'trash', 'travel', 'travelled', 'traveller', 'travellers', 'travelling', 'traversed', 'traversing', 'tray', 'treacheries', 'treacherous', 'treads', 'treason', 'treasure', 'treasures', 'treated', 'treating', 'treatise', 'treatises', 'treatment', 'treble', 'trebled', 'tree', 'trees', 'trefoil', 'trellice', 'trellis', 'trellised', 'trelliswork', 'tremaine', 'tremble', 'trembled', 'trembles', 'trembling', 'tremendous', 'tremendously', 'tremor', 'tremulous', 'tremulousness', 'trencher', 'trepanning', 'trepidancy', 'trepidation', 'trespassed', 'tressel', 'tressels', 'tresses', 'trial', 'triangle', 'triangular', 'tribe', 'tribunal', 'tribunaux', 'trice', 'trick', 'trickle', 'tricks', 'tried', 'trifle', 'trifles', 'trifling', 'trim', 'trimmed', 'trimmings', 'trinculo', 'trink', 'trinket', 'trinkets', 'trio', 'trip', 'triple', 'triplicate', 'tripod', 'tripods', 'trips', 'trist', 'triumph', 'triumphant', 'triumphantly', 'triumphs', 'trivial', 'trod', 'trodden', 'trois', 'troisiême', 'troof', 'troop', 'troops', 'trophies', 'tropical', 'tropics', 'trot', 'trotter', 'trouble', 'troubled', 'troublesome', 'trough', 'trout', 'trove', 'trowel', 'trubble', 'trucks', 'true', 'truest', 'truffe', 'truism', 'truly', 'trump', 'trumpery', 'trumpet', 'trumpets', 'trunk', 'trunks', 'trust', 'trusted', 'trusting', 'trustingly', 'trusty', 'truth', 'truths', 'try', 'trying', 'ts', 'tu', 'tub', 'tubber', 'tube', 'tuberoses', 'tubes', 'tuckermann', 'tuesday', 'tulip', 'tulipiferum', 'tulips', 'tumble', 'tumbled', 'tumbling', 'tumult', 'tumultuous', 'tumultuously', 'tunéd', 'turbaned', 'turbans', 'turbulent', 'turf', 'turgot', 'turk', 'turkey', 'turmoil', 'turn', 'turned', 'turning', 'turnip', 'turns', 'turpin', 'turpitude', 'turret', 'turrets', 'turtle', 'turvy', 'twas', 'twattle', 'tweaking', 'twelfth', 'twelve', 'twentieth', 'twenty', 'twice', 'twig', 'twilight', 'twin', 'twinge', 'twinkled', 'twinkling', 'twins', 'twirl', 'twirled', 'twirling', 'twist', 'twisting', 'twists', 'two', 'twofold', 'twoness', 'tx', 'txld', 'type', 'typhus', 'typical', 'typified', 'typographical', 'typography', 'tyranny', 'tête', 'ugh', 'ugliness', 'ugly', 'ugolino', 'ulterior', 'ultima', 'ultimate', 'ultimately', 'ultimatum', 'ultra', 'ultramarine', 'ultras', 'uman', 'umbrageous', 'un', 'una', 'unabated', 'unable', 'unaccommodating', 'unaccountable', 'unaccountably', 'unadapted', 'unaided', 'unaltered', 'unanimity', 'unanimous', 'unanimously', 'unanswerability', 'unanticipated', 'unappeasable', 'unassassinated', 'unassisted', 'unattainable', 'unattended', 'unavailing', 'unavoidable', 'unaware', 'unbecoming', 'unbent', 'unbidden', 'unbonneted', 'unborn', 'unbound', 'unbounded', 'unbridled', 'unbroken', 'unbrokenly', 'unburied', 'unburthen', 'uncaged', 'uncalculating', 'uncarpeted', 'unceasing', 'unceasingly', 'uncertain', 'uncertainty', 'unchecked', 'uncivilized', 'uncle', 'unclosed', 'unclosing', 'unclouded', 'uncomfortable', 'uncomfortably', 'uncommon', 'uncomplaining', 'uncomplainingly', 'uncomprehended', 'uncompromising', 'unconditionally', 'uncongenial', 'unconnected', 'unconscious', 'unconsciousness', 'uncontrollable', 'unconvulsive', 'uncourteously', 'uncouth', 'uncovered', 'unction', 'uncurtained', 'und', 'undammed', 'undauntedly', 'undeceive', 'undefined', 'undeniable', 'under', 'underduk', 'undergo', 'undergoing', 'undergone', 'underground', 'undergrowth', 'underlined', 'understand', 'understanding', 'understood', 'undertake', 'undertaken', 'undertaker', 'undertaking', 'undertakings', 'undertone', 'undertook', 'undervalue', 'undervalued', 'underwent', 'undetermined', 'undeviating', 'undid', 'undignified', 'undiscovered', 'undisturbed', 'undivided', 'undoubted', 'undoubtedly', 'undue', 'undulations', 'une', 'unearthed', 'unearthly', 'uneasily', 'uneasiness', 'uneasy', 'uneducated', 'unemployed', 'unendurable', 'unequal', 'unequivocal', 'unequivocally', 'unerring', 'uneven', 'unevenly', 'unexpected', 'unexpectedly', 'unexplored', 'unexposed', 'unfair', 'unfamiliar', 'unfastened', 'unfathomable', 'unflinching', 'unfold', 'unfolded', 'unforeseen', 'unformed', 'unfortunate', 'unfortunately', 'unfrequently', 'unfruitful', 'unfulfilled', 'unfurnished', 'ungenteel', 'ungentlemanly', 'ungovernable', 'ungoverned', 'ungracious', 'ungrateful', 'ungreeted', 'unguided', 'unhallowed', 'unhappily', 'unhappiness', 'unhappy', 'unheard', 'unheeded', 'unhesitatingly', 'unhewn', 'unholy', 'unhurried', 'uniform', 'uniformity', 'uniformly', 'unimaginable', 'unimagined', 'unimpaired', 'unimpeded', 'unimportant', 'unimpressive', 'unincorporate', 'uninformed', 'unintelligible', 'uninterrupted', 'uninterruptedly', 'union', 'unique', 'uniquity', 'unison', 'unit', 'united', 'uniting', 'unity', 'universal', 'universally', 'universe', 'university', 'unjustly', 'unkindest', 'unknown', 'unlearned', 'unless', 'unlife', 'unlike', 'unlimited', 'unlocked', 'unlocking', 'unlocks', 'unlooked', 'unloosened', 'unloveliness', 'unmanageable', 'unmanned', 'unmask', 'unmeaning', 'unmentioned', 'unmingled', 'unmistakable', 'unmitigated', 'unmoulded', 'unmuzzled', 'unnamable', 'unnatural', 'unnaturally', 'unnecessarily', 'unnecessary', 'unnerved', 'unnoticed', 'unnumbered', 'unobserved', 'unobstructed', 'unobtrusive', 'unoffending', 'unopened', 'unorganized', 'unoriginal', 'unostentatious', 'unpacked', 'unpaid', 'unparalleled', 'unpardonable', 'unparticled', 'unperceived', 'unphilosophical', 'unpleasant', 'unpleasantly', 'unpleasing', 'unpretending', 'unprincipled', 'unprofitable', 'unqualified', 'unquenchable', 'unquestionable', 'unquestionably', 'unquiet', 'unravel', 'unreal', 'unreasonable', 'unreasoning', 'unredressed', 'unrelenting', 'unrelieved', 'unremitting', 'unremittingly', 'unreserved', 'unreservedly', 'unresistingly', 'unrest', 'unriddled', 'unrigged', 'unrivalled', 'unrolled', 'unrounded', 'unruffled', 'unsatisfactory', 'unscrew', 'unscrewed', 'unscrupulous', 'unseasonably', 'unseen', 'unselfish', 'unsettled', 'unshackled', 'unsheathing', 'unsightly', 'unsocial', 'unspeakable', 'unstable', 'unsteady', 'unstrung', 'unsuccessful', 'unsurpassed', 'unt', 'untenable', 'untenanted', 'untie', 'until', 'untimely', 'untiring', 'unto', 'untouched', 'untoward', 'untractable', 'untrue', 'untutored', 'unus', 'unusual', 'unusually', 'unusualness', 'unutterable', 'unvarying', 'unwearied', 'unwelcome', 'unwieldy', 'unwilling', 'unwisely', 'unwittingly', 'unwomanly', 'unwonted', 'unworldliness', 'unworthy', 'unwound', 'unwrought', 'up', 'upbraid', 'upholstery', 'uplift', 'uplifted', 'uplifting', 'upon', 'upper', 'uppermost', 'upraise', 'upreared', 'uprearing', 'upright', 'uprightness', 'uproar', 'uprooted', 'uprooting', 'upside', 'upspringing', 'upthrew', 'upturned', 'upward', 'upwardly', 'upwards', 'urchin', 'urge', 'urged', 'urgency', 'urgent', 'urges', 'urion', 'us', 'usage', 'usages', 'usbande', 'use', 'used', 'useful', 'usefully', 'useless', 'uses', 'usher', 'ushered', 'ushers', 'using', 'usual', 'usually', 'usurpation', 'usurped', 'usury', 'utica', 'utilitarians', 'utility', 'utmost', 'utter', 'utterance', 'uttered', 'uttering', 'utterly', 'uttermost', 'vacancy', 'vacant', 'vacated', 'vacillating', 'vacillation', 'vacuo', 'vacuum', 'vagabond', 'vagabonds', 'vagaries', 'vague', 'vaguely', 'vagueness', 'vaguenesses', 'vain', 'valdemar', 'vale', 'valence', 'valens', 'valet', 'valiant', 'valiantly', 'validity', 'valley', 'valleys', 'valor', 'valorously', 'valuable', 'valuables', 'value', 'valueless', 'values', 'valve', 'valz', 'van', 'vanes', 'vanilla', 'vanish', 'vanished', 'vanishes', 'vanishing', 'vanities', 'vanity', 'vankirk', 'vanny', 'vapor', 'vapors', 'vapory', 'vapour', 'variable', 'variance', 'variation', 'variations', 'varied', 'varieties', 'variety', 'various', 'variously', 'variétés', 'varnish', 'varnished', 'vary', 'varying', 'vase', 'vases', 'vassal', 'vassals', 'vast', 'vastly', 'vastness', 'vat', 'vaucanson', 'vault', 'vaulted', 'vaulting', 'vaults', 've', 'veal', 'vegetable', 'vegetation', 'vehemence', 'vehemently', 'vehicle', 'veil', 'veiled', 'veils', 'veins', 'vell', 'vellum', 'velocities', 'velocity', 'veloute', 'velouté', 'velvet', 'velvety', 'ven', 'venerable', 'veneration', 'venetian', 'vengeance', 'venice', 'venir', 'venny', 'venom', 'venomous', 'vent', 'ventricle', 'ventum', 'ventur', 'venture', 'ventured', 'venturing', 'venus', 'ver', 'verandas', 'verbal', 'verbatim', 'verborum', 'verbose', 'verdant', 'verdured', 'verge', 'verging', 'veriest', 'verified', 'verily', 'veritable', 'veritably', 'vermicular', 'vernunft', 'versailles', 'verse', 'versed', 'verses', 'version', 'versions', 'vertical', 'vertically', 'vertu', 'verulam', 'verus', 'ververt', 'very', 'vessel', 'vessels', 'vest', 'vestibule', 'vestige', 'vesture', 'veulent', 'vex', 'vexation', 'vexed', 'via', 'viand', 'vibrated', 'vibrates', 'vibration', 'vibrations', 'vibratory', 'vice', 'vices', 'vicinity', 'victim', 'victims', 'victor', 'victoria', 'victorious', 'victory', 'vid', 'vida', 'vidocq', 'vie', 'vienna', 'view', 'viewed', 'viewing', 'views', 'vigilance', 'vigilant', 'vigiliae', 'vignetting', 'vigor', 'vigorous', 'vigorously', 'vile', 'vilest', 'vill', 'village', 'villain', 'villainous', 'villains', 'villanous', 'villany', 'vine', 'vingt', 'vini', 'vintages', 'violate', 'violated', 'violation', 'violations', 'violence', 'violent', 'violently', 'violet', 'violets', 'virgin', 'virginia', 'virginian', 'virtu', 'virtually', 'virtue', 'virtuoso', 'virtuous', 'vis', 'visage', 'visaged', 'viscera', 'vise', 'visible', 'visibly', 'vision', 'visionaries', 'visionary', 'visions', 'visit', 'visitarem', 'visitation', 'visited', 'visiter', 'visiters', 'visiting', 'visitor', 'visitors', 'visits', 'vist', 'vista', 'visual', 'vital', 'vitality', 'vivacious', 'vivacity', 'vivat', 'vivid', 'vividly', 'vividness', 'viz', 'vocal', 'vocant', 'voce', 'vociferate', 'vociferated', 'voice', 'voices', 'void', 'voilà', 'voissart', 'vol', 'volcanic', 'volcanoes', 'volition', 'voluble', 'volume', 'volumes', 'voluptuous', 'voluptuousness', 'volution', 'von', 'vondervotteimittis', 'vondervotteimittiss', 'vool', 'vor', 'voracity', 'vord', 'vortex', 'vortices', 'vospicus', 'vouchsafed', 'vougeot', 'vous', 'vow', 'vowed', 'vowel', 'vows', 'voyage', 'voyager', 'voyagers', 'voyages', 'vrai', 'vrow', 'vrows', 'vulgar', 'vulgarly', 'vull', 'vulnerable', 'vulture', 'vultures', 'vurrgh', 'vy', 'waddle', 'waddled', 'wager', 'wagged', 'waggeries', 'wagon', 'wags', 'wailing', 'wailings', 'waist', 'waistband', 'waistcoat', 'waistcoats', 'wait', 'waited', 'waiters', 'waiting', 'wake', 'wakeful', 'wakefulness', 'waken', 'waker', 'waking', 'wales', 'walk', 'walked', 'walker', 'walking', 'walks', 'wall', 'walled', 'wallenstein', 'wallet', 'walls', 'walnuts', 'waltzers', 'wan', 'wand', 'wander', 'wandered', 'wanderer', 'wanderers', 'wandering', 'wanderings', 'waned', 'waning', 'wanness', 'want', 'wanted', 'wanting', 'wanton', 'wants', 'war', 'ware', 'warehouse', 'warehouses', 'wares', 'warm', 'warmer', 'warmest', 'warming', 'warmth', 'warned', 'warning', 'warrant', 'warranted', 'warren', 'warrior', 'wars', 'wary', 'was', 'washed', 'washington', 'wasn', 'wast', 'waste', 'wasted', 'wasteful', 'wasting', 'watch', 'watched', 'watches', 'watching', 'water', 'watercolor', 'waterfall', 'waterfalls', 'waters', 'watson', 'wave', 'waved', 'wavers', 'waves', 'waving', 'wax', 'waxen', 'way', 'waylaid', 'waylayings', 'ways', 'we', 'weak', 'weakened', 'weakening', 'weaker', 'weakness', 'wealth', 'wealthier', 'wealthiest', 'wealthy', 'weapon', 'weapons', 'wear', 'wearer', 'wearers', 'wearied', 'wearily', 'weariness', 'wearing', 'wearisomeness', 'wears', 'weary', 'weasel', 'weather', 'weaving', 'web', 'wed', 'wedded', 'wedding', 'wedged', 'wednesday', 'weed', 'week', 'weekdays', 'weekly', 'weeks', 'weep', 'weeps', 'weighed', 'weighing', 'weight', 'weightier', 'weights', 'weighty', 'weilburg', 'weird', 'welcome', 'welded', 'welfare', 'well', 'welled', 'wellingtons', 'wells', 'weltering', 'went', 'wept', 'were', 'wery', 'west', 'western', 'westminster', 'westward', 'westwardly', 'wet', 'whales', 'whang', 'wharf', 'what', 'whatever', 'whatsoever', 'wheat', 'wheel', 'wheeled', 'wheels', 'wheezed', 'wheezing', 'when', 'whence', 'whenever', 'where', 'whereabouts', 'whereas', 'whereby', 'wherein', 'whereof', 'whereupon', 'wherever', 'wherewith', 'whether', 'which', 'whiff', 'whiffs', 'while', 'whim', 'whims', 'whimsical', 'whimsicalities', 'whimsically', 'whip', 'whipped', 'whirl', 'whirled', 'whirligig', 'whirling', 'whirlpool', 'whirlpools', 'whirlwind', 'whiskers', 'whisper', 'whispered', 'whispering', 'whispers', 'whist', 'whistle', 'whistled', 'whit', 'white', 'whiteness', 'whiter', 'whites', 'whither', 'whiting', 'whizz', 'who', 'whoever', 'whole', 'wholesome', 'wholly', 'whom', 'whomsoever', 'whoop', 'whooping', 'whose', 'why', 'wick', 'wicked', 'wickedness', 'wicker', 'wid', 'widdy', 'wide', 'widely', 'widened', 'wider', 'widest', 'widow', 'width', 'wield', 'wielded', 'wields', 'wife', 'wig', 'wiggins', 'wigless', 'wild', 'wilder', 'wilderness', 'wildernesses', 'wildest', 'wildly', 'wilhelm', 'wilkie', 'wilkins', 'will', 'william', 'williams', 'willing', 'willingly', 'willow', 'wilson', 'wimble', 'win', 'wind', 'windenough', 'windham', 'winding', 'windings', 'windlass', 'windmill', 'window', 'windowless', 'windows', 'winds', 'windward', 'wine', 'wines', 'wing', 'winged', 'wings', 'wink', 'winked', 'winking', 'wins', 'winter', 'wiped', 'wire', 'wires', 'wisdom', 'wise', 'wisely', 'wiser', 'wish', 'wished', 'wishes', 'wishing', 'wisp', 'wit', 'with', 'withal', 'withdraw', 'withdrawal', 'withdrawing', 'withdrawn', 'withdrew', 'withered', 'withering', 'withheld', 'withhold', 'withholding', 'within', 'without', 'withstand', 'witness', 'witnessed', 'witnesses', 'witnessing', 'wits', 'witticism', 'witty', 'wives', 'wizard', 'wo', 'woe', 'woes', 'wolf', 'woman', 'womanhood', 'womanish', 'womb', 'women', 'won', 'wonder', 'wondered', 'wonderful', 'wonderfully', 'wondering', 'wonderingly', 'wonders', 'wondrous', 'wont', 'wonted', 'wood', 'wooded', 'wooden', 'woods', 'woodwork', 'wool', 'woollen', 'woolwich', 'word', 'words', 'wore', 'work', 'worked', 'working', 'workings', 'workmanship', 'workmen', 'works', 'world', 'worldly', 'worlds', 'worm', 'worms', 'worn', 'worse', 'worship', 'worshipped', 'worst', 'worsted', 'worth', 'worthless', 'worthlessness', 'worthy', 'would', 'wouldn', 'wound', 'wounded', 'wounds', 'wow', 'wrap', 'wrapped', 'wrapper', 'wrath', 'wreath', 'wreathed', 'wreathing', 'wreaths', 'wreck', 'wreckers', 'wrestled', 'wretch', 'wretched', 'wretchedness', 'wretches', 'wriggled', 'wriggling', 'wrinkled', 'wrinkles', 'wrist', 'wrists', 'write', 'writer', 'writers', 'writes', 'writhe', 'writhed', 'writhing', 'writing', 'writings', 'written', 'wrong', 'wronged', 'wrote', 'wrought', 'wxn', 'wxw', 'wxxds', 'wy', 'wyatt', 'xdixus', 'xerxes', 'xf', 'xh', 'xiv', 'xld', 'xnce', 'xnly', 'xpx', 'xr', 'xut', 'xwl', 'xwns', 'yankee', 'yard', 'yards', 'yawned', 'yawning', 'yawns', 'ye', 'yea', 'year', 'years', 'yell', 'yelled', 'yelling', 'yellow', 'yells', 'yelpings', 'yes', 'yesterday', 'yet', 'yield', 'yielded', 'yielding', 'yields', 'yon', 'yonder', 'york', 'yorktown', 'you', 'young', 'younger', 'youngest', 'your', 'yours', 'yourself', 'yourselves', 'yourzelf', 'youth', 'youthful', 'yxu', 'yxur', 'zaffre', 'zaiat', 'zaire', 'zay', 'zeal', 'zealous', 'zebub', 'zee', 'zenith', 'zenobia', 'zephyr', 'zephyrs', 'zest', 'zette', 'zide', 'zigzag', 'zit', 'zodiac', 'zodiacal', 'zoilus', 'zone', 'zones', 'zopyrus', 'zorry', 'zubmizzion', 'ærial', 'æronaut', 'æronauts', 'ærostation', 'æschylus', 'élite', 'émeutes']\n"
     ]
    }
   ],
   "source": [
    "print(\"The features are:\\n {}\".format((vectorizer.get_feature_names())))"
   ]
  },
  {
   "cell_type": "markdown",
   "metadata": {},
   "source": [
    "##### 3. Topic modelling via LDA and NMF"
   ]
  },
  {
   "cell_type": "markdown",
   "metadata": {},
   "source": [
    "Arriving at our Final Destination (pun intended), I will implement two different topic modelling techniques as follows:\n",
    "\n",
    "1. Latent Dirichlet Allocation - Probabilistic, generative model which uncovers the topics latent to a dataset by assigning weights to words in a corpus, where each topic will assign different probability weights to each word.\n",
    "\n",
    "2. Non-negative Matrix Factorization - Approximation method that takes an input matrix and approximates the factorization of this matrix into two other matrices, with the caveat that the values in the matrix be non-negative."
   ]
  },
  {
   "cell_type": "code",
   "execution_count": 39,
   "metadata": {
    "collapsed": true
   },
   "outputs": [],
   "source": [
    "# Define helper function to print top words\n",
    "def print_top_words(model, feature_names, n_top_words):\n",
    "    for index,topic in enumerate(model.components_):\n",
    "        message = \"\\nTopic #{}:\".format(index)\n",
    "        message += ' '.join([feature_names[i] for i in topic.argsort()[:-n_top_words - 1 :-1]])\n",
    "        \n",
    "        print(message)\n",
    "        print('=' * 70)"
   ]
  },
  {
   "cell_type": "markdown",
   "metadata": {},
   "source": [
    "##### 3a. Putting all the preprocessing steps together\n",
    "This is now the perfect opportunity to piece together all the text preprocessing steps that was mentioned in the previous section. So you're asking yourself, do we really need to go through all the effort and steps again in defining tokenization, stopword removals, stemming etc?\n",
    "\n",
    "Thankfully we do not need to go through all of that again. I conveniently omitted a key detail about Sklearn vectorizers but will mention it at this juncture. When you vectorize the raw text with CountVectorizer, the dual stages of tokenizing and stopwords filtering are automatically included as a high-level component. Here unlike the NLTK tokenizer that you were introduced to in the Section 2a earlier, Sklearn's tokenizer discards all single character terms like ('a', 'w' etc) and also lower cases all terms by default. Filtering out stopwords in Sklearn is as convenient as passing the value 'english' into the argument \"stop_words\" where a built-in English stopword list is automatically used.\n",
    "\n",
    "Unfortunately, there is no built-in stemmer in the vectorizer so we are left with a couple of options. Either implementing stemming separately everytime before feeding the data for vectorizing or somehow extend the sklearn implementation to include this functionality. Luckily for us, we have the latter option where we can extend the CountVectorizer class by overwriting the \"build_analyzer\" method as follows:\n",
    "\n",
    "###### Extending the CountVectorizer class with a stemmer"
   ]
  },
  {
   "cell_type": "code",
   "execution_count": 40,
   "metadata": {
    "collapsed": true
   },
   "outputs": [],
   "source": [
    "stemmer = nltk.stem.PorterStemmer()\n",
    "\n",
    "class PorterStemCountVectorizer(CountVectorizer):\n",
    "    def build_analyzer(self):\n",
    "        analyzer = super(PorterStemCountVectorizer,self).build_analyzer()\n",
    "        return lambda doc: (stemmer.stem(w) for w in analyzer(doc))"
   ]
  },
  {
   "cell_type": "markdown",
   "metadata": {},
   "source": [
    "Here we have utilised some subtle concepts from Object-Oriented Programming (OOP). We have essentially inherited and subclassed the original Sklearn's CountVectorizer class and overwritten the build_analyzer method by implementing the Porter Stemmer for each list in the raw text matrix."
   ]
  },
  {
   "cell_type": "code",
   "execution_count": 41,
   "metadata": {
    "collapsed": true
   },
   "outputs": [],
   "source": [
    "# Storing the entire training text in a list\n",
    "text = list(train.text.values)\n",
    "# Calling our overwritten Count vectorizer\n",
    "tf_vectorizer = PorterStemCountVectorizer(max_df=0.95, min_df=2,\n",
    "                                          stop_words='english',\n",
    "                                          decode_error='ignore')\n",
    "tf = tf_vectorizer.fit_transform(text)\n"
   ]
  },
  {
   "cell_type": "markdown",
   "metadata": {},
   "source": [
    "##### Revisiting our Term frequencies\n",
    "\n",
    "Having implemented our stemmed count vectorizer, let us revist the plots for the term frquencies of the top 50 words (by frequency). As you can see from the plot, all our prior preprocessing efforts have not gone to waste. With the removal of stopwords, the remaining words seem much more meaningful where you can see that all the stopwords in the earlier term frequency plot"
   ]
  },
  {
   "cell_type": "code",
   "execution_count": 42,
   "metadata": {
    "collapsed": false
   },
   "outputs": [
    {
     "data": {
      "application/vnd.plotly.v1+json": {
       "data": [
        {
         "marker": {
          "color": [
           874,
           780,
           743,
           732,
           725,
           704,
           700,
           649,
           616,
           591,
           588,
           588,
           569,
           541,
           536,
           533,
           520,
           517,
           505,
           504,
           475,
           474,
           467,
           461,
           445,
           445,
           440,
           428,
           427,
           420,
           420,
           416,
           409,
           407,
           395,
           394,
           385,
           376,
           371,
           368,
           366,
           363,
           363,
           354,
           347,
           345,
           344,
           343,
           343,
           340
          ],
          "colorscale": "Jet"
         },
         "text": "Word counts",
         "type": "bar",
         "x": [
          "time",
          "man",
          "day",
          "eye",
          "thing",
          "said",
          "did",
          "like",
          "old",
          "night",
          "look",
          "thought",
          "life",
          "long",
          "love",
          "littl",
          "say",
          "great",
          "place",
          "saw",
          "appear",
          "hand",
          "hous",
          "came",
          "fear",
          "year",
          "natur",
          "word",
          "come",
          "death",
          "heart",
          "mind",
          "feel",
          "know",
          "make",
          "light",
          "friend",
          "far",
          "form",
          "shall",
          "heard",
          "men",
          "open",
          "left",
          "head",
          "room",
          "pass",
          "door",
          "felt",
          "live"
         ],
         "y": [
          874,
          780,
          743,
          732,
          725,
          704,
          700,
          649,
          616,
          591,
          588,
          588,
          569,
          541,
          536,
          533,
          520,
          517,
          505,
          504,
          475,
          474,
          467,
          461,
          445,
          445,
          440,
          428,
          427,
          420,
          420,
          416,
          409,
          407,
          395,
          394,
          385,
          376,
          371,
          368,
          366,
          363,
          363,
          354,
          347,
          345,
          344,
          343,
          343,
          340
         ]
        }
       ],
       "layout": {
        "title": "Top 50 Word frequencies after Preprocessing"
       }
      },
      "text/html": [
       "<div id=\"eff8a5f0-25da-4873-9307-d509575b54cd\" style=\"height: 525px; width: 100%;\" class=\"plotly-graph-div\"></div><script type=\"text/javascript\">require([\"plotly\"], function(Plotly) { window.PLOTLYENV=window.PLOTLYENV || {};window.PLOTLYENV.BASE_URL=\"https://plot.ly\";Plotly.newPlot(\"eff8a5f0-25da-4873-9307-d509575b54cd\", [{\"type\": \"bar\", \"marker\": {\"colorscale\": \"Jet\", \"color\": [874, 780, 743, 732, 725, 704, 700, 649, 616, 591, 588, 588, 569, 541, 536, 533, 520, 517, 505, 504, 475, 474, 467, 461, 445, 445, 440, 428, 427, 420, 420, 416, 409, 407, 395, 394, 385, 376, 371, 368, 366, 363, 363, 354, 347, 345, 344, 343, 343, 340]}, \"text\": \"Word counts\", \"y\": [874, 780, 743, 732, 725, 704, 700, 649, 616, 591, 588, 588, 569, 541, 536, 533, 520, 517, 505, 504, 475, 474, 467, 461, 445, 445, 440, 428, 427, 420, 420, 416, 409, 407, 395, 394, 385, 376, 371, 368, 366, 363, 363, 354, 347, 345, 344, 343, 343, 340], \"x\": [\"time\", \"man\", \"day\", \"eye\", \"thing\", \"said\", \"did\", \"like\", \"old\", \"night\", \"look\", \"thought\", \"life\", \"long\", \"love\", \"littl\", \"say\", \"great\", \"place\", \"saw\", \"appear\", \"hand\", \"hous\", \"came\", \"fear\", \"year\", \"natur\", \"word\", \"come\", \"death\", \"heart\", \"mind\", \"feel\", \"know\", \"make\", \"light\", \"friend\", \"far\", \"form\", \"shall\", \"heard\", \"men\", \"open\", \"left\", \"head\", \"room\", \"pass\", \"door\", \"felt\", \"live\"]}], {\"title\": \"Top 50 Word frequencies after Preprocessing\"}, {\"linkText\": \"Export to plot.ly\", \"showLink\": true})});</script>"
      ],
      "text/vnd.plotly.v1+html": [
       "<div id=\"eff8a5f0-25da-4873-9307-d509575b54cd\" style=\"height: 525px; width: 100%;\" class=\"plotly-graph-div\"></div><script type=\"text/javascript\">require([\"plotly\"], function(Plotly) { window.PLOTLYENV=window.PLOTLYENV || {};window.PLOTLYENV.BASE_URL=\"https://plot.ly\";Plotly.newPlot(\"eff8a5f0-25da-4873-9307-d509575b54cd\", [{\"type\": \"bar\", \"marker\": {\"colorscale\": \"Jet\", \"color\": [874, 780, 743, 732, 725, 704, 700, 649, 616, 591, 588, 588, 569, 541, 536, 533, 520, 517, 505, 504, 475, 474, 467, 461, 445, 445, 440, 428, 427, 420, 420, 416, 409, 407, 395, 394, 385, 376, 371, 368, 366, 363, 363, 354, 347, 345, 344, 343, 343, 340]}, \"text\": \"Word counts\", \"y\": [874, 780, 743, 732, 725, 704, 700, 649, 616, 591, 588, 588, 569, 541, 536, 533, 520, 517, 505, 504, 475, 474, 467, 461, 445, 445, 440, 428, 427, 420, 420, 416, 409, 407, 395, 394, 385, 376, 371, 368, 366, 363, 363, 354, 347, 345, 344, 343, 343, 340], \"x\": [\"time\", \"man\", \"day\", \"eye\", \"thing\", \"said\", \"did\", \"like\", \"old\", \"night\", \"look\", \"thought\", \"life\", \"long\", \"love\", \"littl\", \"say\", \"great\", \"place\", \"saw\", \"appear\", \"hand\", \"hous\", \"came\", \"fear\", \"year\", \"natur\", \"word\", \"come\", \"death\", \"heart\", \"mind\", \"feel\", \"know\", \"make\", \"light\", \"friend\", \"far\", \"form\", \"shall\", \"heard\", \"men\", \"open\", \"left\", \"head\", \"room\", \"pass\", \"door\", \"felt\", \"live\"]}], {\"title\": \"Top 50 Word frequencies after Preprocessing\"}, {\"linkText\": \"Export to plot.ly\", \"showLink\": true})});</script>"
      ]
     },
     "metadata": {},
     "output_type": "display_data"
    },
    {
     "data": {
      "application/vnd.plotly.v1+json": {
       "data": [
        {
         "marker": {
          "color": [
           2,
           2,
           2,
           2,
           2,
           2,
           2,
           2,
           2,
           2,
           2,
           2,
           2,
           2,
           2,
           2,
           2,
           2,
           2,
           2,
           2,
           2,
           2,
           2,
           2,
           2,
           2,
           2,
           2,
           2,
           2,
           2,
           2,
           2,
           2,
           2,
           2,
           2,
           2,
           2,
           2,
           2,
           2,
           2,
           2,
           2,
           2,
           2,
           2,
           2
          ],
          "colorscale": "Portland"
         },
         "text": "Word counts",
         "type": "bar",
         "x": [
          "whitewash",
          "whitman",
          "wholesal",
          "whoop",
          "wielder",
          "willi",
          "windward",
          "wintri",
          "wisconsin",
          "wist",
          "withhold",
          "witti",
          "wizardri",
          "wizen",
          "wolejko",
          "womanish",
          "womb",
          "womenfolk",
          "woodwork",
          "woolwich",
          "wordi",
          "wordless",
          "wordsworth",
          "worker",
          "wormiu",
          "wouldst",
          "wove",
          "wraith",
          "wrestl",
          "writ",
          "wudn",
          "wust",
          "xari",
          "xerx",
          "xii",
          "xnce",
          "xwl",
          "yanke",
          "yarn",
          "yath",
          "yea",
          "yoke",
          "yorktown",
          "youngish",
          "yule",
          "yuletid",
          "zaimi",
          "zar",
          "zerubbabel",
          "ædile"
         ],
         "y": [
          2,
          2,
          2,
          2,
          2,
          2,
          2,
          2,
          2,
          2,
          2,
          2,
          2,
          2,
          2,
          2,
          2,
          2,
          2,
          2,
          2,
          2,
          2,
          2,
          2,
          2,
          2,
          2,
          2,
          2,
          2,
          2,
          2,
          2,
          2,
          2,
          2,
          2,
          2,
          2,
          2,
          2,
          2,
          2,
          2,
          2,
          2,
          2,
          2,
          2
         ]
        }
       ],
       "layout": {
        "title": "Bottom 50 Word frequencies after Preprocessing"
       }
      },
      "text/html": [
       "<div id=\"b1c9e43a-3fe8-47da-b9e7-0c753d92834d\" style=\"height: 525px; width: 100%;\" class=\"plotly-graph-div\"></div><script type=\"text/javascript\">require([\"plotly\"], function(Plotly) { window.PLOTLYENV=window.PLOTLYENV || {};window.PLOTLYENV.BASE_URL=\"https://plot.ly\";Plotly.newPlot(\"b1c9e43a-3fe8-47da-b9e7-0c753d92834d\", [{\"type\": \"bar\", \"marker\": {\"colorscale\": \"Portland\", \"color\": [2, 2, 2, 2, 2, 2, 2, 2, 2, 2, 2, 2, 2, 2, 2, 2, 2, 2, 2, 2, 2, 2, 2, 2, 2, 2, 2, 2, 2, 2, 2, 2, 2, 2, 2, 2, 2, 2, 2, 2, 2, 2, 2, 2, 2, 2, 2, 2, 2, 2]}, \"text\": \"Word counts\", \"y\": [2, 2, 2, 2, 2, 2, 2, 2, 2, 2, 2, 2, 2, 2, 2, 2, 2, 2, 2, 2, 2, 2, 2, 2, 2, 2, 2, 2, 2, 2, 2, 2, 2, 2, 2, 2, 2, 2, 2, 2, 2, 2, 2, 2, 2, 2, 2, 2, 2, 2], \"x\": [\"whitewash\", \"whitman\", \"wholesal\", \"whoop\", \"wielder\", \"willi\", \"windward\", \"wintri\", \"wisconsin\", \"wist\", \"withhold\", \"witti\", \"wizardri\", \"wizen\", \"wolejko\", \"womanish\", \"womb\", \"womenfolk\", \"woodwork\", \"woolwich\", \"wordi\", \"wordless\", \"wordsworth\", \"worker\", \"wormiu\", \"wouldst\", \"wove\", \"wraith\", \"wrestl\", \"writ\", \"wudn\", \"wust\", \"xari\", \"xerx\", \"xii\", \"xnce\", \"xwl\", \"yanke\", \"yarn\", \"yath\", \"yea\", \"yoke\", \"yorktown\", \"youngish\", \"yule\", \"yuletid\", \"zaimi\", \"zar\", \"zerubbabel\", \"\\u00e6dile\"]}], {\"title\": \"Bottom 50 Word frequencies after Preprocessing\"}, {\"linkText\": \"Export to plot.ly\", \"showLink\": true})});</script>"
      ],
      "text/vnd.plotly.v1+html": [
       "<div id=\"b1c9e43a-3fe8-47da-b9e7-0c753d92834d\" style=\"height: 525px; width: 100%;\" class=\"plotly-graph-div\"></div><script type=\"text/javascript\">require([\"plotly\"], function(Plotly) { window.PLOTLYENV=window.PLOTLYENV || {};window.PLOTLYENV.BASE_URL=\"https://plot.ly\";Plotly.newPlot(\"b1c9e43a-3fe8-47da-b9e7-0c753d92834d\", [{\"type\": \"bar\", \"marker\": {\"colorscale\": \"Portland\", \"color\": [2, 2, 2, 2, 2, 2, 2, 2, 2, 2, 2, 2, 2, 2, 2, 2, 2, 2, 2, 2, 2, 2, 2, 2, 2, 2, 2, 2, 2, 2, 2, 2, 2, 2, 2, 2, 2, 2, 2, 2, 2, 2, 2, 2, 2, 2, 2, 2, 2, 2]}, \"text\": \"Word counts\", \"y\": [2, 2, 2, 2, 2, 2, 2, 2, 2, 2, 2, 2, 2, 2, 2, 2, 2, 2, 2, 2, 2, 2, 2, 2, 2, 2, 2, 2, 2, 2, 2, 2, 2, 2, 2, 2, 2, 2, 2, 2, 2, 2, 2, 2, 2, 2, 2, 2, 2, 2], \"x\": [\"whitewash\", \"whitman\", \"wholesal\", \"whoop\", \"wielder\", \"willi\", \"windward\", \"wintri\", \"wisconsin\", \"wist\", \"withhold\", \"witti\", \"wizardri\", \"wizen\", \"wolejko\", \"womanish\", \"womb\", \"womenfolk\", \"woodwork\", \"woolwich\", \"wordi\", \"wordless\", \"wordsworth\", \"worker\", \"wormiu\", \"wouldst\", \"wove\", \"wraith\", \"wrestl\", \"writ\", \"wudn\", \"wust\", \"xari\", \"xerx\", \"xii\", \"xnce\", \"xwl\", \"yanke\", \"yarn\", \"yath\", \"yea\", \"yoke\", \"yorktown\", \"youngish\", \"yule\", \"yuletid\", \"zaimi\", \"zar\", \"zerubbabel\", \"\\u00e6dile\"]}], {\"title\": \"Bottom 50 Word frequencies after Preprocessing\"}, {\"linkText\": \"Export to plot.ly\", \"showLink\": true})});</script>"
      ]
     },
     "metadata": {},
     "output_type": "display_data"
    }
   ],
   "source": [
    "feature_names = tf_vectorizer.get_feature_names()\n",
    "count_vec = np.asarray(tf.sum(axis=0)).ravel()\n",
    "zipped = list(zip(feature_names, count_vec))\n",
    "x, y = (list(x) for x in zip(*sorted(zipped, key=lambda x: x[1], reverse=True)))\n",
    "# Now I want to extract out on the top 15 and bottom 15 words\n",
    "Y = np.concatenate([y[0:15], y[-16:-1]])\n",
    "X = np.concatenate([x[0:15], x[-16:-1]])\n",
    "\n",
    "# Plotting the Plot.ly plot for the Top 50 word frequencies\n",
    "data = [go.Bar(\n",
    "            x = x[0:50],\n",
    "            y = y[0:50],\n",
    "            marker= dict(colorscale='Jet',\n",
    "                         color = y[0:50]\n",
    "                        ),\n",
    "            text='Word counts'\n",
    "    )]\n",
    "\n",
    "layout = go.Layout(\n",
    "    title='Top 50 Word frequencies after Preprocessing'\n",
    ")\n",
    "\n",
    "fig = go.Figure(data=data, layout=layout)\n",
    "\n",
    "py.iplot(fig, filename='basic-bar')\n",
    "\n",
    "# Plotting the Plot.ly plot for the Top 50 word frequencies\n",
    "data = [go.Bar(\n",
    "            x = x[-50:],\n",
    "            y = y[-50:],\n",
    "            marker= dict(colorscale='Portland',\n",
    "                         color = y[-50:]\n",
    "                        ),\n",
    "            text='Word counts'\n",
    "    )]\n",
    "\n",
    "layout = go.Layout(\n",
    "    title='Bottom 50 Word frequencies after Preprocessing'\n",
    ")\n",
    "\n",
    "fig = go.Figure(data=data, layout=layout)\n",
    "\n",
    "py.iplot(fig, filename='basic-bar')"
   ]
  },
  {
   "cell_type": "markdown",
   "metadata": {},
   "source": [
    "3b. Latent Dirichlet Allocation\n",
    "Finally we arrive on the subject of topic modelling and the implementation of a couple of unsupervised learning algorithms. The first method that I will touch upon is Latent Dirichlet Allocation. Now there are a couple of different implements of this LDA algorithm but in this notebook, I will be using Sklearn's implementation. Another very well-known LDA implementation is Radim Rehurek's gensim, so check it out as well.\n",
    "\n",
    "https://radimrehurek.com/gensim/\n",
    "\n",
    "Corpus - Document - Word : Topic Generation\n",
    "\n",
    "http://scikit-learn.org/stable/modules/decomposition.html#latentdirichletallocation)\n",
    "\n",
    "The LDA algorithm first models documents via a mixture model of topics. From these topics, words are then assigned weights based on the probability distribution of these topics. It is this probabilistic assignment over words that allow a user of LDA to say how likely a particular word falls into a topic. Subsequently from the collection of words assigned to a particular topic, are we thus able to gain an insight as to what that topic actually may represent from a lexical point of view.\n",
    "\n",
    "To invoke the algorithm, we simply create an LDA instance through the LatentDirichletAllocation function as follows:"
   ]
  },
  {
   "cell_type": "code",
   "execution_count": 50,
   "metadata": {
    "collapsed": false
   },
   "outputs": [],
   "source": [
    "lda = LatentDirichletAllocation(max_iter=5,\n",
    "                                learning_method = 'online',\n",
    "                                learning_offset = 50.,\n",
    "                                random_state = 0)\n",
    "\n",
    "#n_components = 3 is missing above"
   ]
  },
  {
   "cell_type": "code",
   "execution_count": 51,
   "metadata": {
    "collapsed": false
   },
   "outputs": [
    {
     "data": {
      "text/plain": [
       "LatentDirichletAllocation(batch_size=128, doc_topic_prior=None,\n",
       "             evaluate_every=-1, learning_decay=0.7,\n",
       "             learning_method='online', learning_offset=50.0,\n",
       "             max_doc_update_iter=100, max_iter=5, mean_change_tol=0.001,\n",
       "             n_jobs=1, n_topics=10, perp_tol=0.1, random_state=0,\n",
       "             topic_word_prior=None, total_samples=1000000.0, verbose=0)"
      ]
     },
     "execution_count": 51,
     "metadata": {},
     "output_type": "execute_result"
    }
   ],
   "source": [
    "lda.fit(tf)"
   ]
  },
  {
   "cell_type": "markdown",
   "metadata": {},
   "source": [
    "###### Return the top 20 words attributed to each topic"
   ]
  },
  {
   "cell_type": "code",
   "execution_count": 52,
   "metadata": {
    "collapsed": false
   },
   "outputs": [
    {
     "name": "stdout",
     "output_type": "stream",
     "text": [
      "\n",
      "Topics in LDA model: \n",
      "\n",
      "Topic #0:friend word idea read knew book observ wonder time did letter great rememb man end possibl charact old repli difficulti\n",
      "======================================================================\n",
      "\n",
      "Topic #1:die know receiv brought ill like want move obtain age surfac miser rest concern don begin did east sir enemi\n",
      "======================================================================\n",
      "\n",
      "Topic #2:like came hour soon new sea street day earth wall water look exist sens fact moon citi near hill thing\n",
      "======================================================================\n",
      "\n",
      "Topic #3:day love feel shall let tell spirit human ye said beauti soul regard suddenli passion man memori heart studi return\n",
      "======================================================================\n",
      "\n",
      "Topic #4:come mind life death hope thing world long gave time natur thought told strang man dead know deep doubt evid\n",
      "======================================================================\n",
      "\n",
      "Topic #5:eye pass felt moment head follow turn life voic express heart light word perdita fell sleep sun heard saw chang\n",
      "======================================================================\n",
      "\n",
      "Topic #6:night hous did place door left room open hand fear air length old littl reach close heard great window away\n",
      "======================================================================\n",
      "\n",
      "Topic #7:raymond sound fear object peopl watch look listen beneath adrian minut happi wish degre stood held idri month convers bed\n",
      "======================================================================\n",
      "\n",
      "Topic #8:speak mother countri suppos expect littl better believ desert man suffer number vision remain light villag conceal true join forgotten\n",
      "======================================================================\n",
      "\n",
      "Topic #9:said dream live say person matter appear gener call reason present point mr immedi thing good nearli question year case\n",
      "======================================================================\n"
     ]
    }
   ],
   "source": [
    "n_top_words = 20\n",
    "print(\"\\nTopics in LDA model: \")\n",
    "tf_feature_names = tf_vectorizer.get_feature_names()\n",
    "print_top_words(lda, tf_feature_names, n_top_words)"
   ]
  },
  {
   "cell_type": "markdown",
   "metadata": {},
   "source": [
    "###### Gives 10 topics for n_topic = 10 by default"
   ]
  },
  {
   "cell_type": "code",
   "execution_count": 53,
   "metadata": {
    "collapsed": true
   },
   "outputs": [],
   "source": [
    "lda = LatentDirichletAllocation(max_iter=5,\n",
    "                                learning_method = 'online',\n",
    "                                learning_offset = 50.,\n",
    "                                random_state = 0, n_topics = 3)"
   ]
  },
  {
   "cell_type": "code",
   "execution_count": 54,
   "metadata": {
    "collapsed": false
   },
   "outputs": [
    {
     "data": {
      "text/plain": [
       "LatentDirichletAllocation(batch_size=128, doc_topic_prior=None,\n",
       "             evaluate_every=-1, learning_decay=0.7,\n",
       "             learning_method='online', learning_offset=50.0,\n",
       "             max_doc_update_iter=100, max_iter=5, mean_change_tol=0.001,\n",
       "             n_jobs=1, n_topics=3, perp_tol=0.1, random_state=0,\n",
       "             topic_word_prior=None, total_samples=1000000.0, verbose=0)"
      ]
     },
     "execution_count": 54,
     "metadata": {},
     "output_type": "execute_result"
    }
   ],
   "source": [
    "lda.fit(tf)"
   ]
  },
  {
   "cell_type": "code",
   "execution_count": 55,
   "metadata": {
    "collapsed": false
   },
   "outputs": [
    {
     "name": "stdout",
     "output_type": "stream",
     "text": [
      "\n",
      "Topics in LDA model: \n",
      "\n",
      "Topic #0:eye life love death heart time hand friend did dream look head man word natur hope father raymond feel mind\n",
      "======================================================================\n",
      "\n",
      "Topic #1:day night left door place light die came like citi dark sea hous beauti window wall far pass men saw\n",
      "======================================================================\n",
      "\n",
      "Topic #2:thing thought said say littl time know man did live moment mean let heard good like person long point old\n",
      "======================================================================\n"
     ]
    }
   ],
   "source": [
    "#Return words for each topic\n",
    "n_top_words = 20\n",
    "print(\"\\nTopics in LDA model: \")\n",
    "tf_feature_names = tf_vectorizer.get_feature_names()\n",
    "print_top_words(lda, tf_feature_names, n_top_words)"
   ]
  },
  {
   "cell_type": "code",
   "execution_count": 56,
   "metadata": {
    "collapsed": true
   },
   "outputs": [],
   "source": [
    "first_topic = lda.components_[0]\n",
    "second_topic = lda.components_[1]\n",
    "third_topic = lda.components_[2]"
   ]
  },
  {
   "cell_type": "code",
   "execution_count": 57,
   "metadata": {
    "collapsed": false
   },
   "outputs": [
    {
     "data": {
      "text/plain": [
       "(10161,)"
      ]
     },
     "execution_count": 57,
     "metadata": {},
     "output_type": "execute_result"
    }
   ],
   "source": [
    "first_topic.shape"
   ]
  },
  {
   "cell_type": "markdown",
   "metadata": {},
   "source": [
    "###### Word Cloud visualizations of the topics"
   ]
  },
  {
   "cell_type": "code",
   "execution_count": 58,
   "metadata": {
    "collapsed": true
   },
   "outputs": [],
   "source": [
    "first_topic_words = [tf_feature_names[i] for i in first_topic.argsort()[:-50 - 1 :-1]]\n",
    "second_topic_words = [tf_feature_names[i] for i in second_topic.argsort()[:-50 - 1 :-1]]\n",
    "third_topic_words = [tf_feature_names[i] for i in third_topic.argsort()[:-50 - 1 :-1]]"
   ]
  },
  {
   "cell_type": "markdown",
   "metadata": {},
   "source": [
    "###### Word cloud of First Topic"
   ]
  },
  {
   "cell_type": "code",
   "execution_count": 59,
   "metadata": {
    "collapsed": false
   },
   "outputs": [
    {
     "data": {
      "image/png": "[encoded data removed]",
      "text/plain": [
       "<matplotlib.figure.Figure at 0x17637b39710>"
      ]
     },
     "metadata": {},
     "output_type": "display_data"
    }
   ],
   "source": [
    "# Generating the wordcloud with the values under the category dataframe\n",
    "firstcloud = WordCloud(\n",
    "                          stopwords=STOPWORDS,\n",
    "                          background_color='black',\n",
    "                          width=2500,\n",
    "                          height=1800\n",
    "                         ).generate(\" \".join(first_topic_words))\n",
    "plt.imshow(firstcloud)\n",
    "plt.axis('off')\n",
    "plt.show()"
   ]
  },
  {
   "cell_type": "code",
   "execution_count": 60,
   "metadata": {
    "collapsed": false
   },
   "outputs": [
    {
     "data": {
      "image/png": "[encoded data removed]",
      "text/plain": [
       "<matplotlib.figure.Figure at 0x17637a93748>"
      ]
     },
     "metadata": {},
     "output_type": "display_data"
    }
   ],
   "source": [
    "# Generating the wordcloud with the values under the category dataframe\n",
    "firstcloud = WordCloud(\n",
    "                          stopwords=STOPWORDS,\n",
    "                          background_color='black',\n",
    "                          width=2500,\n",
    "                          height=1800\n",
    "                         ).generate(\" \".join(second_topic_words))\n",
    "plt.imshow(firstcloud)\n",
    "plt.axis('off')\n",
    "plt.show()"
   ]
  },
  {
   "cell_type": "code",
   "execution_count": 61,
   "metadata": {
    "collapsed": false
   },
   "outputs": [
    {
     "data": {
      "image/png": "[encoded data removed]",
      "text/plain": [
       "<matplotlib.figure.Figure at 0x17637a9e668>"
      ]
     },
     "metadata": {},
     "output_type": "display_data"
    }
   ],
   "source": [
    "# Generating the wordcloud with the values under the category dataframe\n",
    "firstcloud = WordCloud(\n",
    "                          stopwords=STOPWORDS,\n",
    "                          background_color='black',\n",
    "                          width=2500,\n",
    "                          height=1800\n",
    "                         ).generate(\" \".join(third_topic_words))\n",
    "plt.imshow(firstcloud)\n",
    "plt.axis('off')\n",
    "plt.show()"
   ]
  },
  {
   "cell_type": "code",
   "execution_count": null,
   "metadata": {
    "collapsed": true
   },
   "outputs": [],
   "source": []
  }
 ],
 "metadata": {
  "anaconda-cloud": {},
  "kernelspec": {
   "display_name": "Python [conda root]",
   "language": "python",
   "name": "conda-root-py"
  },
  "language_info": {
   "codemirror_mode": {
    "name": "ipython",
    "version": 3
   },
   "file_extension": ".py",
   "mimetype": "text/x-python",
   "name": "python",
   "nbconvert_exporter": "python",
   "pygments_lexer": "ipython3",
   "version": "3.5.1"
  }
 },
 "nbformat": 4,
 "nbformat_minor": 1
}
