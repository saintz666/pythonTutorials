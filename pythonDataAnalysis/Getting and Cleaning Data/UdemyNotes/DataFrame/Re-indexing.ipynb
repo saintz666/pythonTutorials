{
 "cells": [
  {
   "cell_type": "code",
   "execution_count": 2,
   "metadata": {
    "collapsed": true
   },
   "outputs": [],
   "source": [
    "import numpy as np\n",
    "import pandas as pd\n",
    "from pandas import Series,DataFrame\n",
    "\n",
    "from numpy.random import randn"
   ]
  },
  {
   "cell_type": "code",
   "execution_count": 4,
   "metadata": {
    "collapsed": false
   },
   "outputs": [
    {
     "data": {
      "text/plain": [
       "A    1\n",
       "B    2\n",
       "C    3\n",
       "D    4\n",
       "dtype: int64"
      ]
     },
     "execution_count": 4,
     "metadata": {},
     "output_type": "execute_result"
    }
   ],
   "source": [
    "ser1 = Series([1,2,3,4],index = ['A','B','C','D'])\n",
    "ser1"
   ]
  },
  {
   "cell_type": "code",
   "execution_count": 6,
   "metadata": {
    "collapsed": false
   },
   "outputs": [
    {
     "data": {
      "text/plain": [
       "A     1\n",
       "B     2\n",
       "C     3\n",
       "D     4\n",
       "E   NaN\n",
       "F   NaN\n",
       "dtype: float64"
      ]
     },
     "execution_count": 6,
     "metadata": {},
     "output_type": "execute_result"
    }
   ],
   "source": [
    "#rearange a data to a new index\n",
    "ser2 = ser1.reindex(['A','B','C','D','E','F'])\n",
    "ser2"
   ]
  },
  {
   "cell_type": "code",
   "execution_count": 8,
   "metadata": {
    "collapsed": false
   },
   "outputs": [
    {
     "data": {
      "text/plain": [
       "A     1\n",
       "B     2\n",
       "C     3\n",
       "D     4\n",
       "E   NaN\n",
       "F   NaN\n",
       "G     0\n",
       "dtype: float64"
      ]
     },
     "execution_count": 8,
     "metadata": {},
     "output_type": "execute_result"
    }
   ],
   "source": [
    "#rather than null value have a value added to a series index\n",
    "ser2.reindex(['A','B','C','D','E','F','G'],fill_value = 0)"
   ]
  },
  {
   "cell_type": "code",
   "execution_count": 9,
   "metadata": {
    "collapsed": false
   },
   "outputs": [
    {
     "data": {
      "text/plain": [
       "0        USA\n",
       "5     Mexico\n",
       "10    Canada\n",
       "dtype: object"
      ]
     },
     "execution_count": 9,
     "metadata": {},
     "output_type": "execute_result"
    }
   ],
   "source": [
    "#use methods to fill in values\n",
    "ser3 = Series(['USA','Mexico','Canada'],index =[0,5,10])\n",
    "ser3"
   ]
  },
  {
   "cell_type": "code",
   "execution_count": 10,
   "metadata": {
    "collapsed": false
   },
   "outputs": [
    {
     "data": {
      "text/plain": [
       "[0, 1, 2, 3, 4, 5, 6, 7, 8, 9, 10, 11, 12, 13, 14]"
      ]
     },
     "execution_count": 10,
     "metadata": {},
     "output_type": "execute_result"
    }
   ],
   "source": [
    "#reindex it from 0 to 14 and fill\n",
    "ranger = range(15)\n",
    "ranger"
   ]
  },
  {
   "cell_type": "code",
   "execution_count": 11,
   "metadata": {
    "collapsed": false
   },
   "outputs": [
    {
     "data": {
      "text/plain": [
       "0        USA\n",
       "1        USA\n",
       "2        USA\n",
       "3        USA\n",
       "4        USA\n",
       "5     Mexico\n",
       "6     Mexico\n",
       "7     Mexico\n",
       "8     Mexico\n",
       "9     Mexico\n",
       "10    Canada\n",
       "11    Canada\n",
       "12    Canada\n",
       "13    Canada\n",
       "14    Canada\n",
       "dtype: object"
      ]
     },
     "execution_count": 11,
     "metadata": {},
     "output_type": "execute_result"
    }
   ],
   "source": [
    "#forward fill a vlaue = ffill, there are more methods at pandas website\n",
    "ser3.reindex(ranger,method='ffill')\n"
   ]
  },
  {
   "cell_type": "code",
   "execution_count": 12,
   "metadata": {
    "collapsed": false
   },
   "outputs": [
    {
     "data": {
      "text/html": [
       "<div>\n",
       "<table border=\"1\" class=\"dataframe\">\n",
       "  <thead>\n",
       "    <tr style=\"text-align: right;\">\n",
       "      <th></th>\n",
       "      <th>col1</th>\n",
       "      <th>col2</th>\n",
       "      <th>col3</th>\n",
       "      <th>col4</th>\n",
       "      <th>col5</th>\n",
       "    </tr>\n",
       "  </thead>\n",
       "  <tbody>\n",
       "    <tr>\n",
       "      <th>A</th>\n",
       "      <td>1.599248</td>\n",
       "      <td>2.060513</td>\n",
       "      <td>-1.362552</td>\n",
       "      <td>-0.920181</td>\n",
       "      <td>0.904409</td>\n",
       "    </tr>\n",
       "    <tr>\n",
       "      <th>B</th>\n",
       "      <td>-2.823433</td>\n",
       "      <td>0.329210</td>\n",
       "      <td>-0.432048</td>\n",
       "      <td>-0.078544</td>\n",
       "      <td>0.340176</td>\n",
       "    </tr>\n",
       "    <tr>\n",
       "      <th>D</th>\n",
       "      <td>-0.589181</td>\n",
       "      <td>0.351861</td>\n",
       "      <td>-0.162969</td>\n",
       "      <td>-1.424835</td>\n",
       "      <td>-0.361934</td>\n",
       "    </tr>\n",
       "    <tr>\n",
       "      <th>E</th>\n",
       "      <td>1.483888</td>\n",
       "      <td>0.407184</td>\n",
       "      <td>-0.694562</td>\n",
       "      <td>0.515932</td>\n",
       "      <td>0.616410</td>\n",
       "    </tr>\n",
       "    <tr>\n",
       "      <th>F</th>\n",
       "      <td>1.029646</td>\n",
       "      <td>-0.266155</td>\n",
       "      <td>0.610447</td>\n",
       "      <td>0.050960</td>\n",
       "      <td>0.102680</td>\n",
       "    </tr>\n",
       "  </tbody>\n",
       "</table>\n",
       "</div>"
      ],
      "text/plain": [
       "       col1      col2      col3      col4      col5\n",
       "A  1.599248  2.060513 -1.362552 -0.920181  0.904409\n",
       "B -2.823433  0.329210 -0.432048 -0.078544  0.340176\n",
       "D -0.589181  0.351861 -0.162969 -1.424835 -0.361934\n",
       "E  1.483888  0.407184 -0.694562  0.515932  0.616410\n",
       "F  1.029646 -0.266155  0.610447  0.050960  0.102680"
      ]
     },
     "execution_count": 12,
     "metadata": {},
     "output_type": "execute_result"
    }
   ],
   "source": [
    "#reindex columns or rows\n",
    "# 25 values and reshape will give a matrix \n",
    "#missed C on purpose\n",
    "dFrame = DataFrame(randn(25).reshape(5,5),index = ['A','B','D','E','F'],\n",
    "                   columns=['col1','col2','col3','col4','col5'])\n",
    "dFrame\n"
   ]
  },
  {
   "cell_type": "code",
   "execution_count": 13,
   "metadata": {
    "collapsed": false
   },
   "outputs": [
    {
     "data": {
      "text/html": [
       "<div>\n",
       "<table border=\"1\" class=\"dataframe\">\n",
       "  <thead>\n",
       "    <tr style=\"text-align: right;\">\n",
       "      <th></th>\n",
       "      <th>col1</th>\n",
       "      <th>col2</th>\n",
       "      <th>col3</th>\n",
       "      <th>col4</th>\n",
       "      <th>col5</th>\n",
       "    </tr>\n",
       "  </thead>\n",
       "  <tbody>\n",
       "    <tr>\n",
       "      <th>A</th>\n",
       "      <td>1.599248</td>\n",
       "      <td>2.060513</td>\n",
       "      <td>-1.362552</td>\n",
       "      <td>-0.920181</td>\n",
       "      <td>0.904409</td>\n",
       "    </tr>\n",
       "    <tr>\n",
       "      <th>B</th>\n",
       "      <td>-2.823433</td>\n",
       "      <td>0.329210</td>\n",
       "      <td>-0.432048</td>\n",
       "      <td>-0.078544</td>\n",
       "      <td>0.340176</td>\n",
       "    </tr>\n",
       "    <tr>\n",
       "      <th>C</th>\n",
       "      <td>NaN</td>\n",
       "      <td>NaN</td>\n",
       "      <td>NaN</td>\n",
       "      <td>NaN</td>\n",
       "      <td>NaN</td>\n",
       "    </tr>\n",
       "    <tr>\n",
       "      <th>D</th>\n",
       "      <td>-0.589181</td>\n",
       "      <td>0.351861</td>\n",
       "      <td>-0.162969</td>\n",
       "      <td>-1.424835</td>\n",
       "      <td>-0.361934</td>\n",
       "    </tr>\n",
       "    <tr>\n",
       "      <th>E</th>\n",
       "      <td>1.483888</td>\n",
       "      <td>0.407184</td>\n",
       "      <td>-0.694562</td>\n",
       "      <td>0.515932</td>\n",
       "      <td>0.616410</td>\n",
       "    </tr>\n",
       "    <tr>\n",
       "      <th>F</th>\n",
       "      <td>1.029646</td>\n",
       "      <td>-0.266155</td>\n",
       "      <td>0.610447</td>\n",
       "      <td>0.050960</td>\n",
       "      <td>0.102680</td>\n",
       "    </tr>\n",
       "  </tbody>\n",
       "</table>\n",
       "</div>"
      ],
      "text/plain": [
       "       col1      col2      col3      col4      col5\n",
       "A  1.599248  2.060513 -1.362552 -0.920181  0.904409\n",
       "B -2.823433  0.329210 -0.432048 -0.078544  0.340176\n",
       "C       NaN       NaN       NaN       NaN       NaN\n",
       "D -0.589181  0.351861 -0.162969 -1.424835 -0.361934\n",
       "E  1.483888  0.407184 -0.694562  0.515932  0.616410\n",
       "F  1.029646 -0.266155  0.610447  0.050960  0.102680"
      ]
     },
     "execution_count": 13,
     "metadata": {},
     "output_type": "execute_result"
    }
   ],
   "source": [
    "#reindex with c, it will add null values \n",
    "dFrame2 = dFrame.reindex(['A','B','C','D','E','F'])\n",
    "dFrame2"
   ]
  },
  {
   "cell_type": "code",
   "execution_count": 14,
   "metadata": {
    "collapsed": false
   },
   "outputs": [
    {
     "data": {
      "text/html": [
       "<div>\n",
       "<table border=\"1\" class=\"dataframe\">\n",
       "  <thead>\n",
       "    <tr style=\"text-align: right;\">\n",
       "      <th></th>\n",
       "      <th>col1</th>\n",
       "      <th>col2</th>\n",
       "      <th>col3</th>\n",
       "      <th>col4</th>\n",
       "      <th>col5</th>\n",
       "      <th>col6</th>\n",
       "    </tr>\n",
       "  </thead>\n",
       "  <tbody>\n",
       "    <tr>\n",
       "      <th>A</th>\n",
       "      <td>1.599248</td>\n",
       "      <td>2.060513</td>\n",
       "      <td>-1.362552</td>\n",
       "      <td>-0.920181</td>\n",
       "      <td>0.904409</td>\n",
       "      <td>NaN</td>\n",
       "    </tr>\n",
       "    <tr>\n",
       "      <th>B</th>\n",
       "      <td>-2.823433</td>\n",
       "      <td>0.329210</td>\n",
       "      <td>-0.432048</td>\n",
       "      <td>-0.078544</td>\n",
       "      <td>0.340176</td>\n",
       "      <td>NaN</td>\n",
       "    </tr>\n",
       "    <tr>\n",
       "      <th>C</th>\n",
       "      <td>NaN</td>\n",
       "      <td>NaN</td>\n",
       "      <td>NaN</td>\n",
       "      <td>NaN</td>\n",
       "      <td>NaN</td>\n",
       "      <td>NaN</td>\n",
       "    </tr>\n",
       "    <tr>\n",
       "      <th>D</th>\n",
       "      <td>-0.589181</td>\n",
       "      <td>0.351861</td>\n",
       "      <td>-0.162969</td>\n",
       "      <td>-1.424835</td>\n",
       "      <td>-0.361934</td>\n",
       "      <td>NaN</td>\n",
       "    </tr>\n",
       "    <tr>\n",
       "      <th>E</th>\n",
       "      <td>1.483888</td>\n",
       "      <td>0.407184</td>\n",
       "      <td>-0.694562</td>\n",
       "      <td>0.515932</td>\n",
       "      <td>0.616410</td>\n",
       "      <td>NaN</td>\n",
       "    </tr>\n",
       "    <tr>\n",
       "      <th>F</th>\n",
       "      <td>1.029646</td>\n",
       "      <td>-0.266155</td>\n",
       "      <td>0.610447</td>\n",
       "      <td>0.050960</td>\n",
       "      <td>0.102680</td>\n",
       "      <td>NaN</td>\n",
       "    </tr>\n",
       "  </tbody>\n",
       "</table>\n",
       "</div>"
      ],
      "text/plain": [
       "       col1      col2      col3      col4      col5  col6\n",
       "A  1.599248  2.060513 -1.362552 -0.920181  0.904409   NaN\n",
       "B -2.823433  0.329210 -0.432048 -0.078544  0.340176   NaN\n",
       "C       NaN       NaN       NaN       NaN       NaN   NaN\n",
       "D -0.589181  0.351861 -0.162969 -1.424835 -0.361934   NaN\n",
       "E  1.483888  0.407184 -0.694562  0.515932  0.616410   NaN\n",
       "F  1.029646 -0.266155  0.610447  0.050960  0.102680   NaN"
      ]
     },
     "execution_count": 14,
     "metadata": {},
     "output_type": "execute_result"
    }
   ],
   "source": [
    "#explicitly reindex columns, pandas put null values for col6\n",
    "newColumns =['col1','col2','col3','col4','col5','col6']\n",
    "dFrame2.reindex(columns = newColumns)"
   ]
  },
  {
   "cell_type": "code",
   "execution_count": 15,
   "metadata": {
    "collapsed": false
   },
   "outputs": [
    {
     "data": {
      "text/html": [
       "<div>\n",
       "<table border=\"1\" class=\"dataframe\">\n",
       "  <thead>\n",
       "    <tr style=\"text-align: right;\">\n",
       "      <th></th>\n",
       "      <th>col1</th>\n",
       "      <th>col2</th>\n",
       "      <th>col3</th>\n",
       "      <th>col4</th>\n",
       "      <th>col5</th>\n",
       "      <th>col6</th>\n",
       "    </tr>\n",
       "  </thead>\n",
       "  <tbody>\n",
       "    <tr>\n",
       "      <th>A</th>\n",
       "      <td>1.599248</td>\n",
       "      <td>2.060513</td>\n",
       "      <td>-1.362552</td>\n",
       "      <td>-0.920181</td>\n",
       "      <td>0.904409</td>\n",
       "      <td>NaN</td>\n",
       "    </tr>\n",
       "    <tr>\n",
       "      <th>B</th>\n",
       "      <td>-2.823433</td>\n",
       "      <td>0.329210</td>\n",
       "      <td>-0.432048</td>\n",
       "      <td>-0.078544</td>\n",
       "      <td>0.340176</td>\n",
       "      <td>NaN</td>\n",
       "    </tr>\n",
       "    <tr>\n",
       "      <th>C</th>\n",
       "      <td>NaN</td>\n",
       "      <td>NaN</td>\n",
       "      <td>NaN</td>\n",
       "      <td>NaN</td>\n",
       "      <td>NaN</td>\n",
       "      <td>NaN</td>\n",
       "    </tr>\n",
       "    <tr>\n",
       "      <th>D</th>\n",
       "      <td>-0.589181</td>\n",
       "      <td>0.351861</td>\n",
       "      <td>-0.162969</td>\n",
       "      <td>-1.424835</td>\n",
       "      <td>-0.361934</td>\n",
       "      <td>NaN</td>\n",
       "    </tr>\n",
       "    <tr>\n",
       "      <th>E</th>\n",
       "      <td>1.483888</td>\n",
       "      <td>0.407184</td>\n",
       "      <td>-0.694562</td>\n",
       "      <td>0.515932</td>\n",
       "      <td>0.616410</td>\n",
       "      <td>NaN</td>\n",
       "    </tr>\n",
       "    <tr>\n",
       "      <th>F</th>\n",
       "      <td>1.029646</td>\n",
       "      <td>-0.266155</td>\n",
       "      <td>0.610447</td>\n",
       "      <td>0.050960</td>\n",
       "      <td>0.102680</td>\n",
       "      <td>NaN</td>\n",
       "    </tr>\n",
       "  </tbody>\n",
       "</table>\n",
       "</div>"
      ],
      "text/plain": [
       "       col1      col2      col3      col4      col5  col6\n",
       "A  1.599248  2.060513 -1.362552 -0.920181  0.904409   NaN\n",
       "B -2.823433  0.329210 -0.432048 -0.078544  0.340176   NaN\n",
       "C       NaN       NaN       NaN       NaN       NaN   NaN\n",
       "D -0.589181  0.351861 -0.162969 -1.424835 -0.361934   NaN\n",
       "E  1.483888  0.407184 -0.694562  0.515932  0.616410   NaN\n",
       "F  1.029646 -0.266155  0.610447  0.050960  0.102680   NaN"
      ]
     },
     "execution_count": 15,
     "metadata": {},
     "output_type": "execute_result"
    }
   ],
   "source": [
    "#reindex quickly using .ix\n",
    "dFrame.ix[['A','B','C','D','E','F'],newColumns]"
   ]
  },
  {
   "cell_type": "code",
   "execution_count": null,
   "metadata": {
    "collapsed": true
   },
   "outputs": [],
   "source": []
  }
 ],
 "metadata": {
  "kernelspec": {
   "display_name": "Python 2",
   "language": "python",
   "name": "python2"
  },
  "language_info": {
   "codemirror_mode": {
    "name": "ipython",
    "version": 2
   },
   "file_extension": ".py",
   "mimetype": "text/x-python",
   "name": "python",
   "nbconvert_exporter": "python",
   "pygments_lexer": "ipython2",
   "version": "2.7.11"
  }
 },
 "nbformat": 4,
 "nbformat_minor": 0
}
