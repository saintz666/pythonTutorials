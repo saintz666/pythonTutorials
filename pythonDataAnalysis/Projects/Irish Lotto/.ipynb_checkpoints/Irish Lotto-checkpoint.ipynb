{
 "cells": [
  {
   "cell_type": "markdown",
   "metadata": {},
   "source": [
    "This blog is an analysis of winning numbers of Irish Lotto from last two years.\n",
    "\n",
    "The [National Lottery](https://www.lottery.ie/) brought new initiatives from Thursday September 3 2015 with adding two numbers to the draw meaning players choose from 47 numbers rather than 45 numbers. With this change the odds of picking the six winning numbers went from just over eight million to one to 10.7 million to one.\n",
    "\n",
    "The Irish Lotto takes place every Wednesday and Saturday night with cost of €2 and offers excellent odds of winning any prize of just 1 in 29 and boasts minimum jackpots of €2 million. In addition to this you can take the chance to win two more jackpots in the Plus 1 and Plus 2 games for just 50c more. You can simply choose 6 numbers from 1–47. You can also enter the Irish Lotto Plus 1 and Irish Lotto Plus 2 draws by ticking the Irish Lotto + box located directly under the main game slip. The same numbers you selected in the main game will be entered in the Plus 1 and Plus 2 draws.\n",
    "\n",
    "The draw works by drawing six numbers and an additional bonus number are drawn from a drum containing numbered balls from 1–47. Jackpots in the main game, Plus 1 and Plus 2 draws, are won when a player matches all six main numbers.\n",
    "\n",
    "More details can be found [here](https://www.irishlottery.com/results). The data is being scrapped using python and Beautiful soup from the same website.\n",
    "\n",
    "If you like to get data from last 20 years to do an analysis of your own,please visit the github page."
   ]
  },
  {
   "cell_type": "markdown",
   "metadata": {},
   "source": [
    "### Scraping Data for analysis of winning numbers of Irish Lotto"
   ]
  },
  {
   "cell_type": "code",
   "execution_count": 1,
   "metadata": {
    "collapsed": false
   },
   "outputs": [],
   "source": [
    "#import the library used to query a website\n",
    "import requests\n",
    "#specify the url for 2017\n",
    "lottery = \"https://www.irishlottery.com/archive-2016\"\n",
    "#Query the website and return the html to the variable 'page'\n",
    "page = requests.get(lottery)"
   ]
  },
  {
   "cell_type": "code",
   "execution_count": 2,
   "metadata": {
    "collapsed": false
   },
   "outputs": [
    {
     "data": {
      "text/plain": [
       "200"
      ]
     },
     "execution_count": 2,
     "metadata": {},
     "output_type": "execute_result"
    }
   ],
   "source": [
    "page.status_code"
   ]
  },
  {
   "cell_type": "markdown",
   "metadata": {},
   "source": [
    "A status_code of 200 means that the page downloaded successfully."
   ]
  },
  {
   "cell_type": "code",
   "execution_count": 3,
   "metadata": {
    "collapsed": true
   },
   "outputs": [],
   "source": [
    "#import the Beautiful soup functions to parse the data returned from the website\n",
    "from bs4 import BeautifulSoup\n",
    "#Parse the html in the 'page' variable, and store it in Beautiful Soup format\n",
    "soup = BeautifulSoup(page.content, 'html.parser')"
   ]
  },
  {
   "cell_type": "code",
   "execution_count": 4,
   "metadata": {
    "collapsed": false
   },
   "outputs": [
    {
     "data": {
      "text/plain": [
       "list"
      ]
     },
     "execution_count": 4,
     "metadata": {},
     "output_type": "execute_result"
    }
   ],
   "source": [
    "# Find the 6 lotto numbers available at the class = \"Ball\"\n",
    "ball_class = soup.find_all('td', class_='ball')\n",
    "#get the text using list comprehension\n",
    "ball = [pt.get_text() for pt in ball_class]\n",
    "ball\n",
    "type(ball)"
   ]
  },
  {
   "cell_type": "code",
   "execution_count": 5,
   "metadata": {
    "collapsed": false
   },
   "outputs": [],
   "source": [
    "#convert into a dataframe in acsending order\n",
    "import numpy as np\n",
    "import pandas as pd\n",
    "df_ball = pd.DataFrame(np.array(ball).reshape(-1,6),columns = list(\"abcdef\"))\n"
   ]
  },
  {
   "cell_type": "code",
   "execution_count": 6,
   "metadata": {
    "collapsed": false
   },
   "outputs": [
    {
     "data": {
      "text/plain": [
       "list"
      ]
     },
     "execution_count": 6,
     "metadata": {},
     "output_type": "execute_result"
    }
   ],
   "source": [
    "# Find the bonus number available at the class = \"bonus-ball\"\n",
    "ball_bonus_class = soup.find_all('td', class_='bonus-ball')\n",
    "ball_bonus = [pt.get_text() for pt in ball_bonus_class]\n",
    "type(ball_bonus)"
   ]
  },
  {
   "cell_type": "code",
   "execution_count": 7,
   "metadata": {
    "collapsed": true
   },
   "outputs": [],
   "source": [
    "df_ball_bonus = pd.DataFrame(ball_bonus,columns = ['Bonus'])"
   ]
  },
  {
   "cell_type": "code",
   "execution_count": 8,
   "metadata": {
    "collapsed": false
   },
   "outputs": [],
   "source": [
    "#join the two dataframes\n",
    "df_2017 = pd.concat([df_ball, df_ball_bonus], axis=1)"
   ]
  },
  {
   "cell_type": "code",
   "execution_count": 9,
   "metadata": {
    "collapsed": false
   },
   "outputs": [],
   "source": [
    "#find all the dates available in th\n",
    "date = soup.find_all('th')\n",
    "date1 = [pt.get_text() for pt in date]"
   ]
  },
  {
   "cell_type": "code",
   "execution_count": 10,
   "metadata": {
    "collapsed": false
   },
   "outputs": [],
   "source": [
    "#convert to the dtaframe\n",
    "df_date = pd.DataFrame(date1,columns =['Date'])\n",
    "#select the datframe after first two rows as they show result date and draw result\n",
    "df_date = df_date[2:]\n"
   ]
  },
  {
   "cell_type": "code",
   "execution_count": 11,
   "metadata": {
    "collapsed": false
   },
   "outputs": [],
   "source": [
    "#reset the index from 0\n",
    "df_date = df_date.reset_index()\n",
    "del df_date['index']\n",
    "\n"
   ]
  },
  {
   "cell_type": "code",
   "execution_count": 12,
   "metadata": {
    "collapsed": false
   },
   "outputs": [
    {
     "data": {
      "text/plain": [
       "Date    object\n",
       "dtype: object"
      ]
     },
     "execution_count": 12,
     "metadata": {},
     "output_type": "execute_result"
    }
   ],
   "source": [
    "df_date.dtypes\n"
   ]
  },
  {
   "cell_type": "code",
   "execution_count": 13,
   "metadata": {
    "collapsed": false
   },
   "outputs": [],
   "source": [
    "#convert the date into date time\n",
    "df_date = df_date.apply(pd.to_datetime)"
   ]
  },
  {
   "cell_type": "code",
   "execution_count": 14,
   "metadata": {
    "collapsed": false
   },
   "outputs": [
    {
     "data": {
      "text/plain": [
       "Date    datetime64[ns]\n",
       "dtype: object"
      ]
     },
     "execution_count": 14,
     "metadata": {},
     "output_type": "execute_result"
    }
   ],
   "source": [
    "#https://stackoverflow.com/questions/42693410/how-to-convert-object-to-date-in-pandas\n",
    "df_date.dtypes"
   ]
  },
  {
   "cell_type": "code",
   "execution_count": 15,
   "metadata": {
    "collapsed": true
   },
   "outputs": [],
   "source": [
    "df1 = pd.concat([df_date, df_2017], axis=1)"
   ]
  },
  {
   "cell_type": "code",
   "execution_count": 18,
   "metadata": {
    "collapsed": false
   },
   "outputs": [],
   "source": [
    "#df1.to_csv('2016.csv')"
   ]
  },
  {
   "cell_type": "markdown",
   "metadata": {},
   "source": [
    "#### Make a main file"
   ]
  },
  {
   "cell_type": "code",
   "execution_count": 19,
   "metadata": {
    "collapsed": true
   },
   "outputs": [],
   "source": [
    "from glob import glob\n",
    "\n",
    "with open('main_csv.csv', 'a') as singleFile:\n",
    "    for csv in glob('*.csv'):\n",
    "        if csv == 'main_csv.csv':\n",
    "            pass\n",
    "        else:\n",
    "            for line in open(csv, 'r'):\n",
    "                singleFile.write(line)"
   ]
  },
  {
   "cell_type": "markdown",
   "metadata": {},
   "source": [
    "### Analysis of winning numbers of Irish Lotto from 2nd September 2015 to 9th September 2017"
   ]
  },
  {
   "cell_type": "code",
   "execution_count": 20,
   "metadata": {
    "collapsed": false
   },
   "outputs": [],
   "source": [
    "df = pd.read_csv(\"main.csv\")"
   ]
  },
  {
   "cell_type": "code",
   "execution_count": 21,
   "metadata": {
    "collapsed": false
   },
   "outputs": [
    {
     "data": {
      "text/html": [
       "<div>\n",
       "<table border=\"1\" class=\"dataframe\">\n",
       "  <thead>\n",
       "    <tr style=\"text-align: right;\">\n",
       "      <th></th>\n",
       "      <th>Date</th>\n",
       "      <th>a</th>\n",
       "      <th>b</th>\n",
       "      <th>c</th>\n",
       "      <th>d</th>\n",
       "      <th>e</th>\n",
       "      <th>f</th>\n",
       "      <th>Bonus</th>\n",
       "    </tr>\n",
       "  </thead>\n",
       "  <tbody>\n",
       "    <tr>\n",
       "      <th>0</th>\n",
       "      <td>09/09/2017</td>\n",
       "      <td>2</td>\n",
       "      <td>8</td>\n",
       "      <td>20</td>\n",
       "      <td>25</td>\n",
       "      <td>33</td>\n",
       "      <td>45</td>\n",
       "      <td>7</td>\n",
       "    </tr>\n",
       "    <tr>\n",
       "      <th>1</th>\n",
       "      <td>06/09/2017</td>\n",
       "      <td>1</td>\n",
       "      <td>4</td>\n",
       "      <td>5</td>\n",
       "      <td>6</td>\n",
       "      <td>18</td>\n",
       "      <td>47</td>\n",
       "      <td>35</td>\n",
       "    </tr>\n",
       "  </tbody>\n",
       "</table>\n",
       "</div>"
      ],
      "text/plain": [
       "         Date  a  b   c   d   e   f  Bonus\n",
       "0  09/09/2017  2  8  20  25  33  45      7\n",
       "1  06/09/2017  1  4   5   6  18  47     35"
      ]
     },
     "execution_count": 21,
     "metadata": {},
     "output_type": "execute_result"
    }
   ],
   "source": [
    "df.head(2)"
   ]
  },
  {
   "cell_type": "code",
   "execution_count": 22,
   "metadata": {
    "collapsed": false
   },
   "outputs": [
    {
     "data": {
      "text/html": [
       "<div>\n",
       "<table border=\"1\" class=\"dataframe\">\n",
       "  <thead>\n",
       "    <tr style=\"text-align: right;\">\n",
       "      <th></th>\n",
       "      <th>Date</th>\n",
       "      <th>a</th>\n",
       "      <th>b</th>\n",
       "      <th>c</th>\n",
       "      <th>d</th>\n",
       "      <th>e</th>\n",
       "      <th>f</th>\n",
       "      <th>Bonus</th>\n",
       "    </tr>\n",
       "  </thead>\n",
       "  <tbody>\n",
       "    <tr>\n",
       "      <th>210</th>\n",
       "      <td>05/09/2015</td>\n",
       "      <td>7</td>\n",
       "      <td>9</td>\n",
       "      <td>17</td>\n",
       "      <td>20</td>\n",
       "      <td>26</td>\n",
       "      <td>27</td>\n",
       "      <td>40</td>\n",
       "    </tr>\n",
       "    <tr>\n",
       "      <th>211</th>\n",
       "      <td>02/09/2015</td>\n",
       "      <td>7</td>\n",
       "      <td>20</td>\n",
       "      <td>22</td>\n",
       "      <td>33</td>\n",
       "      <td>35</td>\n",
       "      <td>42</td>\n",
       "      <td>41</td>\n",
       "    </tr>\n",
       "  </tbody>\n",
       "</table>\n",
       "</div>"
      ],
      "text/plain": [
       "           Date  a   b   c   d   e   f  Bonus\n",
       "210  05/09/2015  7   9  17  20  26  27     40\n",
       "211  02/09/2015  7  20  22  33  35  42     41"
      ]
     },
     "execution_count": 22,
     "metadata": {},
     "output_type": "execute_result"
    }
   ],
   "source": [
    "df.tail(2)"
   ]
  },
  {
   "cell_type": "code",
   "execution_count": 23,
   "metadata": {
    "collapsed": false
   },
   "outputs": [
    {
     "data": {
      "text/html": [
       "<div>\n",
       "<table border=\"1\" class=\"dataframe\">\n",
       "  <thead>\n",
       "    <tr style=\"text-align: right;\">\n",
       "      <th></th>\n",
       "      <th>a</th>\n",
       "      <th>b</th>\n",
       "      <th>c</th>\n",
       "      <th>d</th>\n",
       "      <th>e</th>\n",
       "      <th>f</th>\n",
       "      <th>Bonus</th>\n",
       "    </tr>\n",
       "  </thead>\n",
       "  <tbody>\n",
       "    <tr>\n",
       "      <th>count</th>\n",
       "      <td>212.000000</td>\n",
       "      <td>212.000000</td>\n",
       "      <td>212.000000</td>\n",
       "      <td>212.000000</td>\n",
       "      <td>212.000000</td>\n",
       "      <td>212.000000</td>\n",
       "      <td>212.000000</td>\n",
       "    </tr>\n",
       "    <tr>\n",
       "      <th>mean</th>\n",
       "      <td>6.268868</td>\n",
       "      <td>12.731132</td>\n",
       "      <td>20.363208</td>\n",
       "      <td>27.080189</td>\n",
       "      <td>34.051887</td>\n",
       "      <td>40.929245</td>\n",
       "      <td>24.108491</td>\n",
       "    </tr>\n",
       "    <tr>\n",
       "      <th>std</th>\n",
       "      <td>5.393376</td>\n",
       "      <td>6.873838</td>\n",
       "      <td>7.814506</td>\n",
       "      <td>7.642993</td>\n",
       "      <td>7.334405</td>\n",
       "      <td>5.778674</td>\n",
       "      <td>13.820533</td>\n",
       "    </tr>\n",
       "    <tr>\n",
       "      <th>min</th>\n",
       "      <td>1.000000</td>\n",
       "      <td>2.000000</td>\n",
       "      <td>5.000000</td>\n",
       "      <td>6.000000</td>\n",
       "      <td>15.000000</td>\n",
       "      <td>19.000000</td>\n",
       "      <td>1.000000</td>\n",
       "    </tr>\n",
       "    <tr>\n",
       "      <th>25%</th>\n",
       "      <td>2.000000</td>\n",
       "      <td>8.000000</td>\n",
       "      <td>15.000000</td>\n",
       "      <td>22.000000</td>\n",
       "      <td>29.000000</td>\n",
       "      <td>38.000000</td>\n",
       "      <td>12.750000</td>\n",
       "    </tr>\n",
       "    <tr>\n",
       "      <th>50%</th>\n",
       "      <td>5.000000</td>\n",
       "      <td>11.000000</td>\n",
       "      <td>19.000000</td>\n",
       "      <td>27.000000</td>\n",
       "      <td>35.000000</td>\n",
       "      <td>42.000000</td>\n",
       "      <td>23.000000</td>\n",
       "    </tr>\n",
       "    <tr>\n",
       "      <th>75%</th>\n",
       "      <td>8.250000</td>\n",
       "      <td>16.000000</td>\n",
       "      <td>25.250000</td>\n",
       "      <td>32.000000</td>\n",
       "      <td>40.000000</td>\n",
       "      <td>45.000000</td>\n",
       "      <td>36.250000</td>\n",
       "    </tr>\n",
       "    <tr>\n",
       "      <th>max</th>\n",
       "      <td>33.000000</td>\n",
       "      <td>36.000000</td>\n",
       "      <td>44.000000</td>\n",
       "      <td>45.000000</td>\n",
       "      <td>46.000000</td>\n",
       "      <td>47.000000</td>\n",
       "      <td>47.000000</td>\n",
       "    </tr>\n",
       "  </tbody>\n",
       "</table>\n",
       "</div>"
      ],
      "text/plain": [
       "                a           b           c           d           e           f  \\\n",
       "count  212.000000  212.000000  212.000000  212.000000  212.000000  212.000000   \n",
       "mean     6.268868   12.731132   20.363208   27.080189   34.051887   40.929245   \n",
       "std      5.393376    6.873838    7.814506    7.642993    7.334405    5.778674   \n",
       "min      1.000000    2.000000    5.000000    6.000000   15.000000   19.000000   \n",
       "25%      2.000000    8.000000   15.000000   22.000000   29.000000   38.000000   \n",
       "50%      5.000000   11.000000   19.000000   27.000000   35.000000   42.000000   \n",
       "75%      8.250000   16.000000   25.250000   32.000000   40.000000   45.000000   \n",
       "max     33.000000   36.000000   44.000000   45.000000   46.000000   47.000000   \n",
       "\n",
       "            Bonus  \n",
       "count  212.000000  \n",
       "mean    24.108491  \n",
       "std     13.820533  \n",
       "min      1.000000  \n",
       "25%     12.750000  \n",
       "50%     23.000000  \n",
       "75%     36.250000  \n",
       "max     47.000000  "
      ]
     },
     "execution_count": 23,
     "metadata": {},
     "output_type": "execute_result"
    }
   ],
   "source": [
    "#Taking mean of the dataset gives the following values\n",
    "df.describe()"
   ]
  },
  {
   "cell_type": "markdown",
   "metadata": {},
   "source": [
    "#### The Magic Touch\n",
    "\n",
    "In 2009 Derren Brown hosted a live show in tandem with the UK lottery draw, where he announced to viewers that he was going to try and predict the outcome of that night's events. Brown correctly predicted 6 numbers. \n",
    "His explanation, which went down like a tonne of bricks, was that he quite simply asked 24 people to predict 6 numbers, then he added up the total for each one, divided it by 24 and voila, somehow that led him to predict the lottery.\n",
    "\n",
    "The analysis of winning numbers of Irish lotto find the most frequent winning numbers."
   ]
  },
  {
   "cell_type": "code",
   "execution_count": 24,
   "metadata": {
    "collapsed": false
   },
   "outputs": [],
   "source": [
    "# https://stackoverflow.com/questions/6987285/python-find-the-item-with-maximum-occurrences-in-a-list\n",
    "\n",
    "# https://stackoverflow.com/questions/1518522/python-most-common-element-in-a-list\n",
    "\n",
    "#Select the numbers only and convert to a list\n",
    "df_ball = df.drop(['Date','Bonus'], axis=1)\n"
   ]
  },
  {
   "cell_type": "code",
   "execution_count": 25,
   "metadata": {
    "collapsed": false
   },
   "outputs": [],
   "source": [
    "list_ball = list(df_ball.values.T.flatten())"
   ]
  },
  {
   "cell_type": "code",
   "execution_count": 26,
   "metadata": {
    "collapsed": false
   },
   "outputs": [],
   "source": [
    "## The maximum occurance of number in the list of numbers\n",
    "from collections import Counter\n",
    "most_common,num_most_common = Counter(list_ball).most_common(1)[0]"
   ]
  },
  {
   "cell_type": "code",
   "execution_count": 27,
   "metadata": {
    "collapsed": false
   },
   "outputs": [
    {
     "name": "stdout",
     "output_type": "stream",
     "text": [
      "10\n",
      "38\n"
     ]
    }
   ],
   "source": [
    "print(most_common)\n",
    "print(num_most_common)\n"
   ]
  },
  {
   "cell_type": "code",
   "execution_count": 28,
   "metadata": {
    "collapsed": false
   },
   "outputs": [
    {
     "data": {
      "text/plain": [
       "[(10, 38), (7, 35), (27, 35), (16, 34), (2, 33), (18, 32)]"
      ]
     },
     "execution_count": 28,
     "metadata": {},
     "output_type": "execute_result"
    }
   ],
   "source": [
    "#https://stackoverflow.com/questions/3594514/how-to-find-most-common-elements-of-a-list\n",
    "# find the 6 most common numbers in the list\n",
    "most_common_6 = Counter(list_ball).most_common(6)\n",
    "most_common_6"
   ]
  },
  {
   "cell_type": "code",
   "execution_count": 29,
   "metadata": {
    "collapsed": false
   },
   "outputs": [
    {
     "name": "stdout",
     "output_type": "stream",
     "text": [
      "[10, 7, 27, 16, 2, 18, 42, 45, 6, 15, 1, 17, 40, 9, 22, 28, 29, 31, 34, 5, 25, 32, 43, 8, 20, 38, 47, 4, 19, 37, 41, 11, 12, 14, 39, 44, 46, 30, 36, 3, 24, 26, 21, 23, 13, 33, 35]\n",
      "{1: 30, 2: 33, 3: 22, 4: 26, 5: 28, 6: 31, 7: 35, 8: 27, 9: 29, 10: 38, 11: 25, 12: 25, 13: 18, 14: 25, 15: 31, 16: 34, 17: 30, 18: 32, 19: 26, 20: 27, 21: 20, 22: 29, 23: 20, 24: 21, 25: 28, 26: 21, 27: 35, 28: 29, 29: 29, 30: 23, 31: 29, 32: 28, 33: 18, 34: 29, 35: 17, 36: 23, 37: 26, 38: 27, 39: 25, 40: 30, 41: 26, 42: 32, 43: 28, 44: 24, 45: 32, 46: 24, 47: 27}\n"
     ]
    }
   ],
   "source": [
    "number_counter = {}\n",
    "for number in list_ball:\n",
    "    if number in number_counter:\n",
    "        number_counter[number] += 1\n",
    "    else:\n",
    "        number_counter[number] = 1\n",
    " \n",
    "popular_numbers = sorted(number_counter, key = number_counter.get, reverse = True)\n",
    " \n",
    "print(popular_numbers)\n",
    "print(number_counter)"
   ]
  },
  {
   "cell_type": "code",
   "execution_count": 86,
   "metadata": {
    "collapsed": false
   },
   "outputs": [
    {
     "data": {
      "image/png": "[encoded data removed]",
      "text/plain": [
       "<matplotlib.figure.Figure at 0x291000722b0>"
      ]
     },
     "metadata": {},
     "output_type": "display_data"
    }
   ],
   "source": [
    "#for plot of the most popular numbers\n",
    "import matplotlib.pyplot as plt\n",
    "%matplotlib inline\n",
    "\n",
    "#lists = sorted(number_counter.items()) # sorted by key, return a list of tuples\n",
    "x, y = zip(*number_counter.items()) # unpack a list of pairs into two tuples\n",
    "\n",
    "plt.plot(x, y)\n",
    "plt.ylabel('times')\n",
    "plt.xlabel(\"Numbers\")\n",
    "plt.title(\"Ocuurance of numbers\")\n",
    "\n",
    "plt.show()"
   ]
  },
  {
   "cell_type": "code",
   "execution_count": 32,
   "metadata": {
    "collapsed": false
   },
   "outputs": [
    {
     "name": "stdout",
     "output_type": "stream",
     "text": [
      "10\t: \t 38 times\n",
      "7\t: \t 35 times\n",
      "27\t: \t 35 times\n",
      "16\t: \t 34 times\n",
      "2\t: \t 33 times\n",
      "18\t: \t 32 times\n",
      "42\t: \t 32 times\n",
      "45\t: \t 32 times\n",
      "6\t: \t 31 times\n",
      "15\t: \t 31 times\n",
      "1\t: \t 30 times\n",
      "17\t: \t 30 times\n",
      "40\t: \t 30 times\n",
      "9\t: \t 29 times\n",
      "22\t: \t 29 times\n",
      "28\t: \t 29 times\n",
      "29\t: \t 29 times\n",
      "31\t: \t 29 times\n",
      "34\t: \t 29 times\n",
      "5\t: \t 28 times\n",
      "25\t: \t 28 times\n",
      "32\t: \t 28 times\n",
      "43\t: \t 28 times\n",
      "8\t: \t 27 times\n",
      "20\t: \t 27 times\n",
      "38\t: \t 27 times\n",
      "47\t: \t 27 times\n",
      "4\t: \t 26 times\n",
      "19\t: \t 26 times\n",
      "37\t: \t 26 times\n",
      "41\t: \t 26 times\n",
      "11\t: \t 25 times\n",
      "12\t: \t 25 times\n",
      "14\t: \t 25 times\n",
      "39\t: \t 25 times\n",
      "44\t: \t 24 times\n",
      "46\t: \t 24 times\n",
      "30\t: \t 23 times\n",
      "36\t: \t 23 times\n",
      "3\t: \t 22 times\n",
      "24\t: \t 21 times\n",
      "26\t: \t 21 times\n",
      "21\t: \t 20 times\n",
      "23\t: \t 20 times\n",
      "13\t: \t 18 times\n",
      "33\t: \t 18 times\n",
      "35\t: \t 17 times\n"
     ]
    }
   ],
   "source": [
    "#print the dictionary with sorted values\n",
    "dictionary_numbers_sorted_keys = sorted(dictionary_numbers, key=dictionary_numbers.get, reverse=True)\n",
    "for r in dictionary_numbers_sorted_keys:\n",
    "    print (\"{}\\t: \\t {} times\".format(r, dictionary_numbers[r]))"
   ]
  },
  {
   "cell_type": "markdown",
   "metadata": {},
   "source": [
    "#### Picking the most commonly drawn numbers\n",
    "\n",
    "One approach would be to choose the numbers that come up most often. At the moment the most frequently drawn ball is the number 10 which has come 38 times.\n",
    "The other numbers are:\n",
    "\n",
    "* 7\t: \t 35 times\n",
    "* 27\t: \t 35 times\n",
    "* 16\t: \t 34 times\n",
    "* 2\t: \t 33 times\n",
    "* 18\t: \t 32 times\n",
    "* 42\t: \t 32 times\n",
    "* 45\t: \t 32 times\n"
   ]
  },
  {
   "cell_type": "markdown",
   "metadata": {},
   "source": [
    "Their frequency of appearance is no indication that they will be drawn together. In fact, the chance of these numbers cropping up in a winning combination is the same as any other set of six.\n",
    "\n",
    "\n",
    "However,you can observe certain number appear more often than other number. "
   ]
  },
  {
   "cell_type": "code",
   "execution_count": 148,
   "metadata": {
    "collapsed": false
   },
   "outputs": [
    {
     "data": {
      "text/plain": [
       "35    10\n",
       "13     8\n",
       "9      8\n",
       "31     8\n",
       "3      7\n",
       "5      7\n",
       "16     6\n",
       "17     6\n",
       "19     6\n",
       "7      6\n",
       "29     6\n",
       "47     6\n",
       "37     6\n",
       "39     6\n",
       "44     6\n",
       "40     6\n",
       "41     5\n",
       "6      5\n",
       "28     5\n",
       "34     5\n",
       "22     5\n",
       "20     5\n",
       "4      4\n",
       "14     4\n",
       "45     4\n",
       "43     4\n",
       "18     4\n",
       "46     4\n",
       "21     4\n",
       "27     4\n",
       "10     4\n",
       "38     4\n",
       "30     4\n",
       "8      3\n",
       "23     3\n",
       "12     3\n",
       "15     3\n",
       "32     3\n",
       "1      3\n",
       "24     2\n",
       "25     2\n",
       "33     2\n",
       "42     2\n",
       "2      2\n",
       "11     1\n",
       "36     1\n",
       "Name: Bonus, dtype: int64"
      ]
     },
     "execution_count": 148,
     "metadata": {},
     "output_type": "execute_result"
    }
   ],
   "source": [
    "#counts of unique values for the bonus to find the most occuring numbers\n",
    "df['Bonus'].value_counts()"
   ]
  },
  {
   "cell_type": "markdown",
   "metadata": {},
   "source": [
    "#### Hence, 35 , 13, 9,31 are the most common winning bonus numbers.\n"
   ]
  },
  {
   "cell_type": "markdown",
   "metadata": {},
   "source": [
    "### The lottery selects random numbers. \n",
    "You can generate 10,000,000 numbers between ranges of 1 and 47 and calculate the mean.\n",
    "\n"
   ]
  },
  {
   "cell_type": "code",
   "execution_count": 136,
   "metadata": {
    "collapsed": false
   },
   "outputs": [
    {
     "name": "stdout",
     "output_type": "stream",
     "text": [
      "23.4952555\n",
      "13.2755829661\n"
     ]
    }
   ],
   "source": [
    "import random\n",
    "list_random = np.random.randint(1,47, size=10000000)\n",
    "print(np.mean(list_random))\n",
    "print(np.std(list_random))"
   ]
  },
  {
   "cell_type": "markdown",
   "metadata": {},
   "source": [
    "#### Mean of winning numbers from last two years"
   ]
  },
  {
   "cell_type": "code",
   "execution_count": 37,
   "metadata": {
    "collapsed": false
   },
   "outputs": [
    {
     "data": {
      "text/plain": [
       "23.570754716981131"
      ]
     },
     "execution_count": 37,
     "metadata": {},
     "output_type": "execute_result"
    }
   ],
   "source": [
    "#mean\n",
    "np.mean(list_ball)"
   ]
  },
  {
   "cell_type": "code",
   "execution_count": 38,
   "metadata": {
    "collapsed": false
   },
   "outputs": [
    {
     "data": {
      "text/plain": [
       "13.737419404066852"
      ]
     },
     "execution_count": 38,
     "metadata": {},
     "output_type": "execute_result"
    }
   ],
   "source": [
    "#standard deviation\n",
    "np.std(list_ball)"
   ]
  },
  {
   "cell_type": "markdown",
   "metadata": {},
   "source": [
    "### This shows that both random generated numbers and the winning numbers from last 2 years have an approximate mean of 23 and standard deviation of 13."
   ]
  },
  {
   "cell_type": "code",
   "execution_count": 52,
   "metadata": {
    "collapsed": false
   },
   "outputs": [
    {
     "data": {
      "text/plain": [
       "23.0"
      ]
     },
     "execution_count": 52,
     "metadata": {},
     "output_type": "execute_result"
    }
   ],
   "source": [
    "np.median(list_ball)"
   ]
  },
  {
   "cell_type": "markdown",
   "metadata": {},
   "source": [
    "### Analysis of winning numbers of the Irish Lotto\n",
    "\n",
    "Assuming normal probability distribution you can use the Z value to calculate the number that is one standard deviation from the means. \n"
   ]
  },
  {
   "cell_type": "markdown",
   "metadata": {},
   "source": [
    "\n",
    "##### Assumption : \n",
    "The calculation of the population of all lotto numbers is normally distributed with a mean equal to 23 and a standard deviation equal to 14.\n",
    "\n",
    "###### Investigate the validity by calculating the probability of the number X.\n",
    "\n",
    "You can select the two most winning numbers : 10 and 42 . i.e P(10 <= x => 42). This probability is the area between 10 and 42 under the normal table. \n",
    "\n",
    "We can claculate the Z-score or standard score"
   ]
  },
  {
   "cell_type": "markdown",
   "metadata": {},
   "source": [
    "The basic z score formula for a sample is:\n",
    "z = (x – μ) / σ\n",
    "\n"
   ]
  },
  {
   "cell_type": "code",
   "execution_count": 147,
   "metadata": {
    "collapsed": false
   },
   "outputs": [
    {
     "name": "stdout",
     "output_type": "stream",
     "text": [
      "10 is  -0.9285714285714286 standard deviation below the mean m = 23\n",
      "42 is 1.3571428571428572 standard deviation above the mean m = 23\n"
     ]
    }
   ],
   "source": [
    "z_10 = (10 - 23) / 14\n",
    "z_42 = (42-23) / 14\n",
    "print(\"10 is  {} standard deviation below the mean m = 23\".format(z_10))\n",
    "print(\"42 is {} standard deviation above the mean m = 23\".format(z_42))"
   ]
  },
  {
   "cell_type": "markdown",
   "metadata": {},
   "source": [
    "The area between 10 and 42 under a normal curve having mean m = 23 and standard deviation d = 14 equal the area between -0.92 and 1.35 under the standard normal curve.This equals the area between –0.92 and 0 plus the area between 0 and 1.35.\n",
    "\n",
    "Z is the standard normal random variable. The table value for Z is the value of the cumulative normal distribution at z. \n",
    "\n",
    "The [normal table](http://www.statisticshowto.com/tables/z-table/) tells us that the area between –0.92 and 0 , which equal the area between –0.92 and 0 is 0.3212. \n",
    "The normal table also tells that the area between 0 and 1.35, which equal the area between 0 and –1.35 is 0.4115. \n",
    "Hence, the probability is 0.3212 + .4118 = .7327\n",
    "\n",
    "### This probability states that 73.27 percent of all of the numbera are between 10 and 42.\n",
    "\n",
    "Please leave any comment or [queries](http://adataanalyst.com/about-me/). "
   ]
  },
  {
   "cell_type": "code",
   "execution_count": null,
   "metadata": {
    "collapsed": true
   },
   "outputs": [],
   "source": []
  }
 ],
 "metadata": {
  "anaconda-cloud": {},
  "kernelspec": {
   "display_name": "Python [default]",
   "language": "python",
   "name": "python3"
  },
  "language_info": {
   "codemirror_mode": {
    "name": "ipython",
    "version": 3
   },
   "file_extension": ".py",
   "mimetype": "text/x-python",
   "name": "python",
   "nbconvert_exporter": "python",
   "pygments_lexer": "ipython3",
   "version": "3.5.1"
  }
 },
 "nbformat": 4,
 "nbformat_minor": 1
}
