{
 "cells": [
  {
   "cell_type": "markdown",
   "metadata": {},
   "source": [
    "In this blog we will be predicting NBA 2017 winners with Decision Trees in scikit learn.The National Basketball Association (NBA) is the major men's professional basketball league in North America, and is widely considered to be the premier men's professional basketball league in the world. It has 30 teams (29 in the United States and 1 in Canada). The data is available at \n",
    "https://www.basketball-reference.com/leagues/NBA_2017_games-october.html. I have assembled the data in a csv file and available in my github folder. This blog is influenced by [this book](https://www.packtpub.com/big-data-and-business-intelligence/learning-data-mining-python).\n",
    "\n",
    "During the [regular season](https://en.wikipedia.org/wiki/National_Basketball_Association#Regular_season), each team plays 82 games, 41 each home and away. A team faces opponents in its own division four times a year (16 games). Each team plays six of the teams from the other two divisions in its conference four times (24 games), and the remaining four teams three times (12 games). Finally, each team plays all the teams in the other conference twice apiece (30 games). \n"
   ]
  },
  {
   "cell_type": "code",
   "execution_count": 1,
   "metadata": {
    "collapsed": true
   },
   "outputs": [],
   "source": [
    "#Import the dataset and parse dates\n",
    "import pandas as pd\n",
    "df = pd.read_csv(\"NBA_2017_regularGames.csv\",parse_dates=[\"Date\"])"
   ]
  },
  {
   "cell_type": "code",
   "execution_count": 2,
   "metadata": {
    "collapsed": false
   },
   "outputs": [
    {
     "data": {
      "text/html": [
       "<div>\n",
       "<table border=\"1\" class=\"dataframe\">\n",
       "  <thead>\n",
       "    <tr style=\"text-align: right;\">\n",
       "      <th></th>\n",
       "      <th>Date</th>\n",
       "      <th>Start (ET)</th>\n",
       "      <th>Visitor/Neutral</th>\n",
       "      <th>PTS</th>\n",
       "      <th>Home/Neutral</th>\n",
       "      <th>PTS.1</th>\n",
       "      <th>Unnamed: 6</th>\n",
       "      <th>Unnamed: 7</th>\n",
       "      <th>Notes</th>\n",
       "    </tr>\n",
       "  </thead>\n",
       "  <tbody>\n",
       "    <tr>\n",
       "      <th>0</th>\n",
       "      <td>2016-10-25</td>\n",
       "      <td>7:30 pm</td>\n",
       "      <td>New York Knicks</td>\n",
       "      <td>88</td>\n",
       "      <td>Cleveland Cavaliers</td>\n",
       "      <td>117</td>\n",
       "      <td>Box Score</td>\n",
       "      <td>NaN</td>\n",
       "      <td>NaN</td>\n",
       "    </tr>\n",
       "    <tr>\n",
       "      <th>1</th>\n",
       "      <td>2016-10-25</td>\n",
       "      <td>10:30 pm</td>\n",
       "      <td>San Antonio Spurs</td>\n",
       "      <td>129</td>\n",
       "      <td>Golden State Warriors</td>\n",
       "      <td>100</td>\n",
       "      <td>Box Score</td>\n",
       "      <td>NaN</td>\n",
       "      <td>NaN</td>\n",
       "    </tr>\n",
       "  </tbody>\n",
       "</table>\n",
       "</div>"
      ],
      "text/plain": [
       "        Date Start (ET)    Visitor/Neutral  PTS           Home/Neutral  PTS.1  \\\n",
       "0 2016-10-25    7:30 pm    New York Knicks   88    Cleveland Cavaliers    117   \n",
       "1 2016-10-25   10:30 pm  San Antonio Spurs  129  Golden State Warriors    100   \n",
       "\n",
       "  Unnamed: 6 Unnamed: 7 Notes  \n",
       "0  Box Score        NaN   NaN  \n",
       "1  Box Score        NaN   NaN  "
      ]
     },
     "execution_count": 2,
     "metadata": {},
     "output_type": "execute_result"
    }
   ],
   "source": [
    "df.head(2)"
   ]
  },
  {
   "cell_type": "markdown",
   "metadata": {},
   "source": [
    "###### The columns names are not clear. Therefore, we will rename the column names."
   ]
  },
  {
   "cell_type": "code",
   "execution_count": 3,
   "metadata": {
    "collapsed": true
   },
   "outputs": [],
   "source": [
    "#Rename the columns\n",
    "df.columns = [\"Date\",\"Time\",\"Visitor Team\",\"Visitor Points\",\"Home Team\",\"Home Points\",\"Score Type\",\"Extra Time\",\"Notes\"]"
   ]
  },
  {
   "cell_type": "code",
   "execution_count": 4,
   "metadata": {
    "collapsed": false
   },
   "outputs": [
    {
     "data": {
      "text/html": [
       "<div>\n",
       "<table border=\"1\" class=\"dataframe\">\n",
       "  <thead>\n",
       "    <tr style=\"text-align: right;\">\n",
       "      <th></th>\n",
       "      <th>Date</th>\n",
       "      <th>Time</th>\n",
       "      <th>Visitor Team</th>\n",
       "      <th>Visitor Points</th>\n",
       "      <th>Home Team</th>\n",
       "      <th>Home Points</th>\n",
       "      <th>Score Type</th>\n",
       "      <th>Extra Time</th>\n",
       "      <th>Notes</th>\n",
       "    </tr>\n",
       "  </thead>\n",
       "  <tbody>\n",
       "    <tr>\n",
       "      <th>0</th>\n",
       "      <td>2016-10-25</td>\n",
       "      <td>7:30 pm</td>\n",
       "      <td>New York Knicks</td>\n",
       "      <td>88</td>\n",
       "      <td>Cleveland Cavaliers</td>\n",
       "      <td>117</td>\n",
       "      <td>Box Score</td>\n",
       "      <td>NaN</td>\n",
       "      <td>NaN</td>\n",
       "    </tr>\n",
       "    <tr>\n",
       "      <th>1</th>\n",
       "      <td>2016-10-25</td>\n",
       "      <td>10:30 pm</td>\n",
       "      <td>San Antonio Spurs</td>\n",
       "      <td>129</td>\n",
       "      <td>Golden State Warriors</td>\n",
       "      <td>100</td>\n",
       "      <td>Box Score</td>\n",
       "      <td>NaN</td>\n",
       "      <td>NaN</td>\n",
       "    </tr>\n",
       "  </tbody>\n",
       "</table>\n",
       "</div>"
      ],
      "text/plain": [
       "        Date      Time       Visitor Team  Visitor Points  \\\n",
       "0 2016-10-25   7:30 pm    New York Knicks              88   \n",
       "1 2016-10-25  10:30 pm  San Antonio Spurs             129   \n",
       "\n",
       "               Home Team  Home Points Score Type Extra Time Notes  \n",
       "0    Cleveland Cavaliers          117  Box Score        NaN   NaN  \n",
       "1  Golden State Warriors          100  Box Score        NaN   NaN  "
      ]
     },
     "execution_count": 4,
     "metadata": {},
     "output_type": "execute_result"
    }
   ],
   "source": [
    "df.head(2)"
   ]
  },
  {
   "cell_type": "markdown",
   "metadata": {},
   "source": [
    "From the description of how games are played, we can compute a chance rate. In each match, the home team and visitor team has a probability to win half of the time\n",
    "\n",
    "###### Prediction Class\n",
    "In the following code we will specify our classification class. This will helps us to see if the prediction from the decision tree classifier is correct or not. We will specify our class as 1 if the home team wins and 0 if the visitor\n",
    "team wins in another column called \"Home Team Win\". "
   ]
  },
  {
   "cell_type": "code",
   "execution_count": 5,
   "metadata": {
    "collapsed": true
   },
   "outputs": [],
   "source": [
    "df[\"Home Team Win\"] = df[\"Visitor Points\"] < df[\"Home Points\"]"
   ]
  },
  {
   "cell_type": "code",
   "execution_count": 6,
   "metadata": {
    "collapsed": false
   },
   "outputs": [
    {
     "name": "stdout",
     "output_type": "stream",
     "text": [
      "Home Team Win percentage: 58.4%\n"
     ]
    }
   ],
   "source": [
    "print(\"Home Team Win percentage: {0:.1f}%\".format(100 * df[\"Home Team Win\"].sum() / df[\"Home Team Win\"].count()))"
   ]
  },
  {
   "cell_type": "markdown",
   "metadata": {},
   "source": [
    "###### Separate the classification class"
   ]
  },
  {
   "cell_type": "code",
   "execution_count": 7,
   "metadata": {
    "collapsed": true
   },
   "outputs": [],
   "source": [
    "y_true = df[\"Home Team Win\"].values"
   ]
  },
  {
   "cell_type": "code",
   "execution_count": 8,
   "metadata": {
    "collapsed": false
   },
   "outputs": [
    {
     "data": {
      "text/plain": [
       "array([ True, False,  True, ...,  True, False,  True], dtype=bool)"
      ]
     },
     "execution_count": 8,
     "metadata": {},
     "output_type": "execute_result"
    }
   ],
   "source": [
    "#The array now holds our class values in a format that scikit-learn can read.\n",
    "y_true"
   ]
  },
  {
   "cell_type": "markdown",
   "metadata": {},
   "source": [
    "##### Feature Engineering"
   ]
  },
  {
   "cell_type": "markdown",
   "metadata": {},
   "source": [
    "We will create the following features to help us in predicting NBA 2017 winners.\n",
    "\n",
    "1. Whether either of the visitor or home team won their last game. \n",
    "2. Which team is considered better generally?\n",
    "3. Which team won their last encounter?\n",
    "\n"
   ]
  },
  {
   "cell_type": "code",
   "execution_count": 9,
   "metadata": {
    "collapsed": true
   },
   "outputs": [],
   "source": [
    "# Let's try see which team is better on the ladder. Using the previous year's ladder\n",
    "#https://www.basketball-reference.com/leagues/NBA_2016_standings.html\n",
    "standing = pd.read_csv(\"ExapandedStanding.csv\")"
   ]
  },
  {
   "cell_type": "code",
   "execution_count": 30,
   "metadata": {
    "collapsed": false
   },
   "outputs": [],
   "source": [
    "df[\"Home Last Win\"] = False\n",
    "df[\"Visitor Last Win\"] = False\n",
    "from collections import defaultdict\n",
    "won_last = defaultdict(int)\n",
    "for index, row in df.iterrows():\n",
    "    home_team = row[\"Home Team\"]\n",
    "    visitor_team = row[\"Visitor Team\"]\n",
    "    row[\"Home Last Win\"] = won_last[home_team]\n",
    "    row[\"Visitor Last Win\"] = won_last[visitor_team]\n",
    "    df.ix[index] = row\n",
    "    #We then set our dictionary with the each team's result (from this row) for the next\n",
    "    #time we see these teams.\n",
    "    #Set current Win\n",
    "    won_last[home_team] = row[\"Home Team Win\"]\n",
    "    won_last[visitor_team] = not row[\"Home Team Win\"]"
   ]
  },
  {
   "cell_type": "code",
   "execution_count": 20,
   "metadata": {
    "collapsed": false
   },
   "outputs": [],
   "source": [
    "#Which team won their last encounter\n",
    "\n",
    "df[\"Home Win Streak\"] = 0\n",
    "df[\"Visitor Win Streak\"] = 0\n",
    "win_streak = defaultdict(int)\n",
    "\n",
    "for index, row in df.iterrows():\n",
    "    home_team = row[\"Home Team\"]\n",
    "    visitor_team = row[\"Visitor Team\"]\n",
    "    row[\"Home Win Streak\"] = win_streak[home_team]\n",
    "    row[\"Visitor Win Streak\"] = win_streak[visitor_team]\n",
    "    df.ix[index] = row    \n",
    "    # Set current win\n",
    "    if row[\"Home Team Win\"]:\n",
    "        win_streak[home_team] += 1\n",
    "        win_streak[visitor_team] = 0\n",
    "    else:\n",
    "        win_streak[home_team] = 0\n",
    "        win_streak[visitor_team] += 1"
   ]
  },
  {
   "cell_type": "code",
   "execution_count": 25,
   "metadata": {
    "collapsed": true
   },
   "outputs": [],
   "source": [
    "# The standing of the team\n",
    "df[\"Home Team Ranks Higher\"] = 0\n",
    "for index , row in df.iterrows():\n",
    "    home_team = row[\"Home Team\"]\n",
    "    visitor_team = row[\"Visitor Team\"]\n",
    "    home_rank = standing[standing[\"Team\"] == home_team][\"Rk\"].values[0]\n",
    "    visitor_rank = standing[standing[\"Team\"] == visitor_team][\"Rk\"].values[0]\n",
    "    row[\"Home Team Rank Higher\"] = int(home_rank > visitor_rank)\n",
    "    df.ix[index] = row\n"
   ]
  },
  {
   "cell_type": "code",
   "execution_count": 26,
   "metadata": {
    "collapsed": false
   },
   "outputs": [],
   "source": [
    "# Which team won their last encounter team regardless of playing at home\n",
    "last_match_winner = defaultdict(int)\n",
    "df[\"Home Team Won Last\"] = 0\n",
    "for index , row in df.iterrows():\n",
    "    home_team = row[\"Home Team\"]\n",
    "    visitor_team = row[\"Visitor Team\"]\n",
    "    teams = tuple(sorted([home_team, visitor_team]))\n",
    "    \n",
    "    row[\"Home Team Won Last\"] = 1 if last_match_winner[teams] == row[\"Home Team\"] else 0\n",
    "    df.ix[index] = row\n",
    "    # Who won this one?\n",
    "    winner = row[\"Home Team\"] if row[\"Home Team Win\"] else row[\"Visitor Team\"]\n",
    "    last_match_winner[teams] = winner"
   ]
  },
  {
   "cell_type": "markdown",
   "metadata": {},
   "source": [
    "#### Let us look at the new dataset"
   ]
  },
  {
   "cell_type": "code",
   "execution_count": 101,
   "metadata": {
    "collapsed": false
   },
   "outputs": [
    {
     "data": {
      "text/html": [
       "<div>\n",
       "<table border=\"1\" class=\"dataframe\">\n",
       "  <thead>\n",
       "    <tr style=\"text-align: right;\">\n",
       "      <th></th>\n",
       "      <th>Date</th>\n",
       "      <th>Time</th>\n",
       "      <th>Visitor Team</th>\n",
       "      <th>Visitor Points</th>\n",
       "      <th>Home Team</th>\n",
       "      <th>Home Points</th>\n",
       "      <th>Score Type</th>\n",
       "      <th>Extra Time</th>\n",
       "      <th>Notes</th>\n",
       "      <th>Home Team Win</th>\n",
       "      <th>Home Win Streak</th>\n",
       "      <th>Visitor Win Streak</th>\n",
       "      <th>Home Team Ranks Higher</th>\n",
       "      <th>Home Team Won Last</th>\n",
       "      <th>Home Last Win</th>\n",
       "      <th>Visitor Last Win</th>\n",
       "    </tr>\n",
       "  </thead>\n",
       "  <tbody>\n",
       "    <tr>\n",
       "      <th>0</th>\n",
       "      <td>2016-10-25</td>\n",
       "      <td>7:30 pm</td>\n",
       "      <td>New York Knicks</td>\n",
       "      <td>88</td>\n",
       "      <td>Cleveland Cavaliers</td>\n",
       "      <td>117</td>\n",
       "      <td>Box Score</td>\n",
       "      <td>NaN</td>\n",
       "      <td>NaN</td>\n",
       "      <td>True</td>\n",
       "      <td>0</td>\n",
       "      <td>0</td>\n",
       "      <td>0</td>\n",
       "      <td>0</td>\n",
       "      <td>False</td>\n",
       "      <td>False</td>\n",
       "    </tr>\n",
       "    <tr>\n",
       "      <th>1</th>\n",
       "      <td>2016-10-25</td>\n",
       "      <td>10:30 pm</td>\n",
       "      <td>San Antonio Spurs</td>\n",
       "      <td>129</td>\n",
       "      <td>Golden State Warriors</td>\n",
       "      <td>100</td>\n",
       "      <td>Box Score</td>\n",
       "      <td>NaN</td>\n",
       "      <td>NaN</td>\n",
       "      <td>False</td>\n",
       "      <td>0</td>\n",
       "      <td>0</td>\n",
       "      <td>0</td>\n",
       "      <td>0</td>\n",
       "      <td>False</td>\n",
       "      <td>False</td>\n",
       "    </tr>\n",
       "  </tbody>\n",
       "</table>\n",
       "</div>"
      ],
      "text/plain": [
       "        Date      Time       Visitor Team  Visitor Points  \\\n",
       "0 2016-10-25   7:30 pm    New York Knicks              88   \n",
       "1 2016-10-25  10:30 pm  San Antonio Spurs             129   \n",
       "\n",
       "               Home Team  Home Points Score Type Extra Time Notes  \\\n",
       "0    Cleveland Cavaliers          117  Box Score        NaN   NaN   \n",
       "1  Golden State Warriors          100  Box Score        NaN   NaN   \n",
       "\n",
       "  Home Team Win  Home Win Streak  Visitor Win Streak  Home Team Ranks Higher  \\\n",
       "0          True                0                   0                       0   \n",
       "1         False                0                   0                       0   \n",
       "\n",
       "   Home Team Won Last Home Last Win Visitor Last Win  \n",
       "0                   0         False            False  \n",
       "1                   0         False            False  "
      ]
     },
     "execution_count": 101,
     "metadata": {},
     "output_type": "execute_result"
    }
   ],
   "source": [
    "df.head(2)"
   ]
  },
  {
   "cell_type": "markdown",
   "metadata": {},
   "source": [
    "The scikit-learn package implements the CART (Classification and Regression\n",
    "Trees) algorithm as its default [decision tree class](http://scikit-learn.org/stable/modules/tree.html)\n",
    "\n",
    "The decision tree implementation provides a method to stop the\n",
    "building of a tree to prevent overfitting using the following options:\n",
    "\n",
    "    • min_samples_split: can create arbitrary small leaves in order to create a new node in the decision tree\n",
    "\n",
    "\n",
    "    • min_samples_leaf: guarantees a minimum number of samples in a leaf resultingfrom a node\n",
    "    \n",
    "It is recommended to use min_samples_split or min_samples_leaf to control the number of samples at a leaf node. A very small number will usually mean the tree will overfit, whereas a large number will prevent the tree from learning the data. \n",
    "\n",
    "Another parameter for decision tress is the criterion for creating a decision.\n",
    "Gini impurity and Information gain are two popular ones:\n",
    "\n",
    "    • Gini impurity: measures how often a decision node would incorrectly predict a sample's class\n",
    "\n",
    "    •`Information gain: indicate how much extra information is gained by the decision node\n"
   ]
  },
  {
   "cell_type": "markdown",
   "metadata": {},
   "source": [
    "#### Feature Selection"
   ]
  },
  {
   "cell_type": "markdown",
   "metadata": {},
   "source": [
    "We extract the features from the dataset to use with our scikit-learn's DecisionTreeClassifier by specifying the columns we\n",
    "wish to use and using the values parameter of a view of the data frame. We use the cross_val_score function to test the result. "
   ]
  },
  {
   "cell_type": "code",
   "execution_count": 102,
   "metadata": {
    "collapsed": false
   },
   "outputs": [],
   "source": [
    "X_features_only = df[['Home Win Streak', 'Visitor Win Streak', 'Home Team Ranks Higher',\n",
    "       'Home Team Won Last', 'Home Last Win', 'Visitor Last Win']].values"
   ]
  },
  {
   "cell_type": "code",
   "execution_count": 103,
   "metadata": {
    "collapsed": false
   },
   "outputs": [
    {
     "name": "stdout",
     "output_type": "stream",
     "text": [
      "[ 0.55961071  0.54878049  0.57212714]\n",
      "Using just the last result from the home and visitor teams\n",
      "Accuracy: 56.0%\n"
     ]
    }
   ],
   "source": [
    "import numpy as np\n",
    "from sklearn.tree import DecisionTreeClassifier\n",
    "clf = DecisionTreeClassifier(random_state=14)\n",
    "from sklearn.model_selection import cross_val_score\n",
    "\n",
    "scores = cross_val_score(clf, X_features_only, y_true, scoring='accuracy')\n",
    "print(scores)\n",
    "print(\"Using just the last result from the home and visitor teams\")\n",
    "print(\"Accuracy: {0:.1f}%\".format(np.mean(scores) * 100))"
   ]
  },
  {
   "cell_type": "markdown",
   "metadata": {},
   "source": [
    "The accuracy drops to 56% by just selecting the features we made. Is it possible to increase the accuracy by adding more features."
   ]
  },
  {
   "cell_type": "code",
   "execution_count": 46,
   "metadata": {
    "collapsed": false
   },
   "outputs": [],
   "source": [
    "from sklearn.preprocessing import LabelEncoder, OneHotEncoder\n",
    "encoding = LabelEncoder()\n",
    "#We will fit this transformer to the home teams so that it learns an integer\n",
    "#representation for each team\n",
    "encoding.fit(df[\"Home Team\"].values)\n",
    "\n",
    "home_teams = encoding.transform(df[\"Home Team\"].values)\n",
    "visitor_teams = encoding.transform(df[\"Visitor Team\"].values)\n",
    "X_teams = np.vstack([home_teams, visitor_teams]).T\n",
    "\n",
    "#we use the OneHotEncoder transformer to encode \n",
    "\n",
    "onehot = OneHotEncoder()\n",
    "#We fit and transform \n",
    "X_teams = onehot.fit_transform(X_teams).todense()\n",
    "\n"
   ]
  },
  {
   "cell_type": "code",
   "execution_count": 93,
   "metadata": {
    "collapsed": false
   },
   "outputs": [
    {
     "name": "stdout",
     "output_type": "stream",
     "text": [
      "Accuracy: 56.6%\n"
     ]
    }
   ],
   "source": [
    "X_all = np.hstack([X_features_only, X_teams])\n",
    "\n",
    "#we run the decision tree on the new dataset\n",
    "clf = DecisionTreeClassifier(random_state=14)\n",
    "scores = cross_val_score(clf, X_all, y_true, scoring='accuracy')\n",
    "print(\"Accuracy: {0:.1f}%\".format(np.mean(scores) * 100))"
   ]
  },
  {
   "cell_type": "code",
   "execution_count": 87,
   "metadata": {
    "collapsed": true
   },
   "outputs": [],
   "source": [
    "from sklearn.model_selection import train_test_split\n",
    "from sklearn.metrics import classification_report\n",
    "import sklearn.metrics"
   ]
  },
  {
   "cell_type": "code",
   "execution_count": 88,
   "metadata": {
    "collapsed": true
   },
   "outputs": [],
   "source": [
    "X_small = df[['Home Team Ranks Higher', 'Home Win Streak']]\n",
    "pred_train, pred_test, tar_train, tar_test  =   train_test_split(X_small, y_true, test_size=.4)\n"
   ]
  },
  {
   "cell_type": "code",
   "execution_count": 89,
   "metadata": {
    "collapsed": false
   },
   "outputs": [
    {
     "data": {
      "text/plain": [
       "array([[  1, 195],\n",
       "       [  1, 295]])"
      ]
     },
     "execution_count": 89,
     "metadata": {},
     "output_type": "execute_result"
    }
   ],
   "source": [
    "#Build model on training data\n",
    "classifier=DecisionTreeClassifier()\n",
    "classifier=classifier.fit(pred_train,tar_train)\n",
    "\n",
    "predictions=classifier.predict(pred_test)\n",
    "\n",
    "sklearn.metrics.confusion_matrix(tar_test,predictions)"
   ]
  },
  {
   "cell_type": "markdown",
   "metadata": {},
   "source": [
    "Confusion Matrix shows the correct and incorrect classifications of our decision tree. The diagonal, 1,295 represent the number of true negative for home team, and the number of true positives, respectively. The 1, on the bottom left, represents the number of false negatives. And the 195 on the top right, the number of false positives. We can also look at the accuracy score which is approximately 0.602, which suggests that the decision tree model has classified 60.2% of the sample correctly as either home team winning or not."
   ]
  },
  {
   "cell_type": "code",
   "execution_count": 94,
   "metadata": {
    "collapsed": false
   },
   "outputs": [
    {
     "name": "stdout",
     "output_type": "stream",
     "text": [
      "Accuracy: 60.2%\n"
     ]
    }
   ],
   "source": [
    "sklearn.metrics.accuracy_score(tar_test, predictions)\n",
    "print(\"Accuracy: {0:.1f}%\".format(sklearn.metrics.accuracy_score(tar_test, predictions) * 100))"
   ]
  },
  {
   "cell_type": "markdown",
   "metadata": {},
   "source": [
    "##### We have an accuracy of 60.2% by selecting only these two features."
   ]
  },
  {
   "cell_type": "code",
   "execution_count": 96,
   "metadata": {
    "collapsed": true
   },
   "outputs": [],
   "source": [
    "#Displaying the decision tree\n",
    "from sklearn import tree\n",
    "#from StringIO import StringIO\n",
    "from io import StringIO\n",
    "#from StringIO import StringIO \n",
    "from IPython.display import Image\n",
    "out = StringIO()\n",
    "tree.export_graphviz(classifier, out_file=out)\n",
    "\n"
   ]
  },
  {
   "cell_type": "code",
   "execution_count": 97,
   "metadata": {
    "collapsed": false
   },
   "outputs": [
    {
     "data": {
      "image/png": "[encoded data removed]",
      "text/plain": [
       "<IPython.core.display.Image object>"
      ]
     },
     "execution_count": 97,
     "metadata": {},
     "output_type": "execute_result"
    }
   ],
   "source": [
    "import pydotplus\n",
    "graph=pydotplus.graph_from_dot_data(out.getvalue())\n",
    "Image(graph.create_png())\n"
   ]
  },
  {
   "cell_type": "markdown",
   "metadata": {},
   "source": [
    "For exploratory purposes it can be helpful to test smaller number of variables in order to first get the feel for the decision tree output.\n",
    "The resulting tree starts with the split on X, our first explanatory variable, Home Team Ranks Higher. If the value for Home Team Ranks Higher is less than 4.5, that is home team loose since our binary variable has values of false equal loss and true equal win. \n",
    "\n",
    "By default, SKLearn uses the genie index as the splitting criteria for splitting internal nodes into additional internal or terminal ones. Sometimes called parent and child nodes, as this tree is grown. The goal of the partitioning that occurs when a decision tree is grown is to recursively subdivide in such a way that the values of the target variable for the observations in the terminal or leaf nodes are as similar as possible.\n",
    "\n",
    "###### Based on the grow criteria that is selected, the growth process continues, often until it over fits the data. And is likely to perform poorly by not adequately generalizing to new data.\n",
    "\n",
    "Notably, while decision trees such as this one are easy to interpret, it's also important to recognize that small changes in the data or decisions that we make about the modeling approach lead to very different splits."
   ]
  },
  {
   "cell_type": "markdown",
   "metadata": {},
   "source": [
    "### Random forests"
   ]
  },
  {
   "cell_type": "markdown",
   "metadata": {},
   "source": [
    "Random forests averages randomly built decision trees, resulting in an algorithm that\n",
    "reduces the variance of the result. These use subsets of the features which should be able to learn more\n",
    "effectively with more features than normal decision trees. "
   ]
  },
  {
   "cell_type": "markdown",
   "metadata": {},
   "source": [
    "Random forests share many of the same\n",
    "parameters with Decision Trees such as the criterion (Gini Impurity or Entropy/Information Gain),\n",
    "max_features, and min_samples_split.\n",
    "\n",
    "Also, there are some new parameters that are used in the ensemble process:\n",
    "    \n",
    "    • n_estimators: dictates how many decision trees should be built. A higher value will take longer to run, but will (probably) result in a higher accuracy.\n",
    "    • oob_score: If true, the method is tested using samples that aren't in the random subsamples chosen for training the decision trees.\n",
    "    • n_jobs: specifies the number of cores to use when training the decision trees in parallel."
   ]
  },
  {
   "cell_type": "code",
   "execution_count": 98,
   "metadata": {
    "collapsed": false
   },
   "outputs": [
    {
     "name": "stdout",
     "output_type": "stream",
     "text": [
      "Using full team labels is ranked higher\n",
      "Accuracy: 57.2%\n"
     ]
    }
   ],
   "source": [
    "from sklearn.ensemble import RandomForestClassifier\n",
    "clf = RandomForestClassifier(random_state=14)\n",
    "scores = cross_val_score(clf, X_all, y_true, scoring='accuracy')\n",
    "print(\"Using full team labels is ranked higher\")\n",
    "print(\"Accuracy: {0:.1f}%\".format(np.mean(scores) * 100))"
   ]
  },
  {
   "cell_type": "markdown",
   "metadata": {},
   "source": [
    "##### This results in an immediate benefit of 57.2 percent by using Random Forest Classifier\n",
    "\n",
    "\n"
   ]
  },
  {
   "cell_type": "code",
   "execution_count": 99,
   "metadata": {
    "collapsed": false
   },
   "outputs": [
    {
     "name": "stdout",
     "output_type": "stream",
     "text": [
      "Accuracy: 61.5%\n"
     ]
    }
   ],
   "source": [
    "from sklearn.model_selection import GridSearchCV\n",
    "\n",
    "parameter_space = {\n",
    "\"max_features\": [2, 10, 'auto'],\n",
    "\"n_estimators\": [100,],\n",
    "\"criterion\": [\"gini\", \"entropy\"],\n",
    "\"min_samples_leaf\": [2, 4, 6],\n",
    "}\n",
    "clf = RandomForestClassifier(random_state=14)\n",
    "grid = GridSearchCV(clf, parameter_space)\n",
    "grid.fit(X_all, y_true)\n",
    "print(\"Accuracy: {0:.1f}%\".format(grid.best_score_ * 100))"
   ]
  },
  {
   "cell_type": "markdown",
   "metadata": {},
   "source": [
    "###### This has a much better accuracy of 61.5 percent!\n",
    "If we wanted to see the parameters used, we can print out the best model that was\n",
    "found in the grid search."
   ]
  },
  {
   "cell_type": "code",
   "execution_count": 100,
   "metadata": {
    "collapsed": false
   },
   "outputs": [
    {
     "name": "stdout",
     "output_type": "stream",
     "text": [
      "RandomForestClassifier(bootstrap=True, class_weight=None, criterion='entropy',\n",
      "            max_depth=None, max_features=2, max_leaf_nodes=None,\n",
      "            min_impurity_split=1e-07, min_samples_leaf=4,\n",
      "            min_samples_split=2, min_weight_fraction_leaf=0.0,\n",
      "            n_estimators=100, n_jobs=1, oob_score=False, random_state=14,\n",
      "            verbose=0, warm_start=False)\n"
     ]
    }
   ],
   "source": [
    "print(grid.best_estimator_)"
   ]
  }
 ],
 "metadata": {
  "anaconda-cloud": {},
  "kernelspec": {
   "display_name": "Python [default]",
   "language": "python",
   "name": "python3"
  },
  "language_info": {
   "codemirror_mode": {
    "name": "ipython",
    "version": 3
   },
   "file_extension": ".py",
   "mimetype": "text/x-python",
   "name": "python",
   "nbconvert_exporter": "python",
   "pygments_lexer": "ipython3",
   "version": "3.5.1"
  }
 },
 "nbformat": 4,
 "nbformat_minor": 1
}
