{
 "cells": [
  {
   "cell_type": "markdown",
   "metadata": {},
   "source": [
    "We will look at predicting the winner of games of the National\n",
    "Basketball Association (NBA). The National Basketball Association (NBA) is the major men's professional basketball league in North America, and is widely considered to be the premier men's professional basketball league in the world. It has 30 teams (29 in the United States and 1 in Canada) \n",
    "\n",
    "Various research into predicting the winner suggests that there may be an upper\n",
    "limit to sports outcome prediction accuracy which, depending on the sport, is\n",
    "between 70 percent and 80 percent accuracy.\n",
    "\n",
    "\n",
    "The data is from \n",
    "https://www.basketball-reference.com/leagues/NBA_2017_games-october.html\n",
    "assembled in a csv file"
   ]
  },
  {
   "cell_type": "code",
   "execution_count": 4,
   "metadata": {
    "collapsed": true
   },
   "outputs": [],
   "source": [
    "import pandas as pd\n",
    "dataset = pd.read_csv(\"NBA_2017_regularGames.csv\",parse_dates=[\"Date\"])"
   ]
  },
  {
   "cell_type": "code",
   "execution_count": 5,
   "metadata": {
    "collapsed": false
   },
   "outputs": [
    {
     "data": {
      "text/html": [
       "<div>\n",
       "<table border=\"1\" class=\"dataframe\">\n",
       "  <thead>\n",
       "    <tr style=\"text-align: right;\">\n",
       "      <th></th>\n",
       "      <th>Date</th>\n",
       "      <th>Start (ET)</th>\n",
       "      <th>Visitor/Neutral</th>\n",
       "      <th>PTS</th>\n",
       "      <th>Home/Neutral</th>\n",
       "      <th>PTS.1</th>\n",
       "      <th>Unnamed: 6</th>\n",
       "      <th>Unnamed: 7</th>\n",
       "      <th>Notes</th>\n",
       "    </tr>\n",
       "  </thead>\n",
       "  <tbody>\n",
       "    <tr>\n",
       "      <th>0</th>\n",
       "      <td>2016-10-25</td>\n",
       "      <td>7:30 pm</td>\n",
       "      <td>New York Knicks</td>\n",
       "      <td>88</td>\n",
       "      <td>Cleveland Cavaliers</td>\n",
       "      <td>117</td>\n",
       "      <td>Box Score</td>\n",
       "      <td>NaN</td>\n",
       "      <td>NaN</td>\n",
       "    </tr>\n",
       "    <tr>\n",
       "      <th>1</th>\n",
       "      <td>2016-10-25</td>\n",
       "      <td>10:30 pm</td>\n",
       "      <td>San Antonio Spurs</td>\n",
       "      <td>129</td>\n",
       "      <td>Golden State Warriors</td>\n",
       "      <td>100</td>\n",
       "      <td>Box Score</td>\n",
       "      <td>NaN</td>\n",
       "      <td>NaN</td>\n",
       "    </tr>\n",
       "  </tbody>\n",
       "</table>\n",
       "</div>"
      ],
      "text/plain": [
       "        Date Start (ET)    Visitor/Neutral  PTS           Home/Neutral  PTS.1  \\\n",
       "0 2016-10-25    7:30 pm    New York Knicks   88    Cleveland Cavaliers    117   \n",
       "1 2016-10-25   10:30 pm  San Antonio Spurs  129  Golden State Warriors    100   \n",
       "\n",
       "  Unnamed: 6 Unnamed: 7 Notes  \n",
       "0  Box Score        NaN   NaN  \n",
       "1  Box Score        NaN   NaN  "
      ]
     },
     "execution_count": 5,
     "metadata": {},
     "output_type": "execute_result"
    }
   ],
   "source": [
    "dataset.head(2)"
   ]
  },
  {
   "cell_type": "code",
   "execution_count": 6,
   "metadata": {
    "collapsed": true
   },
   "outputs": [],
   "source": [
    "#Rename the columns\n",
    "dataset.columns = [\"Date\",\"Time\",\"Visitor Team\",\"Visitor Points\",\"Home Team\",\"Home Points\",\"Score Type\",\"OT?\",\"Notes\"]"
   ]
  },
  {
   "cell_type": "code",
   "execution_count": 7,
   "metadata": {
    "collapsed": false
   },
   "outputs": [
    {
     "data": {
      "text/html": [
       "<div>\n",
       "<table border=\"1\" class=\"dataframe\">\n",
       "  <thead>\n",
       "    <tr style=\"text-align: right;\">\n",
       "      <th></th>\n",
       "      <th>Date</th>\n",
       "      <th>Time</th>\n",
       "      <th>Visitor Team</th>\n",
       "      <th>Visitor Points</th>\n",
       "      <th>Home Team</th>\n",
       "      <th>Home Points</th>\n",
       "      <th>Score Type</th>\n",
       "      <th>OT?</th>\n",
       "      <th>Notes</th>\n",
       "    </tr>\n",
       "  </thead>\n",
       "  <tbody>\n",
       "    <tr>\n",
       "      <th>0</th>\n",
       "      <td>2016-10-25</td>\n",
       "      <td>7:30 pm</td>\n",
       "      <td>New York Knicks</td>\n",
       "      <td>88</td>\n",
       "      <td>Cleveland Cavaliers</td>\n",
       "      <td>117</td>\n",
       "      <td>Box Score</td>\n",
       "      <td>NaN</td>\n",
       "      <td>NaN</td>\n",
       "    </tr>\n",
       "    <tr>\n",
       "      <th>1</th>\n",
       "      <td>2016-10-25</td>\n",
       "      <td>10:30 pm</td>\n",
       "      <td>San Antonio Spurs</td>\n",
       "      <td>129</td>\n",
       "      <td>Golden State Warriors</td>\n",
       "      <td>100</td>\n",
       "      <td>Box Score</td>\n",
       "      <td>NaN</td>\n",
       "      <td>NaN</td>\n",
       "    </tr>\n",
       "  </tbody>\n",
       "</table>\n",
       "</div>"
      ],
      "text/plain": [
       "        Date      Time       Visitor Team  Visitor Points  \\\n",
       "0 2016-10-25   7:30 pm    New York Knicks              88   \n",
       "1 2016-10-25  10:30 pm  San Antonio Spurs             129   \n",
       "\n",
       "               Home Team  Home Points Score Type  OT? Notes  \n",
       "0    Cleveland Cavaliers          117  Box Score  NaN   NaN  \n",
       "1  Golden State Warriors          100  Box Score  NaN   NaN  "
      ]
     },
     "execution_count": 7,
     "metadata": {},
     "output_type": "execute_result"
    }
   ],
   "source": [
    "dataset.head(2)"
   ]
  },
  {
   "cell_type": "markdown",
   "metadata": {},
   "source": [
    "Now that we have our dataset, we can compute a baseline. A baseline is an accuracy\n",
    "that indicates an easy way to get a good accuracy. Any data mining solution should\n",
    "beat this.\n",
    "\n",
    "In each match, we have two teams: a home team and a visitor team. An obvious\n",
    "baseline, called the chance rate, is 50 percent. Choosing randomly will (over time)\n",
    "result in an accuracy of 50 percent.\n",
    "\n",
    "###### Prediction Class\n",
    "We need to specify our class value, which will give\n",
    "our classification algorithm something to compare against to see if its prediction\n",
    "is correct or not. This could be encoded in a number of ways; however, for this\n",
    "application, we will specify our class as 1 if the home team wins and 0 if the visitor\n",
    "team wins. In basketball, the team with the most points wins. So, while the data set\n",
    "doesn't specify who wins, we can compute it easily."
   ]
  },
  {
   "cell_type": "code",
   "execution_count": 8,
   "metadata": {
    "collapsed": true
   },
   "outputs": [],
   "source": [
    "dataset[\"HomeWin\"] = dataset[\"Visitor Points\"] < dataset[\"Home Points\"]"
   ]
  },
  {
   "cell_type": "code",
   "execution_count": 12,
   "metadata": {
    "collapsed": false
   },
   "outputs": [
    {
     "name": "stdout",
     "output_type": "stream",
     "text": [
      "Home Win percentage: 58.4%\n"
     ]
    }
   ],
   "source": [
    "print(\"Home Win percentage: {0:.1f}%\".format(100 * dataset[\"HomeWin\"].sum() / dataset[\"HomeWin\"].count()))"
   ]
  },
  {
   "cell_type": "code",
   "execution_count": 9,
   "metadata": {
    "collapsed": true
   },
   "outputs": [],
   "source": [
    "y_true = dataset[\"HomeWin\"].values"
   ]
  },
  {
   "cell_type": "code",
   "execution_count": 10,
   "metadata": {
    "collapsed": false
   },
   "outputs": [
    {
     "data": {
      "text/plain": [
       "array([ True, False,  True, ...,  True, False,  True], dtype=bool)"
      ]
     },
     "execution_count": 10,
     "metadata": {},
     "output_type": "execute_result"
    }
   ],
   "source": [
    "#The array now holds our class values in a format that scikit-learn can read.\n",
    "y_true"
   ]
  },
  {
   "cell_type": "markdown",
   "metadata": {},
   "source": [
    "##### Feature Engineering"
   ]
  },
  {
   "cell_type": "markdown",
   "metadata": {},
   "source": [
    "The first two features we want to create to help us predict which team will win\n",
    "are whether either of those two teams won their last game. This would roughly\n",
    "approximate which team is playing well.\n",
    "\n",
    "We will compute this feature by iterating through the rows in order and recording\n",
    "which team won. When we get to a new row, we look up whether the team won the\n",
    "last time we saw them.\n",
    "\n",
    "Currently, this gives a false value to all teams (including the previous year's\n",
    "champion!) when they are first seen."
   ]
  },
  {
   "cell_type": "code",
   "execution_count": 13,
   "metadata": {
    "collapsed": false
   },
   "outputs": [
    {
     "data": {
      "text/html": [
       "<div>\n",
       "<table border=\"1\" class=\"dataframe\">\n",
       "  <thead>\n",
       "    <tr style=\"text-align: right;\">\n",
       "      <th></th>\n",
       "      <th>Date</th>\n",
       "      <th>Time</th>\n",
       "      <th>Visitor Team</th>\n",
       "      <th>Visitor Points</th>\n",
       "      <th>Home Team</th>\n",
       "      <th>Home Points</th>\n",
       "      <th>Score Type</th>\n",
       "      <th>OT?</th>\n",
       "      <th>Notes</th>\n",
       "      <th>HomeWin</th>\n",
       "      <th>HomeLastWin</th>\n",
       "      <th>VisitorLastWin</th>\n",
       "    </tr>\n",
       "  </thead>\n",
       "  <tbody>\n",
       "    <tr>\n",
       "      <th>0</th>\n",
       "      <td>2016-10-25</td>\n",
       "      <td>7:30 pm</td>\n",
       "      <td>New York Knicks</td>\n",
       "      <td>88</td>\n",
       "      <td>Cleveland Cavaliers</td>\n",
       "      <td>117</td>\n",
       "      <td>Box Score</td>\n",
       "      <td>NaN</td>\n",
       "      <td>NaN</td>\n",
       "      <td>True</td>\n",
       "      <td>False</td>\n",
       "      <td>False</td>\n",
       "    </tr>\n",
       "    <tr>\n",
       "      <th>1</th>\n",
       "      <td>2016-10-25</td>\n",
       "      <td>10:30 pm</td>\n",
       "      <td>San Antonio Spurs</td>\n",
       "      <td>129</td>\n",
       "      <td>Golden State Warriors</td>\n",
       "      <td>100</td>\n",
       "      <td>Box Score</td>\n",
       "      <td>NaN</td>\n",
       "      <td>NaN</td>\n",
       "      <td>False</td>\n",
       "      <td>False</td>\n",
       "      <td>False</td>\n",
       "    </tr>\n",
       "    <tr>\n",
       "      <th>2</th>\n",
       "      <td>2016-10-25</td>\n",
       "      <td>10:00 pm</td>\n",
       "      <td>Utah Jazz</td>\n",
       "      <td>104</td>\n",
       "      <td>Portland Trail Blazers</td>\n",
       "      <td>113</td>\n",
       "      <td>Box Score</td>\n",
       "      <td>NaN</td>\n",
       "      <td>NaN</td>\n",
       "      <td>True</td>\n",
       "      <td>False</td>\n",
       "      <td>False</td>\n",
       "    </tr>\n",
       "    <tr>\n",
       "      <th>3</th>\n",
       "      <td>2016-10-26</td>\n",
       "      <td>7:30 pm</td>\n",
       "      <td>Brooklyn Nets</td>\n",
       "      <td>117</td>\n",
       "      <td>Boston Celtics</td>\n",
       "      <td>122</td>\n",
       "      <td>Box Score</td>\n",
       "      <td>NaN</td>\n",
       "      <td>NaN</td>\n",
       "      <td>True</td>\n",
       "      <td>False</td>\n",
       "      <td>False</td>\n",
       "    </tr>\n",
       "    <tr>\n",
       "      <th>4</th>\n",
       "      <td>2016-10-26</td>\n",
       "      <td>7:00 pm</td>\n",
       "      <td>Dallas Mavericks</td>\n",
       "      <td>121</td>\n",
       "      <td>Indiana Pacers</td>\n",
       "      <td>130</td>\n",
       "      <td>Box Score</td>\n",
       "      <td>OT</td>\n",
       "      <td>NaN</td>\n",
       "      <td>True</td>\n",
       "      <td>False</td>\n",
       "      <td>False</td>\n",
       "    </tr>\n",
       "    <tr>\n",
       "      <th>5</th>\n",
       "      <td>2016-10-26</td>\n",
       "      <td>10:30 pm</td>\n",
       "      <td>Houston Rockets</td>\n",
       "      <td>114</td>\n",
       "      <td>Los Angeles Lakers</td>\n",
       "      <td>120</td>\n",
       "      <td>Box Score</td>\n",
       "      <td>NaN</td>\n",
       "      <td>NaN</td>\n",
       "      <td>True</td>\n",
       "      <td>False</td>\n",
       "      <td>False</td>\n",
       "    </tr>\n",
       "  </tbody>\n",
       "</table>\n",
       "</div>"
      ],
      "text/plain": [
       "        Date      Time       Visitor Team  Visitor Points  \\\n",
       "0 2016-10-25   7:30 pm    New York Knicks              88   \n",
       "1 2016-10-25  10:30 pm  San Antonio Spurs             129   \n",
       "2 2016-10-25  10:00 pm          Utah Jazz             104   \n",
       "3 2016-10-26   7:30 pm      Brooklyn Nets             117   \n",
       "4 2016-10-26   7:00 pm   Dallas Mavericks             121   \n",
       "5 2016-10-26  10:30 pm    Houston Rockets             114   \n",
       "\n",
       "                Home Team  Home Points Score Type  OT? Notes HomeWin  \\\n",
       "0     Cleveland Cavaliers          117  Box Score  NaN   NaN    True   \n",
       "1   Golden State Warriors          100  Box Score  NaN   NaN   False   \n",
       "2  Portland Trail Blazers          113  Box Score  NaN   NaN    True   \n",
       "3          Boston Celtics          122  Box Score  NaN   NaN    True   \n",
       "4          Indiana Pacers          130  Box Score   OT   NaN    True   \n",
       "5      Los Angeles Lakers          120  Box Score  NaN   NaN    True   \n",
       "\n",
       "  HomeLastWin VisitorLastWin  \n",
       "0       False          False  \n",
       "1       False          False  \n",
       "2       False          False  \n",
       "3       False          False  \n",
       "4       False          False  \n",
       "5       False          False  "
      ]
     },
     "execution_count": 13,
     "metadata": {},
     "output_type": "execute_result"
    }
   ],
   "source": [
    "dataset[\"HomeLastWin\"] = False\n",
    "dataset[\"VisitorLastWin\"] = False\n",
    "# This creates two new columns, all set to False\n",
    "dataset.ix[:5]"
   ]
  },
  {
   "cell_type": "code",
   "execution_count": 14,
   "metadata": {
    "collapsed": true
   },
   "outputs": [],
   "source": [
    "# Now compute the actual values for these\n",
    "# Did the home and visitor teams win their last game?\n",
    "# We first create a (default) dictionary to store the team's last result:\n",
    "from collections import defaultdict\n",
    "won_last = defaultdict(int)"
   ]
  },
  {
   "cell_type": "markdown",
   "metadata": {},
   "source": [
    "The key of this dictionary will be the team and the value will be whether they won\n",
    "their previous game. We can then iterate over all the rows and update the current\n",
    "row with the team's last result. \n",
    "\n",
    "Note that the preceding code relies on our dataset being in chronological order. Our\n",
    "dataset is in order; however, if you are using a dataset that is not in order, you will\n",
    "need to replace dataset.iterrows() with dataset.sort(\"Date\").iterrows()."
   ]
  },
  {
   "cell_type": "code",
   "execution_count": 15,
   "metadata": {
    "collapsed": true
   },
   "outputs": [],
   "source": [
    "for index, row in dataset.iterrows():\n",
    "    home_team = row[\"Home Team\"]\n",
    "    visitor_team = row[\"Visitor Team\"]\n",
    "    row[\"HomeLastWin\"] = won_last[home_team]\n",
    "    row[\"VisitorLastWin\"] = won_last[visitor_team]\n",
    "    dataset.ix[index] = row\n",
    "    #We then set our dictionary with the each team's result (from this row) for the next\n",
    "    #time we see these teams.\n",
    "    #Set current Win\n",
    "    won_last[home_team] = row[\"HomeWin\"]\n",
    "    won_last[visitor_team] = not row[\"HomeWin\"]\n",
    "    "
   ]
  },
  {
   "cell_type": "markdown",
   "metadata": {},
   "source": [
    "There isn't much point in\n",
    "looking at the first five games though. Due to the way our code runs, we didn't have\n",
    "data for them at that point. Therefore, until a team's second game of the season, we\n",
    "won't know their current form. We can instead look at different places in the list.\n",
    "The following code will show the 20th to the 25th games of the season:"
   ]
  },
  {
   "cell_type": "code",
   "execution_count": 16,
   "metadata": {
    "collapsed": false
   },
   "outputs": [
    {
     "data": {
      "text/html": [
       "<div>\n",
       "<table border=\"1\" class=\"dataframe\">\n",
       "  <thead>\n",
       "    <tr style=\"text-align: right;\">\n",
       "      <th></th>\n",
       "      <th>Date</th>\n",
       "      <th>Time</th>\n",
       "      <th>Visitor Team</th>\n",
       "      <th>Visitor Points</th>\n",
       "      <th>Home Team</th>\n",
       "      <th>Home Points</th>\n",
       "      <th>Score Type</th>\n",
       "      <th>OT?</th>\n",
       "      <th>Notes</th>\n",
       "      <th>HomeWin</th>\n",
       "      <th>HomeLastWin</th>\n",
       "      <th>VisitorLastWin</th>\n",
       "    </tr>\n",
       "  </thead>\n",
       "  <tbody>\n",
       "    <tr>\n",
       "      <th>20</th>\n",
       "      <td>2016-10-28</td>\n",
       "      <td>8:00 pm</td>\n",
       "      <td>Charlotte Hornets</td>\n",
       "      <td>97</td>\n",
       "      <td>Miami Heat</td>\n",
       "      <td>91</td>\n",
       "      <td>Box Score</td>\n",
       "      <td>NaN</td>\n",
       "      <td>NaN</td>\n",
       "      <td>False</td>\n",
       "      <td>True</td>\n",
       "      <td>True</td>\n",
       "    </tr>\n",
       "    <tr>\n",
       "      <th>21</th>\n",
       "      <td>2016-10-28</td>\n",
       "      <td>9:30 pm</td>\n",
       "      <td>Golden State Warriors</td>\n",
       "      <td>122</td>\n",
       "      <td>New Orleans Pelicans</td>\n",
       "      <td>114</td>\n",
       "      <td>Box Score</td>\n",
       "      <td>NaN</td>\n",
       "      <td>NaN</td>\n",
       "      <td>False</td>\n",
       "      <td>False</td>\n",
       "      <td>False</td>\n",
       "    </tr>\n",
       "    <tr>\n",
       "      <th>22</th>\n",
       "      <td>2016-10-28</td>\n",
       "      <td>8:00 pm</td>\n",
       "      <td>Phoenix Suns</td>\n",
       "      <td>110</td>\n",
       "      <td>Oklahoma City Thunder</td>\n",
       "      <td>113</td>\n",
       "      <td>Box Score</td>\n",
       "      <td>OT</td>\n",
       "      <td>NaN</td>\n",
       "      <td>True</td>\n",
       "      <td>True</td>\n",
       "      <td>False</td>\n",
       "    </tr>\n",
       "    <tr>\n",
       "      <th>23</th>\n",
       "      <td>2016-10-28</td>\n",
       "      <td>7:00 pm</td>\n",
       "      <td>Cleveland Cavaliers</td>\n",
       "      <td>94</td>\n",
       "      <td>Toronto Raptors</td>\n",
       "      <td>91</td>\n",
       "      <td>Box Score</td>\n",
       "      <td>NaN</td>\n",
       "      <td>NaN</td>\n",
       "      <td>False</td>\n",
       "      <td>True</td>\n",
       "      <td>True</td>\n",
       "    </tr>\n",
       "    <tr>\n",
       "      <th>24</th>\n",
       "      <td>2016-10-28</td>\n",
       "      <td>9:00 pm</td>\n",
       "      <td>Los Angeles Lakers</td>\n",
       "      <td>89</td>\n",
       "      <td>Utah Jazz</td>\n",
       "      <td>96</td>\n",
       "      <td>Box Score</td>\n",
       "      <td>NaN</td>\n",
       "      <td>NaN</td>\n",
       "      <td>True</td>\n",
       "      <td>False</td>\n",
       "      <td>True</td>\n",
       "    </tr>\n",
       "    <tr>\n",
       "      <th>25</th>\n",
       "      <td>2016-10-29</td>\n",
       "      <td>8:00 pm</td>\n",
       "      <td>Indiana Pacers</td>\n",
       "      <td>101</td>\n",
       "      <td>Chicago Bulls</td>\n",
       "      <td>118</td>\n",
       "      <td>Box Score</td>\n",
       "      <td>NaN</td>\n",
       "      <td>NaN</td>\n",
       "      <td>True</td>\n",
       "      <td>True</td>\n",
       "      <td>False</td>\n",
       "    </tr>\n",
       "  </tbody>\n",
       "</table>\n",
       "</div>"
      ],
      "text/plain": [
       "         Date     Time           Visitor Team  Visitor Points  \\\n",
       "20 2016-10-28  8:00 pm      Charlotte Hornets              97   \n",
       "21 2016-10-28  9:30 pm  Golden State Warriors             122   \n",
       "22 2016-10-28  8:00 pm           Phoenix Suns             110   \n",
       "23 2016-10-28  7:00 pm    Cleveland Cavaliers              94   \n",
       "24 2016-10-28  9:00 pm     Los Angeles Lakers              89   \n",
       "25 2016-10-29  8:00 pm         Indiana Pacers             101   \n",
       "\n",
       "                Home Team  Home Points Score Type  OT? Notes HomeWin  \\\n",
       "20             Miami Heat           91  Box Score  NaN   NaN   False   \n",
       "21   New Orleans Pelicans          114  Box Score  NaN   NaN   False   \n",
       "22  Oklahoma City Thunder          113  Box Score   OT   NaN    True   \n",
       "23        Toronto Raptors           91  Box Score  NaN   NaN   False   \n",
       "24              Utah Jazz           96  Box Score  NaN   NaN    True   \n",
       "25          Chicago Bulls          118  Box Score  NaN   NaN    True   \n",
       "\n",
       "   HomeLastWin VisitorLastWin  \n",
       "20        True           True  \n",
       "21       False          False  \n",
       "22        True          False  \n",
       "23        True           True  \n",
       "24       False           True  \n",
       "25        True          False  "
      ]
     },
     "execution_count": 16,
     "metadata": {},
     "output_type": "execute_result"
    }
   ],
   "source": [
    "dataset.ix[20:25]"
   ]
  },
  {
   "cell_type": "markdown",
   "metadata": {},
   "source": [
    "The scikit-learn package implements the CART (Classification and Regression\n",
    "Trees) algorithm as its default decision tree class, which can use both categorical and\n",
    "continuous features.\n",
    "\n",
    "The decision tree implementation in scikit-learn provides a method to stop the\n",
    "building of a tree using the following options:\n",
    "\n",
    "    • min_samples_split: This specifies how many samples are needed in order\n",
    "to create a new node in the decision tree\n",
    "\n",
    "    • min_samples_leaf: This specifies how many samples must be resultingfrom a node for it to stay\n",
    "    \n",
    "The first dictates whether a decision node will be created, while the second dictates whether a decision node will be kept.\n",
    "\n",
    "Another parameter for decision tress is the criterion for creating a decision.\n",
    "Gini impurity and Information gain are two popular ones:\n",
    "\n",
    "    • Gini impurity: This is a measure of how often a decision node would incorrectly predict a sample's class\n",
    "\n",
    "    •`Information gain: This uses information-theory-based entropy to indicate how much extra information is gained by the decision node\n"
   ]
  },
  {
   "cell_type": "code",
   "execution_count": 17,
   "metadata": {
    "collapsed": true
   },
   "outputs": [],
   "source": [
    "from sklearn.tree import DecisionTreeClassifier\n",
    "clf = DecisionTreeClassifier(random_state=14)"
   ]
  },
  {
   "cell_type": "markdown",
   "metadata": {},
   "source": [
    "We now need to extract the dataset from our pandas data frame in order to use\n",
    "it with our scikit-learn classifier. We do this by specifying the columns we\n",
    "wish to use and using the values parameter of a view of the data frame. The\n",
    "following code creates a dataset using our last win values for both the home\n",
    "team and the visitor team:"
   ]
  },
  {
   "cell_type": "code",
   "execution_count": 18,
   "metadata": {
    "collapsed": true
   },
   "outputs": [],
   "source": [
    "X_previouswins = dataset[[\"HomeLastWin\", \"VisitorLastWin\"]].values"
   ]
  },
  {
   "cell_type": "code",
   "execution_count": 21,
   "metadata": {
    "collapsed": false
   },
   "outputs": [
    {
     "name": "stdout",
     "output_type": "stream",
     "text": [
      "Using just the last result from the home and visitor teams\n",
      "Accuracy: 58.4%\n"
     ]
    }
   ],
   "source": [
    "import numpy as np\n",
    "from sklearn.model_selection import cross_val_score\n",
    "\n",
    "clf = DecisionTreeClassifier(random_state=14)\n",
    "scores = cross_val_score(clf, X_previouswins, y_true, scoring='accuracy')\n",
    "print(\"Using just the last result from the home and visitor teams\")\n",
    "print(\"Accuracy: {0:.1f}%\".format(np.mean(scores) * 100))"
   ]
  },
  {
   "cell_type": "markdown",
   "metadata": {},
   "source": [
    "###### This scores 58.4% we are better than choosing randomly! \n",
    "We should be\n",
    "able to do better"
   ]
  },
  {
   "cell_type": "markdown",
   "metadata": {},
   "source": [
    "###### More Feature Engineering\n",
    "\n",
    "We will try the following\n",
    "questions:\n",
    "\n",
    "    • Which team is considered better generally?\n",
    "    • Which team won their last encounter?\n",
    "\n",
    "We will also try putting the raw teams into the algorithm to check whether the\n",
    "algorithm can learn a model that checks how different teams play against each other."
   ]
  },
  {
   "cell_type": "code",
   "execution_count": 25,
   "metadata": {
    "collapsed": false
   },
   "outputs": [],
   "source": [
    "# What about win streaks?\n",
    "dataset[\"HomeWinStreak\"] = 0\n",
    "dataset[\"VisitorWinStreak\"] = 0\n",
    "# Did the home and visitor teams win their last game?\n",
    "from collections import defaultdict\n",
    "win_streak = defaultdict(int)\n",
    "\n",
    "for index, row in dataset.iterrows():  # Note that this is not efficient\n",
    "    home_team = row[\"Home Team\"]\n",
    "    visitor_team = row[\"Visitor Team\"]\n",
    "    row[\"HomeWinStreak\"] = win_streak[home_team]\n",
    "    row[\"VisitorWinStreak\"] = win_streak[visitor_team]\n",
    "    dataset.ix[index] = row    \n",
    "    # Set current win\n",
    "    if row[\"HomeWin\"]:\n",
    "        win_streak[home_team] += 1\n",
    "        win_streak[visitor_team] = 0\n",
    "    else:\n",
    "        win_streak[home_team] = 0\n",
    "        win_streak[visitor_team] += 1"
   ]
  },
  {
   "cell_type": "code",
   "execution_count": 28,
   "metadata": {
    "collapsed": false
   },
   "outputs": [
    {
     "data": {
      "text/html": [
       "<div>\n",
       "<table border=\"1\" class=\"dataframe\">\n",
       "  <thead>\n",
       "    <tr style=\"text-align: right;\">\n",
       "      <th></th>\n",
       "      <th>Date</th>\n",
       "      <th>Time</th>\n",
       "      <th>Visitor Team</th>\n",
       "      <th>Visitor Points</th>\n",
       "      <th>Home Team</th>\n",
       "      <th>Home Points</th>\n",
       "      <th>Score Type</th>\n",
       "      <th>OT?</th>\n",
       "      <th>Notes</th>\n",
       "      <th>HomeWin</th>\n",
       "      <th>HomeLastWin</th>\n",
       "      <th>VisitorLastWin</th>\n",
       "      <th>HomeWinStreak</th>\n",
       "      <th>VisitorWinStreak</th>\n",
       "    </tr>\n",
       "  </thead>\n",
       "  <tbody>\n",
       "    <tr>\n",
       "      <th>100</th>\n",
       "      <td>2016-11-08</td>\n",
       "      <td>7:00 pm</td>\n",
       "      <td>Atlanta Hawks</td>\n",
       "      <td>110</td>\n",
       "      <td>Cleveland Cavaliers</td>\n",
       "      <td>106</td>\n",
       "      <td>Box Score</td>\n",
       "      <td>NaN</td>\n",
       "      <td>NaN</td>\n",
       "      <td>False</td>\n",
       "      <td>True</td>\n",
       "      <td>True</td>\n",
       "      <td>6</td>\n",
       "      <td>1</td>\n",
       "    </tr>\n",
       "    <tr>\n",
       "      <th>101</th>\n",
       "      <td>2016-11-08</td>\n",
       "      <td>10:30 pm</td>\n",
       "      <td>Dallas Mavericks</td>\n",
       "      <td>109</td>\n",
       "      <td>Los Angeles Lakers</td>\n",
       "      <td>97</td>\n",
       "      <td>Box Score</td>\n",
       "      <td>NaN</td>\n",
       "      <td>NaN</td>\n",
       "      <td>False</td>\n",
       "      <td>True</td>\n",
       "      <td>True</td>\n",
       "      <td>3</td>\n",
       "      <td>1</td>\n",
       "    </tr>\n",
       "    <tr>\n",
       "      <th>102</th>\n",
       "      <td>2016-11-08</td>\n",
       "      <td>8:00 pm</td>\n",
       "      <td>Denver Nuggets</td>\n",
       "      <td>107</td>\n",
       "      <td>Memphis Grizzlies</td>\n",
       "      <td>108</td>\n",
       "      <td>Box Score</td>\n",
       "      <td>NaN</td>\n",
       "      <td>NaN</td>\n",
       "      <td>True</td>\n",
       "      <td>False</td>\n",
       "      <td>True</td>\n",
       "      <td>0</td>\n",
       "      <td>1</td>\n",
       "    </tr>\n",
       "    <tr>\n",
       "      <th>103</th>\n",
       "      <td>2016-11-08</td>\n",
       "      <td>10:00 pm</td>\n",
       "      <td>Phoenix Suns</td>\n",
       "      <td>121</td>\n",
       "      <td>Portland Trail Blazers</td>\n",
       "      <td>124</td>\n",
       "      <td>Box Score</td>\n",
       "      <td>NaN</td>\n",
       "      <td>NaN</td>\n",
       "      <td>True</td>\n",
       "      <td>True</td>\n",
       "      <td>False</td>\n",
       "      <td>2</td>\n",
       "      <td>0</td>\n",
       "    </tr>\n",
       "    <tr>\n",
       "      <th>104</th>\n",
       "      <td>2016-11-08</td>\n",
       "      <td>10:30 pm</td>\n",
       "      <td>New Orleans Pelicans</td>\n",
       "      <td>94</td>\n",
       "      <td>Sacramento Kings</td>\n",
       "      <td>102</td>\n",
       "      <td>Box Score</td>\n",
       "      <td>NaN</td>\n",
       "      <td>NaN</td>\n",
       "      <td>True</td>\n",
       "      <td>True</td>\n",
       "      <td>False</td>\n",
       "      <td>1</td>\n",
       "      <td>0</td>\n",
       "    </tr>\n",
       "    <tr>\n",
       "      <th>105</th>\n",
       "      <td>2016-11-09</td>\n",
       "      <td>7:30 pm</td>\n",
       "      <td>Chicago Bulls</td>\n",
       "      <td>107</td>\n",
       "      <td>Atlanta Hawks</td>\n",
       "      <td>115</td>\n",
       "      <td>Box Score</td>\n",
       "      <td>NaN</td>\n",
       "      <td>NaN</td>\n",
       "      <td>True</td>\n",
       "      <td>True</td>\n",
       "      <td>True</td>\n",
       "      <td>2</td>\n",
       "      <td>1</td>\n",
       "    </tr>\n",
       "  </tbody>\n",
       "</table>\n",
       "</div>"
      ],
      "text/plain": [
       "          Date      Time          Visitor Team  Visitor Points  \\\n",
       "100 2016-11-08   7:00 pm         Atlanta Hawks             110   \n",
       "101 2016-11-08  10:30 pm      Dallas Mavericks             109   \n",
       "102 2016-11-08   8:00 pm        Denver Nuggets             107   \n",
       "103 2016-11-08  10:00 pm          Phoenix Suns             121   \n",
       "104 2016-11-08  10:30 pm  New Orleans Pelicans              94   \n",
       "105 2016-11-09   7:30 pm         Chicago Bulls             107   \n",
       "\n",
       "                  Home Team  Home Points Score Type  OT? Notes HomeWin  \\\n",
       "100     Cleveland Cavaliers          106  Box Score  NaN   NaN   False   \n",
       "101      Los Angeles Lakers           97  Box Score  NaN   NaN   False   \n",
       "102       Memphis Grizzlies          108  Box Score  NaN   NaN    True   \n",
       "103  Portland Trail Blazers          124  Box Score  NaN   NaN    True   \n",
       "104        Sacramento Kings          102  Box Score  NaN   NaN    True   \n",
       "105           Atlanta Hawks          115  Box Score  NaN   NaN    True   \n",
       "\n",
       "    HomeLastWin VisitorLastWin  HomeWinStreak  VisitorWinStreak  \n",
       "100        True           True              6                 1  \n",
       "101        True           True              3                 1  \n",
       "102       False           True              0                 1  \n",
       "103        True          False              2                 0  \n",
       "104        True          False              1                 0  \n",
       "105        True           True              2                 1  "
      ]
     },
     "execution_count": 28,
     "metadata": {},
     "output_type": "execute_result"
    }
   ],
   "source": [
    "dataset.ix[100:105]"
   ]
  },
  {
   "cell_type": "code",
   "execution_count": 29,
   "metadata": {
    "collapsed": false
   },
   "outputs": [
    {
     "name": "stdout",
     "output_type": "stream",
     "text": [
      "Using whether the home team is ranked higher\n",
      "Accuracy: 56.3%\n"
     ]
    }
   ],
   "source": [
    "clf = DecisionTreeClassifier(random_state=14)\n",
    "X_winstreak =  dataset[[\"HomeLastWin\", \"VisitorLastWin\", \"HomeWinStreak\", \"VisitorWinStreak\"]].values\n",
    "scores = cross_val_score(clf, X_winstreak, y_true, scoring='accuracy')\n",
    "print(\"Using whether the home team is ranked higher\")\n",
    "print(\"Accuracy: {0:.1f}%\".format(np.mean(scores) * 100))"
   ]
  },
  {
   "cell_type": "code",
   "execution_count": 39,
   "metadata": {
    "collapsed": true
   },
   "outputs": [],
   "source": [
    "# Let's try see which team is better on the ladder. Using the previous year's ladder\n",
    "#https://www.basketball-reference.com/leagues/NBA_2016_standings.html\n",
    "standing = pd.read_csv(\"ExapandedStanding.csv\")\n",
    "standing = standing.set_index('Rk')"
   ]
  },
  {
   "cell_type": "code",
   "execution_count": 38,
   "metadata": {
    "collapsed": false
   },
   "outputs": [],
   "source": []
  },
  {
   "cell_type": "code",
   "execution_count": null,
   "metadata": {
    "collapsed": true
   },
   "outputs": [],
   "source": []
  }
 ],
 "metadata": {
  "anaconda-cloud": {},
  "kernelspec": {
   "display_name": "Python [default]",
   "language": "python",
   "name": "python3"
  },
  "language_info": {
   "codemirror_mode": {
    "name": "ipython",
    "version": 3
   },
   "file_extension": ".py",
   "mimetype": "text/x-python",
   "name": "python",
   "nbconvert_exporter": "python",
   "pygments_lexer": "ipython3",
   "version": "3.5.1"
  }
 },
 "nbformat": 4,
 "nbformat_minor": 1
}
