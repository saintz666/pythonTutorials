{
 "cells": [
  {
   "cell_type": "markdown",
   "metadata": {},
   "source": [
    "##### We wish to find rules of the type If a person buys product X, then they are likely to purchase product Y."
   ]
  },
  {
   "cell_type": "code",
   "execution_count": 2,
   "metadata": {
    "collapsed": false
   },
   "outputs": [],
   "source": [
    "import numpy as np\n",
    "X = np.loadtxt(r\"C:\\Users\\piush\\Desktop\\Data Science Books\\Python\\LEARNING_DATA_MINING_WITH_PYTHON\\9781784396053_code\\Code_REWRITE\\Chapter 1\\affinity_dataset.txt\")"
   ]
  },
  {
   "cell_type": "code",
   "execution_count": 5,
   "metadata": {
    "collapsed": false
   },
   "outputs": [
    {
     "name": "stdout",
     "output_type": "stream",
     "text": [
      "The dataset has 100 samples and 5 features\n"
     ]
    }
   ],
   "source": [
    "nSamples, nFeatures = X.shape\n",
    "print(\"The dataset has {0} samples and {1} features\".format(nSamples,nFeatures))"
   ]
  },
  {
   "cell_type": "code",
   "execution_count": 7,
   "metadata": {
    "collapsed": false
   },
   "outputs": [
    {
     "name": "stdout",
     "output_type": "stream",
     "text": [
      "[[ 0.  0.  1.  1.  1.]\n",
      " [ 1.  1.  0.  1.  0.]\n",
      " [ 1.  0.  1.  1.  0.]\n",
      " [ 0.  0.  1.  1.  1.]\n",
      " [ 0.  1.  0.  0.  1.]]\n"
     ]
    }
   ],
   "source": [
    "print(X[:5])"
   ]
  },
  {
   "cell_type": "markdown",
   "metadata": {},
   "source": [
    "The dataset can be read by looking at each row (horizontal line) at a time. The first\n",
    "row (0, 0, 1, 1, 1) shows the items purchased in the first transaction. Each\n",
    "column (vertical row) represents each of the items. They are bread, milk, cheese,\n",
    "apples, and bananas, respectively. Therefore, in the first transaction, the person\n",
    "bought cheese, apples, and bananas, but not bread or milk.\n",
    "Each of these features contain binary values, stating only whether the items were\n",
    "purchased and not how many of them were purchased. A 1 indicates that \"at least\n",
    "1\" item was bought of this type, while a 0 indicates that absolutely none of that item\n",
    "was purchased."
   ]
  },
  {
   "cell_type": "markdown",
   "metadata": {},
   "source": [
    "###### we will compute the support and confidence for the rule if a person buys apples, they also buy bananas"
   ]
  },
  {
   "cell_type": "code",
   "execution_count": 8,
   "metadata": {
    "collapsed": false
   },
   "outputs": [
    {
     "name": "stdout",
     "output_type": "stream",
     "text": [
      "36 people bought apples\n"
     ]
    }
   ],
   "source": [
    "numApplePurchases = 0\n",
    "for i in X:\n",
    "    if i[3] == 1 : #Person bought apples\n",
    "        numApplePurchases +=1\n",
    "        \n",
    "print(\"{} people bought apples\".format(numApplePurchases))"
   ]
  },
  {
   "cell_type": "code",
   "execution_count": 13,
   "metadata": {
    "collapsed": false
   },
   "outputs": [
    {
     "name": "stdout",
     "output_type": "stream",
     "text": [
      "21 cases of the rule being Valid were discovered\n",
      "15 cases of the rule being Invalid were discovered\n"
     ]
    }
   ],
   "source": [
    "ruleValid = 0\n",
    "ruleInvalid = 0\n",
    "for i in X:\n",
    "    if i[3] == 1:\n",
    "        if i[4] == 1:\n",
    "            ruleValid += 1\n",
    "        else:\n",
    "            ruleInvalid += 1\n",
    "print(\"{} cases of the rule being Valid were discovered\".format(ruleValid))\n",
    "print(\"{} cases of the rule being Invalid were discovered\".format(ruleInvalid))"
   ]
  },
  {
   "cell_type": "code",
   "execution_count": 14,
   "metadata": {
    "collapsed": false
   },
   "outputs": [
    {
     "name": "stdout",
     "output_type": "stream",
     "text": [
      "The support is 21 and the cofidence is 0.5833333333333334 \n"
     ]
    }
   ],
   "source": [
    "support = ruleValid\n",
    "confidence = ruleValid / numApplePurchases\n",
    "\n",
    "print(\"The support is {} and the cofidence is {} \".format(support,confidence))"
   ]
  },
  {
   "cell_type": "code",
   "execution_count": 16,
   "metadata": {
    "collapsed": false
   },
   "outputs": [],
   "source": [
    "from collections import defaultdict\n",
    "\n",
    "#Compute for all possible rules\n",
    "validRules = defaultdict(int)\n",
    "invalidRules = defaultdict(int)\n",
    "numOccurances = defaultdict(int)\n",
    "\n",
    "for i in X:\n",
    "    for premise in range(nFeatures):\n",
    "        if i[premise] == 0: continue\n",
    "        numOccurances[premise] += 1\n",
    "        for conclusion in range(nFeatures):\n",
    "            if premise == conclusion:\n",
    "                continue\n",
    "            if i[conclusion] == 1:\n",
    "                validRules[(premise,conclusion)] += 1\n",
    "            else:\n",
    "                invalidRules[(premise,conclusion)] += 1\n",
    "                \n",
    "support = validRules\n",
    "confidence = defaultdict(float)\n",
    "\n",
    "for premise,conclusion in validRules.keys():\n",
    "    confidence[(premise,conclusion)] = validRules[(premise,conclusion)]/numOccurances[premise]"
   ]
  },
  {
   "cell_type": "code",
   "execution_count": 18,
   "metadata": {
    "collapsed": false
   },
   "outputs": [
    {
     "name": "stdout",
     "output_type": "stream",
     "text": [
      "Rule: if preson buys bread , they will also buy milk\n",
      "- Confidence: 0.519\n",
      "- Support: 14\n",
      "Rule: if preson buys milk , they will also buy cheese\n",
      "- Confidence: 0.152\n",
      "- Support: 7\n",
      "Rule: if preson buys apples , they will also buy cheese\n",
      "- Confidence: 0.694\n",
      "- Support: 25\n",
      "Rule: if preson buys milk , they will also buy apples\n",
      "- Confidence: 0.196\n",
      "- Support: 9\n",
      "Rule: if preson buys bread , they will also buy apples\n",
      "- Confidence: 0.185\n",
      "- Support: 5\n",
      "Rule: if preson buys apples , they will also buy bread\n",
      "- Confidence: 0.139\n",
      "- Support: 5\n",
      "Rule: if preson buys apples , they will also buy banana\n",
      "- Confidence: 0.583\n",
      "- Support: 21\n",
      "Rule: if preson buys apples , they will also buy milk\n",
      "- Confidence: 0.250\n",
      "- Support: 9\n",
      "Rule: if preson buys milk , they will also buy banana\n",
      "- Confidence: 0.413\n",
      "- Support: 19\n",
      "Rule: if preson buys cheese , they will also buy banana\n",
      "- Confidence: 0.659\n",
      "- Support: 27\n",
      "Rule: if preson buys cheese , they will also buy bread\n",
      "- Confidence: 0.098\n",
      "- Support: 4\n",
      "Rule: if preson buys cheese , they will also buy apples\n",
      "- Confidence: 0.610\n",
      "- Support: 25\n",
      "Rule: if preson buys cheese , they will also buy milk\n",
      "- Confidence: 0.171\n",
      "- Support: 7\n",
      "Rule: if preson buys banana , they will also buy apples\n",
      "- Confidence: 0.356\n",
      "- Support: 21\n",
      "Rule: if preson buys bread , they will also buy banana\n",
      "- Confidence: 0.630\n",
      "- Support: 17\n",
      "Rule: if preson buys banana , they will also buy cheese\n",
      "- Confidence: 0.458\n",
      "- Support: 27\n",
      "Rule: if preson buys milk , they will also buy bread\n",
      "- Confidence: 0.304\n",
      "- Support: 14\n",
      "Rule: if preson buys banana , they will also buy milk\n",
      "- Confidence: 0.322\n",
      "- Support: 19\n",
      "Rule: if preson buys bread , they will also buy cheese\n",
      "- Confidence: 0.148\n",
      "- Support: 4\n",
      "Rule: if preson buys banana , they will also buy bread\n",
      "- Confidence: 0.288\n",
      "- Support: 17\n"
     ]
    }
   ],
   "source": [
    "features = [\"bread\", \"milk\", \"cheese\", \"apples\",\"banana\"]\n",
    "for premise,conclusion in confidence:\n",
    "    premiseName = features[premise]\n",
    "    conclusionName = features[conclusion]\n",
    "    print(\"Rule: if preson buys {} , they will also buy {}\".format(premiseName,conclusionName))\n",
    "    print(\"- Confidence: {0:.3f}\".format(confidence[(premise,conclusion)]))\n",
    "    print(\"- Support: {}\".format(support[(premise,conclusion)]))"
   ]
  },
  {
   "cell_type": "markdown",
   "metadata": {},
   "source": [
    "Now that we can compute the support and confidence of all rules, we want to be able\n",
    "to find the best rules. To do this, we perform a ranking and print the ones with the\n",
    "highest values. We can do this for both the support and confidence values.\n",
    "To find the rules with the highest support, we first sort the support dictionary."
   ]
  },
  {
   "cell_type": "code",
   "execution_count": 19,
   "metadata": {
    "collapsed": true
   },
   "outputs": [],
   "source": [
    "from operator import itemgetter\n",
    "sortedSupport = sorted(support.items(),key = itemgetter(1),reverse = True)"
   ]
  },
  {
   "cell_type": "code",
   "execution_count": 21,
   "metadata": {
    "collapsed": false
   },
   "outputs": [
    {
     "name": "stdout",
     "output_type": "stream",
     "text": [
      "Rule #1\n",
      "Rule: If a person buys cheese they will also buy banana\n",
      " - Confidence: 0.659\n",
      " - Support: 27\n",
      "\n",
      "Rule #2\n",
      "Rule: If a person buys banana they will also buy cheese\n",
      " - Confidence: 0.458\n",
      " - Support: 27\n",
      "\n",
      "Rule #3\n",
      "Rule: If a person buys apples they will also buy cheese\n",
      " - Confidence: 0.694\n",
      " - Support: 25\n",
      "\n",
      "Rule #4\n",
      "Rule: If a person buys cheese they will also buy apples\n",
      " - Confidence: 0.610\n",
      " - Support: 25\n",
      "\n",
      "Rule #5\n",
      "Rule: If a person buys banana they will also buy apples\n",
      " - Confidence: 0.356\n",
      " - Support: 21\n",
      "\n"
     ]
    }
   ],
   "source": [
    "for index in range(5):\n",
    "    print(\"Rule #{}\".format(index + 1))\n",
    "    (premise,conclusion) = sortedSupport[index][0]\n",
    "    premise_name = features[premise]\n",
    "    conclusion_name = features[conclusion]\n",
    "    print(\"Rule: If a person buys {0} they will also buy {1}\".format(premise_name, conclusion_name))\n",
    "    print(\" - Confidence: {0:.3f}\".format(confidence[(premise, conclusion)]))\n",
    "    print(\" - Support: {0}\".format(support[(premise, conclusion)]))\n",
    "    print(\"\")"
   ]
  },
  {
   "cell_type": "code",
   "execution_count": null,
   "metadata": {
    "collapsed": true
   },
   "outputs": [],
   "source": [
    ""
   ]
  }
 ],
 "metadata": {
  "kernelspec": {
   "display_name": "Python [default]",
   "language": "python",
   "name": "python3"
  },
  "language_info": {
   "codemirror_mode": {
    "name": "ipython",
    "version": 3.0
   },
   "file_extension": ".py",
   "mimetype": "text/x-python",
   "name": "python",
   "nbconvert_exporter": "python",
   "pygments_lexer": "ipython3",
   "version": "3.5.1"
  }
 },
 "nbformat": 4,
 "nbformat_minor": 0
}
