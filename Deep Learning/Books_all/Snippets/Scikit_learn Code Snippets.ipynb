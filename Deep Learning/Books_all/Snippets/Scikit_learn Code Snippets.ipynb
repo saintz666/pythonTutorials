{
 "cells": [
  {
   "cell_type": "markdown",
   "metadata": {},
   "source": [
    "###### Scikit code Documents\n",
    "\n",
    "http://scikit-learn.org/stable/\n",
    "\n",
    "http://scikit-learn.org/dev/_downloads/scikit-learn-docs.pdf\n",
    "\n",
    "http://scikit-learn.org/stable/tutorial/basic/tutorial.html\n",
    "\n",
    "https://www.oreilly.com/ideas/intro-to-scikit-learn\n",
    "\n",
    "###### Github\n",
    "https://github.com/scikit-learn/scikit-learn/tree/master/examples\n",
    "\n",
    "###### Third party projects and code snippets\n",
    "https://github.com/scikit-learn/scikit-learn/wiki/Third-party-projects-and-code-snippets\n",
    "\n",
    "###### Kaggle\n",
    "https://www.kaggle.com/jeffd23/scikit-learn-ml-from-start-to-finish\n"
   ]
  },
  {
   "cell_type": "code",
   "execution_count": null,
   "metadata": {
    "collapsed": true
   },
   "outputs": [],
   "source": []
  }
 ],
 "metadata": {
  "kernelspec": {
   "display_name": "Python [default]",
   "language": "python",
   "name": "python3"
  },
  "language_info": {
   "codemirror_mode": {
    "name": "ipython",
    "version": 3
   },
   "file_extension": ".py",
   "mimetype": "text/x-python",
   "name": "python",
   "nbconvert_exporter": "python",
   "pygments_lexer": "ipython3",
   "version": "3.5.1"
  }
 },
 "nbformat": 4,
 "nbformat_minor": 2
}
