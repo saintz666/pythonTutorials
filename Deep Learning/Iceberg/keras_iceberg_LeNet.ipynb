{
 "cells": [
  {
   "cell_type": "code",
   "execution_count": 1,
   "metadata": {},
   "outputs": [
    {
     "name": "stderr",
     "output_type": "stream",
     "text": [
      "Using TensorFlow backend.\n"
     ]
    }
   ],
   "source": [
    "# import the necessary packages\n",
    "from keras import backend as K\n",
    "from keras.models import Sequential\n",
    "from keras.layers.convolutional import Conv2D\n",
    "from keras.layers.convolutional import MaxPooling2D\n",
    "from keras.layers.core import Activation\n",
    "from keras.layers.core import Flatten\n",
    "from keras.layers.core import Dense\n",
    "from keras.datasets import mnist\n",
    "from keras.utils import np_utils\n",
    "from keras.optimizers import SGD, RMSprop, Adam\n",
    "import numpy as np\n",
    "\n",
    "np.random.seed(1671)  # for reproducibility\n",
    "\n",
    "import os\n",
    "import numpy as np\n",
    "import pandas as pd\n",
    "import matplotlib.pyplot as plt\n",
    "%matplotlib inline"
   ]
  },
  {
   "cell_type": "code",
   "execution_count": 2,
   "metadata": {
    "collapsed": true
   },
   "outputs": [],
   "source": [
    "def load_and_format(in_path):\n",
    "    out_df = pd.read_json(in_path)\n",
    "    out_images = out_df.apply(lambda c_row: [np.stack([c_row['band_1'],c_row['band_2']], -1).reshape((75,75,2))],1)\n",
    "    out_images = np.stack(out_images).squeeze()\n",
    "    return out_df, out_images\n"
   ]
  },
  {
   "cell_type": "code",
   "execution_count": 3,
   "metadata": {
    "collapsed": true
   },
   "outputs": [],
   "source": [
    "base_path = 'data/iceberg'"
   ]
  },
  {
   "cell_type": "code",
   "execution_count": 4,
   "metadata": {},
   "outputs": [
    {
     "name": "stdout",
     "output_type": "stream",
     "text": [
      "training (1604, 5) loaded (1604, 75, 75, 2)\n",
      "testing (8424, 4) loaded (8424, 75, 75, 2)\n"
     ]
    },
    {
     "data": {
      "text/html": [
       "<div>\n",
       "<table border=\"1\" class=\"dataframe\">\n",
       "  <thead>\n",
       "    <tr style=\"text-align: right;\">\n",
       "      <th></th>\n",
       "      <th>band_1</th>\n",
       "      <th>band_2</th>\n",
       "      <th>id</th>\n",
       "      <th>inc_angle</th>\n",
       "      <th>is_iceberg</th>\n",
       "    </tr>\n",
       "  </thead>\n",
       "  <tbody>\n",
       "    <tr>\n",
       "      <th>1343</th>\n",
       "      <td>[-26.883247, -25.079762, -27.578579, -28.73846...</td>\n",
       "      <td>[-29.162113, -29.162159, -28.738419, -29.60777...</td>\n",
       "      <td>5fe2d101</td>\n",
       "      <td>43.1073</td>\n",
       "      <td>0</td>\n",
       "    </tr>\n",
       "    <tr>\n",
       "      <th>1258</th>\n",
       "      <td>[-19.872192, -19.733278, -23.464474, -22.46505...</td>\n",
       "      <td>[-23.898735, -25.617088, -28.871698, -31.63781...</td>\n",
       "      <td>0f962f75</td>\n",
       "      <td>37.2802</td>\n",
       "      <td>1</td>\n",
       "    </tr>\n",
       "    <tr>\n",
       "      <th>102</th>\n",
       "      <td>[-22.781437, -25.155306, -25.407164, -24.91069...</td>\n",
       "      <td>[-25.933594, -25.933668, -22.97249, -22.97249,...</td>\n",
       "      <td>68a80de0</td>\n",
       "      <td>33.6352</td>\n",
       "      <td>1</td>\n",
       "    </tr>\n",
       "  </tbody>\n",
       "</table>\n",
       "</div>"
      ],
      "text/plain": [
       "                                                 band_1  \\\n",
       "1343  [-26.883247, -25.079762, -27.578579, -28.73846...   \n",
       "1258  [-19.872192, -19.733278, -23.464474, -22.46505...   \n",
       "102   [-22.781437, -25.155306, -25.407164, -24.91069...   \n",
       "\n",
       "                                                 band_2        id inc_angle  \\\n",
       "1343  [-29.162113, -29.162159, -28.738419, -29.60777...  5fe2d101   43.1073   \n",
       "1258  [-23.898735, -25.617088, -28.871698, -31.63781...  0f962f75   37.2802   \n",
       "102   [-25.933594, -25.933668, -22.97249, -22.97249,...  68a80de0   33.6352   \n",
       "\n",
       "      is_iceberg  \n",
       "1343           0  \n",
       "1258           1  \n",
       "102            1  "
      ]
     },
     "execution_count": 4,
     "metadata": {},
     "output_type": "execute_result"
    }
   ],
   "source": [
    "train_df, train_images = load_and_format(os.path.join(base_path, 'train.json'))\n",
    "print('training', train_df.shape, 'loaded', train_images.shape)\n",
    "test_df, test_images = load_and_format(os.path.join(base_path, 'test.json'))\n",
    "print('testing', test_df.shape, 'loaded', test_images.shape)\n",
    "train_df.sample(3)"
   ]
  },
  {
   "cell_type": "code",
   "execution_count": 5,
   "metadata": {},
   "outputs": [
    {
     "name": "stdout",
     "output_type": "stream",
     "text": [
      "Train (802, 75, 75, 2) (802, 2)\n",
      "Validation (802, 75, 75, 2) (802, 2)\n"
     ]
    }
   ],
   "source": [
    "from sklearn.model_selection import train_test_split\n",
    "from keras.utils.np_utils import to_categorical\n",
    "X_train, X_test, y_train, y_test = train_test_split(train_images,\n",
    "                                                   to_categorical(train_df['is_iceberg']),\n",
    "                                                    random_state = 2017,\n",
    "                                                    test_size = 0.5\n",
    "                                                   )\n",
    "print('Train', X_train.shape, y_train.shape)\n",
    "print('Validation', X_test.shape, y_test.shape)"
   ]
  },
  {
   "cell_type": "code",
   "execution_count": 6,
   "metadata": {
    "collapsed": true
   },
   "outputs": [],
   "source": [
    "# float and normalization\n",
    "X_train = X_train.astype('float32')\n",
    "X_test = X_test.astype('float32')\n",
    "X_train /= 255\n",
    "X_test /= 255"
   ]
  },
  {
   "cell_type": "code",
   "execution_count": 26,
   "metadata": {
    "scrolled": true
   },
   "outputs": [],
   "source": [
    "#define the convnet \n",
    "class LeNet:\n",
    "\t@staticmethod\n",
    "\tdef build(input_shape, classes):\n",
    "\t\tmodel = Sequential()\n",
    "\t\t# CONV => RELU => POOL\n",
    "\t\tmodel.add(Conv2D(20, kernel_size=5, padding=\"same\",\n",
    "\t\t\tinput_shape=input_shape))\n",
    "\t\tmodel.add(Activation(\"relu\"))\n",
    "\t\tmodel.add(MaxPooling2D(pool_size=(2, 2), strides=(2, 2)))\n",
    "\t\t# CONV => RELU => POOL\n",
    "\t\tmodel.add(Conv2D(50, kernel_size=5, padding=\"same\"))\n",
    "\t\tmodel.add(Activation(\"relu\"))\n",
    "\t\tmodel.add(MaxPooling2D(pool_size=(2, 2), strides=(2, 2)))\n",
    "\t\t# Flatten => RELU layers\n",
    "\t\tmodel.add(Flatten())\n",
    "\t\tmodel.add(Dense(500))\n",
    "\t\tmodel.add(Activation(\"relu\"))\n",
    "        \n",
    " \n",
    "\t\t# a softmax classifier\n",
    "\t\tmodel.add(Dense(classes))\n",
    "\t\tmodel.add(Activation(\"softmax\"))\n",
    "\n",
    "\t\treturn model"
   ]
  },
  {
   "cell_type": "code",
   "execution_count": 30,
   "metadata": {
    "collapsed": true
   },
   "outputs": [],
   "source": [
    "# network and training\n",
    "NB_EPOCH = 50\n",
    "BATCH_SIZE = 16\n",
    "VERBOSE = 1\n",
    "OPTIMIZER = Adam(lr=0.001, beta_1=0.9, beta_2=0.999, epsilon=1e-08, decay=0.0)\n",
    "VALIDATION_SPLIT=0.2\n",
    "\n",
    "IMG_ROWS, IMG_COLS = 75, 75 # input image dimensions\n",
    "IMG_CHANNELS = 2 # channels\n",
    "NB_CLASSES = 2  # number of outputs = number of digits\n",
    "INPUT_SHAPE = (IMG_ROWS, IMG_COLS, IMG_CHANNELS)"
   ]
  },
  {
   "cell_type": "code",
   "execution_count": 31,
   "metadata": {},
   "outputs": [],
   "source": [
    "# initialize the optimizer and model\n",
    "model = LeNet.build(input_shape=INPUT_SHAPE, classes=NB_CLASSES)\n",
    "model.compile(loss=\"binary_crossentropy\", optimizer=OPTIMIZER,\n",
    "\tmetrics=[\"accuracy\"])"
   ]
  },
  {
   "cell_type": "code",
   "execution_count": 32,
   "metadata": {},
   "outputs": [
    {
     "name": "stdout",
     "output_type": "stream",
     "text": [
      "Train on 641 samples, validate on 161 samples\n",
      "Epoch 1/50\n",
      "641/641 [==============================] - 1s - loss: 0.6490 - acc: 0.5679 - val_loss: 0.5758 - val_acc: 0.6957\n",
      "Epoch 2/50\n",
      "641/641 [==============================] - 0s - loss: 0.5635 - acc: 0.6677 - val_loss: 0.5485 - val_acc: 0.7081\n",
      "Epoch 3/50\n",
      "641/641 [==============================] - 0s - loss: 0.5466 - acc: 0.6661 - val_loss: 0.7160 - val_acc: 0.5155\n",
      "Epoch 4/50\n",
      "641/641 [==============================] - 0s - loss: 0.5299 - acc: 0.6849 - val_loss: 0.5261 - val_acc: 0.7143\n",
      "Epoch 5/50\n",
      "641/641 [==============================] - 0s - loss: 0.5037 - acc: 0.7176 - val_loss: 0.4891 - val_acc: 0.7205\n",
      "Epoch 6/50\n",
      "641/641 [==============================] - 0s - loss: 0.4868 - acc: 0.7379 - val_loss: 0.4618 - val_acc: 0.7516\n",
      "Epoch 7/50\n",
      "641/641 [==============================] - 0s - loss: 0.4789 - acc: 0.7613 - val_loss: 0.5060 - val_acc: 0.7329\n",
      "Epoch 8/50\n",
      "641/641 [==============================] - 0s - loss: 0.5064 - acc: 0.7145 - val_loss: 0.4779 - val_acc: 0.7267\n",
      "Epoch 9/50\n",
      "641/641 [==============================] - 0s - loss: 0.4811 - acc: 0.7551 - val_loss: 0.4541 - val_acc: 0.7516\n",
      "Epoch 10/50\n",
      "641/641 [==============================] - 0s - loss: 0.4773 - acc: 0.7582 - val_loss: 0.4566 - val_acc: 0.7640\n",
      "Epoch 11/50\n",
      "641/641 [==============================] - 0s - loss: 0.4413 - acc: 0.7660 - val_loss: 0.5194 - val_acc: 0.7391\n",
      "Epoch 12/50\n",
      "641/641 [==============================] - 0s - loss: 0.4205 - acc: 0.8034 - val_loss: 0.8718 - val_acc: 0.6087\n",
      "Epoch 13/50\n",
      "641/641 [==============================] - 0s - loss: 0.6251 - acc: 0.7083 - val_loss: 0.4942 - val_acc: 0.7267\n",
      "Epoch 14/50\n",
      "641/641 [==============================] - 0s - loss: 0.5050 - acc: 0.7176 - val_loss: 0.4880 - val_acc: 0.7267\n",
      "Epoch 15/50\n",
      "641/641 [==============================] - 0s - loss: 0.4839 - acc: 0.7441 - val_loss: 0.4906 - val_acc: 0.7391\n",
      "Epoch 16/50\n",
      "641/641 [==============================] - 0s - loss: 0.5026 - acc: 0.7145 - val_loss: 0.4945 - val_acc: 0.7329\n",
      "Epoch 17/50\n",
      "641/641 [==============================] - 0s - loss: 0.4777 - acc: 0.7457 - val_loss: 0.4770 - val_acc: 0.7453\n",
      "Epoch 18/50\n",
      "641/641 [==============================] - 0s - loss: 0.4706 - acc: 0.7644 - val_loss: 0.4739 - val_acc: 0.7453\n",
      "Epoch 19/50\n",
      "641/641 [==============================] - 0s - loss: 0.4687 - acc: 0.7520 - val_loss: 0.4425 - val_acc: 0.7764\n",
      "Epoch 20/50\n",
      "641/641 [==============================] - 0s - loss: 0.4261 - acc: 0.8034 - val_loss: 0.3894 - val_acc: 0.8075\n",
      "Epoch 21/50\n",
      "641/641 [==============================] - 0s - loss: 0.4663 - acc: 0.7629 - val_loss: 0.5096 - val_acc: 0.7329\n",
      "Epoch 22/50\n",
      "641/641 [==============================] - 0s - loss: 0.4472 - acc: 0.7800 - val_loss: 0.4537 - val_acc: 0.7516\n",
      "Epoch 23/50\n",
      "641/641 [==============================] - 0s - loss: 0.4123 - acc: 0.8175 - val_loss: 0.4921 - val_acc: 0.7764\n",
      "Epoch 24/50\n",
      "641/641 [==============================] - 0s - loss: 0.4234 - acc: 0.7956 - val_loss: 0.4318 - val_acc: 0.7950\n",
      "Epoch 25/50\n",
      "641/641 [==============================] - 0s - loss: 0.3916 - acc: 0.8253 - val_loss: 0.4079 - val_acc: 0.8012\n",
      "Epoch 26/50\n",
      "641/641 [==============================] - 0s - loss: 0.3852 - acc: 0.8112 - val_loss: 0.3993 - val_acc: 0.7950\n",
      "Epoch 27/50\n",
      "641/641 [==============================] - 0s - loss: 0.3663 - acc: 0.8206 - val_loss: 0.4466 - val_acc: 0.7516\n",
      "Epoch 28/50\n",
      "641/641 [==============================] - 0s - loss: 0.3912 - acc: 0.8159 - val_loss: 0.4294 - val_acc: 0.8012\n",
      "Epoch 29/50\n",
      "641/641 [==============================] - 0s - loss: 0.3569 - acc: 0.8409 - val_loss: 0.5294 - val_acc: 0.7329\n",
      "Epoch 30/50\n",
      "641/641 [==============================] - 0s - loss: 0.3517 - acc: 0.8424 - val_loss: 0.3630 - val_acc: 0.8323\n",
      "Epoch 31/50\n",
      "641/641 [==============================] - 0s - loss: 0.3832 - acc: 0.8268 - val_loss: 0.4128 - val_acc: 0.8137\n",
      "Epoch 32/50\n",
      "641/641 [==============================] - 0s - loss: 0.3316 - acc: 0.8674 - val_loss: 0.3854 - val_acc: 0.8385\n",
      "Epoch 33/50\n",
      "641/641 [==============================] - 0s - loss: 0.3042 - acc: 0.8861 - val_loss: 0.5093 - val_acc: 0.7702\n",
      "Epoch 34/50\n",
      "641/641 [==============================] - 0s - loss: 0.3336 - acc: 0.8534 - val_loss: 0.4070 - val_acc: 0.8075\n",
      "Epoch 35/50\n",
      "641/641 [==============================] - 0s - loss: 0.2741 - acc: 0.8861 - val_loss: 0.3685 - val_acc: 0.8137\n",
      "Epoch 36/50\n",
      "641/641 [==============================] - 0s - loss: 0.3058 - acc: 0.8705 - val_loss: 0.3637 - val_acc: 0.8261\n",
      "Epoch 37/50\n",
      "641/641 [==============================] - 0s - loss: 0.2342 - acc: 0.8986 - val_loss: 0.3657 - val_acc: 0.8075\n",
      "Epoch 38/50\n",
      "641/641 [==============================] - 0s - loss: 0.2234 - acc: 0.9064 - val_loss: 0.3487 - val_acc: 0.8447\n",
      "Epoch 39/50\n",
      "641/641 [==============================] - 0s - loss: 0.1978 - acc: 0.9189 - val_loss: 0.3591 - val_acc: 0.8509\n",
      "Epoch 40/50\n",
      "641/641 [==============================] - 0s - loss: 0.1892 - acc: 0.9282 - val_loss: 0.3459 - val_acc: 0.8509\n",
      "Epoch 41/50\n",
      "641/641 [==============================] - 0s - loss: 0.1879 - acc: 0.9095 - val_loss: 0.3355 - val_acc: 0.8509\n",
      "Epoch 42/50\n",
      "641/641 [==============================] - 0s - loss: 0.1711 - acc: 0.9298 - val_loss: 0.4643 - val_acc: 0.8199\n",
      "Epoch 43/50\n",
      "641/641 [==============================] - 0s - loss: 0.1521 - acc: 0.9329 - val_loss: 0.4849 - val_acc: 0.7950\n",
      "Epoch 44/50\n",
      "641/641 [==============================] - 0s - loss: 0.1542 - acc: 0.9360 - val_loss: 0.3985 - val_acc: 0.8509\n",
      "Epoch 45/50\n",
      "641/641 [==============================] - 0s - loss: 0.1012 - acc: 0.9672 - val_loss: 0.4387 - val_acc: 0.8509\n",
      "Epoch 46/50\n",
      "641/641 [==============================] - 0s - loss: 0.0915 - acc: 0.9735 - val_loss: 0.3756 - val_acc: 0.8634\n",
      "Epoch 47/50\n",
      "641/641 [==============================] - 0s - loss: 0.0979 - acc: 0.9688 - val_loss: 0.5040 - val_acc: 0.8447\n",
      "Epoch 48/50\n",
      "641/641 [==============================] - 0s - loss: 0.0857 - acc: 0.9688 - val_loss: 0.4214 - val_acc: 0.8385\n",
      "Epoch 49/50\n",
      "641/641 [==============================] - 0s - loss: 0.0486 - acc: 0.9906 - val_loss: 0.4366 - val_acc: 0.8571\n",
      "Epoch 50/50\n",
      "641/641 [==============================] - 0s - loss: 0.0427 - acc: 0.9938 - val_loss: 0.4088 - val_acc: 0.8571\n",
      "Testing...\n",
      "802/802 [==============================] - 0s     \n",
      "\n",
      "Test score: 0.62825285229\n",
      "Test accuracy: 0.824189526185\n"
     ]
    }
   ],
   "source": [
    "# train\n",
    "#optim = SGD(lr=0.01, decay=1e-6, momentum=0.9, nesterov=True)\n",
    "history = model.fit(X_train, y_train, batch_size=BATCH_SIZE,\n",
    "\tepochs=NB_EPOCH, validation_split=VALIDATION_SPLIT, \n",
    "\tverbose=VERBOSE)\n",
    " \n",
    "print('Testing...')\n",
    "score = model.evaluate(X_test, y_test,\n",
    "                     batch_size=BATCH_SIZE, verbose=VERBOSE)\n",
    "print(\"\\nTest score:\", score[0])\n",
    "print('Test accuracy:', score[1])\n",
    "\n",
    "#server.launch(model)\n"
   ]
  },
  {
   "cell_type": "code",
   "execution_count": null,
   "metadata": {
    "collapsed": true
   },
   "outputs": [],
   "source": [
    "#save model\n",
    "#model_json = model.to_json()\n",
    "#open('iceberg_architecture.json', 'w').write(model_json)\n",
    "#model.save_weights('iceberg_weights.h5', overwrite=True)"
   ]
  },
  {
   "cell_type": "code",
   "execution_count": 33,
   "metadata": {},
   "outputs": [
    {
     "name": "stdout",
     "output_type": "stream",
     "text": [
      "dict_keys(['val_loss', 'val_acc', 'loss', 'acc'])\n"
     ]
    },
    {
     "data": {
      "image/png": "[encoded data removed]",
      "text/plain": [
       "<matplotlib.figure.Figure at 0x7ff6757c88d0>"
      ]
     },
     "metadata": {},
     "output_type": "display_data"
    }
   ],
   "source": [
    "# list all data in history\n",
    "print(history.history.keys())\n",
    "# summarize history for accuracy\n",
    "#plt.plot(mo)\n",
    "plt.plot(history.history['val_acc'])\n",
    "plt.title('model accuracy')\n",
    "plt.ylabel('accuracy')\n",
    "plt.xlabel('epoch')\n",
    "plt.legend(['train', 'test'], loc='upper left')\n",
    "plt.show()\n"
   ]
  },
  {
   "cell_type": "code",
   "execution_count": 34,
   "metadata": {},
   "outputs": [
    {
     "data": {
      "image/png": "[encoded data removed]",
      "text/plain": [
       "<matplotlib.figure.Figure at 0x7ff6757a7080>"
      ]
     },
     "metadata": {},
     "output_type": "display_data"
    }
   ],
   "source": [
    "# summarize history for loss\n",
    "plt.plot(history.history['loss'])\n",
    "plt.plot(history.history['val_loss'])\n",
    "plt.title('model loss')\n",
    "plt.ylabel('loss')\n",
    "plt.xlabel('epoch')\n",
    "plt.legend(['train', 'test'], loc='upper left')\n",
    "plt.show()"
   ]
  },
  {
   "cell_type": "code",
   "execution_count": 35,
   "metadata": {
    "collapsed": true
   },
   "outputs": [],
   "source": [
    "test_predictions = model.predict(test_images)"
   ]
  },
  {
   "cell_type": "code",
   "execution_count": 37,
   "metadata": {},
   "outputs": [
    {
     "data": {
      "text/html": [
       "<div>\n",
       "<table border=\"1\" class=\"dataframe\">\n",
       "  <thead>\n",
       "    <tr style=\"text-align: right;\">\n",
       "      <th></th>\n",
       "      <th>id</th>\n",
       "      <th>is_iceberg</th>\n",
       "    </tr>\n",
       "  </thead>\n",
       "  <tbody>\n",
       "    <tr>\n",
       "      <th>7337</th>\n",
       "      <td>54156c1b</td>\n",
       "      <td>1.0</td>\n",
       "    </tr>\n",
       "    <tr>\n",
       "      <th>1729</th>\n",
       "      <td>1e053314</td>\n",
       "      <td>1.0</td>\n",
       "    </tr>\n",
       "    <tr>\n",
       "      <th>3587</th>\n",
       "      <td>88598e79</td>\n",
       "      <td>0.0</td>\n",
       "    </tr>\n",
       "    <tr>\n",
       "      <th>2818</th>\n",
       "      <td>576c6542</td>\n",
       "      <td>1.0</td>\n",
       "    </tr>\n",
       "    <tr>\n",
       "      <th>5962</th>\n",
       "      <td>f3433134</td>\n",
       "      <td>1.0</td>\n",
       "    </tr>\n",
       "    <tr>\n",
       "      <th>5411</th>\n",
       "      <td>807d6fa8</td>\n",
       "      <td>0.0</td>\n",
       "    </tr>\n",
       "    <tr>\n",
       "      <th>4117</th>\n",
       "      <td>963feedf</td>\n",
       "      <td>1.0</td>\n",
       "    </tr>\n",
       "    <tr>\n",
       "      <th>1791</th>\n",
       "      <td>7e9f355f</td>\n",
       "      <td>0.0</td>\n",
       "    </tr>\n",
       "    <tr>\n",
       "      <th>6734</th>\n",
       "      <td>8edd84ac</td>\n",
       "      <td>1.0</td>\n",
       "    </tr>\n",
       "    <tr>\n",
       "      <th>3096</th>\n",
       "      <td>5f483683</td>\n",
       "      <td>0.0</td>\n",
       "    </tr>\n",
       "  </tbody>\n",
       "</table>\n",
       "</div>"
      ],
      "text/plain": [
       "            id  is_iceberg\n",
       "7337  54156c1b         1.0\n",
       "1729  1e053314         1.0\n",
       "3587  88598e79         0.0\n",
       "2818  576c6542         1.0\n",
       "5962  f3433134         1.0\n",
       "5411  807d6fa8         0.0\n",
       "4117  963feedf         1.0\n",
       "1791  7e9f355f         0.0\n",
       "6734  8edd84ac         1.0\n",
       "3096  5f483683         0.0"
      ]
     },
     "execution_count": 37,
     "metadata": {},
     "output_type": "execute_result"
    }
   ],
   "source": [
    "pred_df = test_df[['id']].copy()\n",
    "pred_df['is_iceberg'] = test_predictions[:,1]\n",
    "pred_df.to_csv('predictions.csv', index = False)\n",
    "pred_df.sample(10)"
   ]
  },
  {
   "cell_type": "code",
   "execution_count": null,
   "metadata": {
    "collapsed": true
   },
   "outputs": [],
   "source": []
  }
 ],
 "metadata": {
  "hide_input": false,
  "kernelspec": {
   "display_name": "Python 3",
   "language": "python",
   "name": "python3"
  },
  "language_info": {
   "codemirror_mode": {
    "name": "ipython",
    "version": 3
   },
   "file_extension": ".py",
   "mimetype": "text/x-python",
   "name": "python",
   "nbconvert_exporter": "python",
   "pygments_lexer": "ipython3",
   "version": "3.4.3"
  }
 },
 "nbformat": 4,
 "nbformat_minor": 2
}
