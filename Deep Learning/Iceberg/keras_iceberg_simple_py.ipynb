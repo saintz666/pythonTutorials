{
 "cells": [
  {
   "cell_type": "code",
   "execution_count": 11,
   "metadata": {
    "collapsed": true
   },
   "outputs": [],
   "source": [
    "from keras.datasets import cifar10\n",
    "from keras.utils import np_utils\n",
    "from keras.models import Sequential\n",
    "from keras.layers.core import Dense, Dropout, Activation, Flatten\n",
    "from keras.layers.convolutional import Conv2D, MaxPooling2D\n",
    "from keras.optimizers import SGD, Adam, RMSprop\n",
    "\n",
    "import os\n",
    "import numpy as np\n",
    "import pandas as pd\n",
    "import matplotlib.pyplot as plt\n",
    "%matplotlib inline"
   ]
  },
  {
   "cell_type": "code",
   "execution_count": 2,
   "metadata": {
    "collapsed": true
   },
   "outputs": [],
   "source": [
    "def load_and_format(in_path):\n",
    "    out_df = pd.read_json(in_path)\n",
    "    out_images = out_df.apply(lambda c_row: [np.stack([c_row['band_1'],c_row['band_2']], -1).reshape((75,75,2))],1)\n",
    "    out_images = np.stack(out_images).squeeze()\n",
    "    return out_df, out_images\n"
   ]
  },
  {
   "cell_type": "code",
   "execution_count": 3,
   "metadata": {
    "collapsed": true
   },
   "outputs": [],
   "source": [
    "base_path = 'data/iceberg'"
   ]
  },
  {
   "cell_type": "code",
   "execution_count": 4,
   "metadata": {
    "collapsed": false
   },
   "outputs": [
    {
     "name": "stdout",
     "output_type": "stream",
     "text": [
      "training (1604, 5) loaded (1604, 75, 75, 2)\n",
      "testing (8424, 4) loaded (8424, 75, 75, 2)\n"
     ]
    },
    {
     "data": {
      "text/html": [
       "<div>\n",
       "<table border=\"1\" class=\"dataframe\">\n",
       "  <thead>\n",
       "    <tr style=\"text-align: right;\">\n",
       "      <th></th>\n",
       "      <th>band_1</th>\n",
       "      <th>band_2</th>\n",
       "      <th>id</th>\n",
       "      <th>inc_angle</th>\n",
       "      <th>is_iceberg</th>\n",
       "    </tr>\n",
       "  </thead>\n",
       "  <tbody>\n",
       "    <tr>\n",
       "      <th>199</th>\n",
       "      <td>[-23.31403, -22.291029, -20.707455, -24.229328...</td>\n",
       "      <td>[-28.120672, -27.396479, -28.506874, -30.74640...</td>\n",
       "      <td>bdc40587</td>\n",
       "      <td>40.9817</td>\n",
       "      <td>0</td>\n",
       "    </tr>\n",
       "    <tr>\n",
       "      <th>587</th>\n",
       "      <td>[-26.870293, -28.578964, -25.443308, -27.18637...</td>\n",
       "      <td>[-23.772255, -22.944468, -21.165712, -22.55849...</td>\n",
       "      <td>94e0a5db</td>\n",
       "      <td>35.6314</td>\n",
       "      <td>0</td>\n",
       "    </tr>\n",
       "    <tr>\n",
       "      <th>1351</th>\n",
       "      <td>[-27.849041, -28.235186, -25.83572, -25.83572,...</td>\n",
       "      <td>[-29.978146, -31.561813, -32.80481, -32.80481,...</td>\n",
       "      <td>c2b88693</td>\n",
       "      <td>43.7871</td>\n",
       "      <td>0</td>\n",
       "    </tr>\n",
       "  </tbody>\n",
       "</table>\n",
       "</div>"
      ],
      "text/plain": [
       "                                                 band_1  \\\n",
       "199   [-23.31403, -22.291029, -20.707455, -24.229328...   \n",
       "587   [-26.870293, -28.578964, -25.443308, -27.18637...   \n",
       "1351  [-27.849041, -28.235186, -25.83572, -25.83572,...   \n",
       "\n",
       "                                                 band_2        id inc_angle  \\\n",
       "199   [-28.120672, -27.396479, -28.506874, -30.74640...  bdc40587   40.9817   \n",
       "587   [-23.772255, -22.944468, -21.165712, -22.55849...  94e0a5db   35.6314   \n",
       "1351  [-29.978146, -31.561813, -32.80481, -32.80481,...  c2b88693   43.7871   \n",
       "\n",
       "      is_iceberg  \n",
       "199            0  \n",
       "587            0  \n",
       "1351           0  "
      ]
     },
     "execution_count": 4,
     "metadata": {},
     "output_type": "execute_result"
    }
   ],
   "source": [
    "train_df, train_images = load_and_format(os.path.join(base_path, 'train.json'))\n",
    "print('training', train_df.shape, 'loaded', train_images.shape)\n",
    "test_df, test_images = load_and_format(os.path.join(base_path, 'test.json'))\n",
    "print('testing', test_df.shape, 'loaded', test_images.shape)\n",
    "train_df.sample(3)"
   ]
  },
  {
   "cell_type": "code",
   "execution_count": 5,
   "metadata": {
    "collapsed": false
   },
   "outputs": [
    {
     "name": "stdout",
     "output_type": "stream",
     "text": [
      "Train (802, 75, 75, 2) (802, 2)\n",
      "Validation (802, 75, 75, 2) (802, 2)\n"
     ]
    }
   ],
   "source": [
    "from sklearn.model_selection import train_test_split\n",
    "from keras.utils.np_utils import to_categorical\n",
    "X_train, X_test, y_train, y_test = train_test_split(train_images,\n",
    "                                                   to_categorical(train_df['is_iceberg']),\n",
    "                                                    random_state = 2017,\n",
    "                                                    test_size = 0.5\n",
    "                                                   )\n",
    "print('Train', X_train.shape, y_train.shape)\n",
    "print('Validation', X_test.shape, y_test.shape)"
   ]
  },
  {
   "cell_type": "code",
   "execution_count": 9,
   "metadata": {
    "collapsed": false
   },
   "outputs": [
    {
     "name": "stdout",
     "output_type": "stream",
     "text": [
      "_________________________________________________________________\n",
      "Layer (type)                 Output Shape              Param #   \n",
      "=================================================================\n",
      "conv2d_2 (Conv2D)            (None, 75, 75, 32)        608       \n",
      "_________________________________________________________________\n",
      "activation_4 (Activation)    (None, 75, 75, 32)        0         \n",
      "_________________________________________________________________\n",
      "max_pooling2d_2 (MaxPooling2 (None, 37, 37, 32)        0         \n",
      "_________________________________________________________________\n",
      "dropout_3 (Dropout)          (None, 37, 37, 32)        0         \n",
      "_________________________________________________________________\n",
      "flatten_2 (Flatten)          (None, 43808)             0         \n",
      "_________________________________________________________________\n",
      "dense_3 (Dense)              (None, 512)               22430208  \n",
      "_________________________________________________________________\n",
      "activation_5 (Activation)    (None, 512)               0         \n",
      "_________________________________________________________________\n",
      "dropout_4 (Dropout)          (None, 512)               0         \n",
      "_________________________________________________________________\n",
      "dense_4 (Dense)              (None, 2)                 1026      \n",
      "_________________________________________________________________\n",
      "activation_6 (Activation)    (None, 2)                 0         \n",
      "=================================================================\n",
      "Total params: 22,431,842\n",
      "Trainable params: 22,431,842\n",
      "Non-trainable params: 0\n",
      "_________________________________________________________________\n"
     ]
    }
   ],
   "source": [
    "# network\n",
    "\n",
    "IMG_CHANNELS = 2\n",
    "IMG_ROWS = 75\n",
    "IMG_COLS = 75\n",
    "\n",
    "#constant\n",
    "BATCH_SIZE = 128\n",
    "NB_EPOCH = 20\n",
    "NB_CLASSES = 2\n",
    "VERBOSE = 1\n",
    "VALIDATION_SPLIT = 0.2\n",
    "OPTIM = RMSprop()\n",
    "\n",
    "model = Sequential()\n",
    "model.add(Conv2D(32, (3, 3), padding='same',\n",
    "                 input_shape=(IMG_ROWS, IMG_COLS, IMG_CHANNELS)))\n",
    "model.add(Activation('relu'))\n",
    "model.add(MaxPooling2D(pool_size=(2, 2)))\n",
    "model.add(Dropout(0.25))\n",
    "  \n",
    "model.add(Flatten())\n",
    "model.add(Dense(512))\n",
    "model.add(Activation('relu'))\n",
    "model.add(Dropout(0.5))\n",
    "model.add(Dense(NB_CLASSES))\n",
    "model.add(Activation('softmax'))\n",
    "\n",
    "model.summary()"
   ]
  },
  {
   "cell_type": "code",
   "execution_count": 10,
   "metadata": {
    "collapsed": false
   },
   "outputs": [
    {
     "name": "stdout",
     "output_type": "stream",
     "text": [
      "Train on 641 samples, validate on 161 samples\n",
      "Epoch 1/20\n",
      "641/641 [==============================] - 1s - loss: 6.8542 - acc: 0.5413 - val_loss: 7.8088 - val_acc: 0.5155\n",
      "Epoch 2/20\n",
      "641/641 [==============================] - 0s - loss: 7.3676 - acc: 0.5429 - val_loss: 7.8088 - val_acc: 0.5155\n",
      "Epoch 3/20\n",
      "641/641 [==============================] - 0s - loss: 7.3173 - acc: 0.5460 - val_loss: 7.8088 - val_acc: 0.5155\n",
      "Epoch 4/20\n",
      "641/641 [==============================] - 0s - loss: 7.9428 - acc: 0.5055 - val_loss: 8.3093 - val_acc: 0.4845\n",
      "Epoch 5/20\n",
      "641/641 [==============================] - 0s - loss: 8.7757 - acc: 0.4555 - val_loss: 8.3093 - val_acc: 0.4845\n",
      "Epoch 6/20\n",
      "641/641 [==============================] - 0s - loss: 8.7757 - acc: 0.4555 - val_loss: 8.3093 - val_acc: 0.4845\n",
      "Epoch 7/20\n",
      "641/641 [==============================] - 0s - loss: 8.8008 - acc: 0.4540 - val_loss: 8.3093 - val_acc: 0.4845\n",
      "Epoch 8/20\n",
      "641/641 [==============================] - 0s - loss: 8.8008 - acc: 0.4540 - val_loss: 8.3093 - val_acc: 0.4845\n",
      "Epoch 9/20\n",
      "641/641 [==============================] - 0s - loss: 8.8008 - acc: 0.4540 - val_loss: 8.3093 - val_acc: 0.4845\n",
      "Epoch 10/20\n",
      "641/641 [==============================] - 0s - loss: 8.8008 - acc: 0.4540 - val_loss: 8.3093 - val_acc: 0.4845\n",
      "Epoch 11/20\n",
      "641/641 [==============================] - 0s - loss: 8.8511 - acc: 0.4509 - val_loss: 8.3093 - val_acc: 0.4845\n",
      "Epoch 12/20\n",
      "641/641 [==============================] - 0s - loss: 8.7757 - acc: 0.4555 - val_loss: 8.3093 - val_acc: 0.4845\n",
      "Epoch 13/20\n",
      "641/641 [==============================] - 0s - loss: 8.7757 - acc: 0.4555 - val_loss: 8.3093 - val_acc: 0.4845\n",
      "Epoch 14/20\n",
      "641/641 [==============================] - 0s - loss: 8.7757 - acc: 0.4555 - val_loss: 8.3093 - val_acc: 0.4845\n",
      "Epoch 15/20\n",
      "641/641 [==============================] - 0s - loss: 8.7757 - acc: 0.4555 - val_loss: 8.3093 - val_acc: 0.4845\n",
      "Epoch 16/20\n",
      "641/641 [==============================] - 0s - loss: 8.8008 - acc: 0.4540 - val_loss: 8.3093 - val_acc: 0.4845\n",
      "Epoch 17/20\n",
      "641/641 [==============================] - 0s - loss: 8.8260 - acc: 0.4524 - val_loss: 8.3093 - val_acc: 0.4845\n",
      "Epoch 18/20\n",
      "641/641 [==============================] - 0s - loss: 8.7505 - acc: 0.4571 - val_loss: 8.3093 - val_acc: 0.4845\n",
      "Epoch 19/20\n",
      "641/641 [==============================] - 0s - loss: 8.8008 - acc: 0.4540 - val_loss: 8.3093 - val_acc: 0.4845\n",
      "Epoch 20/20\n",
      "641/641 [==============================] - 0s - loss: 8.7757 - acc: 0.4555 - val_loss: 8.3093 - val_acc: 0.4845\n",
      "Testing...\n",
      "802/802 [==============================] - ETA:  - 0s     \n",
      "\n",
      "Test score: 8.40070310198\n",
      "Test accuracy: 0.478802992593\n"
     ]
    }
   ],
   "source": [
    "# train\n",
    "#optim = SGD(lr=0.01, decay=1e-6, momentum=0.9, nesterov=True)\n",
    "model.compile(loss='categorical_crossentropy', optimizer=OPTIM,\n",
    "\tmetrics=['accuracy'])\n",
    " \n",
    "history = model.fit(X_train, y_train, batch_size=BATCH_SIZE,\n",
    "\tepochs=NB_EPOCH, validation_split=VALIDATION_SPLIT, \n",
    "\tverbose=VERBOSE)\n",
    " \n",
    "print('Testing...')\n",
    "score = model.evaluate(X_test, y_test,\n",
    "                     batch_size=BATCH_SIZE, verbose=VERBOSE)\n",
    "print(\"\\nTest score:\", score[0])\n",
    "print('Test accuracy:', score[1])\n",
    "\n",
    "#server.launch(model)\n"
   ]
  },
  {
   "cell_type": "code",
   "execution_count": 12,
   "metadata": {
    "collapsed": true
   },
   "outputs": [],
   "source": [
    "#save model\n",
    "model_json = model.to_json()\n",
    "open('iceberg_architecture.json', 'w').write(model_json)\n",
    "model.save_weights('iceberg_weights.h5', overwrite=True)"
   ]
  },
  {
   "cell_type": "code",
   "execution_count": 13,
   "metadata": {
    "collapsed": false
   },
   "outputs": [
    {
     "name": "stdout",
     "output_type": "stream",
     "text": [
      "dict_keys(['val_acc', 'loss', 'acc', 'val_loss'])\n"
     ]
    },
    {
     "data": {
      "image/png": "[encoded data removed]",
      "text/plain": [
       "<matplotlib.figure.Figure at 0x7fe347bd07f0>"
      ]
     },
     "metadata": {},
     "output_type": "display_data"
    }
   ],
   "source": [
    "# list all data in history\n",
    "print(history.history.keys())\n",
    "# summarize history for accuracy\n",
    "#plt.plot(mo)\n",
    "plt.plot(history.history['val_acc'])\n",
    "plt.title('model accuracy')\n",
    "plt.ylabel('accuracy')\n",
    "plt.xlabel('epoch')\n",
    "plt.legend(['train', 'test'], loc='upper left')\n",
    "plt.show()\n"
   ]
  },
  {
   "cell_type": "code",
   "execution_count": 14,
   "metadata": {
    "collapsed": false
   },
   "outputs": [
    {
     "data": {
      "image/png": "[encoded data removed]",
      "text/plain": [
       "<matplotlib.figure.Figure at 0x7fe33c047b38>"
      ]
     },
     "metadata": {},
     "output_type": "display_data"
    }
   ],
   "source": [
    "# summarize history for loss\n",
    "plt.plot(history.history['loss'])\n",
    "plt.plot(history.history['val_loss'])\n",
    "plt.title('model loss')\n",
    "plt.ylabel('loss')\n",
    "plt.xlabel('epoch')\n",
    "plt.legend(['train', 'test'], loc='upper left')\n",
    "plt.show()"
   ]
  },
  {
   "cell_type": "code",
   "execution_count": null,
   "metadata": {
    "collapsed": true
   },
   "outputs": [],
   "source": []
  }
 ],
 "metadata": {
  "anaconda-cloud": {},
  "hide_input": false,
  "kernelspec": {
   "display_name": "Python [default]",
   "language": "python",
   "name": "python3"
  },
  "language_info": {
   "codemirror_mode": {
    "name": "ipython",
    "version": 3
   },
   "file_extension": ".py",
   "mimetype": "text/x-python",
   "name": "python",
   "nbconvert_exporter": "python",
   "pygments_lexer": "ipython3",
   "version": "3.5.1"
  }
 },
 "nbformat": 4,
 "nbformat_minor": 2
}
