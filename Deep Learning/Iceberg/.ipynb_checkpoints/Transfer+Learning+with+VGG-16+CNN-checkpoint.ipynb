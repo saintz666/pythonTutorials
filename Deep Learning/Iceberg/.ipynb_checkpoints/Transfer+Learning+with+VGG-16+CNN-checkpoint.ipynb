{
 "cells": [
  {
   "cell_type": "code",
   "execution_count": 1,
   "metadata": {
    "collapsed": true
   },
   "outputs": [],
   "source": [
    "import numpy as np # linear algebra\n",
    "import pandas as pd # data processing, CSV file I/O (e.g. pd.read_csv)"
   ]
  },
  {
   "cell_type": "markdown",
   "metadata": {},
   "source": [
    "Runs on GPU There is some compatiblity issue with CPUs\n",
    "\n",
    "Hyperparameters in Deep learning are many, tuning them will take weeks or months. Generally researchers do this tuning and publish paper when they find a nice set of architecture which performs better than other.\n",
    "\n",
    "Since the model is pre-trained, it converges very fast and you but still you need GPU to use this. Due to some library issues, it doesn't work on CPU.\n",
    "\n",
    "For our purpose, we can use those architectures, which are made available by those researchers to us.\n",
    "\n",
    "Using those pretrained nets, layers of which already 'knows' how to extract features, we can don't have to tune the hyperparameters. Since they are already trained of some dataset(say imagenet), their pre-trained weights provide a good initialization of weights and because of this, our Convnet converges very fast which otherwise can take days on these deep architectures. That's the idea behind Transfer Learning. Examples of which are VGG16, InceptionNet, goolenet, Resnet etc.\n",
    "\n",
    "In this kernel we will use pretrained VGG-16 network which performs very well on small size images.\n",
    "\n",
    "5. VGG architecture has proved to worked well on small sized images(CIFAR-10) I expected it to work well for this dataset as well.\n",
    "\n",
    "The code also includes the data augmentation steps, thus considerably improving the performance.\n",
    "\n",
    "GPU is needed\n",
    "\n",
    "Here is the link of the research paper if you are interested. https://arxiv.org/pdf/1409.1556.pdf\n",
    "\n",
    "Also here is the doc for keras library: https://keras.io/applications/#vgg16\n",
    "\n",
    "https://www.kaggle.com/devm2024/transfer-learning-with-vgg-16-cnn-aug-lb-0-1712"
   ]
  },
  {
   "cell_type": "code",
   "execution_count": 3,
   "metadata": {
    "collapsed": true
   },
   "outputs": [],
   "source": [
    "#Mandatory imports\n",
    "import numpy as np\n",
    "import pandas as pd\n",
    "from sklearn.model_selection import train_test_split\n",
    "from sklearn.metrics import log_loss\n",
    "from sklearn.model_selection import StratifiedKFold, StratifiedShuffleSplit\n",
    "from os.path import join as opj\n",
    "from matplotlib import pyplot as plt\n",
    "from mpl_toolkits.mplot3d import Axes3D\n",
    "import pylab\n",
    "plt.rcParams['figure.figsize'] = 10, 10\n",
    "%matplotlib inline"
   ]
  },
  {
   "cell_type": "code",
   "execution_count": 4,
   "metadata": {
    "collapsed": true
   },
   "outputs": [],
   "source": [
    "train = pd.read_json(\"data/iceberg/train.json\")\n",
    "target_train=train['is_iceberg']\n",
    "test = pd.read_json(\"data/iceberg/test.json\")"
   ]
  },
  {
   "cell_type": "markdown",
   "metadata": {},
   "source": [
    "###### Keras provide the implementation of pretrained VGG, it in it's library so we don't have to build the net by ourselves. Here we are removing the last layer of VGG and putting our sigmoid layer for binary predictions."
   ]
  },
  {
   "cell_type": "code",
   "execution_count": 5,
   "metadata": {
    "collapsed": true
   },
   "outputs": [],
   "source": [
    "target_train=train['is_iceberg']\n",
    "test['inc_angle']=pd.to_numeric(test['inc_angle'], errors='coerce')\n",
    "train['inc_angle']=pd.to_numeric(train['inc_angle'], errors='coerce')#We have only 133 NAs.\n",
    "train['inc_angle']=train['inc_angle'].fillna(method='pad')\n",
    "X_angle=train['inc_angle']\n",
    "test['inc_angle']=pd.to_numeric(test['inc_angle'], errors='coerce')\n",
    "X_test_angle=test['inc_angle']"
   ]
  },
  {
   "cell_type": "code",
   "execution_count": 6,
   "metadata": {
    "collapsed": true
   },
   "outputs": [],
   "source": [
    "#Generate the training data\n",
    "X_band_1=np.array([np.array(band).astype(np.float32).reshape(75, 75) for band in train[\"band_1\"]])\n",
    "X_band_2=np.array([np.array(band).astype(np.float32).reshape(75, 75) for band in train[\"band_2\"]])\n",
    "X_band_3=(X_band_1+X_band_2)/2\n",
    "#X_band_3=np.array([np.full((75, 75), angel).astype(np.float32) for angel in train[\"inc_angle\"]])\n",
    "X_train = np.concatenate([X_band_1[:, :, :, np.newaxis]\n",
    "                          , X_band_2[:, :, :, np.newaxis]\n",
    "                         , X_band_3[:, :, :, np.newaxis]], axis=-1)\n"
   ]
  },
  {
   "cell_type": "code",
   "execution_count": 7,
   "metadata": {
    "collapsed": true
   },
   "outputs": [],
   "source": [
    "X_band_test_1=np.array([np.array(band).astype(np.float32).reshape(75, 75) for band in test[\"band_1\"]])\n",
    "X_band_test_2=np.array([np.array(band).astype(np.float32).reshape(75, 75) for band in test[\"band_2\"]])\n",
    "X_band_test_3=(X_band_test_1+X_band_test_2)/2\n",
    "#X_band_test_3=np.array([np.full((75, 75), angel).astype(np.float32) for angel in test[\"inc_angle\"]])\n",
    "X_test = np.concatenate([X_band_test_1[:, :, :, np.newaxis]\n",
    "                          , X_band_test_2[:, :, :, np.newaxis]\n",
    "                         , X_band_test_3[:, :, :, np.newaxis]], axis=-1)\n"
   ]
  },
  {
   "cell_type": "code",
   "execution_count": 9,
   "metadata": {
    "collapsed": true
   },
   "outputs": [],
   "source": [
    "#Import Keras.\n",
    "from matplotlib import pyplot\n",
    "from keras.optimizers import RMSprop\n",
    "from keras.preprocessing.image import ImageDataGenerator\n",
    "from keras.models import Sequential\n",
    "from keras.layers import Conv2D, MaxPooling2D, Dense, Dropout, Input, Flatten, Activation\n",
    "from keras.layers import GlobalMaxPooling2D\n",
    "from keras.layers.normalization import BatchNormalization\n",
    "from keras.layers.merge import Concatenate\n",
    "from keras.models import Model\n",
    "from keras import initializers\n",
    "from keras.optimizers import Adam\n",
    "from keras.optimizers import rmsprop\n",
    "from keras.layers.advanced_activations import LeakyReLU, PReLU\n",
    "from keras.optimizers import SGD\n",
    "from keras.callbacks import ModelCheckpoint, Callback, EarlyStopping\n",
    "\n",
    "from keras.datasets import cifar10\n",
    "from keras.applications.inception_v3 import InceptionV3\n",
    "from keras.applications.vgg16 import VGG16\n",
    "from keras.applications.xception import Xception\n",
    "#from keras.applications.mobilenet import MobileNet\n",
    "from keras.applications.vgg19 import VGG19\n",
    "from keras.layers import Concatenate, Dense, LSTM, Input, concatenate\n",
    "from keras.preprocessing import image\n",
    "from keras.applications.vgg16 import preprocess_input\t"
   ]
  },
  {
   "cell_type": "code",
   "execution_count": 10,
   "metadata": {
    "collapsed": true
   },
   "outputs": [],
   "source": [
    "#Data Aug for multi-input\n",
    "from keras.preprocessing.image import ImageDataGenerator\n",
    "batch_size=64\n",
    "# Define the image transformations here\n",
    "gen = ImageDataGenerator(horizontal_flip = True,\n",
    "                         vertical_flip = True,\n",
    "                         width_shift_range = 0.,\n",
    "                         height_shift_range = 0.,\n",
    "                         channel_shift_range=0,\n",
    "                         zoom_range = 0.2,\n",
    "                         rotation_range = 10)"
   ]
  },
  {
   "cell_type": "code",
   "execution_count": 11,
   "metadata": {
    "collapsed": true
   },
   "outputs": [],
   "source": [
    "# Here is the function that merges our two generators\n",
    "# We use the exact same generator with the same random seed for both the y and angle arrays\n",
    "def gen_flow_for_two_inputs(X1, X2, y):\n",
    "    genX1 = gen.flow(X1,y,  batch_size=batch_size,seed=55)\n",
    "    genX2 = gen.flow(X1,X2, batch_size=batch_size,seed=55)\n",
    "    while True:\n",
    "            X1i = genX1.next()\n",
    "            X2i = genX2.next()\n",
    "            #Assert arrays are equal - this was for peace of mind, but slows down training\n",
    "            #np.testing.assert_array_equal(X1i[0],X2i[0])\n",
    "            yield [X1i[0], X2i[1]], X1i[1]"
   ]
  },
  {
   "cell_type": "code",
   "execution_count": 12,
   "metadata": {
    "collapsed": true
   },
   "outputs": [],
   "source": [
    "# Finally create generator\n",
    "def get_callbacks(filepath, patience=2):\n",
    "   es = EarlyStopping('val_loss', patience=10, mode=\"min\")\n",
    "   msave = ModelCheckpoint(filepath, save_best_only=True)\n",
    "   return [es, msave]"
   ]
  },
  {
   "cell_type": "code",
   "execution_count": 13,
   "metadata": {
    "collapsed": true
   },
   "outputs": [],
   "source": [
    "def getVggAngleModel():\n",
    "    input_2 = Input(shape=[1], name=\"angle\")\n",
    "    angle_layer = Dense(1, )(input_2)\n",
    "    base_model = VGG16(weights='imagenet', include_top=False, \n",
    "                 input_shape=X_train.shape[1:], classes=1)\n",
    "    x = base_model.get_layer('block5_pool').output\n",
    "    \n",
    "\n",
    "    x = GlobalMaxPooling2D()(x)\n",
    "    merge_one = concatenate([x, angle_layer])\n",
    "    merge_one = Dense(512, activation='relu', name='fc2')(merge_one)\n",
    "    merge_one = Dropout(0.3)(merge_one)\n",
    "    merge_one = Dense(512, activation='relu', name='fc3')(merge_one)\n",
    "    merge_one = Dropout(0.3)(merge_one)\n",
    "    \n",
    "    predictions = Dense(1, activation='sigmoid')(merge_one)\n",
    "    \n",
    "    model = Model(input=[base_model.input, input_2], output=predictions)\n",
    "    \n",
    "    sgd = SGD(lr=1e-3, decay=1e-6, momentum=0.9, nesterov=True)\n",
    "    model.compile(loss='binary_crossentropy',\n",
    "                  optimizer=sgd,\n",
    "                  metrics=['accuracy'])\n",
    "    return model"
   ]
  },
  {
   "cell_type": "code",
   "execution_count": 16,
   "metadata": {
    "collapsed": true
   },
   "outputs": [],
   "source": [
    "#Using K-fold Cross Validation with Data Augmentation.\n",
    "def myAngleCV(X_train, X_angle, X_test):\n",
    "    K=3\n",
    "    folds = list(StratifiedKFold(n_splits=K, shuffle=True, random_state=16).split(X_train, target_train))\n",
    "    y_test_pred_log = 0\n",
    "    y_train_pred_log=0\n",
    "    y_valid_pred_log = 0.0*target_train\n",
    "    for j, (train_idx, test_idx) in enumerate(folds):\n",
    "        print('\\n===================FOLD=',j)\n",
    "        X_train_cv = X_train[train_idx]\n",
    "        y_train_cv = target_train[train_idx]\n",
    "        X_holdout = X_train[test_idx]\n",
    "        Y_holdout= target_train[test_idx]\n",
    "        \n",
    "        #Angle\n",
    "        X_angle_cv=X_angle[train_idx]\n",
    "        X_angle_hold=X_angle[test_idx]\n",
    "\n",
    "        #define file path and get callbacks\n",
    "        file_path = \"%s_aug_model_weights.hdf5\"%j\n",
    "        callbacks = get_callbacks(filepath=file_path, patience=5)\n",
    "        gen_flow = gen_flow_for_two_inputs(X_train_cv, X_angle_cv, y_train_cv)\n",
    "        galaxyModel= getVggAngleModel()\n",
    "        galaxyModel.fit_generator(\n",
    "                gen_flow,\n",
    "                steps_per_epoch=24,\n",
    "                epochs=100,\n",
    "                #shuffle=True,\n",
    "                verbose=1,\n",
    "                validation_data=([X_holdout,X_angle_hold], Y_holdout),\n",
    "                callbacks=callbacks)\n",
    "\n",
    "        #Getting the Best Model\n",
    "        galaxyModel.load_weights(filepath=file_path)\n",
    "        #Getting Training Score\n",
    "        score = galaxyModel.evaluate([X_train_cv,X_angle_cv], y_train_cv, verbose=0)\n",
    "        print('Train loss:', score[0])\n",
    "        print('Train accuracy:', score[1])\n",
    "        #Getting Test Score\n",
    "        score = galaxyModel.evaluate([X_holdout,X_angle_hold], Y_holdout, verbose=0)\n",
    "        print('Test loss:', score[0])\n",
    "        print('Test accuracy:', score[1])\n",
    "\n",
    "        #Getting validation Score.\n",
    "        pred_valid=galaxyModel.predict([X_holdout,X_angle_hold])\n",
    "        y_valid_pred_log[test_idx] = pred_valid.reshape(pred_valid.shape[0])\n",
    "\n",
    "        #Getting Test Scores\n",
    "        temp_test=galaxyModel.predict([X_test, X_test_angle])\n",
    "        y_test_pred_log+=temp_test.reshape(temp_test.shape[0])\n",
    "\n",
    "        #Getting Train Scores\n",
    "        temp_train=galaxyModel.predict([X_train, X_angle])\n",
    "        y_train_pred_log+=temp_train.reshape(temp_train.shape[0])\n",
    "\n",
    "    y_test_pred_log=y_test_pred_log/K\n",
    "    y_train_pred_log=y_train_pred_log/K\n",
    "\n",
    "    print('\\n Train Log Loss Validation= ',log_loss(target_train, y_train_pred_log))\n",
    "    print(' Test Log Loss Validation= ',log_loss(target_train, y_valid_pred_log))\n",
    "    return y_test_pred_log"
   ]
  },
  {
   "cell_type": "code",
   "execution_count": 17,
   "metadata": {
    "collapsed": false
   },
   "outputs": [
    {
     "name": "stdout",
     "output_type": "stream",
     "text": [
      "\n",
      "===================FOLD= 0\n"
     ]
    },
    {
     "name": "stderr",
     "output_type": "stream",
     "text": [
      "/usr/local/lib/python3.4/dist-packages/ipykernel/__main__.py:18: UserWarning: Update your `Model` call to the Keras 2 API: `Model(outputs=Tensor(\"de..., inputs=[<tf.Tenso...)`\n"
     ]
    },
    {
     "name": "stdout",
     "output_type": "stream",
     "text": [
      "Epoch 1/100\n",
      "24/24 [==============================] - 19s - loss: 0.6439 - acc: 0.6510 - val_loss: 0.3780 - val_acc: 0.8112\n",
      "Epoch 2/100\n",
      "24/24 [==============================] - 13s - loss: 0.4417 - acc: 0.7918 - val_loss: 0.4069 - val_acc: 0.8112\n",
      "Epoch 3/100\n",
      "24/24 [==============================] - 20s - loss: 0.3594 - acc: 0.8272 - val_loss: 0.2680 - val_acc: 0.8692\n",
      "Epoch 4/100\n",
      "24/24 [==============================] - 21s - loss: 0.3117 - acc: 0.8545 - val_loss: 0.2453 - val_acc: 0.8879\n",
      "Epoch 5/100\n",
      "24/24 [==============================] - 13s - loss: 0.2739 - acc: 0.8818 - val_loss: 0.2458 - val_acc: 0.8841\n",
      "Epoch 6/100\n",
      "24/24 [==============================] - 20s - loss: 0.2737 - acc: 0.8726 - val_loss: 0.2042 - val_acc: 0.9084\n",
      "Epoch 7/100\n",
      "24/24 [==============================] - 13s - loss: 0.2429 - acc: 0.8937 - val_loss: 0.2109 - val_acc: 0.9103\n",
      "Epoch 8/100\n",
      "24/24 [==============================] - 20s - loss: 0.2546 - acc: 0.8949 - val_loss: 0.1974 - val_acc: 0.9159\n",
      "Epoch 9/100\n",
      "24/24 [==============================] - 20s - loss: 0.2178 - acc: 0.9115 - val_loss: 0.1956 - val_acc: 0.9196\n",
      "Epoch 10/100\n",
      "24/24 [==============================] - 20s - loss: 0.2264 - acc: 0.9095 - val_loss: 0.1908 - val_acc: 0.9252\n",
      "Epoch 11/100\n",
      "24/24 [==============================] - 13s - loss: 0.2100 - acc: 0.9143 - val_loss: 0.1985 - val_acc: 0.9140\n",
      "Epoch 12/100\n",
      "24/24 [==============================] - 13s - loss: 0.2121 - acc: 0.9104 - val_loss: 0.1994 - val_acc: 0.9215\n",
      "Epoch 13/100\n",
      "24/24 [==============================] - 20s - loss: 0.2016 - acc: 0.9118 - val_loss: 0.1901 - val_acc: 0.9215\n",
      "Epoch 14/100\n",
      "24/24 [==============================] - 21s - loss: 0.1891 - acc: 0.9222 - val_loss: 0.1839 - val_acc: 0.9252\n",
      "Epoch 15/100\n",
      "24/24 [==============================] - 13s - loss: 0.1848 - acc: 0.9284 - val_loss: 0.2086 - val_acc: 0.9084\n",
      "Epoch 16/100\n",
      "24/24 [==============================] - 13s - loss: 0.2003 - acc: 0.9173 - val_loss: 0.2001 - val_acc: 0.9252\n",
      "Epoch 17/100\n",
      "24/24 [==============================] - 14s - loss: 0.1905 - acc: 0.9203 - val_loss: 0.1885 - val_acc: 0.9271\n",
      "Epoch 18/100\n",
      "24/24 [==============================] - 13s - loss: 0.1812 - acc: 0.9281 - val_loss: 0.2120 - val_acc: 0.9196\n",
      "Epoch 19/100\n",
      "24/24 [==============================] - 13s - loss: 0.1643 - acc: 0.9303 - val_loss: 0.1943 - val_acc: 0.9234\n",
      "Epoch 20/100\n",
      "24/24 [==============================] - 13s - loss: 0.1749 - acc: 0.9266 - val_loss: 0.1874 - val_acc: 0.9196\n",
      "Epoch 21/100\n",
      "24/24 [==============================] - 13s - loss: 0.1379 - acc: 0.9432 - val_loss: 0.1949 - val_acc: 0.9271\n",
      "Epoch 22/100\n",
      "24/24 [==============================] - 13s - loss: 0.1441 - acc: 0.9426 - val_loss: 0.2213 - val_acc: 0.9196\n",
      "Epoch 23/100\n",
      "24/24 [==============================] - 13s - loss: 0.1589 - acc: 0.9367 - val_loss: 0.2067 - val_acc: 0.9271\n",
      "Epoch 24/100\n",
      "24/24 [==============================] - 13s - loss: 0.1422 - acc: 0.9403 - val_loss: 0.1935 - val_acc: 0.9140\n",
      "Epoch 25/100\n",
      "24/24 [==============================] - 13s - loss: 0.1604 - acc: 0.9354 - val_loss: 0.1998 - val_acc: 0.9308\n",
      "Train loss: 0.134698687297\n",
      "Train accuracy: 0.950420954999\n",
      "Test loss: 0.183855833071\n",
      "Test accuracy: 0.925233647088\n",
      "\n",
      "===================FOLD= 1\n",
      "Epoch 1/100\n",
      "24/24 [==============================] - 14s - loss: 0.8943 - acc: 0.6266 - val_loss: 0.3949 - val_acc: 0.8318\n",
      "Epoch 2/100\n",
      "24/24 [==============================] - 21s - loss: 0.5328 - acc: 0.7509 - val_loss: 0.3175 - val_acc: 0.8654\n",
      "Epoch 3/100\n",
      "24/24 [==============================] - 21s - loss: 0.3745 - acc: 0.8304 - val_loss: 0.2497 - val_acc: 0.8822\n",
      "Epoch 4/100\n",
      "24/24 [==============================] - 13s - loss: 0.3267 - acc: 0.8490 - val_loss: 0.2550 - val_acc: 0.8972\n",
      "Epoch 5/100\n",
      "24/24 [==============================] - 20s - loss: 0.2771 - acc: 0.8684 - val_loss: 0.2336 - val_acc: 0.8991\n",
      "Epoch 6/100\n",
      "24/24 [==============================] - 21s - loss: 0.2582 - acc: 0.8761 - val_loss: 0.2228 - val_acc: 0.9121\n",
      "Epoch 7/100\n",
      "24/24 [==============================] - 21s - loss: 0.2748 - acc: 0.8743 - val_loss: 0.2161 - val_acc: 0.9140\n",
      "Epoch 8/100\n",
      "24/24 [==============================] - 20s - loss: 0.2367 - acc: 0.8927 - val_loss: 0.2159 - val_acc: 0.9215\n",
      "Epoch 9/100\n",
      "24/24 [==============================] - 20s - loss: 0.2239 - acc: 0.8984 - val_loss: 0.2062 - val_acc: 0.9290\n",
      "Epoch 10/100\n",
      "24/24 [==============================] - 13s - loss: 0.2492 - acc: 0.8849 - val_loss: 0.2841 - val_acc: 0.8841\n",
      "Epoch 11/100\n",
      "24/24 [==============================] - 13s - loss: 0.2378 - acc: 0.8863 - val_loss: 0.2123 - val_acc: 0.9327\n",
      "Epoch 12/100\n",
      "24/24 [==============================] - 13s - loss: 0.1977 - acc: 0.9117 - val_loss: 0.2086 - val_acc: 0.9252\n",
      "Epoch 13/100\n",
      "24/24 [==============================] - 13s - loss: 0.1894 - acc: 0.9222 - val_loss: 0.2712 - val_acc: 0.8972\n",
      "Epoch 14/100\n",
      "24/24 [==============================] - 21s - loss: 0.2072 - acc: 0.9113 - val_loss: 0.1994 - val_acc: 0.9252\n",
      "Epoch 15/100\n",
      "24/24 [==============================] - 13s - loss: 0.2221 - acc: 0.9026 - val_loss: 0.2138 - val_acc: 0.9084\n",
      "Epoch 16/100\n",
      "24/24 [==============================] - 13s - loss: 0.1803 - acc: 0.9255 - val_loss: 0.2186 - val_acc: 0.9196\n",
      "Epoch 17/100\n",
      "24/24 [==============================] - 22s - loss: 0.1926 - acc: 0.9196 - val_loss: 0.1970 - val_acc: 0.9215\n",
      "Epoch 18/100\n",
      "24/24 [==============================] - 13s - loss: 0.1614 - acc: 0.9277 - val_loss: 0.2094 - val_acc: 0.9159\n",
      "Epoch 19/100\n",
      "24/24 [==============================] - 13s - loss: 0.1760 - acc: 0.9250 - val_loss: 0.2244 - val_acc: 0.9178\n",
      "Epoch 20/100\n",
      "24/24 [==============================] - 13s - loss: 0.1638 - acc: 0.9312 - val_loss: 0.2120 - val_acc: 0.9271\n",
      "Epoch 21/100\n",
      "24/24 [==============================] - 13s - loss: 0.1814 - acc: 0.9234 - val_loss: 0.2531 - val_acc: 0.9047\n",
      "Epoch 22/100\n",
      "24/24 [==============================] - 13s - loss: 0.1688 - acc: 0.9286 - val_loss: 0.2013 - val_acc: 0.9308\n",
      "Epoch 23/100\n",
      "24/24 [==============================] - 13s - loss: 0.1501 - acc: 0.9359 - val_loss: 0.2339 - val_acc: 0.9196\n",
      "Epoch 24/100\n",
      "24/24 [==============================] - 13s - loss: 0.1379 - acc: 0.9373 - val_loss: 0.2118 - val_acc: 0.9252\n",
      "Epoch 25/100\n",
      "24/24 [==============================] - 13s - loss: 0.1414 - acc: 0.9371 - val_loss: 0.2292 - val_acc: 0.9103\n",
      "Epoch 26/100\n",
      "24/24 [==============================] - 13s - loss: 0.1381 - acc: 0.9422 - val_loss: 0.2527 - val_acc: 0.9009\n",
      "Epoch 27/100\n",
      "24/24 [==============================] - 13s - loss: 0.1463 - acc: 0.9400 - val_loss: 0.1979 - val_acc: 0.9234\n",
      "Epoch 28/100\n",
      "24/24 [==============================] - 13s - loss: 0.1299 - acc: 0.9493 - val_loss: 0.2898 - val_acc: 0.8953\n",
      "Train loss: 0.136175415636\n",
      "Train accuracy: 0.945743686468\n",
      "Test loss: 0.196961239231\n",
      "Test accuracy: 0.921495327994\n",
      "\n",
      "===================FOLD= 2\n",
      "Epoch 1/100\n",
      "24/24 [==============================] - 17s - loss: 0.6163 - acc: 0.6357 - val_loss: 0.5054 - val_acc: 0.6910\n",
      "Epoch 2/100\n",
      "24/24 [==============================] - 15s - loss: 0.3942 - acc: 0.7987 - val_loss: 0.3540 - val_acc: 0.8240\n",
      "Epoch 3/100\n",
      "24/24 [==============================] - 13s - loss: 0.3119 - acc: 0.8611 - val_loss: 0.4319 - val_acc: 0.7903\n",
      "Epoch 4/100\n",
      "24/24 [==============================] - 14s - loss: 0.2910 - acc: 0.8625 - val_loss: 0.3217 - val_acc: 0.8408\n",
      "Epoch 5/100\n",
      "24/24 [==============================] - 13s - loss: 0.2621 - acc: 0.8791 - val_loss: 0.2895 - val_acc: 0.8614\n",
      "Epoch 6/100\n",
      "24/24 [==============================] - 14s - loss: 0.2410 - acc: 0.8951 - val_loss: 0.2848 - val_acc: 0.8652\n",
      "Epoch 7/100\n",
      "24/24 [==============================] - 13s - loss: 0.2310 - acc: 0.9026 - val_loss: 0.2905 - val_acc: 0.8670\n",
      "Epoch 8/100\n",
      "24/24 [==============================] - 13s - loss: 0.2116 - acc: 0.9096 - val_loss: 0.3345 - val_acc: 0.8521\n",
      "Epoch 9/100\n",
      "24/24 [==============================] - 14s - loss: 0.2158 - acc: 0.9120 - val_loss: 0.2704 - val_acc: 0.8820\n",
      "Epoch 10/100\n",
      "24/24 [==============================] - 13s - loss: 0.1954 - acc: 0.9186 - val_loss: 0.2584 - val_acc: 0.8914\n",
      "Epoch 11/100\n",
      "24/24 [==============================] - 13s - loss: 0.1877 - acc: 0.9270 - val_loss: 0.3201 - val_acc: 0.8764\n",
      "Epoch 12/100\n",
      "24/24 [==============================] - 14s - loss: 0.1892 - acc: 0.9259 - val_loss: 0.2578 - val_acc: 0.8914\n",
      "Epoch 13/100\n",
      "24/24 [==============================] - 13s - loss: 0.1872 - acc: 0.9303 - val_loss: 0.2501 - val_acc: 0.8876\n",
      "Epoch 14/100\n",
      "24/24 [==============================] - 13s - loss: 0.1578 - acc: 0.9457 - val_loss: 0.2917 - val_acc: 0.8895\n",
      "Epoch 15/100\n",
      "24/24 [==============================] - 13s - loss: 0.1614 - acc: 0.9325 - val_loss: 0.3107 - val_acc: 0.8708\n",
      "Epoch 16/100\n",
      "24/24 [==============================] - 13s - loss: 0.1742 - acc: 0.9288 - val_loss: 0.2744 - val_acc: 0.8895\n",
      "Epoch 17/100\n",
      "24/24 [==============================] - 14s - loss: 0.1570 - acc: 0.9366 - val_loss: 0.2889 - val_acc: 0.8876\n",
      "Epoch 18/100\n",
      "24/24 [==============================] - 13s - loss: 0.1551 - acc: 0.9437 - val_loss: 0.2765 - val_acc: 0.8876\n",
      "Epoch 19/100\n",
      "24/24 [==============================] - 13s - loss: 0.1493 - acc: 0.9429 - val_loss: 0.2646 - val_acc: 0.8914\n",
      "Epoch 20/100\n",
      "24/24 [==============================] - 13s - loss: 0.1465 - acc: 0.9451 - val_loss: 0.2698 - val_acc: 0.8839\n",
      "Epoch 21/100\n",
      "24/24 [==============================] - 13s - loss: 0.1479 - acc: 0.9424 - val_loss: 0.2912 - val_acc: 0.8727\n",
      "Epoch 22/100\n",
      "24/24 [==============================] - 14s - loss: 0.1405 - acc: 0.9438 - val_loss: 0.2479 - val_acc: 0.8858\n",
      "Epoch 23/100\n",
      "24/24 [==============================] - 13s - loss: 0.1316 - acc: 0.9448 - val_loss: 0.2610 - val_acc: 0.8783\n",
      "Epoch 24/100\n",
      "24/24 [==============================] - 13s - loss: 0.1442 - acc: 0.9415 - val_loss: 0.2870 - val_acc: 0.8801\n",
      "Epoch 25/100\n",
      "24/24 [==============================] - 13s - loss: 0.1421 - acc: 0.9372 - val_loss: 0.2367 - val_acc: 0.8914\n",
      "Epoch 26/100\n",
      "24/24 [==============================] - 13s - loss: 0.1310 - acc: 0.9457 - val_loss: 0.2327 - val_acc: 0.9007\n",
      "Epoch 27/100\n",
      "24/24 [==============================] - 13s - loss: 0.1094 - acc: 0.9549 - val_loss: 0.2837 - val_acc: 0.9007\n",
      "Epoch 28/100\n",
      "24/24 [==============================] - 13s - loss: 0.1529 - acc: 0.9382 - val_loss: 0.2514 - val_acc: 0.9045\n",
      "Epoch 29/100\n",
      "24/24 [==============================] - 13s - loss: 0.1002 - acc: 0.9620 - val_loss: 0.2712 - val_acc: 0.8876\n",
      "Epoch 30/100\n",
      "24/24 [==============================] - 13s - loss: 0.1165 - acc: 0.9517 - val_loss: 0.2570 - val_acc: 0.9045\n",
      "Epoch 31/100\n",
      "24/24 [==============================] - 13s - loss: 0.1089 - acc: 0.9607 - val_loss: 0.3166 - val_acc: 0.8820\n",
      "Epoch 32/100\n",
      "24/24 [==============================] - 13s - loss: 0.1173 - acc: 0.9528 - val_loss: 0.3295 - val_acc: 0.8839\n",
      "Epoch 33/100\n",
      "24/24 [==============================] - 13s - loss: 0.0957 - acc: 0.9680 - val_loss: 0.2692 - val_acc: 0.8989\n",
      "Epoch 34/100\n",
      "24/24 [==============================] - 13s - loss: 0.0907 - acc: 0.9635 - val_loss: 0.3402 - val_acc: 0.8783\n",
      "Epoch 35/100\n",
      "24/24 [==============================] - 13s - loss: 0.1020 - acc: 0.9591 - val_loss: 0.2633 - val_acc: 0.8895\n",
      "Epoch 36/100\n",
      "24/24 [==============================] - 13s - loss: 0.0999 - acc: 0.9607 - val_loss: 0.2901 - val_acc: 0.8858\n",
      "Epoch 37/100\n",
      "24/24 [==============================] - 13s - loss: 0.1119 - acc: 0.9576 - val_loss: 0.2804 - val_acc: 0.8989\n",
      "Train loss: 0.0823185926286\n",
      "Train accuracy: 0.971962616822\n",
      "Test loss: 0.232669785786\n",
      "Test accuracy: 0.900749065903\n",
      "\n",
      " Train Log Loss Validation=  0.131317512205\n",
      " Test Log Loss Validation=  0.204478052592\n"
     ]
    }
   ],
   "source": [
    "preds=myAngleCV(X_train, X_angle, X_test)"
   ]
  },
  {
   "cell_type": "code",
   "execution_count": 18,
   "metadata": {
    "collapsed": true
   },
   "outputs": [],
   "source": [
    "#Submission for each day.\n",
    "submission = pd.DataFrame()\n",
    "submission['id']=test['id']\n",
    "submission['is_iceberg']=preds\n",
    "submission.to_csv('sub.csv', index=False)"
   ]
  },
  {
   "cell_type": "markdown",
   "metadata": {},
   "source": [
    "##### 3 channels are going to help in case of data augmentation, since keras data generator don't accept 2 channel images."
   ]
  },
  {
   "cell_type": "code",
   "execution_count": null,
   "metadata": {
    "collapsed": true
   },
   "outputs": [],
   "source": []
  }
 ],
 "metadata": {
  "anaconda-cloud": {},
  "hide_input": false,
  "kernelspec": {
   "display_name": "Python [default]",
   "language": "python",
   "name": "python3"
  },
  "language_info": {
   "codemirror_mode": {
    "name": "ipython",
    "version": 3
   },
   "file_extension": ".py",
   "mimetype": "text/x-python",
   "name": "python",
   "nbconvert_exporter": "python",
   "pygments_lexer": "ipython3",
   "version": "3.5.1"
  }
 },
 "nbformat": 4,
 "nbformat_minor": 2
}
