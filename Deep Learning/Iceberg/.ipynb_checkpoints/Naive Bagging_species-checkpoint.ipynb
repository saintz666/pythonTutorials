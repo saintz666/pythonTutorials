{
 "cells": [
  {
   "cell_type": "markdown",
   "metadata": {},
   "source": [
    "https://www.kaggle.com/finlay/naive-bagging-cnn-pb0-985"
   ]
  },
  {
   "cell_type": "code",
   "execution_count": null,
   "metadata": {
    "collapsed": true
   },
   "outputs": [],
   "source": [
    "import cv2\n",
    "import os, gc, sys, glob\n",
    "import pandas as pd\n",
    "import numpy as np\n",
    "from tqdm import tqdm\n",
    "\n",
    "from sklearn import model_selection\n",
    "from sklearn import metrics\n",
    "\n",
    "\n",
    "import keras\n",
    "from keras import optimizers\n",
    "from keras.models import Sequential\n",
    "from keras.layers import Dense, Dropout, Flatten\n",
    "from keras.layers import Conv2D, MaxPooling2D\n",
    "from keras.layers.normalization import BatchNormalization\n",
    "from keras.metrics import categorical_accuracy\n",
    "from keras.preprocessing.image import ImageDataGenerator"
   ]
  },
  {
   "cell_type": "code",
   "execution_count": null,
   "metadata": {
    "collapsed": true
   },
   "outputs": [],
   "source": [
    "train_set = pd.read_csv('../input/train_labels.csv')\n",
    "test_set = pd.read_csv('../input/sample_submission.csv')\n",
    "\n",
    "def read_img(img_path):\n",
    "    img = cv2.imread(img_path)\n",
    "    img = cv2.resize(img, (128, 128))\n",
    "    return img\n",
    "\n",
    "train_img, test_img = [], []\n",
    "for img_path in tqdm(train_set['name'].iloc[: ]):\n",
    "    train_img.append(read_img('../input/train/' + str(img_path) + '.jpg'))\n",
    "for img_path in tqdm(test_set['name'].iloc[: ]):\n",
    "    test_img.append(read_img('../input/test/' + str(img_path) + '.jpg'))\n",
    "\n",
    "train_img = np.array(train_img, np.float32) / 255\n",
    "train_label = np.array(train_set['invasive'].iloc[: ])\n",
    "test_img = np.array(test_img, np.float32) / 255"
   ]
  },
  {
   "cell_type": "code",
   "execution_count": null,
   "metadata": {
    "collapsed": true
   },
   "outputs": [],
   "source": [
    "def model_nn():\n",
    "    model = Sequential()\n",
    "    model.add(Conv2D(16, (3, 3), activation='relu', input_shape=(128, 128, 3)))\n",
    "    model.add(MaxPooling2D(pool_size=(2, 2)))\n",
    "    model.add(Conv2D(32, (3, 3), activation='relu'))\n",
    "    model.add(MaxPooling2D(pool_size=(2, 2)))\n",
    "    model.add(Conv2D(64, (3, 3), activation='relu'))\n",
    "    model.add(MaxPooling2D(pool_size=(2, 2)))\n",
    "    model.add(Conv2D(128, (3, 3), activation='relu'))\n",
    "    model.add(Flatten())\n",
    "    model.add(Dense(2048, activation='relu'))\n",
    "    model.add(Dropout(0.65))\n",
    "    model.add(Dense(512, activation='relu'))\n",
    "    model.add(Dropout(0.55))\n",
    "    model.add(Dense(1, activation='sigmoid'))\n",
    "    sgd = optimizers.SGD(lr = 0.001, decay = 1e-6, momentum = 0.8, nesterov = True)\n",
    "    model.compile(loss = 'binary_crossentropy', optimizer = sgd, metrics=['accuracy'])\n",
    "    print(model.summary())\n",
    "    return model"
   ]
  },
  {
   "cell_type": "code",
   "execution_count": null,
   "metadata": {
    "collapsed": true
   },
   "outputs": [],
   "source": []
  },
  {
   "cell_type": "code",
   "execution_count": null,
   "metadata": {
    "collapsed": true
   },
   "outputs": [],
   "source": [
    "n_fold = 8\n",
    "kf = model_selection.KFold(n_splits = n_fold, shuffle = True)\n",
    "eval_fun = metrics.roc_auc_score\n",
    "#tr_x = train_img,\n",
    "#tr_y = train_label,\n",
    "#te_x = test_img,\n",
    "\n",
    "def run_oof(tr_x, tr_y, te_x, kf):\n",
    "    preds_train = np.zeros(len(tr_x), dtype = np.float)\n",
    "    preds_test = np.zeros(len(te_x), dtype = np.float)\n",
    "    train_loss = []; test_loss = []\n",
    "\n",
    "    i = 1\n",
    "    for train_index, test_index in kf.split(tr_x):\n",
    "        x_tr = tr_x[train_index]; x_te = tr_x[test_index]\n",
    "        y_tr = tr_y[train_index]; y_te = tr_y[test_index]\n",
    "\n",
    "        datagen = ImageDataGenerator(\n",
    "            # featurewise_center = True,\n",
    "            rotation_range = 30,\n",
    "            width_shift_range = 0.2,\n",
    "            height_shift_range = 0.2,\n",
    "            # zca_whitening = True,\n",
    "            shear_range = 0.2,\n",
    "            zoom_range = 0.2,\n",
    "            horizontal_flip = True,\n",
    "            vertical_flip = True,\n",
    "            fill_mode = 'nearest')\n",
    "        datagen.fit(x_tr)\n",
    "\n",
    "        model = model_nn()\n",
    "        earlystop = keras.callbacks.EarlyStopping(monitor='val_loss', patience = 15, verbose=0, mode='auto')\n",
    "        model.fit_generator(datagen.flow(x_tr, y_tr, batch_size = 64),\n",
    "            validation_data = (x_te, y_te), callbacks = [earlystop],\n",
    "            steps_per_epoch = len(train_img) / 64, epochs = 1000, verbose = 2)\n",
    "\n",
    "        train_loss.append(eval_fun(y_tr, model.predict(x_tr)[:, 0]))\n",
    "        test_loss.append(eval_fun(y_te, model.predict(x_te)[:, 0]))\n",
    "\n",
    "        preds_train[test_index] = model.predict(x_te)[:, 0]\n",
    "        preds_test += model.predict(te_x)[:, 0]\n",
    "\n",
    "        print('{0}: Train {1:0.5f} Val {2:0.5f}'.format(i, train_loss[-1], test_loss[-1]))\n",
    "        i += 1\n",
    "\n",
    "    print('Train: ', train_loss)\n",
    "    print('Val: ', test_loss)\n",
    "    print('Train{0:0.5f}_Test{1:0.5f}\\n\\n'.format(np.mean(train_loss), np.mean(test_loss)))\n",
    "    preds_test /= n_fold\n",
    "    return preds_train, preds_test\n",
    "\n",
    "train_pred, test_pred = run_oof(train_img, train_label, test_img, kf)"
   ]
  },
  {
   "cell_type": "code",
   "execution_count": null,
   "metadata": {
    "collapsed": true
   },
   "outputs": [],
   "source": [
    "test_set['invasive'] = test_pred\n",
    "test_set.to_csv('./submit.csv', index = None)"
   ]
  },
  {
   "cell_type": "code",
   "execution_count": null,
   "metadata": {
    "collapsed": true
   },
   "outputs": [],
   "source": []
  }
 ],
 "metadata": {
  "anaconda-cloud": {},
  "kernelspec": {
   "display_name": "Python [conda root]",
   "language": "python",
   "name": "conda-root-py"
  },
  "language_info": {
   "codemirror_mode": {
    "name": "ipython",
    "version": 3
   },
   "file_extension": ".py",
   "mimetype": "text/x-python",
   "name": "python",
   "nbconvert_exporter": "python",
   "pygments_lexer": "ipython3",
   "version": "3.5.1"
  }
 },
 "nbformat": 4,
 "nbformat_minor": 2
}
