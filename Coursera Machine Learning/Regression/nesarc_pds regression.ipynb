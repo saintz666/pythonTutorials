{
 "cells": [
  {
   "cell_type": "code",
   "execution_count": 11,
   "metadata": {
    "collapsed": true
   },
   "outputs": [],
   "source": [
    "import numpy\n",
    "import pandas\n",
    "import statsmodels.api as sm\n",
    "import seaborn\n",
    "import statsmodels.formula.api as smf \n",
    "\n",
    "# bug fix for display formats to avoid run time errors\n",
    "pandas.set_option('display.float_format', lambda x:'%.2f'%x)\n",
    "\n",
    "import matplotlib.pyplot as plt\n",
    "%matplotlib inline\n"
   ]
  },
  {
   "cell_type": "code",
   "execution_count": 2,
   "metadata": {
    "collapsed": true
   },
   "outputs": [],
   "source": [
    "data = pandas.read_csv(r\"C:\\Users\\piush\\Desktop\\Dataset\\nesarc_pds.csv\", low_memory=False)"
   ]
  },
  {
   "cell_type": "code",
   "execution_count": 17,
   "metadata": {
    "collapsed": false
   },
   "outputs": [
    {
     "name": "stderr",
     "output_type": "stream",
     "text": [
      "C:\\Anaconda3\\lib\\site-packages\\ipykernel\\__main__.py:66: SettingWithCopyWarning: \n",
      "A value is trying to be set on a copy of a slice from a DataFrame.\n",
      "Try using .loc[row_indexer,col_indexer] = value instead\n",
      "\n",
      "See the caveats in the documentation: http://pandas.pydata.org/pandas-docs/stable/indexing.html#indexing-view-versus-copy\n",
      "C:\\Anaconda3\\lib\\site-packages\\ipykernel\\__main__.py:81: SettingWithCopyWarning: \n",
      "A value is trying to be set on a copy of a slice from a DataFrame.\n",
      "Try using .loc[row_indexer,col_indexer] = value instead\n",
      "\n",
      "See the caveats in the documentation: http://pandas.pydata.org/pandas-docs/stable/indexing.html#indexing-view-versus-copy\n",
      "C:\\Anaconda3\\lib\\site-packages\\ipykernel\\__main__.py:82: SettingWithCopyWarning: \n",
      "A value is trying to be set on a copy of a slice from a DataFrame.\n",
      "Try using .loc[row_indexer,col_indexer] = value instead\n",
      "\n",
      "See the caveats in the documentation: http://pandas.pydata.org/pandas-docs/stable/indexing.html#indexing-view-versus-copy\n",
      "C:\\Anaconda3\\lib\\site-packages\\ipykernel\\__main__.py:83: SettingWithCopyWarning: \n",
      "A value is trying to be set on a copy of a slice from a DataFrame.\n",
      "Try using .loc[row_indexer,col_indexer] = value instead\n",
      "\n",
      "See the caveats in the documentation: http://pandas.pydata.org/pandas-docs/stable/indexing.html#indexing-view-versus-copy\n",
      "C:\\Anaconda3\\lib\\site-packages\\ipykernel\\__main__.py:84: SettingWithCopyWarning: \n",
      "A value is trying to be set on a copy of a slice from a DataFrame.\n",
      "Try using .loc[row_indexer,col_indexer] = value instead\n",
      "\n",
      "See the caveats in the documentation: http://pandas.pydata.org/pandas-docs/stable/indexing.html#indexing-view-versus-copy\n",
      "C:\\Anaconda3\\lib\\site-packages\\ipykernel\\__main__.py:85: SettingWithCopyWarning: \n",
      "A value is trying to be set on a copy of a slice from a DataFrame.\n",
      "Try using .loc[row_indexer,col_indexer] = value instead\n",
      "\n",
      "See the caveats in the documentation: http://pandas.pydata.org/pandas-docs/stable/indexing.html#indexing-view-versus-copy\n"
     ]
    },
    {
     "name": "stdout",
     "output_type": "stream",
     "text": [
      "0.00    968\n",
      "1.00    338\n",
      "nan      14\n",
      "Name: crit1, dtype: int64\n",
      "1.00     209\n",
      "2.00    1098\n",
      "9.00      13\n",
      "Name: S3AQ8B11, dtype: int64\n",
      "1.00     207\n",
      "2.00    1101\n",
      "9.00      12\n",
      "Name: S3AQ8B12, dtype: int64\n",
      "S3AQ8B12  1.00  2.00  9.00\n",
      "S3AQ8B11                  \n",
      "1.00        78   130     1\n",
      "2.00       128   968     2\n",
      "9.00         1     3     9\n",
      "nan     809\n",
      "1.00    264\n",
      "2.00    243\n",
      "9.00      4\n",
      "Name: S3AQ8B7J, dtype: int64\n"
     ]
    },
    {
     "name": "stderr",
     "output_type": "stream",
     "text": [
      "C:\\Anaconda3\\lib\\site-packages\\ipykernel\\__main__.py:86: SettingWithCopyWarning: \n",
      "A value is trying to be set on a copy of a slice from a DataFrame.\n",
      "Try using .loc[row_indexer,col_indexer] = value instead\n",
      "\n",
      "See the caveats in the documentation: http://pandas.pydata.org/pandas-docs/stable/indexing.html#indexing-view-versus-copy\n",
      "C:\\Anaconda3\\lib\\site-packages\\ipykernel\\__main__.py:87: SettingWithCopyWarning: \n",
      "A value is trying to be set on a copy of a slice from a DataFrame.\n",
      "Try using .loc[row_indexer,col_indexer] = value instead\n",
      "\n",
      "See the caveats in the documentation: http://pandas.pydata.org/pandas-docs/stable/indexing.html#indexing-view-versus-copy\n",
      "C:\\Anaconda3\\lib\\site-packages\\ipykernel\\__main__.py:88: SettingWithCopyWarning: \n",
      "A value is trying to be set on a copy of a slice from a DataFrame.\n",
      "Try using .loc[row_indexer,col_indexer] = value instead\n",
      "\n",
      "See the caveats in the documentation: http://pandas.pydata.org/pandas-docs/stable/indexing.html#indexing-view-versus-copy\n",
      "C:\\Anaconda3\\lib\\site-packages\\ipykernel\\__main__.py:89: SettingWithCopyWarning: \n",
      "A value is trying to be set on a copy of a slice from a DataFrame.\n",
      "Try using .loc[row_indexer,col_indexer] = value instead\n",
      "\n",
      "See the caveats in the documentation: http://pandas.pydata.org/pandas-docs/stable/indexing.html#indexing-view-versus-copy\n",
      "C:\\Anaconda3\\lib\\site-packages\\ipykernel\\__main__.py:90: SettingWithCopyWarning: \n",
      "A value is trying to be set on a copy of a slice from a DataFrame.\n",
      "Try using .loc[row_indexer,col_indexer] = value instead\n",
      "\n",
      "See the caveats in the documentation: http://pandas.pydata.org/pandas-docs/stable/indexing.html#indexing-view-versus-copy\n",
      "C:\\Anaconda3\\lib\\site-packages\\ipykernel\\__main__.py:91: SettingWithCopyWarning: \n",
      "A value is trying to be set on a copy of a slice from a DataFrame.\n",
      "Try using .loc[row_indexer,col_indexer] = value instead\n",
      "\n",
      "See the caveats in the documentation: http://pandas.pydata.org/pandas-docs/stable/indexing.html#indexing-view-versus-copy\n",
      "C:\\Anaconda3\\lib\\site-packages\\ipykernel\\__main__.py:92: SettingWithCopyWarning: \n",
      "A value is trying to be set on a copy of a slice from a DataFrame.\n",
      "Try using .loc[row_indexer,col_indexer] = value instead\n",
      "\n",
      "See the caveats in the documentation: http://pandas.pydata.org/pandas-docs/stable/indexing.html#indexing-view-versus-copy\n",
      "C:\\Anaconda3\\lib\\site-packages\\ipykernel\\__main__.py:93: SettingWithCopyWarning: \n",
      "A value is trying to be set on a copy of a slice from a DataFrame.\n",
      "Try using .loc[row_indexer,col_indexer] = value instead\n",
      "\n",
      "See the caveats in the documentation: http://pandas.pydata.org/pandas-docs/stable/indexing.html#indexing-view-versus-copy\n",
      "C:\\Anaconda3\\lib\\site-packages\\ipykernel\\__main__.py:94: SettingWithCopyWarning: \n",
      "A value is trying to be set on a copy of a slice from a DataFrame.\n",
      "Try using .loc[row_indexer,col_indexer] = value instead\n",
      "\n",
      "See the caveats in the documentation: http://pandas.pydata.org/pandas-docs/stable/indexing.html#indexing-view-versus-copy\n",
      "C:\\Anaconda3\\lib\\site-packages\\ipykernel\\__main__.py:95: SettingWithCopyWarning: \n",
      "A value is trying to be set on a copy of a slice from a DataFrame.\n",
      "Try using .loc[row_indexer,col_indexer] = value instead\n",
      "\n",
      "See the caveats in the documentation: http://pandas.pydata.org/pandas-docs/stable/indexing.html#indexing-view-versus-copy\n",
      "C:\\Anaconda3\\lib\\site-packages\\ipykernel\\__main__.py:96: SettingWithCopyWarning: \n",
      "A value is trying to be set on a copy of a slice from a DataFrame.\n",
      "Try using .loc[row_indexer,col_indexer] = value instead\n",
      "\n",
      "See the caveats in the documentation: http://pandas.pydata.org/pandas-docs/stable/indexing.html#indexing-view-versus-copy\n",
      "C:\\Anaconda3\\lib\\site-packages\\ipykernel\\__main__.py:105: SettingWithCopyWarning: \n",
      "A value is trying to be set on a copy of a slice from a DataFrame.\n",
      "Try using .loc[row_indexer,col_indexer] = value instead\n",
      "\n",
      "See the caveats in the documentation: http://pandas.pydata.org/pandas-docs/stable/indexing.html#indexing-view-versus-copy\n"
     ]
    },
    {
     "name": "stdout",
     "output_type": "stream",
     "text": [
      "nan     809\n",
      "1.00    264\n",
      "2.00    243\n",
      "9.00      4\n",
      "Name: S3AQ8B7J, dtype: int64\n",
      "0.00    648\n",
      "1.00    161\n",
      "2.00    132\n",
      "3.00    109\n",
      "4.00     99\n",
      "5.00     77\n",
      "6.00     53\n",
      "7.00     29\n",
      "8.00     12\n",
      "Name: CWITHDR_COUNT, dtype: int64\n"
     ]
    },
    {
     "name": "stderr",
     "output_type": "stream",
     "text": [
      "C:\\Anaconda3\\lib\\site-packages\\ipykernel\\__main__.py:121: SettingWithCopyWarning: \n",
      "A value is trying to be set on a copy of a slice from a DataFrame.\n",
      "Try using .loc[row_indexer,col_indexer] = value instead\n",
      "\n",
      "See the caveats in the documentation: http://pandas.pydata.org/pandas-docs/stable/indexing.html#indexing-view-versus-copy\n",
      "C:\\Anaconda3\\lib\\site-packages\\ipykernel\\__main__.py:126: SettingWithCopyWarning: \n",
      "A value is trying to be set on a copy of a slice from a DataFrame.\n",
      "Try using .loc[row_indexer,col_indexer] = value instead\n",
      "\n",
      "See the caveats in the documentation: http://pandas.pydata.org/pandas-docs/stable/indexing.html#indexing-view-versus-copy\n",
      "C:\\Anaconda3\\lib\\site-packages\\ipykernel\\__main__.py:127: SettingWithCopyWarning: \n",
      "A value is trying to be set on a copy of a slice from a DataFrame.\n",
      "Try using .loc[row_indexer,col_indexer] = value instead\n",
      "\n",
      "See the caveats in the documentation: http://pandas.pydata.org/pandas-docs/stable/indexing.html#indexing-view-versus-copy\n",
      "C:\\Anaconda3\\lib\\site-packages\\ipykernel\\__main__.py:134: SettingWithCopyWarning: \n",
      "A value is trying to be set on a copy of a slice from a DataFrame.\n",
      "Try using .loc[row_indexer,col_indexer] = value instead\n",
      "\n",
      "See the caveats in the documentation: http://pandas.pydata.org/pandas-docs/stable/indexing.html#indexing-view-versus-copy\n"
     ]
    },
    {
     "name": "stdout",
     "output_type": "stream",
     "text": [
      "crit2            0   1\n",
      "CWITHDR_COUNT         \n",
      "0.00           648   0\n",
      "1.00           161   0\n",
      "2.00            85  47\n",
      "3.00            68  41\n",
      "4.00             0  99\n",
      "5.00             0  77\n",
      "6.00             0  53\n",
      "7.00             0  29\n",
      "8.00             0  12\n",
      "0.00    869\n",
      "1.00    439\n",
      "nan      12\n",
      "Name: S3AQ8B13, dtype: int64\n"
     ]
    },
    {
     "name": "stderr",
     "output_type": "stream",
     "text": [
      "C:\\Anaconda3\\lib\\site-packages\\ipykernel\\__main__.py:135: SettingWithCopyWarning: \n",
      "A value is trying to be set on a copy of a slice from a DataFrame.\n",
      "Try using .loc[row_indexer,col_indexer] = value instead\n",
      "\n",
      "See the caveats in the documentation: http://pandas.pydata.org/pandas-docs/stable/indexing.html#indexing-view-versus-copy\n",
      "C:\\Anaconda3\\lib\\site-packages\\ipykernel\\__main__.py:141: SettingWithCopyWarning: \n",
      "A value is trying to be set on a copy of a slice from a DataFrame.\n",
      "Try using .loc[row_indexer,col_indexer] = value instead\n",
      "\n",
      "See the caveats in the documentation: http://pandas.pydata.org/pandas-docs/stable/indexing.html#indexing-view-versus-copy\n",
      "C:\\Anaconda3\\lib\\site-packages\\ipykernel\\__main__.py:147: SettingWithCopyWarning: \n",
      "A value is trying to be set on a copy of a slice from a DataFrame.\n",
      "Try using .loc[row_indexer,col_indexer] = value instead\n",
      "\n",
      "See the caveats in the documentation: http://pandas.pydata.org/pandas-docs/stable/indexing.html#indexing-view-versus-copy\n",
      "C:\\Anaconda3\\lib\\site-packages\\ipykernel\\__main__.py:148: SettingWithCopyWarning: \n",
      "A value is trying to be set on a copy of a slice from a DataFrame.\n",
      "Try using .loc[row_indexer,col_indexer] = value instead\n",
      "\n",
      "See the caveats in the documentation: http://pandas.pydata.org/pandas-docs/stable/indexing.html#indexing-view-versus-copy\n",
      "C:\\Anaconda3\\lib\\site-packages\\ipykernel\\__main__.py:149: SettingWithCopyWarning: \n",
      "A value is trying to be set on a copy of a slice from a DataFrame.\n",
      "Try using .loc[row_indexer,col_indexer] = value instead\n",
      "\n",
      "See the caveats in the documentation: http://pandas.pydata.org/pandas-docs/stable/indexing.html#indexing-view-versus-copy\n",
      "C:\\Anaconda3\\lib\\site-packages\\ipykernel\\__main__.py:155: SettingWithCopyWarning: \n",
      "A value is trying to be set on a copy of a slice from a DataFrame.\n",
      "Try using .loc[row_indexer,col_indexer] = value instead\n",
      "\n",
      "See the caveats in the documentation: http://pandas.pydata.org/pandas-docs/stable/indexing.html#indexing-view-versus-copy\n"
     ]
    },
    {
     "name": "stdout",
     "output_type": "stream",
     "text": [
      "0.00    359\n",
      "1.00    954\n",
      "nan       7\n",
      "Name: crit4, dtype: int64\n",
      "0.00    844\n",
      "1.00    467\n",
      "nan       9\n",
      "Name: S3AQ8B5, dtype: int64\n"
     ]
    },
    {
     "name": "stderr",
     "output_type": "stream",
     "text": [
      "C:\\Anaconda3\\lib\\site-packages\\ipykernel\\__main__.py:156: SettingWithCopyWarning: \n",
      "A value is trying to be set on a copy of a slice from a DataFrame.\n",
      "Try using .loc[row_indexer,col_indexer] = value instead\n",
      "\n",
      "See the caveats in the documentation: http://pandas.pydata.org/pandas-docs/stable/indexing.html#indexing-view-versus-copy\n",
      "C:\\Anaconda3\\lib\\site-packages\\ipykernel\\__main__.py:162: SettingWithCopyWarning: \n",
      "A value is trying to be set on a copy of a slice from a DataFrame.\n",
      "Try using .loc[row_indexer,col_indexer] = value instead\n",
      "\n",
      "See the caveats in the documentation: http://pandas.pydata.org/pandas-docs/stable/indexing.html#indexing-view-versus-copy\n",
      "C:\\Anaconda3\\lib\\site-packages\\ipykernel\\__main__.py:167: SettingWithCopyWarning: \n",
      "A value is trying to be set on a copy of a slice from a DataFrame.\n",
      "Try using .loc[row_indexer,col_indexer] = value instead\n",
      "\n",
      "See the caveats in the documentation: http://pandas.pydata.org/pandas-docs/stable/indexing.html#indexing-view-versus-copy\n",
      "C:\\Anaconda3\\lib\\site-packages\\ipykernel\\__main__.py:168: SettingWithCopyWarning: \n",
      "A value is trying to be set on a copy of a slice from a DataFrame.\n",
      "Try using .loc[row_indexer,col_indexer] = value instead\n",
      "\n",
      "See the caveats in the documentation: http://pandas.pydata.org/pandas-docs/stable/indexing.html#indexing-view-versus-copy\n"
     ]
    },
    {
     "name": "stdout",
     "output_type": "stream",
     "text": [
      "0.00    1205\n",
      "1.00     109\n",
      "nan        6\n",
      "Name: crit6, dtype: int64\n"
     ]
    },
    {
     "name": "stderr",
     "output_type": "stream",
     "text": [
      "C:\\Anaconda3\\lib\\site-packages\\ipykernel\\__main__.py:174: SettingWithCopyWarning: \n",
      "A value is trying to be set on a copy of a slice from a DataFrame.\n",
      "Try using .loc[row_indexer,col_indexer] = value instead\n",
      "\n",
      "See the caveats in the documentation: http://pandas.pydata.org/pandas-docs/stable/indexing.html#indexing-view-versus-copy\n",
      "C:\\Anaconda3\\lib\\site-packages\\ipykernel\\__main__.py:182: SettingWithCopyWarning: \n",
      "A value is trying to be set on a copy of a slice from a DataFrame.\n",
      "Try using .loc[row_indexer,col_indexer] = value instead\n",
      "\n",
      "See the caveats in the documentation: http://pandas.pydata.org/pandas-docs/stable/indexing.html#indexing-view-versus-copy\n"
     ]
    },
    {
     "name": "stdout",
     "output_type": "stream",
     "text": [
      "0.00    613\n",
      "1.00    697\n",
      "nan      10\n",
      "Name: crit7, dtype: int64\n",
      "0.00    205\n",
      "1.00    257\n",
      "2.00    241\n",
      "3.00    211\n",
      "4.00    163\n",
      "5.00    140\n",
      "6.00     83\n",
      "7.00     20\n",
      "Name: NDSymptoms, dtype: int64\n",
      "0    965\n",
      "1    355\n",
      "Name: MAJORDEPLIFE, dtype: int64\n",
      "18    130\n",
      "19    149\n",
      "20    180\n",
      "21    178\n",
      "22    175\n",
      "23    172\n",
      "24    196\n",
      "25    140\n",
      "Name: AGE, dtype: int64\n"
     ]
    },
    {
     "name": "stderr",
     "output_type": "stream",
     "text": [
      "C:\\Anaconda3\\lib\\site-packages\\ipykernel\\__main__.py:197: SettingWithCopyWarning: \n",
      "A value is trying to be set on a copy of a slice from a DataFrame.\n",
      "Try using .loc[row_indexer,col_indexer] = value instead\n",
      "\n",
      "See the caveats in the documentation: http://pandas.pydata.org/pandas-docs/stable/indexing.html#indexing-view-versus-copy\n",
      "C:\\Anaconda3\\lib\\site-packages\\pandas\\core\\frame.py:2748: SettingWithCopyWarning: \n",
      "A value is trying to be set on a copy of a slice from a DataFrame\n",
      "\n",
      "See the caveats in the documentation: http://pandas.pydata.org/pandas-docs/stable/indexing.html#indexing-view-versus-copy\n",
      "  **kwargs)\n"
     ]
    },
    {
     "name": "stdout",
     "output_type": "stream",
     "text": [
      "NICOTINEDEP    0    1\n",
      "TAB12MDX             \n",
      "0            521    0\n",
      "1              0  799\n",
      "nan        5\n",
      "1.00      22\n",
      "2.00      28\n",
      "3.00      45\n",
      "4.00      46\n",
      "5.00     108\n",
      "6.00      47\n",
      "7.00      38\n",
      "8.00      36\n",
      "9.00       6\n",
      "10.00    350\n",
      "11.00      3\n",
      "12.00     25\n",
      "13.00      7\n",
      "14.00      2\n",
      "15.00     97\n",
      "16.00      5\n",
      "17.00      2\n",
      "18.00      3\n",
      "19.00      1\n",
      "20.00    357\n",
      "25.00     13\n",
      "27.00      1\n",
      "28.00      1\n",
      "30.00     38\n",
      "35.00      1\n",
      "40.00     29\n",
      "60.00      2\n",
      "80.00      1\n",
      "98.00      1\n",
      "Name: numbercigsmoked, dtype: int64\n",
      "0    1115\n",
      "1     205\n",
      "Name: PANIC, dtype: int64\n",
      "1    849\n",
      "2    170\n",
      "3     30\n",
      "4     47\n",
      "5    224\n",
      "Name: ETHRACE2A, dtype: int64\n",
      "0    224\n",
      "1    849\n",
      "2    170\n",
      "3     77\n",
      "Name: ETHRACE, dtype: int64\n"
     ]
    },
    {
     "name": "stderr",
     "output_type": "stream",
     "text": [
      "C:\\Anaconda3\\lib\\site-packages\\ipykernel\\__main__.py:219: SettingWithCopyWarning: \n",
      "A value is trying to be set on a copy of a slice from a DataFrame.\n",
      "Try using .loc[row_indexer,col_indexer] = value instead\n",
      "\n",
      "See the caveats in the documentation: http://pandas.pydata.org/pandas-docs/stable/indexing.html#indexing-view-versus-copy\n",
      "C:\\Anaconda3\\lib\\site-packages\\ipykernel\\__main__.py:224: SettingWithCopyWarning: \n",
      "A value is trying to be set on a copy of a slice from a DataFrame.\n",
      "Try using .loc[row_indexer,col_indexer] = value instead\n",
      "\n",
      "See the caveats in the documentation: http://pandas.pydata.org/pandas-docs/stable/indexing.html#indexing-view-versus-copy\n",
      "C:\\Anaconda3\\lib\\site-packages\\ipykernel\\__main__.py:226: SettingWithCopyWarning: \n",
      "A value is trying to be set on a copy of a slice from a DataFrame.\n",
      "Try using .loc[row_indexer,col_indexer] = value instead\n",
      "\n",
      "See the caveats in the documentation: http://pandas.pydata.org/pandas-docs/stable/indexing.html#indexing-view-versus-copy\n",
      "C:\\Anaconda3\\lib\\site-packages\\ipykernel\\__main__.py:227: SettingWithCopyWarning: \n",
      "A value is trying to be set on a copy of a slice from a DataFrame.\n",
      "Try using .loc[row_indexer,col_indexer] = value instead\n",
      "\n",
      "See the caveats in the documentation: http://pandas.pydata.org/pandas-docs/stable/indexing.html#indexing-view-versus-copy\n"
     ]
    }
   ],
   "source": [
    "############################################################################\n",
    "#DATA MANAGEMENT\n",
    "############################################################################\n",
    "\n",
    "#setting variables you will be working with to numeric\n",
    "#setting variables you will be working with to numeric\n",
    "data['IDNUM'] =pandas.to_numeric(data['IDNUM'], errors='coerce')\n",
    "data['TAB12MDX'] = pandas.to_numeric(data['TAB12MDX'], errors='coerce')\n",
    "data['MAJORDEPLIFE'] = pandas.to_numeric(data['MAJORDEPLIFE'], errors='coerce')\n",
    "#data['NDSymptoms'] = pandas.to_numeric(data['NDSymptoms'], errors='coerce')\n",
    "data['SOCPDLIFE'] = pandas.to_numeric(data['SOCPDLIFE'], errors='coerce')\n",
    "data['S3AQ3C1'] = pandas.to_numeric(data['S3AQ3C1'], errors='coerce')\n",
    "data['AGE'] =pandas.to_numeric(data['AGE'], errors='coerce')\n",
    "data['SEX'] = pandas.to_numeric(data['SEX'], errors='coerce')\n",
    "\n",
    "data['S3AQ3B1'] = pandas.to_numeric(data['S3AQ3B1'], errors='coerce')\n",
    "data['CHECK321'] =pandas.to_numeric( data['CHECK321'], errors='coerce')\n",
    "data['S3AQ8B11'] = pandas.to_numeric(data['S3AQ8B11'], errors='coerce')\n",
    "data['S3AQ8B12'] = pandas.to_numeric(data['S3AQ8B12'], errors='coerce')\n",
    "data['S3AQ8B13'] = pandas.to_numeric(data['S3AQ8B13'], errors='coerce')\n",
    "data['S3AQ8B7A'] = pandas.to_numeric(data['S3AQ8B7A'], errors='coerce')\n",
    "data['S3AQ8B7B'] = pandas.to_numeric(data['S3AQ8B7B'], errors='coerce')\n",
    "data['S3AQ8B7C'] = pandas.to_numeric(data['S3AQ8B7C'], errors='coerce')\n",
    "data['S3AQ8B7D'] = pandas.to_numeric(data['S3AQ8B7D'], errors='coerce')\n",
    "data['S3AQ8B7E'] = pandas.to_numeric(data['S3AQ8B7E'], errors='coerce')\n",
    "data['S3AQ8B7F'] = pandas.to_numeric(data['S3AQ8B7F'], errors='coerce')\n",
    "data['S3AQ8B7G'] = pandas.to_numeric(data['S3AQ8B7G'], errors='coerce')\n",
    "data['S3AQ8B7H'] = pandas.to_numeric(data['S3AQ8B7H'], errors='coerce')\n",
    "data['S3AQ8B7J'] = pandas.to_numeric(data['S3AQ8B7J'], errors='coerce')\n",
    "\n",
    "data['S6Q1'] = pandas.to_numeric(data['S6Q1'], errors='coerce')\n",
    "data['S6Q2'] = pandas.to_numeric(data['S6Q2'], errors='coerce')\n",
    "data['S6Q3'] = pandas.to_numeric(data['S6Q3'], errors='coerce')\n",
    "data['S6Q7'] = pandas.to_numeric(data['S6Q7'], errors='coerce')\n",
    "data['S6Q61'] = pandas.to_numeric(data['S6Q61'], errors='coerce')\n",
    "data['S6Q62'] = pandas.to_numeric(data['S6Q62'], errors='coerce')\n",
    "data['S6Q63'] = pandas.to_numeric(data['S6Q63'], errors='coerce')\n",
    "data['S6Q64'] = pandas.to_numeric(data['S6Q64'], errors='coerce')\n",
    "data['S6Q65'] = pandas.to_numeric(data['S6Q65'], errors='coerce')\n",
    "data['S6Q66'] = pandas.to_numeric(data['S6Q66'], errors='coerce')\n",
    "data['S6Q67'] = pandas.to_numeric(data['S6Q67'], errors='coerce')\n",
    "data['S6Q68'] = pandas.to_numeric(data['S6Q68'], errors='coerce')\n",
    "data['S6Q69'] = pandas.to_numeric(data['S6Q69'], errors='coerce')\n",
    "data['S6Q610'] = pandas.to_numeric(data['S6Q610'], errors='coerce')\n",
    "data['S6Q611'] = pandas.to_numeric(data['S6Q611'], errors='coerce')\n",
    "data['S6Q612'] = pandas.to_numeric(data['S6Q612'], errors='coerce')\n",
    "data['S6Q613'] = pandas.to_numeric(data['S6Q613'], errors='coerce')\n",
    "\n",
    "data['S3AQ3C1']=data['S3AQ3C1'].replace(99, numpy.nan)\n",
    "\n",
    "# run this subset code to do the NDsymptoms regression (age 18-25, smoked in past month)\n",
    "# pandas gives observations missing on all symptoms (N=3) a value of zero, but should be nan\n",
    "# have to delete them \n",
    "sub1=data[(data['AGE']<=25) & (data['CHECK321']==1) & (data['S3AQ3B1']==1) & \n",
    "(data['IDNUM']!=20346) & (data['IDNUM']!=36471) & (data['IDNUM']!=28724)]\n",
    "\n",
    "# run this code to do all other regression analyses\n",
    "sub1=data[(data['AGE']<=25) & (data['CHECK321']==1) & (data['S3AQ3B1']==1)]\n",
    "\n",
    "# Current Tolerance criteria #1 DSM-IV\n",
    "def crit1 (row):\n",
    "   if row['S3AQ8B11']==1 or row['S3AQ8B12'] == 1 :\n",
    "      return 1\n",
    "   elif row['S3AQ8B11']==2 and row['S3AQ8B12']==2 :\n",
    "      return 0\n",
    "sub1['crit1'] = sub1.apply (lambda row: crit1 (row),axis=1)\n",
    "chk2 = sub1['crit1'].value_counts(sort=False, dropna=False)\n",
    "print (chk2)\n",
    "chk3 = sub1['S3AQ8B11'].value_counts(sort=False, dropna=False)\n",
    "print (chk3)\n",
    "chk4 = sub1['S3AQ8B12'].value_counts(sort=False, dropna=False)\n",
    "print (chk4)\n",
    "print (pandas.crosstab(sub1['S3AQ8B11'], sub1['S3AQ8B12']))\n",
    "\n",
    "c1 = sub1['S3AQ8B7J'].value_counts(sort=False, dropna=False)\n",
    "print (c1)\n",
    "\n",
    "#Current 8 WITHDRAWAL SUB-SYMPTOMS IN DSM-IV (recode 1,2 to 0,1 for summing)\n",
    "# after recoding 9s to missing\n",
    "recode1 = {1: 1, 2: 0}\n",
    "sub1['S3AQ8B7A']=sub1['S3AQ8B7A'].replace(9, numpy.nan)\n",
    "sub1['S3AQ8B7A']= sub1['S3AQ8B7A'].map(recode1)\n",
    "sub1['S3AQ8B7B']=sub1['S3AQ8B7B'].replace(9, numpy.nan)\n",
    "sub1['S3AQ8B7B']= sub1['S3AQ8B7B'].map(recode1)\n",
    "sub1['S3AQ8B7C']=sub1['S3AQ8B7C'].replace(9, numpy.nan)\n",
    "sub1['S3AQ8B7C']= sub1['S3AQ8B7C'].map(recode1)\n",
    "sub1['S3AQ8B7D']=sub1['S3AQ8B7D'].replace(9, numpy.nan)\n",
    "sub1['S3AQ8B7D']= sub1['S3AQ8B7D'].map(recode1)\n",
    "sub1['S3AQ8B7E']=sub1['S3AQ8B7E'].replace(9, numpy.nan)\n",
    "sub1['S3AQ8B7E']= sub1['S3AQ8B7E'].map(recode1)\n",
    "sub1['S3AQ8B7F']=sub1['S3AQ8B7F'].replace(9, numpy.nan)\n",
    "sub1['S3AQ8B7F']= sub1['S3AQ8B7F'].map(recode1)\n",
    "sub1['S3AQ8B7G']=sub1['S3AQ8B7G'].replace(9, numpy.nan)\n",
    "sub1['S3AQ8B7G']= sub1['S3AQ8B7G'].map(recode1)\n",
    "sub1['S3AQ8B7H']=sub1['S3AQ8B7H'].replace(9, numpy.nan)\n",
    "sub1['S3AQ8B7H']= sub1['S3AQ8B7H'].map(recode1)\n",
    "\n",
    "# check recode\n",
    "chk1c = sub1['S3AQ8B7J'].value_counts(sort=False, dropna=False)\n",
    "print (chk1c)\n",
    "\n",
    "# sum symptoms\n",
    "sub1['CWITHDR_COUNT'] = numpy.nansum([sub1['S3AQ8B7A'], sub1['S3AQ8B7B'], sub1['S3AQ8B7C'], \n",
    "              sub1['S3AQ8B7D'], sub1['S3AQ8B7E'], sub1['S3AQ8B7F'],\n",
    "              sub1['S3AQ8B7G'], sub1['S3AQ8B7H']], axis=0)\n",
    "\n",
    "# check to make sure sum code worked\n",
    "chksum=sub1[['IDNUM','S3AQ8B7A', 'S3AQ8B7B', 'S3AQ8B7C', 'S3AQ8B7D', \n",
    "           'S3AQ8B7E', 'S3AQ8B7F', 'S3AQ8B7G', 'S3AQ8B7H', 'CWITHDR_COUNT']]\n",
    "chksum.head(n=50)\n",
    "\n",
    "chk1d = sub1['CWITHDR_COUNT'].value_counts(sort=False, dropna=False)\n",
    "print (chk1d)\n",
    "\n",
    "# withdrawal (yes/no)\n",
    "def crit2 (row):\n",
    "   if row['CWITHDR_COUNT']>=4 or row['S3AQ8B7J']==1:\n",
    "      return 1\n",
    "   elif row['CWITHDR_COUNT']<4 and row['S3AQ8B7J']!=1:\n",
    "      return 0\n",
    "sub1['crit2'] = sub1.apply (lambda row: crit2 (row),axis=1)\n",
    "print (pandas.crosstab(sub1['CWITHDR_COUNT'], sub1['crit2']))\n",
    "\n",
    "\n",
    "#Current Larger amount or longer period criteria #3 DSM-IV\n",
    "sub1['S3AQ8B13']=sub1['S3AQ8B13'].replace(9, numpy.nan)\n",
    "sub1['S3AQ8B13']= sub1['S3AQ8B13'].map(recode1)\n",
    "  \n",
    "chk1d = sub1['S3AQ8B13'].value_counts(sort=False, dropna=False)\n",
    "print (chk1d)\n",
    "\n",
    "\n",
    "#Current Cut down criteria #4 DSM-IV\n",
    "sub1['S3AQ8B6'] = pandas.to_numeric(sub1['S3AQ8B6'], errors='coerce')\n",
    "sub1['S3AQ8B1'] = pandas.to_numeric(sub1['S3AQ8B1'], errors='coerce')\n",
    "def crit4 (row):\n",
    "   if row['S3AQ8B6']==1 or row['S3AQ8B1'] == 1 :\n",
    "      return 1\n",
    "   elif row['S3AQ8B6']==2 and row['S3AQ8B1']==2 :\n",
    "      return 0\n",
    "sub1['crit4'] = sub1.apply (lambda row: crit4 (row),axis=1)\n",
    "chk1e = sub1['crit4'].value_counts(sort=False, dropna=False)\n",
    "print (chk1e)\n",
    "\n",
    "\n",
    "#Current Substance aCtivities criteria #5 DSM-IV\n",
    "sub1['S3AQ8B5'] = pandas.to_numeric(sub1['S3AQ8B5'], errors='coerce')\n",
    "sub1['S3AQ8B5']=sub1['S3AQ8B5'].replace(9, numpy.nan)\n",
    "sub1['S3AQ8B5']= sub1['S3AQ8B5'].map(recode1)\n",
    "\n",
    "chk1f = sub1['S3AQ8B5'].value_counts(sort=False, dropna=False)\n",
    "print (chk1f)\n",
    "\n",
    "#Current Reduce aCtivities criteria #6 DSM-IV\n",
    "sub1['S3AQ8B2'] = pandas.to_numeric(sub1['S3AQ8B2'], errors='coerce')\n",
    "sub1['S3AQ8B3'] = pandas.to_numeric(sub1['S3AQ8B3'], errors='coerce')\n",
    "def crit6 (row):\n",
    "   if row['S3AQ8B2']==1 or row['S3AQ8B3'] == 1 :\n",
    "      return 1\n",
    "   elif row['S3AQ8B2']==2 and row['S3AQ8B3']==2 :\n",
    "      return 0\n",
    "sub1['crit6'] = sub1.apply (lambda row: crit6 (row),axis=1)\n",
    "chk1g = sub1['crit6'].value_counts(sort=False, dropna=False)\n",
    "print (chk1g)\n",
    "\n",
    "#Current use continued despite knowledge of physical or psychological problem criteria #7 DSM-IV\n",
    "sub1['S3AQ8B4'] = pandas.to_numeric(sub1['S3AQ8B4'], errors='coerce')\n",
    "sub1['S3AQ8B14'] = pandas.to_numeric(sub1['S3AQ8B14'], errors='coerce')\n",
    "def crit7 (row):\n",
    "   if row['S3AQ8B4']==1 or row['S3AQ8B14'] == 1 :\n",
    "      return 1\n",
    "   elif row['S3AQ8B4']==2 and row['S3AQ8B14']==2 :\n",
    "      return 0\n",
    "sub1['crit7'] = sub1.apply (lambda row: crit7 (row),axis=1)\n",
    "chk1h = sub1['crit7'].value_counts(sort=False, dropna=False)\n",
    "print (chk1h)\n",
    "\n",
    "# sum all symptoms (np.nansum allows rows with some missing values to count all valid values)\n",
    "# instead of recoding the sum to nan\n",
    "sub1['NDSymptoms'] = numpy.nansum([sub1['crit1'], sub1['crit2'], sub1['S3AQ8B13'], \n",
    "              sub1['crit4'], sub1['S3AQ8B5'], sub1['crit6'],\n",
    "              sub1['crit7']], axis=0 )\n",
    "chk2 = sub1['NDSymptoms'].value_counts(sort=False, dropna=False)\n",
    "print (chk2)\n",
    "\n",
    "\n",
    "c1 = sub1[\"MAJORDEPLIFE\"].value_counts(sort=False, dropna=False)\n",
    "print(c1)\n",
    "c2 = sub1[\"AGE\"].value_counts(sort=False, dropna=False)\n",
    "print(c2)\n",
    "# binary nictoine dependence\n",
    "def NICOTINEDEP (x):\n",
    "   if x['TAB12MDX']==1:\n",
    "      return 1\n",
    "   else: \n",
    "      return 0\n",
    "sub1['NICOTINEDEP'] = sub1.apply (lambda x: NICOTINEDEP (x), axis=1)\n",
    "print (pandas.crosstab(sub1['TAB12MDX'], sub1['NICOTINEDEP']))\n",
    "\n",
    "# rename variables\n",
    "sub1.rename(columns={'S3AQ3C1': 'numbercigsmoked'}, inplace=True)\n",
    "\n",
    "c6 = sub1[\"numbercigsmoked\"].value_counts(sort=False, dropna=False)\n",
    "print(c6)\n",
    "\n",
    "def PANIC (x1):\n",
    "    if ((x1['S6Q1']==1 and x1['S6Q2']==1) or (x1['S6Q2']==1 and x1['S6Q3']==1) or \n",
    "    (x1['S6Q3']==1 and x1['S6Q61']==1) or (x1['S6Q61']==1 and x1['S6Q62']==1) or \n",
    "    (x1['S6Q62']==1 and x1['S6Q63']==1) or (x1['S6Q63']==1 and x1['S6Q64']==1) or \n",
    "    (x1['S6Q64']==1 and x1['S6Q65']==1) or (x1['S6Q65']==1 and x1['S6Q66']==1) or \n",
    "    (x1['S6Q66']==1 and x1['S6Q67']==1) or (x1['S6Q67']==1 and x1['S6Q68']==1) or \n",
    "    (x1['S6Q68']==1 and x1['S6Q69']==1) or (x1['S6Q69']==1 and x1['S6Q610']==1) or \n",
    "    (x1['S6Q610']==1 and x1['S6Q611']==1) or (x1['S6Q611']==1 and x1['S6Q612']==1) or \n",
    "    (x1['S6Q612']==1 and x1['S6Q613']==1) or (x1['S6Q613']==1 and x1['S6Q7']==1) or \n",
    "    x1['S6Q7']==1):\n",
    "        return 1\n",
    "    else:\n",
    "        return 0\n",
    "sub1['PANIC'] = sub1.apply (lambda x1: PANIC (x1), axis=1)\n",
    "c7 = sub1[\"PANIC\"].value_counts(sort=False, dropna=False)\n",
    "print(c7)\n",
    "\n",
    "# 4 category ethnicity variable\n",
    "sub1['ETHRACE2A'] = pandas.to_numeric(sub1['ETHRACE2A'], errors='coerce')\n",
    "recode2 = {1: 1, 2: 2, 3: 3, 4: 3, 5: 0}\n",
    "sub1['ETHRACE2A'] = sub1['ETHRACE2A'].replace(9, numpy.nan)\n",
    "sub1['ETHRACE'] = sub1['ETHRACE2A'].map(recode2)\n",
    "\n",
    "c8 = sub1[\"ETHRACE2A\"].value_counts(sort=False, dropna=False)\n",
    "print(c8)\n",
    "\n",
    "c9 = sub1[\"ETHRACE\"].value_counts(sort=False, dropna=False)\n",
    "print(c9)\n",
    "\n",
    "############################################################################\n",
    "# END DATA MANAGEMENT\n",
    "############################################################################\n",
    "\n"
   ]
  },
  {
   "cell_type": "code",
   "execution_count": 9,
   "metadata": {
    "collapsed": false
   },
   "outputs": [
    {
     "name": "stdout",
     "output_type": "stream",
     "text": [
      "                            OLS Regression Results                            \n",
      "==============================================================================\n",
      "Dep. Variable:             NDSymptoms   R-squared:                       0.104\n",
      "Model:                            OLS   Adj. R-squared:                  0.103\n",
      "Method:                 Least Squares   F-statistic:                     152.2\n",
      "Date:                Wed, 12 Oct 2016   Prob (F-statistic):           3.57e-33\n",
      "Time:                        21:49:36   Log-Likelihood:                -2629.6\n",
      "No. Observations:                1320   AIC:                             5263.\n",
      "Df Residuals:                    1318   BIC:                             5273.\n",
      "Df Model:                           1                                         \n",
      "Covariance Type:            nonrobust                                         \n",
      "================================================================================\n",
      "                   coef    std err          t      P>|t|      [95.0% Conf. Int.]\n",
      "--------------------------------------------------------------------------------\n",
      "Intercept        2.1813      0.057     38.172      0.000         2.069     2.293\n",
      "MAJORDEPLIFE     1.3595      0.110     12.337      0.000         1.143     1.576\n",
      "==============================================================================\n",
      "Omnibus:                       72.814   Durbin-Watson:                   2.072\n",
      "Prob(Omnibus):                  0.000   Jarque-Bera (JB):               52.273\n",
      "Skew:                           0.382   Prob(JB):                     4.46e-12\n",
      "Kurtosis:                       2.395   Cond. No.                         2.45\n",
      "==============================================================================\n",
      "\n",
      "Warnings:\n",
      "[1] Standard Errors assume that the covariance matrix of the errors is correctly specified.\n"
     ]
    }
   ],
   "source": [
    "############################################################################\n",
    "# CATEGORICAL EXPLANATORY VARIABLES\n",
    "############################################################################\n",
    "# depression\n",
    "reg1 = smf.ols('NDSymptoms ~ MAJORDEPLIFE', data=sub1).fit()\n",
    "print (reg1.summary())\n"
   ]
  },
  {
   "cell_type": "markdown",
   "metadata": {},
   "source": [
    "And here are our parameter estimates in p-values The parameter estimate for MAJORDEPLIFE is 1.36 and is statistically significant. The Intercept is 2.19. Thus we know that our equation is NDSymptoms = 2.19 + 1.36 x MAJORDEPLIFE. >> Lets consider what this equation actually means since it's not the best fit line of a scatter plot. \n",
    "\n",
    "We know that variable MAJORDEPLIFE is our depression variable and it takes on the value zero if the individual does not have major depression and the value one if the individual does have major depression. Thus we can plug in the values zero and one into our major debt life variable to get the expected number of nicotine dependence symptoms for each group. \n",
    "\n",
    "\n",
    "As we can see, we would expect daily smokers without depression to have 2.19 nicotine dependence symptoms and daily smokers with depression to have 3.55 nicotine dependence symptoms. \n",
    "\n",
    "\n",
    "Remember that we previously subset our data to daily smokers aged 18 to 25. >> Notice that this is also the mean number of nicotine dependence symptoms for each group which we can see by running summary statistics using the groupby function. To do this, we'll add syntax that creates a data frame that includes only the variables from our regression model and these symptoms in MAJORDEPLIFE. Then, we use the groupby function to estimate the means for each level of MAJORDEPLIFE in ds1 and the standard deviations for MAJORDEPLIFE in ds2. We can also graph the means using the seaborn.factorplot function. "
   ]
  },
  {
   "cell_type": "code",
   "execution_count": 13,
   "metadata": {
    "collapsed": false
   },
   "outputs": [
    {
     "name": "stdout",
     "output_type": "stream",
     "text": [
      "Mean\n",
      "              NDSymptoms\n",
      "MAJORDEPLIFE            \n",
      "0                   2.18\n",
      "1                   3.54\n",
      "Standard deviation\n",
      "              NDSymptoms\n",
      "MAJORDEPLIFE            \n",
      "0                   1.76\n",
      "1                   1.83\n"
     ]
    },
    {
     "data": {
      "text/plain": [
       "<matplotlib.text.Text at 0x26a007fc3c8>"
      ]
     },
     "execution_count": 13,
     "metadata": {},
     "output_type": "execute_result"
    },
    {
     "data": {
      "image/png": "[encoded data removed]",
      "text/plain": [
       "<matplotlib.figure.Figure at 0x26a007dd9b0>"
      ]
     },
     "metadata": {},
     "output_type": "display_data"
    }
   ],
   "source": [
    "# listwise deletion for calculating means for regression model observations\n",
    "sub1 = sub1[['NDSymptoms', 'MAJORDEPLIFE']].dropna()\n",
    "\n",
    "# group means & sd\n",
    "print (\"Mean\")\n",
    "ds1 = sub1.groupby('MAJORDEPLIFE').mean()\n",
    "print (ds1)\n",
    "print (\"Standard deviation\")\n",
    "ds2 = sub1.groupby('MAJORDEPLIFE').std()\n",
    "print (ds2)\n",
    "\n",
    "# bivariate bar graph\n",
    "seaborn.factorplot(x=\"MAJORDEPLIFE\", y=\"NDSymptoms\", data=sub1, kind=\"bar\", ci=None)\n",
    "plt.xlabel('Major Life Depression')\n",
    "plt.ylabel('Mean Number Nicotine Dependence Symptoms')\n",
    "\n",
    "\n"
   ]
  },
  {
   "cell_type": "markdown",
   "metadata": {},
   "source": [
    "Before doing this though, I will make sure that my categorical explanatory variables have one group that's coded zero. And I will center my quantitative variable. My major depression variable is already coded one equals depression. And zero equals no depression. However, my quantitative number of cigarettes smoked variable ranges from one to 98. Because zero is not a valid value for this variable, I should center it by subtracting the mean number of cigarettes smoked from the actual value from each observation. "
   ]
  },
  {
   "cell_type": "code",
   "execution_count": 18,
   "metadata": {
    "collapsed": false
   },
   "outputs": [
    {
     "name": "stdout",
     "output_type": "stream",
     "text": [
      "-1.3292282357185144e-14\n"
     ]
    },
    {
     "name": "stderr",
     "output_type": "stream",
     "text": [
      "C:\\Anaconda3\\lib\\site-packages\\ipykernel\\__main__.py:7: SettingWithCopyWarning: \n",
      "A value is trying to be set on a copy of a slice from a DataFrame.\n",
      "Try using .loc[row_indexer,col_indexer] = value instead\n",
      "\n",
      "See the caveats in the documentation: http://pandas.pydata.org/pandas-docs/stable/indexing.html#indexing-view-versus-copy\n"
     ]
    }
   ],
   "source": [
    "##############################################################################\n",
    "# MULTIPLE REGRESSION & CONFIDENCE INTERVALS\n",
    "##############################################################################\n",
    "\n",
    "# adding number of cigarettes smoked as an explanatory variable \n",
    "# center quantitative IVs for regression analysis\n",
    "sub1['numbercigsmoked_c'] = (sub1['numbercigsmoked'] - sub1['numbercigsmoked'].mean())\n",
    "print (sub1['numbercigsmoked_c'].mean()) \n",
    "\n",
    "\n",
    "\n"
   ]
  },
  {
   "cell_type": "markdown",
   "metadata": {},
   "source": [
    "We can see that the mean is equal to zero and then thirteen zeros one eight three seven, which essentially centers the variable at zero. Now we can go back to our regression model for the association between depression and number of nicotine dependent symptoms. And add our centered number of cigarette smoked variable. Here is the output. Examine the p values and parameter estimates for each predictor variable. IE our explanatory variable, depression, and our potential confounder, number of cigarettes smoked. As you can see both P values are less than 0.05. And both of the parameter estimates are positive. Indicating that having major depression, and smoking more cigarettes is associated with having a greater number of nicotine dependent symptoms. \n",
    "\n",
    "Thus, we can conclude that both major depression and number of cigarettes smoked are significantly associated with number of nicotine dependent symptoms. After partialing out the part of the association that can be accounted for by the other. In other words, depression is positively associated with number of nicotine-dependent symptoms after controlling for number of cigarettes smoked. And, number of cigarettes smoked is positively associated with number of nicotine-dependent symptoms after controlling for the presence, or absence of depression. \n",
    "\n",
    "Note, that if a parameter estimate is negative and the P value is significant. It would mean that there was a negative relationship between that variable and the response variable. \n",
    "\n",
    "Suppose we started with a different explanatory variable. Dysthymia is pervasive, low level depression, that last a long time, often a few years. Suppose we wanted to test the linear relationship between Dysthymia. A binary, categorical, explanatory variable, and number of nicotine dependent symptoms, a quantitative response variable. \n",
    "\n",
    "You can see from the significant P value and positive parameter estimate that dysthymia is positively associated with number of nicotine dependence symptoms. That is, the presence of dysthymia is associated with a larger number of nicotine dependant symptoms. And the absence of dysthymia is associated with a smaller number of nicotine dependent symptoms. \n",
    "\n",
    "While dysthymia is long lasting low level depression, major depression is a disorder characterized by a discrete episode of severe depression. \n",
    "\n",
    "So what happens when we control for major depression in this model? \n",
    "\n",
    "As you can see Dysthymia is no longer significantly associated with the number of nicotine dependent symptoms, after controlling for major depression. \n",
    "\n",
    "Here, we have an example of confounding. \n",
    "\n",
    "We would say that major depression confounds the relationship between dysthymia and number of nicotine dependent symptoms. Because the p value for dysthymia is no longer significant when major depression is included in the model. \n",
    "\n",
    "As in the previous example, using multiple regression, we can continue to add variables to this model in order to evaluate multiple predictors of our quantitative response variable number of nicotine dependent symptoms. Here we can see that when evaluating the independent association among several predictor variables and nicotine dependent symptoms major depression and number of cigarettes smoked. Are positively and significantly associated with number of nicotine dependent symptoms. While Dysthymia, age, and gender are not. \n",
    "\n",
    "Know also that we've centered our quantitative age variable by subtracting the mean age from the actual age for each observation following the same procedure we used to center our number of cigarettes smoked explanatory variable. "
   ]
  },
  {
   "cell_type": "code",
   "execution_count": 20,
   "metadata": {
    "collapsed": false
   },
   "outputs": [
    {
     "name": "stdout",
     "output_type": "stream",
     "text": [
      "                            OLS Regression Results                            \n",
      "==============================================================================\n",
      "Dep. Variable:             NDSymptoms   R-squared:                       0.131\n",
      "Model:                            OLS   Adj. R-squared:                  0.130\n",
      "Method:                 Least Squares   F-statistic:                     98.85\n",
      "Date:                Wed, 12 Oct 2016   Prob (F-statistic):           1.03e-40\n",
      "Time:                        22:10:37   Log-Likelihood:                -2599.7\n",
      "No. Observations:                1315   AIC:                             5205.\n",
      "Df Residuals:                    1312   BIC:                             5221.\n",
      "Df Model:                           2                                         \n",
      "Covariance Type:            nonrobust                                         \n",
      "=====================================================================================\n",
      "                        coef    std err          t      P>|t|      [95.0% Conf. Int.]\n",
      "-------------------------------------------------------------------------------------\n",
      "Intercept             2.1921      0.056     38.862      0.000         2.081     2.303\n",
      "MAJORDEPLIFE          1.3353      0.109     12.258      0.000         1.122     1.549\n",
      "numbercigsmoked_c     0.0358      0.006      6.419      0.000         0.025     0.047\n",
      "==============================================================================\n",
      "Omnibus:                       70.517   Durbin-Watson:                   2.079\n",
      "Prob(Omnibus):                  0.000   Jarque-Bera (JB):               50.009\n",
      "Skew:                           0.370   Prob(JB):                     1.38e-11\n",
      "Kurtosis:                       2.396   Cond. No.                         20.4\n",
      "==============================================================================\n",
      "\n",
      "Warnings:\n",
      "[1] Standard Errors assume that the covariance matrix of the errors is correctly specified.\n"
     ]
    }
   ],
   "source": [
    "sub3 = sub1[['NDSymptoms', 'numbercigsmoked', 'MAJORDEPLIFE']].dropna()\n",
    "\n",
    "# multiple regression with depression and centered number of cigarettes smoked\n",
    "reg2 = smf.ols('NDSymptoms ~ MAJORDEPLIFE + numbercigsmoked_c', data=sub1).fit()\n",
    "print (reg2.summary())\n",
    "\n"
   ]
  },
  {
   "cell_type": "code",
   "execution_count": 21,
   "metadata": {
    "collapsed": false
   },
   "outputs": [
    {
     "name": "stdout",
     "output_type": "stream",
     "text": [
      "                            OLS Regression Results                            \n",
      "==============================================================================\n",
      "Dep. Variable:             NDSymptoms   R-squared:                       0.023\n",
      "Model:                            OLS   Adj. R-squared:                  0.022\n",
      "Method:                 Least Squares   F-statistic:                     30.62\n",
      "Date:                Wed, 12 Oct 2016   Prob (F-statistic):           3.78e-08\n",
      "Time:                        22:10:47   Log-Likelihood:                -2686.5\n",
      "No. Observations:                1320   AIC:                             5377.\n",
      "Df Residuals:                    1318   BIC:                             5387.\n",
      "Df Model:                           1                                         \n",
      "Covariance Type:            nonrobust                                         \n",
      "==============================================================================\n",
      "                 coef    std err          t      P>|t|      [95.0% Conf. Int.]\n",
      "------------------------------------------------------------------------------\n",
      "Intercept      2.4724      0.053     46.859      0.000         2.369     2.576\n",
      "DYSLIFE        1.1438      0.207      5.533      0.000         0.738     1.549\n",
      "==============================================================================\n",
      "Omnibus:                      124.488   Durbin-Watson:                   2.096\n",
      "Prob(Omnibus):                  0.000   Jarque-Bera (JB):               63.875\n",
      "Skew:                           0.376   Prob(JB):                     1.35e-14\n",
      "Kurtosis:                       2.228   Cond. No.                         4.07\n",
      "==============================================================================\n",
      "\n",
      "Warnings:\n",
      "[1] Standard Errors assume that the covariance matrix of the errors is correctly specified.\n"
     ]
    }
   ],
   "source": [
    "# linear regression analysis with dysphoria \n",
    "reg3 = smf.ols('NDSymptoms ~ DYSLIFE', data=sub1).fit()\n",
    "print (reg3.summary())\n",
    "\n"
   ]
  },
  {
   "cell_type": "code",
   "execution_count": 22,
   "metadata": {
    "collapsed": false
   },
   "outputs": [
    {
     "name": "stdout",
     "output_type": "stream",
     "text": [
      "                            OLS Regression Results                            \n",
      "==============================================================================\n",
      "Dep. Variable:             NDSymptoms   R-squared:                       0.106\n",
      "Model:                            OLS   Adj. R-squared:                  0.104\n",
      "Method:                 Least Squares   F-statistic:                     77.67\n",
      "Date:                Wed, 12 Oct 2016   Prob (F-statistic):           1.30e-32\n",
      "Time:                        22:10:56   Log-Likelihood:                -2628.1\n",
      "No. Observations:                1320   AIC:                             5262.\n",
      "Df Residuals:                    1317   BIC:                             5278.\n",
      "Df Model:                           2                                         \n",
      "Covariance Type:            nonrobust                                         \n",
      "================================================================================\n",
      "                   coef    std err          t      P>|t|      [95.0% Conf. Int.]\n",
      "--------------------------------------------------------------------------------\n",
      "Intercept        2.1761      0.057     38.054      0.000         2.064     2.288\n",
      "DYSLIFE          0.3585      0.210      1.705      0.088        -0.054     0.771\n",
      "MAJORDEPLIFE     1.2920      0.117     11.041      0.000         1.062     1.522\n",
      "==============================================================================\n",
      "Omnibus:                       71.014   Durbin-Watson:                   2.078\n",
      "Prob(Omnibus):                  0.000   Jarque-Bera (JB):               51.262\n",
      "Skew:                           0.379   Prob(JB):                     7.39e-12\n",
      "Kurtosis:                       2.401   Cond. No.                         4.61\n",
      "==============================================================================\n",
      "\n",
      "Warnings:\n",
      "[1] Standard Errors assume that the covariance matrix of the errors is correctly specified.\n"
     ]
    }
   ],
   "source": [
    "# multiple regression analysis with dysphoria & depression\n",
    "reg4 = smf.ols('NDSymptoms ~ DYSLIFE + MAJORDEPLIFE', data=sub1).fit()\n",
    "print (reg4.summary())\n",
    "\n"
   ]
  },
  {
   "cell_type": "code",
   "execution_count": 23,
   "metadata": {
    "collapsed": false
   },
   "outputs": [
    {
     "name": "stdout",
     "output_type": "stream",
     "text": [
      "-3.445055688533819e-16\n",
      "                            OLS Regression Results                            \n",
      "==============================================================================\n",
      "Dep. Variable:             NDSymptoms   R-squared:                       0.135\n",
      "Model:                            OLS   Adj. R-squared:                  0.131\n",
      "Method:                 Least Squares   F-statistic:                     40.74\n",
      "Date:                Wed, 12 Oct 2016   Prob (F-statistic):           4.91e-39\n",
      "Time:                        22:11:04   Log-Likelihood:                -2596.9\n",
      "No. Observations:                1315   AIC:                             5206.\n",
      "Df Residuals:                    1309   BIC:                             5237.\n",
      "Df Model:                           5                                         \n",
      "Covariance Type:            nonrobust                                         \n",
      "=====================================================================================\n",
      "                        coef    std err          t      P>|t|      [95.0% Conf. Int.]\n",
      "-------------------------------------------------------------------------------------\n",
      "Intercept             2.2644      0.156     14.525      0.000         1.959     2.570\n",
      "DYSLIFE               0.2859      0.209      1.369      0.171        -0.124     0.696\n",
      "MAJORDEPLIFE          1.2895      0.116     11.093      0.000         1.061     1.518\n",
      "numbercigsmoked_c     0.0352      0.006      6.231      0.000         0.024     0.046\n",
      "age_c                -0.0403      0.022     -1.821      0.069        -0.084     0.003\n",
      "SEX                  -0.0520      0.099     -0.525      0.600        -0.247     0.143\n",
      "==============================================================================\n",
      "Omnibus:                       69.769   Durbin-Watson:                   2.088\n",
      "Prob(Omnibus):                  0.000   Jarque-Bera (JB):               48.452\n",
      "Skew:                           0.359   Prob(JB):                     3.01e-11\n",
      "Kurtosis:                       2.392   Cond. No.                         38.4\n",
      "==============================================================================\n",
      "\n",
      "Warnings:\n",
      "[1] Standard Errors assume that the covariance matrix of the errors is correctly specified.\n"
     ]
    },
    {
     "name": "stderr",
     "output_type": "stream",
     "text": [
      "C:\\Anaconda3\\lib\\site-packages\\ipykernel\\__main__.py:3: SettingWithCopyWarning: \n",
      "A value is trying to be set on a copy of a slice from a DataFrame.\n",
      "Try using .loc[row_indexer,col_indexer] = value instead\n",
      "\n",
      "See the caveats in the documentation: http://pandas.pydata.org/pandas-docs/stable/indexing.html#indexing-view-versus-copy\n",
      "  app.launch_new_instance()\n"
     ]
    }
   ],
   "source": [
    "# multiple regression analysis with dysphoria & depression + other covariates\n",
    "# centering age variable\n",
    "sub1['age_c']=(sub1['AGE'] - sub1['AGE'].mean())\n",
    "print (sub1['age_c'].mean()) \n",
    "\n",
    "reg5 = smf.ols('NDSymptoms ~ DYSLIFE + MAJORDEPLIFE + numbercigsmoked_c + age_c + SEX', data=sub1).fit()\n",
    "print (reg5.summary())"
   ]
  },
  {
   "cell_type": "markdown",
   "metadata": {},
   "source": [
    "Let's re-run the code for a multiple regression model predicting nicotine dependent symptoms. \n",
    "\n",
    "Now, if you take a look at the output you'll see that the results are the same. Although there's an additional set of columns for the parameter estimates that provide the estimated lower, and upper limits for the 95% confidence interval for each parameter estimate.\n",
    "\n",
    "For example, if we take a look at the parameter estimate for major dep life, we see that it is 1.3. \n",
    "\n",
    "Meaning that on average individuals with major depression have 1.3 more nicotine dependent symptoms than people without major depression. \n",
    "\n",
    "This is our point estimate of the population perimeter. \n",
    "\n",
    "If we look at the conference interval though we see that it ranges from 1.1 to 1.5. Meaning that we're 95% certain, that the true population parameter for the association between major life depression, and number of nicotine dependant symptoms fall somewhere between 1.1 and 1.5. That is, in the population, there's a 95% chance that people with major life depression have anywhere between 1.1 and 1.5 more nicotine dependent symptoms than people without major depression. Also note that our dysthymia variable, dyslife, had a P value of .19 which is not statistically significant. We could not reject the null hypothesis of no association between dysthymia, and number of nicotine dependent symptoms, afterly adjusted for major life depression, and the other explanatory variables in the model. \n",
    "\n",
    "If we take a look at the confidence interval for this variable. We see that it ranges from -0.1 to 0.7, which includes a value of 0 in that range. \n",
    "\n",
    "This means that we can't rule out with 95% confidence the possibility that the association between dysthymia, and number of nicotine dependent symptoms, and for adjusting for other variables in the model, is 0. \n",
    "\n",
    "In linear regression, when you have a non significant P value, the 95% confidence interval for the parameter estimate will include a value of 0, no association. "
   ]
  },
  {
   "cell_type": "code",
   "execution_count": 24,
   "metadata": {
    "collapsed": false
   },
   "outputs": [
    {
     "name": "stdout",
     "output_type": "stream",
     "text": [
      "-3.445055688533819e-16\n",
      "                            OLS Regression Results                            \n",
      "==============================================================================\n",
      "Dep. Variable:             NDSymptoms   R-squared:                       0.135\n",
      "Model:                            OLS   Adj. R-squared:                  0.131\n",
      "Method:                 Least Squares   F-statistic:                     40.74\n",
      "Date:                Wed, 12 Oct 2016   Prob (F-statistic):           4.91e-39\n",
      "Time:                        22:11:08   Log-Likelihood:                -2596.9\n",
      "No. Observations:                1315   AIC:                             5206.\n",
      "Df Residuals:                    1309   BIC:                             5237.\n",
      "Df Model:                           5                                         \n",
      "Covariance Type:            nonrobust                                         \n",
      "=====================================================================================\n",
      "                        coef    std err          t      P>|t|      [95.0% Conf. Int.]\n",
      "-------------------------------------------------------------------------------------\n",
      "Intercept             2.2644      0.156     14.525      0.000         1.959     2.570\n",
      "DYSLIFE               0.2859      0.209      1.369      0.171        -0.124     0.696\n",
      "MAJORDEPLIFE          1.2895      0.116     11.093      0.000         1.061     1.518\n",
      "numbercigsmoked_c     0.0352      0.006      6.231      0.000         0.024     0.046\n",
      "age_c                -0.0403      0.022     -1.821      0.069        -0.084     0.003\n",
      "SEX                  -0.0520      0.099     -0.525      0.600        -0.247     0.143\n",
      "==============================================================================\n",
      "Omnibus:                       69.769   Durbin-Watson:                   2.088\n",
      "Prob(Omnibus):                  0.000   Jarque-Bera (JB):               48.452\n",
      "Skew:                           0.359   Prob(JB):                     3.01e-11\n",
      "Kurtosis:                       2.392   Cond. No.                         38.4\n",
      "==============================================================================\n",
      "\n",
      "Warnings:\n",
      "[1] Standard Errors assume that the covariance matrix of the errors is correctly specified.\n"
     ]
    },
    {
     "name": "stderr",
     "output_type": "stream",
     "text": [
      "C:\\Anaconda3\\lib\\site-packages\\ipykernel\\__main__.py:3: SettingWithCopyWarning: \n",
      "A value is trying to be set on a copy of a slice from a DataFrame.\n",
      "Try using .loc[row_indexer,col_indexer] = value instead\n",
      "\n",
      "See the caveats in the documentation: http://pandas.pydata.org/pandas-docs/stable/indexing.html#indexing-view-versus-copy\n",
      "  app.launch_new_instance()\n"
     ]
    }
   ],
   "source": [
    "# multiple regression analysis with dysphoria & depression + other covariates\n",
    "# centering age variable\n",
    "sub1['age_c']=(sub1['AGE'] - sub1['AGE'].mean())\n",
    "print (sub1['age_c'].mean()) \n",
    "\n",
    "reg5 = smf.ols('NDSymptoms ~ DYSLIFE + MAJORDEPLIFE + numbercigsmoked_c + age_c + SEX', data=sub1).fit()\n",
    "print (reg5.summary())"
   ]
  },
  {
   "cell_type": "markdown",
   "metadata": {},
   "source": [
    "The process of coding categorical explanatory variables is called dummy coding, or parameterization. And these dummy coding, or parameterization, methods can produce explanatory group comparisons ranging from very simple to very complex. For example, if our response variable is number of nicotine dependence symptoms, we might want to compare the number of symptoms from one group to the average number of symptoms for the other groups combined. This type of comparison is called effect coding, or effect parameterization. In this course, we're going to use one of the most basic parameterizations, which is called reference group coding, or reference group parameterization. \n",
    "\n",
    "\n",
    "This method is very similar to the post hoc pair-wise comparisons that you may have conducted as a follow-up to running an analysis of variance in the second course of this specialization, Data Analysis Tools. That is, reference group coding allows us to compare each group of our explanatory variable, referred to as the comparison groups, to another group, which is referred to as the reference group. For example, if our response variable is the number of nicotine dependence symptoms, reference coding allows us to compare number of nicotine dependence symptoms for each group of our categorical variable to a designated reference group. However, unlike an analysis of variance post hoc test, for which we conduct the comparisons after testing the ANOVA, the comparisons are part of the estimation of the multi regression model. This allows us to examine explanatory variable group differences on the response variable after adjusting for the other explanatory variables in the model. To demonstrate how to analyze a categorical explanatory variable with three or more categories, we will return to our NESARC data multiple work aggression analysis, predicting number of nicotine dependent symptoms for multiple explanatory variables. We could also add an ethnicity-race explanatory variable. Our ethnicity-race variable has four categories coded 0 = Hispanic, 1 = non-Hispanic White, 2 = non-Hispanic Black, and 3 = non-Hispanic Other ethnic or racial group. In this example, what we wanna know is whether Hispanic individuals have more or less nicotine dependence symptoms compared to individuals from the other three racial, ethnic groups. That is, we want to compare Hispanic individuals, the reference group, to individuals from the other racial ethnic groups, the comparison groups, on a number of nicotine dependence symptoms after controlling for the other explanatory variables in the model. To do this, we will use the same smf.ols function that we used to test our earlier multiple regression model. So we have our regression equation for which our NDsymptoms response variable is being predicted by the explanatory variables DYSLIFE, MAJORDEPLIFE, numbercigsmoked_c, age_c, SEX. We add our ethnicity race variable, ETHRACE, to the list of explanatory variables. But to tell Python that it is a categorical variable, we need to type a capital C and then put the name of the categorical variable in parentheses after the capital C. In this example, we want to compare the Hispanic group to the three other ethnicity race groups. So this will be our reference group. If you remember, our ethnicity race variable is coded 0 for Hispanic. The default and Python is reference group coding, which in python is called treatment coding. And the default reference category is the group with a value equal to 0, which is Hispanic in this case. Since this is what we're looking for in this example, we do not need to add any code to change the default. If we hadn't added a capital C with the ETHRACE variable in parentheses, Python would have assumed that our ethnicity race variable was a quantitative variable, so the regression coefficient would make no sense. Here's the output. Basically it is the same output that we see with the smf.ols function. But, if we look at our table of parameter estimates, we see that there are three regression coefficients for our categorical ethnicity race variable. Note that there is no estimate for the Hispanic reference group. The t dot and the number after it tells us that the treatment, that is reference group, parameterization was used and the number is the categorical variable code for the group. For example, the non-Hispanic white group in our ETHRACE variable was coded 1. So the t.1 indicates that it is the regression coefficient for the comparison of the non-Hispanic White ethnic race group to our Hispanic reference group. The three regression coefficients compare each of our ethnicity race groups to the Hispanic group. We can see that none of these three groups were significantly different from the Hispanic group in number of nicotine dependent symptoms because the p values all exceed our alpha level of .05. As with the previous regression analysis, we see that major life depression and number of cigarettes smoked are positively associated with number of nicotine dependent systems. If we wanted to make other comparisons, for example, to compare non-Hispanic White to non-Hispanic Black, then we would need to override the default reference group so that the value of 1 in the ETHRACE variable, which indicates the non-Hispanic White group, is used as the reference group. The code here shows how to do it. It's mostly the same code, but now because we are not using the default, we need to add some code to tell Python to continue to use the treatment or reference group coding and designate the reference group. We do this by adding a comma after the name of our ETHRACE variable in parentheses. Then treatment with a capital T. And then within another set of parenthesis, reference=1. This additional Python code provides a comparison of the three other ethnicity race groups to the non-Hispanic White group. Here's the output. Now the group code at 1, no longer has a parameter estimate and the other coefficients for t.0, t.2 and t.3 compare each of the other three racial ethnic groups to the non Hispanic white group. Participants in the non Hispanic other ethnic racial group had a significantly greater number of nicotine dependent symptoms compared to non Hispanic white participants. There are no significant differences for Hispanic and non Hispanic black participants compared to non Hispanic white participants. "
   ]
  },
  {
   "cell_type": "code",
   "execution_count": 25,
   "metadata": {
    "collapsed": false
   },
   "outputs": [
    {
     "name": "stdout",
     "output_type": "stream",
     "text": [
      "-1.3292282357185144e-14\n",
      "-3.445055688533819e-16\n"
     ]
    },
    {
     "name": "stderr",
     "output_type": "stream",
     "text": [
      "C:\\Anaconda3\\lib\\site-packages\\ipykernel\\__main__.py:6: SettingWithCopyWarning: \n",
      "A value is trying to be set on a copy of a slice from a DataFrame.\n",
      "Try using .loc[row_indexer,col_indexer] = value instead\n",
      "\n",
      "See the caveats in the documentation: http://pandas.pydata.org/pandas-docs/stable/indexing.html#indexing-view-versus-copy\n",
      "C:\\Anaconda3\\lib\\site-packages\\ipykernel\\__main__.py:8: SettingWithCopyWarning: \n",
      "A value is trying to be set on a copy of a slice from a DataFrame.\n",
      "Try using .loc[row_indexer,col_indexer] = value instead\n",
      "\n",
      "See the caveats in the documentation: http://pandas.pydata.org/pandas-docs/stable/indexing.html#indexing-view-versus-copy\n"
     ]
    }
   ],
   "source": [
    "##############################################################################\n",
    "# CATEGORICAL VARIABLES WITH 3+ CATEGORIES\n",
    "##############################################################################\n",
    "\n",
    "# center quantitative IVs for regression analysis\n",
    "sub1['numbercigsmoked_c'] = (sub1['numbercigsmoked'] - sub1['numbercigsmoked'].mean())\n",
    "print (sub1['numbercigsmoked_c'].mean()) \n",
    "sub1['age_c']=(sub1['AGE'] - sub1['AGE'].mean())\n",
    "print (sub1['age_c'].mean()) \n"
   ]
  },
  {
   "cell_type": "code",
   "execution_count": 26,
   "metadata": {
    "collapsed": false
   },
   "outputs": [
    {
     "name": "stdout",
     "output_type": "stream",
     "text": [
      "                            OLS Regression Results                            \n",
      "==============================================================================\n",
      "Dep. Variable:             NDSymptoms   R-squared:                       0.138\n",
      "Model:                            OLS   Adj. R-squared:                  0.133\n",
      "Method:                 Least Squares   F-statistic:                     26.10\n",
      "Date:                Thu, 13 Oct 2016   Prob (F-statistic):           1.11e-37\n",
      "Time:                        21:41:02   Log-Likelihood:                -2594.5\n",
      "No. Observations:                1315   AIC:                             5207.\n",
      "Df Residuals:                    1306   BIC:                             5254.\n",
      "Df Model:                           8                                         \n",
      "Covariance Type:            nonrobust                                         \n",
      "=====================================================================================\n",
      "                        coef    std err          t      P>|t|      [95.0% Conf. Int.]\n",
      "-------------------------------------------------------------------------------------\n",
      "Intercept             2.3096      0.185     12.511      0.000         1.947     2.672\n",
      "C(ETHRACE)[T.1]      -0.1143      0.135     -0.849      0.396        -0.378     0.150\n",
      "C(ETHRACE)[T.2]      -0.0982      0.178     -0.551      0.581        -0.448     0.251\n",
      "C(ETHRACE)[T.3]       0.3265      0.231      1.412      0.158        -0.127     0.780\n",
      "DYSLIFE               0.2867      0.209      1.374      0.170        -0.123     0.696\n",
      "MAJORDEPLIFE          1.2801      0.116     11.010      0.000         1.052     1.508\n",
      "numbercigsmoked_c     0.0370      0.006      6.328      0.000         0.026     0.048\n",
      "age_c                -0.0410      0.022     -1.851      0.064        -0.084     0.002\n",
      "SEX                  -0.0359      0.100     -0.360      0.719        -0.231     0.159\n",
      "==============================================================================\n",
      "Omnibus:                       70.223   Durbin-Watson:                   2.083\n",
      "Prob(Omnibus):                  0.000   Jarque-Bera (JB):               47.715\n",
      "Skew:                           0.351   Prob(JB):                     4.35e-11\n",
      "Kurtosis:                       2.385   Cond. No.                         50.4\n",
      "==============================================================================\n",
      "\n",
      "Warnings:\n",
      "[1] Standard Errors assume that the covariance matrix of the errors is correctly specified.\n"
     ]
    }
   ],
   "source": [
    "# adding 4 category ethnicity/race. Reference group coding is called \"Treatment\" coding in python\n",
    "# and the default reference catergory is the group with a value = 0 (Hispanic)\n",
    "reg6 = smf.ols('NDSymptoms ~ DYSLIFE + MAJORDEPLIFE + numbercigsmoked_c + age_c + SEX + C(ETHRACE)', \n",
    "               data=sub1).fit()\n",
    "print (reg6.summary())"
   ]
  },
  {
   "cell_type": "code",
   "execution_count": 28,
   "metadata": {
    "collapsed": false
   },
   "outputs": [
    {
     "name": "stdout",
     "output_type": "stream",
     "text": [
      "                            OLS Regression Results                            \n",
      "==============================================================================\n",
      "Dep. Variable:             NDSymptoms   R-squared:                       0.138\n",
      "Model:                            OLS   Adj. R-squared:                  0.133\n",
      "Method:                 Least Squares   F-statistic:                     26.10\n",
      "Date:                Thu, 13 Oct 2016   Prob (F-statistic):           1.11e-37\n",
      "Time:                        21:41:45   Log-Likelihood:                -2594.5\n",
      "No. Observations:                1315   AIC:                             5207.\n",
      "Df Residuals:                    1306   BIC:                             5254.\n",
      "Df Model:                           8                                         \n",
      "Covariance Type:            nonrobust                                         \n",
      "===========================================================================================================\n",
      "                                              coef    std err          t      P>|t|      [95.0% Conf. Int.]\n",
      "-----------------------------------------------------------------------------------------------------------\n",
      "Intercept                                   2.1953      0.163     13.434      0.000         1.875     2.516\n",
      "C(ETHRACE, Treatment(reference=1))[T.0]     0.1143      0.135      0.849      0.396        -0.150     0.378\n",
      "C(ETHRACE, Treatment(reference=1))[T.2]     0.0161      0.149      0.108      0.914        -0.277     0.309\n",
      "C(ETHRACE, Treatment(reference=1))[T.3]     0.4408      0.210      2.104      0.036         0.030     0.852\n",
      "DYSLIFE                                     0.2867      0.209      1.374      0.170        -0.123     0.696\n",
      "MAJORDEPLIFE                                1.2801      0.116     11.010      0.000         1.052     1.508\n",
      "numbercigsmoked_c                           0.0370      0.006      6.328      0.000         0.026     0.048\n",
      "age_c                                      -0.0410      0.022     -1.851      0.064        -0.084     0.002\n",
      "SEX                                        -0.0359      0.100     -0.360      0.719        -0.231     0.159\n",
      "==============================================================================\n",
      "Omnibus:                       70.223   Durbin-Watson:                   2.083\n",
      "Prob(Omnibus):                  0.000   Jarque-Bera (JB):               47.715\n",
      "Skew:                           0.351   Prob(JB):                     4.35e-11\n",
      "Kurtosis:                       2.385   Cond. No.                         40.0\n",
      "==============================================================================\n",
      "\n",
      "Warnings:\n",
      "[1] Standard Errors assume that the covariance matrix of the errors is correctly specified.\n"
     ]
    }
   ],
   "source": [
    "# can override the default ad specify a different reference group\n",
    "# non-Hispanic White as reference group \n",
    "reg7 = smf.ols('NDSymptoms ~ DYSLIFE + MAJORDEPLIFE + numbercigsmoked_c + age_c + SEX + C(ETHRACE, Treatment(reference=1))', \n",
    "               data=sub1).fit()\n",
    "print (reg7.summary())\n",
    "\n"
   ]
  },
  {
   "cell_type": "markdown",
   "metadata": {},
   "source": [
    "Multiple regression is the appropriate statistical tool when your response variable is quantitative. If your response variable is categorical with two levels. We need to use another multivariate tool, logistic regression. Let's use the nesarc data for an example. We will use the same stats model formula library which we imported as SMF. The function that we will use is the logitt function. Our response variable, nicotinedep is binary. Coded one equals yes or zero equals no to nicotine dependents. And so we should use a logistic regression. We also have an explanatory variable called SOCPDLIFE that indicated the presence or absence of social phobia. Which is an anxiety disorder marked by a strong fear of being judged by others and of being embarrassed. First we create an object called lreg1 which will include the results of our logistic regression model. Then we type an equal sign and then the function to run the logic regression. smf.logit. In parentheses we type our formula and the name of the dataset, sub1, and .fit followed by open and closed parentheses. The same way we would for linear multiple regression analysis. Then we ask Python to print the fit statistics for the logistic regression model. Let's take a look at the output here. Similar to the multiple regression output. You can see the number of observations, with the complete data that we used in the model. Here we see the name of our response variable. Nicotinedep, also is similar to the multi regression output. We see a table with the prime assessments and the P value. Notice also that our regression is significant at a P value of less than 0.0001. Using the prime assessments we could generate the linear equation. Nicotinedep is a function of 0.38 plus 1.23 times SOCPDLIFE But let's really think about the equation some more. >> In a regression module, our response variable was quantitative. And so it could theoretically take on any value. In a logistic regression, our response variable only takes on the values zero and one. Therefore, if I try to use this equation as a best fit line, I would run into some problems. \n",
    "\n",
    "Instead of talking in decimals it may be more helpful for us to talk about how the probability of being nicotine dependent changes based on the presence or absence of social phobia. \n",
    "\n",
    "For example, are those with social phobia more or less likely to be nicotine dependent than those without social phobia? \n",
    "\n",
    "<b>Instead of true expected values, we want probabilities. </b>\n",
    "\n",
    "Described visually, we'll no longer find the best fit line, shown in red, very helpful to us. As our outcome variable cannot take on any value. Instead, we're saying that there is somewhere along our X axis. Where our outcome variable moves from being more likely to be a zero to be more likely to be a one. \n",
    "\n",
    "Our goal will be to quantify the probability of getting a one versus a zero for given value on our X axis. \n",
    "\n",
    "In order to better answer our research question, we will choose odds ratios as opposed to coefficients. The odds ratio is the probability of an even occurring in one group compared to the probability of an event occurring in another group. \n",
    "\n",
    "Odds ratios are always given in the form of odds and are not linear. \n",
    "\n",
    "Odds ratios are often a confusing topic for students when they're first introduced to it so it will be important to go through it conceptually and better understand exactly what an odds ratio is and what it means. >> An odds ratio can range from zero to positive infinity. And is centered around the value one. \n",
    "\n",
    "If we ran our model and got an odds ratio of one. It would mean that there's an equal probability of nicotine dependence among those with and without social phobia. \n",
    "\n",
    "Those with social phobia are equally as likely to be nicotine dependent as those without. \n",
    "\n",
    "It's also likely then that our model would be statistically non-significant. If an odds ratio is greater than one. It means that the probability of becoming nicotine dependent increases among those with social phobia compared to those without. In contrast, if the odds ratio is below one. It means that the probability of becoming nicotine dependent is lower among those with social phobia than among those without. So how do we calculate the odds ratio? It is possible to do this by hand. The odds ratio is the natural exponentiation of our parameter estimate. Thus, all that we need to do is calculate the natural log to the power of our parameter estimate. However, we could also let Python do this for us by adding the following Python code. First we ask Python to print the title odds ratios. Then in the second line of code, we ask Python to print the odds ratios which are computer using the NumPy.exp, or exponentiate, function. In parenthesis we add the object that contains the parameter estimates, P-A-R-A-M-S, from our lreg1 model. Here are the results. Because both my explanatory and response variables in the model are binary, coded zero and one. I can interpret the odds ratio in the following way. Young adult daily smokers in my sample with social phobia are 3.4 times more likely to have nicotine dependence than young adult smokers without sociaphobia. We can also get a confidence interval for our odds ratio. Remember that our data set is just a sample of a population. We do not have every young adult daily smoker in the US in our sample. Even thought the odds ratio for our sample is 3.4, the true population odds ratio might be slightly different due to random variation in sampling. The code to print the confidence intervals for the odds ratio is here. In the first line of code, we create an object called params. P-A-R-A-M-S. That includes the perimeter estimates from our lreg1 logistic progression model. In the second line of code we create an object called cnof that uses a stats model conf_int () command to return the confidence levels for the parameters estimates. In the third and fourth line of code, we create an odds ration object with column labels of 'Lower CI' Upper CI and OR. Finally, print the conference intervals using the numpy.exp function to compute the odds ratios from the parameter estimates in the conf object. The odds ratio indicates that there's a 95% certainty that the 2 population odds ratio fall between 1.78 and 6.61. It's important to keep in mind that the odds ratio is simply a statistic calculated for the sample. >> So looking at the confidence interval, we can get a better picture of how much this value would change for a different sample drawn from the population. Based on our model those with social phobia are anywhere from 1.78 to 6.61 times more likely to have a nicotine dependence than those without social phobias. The odds ratio is a sample statistic and the confidence intervals are an estimate of the population parameter. "
   ]
  },
  {
   "cell_type": "code",
   "execution_count": 29,
   "metadata": {
    "collapsed": false
   },
   "outputs": [
    {
     "name": "stdout",
     "output_type": "stream",
     "text": [
      "Optimization terminated successfully.\n",
      "         Current function value: 0.664381\n",
      "         Iterations 5\n",
      "                           Logit Regression Results                           \n",
      "==============================================================================\n",
      "Dep. Variable:            NICOTINEDEP   No. Observations:                 1320\n",
      "Model:                          Logit   Df Residuals:                     1318\n",
      "Method:                           MLE   Df Model:                            1\n",
      "Date:                Thu, 13 Oct 2016   Pseudo R-squ.:                0.009574\n",
      "Time:                        21:42:06   Log-Likelihood:                -876.98\n",
      "converged:                       True   LL-Null:                       -885.46\n",
      "                                        LLR p-value:                 3.829e-05\n",
      "==============================================================================\n",
      "                 coef    std err          z      P>|z|      [95.0% Conf. Int.]\n",
      "------------------------------------------------------------------------------\n",
      "Intercept      0.3776      0.057      6.569      0.000         0.265     0.490\n",
      "SOCPDLIFE      1.2318      0.335      3.674      0.000         0.575     1.889\n",
      "==============================================================================\n",
      "Odds Ratios\n",
      "Intercept   1.46\n",
      "SOCPDLIFE   3.43\n",
      "dtype: float64\n"
     ]
    }
   ],
   "source": [
    "##############################################################################\n",
    "# LOGISTIC REGRESSION\n",
    "##############################################################################\n",
    "\n",
    "# logistic regression with social phobia\n",
    "lreg1 = smf.logit(formula = 'NICOTINEDEP ~ SOCPDLIFE', data = sub1).fit()\n",
    "print (lreg1.summary())\n",
    "# odds ratios\n",
    "print (\"Odds Ratios\")\n",
    "print (numpy.exp(lreg1.params))\n",
    "\n"
   ]
  },
  {
   "cell_type": "code",
   "execution_count": 30,
   "metadata": {
    "collapsed": false
   },
   "outputs": [
    {
     "name": "stdout",
     "output_type": "stream",
     "text": [
      "           Lower CI  Upper CI   OR\n",
      "Intercept      1.30      1.63 1.46\n",
      "SOCPDLIFE      1.78      6.61 3.43\n"
     ]
    }
   ],
   "source": [
    "# odd ratios with 95% confidence intervals\n",
    "params = lreg1.params\n",
    "conf = lreg1.conf_int()\n",
    "conf['OR'] = params\n",
    "conf.columns = ['Lower CI', 'Upper CI', 'OR']\n",
    "print (numpy.exp(conf))\n",
    "\n"
   ]
  },
  {
   "cell_type": "markdown",
   "metadata": {},
   "source": [
    "But what happens if we control for major depression? As you can see, both social phobia and major depression are independently associated with the likelihood of having nicotine dependence. Given that both social phobia and major depression are positively associated with a likelihood of being nicotine dependent. In our predictor or splinter variables are both binary, we can interpret the odds ratio in the following way. Young adult daily smokers, the sample population with social phobia are 2.3 times more likely to have nicotine dependence than young adult daily smokers without social phobia after controlling for major depression. Also, daily smokers with major depression are 3.7 times more likely to have nicotine dependence than daily smokers without depression, after controlling for the presence of social phobia. Because the confidence intervals on our odds ratios overlap, we can not say that major depression is more strongly associated with nicotine dependence than the social phobia. For the population of young adult daily smokers, we can say that those with social phobia are anywhere between 1.2 to 4.6 times more likely to have nicotine dependence than those without social phobia. And those with major depression are between 2.7 and 5.0 times more likely to have nicotine dependence than those without major depression. Both of these estimates are calculated after accounting for the alternate disorder. As with multiple regression, when using logistic regression, we can continue to add variables to our model in order to evaluate multiple predictors of our binary categorical response variable. Presence or absence of nicotine dependence symptoms. Another example of confounding occurs when a logistic progression model is run to test the association between panic disorder as the explanatory variable and nicotine dependence, the response variable. Panic disorder is an anxiety disorder characterized by recurring panic attacks. Here we see a significant association, and note that young adult daily smokers with panic disorder in our sample are 2.1 times more likely to have nicotine dependence than young adult daily smokers without panic disorder. However, when we add major depression to the model, panic disorder is no longer significantly associated with nicotine dependence. Here we have an example of confounding. We would say that major depression confounds the relationship between panic disorder and nicotine dependence because the P-Value for panic disorder is no longer significant when major depression is included in the model. Further, because panic disorder is no longer associated with nicotine dependence, we would not interpret the corresponding odds ratio, but would interpret the significant odds ratio between major depression and nicotine dependence. That is, young adult smokers with major depression are 3.6 times more likely to have nicotine dependence than young adult smokers without major depression after controlling for panic disorder. "
   ]
  },
  {
   "cell_type": "code",
   "execution_count": 31,
   "metadata": {
    "collapsed": false
   },
   "outputs": [
    {
     "name": "stdout",
     "output_type": "stream",
     "text": [
      "Optimization terminated successfully.\n",
      "         Current function value: 0.632175\n",
      "         Iterations 6\n",
      "                           Logit Regression Results                           \n",
      "==============================================================================\n",
      "Dep. Variable:            NICOTINEDEP   No. Observations:                 1320\n",
      "Model:                          Logit   Df Residuals:                     1317\n",
      "Method:                           MLE   Df Model:                            2\n",
      "Date:                Thu, 13 Oct 2016   Pseudo R-squ.:                 0.05758\n",
      "Time:                        21:42:26   Log-Likelihood:                -834.47\n",
      "converged:                       True   LL-Null:                       -885.46\n",
      "                                        LLR p-value:                 7.177e-23\n",
      "================================================================================\n",
      "                   coef    std err          z      P>|z|      [95.0% Conf. Int.]\n",
      "--------------------------------------------------------------------------------\n",
      "Intercept        0.0939      0.065      1.444      0.149        -0.034     0.221\n",
      "SOCPDLIFE        0.8393      0.347      2.416      0.016         0.158     1.520\n",
      "MAJORDEPLIFE     1.3072      0.152      8.588      0.000         1.009     1.606\n",
      "================================================================================\n",
      "              Lower CI  Upper CI   OR\n",
      "Intercept         0.97      1.25 1.10\n",
      "SOCPDLIFE         1.17      4.57 2.31\n",
      "MAJORDEPLIFE      2.74      4.98 3.70\n"
     ]
    }
   ],
   "source": [
    "# logistic regression with social phobia and depression\n",
    "lreg2 = smf.logit(formula = 'NICOTINEDEP ~ SOCPDLIFE + MAJORDEPLIFE', data = sub1).fit()\n",
    "print (lreg2.summary())\n",
    "\n",
    "# odd ratios with 95% confidence intervals\n",
    "params = lreg2.params\n",
    "conf = lreg2.conf_int()\n",
    "conf['OR'] = params\n",
    "conf.columns = ['Lower CI', 'Upper CI', 'OR']\n",
    "print (numpy.exp(conf))\n",
    "\n",
    "\n"
   ]
  },
  {
   "cell_type": "code",
   "execution_count": 32,
   "metadata": {
    "collapsed": false
   },
   "outputs": [
    {
     "name": "stdout",
     "output_type": "stream",
     "text": [
      "Optimization terminated successfully.\n",
      "         Current function value: 0.662762\n",
      "         Iterations 5\n",
      "                           Logit Regression Results                           \n",
      "==============================================================================\n",
      "Dep. Variable:            NICOTINEDEP   No. Observations:                 1320\n",
      "Model:                          Logit   Df Residuals:                     1318\n",
      "Method:                           MLE   Df Model:                            1\n",
      "Date:                Thu, 13 Oct 2016   Pseudo R-squ.:                 0.01199\n",
      "Time:                        21:42:49   Log-Likelihood:                -874.85\n",
      "converged:                       True   LL-Null:                       -885.46\n",
      "                                        LLR p-value:                 4.079e-06\n",
      "==============================================================================\n",
      "                 coef    std err          z      P>|z|      [95.0% Conf. Int.]\n",
      "------------------------------------------------------------------------------\n",
      "Intercept      0.3202      0.061      5.278      0.000         0.201     0.439\n",
      "PANIC          0.7590      0.172      4.423      0.000         0.423     1.095\n",
      "==============================================================================\n"
     ]
    }
   ],
   "source": [
    "# logistic regression with panic\n",
    "lreg3 = smf.logit(formula = 'NICOTINEDEP ~ PANIC', data = sub1).fit()\n",
    "print (lreg3.summary())\n",
    "\n"
   ]
  },
  {
   "cell_type": "code",
   "execution_count": 33,
   "metadata": {
    "collapsed": false
   },
   "outputs": [
    {
     "name": "stdout",
     "output_type": "stream",
     "text": [
      "Odds Ratios\n",
      "           Lower CI  Upper CI   OR\n",
      "Intercept      1.22      1.55 1.38\n",
      "PANIC          1.53      2.99 2.14\n"
     ]
    }
   ],
   "source": [
    "# odd ratios with 95% confidence intervals\n",
    "print (\"Odds Ratios\")\n",
    "params = lreg3.params\n",
    "conf = lreg3.conf_int()\n",
    "conf['OR'] = params\n",
    "conf.columns = ['Lower CI', 'Upper CI', 'OR']\n",
    "print (numpy.exp(conf))\n",
    "\n"
   ]
  },
  {
   "cell_type": "code",
   "execution_count": 34,
   "metadata": {
    "collapsed": false
   },
   "outputs": [
    {
     "name": "stdout",
     "output_type": "stream",
     "text": [
      "Optimization terminated successfully.\n",
      "         Current function value: 0.633241\n",
      "         Iterations 5\n",
      "                           Logit Regression Results                           \n",
      "==============================================================================\n",
      "Dep. Variable:            NICOTINEDEP   No. Observations:                 1320\n",
      "Model:                          Logit   Df Residuals:                     1317\n",
      "Method:                           MLE   Df Model:                            2\n",
      "Date:                Thu, 13 Oct 2016   Pseudo R-squ.:                 0.05600\n",
      "Time:                        21:43:10   Log-Likelihood:                -835.88\n",
      "converged:                       True   LL-Null:                       -885.46\n",
      "                                        LLR p-value:                 2.930e-22\n",
      "================================================================================\n",
      "                   coef    std err          z      P>|z|      [95.0% Conf. Int.]\n",
      "--------------------------------------------------------------------------------\n",
      "Intercept        0.0826      0.066      1.243      0.214        -0.048     0.213\n",
      "PANIC            0.3554      0.183      1.941      0.052        -0.003     0.714\n",
      "MAJORDEPLIFE     1.2848      0.155      8.266      0.000         0.980     1.589\n",
      "================================================================================\n"
     ]
    }
   ],
   "source": [
    "# logistic regression with panic and depression\n",
    "lreg4 = smf.logit(formula = 'NICOTINEDEP ~ PANIC + MAJORDEPLIFE', data = sub1).fit()\n",
    "print (lreg4.summary())\n",
    "\n"
   ]
  },
  {
   "cell_type": "code",
   "execution_count": 35,
   "metadata": {
    "collapsed": false
   },
   "outputs": [
    {
     "name": "stdout",
     "output_type": "stream",
     "text": [
      "Odds Ratios\n",
      "              Lower CI  Upper CI   OR\n",
      "Intercept         0.95      1.24 1.09\n",
      "PANIC             1.00      2.04 1.43\n",
      "MAJORDEPLIFE      2.66      4.90 3.61\n"
     ]
    }
   ],
   "source": [
    "# odd ratios with 95% confidence intervals\n",
    "print (\"Odds Ratios\")\n",
    "params = lreg4.params\n",
    "conf = lreg4.conf_int()\n",
    "conf['OR'] = params\n",
    "conf.columns = ['Lower CI', 'Upper CI', 'OR']\n",
    "print (numpy.exp(conf))\n"
   ]
  },
  {
   "cell_type": "code",
   "execution_count": null,
   "metadata": {
    "collapsed": true
   },
   "outputs": [],
   "source": []
  }
 ],
 "metadata": {
  "anaconda-cloud": {},
  "kernelspec": {
   "display_name": "Python [default]",
   "language": "python",
   "name": "python3"
  },
  "language_info": {
   "codemirror_mode": {
    "name": "ipython",
    "version": 3
   },
   "file_extension": ".py",
   "mimetype": "text/x-python",
   "name": "python",
   "nbconvert_exporter": "python",
   "pygments_lexer": "ipython3",
   "version": "3.5.1"
  }
 },
 "nbformat": 4,
 "nbformat_minor": 0
}
