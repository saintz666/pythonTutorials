{
 "cells": [
  {
   "cell_type": "markdown",
   "metadata": {},
   "source": [
    "First, I will call in the libraries that I will need. In addition to the pandas, numpy, and matplotlib libraries I'll need the train_test_split function from the sklearn.cross_validation library, and the LassoLarsCV function from the sklearn.linear_model library. After I call in the data set using the pd.read_csv function, I'll do a little extra data management. Namely, I want to create a new dataset called data_clean in which I will delete observations with missing data on any of the variables using the dropna function. \n",
    "***\n",
    "Then, I want to create a variable for gender called male, that is coded zero for female and one for male, like the other binary variables in the data set. Next, I will create two data frames. The first, called predvar, P-R-E-D-V-A-R, will include only the predictor variables that I will use in the lasso regression model. The second, called target, will include only my school connectedness response variable. \n",
    "****\n",
    "In lasso regression, the penalty term is not fair if the predictive variables are not on the same scale, meaning that not all the predictors get the same penalty. So I will standardize all the predictors to have a mean equal to zero and a standard deviation equal to one, including my binary predictors, which will put them all on the same scale. To standardize the predictors, I'm going to first create a copy of my predvar data frame and name it predictors. Then, I'm going to import the preprocessing function from the sklearn library. I will list the name of my predictor variable = preprocessing.scale. The preprocessing.scale function transforms the variable to have a mean of zero and a standard deviation of one, thus putting all the predictors on the same scale. Then, in parentheses I type the name of my variable again, and add .astype('float64'). The as type float 64 code ensures that my predictors will have a numeric format. "
   ]
  },
  {
   "cell_type": "markdown",
   "metadata": {},
   "source": [
    "In the next line of code, I will use the train test split function from the sklearn cross validation library to randomly split my data set into a training data set consisting of 70% of the total observations in the data set. And a test data set consisting of the other 30% of the observations. First, I list the two training data sets. The first data set, called pred_train, will include the predictor variables from my training data set and a second data set, called pred_test, will include the predictor variables from my test data set. The third data set, called tar_train, will include the response variable from my training data set and the fourth data set, called tar_test, will include the response variable for my test data set. Then I type the function name, train_test_split and in parentheses, I list my full predictors and target data set names with commas separating them. The test_size option tells Python to randomly place 30% of the observations in the pred_test and pred_tar test data sets. By default, the other 70% of the observations are placed in the pred_train and tar_train training data sets. The random_state option specifies a random number seed to ensure that the data are randomly split the same way if I run the code again. \n"
   ]
  },
  {
   "cell_type": "markdown",
   "metadata": {},
   "source": [
    "Now we are ready to run our LASSO regression analysis with the LAR algorithm using the LASSO LarsCV function from the sklearn linear model library. LASSO Regression has a couple of different model selection algorithms. In this example, I will use the LAR Algorithm, which stands for Least Angle Regression. This algorithm starts with no predictors in the model and adds a predictor at each step. It first adds a predictor that is most correlated with the response variable and moves it towards least score estimate until there is another predictor. That is equally correlated with the model residual. It adds this predictor to the model and starts the least square estimation process over again with both variables. The LAR algorithm continues with this process until it has tested all the predictors. Parameter estimates at any step are shrunk and predictors with coefficients that have shrunk to zero are removed from the model and the process starts all over again. \n",
    "****\n",
    "So I create an object called model that will contain the results of the Lasso regression analysis, then I type the name of the function, LassoLarsCV. In parentheses, I add cv = 10, which asks Python to use k-fold cross-validation with ten random folds from the training data set to choose the final statistical model. The option precompute=False tells Python not to use a precomputed matrix. This option would be helpful with very large models, because the precomputed matrix can speed up calculations. However, the model I'm going to test is not very large. To fit the Lasso regression on the training set after the parenthesis, I add .fit, and in another set of parenthesis the names of the training predictor and response variable data sets. So what I am doing here is using k-fold cross-validation in which the first fold of the training data set is treated as a validation set, and the model is estimated using the remaining nine folds. \n",
    "***\n",
    "At each step of the estimation process, when a new predictor is entered into the model, the mean-square error for the validation fold is calculated for each of the other nine folds and then averaged. The model that produces the lowest mean-square error is selected by Python as the best model to validate using the test dataset. Let's go ahead and run the code and take a look at the results. The first thing we can do is tell Python to print the variables, and the regression coefficients from the model that was retained by the model selection process as the best fitting model. The dict object creates a dictionary, and the zip object creates lists. So here I typed the dict object And in parenthesis, I add the zip object, and then in the next set of parenthesis I name the two lists that I want printed. In this case, I want to print the variable labels and the associated regression coefficients. I do this by first typing the name of the data frame that has the predictor variables, which I named predictors earlier, and then .com, which will provide the variable labels. Then I add a comma and the name of the attribute from the LASSO model results object that I named model.coef_, which is the name of the regression co-efficient attribute. We can run the code and take a look at the output. \n",
    "***\n",
    "Predictors with regression coefficients that do not have a value of zero are included in the selected model. Predictors with regression coefficients equal to zero means that the coefficients for those variables had shrunk to zero after applying the LASSO regression penalty, and were subsequently removed from the model. So the results show that of the 23 variables, 18 were selected in the final model. If you remember, we standardized the values of our variables to be on the same scale. So we can also use the size of the regression coefficients to tell us which predictors are the strongest predictors of school connectedness. For example, self-esteem and depression had the largest regression coefficients, and were most strongly associated with school connectedness, followed by black ethnicity and GPA. Depression and black ethnicity were negatively associated with school connectiveness, and self-esteem and GPA were positively associated with school connectiveness. We can also create some plots so we can visualize some of the results. For example, we can plot the progression of the regression coefficients through the model selection process. In Python, we do this by plotting the change in the regression coefficient by values of the penalty parameter at each step of the selection process. It's important to note that the sklearn library refers to the penalty parameter is alpha although the more conventional term is lambda. We can use the following code to generate this plot. \n",
    "***\n",
    "For creating the plot, I will apply a negative log10 transformation to the alpha values. Simply to make the values easier to read by creating an object m_log_alphas that is equal to the negative of the -np.log10 transformation function applied to the alphas_ attribute from the model results object. The alphas_ attribute contains the values of alpha through the model selection process. The first line of code for the plot, sets up the axes, the second line of code asks Python to use the plot function from the mat plot lib library which we imported as plt to plot the transform values of alpha on the horizontal access. And the change in the regression coefficients in the coef_path_ attribute, from the model results object and the y axis. The .T asks python to transpose the coef_path_ attribute matrix to match the first dimension of the array of alpha values. I will use the plt.axlvline function to put a dashed vertical line at the -np.log10 transformed alpha value for the selected model. The color equals='k' in quotes tells Python to make the line color black. Finally, I add titles for the two axes and the plot title and run the code. \n",
    "***\n",
    "This plot shows the relative importance of the predictor selected at any step of the selection process, how the reggression coefficients changed with the addition of a new predictor at each step, as well as the steps at which each variable entered the model. As we already know from looking at the list of the regression coefficients self esteem, the dark blue line, had the largest regression coefficient. It was therefore entered into the model first, followed by depression, the black line, at step two. In black ethnicity, the light blue line, at step three and so on. \n",
    "***\n",
    "Another important plot is one that shows the change in the mean square error for the change in the penalty parameter alpha at each step in the selection process. This code is similar to the code for the previous plot except this time we're plotting the alpha values through the model selection process for each cross validation fold on the horizontal axis, and the mean square error for each cross validation fold on the vertical axis. This is done in the first plt.plot function. Where m_log_alphascv, is a negative log10 transformation applied to the alphascv_ attribute for each validation fold, and a cv_mse_path_ is the model results attribute containing the mean square error for each cross validation fold. The colon in quotes here tells Python to plot the folds as dotted lines. In the next line of code, I'm asking Python to plot the average mean squared error across all cross-validation folds, and to plot it as a slightly thicker line with equals to black line. I'll use the plt.axvline function to plot a dashed black vertical line at the -np.log10 transformed alpha value for the selected model. Finally, I ask Python to print a legend and add titles for the two axes as well as the plot title and I run the code. \n",
    "***\n",
    "We can see that there is variability across the individual cross-validation folds in the training data set, but the change in the mean square error as variables are added to the model follows the same pattern for each fold. Initially it decreases rapidly and then levels off to a point at which adding more predictors doesn't lead to much reduction in the mean square error. This is to be expected as model complexity increases. We can also print the average mean square error in the r square for the proportion of variance in school connectedness. That is explained by the selected model in the training data set and in the test set when the selected model's applied to the test data using the following code. Here we need to import the mean squared error function from the sklearn metrics library to compute the mean square error. We create an object called train_error which is equal to the mean_squared_error calculation function, then in parentheses, the training data set response variable, tar_train, then a comma, and then model.predict(pred_train). This code tells Python to use the results from the model object to predict the response variable for observations in the training data set. We then do the same thing for the test data by using the results from the training set model to calculate the test data mean square error. We use the model.score attribute, which includes the predicted response values for the training, and test data sets for calculating the r square for each set. We then use the print function to print them. \n",
    "***\n",
    "As expected, the selected model was less accurate in predicting school connectedness in the test data, but the test mean square error was pretty close to the training mean square error. This suggests that prediction accuracy was pretty stable across the two data sets. The R-square values were 0.33 and 0.31, indicating that the selected model explained 33 and 31% of the variance in school connectedness for the training and test sets, respectively. If we go back to our graph from the bias variance trade-off video that shows what happens to prediction error as a model becomes more complex by adding more predictors. We can see that prediction error decreases as more variables are added to the model, and consequently bias is lower. However, we can see from the results of our example, that the reduction in mean squares error became negligible. If we'd had even more predictors in our example to predict school connectiveness. We would likely see something similar to the graph's test curve, showing an increase in both bias and variance. The model that is selected as the best model, is the one that falls somewhere in here. It is a point where bias and variance and the test prediction error is lowest. If a model with fewer predictors is chosen, then the model is at risk of being under-chosen. If a model of more predictors is chosen, then the model is at risk of being over-fitted. "
   ]
  },
  {
   "cell_type": "code",
   "execution_count": 2,
   "metadata": {
    "collapsed": false
   },
   "outputs": [
    {
     "name": "stderr",
     "output_type": "stream",
     "text": [
      "C:\\Anaconda3\\lib\\site-packages\\ipykernel\\__main__.py:17: SettingWithCopyWarning: \n",
      "A value is trying to be set on a copy of a slice from a DataFrame.\n",
      "Try using .loc[row_indexer,col_indexer] = value instead\n",
      "\n",
      "See the caveats in the documentation: http://pandas.pydata.org/pandas-docs/stable/indexing.html#indexing-view-versus-copy\n"
     ]
    },
    {
     "name": "stdout",
     "output_type": "stream",
     "text": [
      "training data MSE\n",
      "18.1485726641\n",
      "test data MSE\n",
      "17.2925174272\n",
      "training data R-square\n",
      "0.333611136927\n",
      "test data R-square\n",
      "0.31001113416\n"
     ]
    }
   ],
   "source": [
    "#from pandas import Series, DataFrame\n",
    "import pandas as pd\n",
    "import numpy as np\n",
    "import matplotlib.pylab as plt\n",
    "from sklearn.cross_validation import train_test_split\n",
    "from sklearn.linear_model import LassoLarsCV\n",
    " \n",
    "#Load the dataset\n",
    "data = pd.read_csv(r\"C:\\Users\\piush\\Desktop\\Dataset\\tree_addhealth.csv\")\n",
    "\n",
    "#upper-case all DataFrame column names\n",
    "data.columns = map(str.upper, data.columns)\n",
    "\n",
    "# Data Management\n",
    "data_clean = data.dropna()\n",
    "recode1 = {1:1, 2:0}\n",
    "data_clean['MALE']= data_clean['BIO_SEX'].map(recode1)\n",
    "\n",
    "#select predictor variables and target variable as separate data sets  \n",
    "predvar= data_clean[['MALE','HISPANIC','WHITE','BLACK','NAMERICAN','ASIAN',\n",
    "'AGE','ALCEVR1','ALCPROBS1','MAREVER1','COCEVER1','INHEVER1','CIGAVAIL','DEP1',\n",
    "'ESTEEM1','VIOL1','PASSIST','DEVIANT1','GPA1','EXPEL1','FAMCONCT','PARACTV',\n",
    "'PARPRES']]\n",
    "\n",
    "target = data_clean.SCHCONN1\n",
    " \n",
    "# standardize predictors to have mean=0 and sd=1\n",
    "predictors=predvar.copy()\n",
    "from sklearn import preprocessing\n",
    "predictors['MALE']=preprocessing.scale(predictors['MALE'].astype('float64'))\n",
    "predictors['HISPANIC']=preprocessing.scale(predictors['HISPANIC'].astype('float64'))\n",
    "predictors['WHITE']=preprocessing.scale(predictors['WHITE'].astype('float64'))\n",
    "predictors['NAMERICAN']=preprocessing.scale(predictors['NAMERICAN'].astype('float64'))\n",
    "predictors['ASIAN']=preprocessing.scale(predictors['ASIAN'].astype('float64'))\n",
    "predictors['AGE']=preprocessing.scale(predictors['AGE'].astype('float64'))\n",
    "predictors['ALCEVR1']=preprocessing.scale(predictors['ALCEVR1'].astype('float64'))\n",
    "predictors['ALCPROBS1']=preprocessing.scale(predictors['ALCPROBS1'].astype('float64'))\n",
    "predictors['MAREVER1']=preprocessing.scale(predictors['MAREVER1'].astype('float64'))\n",
    "predictors['COCEVER1']=preprocessing.scale(predictors['COCEVER1'].astype('float64'))\n",
    "predictors['INHEVER1']=preprocessing.scale(predictors['INHEVER1'].astype('float64'))\n",
    "predictors['CIGAVAIL']=preprocessing.scale(predictors['CIGAVAIL'].astype('float64'))\n",
    "predictors['DEP1']=preprocessing.scale(predictors['DEP1'].astype('float64'))\n",
    "predictors['ESTEEM1']=preprocessing.scale(predictors['ESTEEM1'].astype('float64'))\n",
    "predictors['VIOL1']=preprocessing.scale(predictors['VIOL1'].astype('float64'))\n",
    "predictors['PASSIST']=preprocessing.scale(predictors['PASSIST'].astype('float64'))\n",
    "predictors['DEVIANT1']=preprocessing.scale(predictors['DEVIANT1'].astype('float64'))\n",
    "predictors['GPA1']=preprocessing.scale(predictors['GPA1'].astype('float64'))\n",
    "predictors['EXPEL1']=preprocessing.scale(predictors['EXPEL1'].astype('float64'))\n",
    "predictors['FAMCONCT']=preprocessing.scale(predictors['FAMCONCT'].astype('float64'))\n",
    "predictors['PARACTV']=preprocessing.scale(predictors['PARACTV'].astype('float64'))\n",
    "predictors['PARPRES']=preprocessing.scale(predictors['PARPRES'].astype('float64'))\n",
    "\n",
    "# split data into train and test sets\n",
    "pred_train, pred_test, tar_train, tar_test = train_test_split(predictors, target, \n",
    "                                                              test_size=.3, random_state=123)\n",
    "\n",
    "# specify the lasso regression model\n",
    "model=LassoLarsCV(cv=10, precompute=False).fit(pred_train,tar_train)\n",
    "\n",
    "# print variable names and regression coefficients\n",
    "dict(zip(predictors.columns, model.coef_))\n",
    "\n",
    "# plot coefficient progression\n",
    "m_log_alphas = -np.log10(model.alphas_)\n",
    "ax = plt.gca()\n",
    "plt.plot(m_log_alphas, model.coef_path_.T)\n",
    "plt.axvline(-np.log10(model.alpha_), linestyle='--', color='k',\n",
    "            label='alpha CV')\n",
    "plt.ylabel('Regression Coefficients')\n",
    "plt.xlabel('-log(alpha)')\n",
    "plt.title('Regression Coefficients Progression for Lasso Paths')\n",
    "\n",
    "# plot mean square error for each fold\n",
    "m_log_alphascv = -np.log10(model.cv_alphas_)\n",
    "plt.figure()\n",
    "plt.plot(m_log_alphascv, model.cv_mse_path_, ':')\n",
    "plt.plot(m_log_alphascv, model.cv_mse_path_.mean(axis=-1), 'k',\n",
    "         label='Average across the folds', linewidth=2)\n",
    "plt.axvline(-np.log10(model.alpha_), linestyle='--', color='k',\n",
    "            label='alpha CV')\n",
    "plt.legend()\n",
    "plt.xlabel('-log(alpha)')\n",
    "plt.ylabel('Mean squared error')\n",
    "plt.title('Mean squared error on each fold')\n",
    "         \n",
    "\n",
    "# MSE from training and test data\n",
    "from sklearn.metrics import mean_squared_error\n",
    "train_error = mean_squared_error(tar_train, model.predict(pred_train))\n",
    "test_error = mean_squared_error(tar_test, model.predict(pred_test))\n",
    "print ('training data MSE')\n",
    "print(train_error)\n",
    "print ('test data MSE')\n",
    "print(test_error)\n",
    "\n",
    "# R-square from training and test data\n",
    "rsquared_train=model.score(pred_train,tar_train)\n",
    "rsquared_test=model.score(pred_test,tar_test)\n",
    "print ('training data R-square')\n",
    "print(rsquared_train)\n",
    "print ('test data R-square')\n",
    "print(rsquared_test)\n",
    "\n"
   ]
  },
  {
   "cell_type": "code",
   "execution_count": null,
   "metadata": {
    "collapsed": true
   },
   "outputs": [],
   "source": []
  }
 ],
 "metadata": {
  "kernelspec": {
   "display_name": "Python 3",
   "language": "python",
   "name": "python3"
  },
  "language_info": {
   "codemirror_mode": {
    "name": "ipython",
    "version": 3
   },
   "file_extension": ".py",
   "mimetype": "text/x-python",
   "name": "python",
   "nbconvert_exporter": "python",
   "pygments_lexer": "ipython3",
   "version": "3.5.1"
  }
 },
 "nbformat": 4,
 "nbformat_minor": 0
}
