{
 "cells": [
  {
   "cell_type": "markdown",
   "metadata": {},
   "source": [
    "These are mainly notes for myself, but I figured that they might be of interest to some of the blog readers too. Comments on what is written below are most welcome!\n",
    "\n",
    "[Kaggle tutorial Excellent](http://mlwave.com/predicting-repeat-buyers-vowpal-wabbit/)\n",
    "\n",
    "Open source data science [degree](http://www.kdnuggets.com/2016/06/open-source-machine-learning-degree.html)\n",
    "\n",
    "[least-squares](https://blogs.princeton.edu/imabandit/2016/03/14/notes-on-least-squares-part-i/)\n",
    "\n",
    "[Jupyter Notebook Markdown Syntax Guide](https://sourceforge.net/p/ipython/discussion/markdown_syntax#md_ex_lists)\n",
    "\n",
    "[Bayesian A/B Testing Calculator](https://yanirseroussi.com/2016/06/19/making-bayesian-ab-testing-more-accessible/)\n",
    "\n",
    "[Bayesian Statistics](https://www.analyticsvidhya.com/blog/2016/06/bayesian-statistics-beginners-simple-english/)\n",
    "\n",
    "[Social Tools](http://blogs.lse.ac.uk/impactofsocialsciences/2015/07/10/social-media-research-tools-overview/)\n",
    "\n",
    "[Mining Twitter](http://www.kdnuggets.com/2016/06/mining-twitter-data-python-part-1.html)\n",
    "\n",
    "[Chennai Flood Twitter](https://www.analyticsvidhya.com/blog/2016/07/capstone-project/)\n",
    "\n",
    "[Books](http://www.datasciencecentral.com/m/blogpost?id=6448529%3ABlogPost%3A115922)\n",
    "\n",
    "[Excellent Visualization](https://medium.com/@kennelliott/39-studies-about-human-perception-in-30-minutes-4728f9e31a73#.xodxr9egz)\n",
    "\n",
    "[Model Based Learning](http://www.mbmlbook.com/toc.html)\n",
    "\n",
    "[R)egression](http://www.datasciencecentral.com/m/blogpost?id=6448529%3ABlogPost%3A186758)\n",
    ")\n",
    "\n",
    "[pandas,scikit tutorials_1](http://www.andreykurenkov.com/writing/power-of-ipython-pandas-scikilearn/)\n",
    "\n",
    "[apartment-finding-slackbot](https://www.dataquest.io/blog/apartment-finding-slackbot/)\n",
    "\n",
    "[data science portfolio](https://www.dataquest.io/blog/)\n",
    "\n",
    "[Layman Tutorials](https://algobeans.com/all-posts/)\n",
    "\n",
    "[tutorial_1](https://civisanalytics.com/blog/data-science/2015/12/17/workflows-in-python-getting-data-ready-to-build-models/)\n",
    "\n",
    "[Tutorial_2](http://radimrehurek.com/data_science_python/)\n",
    "\n",
    "[Majority Rule Ensemble Classifier](http://sebastianraschka.com/Articles/2014_ensemble_classifier.html)\n",
    "\n",
    "[Scikit Learn](https://github.com/bugra/pydata-nyc-2014)\n",
    "\n",
    "[Tutorial_3](http://nbviewer.jupyter.org/github/rhiever/Data-Analysis-and-Machine-Learning-Projects/blob/master/example-data-science-notebook/Example%20Machine%20Learning%20Notebook.ipynb)\n",
    "\n",
    "Wikipedia link for [categorical data analysis](https://en.wikipedia.org/wiki/List_of_analyses_of_categorical_data)\n",
    "\n"
   ]
  },
  {
   "cell_type": "code",
   "execution_count": null,
   "metadata": {
    "collapsed": true
   },
   "outputs": [],
   "source": []
  }
 ],
 "metadata": {
  "kernelspec": {
   "display_name": "Python 3",
   "language": "python",
   "name": "python3"
  },
  "language_info": {
   "codemirror_mode": {
    "name": "ipython",
    "version": 3
   },
   "file_extension": ".py",
   "mimetype": "text/x-python",
   "name": "python",
   "nbconvert_exporter": "python",
   "pygments_lexer": "ipython3",
   "version": "3.5.1"
  }
 },
 "nbformat": 4,
 "nbformat_minor": 0
}
