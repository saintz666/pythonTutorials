{
 "cells": [
  {
   "cell_type": "markdown",
   "metadata": {},
   "source": [
    "if we want to jump to a particular place in the file or do other nonsequential reading, we will need to use the handcrafted approach and use IO functions such as seek(), tell(), read(), and next() that allow enough flexibility for most users. Most of these functions are just bindings to C implementations (and are OS-specific), so they are fast, but their behavior can vary based on the OS we are running."
   ]
  },
  {
   "cell_type": "code",
   "execution_count": 1,
   "metadata": {
    "collapsed": false
   },
   "outputs": [
    {
     "ename": "FileNotFoundError",
     "evalue": "[Errno 2] No such file or directory: '-f'",
     "output_type": "error",
     "traceback": [
      "\u001b[0;31m---------------------------------------------------------------------------\u001b[0m",
      "\u001b[0;31mFileNotFoundError\u001b[0m                         Traceback (most recent call last)",
      "\u001b[0;32m<ipython-input-1-46c2df235685>\u001b[0m in \u001b[0;36m<module>\u001b[0;34m()\u001b[0m\n\u001b[1;32m      3\u001b[0m \u001b[0mfilename\u001b[0m \u001b[1;33m=\u001b[0m \u001b[0msys\u001b[0m\u001b[1;33m.\u001b[0m\u001b[0margv\u001b[0m\u001b[1;33m[\u001b[0m\u001b[1;36m1\u001b[0m\u001b[1;33m]\u001b[0m  \u001b[1;31m# must pass valid file name\u001b[0m\u001b[1;33m\u001b[0m\u001b[0m\n\u001b[1;32m      4\u001b[0m \u001b[1;33m\u001b[0m\u001b[0m\n\u001b[0;32m----> 5\u001b[0;31m \u001b[1;32mwith\u001b[0m \u001b[0mopen\u001b[0m\u001b[1;33m(\u001b[0m\u001b[0mfilename\u001b[0m\u001b[1;33m,\u001b[0m \u001b[1;34m'rb'\u001b[0m\u001b[1;33m)\u001b[0m \u001b[1;32mas\u001b[0m \u001b[0mhugefile\u001b[0m\u001b[1;33m:\u001b[0m\u001b[1;33m\u001b[0m\u001b[0m\n\u001b[0m\u001b[1;32m      6\u001b[0m     \u001b[0mchunksize\u001b[0m \u001b[1;33m=\u001b[0m \u001b[1;36m1000\u001b[0m\u001b[1;33m\u001b[0m\u001b[0m\n\u001b[1;32m      7\u001b[0m     \u001b[0mreadable\u001b[0m \u001b[1;33m=\u001b[0m \u001b[1;34m''\u001b[0m\u001b[1;33m\u001b[0m\u001b[0m\n",
      "\u001b[0;31mFileNotFoundError\u001b[0m: [Errno 2] No such file or directory: '-f'"
     ]
    }
   ],
   "source": [
    "import sys\n",
    "\n",
    "filename = sys.argv[1]  # must pass valid file name\n",
    "\n",
    "with open(filename, 'rb') as hugefile:\n",
    "    chunksize = 1000\n",
    "    readable = ''\n",
    "    # if you want to stop after certain number of blocks\n",
    "    # put condition in the while\n",
    "    while hugefile:  \n",
    "        # if you want to start not from 1st byte\n",
    "        # do a hugefile.seek(skipbytes) to skip\n",
    "        # skipbytes of bytes from the file start\n",
    "        start = hugefile.tell()\n",
    "        print (\"starting at:\", start)\n",
    "        file_block = ''  # holds chunk_size of lines\n",
    "        for _ in xrange(start, start + chunksize):\n",
    "            line = hugefile.next()\n",
    "            file_block = file_block + line\n",
    "            print ('file_block', type(file_block), file_block)\n",
    "        readable = readable + file_block\n",
    "        # tell where are we in file\n",
    "        # file IO is usually buffered so tell()\n",
    "        # will not be precise for every read.\n",
    "        stop = hugefile.tell()\n",
    "        print ('readable', type(readable), readable)\n",
    "        print ('reading bytes from %s to %s' % (start, stop))\n",
    "        print ('read bytes total:', len(readable))\n",
    "        \n",
    "        # if you want to pause read between chucks\n",
    "        # uncomment following line\n",
    "        #raw_input()"
   ]
  },
  {
   "cell_type": "code",
   "execution_count": null,
   "metadata": {
    "collapsed": true
   },
   "outputs": [],
   "source": []
  }
 ],
 "metadata": {
  "kernelspec": {
   "display_name": "Python [default]",
   "language": "python",
   "name": "python3"
  },
  "language_info": {
   "codemirror_mode": {
    "name": "ipython",
    "version": 3
   },
   "file_extension": ".py",
   "mimetype": "text/x-python",
   "name": "python",
   "nbconvert_exporter": "python",
   "pygments_lexer": "ipython3",
   "version": "3.5.1"
  }
 },
 "nbformat": 4,
 "nbformat_minor": 1
}
