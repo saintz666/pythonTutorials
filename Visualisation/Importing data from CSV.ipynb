{
 "cells": [
  {
   "cell_type": "markdown",
   "metadata": {},
   "source": [
    "we'll work with the most common file format that you will encounter in the wild world of data—CSV. It stands for Comma Separated Values, which almost explains all the formatting there is. (There is also a header part of the file, but those values are also comma separated.)\n",
    "\n",
    "Python has a module called csv that supports reading and writing CSV files in various dialects. Dialects are important because there is no standard CSV, and different applications implement CSV in slightly different ways. A file's dialect is almost always recognizable by the first look into the file."
   ]
  },
  {
   "cell_type": "markdown",
   "metadata": {},
   "source": [
    "###### import data from a CSV file\n",
    "\n",
    "Open the ch02-data.csv file for reading.\n",
    "\n",
    "Read the header first.\n",
    "\n",
    "Read the rest of the rows.\n",
    "\n",
    "In case there is an error, raise an exception.\n",
    "\n",
    "After reading everything, print the header and the rest of the rows."
   ]
  },
  {
   "cell_type": "code",
   "execution_count": 3,
   "metadata": {
    "collapsed": false
   },
   "outputs": [
    {
     "name": "stdout",
     "output_type": "stream",
     "text": [
      "['day', 'ammount']\n",
      "==================\n",
      "['2013-01-24', '323']\n",
      "['2013-01-25', '233']\n",
      "['2013-01-26', '433']\n",
      "['2013-01-27', '555']\n",
      "['2013-01-28', '123']\n",
      "['2013-01-29', '0']\n",
      "['2013-01-30', '221']\n"
     ]
    }
   ],
   "source": [
    "import csv\n",
    "\n",
    "filename = r'C:\\Users\\piush\\Desktop\\Dataset\\PythonDataVisualizationCookbook\\Chapter 02\\ch02-data.csv'\n",
    "\n",
    "data = []\n",
    "try:\n",
    "    with open(filename) as f:\n",
    "        reader = csv.reader(f)\n",
    "        #for python 3.2 onwards\n",
    "        header = next(reader)\n",
    "        data = [row for row in reader]\n",
    "except csv.Error as e:\n",
    "    print (\"Error reading CSV file at line %s: %s\" % (reader.line_num, e))\n",
    "    sys.exit(-1)\n",
    "if header:\n",
    "    print (header)\n",
    "    print ('==================')\n",
    "\n",
    "for datarow in data:\n",
    "    print (datarow)"
   ]
  },
  {
   "cell_type": "markdown",
   "metadata": {},
   "source": [
    "If you have larger files that you want to load, it's often better to use well-known libraries like NumPy's loadtxt() that cope better with large CSV files.\n",
    "\n",
    "The basic usage is simple as shown in the following code snippet:"
   ]
  },
  {
   "cell_type": "markdown",
   "metadata": {},
   "source": [
    "import numpy\n",
    "\n",
    "data = numpy.loadtxt('ch02-data.csv', dtype='string', delimiter=',')"
   ]
  },
  {
   "cell_type": "markdown",
   "metadata": {},
   "source": [
    "Note that we need to define a delimiter to instruct NumPy to separate our data as appropriate. The function numpy.loadtxt() is somewhat faster than the similar function numpy.genfromtxt(), but the latter can cope better with missing data, and you are able to provide functions to express what is to be done during the processing of certain columns of loaded data files."
   ]
  },
  {
   "cell_type": "code",
   "execution_count": null,
   "metadata": {
    "collapsed": true
   },
   "outputs": [],
   "source": []
  }
 ],
 "metadata": {
  "kernelspec": {
   "display_name": "Python [default]",
   "language": "python",
   "name": "python3"
  },
  "language_info": {
   "codemirror_mode": {
    "name": "ipython",
    "version": 3
   },
   "file_extension": ".py",
   "mimetype": "text/x-python",
   "name": "python",
   "nbconvert_exporter": "python",
   "pygments_lexer": "ipython3",
   "version": "3.5.1"
  }
 },
 "nbformat": 4,
 "nbformat_minor": 1
}
