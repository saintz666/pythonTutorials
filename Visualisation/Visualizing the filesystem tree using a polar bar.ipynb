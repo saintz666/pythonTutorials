{
 "cells": [
  {
   "cell_type": "markdown",
   "metadata": {},
   "source": [
    "We want to show in this recipe how to solve a \"real-world\" task—how to use matplotlib to visualize our directory occupancy.\n",
    "\n",
    "In this recipe, you will learn how to visualize a filesystem tree with relative sizes.\n",
    "\n",
    "Getting ready\n",
    "\n",
    "We all have big hard drives that sometimes contain stuff that we usually forget about. It would be nice to see what is inside such a directory, and what the biggest file inside it is.\n",
    "\n",
    "Although there are many more sophisticated and elaborate software products for this job, we want to demonstrate how this is achievable using Python and matplotlib.\n",
    "\n",
    "How to do it...\n",
    "\n",
    "Let's perform the following steps:\n",
    "\n",
    "Implement a few helper functions to deal with folder discovery and internal data structures.\n",
    "\n",
    "Implement the main function, draw(), that does the plotting.\n",
    "\n",
    "Implement the main program body that verifies the user input arguments:"
   ]
  },
  {
   "cell_type": "code",
   "execution_count": 3,
   "metadata": {
    "collapsed": false
   },
   "outputs": [],
   "source": [
    "import os\n",
    "import sys\n",
    "\n",
    "import matplotlib.pyplot as plt\n",
    "import matplotlib.cm as cm\n",
    "import numpy as np\n",
    "\n",
    "def build_folders(start_path):\n",
    "    folders = []\n",
    "\n",
    "    for each in get_directories(start_path):\n",
    "        size = get_size(each)\n",
    "        if size >= 25 * 1024 * 1024:\n",
    "            folders.append({'size' : size, 'path' : each})\n",
    "\n",
    "    for each in folders:\n",
    "        print (\"Path: \" + os.path.basename(each['path']))\n",
    "        print (\"Size: \" + str(each['size'] / 1024 / 1024) + \" MB\")\n",
    "    return folders\n",
    "\n",
    "def get_size(path):\n",
    "    assert path is not None\n",
    "\n",
    "    total_size = 0\n",
    "    for dirpath, dirnames, filenames in os.walk(path):\n",
    "        for f in filenames:\n",
    "            fp = os.path.join(dirpath, f)\n",
    "            try:\n",
    "                size = os.path.getsize(fp)\n",
    "                total_size += size\n",
    "                #print \"Size of '{0}' is {1}\".format(fp, size)\n",
    "            except OSError as err:\n",
    "                print (str(err))\n",
    "                pass\n",
    "    return total_size\n",
    "\n",
    "def get_directories(path):\n",
    "    dirs = set()\n",
    "    for dirpath, dirnames, filenames in os.walk(path):\n",
    "        dirs = set([os.path.join(dirpath, x) for x in dirnames])\n",
    "        break # we just want the first one\n",
    "    return dirs\n",
    "\n",
    "def draw(folders):\n",
    "    \"\"\" Draw folder size for given folder\"\"\"\n",
    "    figsize = (8, 8)  # keep the figure square\n",
    "    ldo, rup = 0.1, 0.8  # leftdown and right up normalized\n",
    "    fig = plt.figure(figsize=figsize)\n",
    "    ax = fig.add_axes([ldo, ldo, rup, rup], polar=True)\n",
    "\n",
    "    # transform data\n",
    "    x = [os.path.basename(x['path']) for x in folders]\n",
    "    y = [y['size'] / 1024 / 1024 for y in folders]\n",
    "    theta = np.arange(0.0, 2 * np.pi, 2 * np.pi / len(x))\n",
    "    radii = y\n",
    "\n",
    "    bars = ax.bar(theta, radii)\n",
    "    middle = 90/len(x)\n",
    "    theta_ticks = [t*(180/np.pi)+middle for t in theta]\n",
    "    lines, labels = plt.thetagrids(theta_ticks, labels=x, frac=0.5)\n",
    "    for step, each in enumerate(labels):\n",
    "        each.set_rotation(theta[step]*(180/np.pi)+ middle)\n",
    "        each.set_fontsize(8)\n",
    "\n",
    "    # configure bars\n",
    "    colormap = lambda r:cm.Set2(r / len(x))\n",
    "    for r, each in zip(radii, bars):\n",
    "        each.set_facecolor(colormap(r))\n",
    "        each.set_alpha(0.5)\n",
    "\n",
    "    plt.show()"
   ]
  },
  {
   "cell_type": "markdown",
   "metadata": {},
   "source": [
    "Next, we will implement the main program body where we verify the input arguments given by the user when the program is called from the command line:"
   ]
  },
  {
   "cell_type": "code",
   "execution_count": 5,
   "metadata": {
    "collapsed": false
   },
   "outputs": [
    {
     "name": "stdout",
     "output_type": "stream",
     "text": [
      "ERROR: Please supply path to folder.\n"
     ]
    },
    {
     "ename": "SystemExit",
     "evalue": "-1",
     "output_type": "error",
     "traceback": [
      "An exception has occurred, use %tb to see the full traceback.\n",
      "\u001b[0;31mSystemExit\u001b[0m\u001b[0;31m:\u001b[0m -1\n"
     ]
    },
    {
     "name": "stderr",
     "output_type": "stream",
     "text": [
      "C:\\Anaconda3\\lib\\site-packages\\IPython\\core\\interactiveshell.py:2889: UserWarning: To exit: use 'exit', 'quit', or Ctrl-D.\n",
      "  warn(\"To exit: use 'exit', 'quit', or Ctrl-D.\", stacklevel=1)\n"
     ]
    }
   ],
   "source": [
    "if __name__ == '__main__':\n",
    "    if len(sys.argv) is not 2:\n",
    "        print (\"ERROR: Please supply path to folder.\")\n",
    "        sys.exit(-1)\n",
    "\n",
    "    start_path = sys.argv[1]\n",
    "\n",
    "    if not os.path.exists(start_path):\n",
    "        print (\"ERROR: Path must exits.\")\n",
    "        sys.exit(-1)\n",
    "\n",
    "    folders = build_folders(start_path)\n",
    "\n",
    "    if len(folders) < 1:\n",
    "        print (\"ERROR: Path does not contain any folders.\")\n",
    "        sys.exit(-1)\n",
    "\n",
    "    draw(folders)"
   ]
  },
  {
   "cell_type": "markdown",
   "metadata": {},
   "source": [
    "You need to run the following from the command line:"
   ]
  },
  {
   "cell_type": "code",
   "execution_count": 6,
   "metadata": {
    "collapsed": false
   },
   "outputs": [
    {
     "ename": "SyntaxError",
     "evalue": "invalid syntax (<ipython-input-6-4608c792b008>, line 1)",
     "output_type": "error",
     "traceback": [
      "\u001b[0;36m  File \u001b[0;32m\"<ipython-input-6-4608c792b008>\"\u001b[0;36m, line \u001b[0;32m1\u001b[0m\n\u001b[0;31m    pythonch04_rec11_filesystem.py /usr/\u001b[0m\n\u001b[0m                                        ^\u001b[0m\n\u001b[0;31mSyntaxError\u001b[0m\u001b[0;31m:\u001b[0m invalid syntax\n"
     ]
    }
   ],
   "source": [
    "pythonch04_rec11_filesystem.py /usr/"
   ]
  },
  {
   "cell_type": "markdown",
   "metadata": {},
   "source": [
    "How it works...\n",
    "\n",
    "We will start from the bottom of the code, after if __name__ == '__main__' because this is the place where our program starts.\n",
    "\n",
    "Using the module sys, we pick up the command-line arguments; they represent the path to the directory we want to visualize.\n",
    "\n",
    "The function build_folders builds the list of dictionaries, each containing the size and path that it found inside the given start_path. This function calls get_directories, which returns a list of all the subdirectories in start_path. Later, for each directory found, we calculated the sizes in bytes using the get_size function.\n",
    "\n",
    "For debugging purposes, we print our dictionary so that we are able to compare the figure against what our data looks like.\n",
    "\n",
    "After we have built the folders as a list of dictionaries, we pass them to a function, draw, that performs all the work of transforming the data to the right dimensions (here, we are using the polar coordinate system), constructing the polar figure, and drawing all the bars, ticks, and labels.\n",
    "\n",
    "Strictly speaking, we should divide this job into smaller functions, especially if this code is to be further developed."
   ]
  },
  {
   "cell_type": "code",
   "execution_count": null,
   "metadata": {
    "collapsed": true
   },
   "outputs": [],
   "source": []
  }
 ],
 "metadata": {
  "kernelspec": {
   "display_name": "Python [default]",
   "language": "python",
   "name": "python3"
  },
  "language_info": {
   "codemirror_mode": {
    "name": "ipython",
    "version": 3
   },
   "file_extension": ".py",
   "mimetype": "text/x-python",
   "name": "python",
   "nbconvert_exporter": "python",
   "pygments_lexer": "ipython3",
   "version": "3.5.1"
  }
 },
 "nbformat": 4,
 "nbformat_minor": 1
}
