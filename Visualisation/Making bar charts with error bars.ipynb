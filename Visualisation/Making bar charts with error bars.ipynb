{
 "cells": [
  {
   "cell_type": "markdown",
   "metadata": {},
   "source": [
    "In this recipe, we will show how to create bar charts and how to draw error bars.\n",
    "\n",
    "Getting ready\n",
    "\n",
    "To visualize uncertainty of measurement in our dataset or to indicate the error, we can use error bars. Error bars can easily give an idea of how error free the dataset is. They can show one standard deviation, one standard error, or 95 percent confidence interval. There is no standard here, so always explicitly state what values (errors) error bars display. Most papers in the experimental sciences should contain error bars to present accuracy of the data.\n",
    "\n",
    "How to do it...\n",
    "\n",
    "Even though just two parameters are mandatory—left and height— we often want to use more than that. Here are some parameters we can use:"
   ]
  },
  {
   "cell_type": "markdown",
   "metadata": {},
   "source": [
    "width: This gives the width of the bars. The default value is 0.8.\n",
    "\n",
    "bottom: If bottom is specified, the value is added to the height. The default is None.\n",
    "\n",
    "edgecolor: This gives the color of the bar edges.\n",
    "\n",
    "ecolor: This specifies the color of any error bar.\n",
    "\n",
    "linewidth: This gives width of bar edges; special values are None (use defaults) and 0 (when bar edges are not displayed).\n",
    "\n",
    "orientation: This has two values vertical and horizontal.\n",
    "\n",
    "xerr and yerr: These are used to generate error bars on the bar chart."
   ]
  },
  {
   "cell_type": "markdown",
   "metadata": {},
   "source": [
    "Some optional arguments (color, edgecolor, linewidth, xerr, and yerr) can be single values or sequences with the same length as the number of bars.\n",
    "\n",
    "How it works...\n",
    "\n",
    "Let's illustrate this using an example:"
   ]
  },
  {
   "cell_type": "code",
   "execution_count": 2,
   "metadata": {
    "collapsed": false
   },
   "outputs": [
    {
     "name": "stderr",
     "output_type": "stream",
     "text": [
      "C:\\Anaconda3\\lib\\site-packages\\ipykernel\\__main__.py:9: RuntimeWarning: divide by zero encountered in log\n"
     ]
    },
    {
     "data": {
      "image/png": "[encoded data removed]",
      "text/plain": [
       "<matplotlib.figure.Figure at 0x17dfdacd320>"
      ]
     },
     "metadata": {},
     "output_type": "display_data"
    }
   ],
   "source": [
    "import numpy as np\n",
    "import matplotlib.pyplot as plt\n",
    "%matplotlib inline\n",
    "\n",
    "# generate number of measurements\n",
    "x = np.arange(0, 10, 1)\n",
    "\n",
    "# values computed from \"measured\"\n",
    "y = np.log(x)\n",
    "\n",
    "# add some error samples from standard normal distribution\n",
    "xe = 0.1 * np.abs(np.random.randn(len(y)))\n",
    "\n",
    "# draw and show errorbar\n",
    "plt.bar(x, y, yerr=xe, width=0.4, align='center', ecolor='r', color='cyan', label='experiment #1');\n",
    "\n",
    "# give some explanations\n",
    "plt.xlabel('# measurement')\n",
    "plt.ylabel('Measured values')\n",
    "plt.title('Measurements')\n",
    "plt.legend(loc='upper left')\n",
    "\n",
    "plt.show()"
   ]
  },
  {
   "cell_type": "markdown",
   "metadata": {},
   "source": [
    "To be able to plot an error bar, we needed to have some measures (x); for every measure computed (y), we introduced errors (xe).\n",
    "\n",
    "We used NumPy to generate and compute values; standard distributions are good enough for demonstration purposes, but if you happen to know your data distribution in advance, you can always make some prototype visualizations and try out different layouts to find the best options to present information.\n",
    "\n",
    "Another interesting option to use if we are preparing visualizations for a black-and-white medium is hatch; it can have the following values:\n",
    "/\n",
    "Diagonal hatching\n",
    "\\\n",
    "Back diagonal\n",
    "|\n",
    "Vertical hatching\n",
    "-\n",
    "Horizontal\n",
    "+\n",
    "Crossed\n",
    "x\n",
    "Crossed diagonal\n",
    "o\n",
    "Small circle\n",
    "0\n",
    "Large circle\n",
    ".\n",
    "Dot pattern\n",
    "*\n",
    "Star pattern\n",
    "\n",
    "What we have just used are error bars known as symmetrical error bars. If the nature of our dataset is such that errors are not the same in both directions (negative and positive), we can also specify them separately using asymmetrical error bars.\n",
    "\n",
    "All we have to do differently is to specify xerr or yerr using a two-element list (such as a 2D array), where the first list contains values for negative errors and the second one for positive errors."
   ]
  },
  {
   "cell_type": "code",
   "execution_count": null,
   "metadata": {
    "collapsed": true
   },
   "outputs": [],
   "source": []
  }
 ],
 "metadata": {
  "kernelspec": {
   "display_name": "Python [default]",
   "language": "python",
   "name": "python3"
  },
  "language_info": {
   "codemirror_mode": {
    "name": "ipython",
    "version": 3
   },
   "file_extension": ".py",
   "mimetype": "text/x-python",
   "name": "python",
   "nbconvert_exporter": "python",
   "pygments_lexer": "ipython3",
   "version": "3.5.1"
  }
 },
 "nbformat": 4,
 "nbformat_minor": 1
}
