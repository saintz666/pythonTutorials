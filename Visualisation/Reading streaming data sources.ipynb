{
 "cells": [
  {
   "cell_type": "markdown",
   "metadata": {},
   "source": [
    "The idea from this example can be used for various solutions. For example, the input has to be a file-like object or a remote HTTP-accessible resource. Thus, one can read the input from a remote service and continuously parse it and update live charts or update the intermediate queue, buffer, or database.\n",
    "\n",
    "One particular module is very useful for stream handling—io. It is in Python from Version 2.6, is built as a replacement for the file module, and is a default interface in Python 3.x.\n",
    "\n",
    "In some more complex data pipelines, we will need to enable some sort of message queues, where our incoming continuous data will have to be queued for some time before we are able to accept it. This enables us, as consumers of the data, to be able to pause processing if we are overloaded. Having data on the common message bus enables other clients on the project to consume the same data and not interfere with our software.\n",
    "\n"
   ]
  },
  {
   "cell_type": "code",
   "execution_count": 1,
   "metadata": {
    "collapsed": false
   },
   "outputs": [
    {
     "ename": "SyntaxError",
     "evalue": "Missing parentheses in call to 'print' (<ipython-input-1-1c527aa677dc>, line 30)",
     "output_type": "error",
     "traceback": [
      "\u001b[0;36m  File \u001b[0;32m\"<ipython-input-1-1c527aa677dc>\"\u001b[0;36m, line \u001b[0;32m30\u001b[0m\n\u001b[0;31m    print line,\u001b[0m\n\u001b[0m             ^\u001b[0m\n\u001b[0;31mSyntaxError\u001b[0m\u001b[0;31m:\u001b[0m Missing parentheses in call to 'print'\n"
     ]
    }
   ],
   "source": [
    "import time\n",
    "import os\n",
    "import sys\n",
    "\n",
    "if len(sys.argv) != 2:\n",
    "    print >> sys.stderr, \"Please specify filename to read\"\n",
    "\n",
    "filename = sys.argv[1]\n",
    "\n",
    "if not os.path.isfile(filename):\n",
    "    print >> sys.stderr, \"Given file: \\\"%s\\\" is not a file\" % filename\n",
    "\n",
    "with open(filename,'r') as f:\n",
    "    # Move to the end of file\n",
    "    filesize = os.stat(filename)[6]\n",
    "    f.seek(filesize)\n",
    "\n",
    "    # endlessly loop\n",
    "    while True:\n",
    "        where = f.tell()\n",
    "        # try reading a line\n",
    "        line = f.readline()\n",
    "        # if empty, go back\n",
    "        if not line:\n",
    "            time.sleep(1)\n",
    "            f.seek(where)\n",
    "        else:\n",
    "            # , at the end prevents print to add newline, as readline()\n",
    "            # already read that.\n",
    "            print line,"
   ]
  },
  {
   "cell_type": "markdown",
   "metadata": {},
   "source": [
    "How it works...\n",
    "\n",
    "The core of the code is inside the while True: loop. This loop never stops (unless we interrupt it by pressing Ctrl + C on our keyboard). We first move to the end of the file we are reading and then we try to read a line. If there is no line, that means nothing was added to the file after we checked it using seek(). So, we sleep for one second and then try again.\n",
    "\n",
    "If there is a non-empty line, we print that out and suppress the new line character.\n",
    "\n",
    "There's more...\n",
    "\n",
    "We might want to read the last n lines. We could do that by going almost to the end of the file. We could go there by looking for the file, that is, with file.seek(filesize – N * avg_line_len). Here, avg_line_len should be the approximation of average line length in that file (approximately 1,024). Then, we could use readlines() from that point to read line and then print just [-N] lines from that list."
   ]
  },
  {
   "cell_type": "code",
   "execution_count": null,
   "metadata": {
    "collapsed": true
   },
   "outputs": [],
   "source": []
  }
 ],
 "metadata": {
  "kernelspec": {
   "display_name": "Python [default]",
   "language": "python",
   "name": "python3"
  },
  "language_info": {
   "codemirror_mode": {
    "name": "ipython",
    "version": 3
   },
   "file_extension": ".py",
   "mimetype": "text/x-python",
   "name": "python",
   "nbconvert_exporter": "python",
   "pygments_lexer": "ipython3",
   "version": "3.5.1"
  }
 },
 "nbformat": 4,
 "nbformat_minor": 1
}
