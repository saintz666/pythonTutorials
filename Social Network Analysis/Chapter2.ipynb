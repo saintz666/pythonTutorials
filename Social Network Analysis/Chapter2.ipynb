{
 "cells": [
  {
   "cell_type": "code",
   "execution_count": 1,
   "metadata": {
    "collapsed": true
   },
   "outputs": [],
   "source": [
    "import networkx.generators.small"
   ]
  },
  {
   "cell_type": "code",
   "execution_count": 2,
   "metadata": {
    "collapsed": true
   },
   "outputs": [],
   "source": [
    "g = networkx.generators.small.krackhardt_kite_graph()"
   ]
  },
  {
   "cell_type": "code",
   "execution_count": 3,
   "metadata": {
    "collapsed": false
   },
   "outputs": [
    {
     "data": {
      "text/plain": [
       "18"
      ]
     },
     "execution_count": 3,
     "metadata": {},
     "output_type": "execute_result"
    }
   ],
   "source": [
    "g.number_of_edges()"
   ]
  },
  {
   "cell_type": "code",
   "execution_count": 4,
   "metadata": {
    "collapsed": false
   },
   "outputs": [
    {
     "data": {
      "text/plain": [
       "10"
      ]
     },
     "execution_count": 4,
     "metadata": {},
     "output_type": "execute_result"
    }
   ],
   "source": [
    "g.number_of_nodes()"
   ]
  },
  {
   "cell_type": "code",
   "execution_count": 5,
   "metadata": {
    "collapsed": false
   },
   "outputs": [
    {
     "data": {
      "text/plain": [
       "[[1, 2, 3, 5],\n",
       " [0, 3, 4, 6],\n",
       " [0, 3, 5],\n",
       " [0, 1, 2, 4, 5, 6],\n",
       " [1, 3, 6],\n",
       " [0, 2, 3, 6, 7],\n",
       " [1, 3, 4, 5, 7],\n",
       " [8, 5, 6],\n",
       " [9, 7],\n",
       " [8]]"
      ]
     },
     "execution_count": 5,
     "metadata": {},
     "output_type": "execute_result"
    }
   ],
   "source": [
    "g.adjacency_list()"
   ]
  },
  {
   "cell_type": "code",
   "execution_count": 6,
   "metadata": {
    "collapsed": false
   },
   "outputs": [
    {
     "data": {
      "text/plain": [
       "[(0, 1),\n",
       " (0, 2),\n",
       " (0, 3),\n",
       " (0, 5),\n",
       " (1, 3),\n",
       " (1, 4),\n",
       " (1, 6),\n",
       " (2, 3),\n",
       " (2, 5),\n",
       " (3, 4),\n",
       " (3, 5),\n",
       " (3, 6),\n",
       " (4, 6),\n",
       " (5, 6),\n",
       " (5, 7),\n",
       " (6, 7),\n",
       " (7, 8),\n",
       " (8, 9)]"
      ]
     },
     "execution_count": 6,
     "metadata": {},
     "output_type": "execute_result"
    }
   ],
   "source": [
    "g.edges()"
   ]
  },
  {
   "cell_type": "code",
   "execution_count": 7,
   "metadata": {
    "collapsed": false
   },
   "outputs": [
    {
     "data": {
      "text/plain": [
       "{0: [1, 2, 3, 5],\n",
       " 1: [0, 3, 4, 6],\n",
       " 2: [0, 3, 5],\n",
       " 3: [0, 1, 2, 4, 5, 6],\n",
       " 4: [1, 3, 6],\n",
       " 5: [0, 2, 3, 6, 7],\n",
       " 6: [1, 3, 4, 5, 7],\n",
       " 7: [8, 5, 6],\n",
       " 8: [9, 7],\n",
       " 9: [8]}"
      ]
     },
     "execution_count": 7,
     "metadata": {},
     "output_type": "execute_result"
    }
   ],
   "source": [
    "dict((x,g.neighbors(x)) for x in g.nodes())"
   ]
  },
  {
   "cell_type": "code",
   "execution_count": 10,
   "metadata": {
    "collapsed": false
   },
   "outputs": [],
   "source": [
    "from networkx.algorithms import traversal"
   ]
  },
  {
   "cell_type": "markdown",
   "metadata": {},
   "source": [
    "Depth-first search (DFS) is an uninformed search that systematically traverses nodes\n",
    "until it finds its goal. In the context of a tree, DFS involves descending down a child’s\n",
    "child, iteratively, and then backtracking and turning to each of its siblings—in other\n",
    "words, it prefers to go deep before going broad. In a graph there are no children or\n",
    "siblings, only neighbors. However, DFS can produce a spanning tree of the nodes it has\n",
    "visited.\n",
    "\n",
    "Here is the DFS algorithm, simplistically described:\n",
    "\n",
    "• Start at some node n\n",
    "\n",
    "• Mark n as visited\n",
    "\n",
    "• For each neighbor ni of n where ni has not been visited,\n",
    "\n",
    "— recursively apply DFS to node ni"
   ]
  },
  {
   "cell_type": "code",
   "execution_count": 11,
   "metadata": {
    "collapsed": true
   },
   "outputs": [],
   "source": [
    "#A list of nodes in the order they were visited:\n",
    "def DFS_nodes(graph, node,visited =[]):\n",
    "    visited.append(node)\n",
    "    for neighbour in graph[node]:\n",
    "        if not neighbour in visited:\n",
    "            DFS_nodes(graph,neighbour,visited)\n",
    "    return visited"
   ]
  },
  {
   "cell_type": "code",
   "execution_count": 12,
   "metadata": {
    "collapsed": true
   },
   "outputs": [],
   "source": [
    "#A list of edges in the order they were traversed.\n",
    "\n",
    "def DFS_edges(graph, node, visited=[], edges=[]):\n",
    "    visited.append(node)\n",
    "    for ni in graph[node]:\n",
    "        if not ni in visited:\n",
    "            edges.append((node, ni))\n",
    "            DFS_edges(graph, ni, visited, edges)\n",
    "    return edges"
   ]
  },
  {
   "cell_type": "code",
   "execution_count": 16,
   "metadata": {
    "collapsed": false
   },
   "outputs": [
    {
     "data": {
      "text/plain": [
       "[0, 1, 3, 2, 5, 6, 4, 7, 8, 9, 6, 3, 4]"
      ]
     },
     "execution_count": 16,
     "metadata": {},
     "output_type": "execute_result"
    }
   ],
   "source": [
    "DFS_nodes(g,4)"
   ]
  },
  {
   "cell_type": "code",
   "execution_count": 17,
   "metadata": {
    "collapsed": false
   },
   "outputs": [
    {
     "data": {
      "text/plain": [
       "[(0, 1), (1, 3), (3, 2), (2, 5), (5, 6), (6, 4), (6, 7), (7, 8), (8, 9)]"
      ]
     },
     "execution_count": 17,
     "metadata": {},
     "output_type": "execute_result"
    }
   ],
   "source": [
    "DFS_edges(g,0)"
   ]
  },
  {
   "cell_type": "markdown",
   "metadata": {},
   "source": [
    "#### DFS with NetworkX"
   ]
  },
  {
   "cell_type": "code",
   "execution_count": 18,
   "metadata": {
    "collapsed": true
   },
   "outputs": [],
   "source": [
    "edges = traversal.dfs_edges(g)"
   ]
  },
  {
   "cell_type": "code",
   "execution_count": 19,
   "metadata": {
    "collapsed": false
   },
   "outputs": [
    {
     "data": {
      "text/plain": [
       "<generator object dfs_edges at 0x0000023181439570>"
      ]
     },
     "execution_count": 19,
     "metadata": {},
     "output_type": "execute_result"
    }
   ],
   "source": [
    "edges"
   ]
  },
  {
   "cell_type": "markdown",
   "metadata": {},
   "source": [
    "The traversal returns a generator object, a Python construct for lazy evaluation. When\n",
    "used in a for loop it behaves just like a sequence. We can “unwrap” a generator into a\n",
    "real list:"
   ]
  },
  {
   "cell_type": "code",
   "execution_count": 20,
   "metadata": {
    "collapsed": false
   },
   "outputs": [
    {
     "data": {
      "text/plain": [
       "[(0, 1), (1, 3), (3, 2), (2, 5), (5, 6), (6, 4), (6, 7), (7, 8), (8, 9)]"
      ]
     },
     "execution_count": 20,
     "metadata": {},
     "output_type": "execute_result"
    }
   ],
   "source": [
    "list(edges)"
   ]
  },
  {
   "cell_type": "code",
   "execution_count": 32,
   "metadata": {
    "collapsed": false
   },
   "outputs": [
    {
     "data": {
      "text/plain": [
       "{0: [1], 1: [3], 2: [5], 3: [2], 5: [6], 6: [4, 7], 7: [8], 8: [9]}"
      ]
     },
     "execution_count": 32,
     "metadata": {},
     "output_type": "execute_result"
    }
   ],
   "source": [
    "traversal.dfs_successors(g)"
   ]
  },
  {
   "cell_type": "code",
   "execution_count": 33,
   "metadata": {
    "collapsed": false
   },
   "outputs": [
    {
     "data": {
      "text/plain": [
       "{1: 0, 2: 3, 3: 1, 4: 6, 5: 2, 6: 5, 7: 6, 8: 7, 9: 8}"
      ]
     },
     "execution_count": 33,
     "metadata": {},
     "output_type": "execute_result"
    }
   ],
   "source": [
    "traversal.dfs_predecessors(g)"
   ]
  },
  {
   "cell_type": "code",
   "execution_count": 34,
   "metadata": {
    "collapsed": false
   },
   "outputs": [
    {
     "data": {
      "text/plain": [
       "[4, 7]"
      ]
     },
     "execution_count": 34,
     "metadata": {},
     "output_type": "execute_result"
    }
   ],
   "source": [
    "traversal.dfs_successors(g)[6]"
   ]
  },
  {
   "cell_type": "code",
   "execution_count": 36,
   "metadata": {
    "collapsed": false
   },
   "outputs": [],
   "source": [
    "tree = traversal.dfs_tree(g,0)"
   ]
  },
  {
   "cell_type": "code",
   "execution_count": 37,
   "metadata": {
    "collapsed": false
   },
   "outputs": [
    {
     "data": {
      "text/plain": [
       "<networkx.classes.digraph.DiGraph at 0x231820920b8>"
      ]
     },
     "execution_count": 37,
     "metadata": {},
     "output_type": "execute_result"
    }
   ],
   "source": [
    "tree"
   ]
  },
  {
   "cell_type": "code",
   "execution_count": 39,
   "metadata": {
    "collapsed": false
   },
   "outputs": [
    {
     "data": {
      "text/plain": [
       "[1]"
      ]
     },
     "execution_count": 39,
     "metadata": {},
     "output_type": "execute_result"
    }
   ],
   "source": [
    "tree.successors(0)"
   ]
  },
  {
   "cell_type": "code",
   "execution_count": 40,
   "metadata": {
    "collapsed": false
   },
   "outputs": [
    {
     "data": {
      "text/plain": [
       "{0: {1: {}},\n",
       " 1: {3: {}},\n",
       " 2: {5: {}},\n",
       " 3: {2: {}},\n",
       " 4: {},\n",
       " 5: {6: {}},\n",
       " 6: {4: {}, 7: {}},\n",
       " 7: {8: {}},\n",
       " 8: {9: {}},\n",
       " 9: {}}"
      ]
     },
     "execution_count": 40,
     "metadata": {},
     "output_type": "execute_result"
    }
   ],
   "source": [
    "tree.succ"
   ]
  },
  {
   "cell_type": "markdown",
   "metadata": {},
   "source": [
    "#### Breadth-First Traversal\n",
    "Breadth-first traversal or search (BFS) is the opposite of DFS: it visits all of the immediate\n",
    "neighbors first and only then proceeds to their neighbors.\n",
    "\n",
    "###### Algorithm\n",
    "BFS and DFS are very similar, the only difference is the order in which they traverse\n",
    "encountered nodes. DFS will explore a new neighbor node immediately as it sees it\n",
    "whereas BFS must store each neighbor until it has seen them all, and only then descend\n",
    "down each one. Therefore, while DFS is happy with a stack to hold its “nodes to be\n",
    "explored,” BFS requires a queue. As a consequence, there is no natural recursive form\n",
    "for BFS."
   ]
  },
  {
   "cell_type": "markdown",
   "metadata": {},
   "source": [
    "#### BFS with NetworkX"
   ]
  },
  {
   "cell_type": "code",
   "execution_count": 42,
   "metadata": {
    "collapsed": false
   },
   "outputs": [],
   "source": [
    "edges = traversal.bfs_edges(g,0)"
   ]
  },
  {
   "cell_type": "code",
   "execution_count": 43,
   "metadata": {
    "collapsed": false
   },
   "outputs": [
    {
     "data": {
      "text/plain": [
       "[(0, 1), (0, 2), (0, 3), (0, 5), (1, 4), (1, 6), (5, 7), (7, 8), (8, 9)]"
      ]
     },
     "execution_count": 43,
     "metadata": {},
     "output_type": "execute_result"
    }
   ],
   "source": [
    "list(edges)"
   ]
  },
  {
   "cell_type": "code",
   "execution_count": 54,
   "metadata": {
    "collapsed": true
   },
   "outputs": [],
   "source": [
    "tree_bfs = traversal.bfs_tree(g,0)"
   ]
  },
  {
   "cell_type": "code",
   "execution_count": 55,
   "metadata": {
    "collapsed": false
   },
   "outputs": [
    {
     "data": {
      "text/plain": [
       "<networkx.classes.digraph.DiGraph at 0x23183c6bda0>"
      ]
     },
     "execution_count": 55,
     "metadata": {},
     "output_type": "execute_result"
    }
   ],
   "source": [
    "tree_bfs"
   ]
  },
  {
   "cell_type": "code",
   "execution_count": 46,
   "metadata": {
    "collapsed": false
   },
   "outputs": [
    {
     "data": {
      "text/plain": [
       "{0: [1, 2, 3, 5], 1: [4, 6], 5: [7], 7: [8], 8: [9]}"
      ]
     },
     "execution_count": 46,
     "metadata": {},
     "output_type": "execute_result"
    }
   ],
   "source": [
    "traversal.bfs_successors(g,0)"
   ]
  },
  {
   "cell_type": "code",
   "execution_count": 47,
   "metadata": {
    "collapsed": true
   },
   "outputs": [],
   "source": [
    "import matplotlib.pyplot as plt"
   ]
  },
  {
   "cell_type": "code",
   "execution_count": 56,
   "metadata": {
    "collapsed": false
   },
   "outputs": [
    {
     "data": {
      "image/png": "[encoded data removed]",
      "text/plain": [
       "<matplotlib.figure.Figure at 0x23183da1710>"
      ]
     },
     "metadata": {},
     "output_type": "display_data"
    }
   ],
   "source": [
    "networkx.draw(tree_bfs)\n",
    "plt.show()"
   ]
  },
  {
   "cell_type": "code",
   "execution_count": 58,
   "metadata": {
    "collapsed": false
   },
   "outputs": [
    {
     "data": {
      "text/plain": [
       "[0, 5]"
      ]
     },
     "execution_count": 58,
     "metadata": {},
     "output_type": "execute_result"
    }
   ],
   "source": [
    "from networkx import algorithms\n",
    "algorithms.shortest_path(g,0,5)"
   ]
  },
  {
   "cell_type": "code",
   "execution_count": 59,
   "metadata": {
    "collapsed": false
   },
   "outputs": [
    {
     "data": {
      "text/plain": [
       "[0, 5, 7]"
      ]
     },
     "execution_count": 59,
     "metadata": {},
     "output_type": "execute_result"
    }
   ],
   "source": [
    "algorithms.shortest_path(g,0,7)"
   ]
  },
  {
   "cell_type": "code",
   "execution_count": 60,
   "metadata": {
    "collapsed": false
   },
   "outputs": [
    {
     "data": {
      "text/plain": [
       "1.9777777777777779"
      ]
     },
     "execution_count": 60,
     "metadata": {},
     "output_type": "execute_result"
    }
   ],
   "source": [
    "algorithms.average_shortest_path_length(g)"
   ]
  },
  {
   "cell_type": "code",
   "execution_count": 62,
   "metadata": {
    "collapsed": false
   },
   "outputs": [
    {
     "data": {
      "text/plain": [
       "{0: {0: [0],\n",
       "  1: [0, 1],\n",
       "  2: [0, 2],\n",
       "  3: [0, 3],\n",
       "  4: [0, 1, 4],\n",
       "  5: [0, 5],\n",
       "  6: [0, 1, 6],\n",
       "  7: [0, 5, 7],\n",
       "  8: [0, 5, 7, 8],\n",
       "  9: [0, 5, 7, 8, 9]},\n",
       " 1: {0: [1, 0],\n",
       "  1: [1],\n",
       "  2: [1, 0, 2],\n",
       "  3: [1, 3],\n",
       "  4: [1, 4],\n",
       "  5: [1, 0, 5],\n",
       "  6: [1, 6],\n",
       "  7: [1, 6, 7],\n",
       "  8: [1, 6, 7, 8],\n",
       "  9: [1, 6, 7, 8, 9]},\n",
       " 2: {0: [2, 0],\n",
       "  1: [2, 0, 1],\n",
       "  2: [2],\n",
       "  3: [2, 3],\n",
       "  4: [2, 3, 4],\n",
       "  5: [2, 5],\n",
       "  6: [2, 3, 6],\n",
       "  7: [2, 5, 7],\n",
       "  8: [2, 5, 7, 8],\n",
       "  9: [2, 5, 7, 8, 9]},\n",
       " 3: {0: [3, 0],\n",
       "  1: [3, 1],\n",
       "  2: [3, 2],\n",
       "  3: [3],\n",
       "  4: [3, 4],\n",
       "  5: [3, 5],\n",
       "  6: [3, 6],\n",
       "  7: [3, 5, 7],\n",
       "  8: [3, 5, 7, 8],\n",
       "  9: [3, 5, 7, 8, 9]},\n",
       " 4: {0: [4, 1, 0],\n",
       "  1: [4, 1],\n",
       "  2: [4, 3, 2],\n",
       "  3: [4, 3],\n",
       "  4: [4],\n",
       "  5: [4, 3, 5],\n",
       "  6: [4, 6],\n",
       "  7: [4, 6, 7],\n",
       "  8: [4, 6, 7, 8],\n",
       "  9: [4, 6, 7, 8, 9]},\n",
       " 5: {0: [5, 0],\n",
       "  1: [5, 0, 1],\n",
       "  2: [5, 2],\n",
       "  3: [5, 3],\n",
       "  4: [5, 3, 4],\n",
       "  5: [5],\n",
       "  6: [5, 6],\n",
       "  7: [5, 7],\n",
       "  8: [5, 7, 8],\n",
       "  9: [5, 7, 8, 9]},\n",
       " 6: {0: [6, 1, 0],\n",
       "  1: [6, 1],\n",
       "  2: [6, 3, 2],\n",
       "  3: [6, 3],\n",
       "  4: [6, 4],\n",
       "  5: [6, 5],\n",
       "  6: [6],\n",
       "  7: [6, 7],\n",
       "  8: [6, 7, 8],\n",
       "  9: [6, 7, 8, 9]},\n",
       " 7: {0: [7, 5, 0],\n",
       "  1: [7, 6, 1],\n",
       "  2: [7, 5, 2],\n",
       "  3: [7, 5, 3],\n",
       "  4: [7, 6, 4],\n",
       "  5: [7, 5],\n",
       "  6: [7, 6],\n",
       "  7: [7],\n",
       "  8: [7, 8],\n",
       "  9: [7, 8, 9]},\n",
       " 8: {0: [8, 7, 5, 0],\n",
       "  1: [8, 7, 6, 1],\n",
       "  2: [8, 7, 5, 2],\n",
       "  3: [8, 7, 5, 3],\n",
       "  4: [8, 7, 6, 4],\n",
       "  5: [8, 7, 5],\n",
       "  6: [8, 7, 6],\n",
       "  7: [8, 7],\n",
       "  8: [8],\n",
       "  9: [8, 9]},\n",
       " 9: {0: [9, 8, 7, 5, 0],\n",
       "  1: [9, 8, 7, 6, 1],\n",
       "  2: [9, 8, 7, 5, 2],\n",
       "  3: [9, 8, 7, 5, 3],\n",
       "  4: [9, 8, 7, 6, 4],\n",
       "  5: [9, 8, 7, 5],\n",
       "  6: [9, 8, 7, 6],\n",
       "  7: [9, 8, 7],\n",
       "  8: [9, 8],\n",
       "  9: [9]}}"
      ]
     },
     "execution_count": 62,
     "metadata": {},
     "output_type": "execute_result"
    }
   ],
   "source": [
    "algorithms.all_pairs_shortest_path(g)"
   ]
  },
  {
   "cell_type": "code",
   "execution_count": 63,
   "metadata": {
    "collapsed": false
   },
   "outputs": [
    {
     "data": {
      "text/plain": [
       "{0: [5, 0],\n",
       " 1: [5, 0, 1],\n",
       " 2: [5, 2],\n",
       " 3: [5, 3],\n",
       " 4: [5, 3, 4],\n",
       " 5: [5],\n",
       " 6: [5, 6],\n",
       " 7: [5, 7],\n",
       " 8: [5, 7, 8],\n",
       " 9: [5, 7, 8, 9]}"
      ]
     },
     "execution_count": 63,
     "metadata": {},
     "output_type": "execute_result"
    }
   ],
   "source": [
    "algorithms.all_pairs_shortest_path(g)[5]"
   ]
  },
  {
   "cell_type": "markdown",
   "metadata": {},
   "source": [
    "#### Dijkstra’s Algorithm"
   ]
  },
  {
   "cell_type": "code",
   "execution_count": 64,
   "metadata": {
    "collapsed": false
   },
   "outputs": [
    {
     "data": {
      "text/plain": [
       "[1, 0, 5]"
      ]
     },
     "execution_count": 64,
     "metadata": {},
     "output_type": "execute_result"
    }
   ],
   "source": [
    "algorithms.dijkstra_path(g,1,5)"
   ]
  },
  {
   "cell_type": "code",
   "execution_count": 65,
   "metadata": {
    "collapsed": false
   },
   "outputs": [
    {
     "data": {
      "text/plain": [
       "({0: [1],\n",
       "  1: [],\n",
       "  2: [0, 3],\n",
       "  3: [1],\n",
       "  4: [1],\n",
       "  5: [0, 3, 6],\n",
       "  6: [1],\n",
       "  7: [6],\n",
       "  8: [7],\n",
       "  9: [8]},\n",
       " {0: 1, 1: 0, 2: 2, 3: 1, 4: 1, 5: 2, 6: 1, 7: 2, 8: 3, 9: 4})"
      ]
     },
     "execution_count": 65,
     "metadata": {},
     "output_type": "execute_result"
    }
   ],
   "source": [
    "algorithms.dijkstra_predecessor_and_distance(g,1,5)"
   ]
  },
  {
   "cell_type": "code",
   "execution_count": 66,
   "metadata": {
    "collapsed": true
   },
   "outputs": [],
   "source": [
    "import itertools"
   ]
  },
  {
   "cell_type": "code",
   "execution_count": 67,
   "metadata": {
    "collapsed": false
   },
   "outputs": [
    {
     "data": {
      "text/plain": [
       "[0, 1, 2, 3, 4, 5, 6, 7, 8, 9]"
      ]
     },
     "execution_count": 67,
     "metadata": {},
     "output_type": "execute_result"
    }
   ],
   "source": [
    "g.nodes()"
   ]
  },
  {
   "cell_type": "code",
   "execution_count": 68,
   "metadata": {
    "collapsed": false
   },
   "outputs": [
    {
     "data": {
      "text/plain": [
       "[(0, 1),\n",
       " (0, 2),\n",
       " (0, 3),\n",
       " (0, 4),\n",
       " (0, 5),\n",
       " (0, 6),\n",
       " (0, 7),\n",
       " (0, 8),\n",
       " (0, 9),\n",
       " (1, 2),\n",
       " (1, 3),\n",
       " (1, 4),\n",
       " (1, 5),\n",
       " (1, 6),\n",
       " (1, 7),\n",
       " (1, 8),\n",
       " (1, 9),\n",
       " (2, 3),\n",
       " (2, 4),\n",
       " (2, 5),\n",
       " (2, 6),\n",
       " (2, 7),\n",
       " (2, 8),\n",
       " (2, 9),\n",
       " (3, 4),\n",
       " (3, 5),\n",
       " (3, 6),\n",
       " (3, 7),\n",
       " (3, 8),\n",
       " (3, 9),\n",
       " (4, 5),\n",
       " (4, 6),\n",
       " (4, 7),\n",
       " (4, 8),\n",
       " (4, 9),\n",
       " (5, 6),\n",
       " (5, 7),\n",
       " (5, 8),\n",
       " (5, 9),\n",
       " (6, 7),\n",
       " (6, 8),\n",
       " (6, 9),\n",
       " (7, 8),\n",
       " (7, 9),\n",
       " (8, 9)]"
      ]
     },
     "execution_count": 68,
     "metadata": {},
     "output_type": "execute_result"
    }
   ],
   "source": [
    "list(itertools.combinations(g.nodes(),2))"
   ]
  },
  {
   "cell_type": "code",
   "execution_count": 69,
   "metadata": {
    "collapsed": true
   },
   "outputs": [],
   "source": [
    "nn = g.nodes()"
   ]
  },
  {
   "cell_type": "code",
   "execution_count": 70,
   "metadata": {
    "collapsed": false
   },
   "outputs": [
    {
     "data": {
      "text/plain": [
       "[0, 1, 2, 3, 4, 5, 6, 7, 8, 9]"
      ]
     },
     "execution_count": 70,
     "metadata": {},
     "output_type": "execute_result"
    }
   ],
   "source": [
    "nn"
   ]
  },
  {
   "cell_type": "code",
   "execution_count": 71,
   "metadata": {
    "collapsed": false
   },
   "outputs": [
    {
     "data": {
      "text/plain": [
       "[0, 1, 2, 3]"
      ]
     },
     "execution_count": 71,
     "metadata": {},
     "output_type": "execute_result"
    }
   ],
   "source": [
    "nn[:4]"
   ]
  },
  {
   "cell_type": "code",
   "execution_count": 72,
   "metadata": {
    "collapsed": true
   },
   "outputs": [],
   "source": [
    "pairs = list(itertools.combinations(nn[:4],2))"
   ]
  },
  {
   "cell_type": "code",
   "execution_count": 73,
   "metadata": {
    "collapsed": false
   },
   "outputs": [
    {
     "data": {
      "text/plain": [
       "[(0, 1), (0, 2), (0, 3), (1, 2), (1, 3), (2, 3)]"
      ]
     },
     "execution_count": 73,
     "metadata": {},
     "output_type": "execute_result"
    }
   ],
   "source": [
    "pairs"
   ]
  },
  {
   "cell_type": "code",
   "execution_count": 74,
   "metadata": {
    "collapsed": false
   },
   "outputs": [
    {
     "name": "stdout",
     "output_type": "stream",
     "text": [
      "[0, 1] [0, 1]\n",
      "[0, 2] [0, 2]\n",
      "[0, 3] [0, 3]\n",
      "[0, 1, 4] [0, 1, 4]\n",
      "[0, 5] [0, 5]\n",
      "[0, 1, 6] [0, 1, 6]\n",
      "[0, 5, 7] [0, 5, 7]\n",
      "[1, 0, 2] [1, 0, 2]\n",
      "[1, 3] [1, 3]\n",
      "[1, 4] [1, 4]\n",
      "[1, 0, 5] [1, 0, 5]\n",
      "[1, 6] [1, 6]\n",
      "[1, 6, 7] [1, 6, 7]\n",
      "[2, 3] [2, 3]\n",
      "[2, 3, 4] [2, 3, 4]\n",
      "[2, 5] [2, 5]\n",
      "[2, 3, 6] [2, 3, 6]\n",
      "[2, 5, 7] [2, 5, 7]\n",
      "[3, 4] [3, 4]\n",
      "[3, 5] [3, 5]\n",
      "[3, 6] [3, 6]\n",
      "[3, 5, 7] [3, 5, 7]\n",
      "[4, 3, 5] [4, 3, 5]\n",
      "[4, 6] [4, 6]\n",
      "[4, 6, 7] [4, 6, 7]\n",
      "[5, 6] [5, 6]\n",
      "[5, 7] [5, 7]\n",
      "[6, 7] [6, 7]\n"
     ]
    }
   ],
   "source": [
    "for pair in itertools.combinations(nn[:8],2):\n",
    "    print (algorithms.shortest_path(g,*pair),algorithms.dijkstra_path(g,*pair))"
   ]
  },
  {
   "cell_type": "code",
   "execution_count": 75,
   "metadata": {
    "collapsed": true
   },
   "outputs": [],
   "source": [
    "from random import choice"
   ]
  },
  {
   "cell_type": "code",
   "execution_count": null,
   "metadata": {
    "collapsed": true
   },
   "outputs": [],
   "source": []
  }
 ],
 "metadata": {
  "kernelspec": {
   "display_name": "Python [default]",
   "language": "python",
   "name": "python3"
  },
  "language_info": {
   "codemirror_mode": {
    "name": "ipython",
    "version": 3
   },
   "file_extension": ".py",
   "mimetype": "text/x-python",
   "name": "python",
   "nbconvert_exporter": "python",
   "pygments_lexer": "ipython3",
   "version": "3.5.1"
  }
 },
 "nbformat": 4,
 "nbformat_minor": 1
}
