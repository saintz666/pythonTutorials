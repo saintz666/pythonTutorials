{
 "cells": [
  {
   "cell_type": "code",
   "execution_count": 1,
   "metadata": {
    "collapsed": true
   },
   "outputs": [],
   "source": [
    "import networkx as net"
   ]
  },
  {
   "cell_type": "code",
   "execution_count": 2,
   "metadata": {
    "collapsed": true
   },
   "outputs": [],
   "source": [
    "import urllib"
   ]
  },
  {
   "cell_type": "code",
   "execution_count": 2,
   "metadata": {
    "collapsed": true
   },
   "outputs": [],
   "source": [
    "g = net.Graph()"
   ]
  },
  {
   "cell_type": "code",
   "execution_count": 4,
   "metadata": {
    "collapsed": true
   },
   "outputs": [],
   "source": [
    "g.add_edge('a','b')"
   ]
  },
  {
   "cell_type": "code",
   "execution_count": 13,
   "metadata": {
    "collapsed": true
   },
   "outputs": [],
   "source": [
    "g.add_edge('b','c')\n",
    "g.add_edge('c','a')"
   ]
  },
  {
   "cell_type": "code",
   "execution_count": 28,
   "metadata": {
    "collapsed": false
   },
   "outputs": [
    {
     "data": {
      "image/png": "[encoded data removed]",
      "text/plain": [
       "<matplotlib.figure.Figure at 0x2942c5b7eb8>"
      ]
     },
     "metadata": {},
     "output_type": "display_data"
    }
   ],
   "source": [
    "net.draw(g,with_labels=True)\n",
    "#net.draw(g,pos=net.spring_layout(g)) # use spring layout\n",
    "import matplotlib.pyplot as plt\n",
    "plt.show()"
   ]
  },
  {
   "cell_type": "code",
   "execution_count": 29,
   "metadata": {
    "collapsed": false
   },
   "outputs": [
    {
     "data": {
      "text/plain": [
       "['b', 'a', 'c']"
      ]
     },
     "execution_count": 29,
     "metadata": {},
     "output_type": "execute_result"
    }
   ],
   "source": [
    "g.nodes()"
   ]
  },
  {
   "cell_type": "code",
   "execution_count": 30,
   "metadata": {
    "collapsed": false
   },
   "outputs": [
    {
     "data": {
      "text/plain": [
       "[('b', 'a'), ('b', 'c'), ('a', 'c')]"
      ]
     },
     "execution_count": 30,
     "metadata": {},
     "output_type": "execute_result"
    }
   ],
   "source": [
    "g.edges()"
   ]
  },
  {
   "cell_type": "code",
   "execution_count": 32,
   "metadata": {
    "collapsed": false
   },
   "outputs": [
    {
     "data": {
      "text/plain": [
       "{}"
      ]
     },
     "execution_count": 32,
     "metadata": {},
     "output_type": "execute_result"
    }
   ],
   "source": [
    "g.node['a']"
   ]
  },
  {
   "cell_type": "code",
   "execution_count": 34,
   "metadata": {
    "collapsed": false
   },
   "outputs": [],
   "source": [
    "g.node['a']['size'] = 1"
   ]
  },
  {
   "cell_type": "code",
   "execution_count": 35,
   "metadata": {
    "collapsed": false
   },
   "outputs": [
    {
     "data": {
      "text/plain": [
       "{'size': 1}"
      ]
     },
     "execution_count": 35,
     "metadata": {},
     "output_type": "execute_result"
    }
   ],
   "source": [
    "g.node['a']"
   ]
  },
  {
   "cell_type": "code",
   "execution_count": 36,
   "metadata": {
    "collapsed": false
   },
   "outputs": [
    {
     "data": {
      "text/plain": [
       "{'b': {}, 'c': {}}"
      ]
     },
     "execution_count": 36,
     "metadata": {},
     "output_type": "execute_result"
    }
   ],
   "source": [
    "g['a']"
   ]
  },
  {
   "cell_type": "code",
   "execution_count": 67,
   "metadata": {
    "collapsed": false
   },
   "outputs": [],
   "source": [
    "#http://stackoverflow.com/questions/19827615/startswith-typeerror-in-function\n",
    "from urllib.request import urlopen\n",
    "def read_lj_friends(g, name):\n",
    "    # fetch the friend-list from LiveJournal\n",
    "    target_url = urllib.request.Request('http://www.livejournal.com/misc/fdata.bml?user='+name)\n",
    "    response = urlopen(target_url)\n",
    "    for line in response.readlines():\n",
    "        #Comments in the response start with a '#'\n",
    "        if line.startswith(b'#'): continue \n",
    "        \n",
    "        # the format is \"< name\" (incoming) or \"> name\" (outgoing)\n",
    "        parts=line.split()\n",
    "        \n",
    "        #make sure that we don't have an empty line\n",
    "        if len(parts)==0: continue\n",
    "        \n",
    "        #add the edge to the network\n",
    "        if parts[0]=='<': \n",
    "            g.add_edge(parts[1],name)\n",
    "        else:\n",
    "            g.add_edge(name,parts[1])"
   ]
  },
  {
   "cell_type": "code",
   "execution_count": 68,
   "metadata": {
    "collapsed": false
   },
   "outputs": [],
   "source": [
    "g = net.Graph()"
   ]
  },
  {
   "cell_type": "code",
   "execution_count": 69,
   "metadata": {
    "collapsed": false
   },
   "outputs": [],
   "source": [
    "read_lj_friends(g,'valerois')"
   ]
  },
  {
   "cell_type": "code",
   "execution_count": 70,
   "metadata": {
    "collapsed": false
   },
   "outputs": [
    {
     "data": {
      "text/plain": [
       "311"
      ]
     },
     "execution_count": 70,
     "metadata": {},
     "output_type": "execute_result"
    }
   ],
   "source": [
    "len(g)"
   ]
  },
  {
   "cell_type": "code",
   "execution_count": 74,
   "metadata": {
    "collapsed": false
   },
   "outputs": [
    {
     "data": {
      "image/png": "[encoded data removed]",
      "text/plain": [
       "<matplotlib.figure.Figure at 0x2942ce75f60>"
      ]
     },
     "metadata": {},
     "output_type": "display_data"
    }
   ],
   "source": [
    "net.draw(g)\n",
    "plt.show()"
   ]
  },
  {
   "cell_type": "code",
   "execution_count": 84,
   "metadata": {
    "collapsed": false
   },
   "outputs": [],
   "source": [
    "def snowball_sampling(g, center, max_depth=1, current_depth=0, taboo_list=[]):\n",
    "    # if we have reached the depth limit of the search, bomb out.\n",
    "    print (center, current_depth, max_depth, taboo_list)\n",
    "    if current_depth==max_depth: \n",
    "        print ('out of depth')\n",
    "        return taboo_list\n",
    "    if center in taboo_list:\n",
    "        print ('taboo')\n",
    "        return taboo_list #we've been here before\n",
    "    else:\n",
    "        taboo_list.append(center) # we shall never return\n",
    "        \n",
    "    read_lj_friends(g, center)\n",
    "    \n",
    "    for node in g.neighbors(center):\n",
    "        taboo_list=snowball_sampling(g, node, current_depth=current_depth+1, max_depth=max_depth, taboo_list=taboo_list)\n",
    "    \n",
    "    return taboo_list"
   ]
  },
  {
   "cell_type": "code",
   "execution_count": 86,
   "metadata": {
    "collapsed": false
   },
   "outputs": [
    {
     "name": "stdout",
     "output_type": "stream",
     "text": [
      "kozel_na_sakse 0 1 ['valerois']\n",
      "b'jolita' 1 1 ['valerois', 'kozel_na_sakse']\n",
      "out of depth\n",
      "b'tanyakotova' 1 1 ['valerois', 'kozel_na_sakse']\n",
      "out of depth\n",
      "b'emjudob' 1 1 ['valerois', 'kozel_na_sakse']\n",
      "out of depth\n",
      "b'hamptonlanny' 1 1 ['valerois', 'kozel_na_sakse']\n",
      "out of depth\n",
      "b'doctor_livsy' 1 1 ['valerois', 'kozel_na_sakse']\n",
      "out of depth\n",
      "b'dr_livsig' 1 1 ['valerois', 'kozel_na_sakse']\n",
      "out of depth\n",
      "b'nikitosbro' 1 1 ['valerois', 'kozel_na_sakse']\n",
      "out of depth\n",
      "b'valerois' 1 1 ['valerois', 'kozel_na_sakse']\n",
      "out of depth\n",
      "b'saper' 1 1 ['valerois', 'kozel_na_sakse']\n",
      "out of depth\n",
      "b'to_to_i_ono_to' 1 1 ['valerois', 'kozel_na_sakse']\n",
      "out of depth\n",
      "b'cheese_people' 1 1 ['valerois', 'kozel_na_sakse']\n",
      "out of depth\n",
      "b'guy_gomel' 1 1 ['valerois', 'kozel_na_sakse']\n",
      "out of depth\n",
      "b'husky_wardsa' 1 1 ['valerois', 'kozel_na_sakse']\n",
      "out of depth\n",
      "b'gingea' 1 1 ['valerois', 'kozel_na_sakse']\n",
      "out of depth\n",
      "b'solo_oboroten' 1 1 ['valerois', 'kozel_na_sakse']\n",
      "out of depth\n",
      "b'cr' 1 1 ['valerois', 'kozel_na_sakse']\n",
      "out of depth\n",
      "b'zina_korzina' 1 1 ['valerois', 'kozel_na_sakse']\n",
      "out of depth\n",
      "b'periskop' 1 1 ['valerois', 'kozel_na_sakse']\n",
      "out of depth\n",
      "b'dachte' 1 1 ['valerois', 'kozel_na_sakse']\n",
      "out of depth\n",
      "b'oshestak' 1 1 ['valerois', 'kozel_na_sakse']\n",
      "out of depth\n",
      "b'ptfenix' 1 1 ['valerois', 'kozel_na_sakse']\n",
      "out of depth\n",
      "b'fartasssea' 1 1 ['valerois', 'kozel_na_sakse']\n",
      "out of depth\n",
      "b'usolt' 1 1 ['valerois', 'kozel_na_sakse']\n",
      "out of depth\n",
      "b'vujurja' 1 1 ['valerois', 'kozel_na_sakse']\n",
      "out of depth\n",
      "b'orteme_ru' 1 1 ['valerois', 'kozel_na_sakse']\n",
      "out of depth\n",
      "b'sovarh' 1 1 ['valerois', 'kozel_na_sakse']\n",
      "out of depth\n",
      "b'cher_no_more' 1 1 ['valerois', 'kozel_na_sakse']\n",
      "out of depth\n",
      "b'plastickfreakz' 1 1 ['valerois', 'kozel_na_sakse']\n",
      "out of depth\n",
      "b'letchikleha' 1 1 ['valerois', 'kozel_na_sakse']\n",
      "out of depth\n",
      "b'pussbigeyesz' 1 1 ['valerois', 'kozel_na_sakse']\n",
      "out of depth\n",
      "b'gde_moi_mozgi' 1 1 ['valerois', 'kozel_na_sakse']\n",
      "out of depth\n",
      "b'dumjtio' 1 1 ['valerois', 'kozel_na_sakse']\n",
      "out of depth\n",
      "b'ak_bara' 1 1 ['valerois', 'kozel_na_sakse']\n",
      "out of depth\n",
      "b'olga_mama' 1 1 ['valerois', 'kozel_na_sakse']\n",
      "out of depth\n",
      "b'olimkasaz' 1 1 ['valerois', 'kozel_na_sakse']\n",
      "out of depth\n",
      "b'jenya_salaveya' 1 1 ['valerois', 'kozel_na_sakse']\n",
      "out of depth\n",
      "b'klari' 1 1 ['valerois', 'kozel_na_sakse']\n",
      "out of depth\n",
      "b'kirulya' 1 1 ['valerois', 'kozel_na_sakse']\n",
      "out of depth\n"
     ]
    },
    {
     "data": {
      "text/plain": [
       "['valerois', 'kozel_na_sakse']"
      ]
     },
     "execution_count": 86,
     "metadata": {},
     "output_type": "execute_result"
    }
   ],
   "source": [
    "snowball_sampling(g,'kozel_na_sakse')"
   ]
  },
  {
   "cell_type": "code",
   "execution_count": 87,
   "metadata": {
    "collapsed": true
   },
   "outputs": [],
   "source": [
    "net.write_pajek(g,'live_journal.net')"
   ]
  },
  {
   "cell_type": "code",
   "execution_count": 88,
   "metadata": {
    "collapsed": true
   },
   "outputs": [],
   "source": [
    "g = net.read_pajek('live_journal.net')"
   ]
  },
  {
   "cell_type": "code",
   "execution_count": 89,
   "metadata": {
    "collapsed": false
   },
   "outputs": [
    {
     "data": {
      "text/plain": [
       "347"
      ]
     },
     "execution_count": 89,
     "metadata": {},
     "output_type": "execute_result"
    }
   ],
   "source": [
    "len(g)"
   ]
  },
  {
   "cell_type": "code",
   "execution_count": 2,
   "metadata": {
    "collapsed": false
   },
   "outputs": [],
   "source": [
    "g = net.read_pajek(r'C:\\Users\\piush\\Desktop\\Dataset\\SNABook-master\\chapter3\\russians.net')"
   ]
  },
  {
   "cell_type": "code",
   "execution_count": 4,
   "metadata": {
    "collapsed": false
   },
   "outputs": [
    {
     "data": {
      "text/plain": [
       "87250"
      ]
     },
     "execution_count": 4,
     "metadata": {},
     "output_type": "execute_result"
    }
   ],
   "source": [
    "len(g)"
   ]
  },
  {
   "cell_type": "code",
   "execution_count": 6,
   "metadata": {
    "collapsed": true
   },
   "outputs": [],
   "source": [
    "#compute degree\n",
    "deg = net.degree(g)"
   ]
  },
  {
   "cell_type": "code",
   "execution_count": 6,
   "metadata": {
    "collapsed": false
   },
   "outputs": [
    {
     "data": {
      "text/plain": [
       "232"
      ]
     },
     "execution_count": 6,
     "metadata": {},
     "output_type": "execute_result"
    }
   ],
   "source": [
    "deg['valerois']"
   ]
  },
  {
   "cell_type": "code",
   "execution_count": 7,
   "metadata": {
    "collapsed": false
   },
   "outputs": [
    {
     "data": {
      "text/plain": [
       "1"
      ]
     },
     "execution_count": 7,
     "metadata": {},
     "output_type": "execute_result"
    }
   ],
   "source": [
    "min(deg.values())"
   ]
  },
  {
   "cell_type": "code",
   "execution_count": 8,
   "metadata": {
    "collapsed": false
   },
   "outputs": [
    {
     "data": {
      "text/plain": [
       "4691"
      ]
     },
     "execution_count": 8,
     "metadata": {},
     "output_type": "execute_result"
    }
   ],
   "source": [
    "max(deg.values())"
   ]
  },
  {
   "cell_type": "markdown",
   "metadata": {
    "collapsed": true
   },
   "source": [
    "##### Sort out the dictionary by values in python3\n",
    "\n",
    " http://stackoverflow.com/questions/20944483/python-3-sort-a-dict-by-its-values"
   ]
  },
  {
   "cell_type": "code",
   "execution_count": 3,
   "metadata": {
    "collapsed": false
   },
   "outputs": [],
   "source": [
    "### This function returns a sorted degree list\n",
    "### useful for celebrity spotting\n",
    "\n",
    "#import operator\n",
    "def sorted_map(map):\n",
    "    ms = [(k, map[k]) for k in sorted(map, key=map.get, reverse=True)]\n",
    "    #ms = sorted(map.items(),key = operator.itemgetter(1),reverse = True)\n",
    "    return ms\n"
   ]
  },
  {
   "cell_type": "code",
   "execution_count": 4,
   "metadata": {
    "collapsed": false
   },
   "outputs": [],
   "source": [
    "### Get Top10 list\n",
    "def top(deg, toplist=10):\n",
    "    print ('Sort the map to spot the celebrities')\n",
    "    ds = sorted_map(deg)\n",
    "    print ('and print the top '+str(toplist))\n",
    "    print (ds[0:toplist])\n",
    "    return ds"
   ]
  },
  {
   "cell_type": "code",
   "execution_count": 7,
   "metadata": {
    "collapsed": false
   },
   "outputs": [
    {
     "name": "stdout",
     "output_type": "stream",
     "text": [
      "Sort the map to spot the celebrities\n",
      "and print the top 15\n",
      "[('borisakunin', 4691), ('doctor_liza', 3046), ('tareeva', 2970), ('cheger', 2887), ('karial', 2717), ('snorapp', 2707), ('masha_koroleva', 2683), ('elladkin', 2616), ('samoleg', 2597), ('zina_korzina', 2596), ('xlarina', 2582), ('gracebirkin', 2575), ('a_dyukov', 2542), ('azbukivedi', 2541), ('bakushinskaya', 2513)]\n"
     ]
    }
   ],
   "source": [
    "ds=top(deg, toplist=15)"
   ]
  },
  {
   "cell_type": "code",
   "execution_count": 10,
   "metadata": {
    "collapsed": true
   },
   "outputs": [],
   "source": [
    "import matplotlib.pyplot as plot"
   ]
  },
  {
   "cell_type": "code",
   "execution_count": 11,
   "metadata": {
    "collapsed": false
   },
   "outputs": [],
   "source": [
    "h=plot.hist(list(deg.values()),100)\n",
    "plot.savefig('centrality_hist.png')\n",
    "plot.close()\n",
    "plot.show()"
   ]
  },
  {
   "cell_type": "code",
   "execution_count": 12,
   "metadata": {
    "collapsed": false
   },
   "outputs": [
    {
     "data": {
      "image/png": "[encoded data removed]",
      "text/plain": [
       "<matplotlib.figure.Figure at 0x238bb55a128>"
      ]
     },
     "metadata": {},
     "output_type": "display_data"
    }
   ],
   "source": [
    "plot.loglog(h[1][1:],h[0])\n",
    "plot.show()"
   ]
  },
  {
   "cell_type": "code",
   "execution_count": 13,
   "metadata": {
    "collapsed": false
   },
   "outputs": [],
   "source": [
    "### Remove pendant and isolated nodes from the graph\n",
    "def trim_degrees(g, degree=1):\n",
    "    print ('Show network for degree > ' + str(degree))\n",
    "    filename = 'core' + str(degree) + '.png'\n",
    "    g2=g.copy()\n",
    "    d=net.degree(g2)\n",
    "    for n in g2.nodes():\n",
    "        if d[n]<=degree: g2.remove_node(n)\n",
    "    net.draw(g2)\n",
    "    plot.savefig(filename)\n",
    "    plot.close()\n",
    "    return g2\n"
   ]
  },
  {
   "cell_type": "code",
   "execution_count": 14,
   "metadata": {
    "collapsed": false
   },
   "outputs": [
    {
     "name": "stdout",
     "output_type": "stream",
     "text": [
      "Remove pendants and isolated nodes\n",
      "Show network for degree > 30\n"
     ]
    }
   ],
   "source": [
    "# Reduce map by removing pendants and isolated nodes\n",
    "print ('Remove pendants and isolated nodes')\n",
    "\n",
    "core30=trim_degrees(g, degree=30)"
   ]
  },
  {
   "cell_type": "code",
   "execution_count": 15,
   "metadata": {
    "collapsed": false
   },
   "outputs": [
    {
     "name": "stdout",
     "output_type": "stream",
     "text": [
      "Show network for degree > 10\n"
     ]
    }
   ],
   "source": [
    "core10=trim_degrees(g, degree=10)\n"
   ]
  },
  {
   "cell_type": "code",
   "execution_count": 16,
   "metadata": {
    "collapsed": false
   },
   "outputs": [
    {
     "name": "stdout",
     "output_type": "stream",
     "text": [
      "Show network for degree > 20\n"
     ]
    }
   ],
   "source": [
    "core20=trim_degrees(g, degree=20)"
   ]
  },
  {
   "cell_type": "code",
   "execution_count": 18,
   "metadata": {
    "collapsed": false
   },
   "outputs": [
    {
     "name": "stdout",
     "output_type": "stream",
     "text": [
      "Calculate closeness for core30\n"
     ]
    }
   ],
   "source": [
    "# Calculate closeness for core30\n",
    "print ('Calculate closeness for core30')\n",
    "c=net.closeness_centrality(core30)"
   ]
  },
  {
   "cell_type": "code",
   "execution_count": 20,
   "metadata": {
    "collapsed": false
   },
   "outputs": [
    {
     "name": "stdout",
     "output_type": "stream",
     "text": [
      "Sort map\n",
      "Sort the map to spot the celebrities\n",
      "and print the top 10\n",
      "[('valerois', 0.9663865546218487), ('bagira', 0.5693069306930693), ('azbukivedi', 0.5679012345679012), ('karial', 0.5463182897862233), ('kpoxa_e', 0.5463182897862233), ('eprst2000', 0.5437352245862884), ('angerona', 0.5373831775700935), ('mamaracha', 0.5336426914153132), ('alinaf', 0.5324074074074074), ('_milashka', 0.5324074074074074)]\n"
     ]
    },
    {
     "data": {
      "image/png": "[encoded data removed]",
      "text/plain": [
       "<matplotlib.figure.Figure at 0x238c1b63358>"
      ]
     },
     "metadata": {},
     "output_type": "display_data"
    }
   ],
   "source": [
    "print ('Sort map')\n",
    "top(c)\n",
    "h=plot.hist(list(c.values()),100)\n",
    "plot.show()\n",
    "#plot.savefig('hist_core30.png')\n",
    "#plot.close()"
   ]
  },
  {
   "cell_type": "code",
   "execution_count": 21,
   "metadata": {
    "collapsed": false
   },
   "outputs": [
    {
     "name": "stdout",
     "output_type": "stream",
     "text": [
      "Calculate closeness for core10\n"
     ]
    }
   ],
   "source": [
    "# Calculate closeness for core10\n",
    "print ('Calculate closeness for core10')\n",
    "c=net.closeness_centrality(core10)"
   ]
  },
  {
   "cell_type": "code",
   "execution_count": 25,
   "metadata": {
    "collapsed": false
   },
   "outputs": [
    {
     "name": "stdout",
     "output_type": "stream",
     "text": [
      "Sort map\n",
      "Sort the map to spot the celebrities\n",
      "and print the top 10\n",
      "[('azbukivedi', 0.6155378486055777), ('valerois', 0.6137040714995035), ('bagira', 0.5896946564885496), ('karial', 0.5738161559888579), ('kpoxa_e', 0.5722222222222222), ('yelya', 0.5369244135534318), ('kirulya', 0.5364583333333334), ('angerona', 0.535064935064935), ('borisakunin', 0.53184165232358), ('snorapp', 0.5300171526586621)]\n"
     ]
    },
    {
     "data": {
      "image/png": "[encoded data removed]",
      "text/plain": [
       "<matplotlib.figure.Figure at 0x238bb3ff8d0>"
      ]
     },
     "metadata": {},
     "output_type": "display_data"
    }
   ],
   "source": [
    "print ('Sort map')\n",
    "cs = top(c)\n",
    "h=plot.hist(list(c.values()),100)\n",
    "plot.show()"
   ]
  },
  {
   "cell_type": "code",
   "execution_count": 26,
   "metadata": {
    "collapsed": false
   },
   "outputs": [
    {
     "name": "stdout",
     "output_type": "stream",
     "text": [
      "Get betweenness centrality\n"
     ]
    }
   ],
   "source": [
    "# Get betweenness\n",
    "print ('Get betweenness centrality')\n",
    "b30=net.betweenness_centrality(core30)\n",
    "bs=sorted_map(b30)\n",
    "b10=net.betweenness_centrality(core10)\n",
    "bs=sorted_map(b10)"
   ]
  },
  {
   "cell_type": "code",
   "execution_count": 27,
   "metadata": {
    "collapsed": false
   },
   "outputs": [
    {
     "name": "stdout",
     "output_type": "stream",
     "text": [
      "Combine all information\n",
      "[['tareeva', 2970, 0.47575057736720555, 0.005884690487303415], ['snorapp', 2707, 0.5300171526586621, 0.026244420037490557], ['elladkin', 2616, 0.46466165413533833, 0.01572823640015297], ['bagira', 1481, 0.5896946564885496, 0.06415743377135986], ['karial', 2717, 0.5738161559888579, 0.049436498735116984], ['eprst2000', 2510, 0.5286569717707442, 0.021420612080769168], ['kpoxa_e', 946, 0.5722222222222222, 0.04044127058417222], ['yelya', 582, 0.5369244135534318, 0.015239326752752018], ['azbukivedi', 2541, 0.6155378486055777, 0.0906854698375361], ['masha_koroleva', 2683, 0.4959871589085072, 0.012624543545596013], ['valerois', 232, 0.6137040714995035, 0.21148671833684946], ['samoleg', 2597, 0.4753846153846154, 0.015663680463377627], ['zina_korzina', 2596, 0.49282296650717705, 0.008964320341170732], ['doctor_liza', 3046, 0.48168355416991426, 0.020507259543668853], ['cheger', 2887, 0.3992248062015504, 0.0007174304877532311], ['angerona', 752, 0.535064935064935, 0.019238006453547094], ['borisakunin', 4691, 0.53184165232358, 0.023042685592280548], ['kirulya', 2398, 0.5364583333333334, 0.02260146049682859]]\n"
     ]
    }
   ],
   "source": [
    "# Combine all information\n",
    "print ('Combine all information')\n",
    "names1=[x[0] for x in ds[:10]]\n",
    "names2=[x[0] for x in cs[:10]]\n",
    "names3=[x[0] for x in bs[:10]]\n",
    "names=list((set(names1) | set(names2) | set(names3)))\n",
    "table=[[name,deg[name],c[name],b10[name]] for name in names]\n",
    "print (table)"
   ]
  },
  {
   "cell_type": "code",
   "execution_count": 34,
   "metadata": {
    "collapsed": false
   },
   "outputs": [
    {
     "data": {
      "text/plain": [
       "{'zmeyka_taya': 2.5881284220863887e-05,\n",
       " 'v_zerkal': 4.3950881762835375e-06,\n",
       " 'bu_ra': 4.34743561896496e-06,\n",
       " 'pityara': 4.247864552195891e-06,\n",
       " 'dudnev': 6.346888574579029e-06,\n",
       " 'glo_ku': 5.890662293266436e-06,\n",
       " 'uninco': 4.070448691553828e-06,\n",
       " 'ping_ving': 4.276152059800469e-06,\n",
       " 'malinowsky': 4.464196540456912e-06,\n",
       " 'tusyko': 4.944713967397548e-06,\n",
       " 'tea88': 4.702089850726792e-06,\n",
       " 'ovtza': 4.269631347969028e-06,\n",
       " 'jirafka': 7.277112946006546e-06,\n",
       " 'onehalf_3544_m': 4.800586885685576e-06,\n",
       " 'lugovaya_arfa': 4.804053945019349e-06,\n",
       " 'ya_domovoy': 6.971970948912096e-06,\n",
       " 'korsakon': 4.066096443121818e-06,\n",
       " 'srn_ru': 8.128624545305301e-06,\n",
       " 'unintendedbloom': 4.430928199606948e-06,\n",
       " 'ator_ru': 5.3553968853844005e-06,\n",
       " 'hedge_sun': 6.404233998224424e-06,\n",
       " 'latinyanin': 6.683157080438375e-06,\n",
       " 'muzika_dogdia': 4.800586885685576e-06,\n",
       " 'sam_bacon': 4.800586885685576e-06,\n",
       " 'utichka': 5.3553968853844005e-06,\n",
       " 'empty_castle': 4.247864552195891e-06,\n",
       " 'pepilota': 8.85924554201082e-06,\n",
       " 'igort75': 4.249478955562013e-06,\n",
       " 'varenn2009': 4.944713967397548e-06,\n",
       " 'fanfood': 4.274239474984632e-06,\n",
       " 'wasjaw': 4.904335831049245e-06,\n",
       " 'bessnebess': 4.248777192522627e-06,\n",
       " 'v_tor': 4.944713967397548e-06,\n",
       " 'chetvergvecher': 1.0171293640431469e-05,\n",
       " 'nuzgul': 4.407927610158413e-06,\n",
       " 'feoddora': 4.337805296434637e-06,\n",
       " 'filifionka': 4.108774054753421e-06,\n",
       " 'takaya_lena': 4.5773581810346625e-06,\n",
       " 'qekz': 4.61641631614011e-06,\n",
       " 'bessonnaya_n': 4.988481095089727e-06,\n",
       " 'cuewager': 3.924505232852876e-06,\n",
       " 'dima_demidov': 4.248777192522627e-06,\n",
       " 'nefigasi': 7.840831841757603e-06,\n",
       " 'gonduras': 4.140467932709657e-06,\n",
       " 'guy_gomel': 4.6701703019900153e-05,\n",
       " 'oburavlyov': 4.262062505458895e-06,\n",
       " 'mama_pipa': 3.768427983914702e-06,\n",
       " 'iamiffko': 6.761771016656995e-06,\n",
       " 'secret_spoken': 4.262257332847397e-06,\n",
       " 'vargg': 4.944713967397548e-06,\n",
       " 'provintciall': 4.464196540456912e-06,\n",
       " 'karavan_plus': 4.8315090552400785e-06,\n",
       " 'shlishol': 4.262062505458895e-06,\n",
       " 'rainbow_end': 4.269631347969028e-06,\n",
       " 'belchester': 4.1611343452002625e-06,\n",
       " 'tretiyraz': 4.988481095089727e-06,\n",
       " 'midnight_mouse': 4.312202329663572e-06,\n",
       " 'ami_na': 3.768427983914702e-06,\n",
       " 'limbakh': 4.255350821887454e-06,\n",
       " 'zemi_san': 3.858649257555155e-06,\n",
       " 'g_o_o_o_l': 4.390231111232421e-06,\n",
       " 'fill_logos': 4.9283730908144685e-06,\n",
       " 'kontrabanda': 3.669303816409798e-06,\n",
       " 'skipy': 4.241699548037521e-06,\n",
       " 'some_weird': 7.5936498983348406e-06,\n",
       " '3eta': 2.866158503926502e-05,\n",
       " 'fluffy_julia': 4.230151472919968e-06,\n",
       " 'strela': 1.156156899223486e-05,\n",
       " 'poulin': 4.156565688788762e-06,\n",
       " 'vera_m': 3.768427983914702e-06,\n",
       " 'marlenlee': 4.262062505458895e-06,\n",
       " 'jolzhas': 4.2000773763654175e-06,\n",
       " 'monemix': 4.108774054753421e-06,\n",
       " 'm_zaxaroff': 7.992655716844176e-06,\n",
       " 'infiniti_girl': 4.5142971015657965e-06,\n",
       " 'olologovo': 1.1015088729782823e-05,\n",
       " 'myasniko': 4.767255061845043e-06,\n",
       " 'drugaia': 6.039658825037081e-06,\n",
       " 'elter_jude': 4.822779869569463e-06,\n",
       " 'nature_wonder': 9.729917393023377e-06,\n",
       " 'gurinna': 4.156565688788762e-06,\n",
       " 'ncool': 4.25028157768544e-06,\n",
       " 'gnomo4ka': 4.269631347969028e-06,\n",
       " 'azza147': 4.5142971015657965e-06,\n",
       " '0prohoroff': 1.0431717243867428e-05,\n",
       " 'yagal': 2.7390000466708717e-05,\n",
       " 'yasha911': 4.988481095089727e-06,\n",
       " 'mwstyle': 4.078639575031127e-06,\n",
       " 'dropme': 6.251458259035755e-06,\n",
       " 'afew_debauchery': 4.338740324673703e-06,\n",
       " 'kolibri_vamp': 4.247864552195891e-06,\n",
       " 'heifez': 1.1696171671676852e-05,\n",
       " 'utka_shar': 7.592261648026668e-06,\n",
       " 'littlemessenger': 1.635712611551782e-05,\n",
       " 'freken_magda': 7.854408729912464e-06,\n",
       " 'cattish': 6.461627899862697e-06,\n",
       " 'toshische': 3.924505232852876e-06,\n",
       " 'zwerro': 3.996197126558126e-06,\n",
       " 'sdut': 9.121822148575408e-06,\n",
       " 'sedric_k': 4.2000773763654175e-06,\n",
       " 'hermittgryl': 3.860074316146055e-06,\n",
       " 'ixnore': 4.464196540456912e-06,\n",
       " 'nedorazvmenie': 8.94746053860361e-06,\n",
       " '1dfathmort2': 4.027165871445291e-06,\n",
       " 'moon_aka_sun': 9.5655033793445e-06,\n",
       " 'kopchuk': 4.334112271383637e-06,\n",
       " 'valshebniso': 4.135849069227052e-06,\n",
       " 'hlopotov': 7.159281113862616e-06,\n",
       " 'potanzuem': 4.091343196702719e-06,\n",
       " 'bazelinsky': 3.847279646160345e-06,\n",
       " 'ave_vlada': 4.1611343452002625e-06,\n",
       " 'sply': 4.2000773763654175e-06,\n",
       " 'freakodel': 4.592632848192081e-06,\n",
       " 'altaec': 4.504097613431467e-06,\n",
       " 'eduard_tz23': 4.329678385455136e-06,\n",
       " 'baro_grga': 9.046345112721615e-06,\n",
       " 'lenproekt': 4.2797589007245855e-06,\n",
       " 'lx_photos': 7.992771321506202e-06,\n",
       " 'evegreen': 4.390231111232421e-06,\n",
       " 'batilda': 4.108774054753421e-06,\n",
       " 'vandermih': 4.951987213413933e-06,\n",
       " 'kinoistoriya': 3.787942647462185e-06,\n",
       " 'powergene': 4.2000773763654175e-06,\n",
       " 'humor_inside': 3.787942647462185e-06,\n",
       " 'romymv': 4.951987213413933e-06,\n",
       " 'greenfielder': 4.944713967397548e-06,\n",
       " 'parwine': 4.337805296434637e-06,\n",
       " 'rustex': 4.269631347969028e-06,\n",
       " 'g117': 4.255350821887454e-06,\n",
       " 'leonidobr': 4.07120108587826e-06,\n",
       " 'dastren': 4.904335831049245e-06,\n",
       " 'jackichan': 7.545585718406097e-06,\n",
       " 'aramis_erble': 5.3553968853844005e-06,\n",
       " 'brasileiro_ru': 7.546496964310822e-06,\n",
       " 'mrknowhow': 4.413904166786076e-06,\n",
       " 'gersemee': 3.858649257555155e-06,\n",
       " 'sport_gerl': 4.741987080810207e-06,\n",
       " 'tanada': 7.36017589969958e-06,\n",
       " 'generaloleg': 4.140467932709657e-06,\n",
       " 'mrtoefl': 4.413904166786076e-06,\n",
       " 'lady_hell': 4.4446781919408945e-06,\n",
       " 'ak_in_da_web': 4.156565688788762e-06,\n",
       " 'buhqalter': 4.753768031890683e-06,\n",
       " 'tatafromhse': 4.761597058615746e-06,\n",
       " 'befania1': 5.02396757665591e-06,\n",
       " 'kluykva': 4.839194421382762e-06,\n",
       " 'pop_music_ua': 4.988481095089727e-06,\n",
       " 'sandlinsky': 4.8593411579519646e-06,\n",
       " 'katolichka': 1.4273964575712864e-05,\n",
       " 'prividenie_ja': 4.334112271383637e-06,\n",
       " 'landerghost': 4.262062505458895e-06,\n",
       " 'guitartech': 7.334290314414579e-06,\n",
       " 'fioly': 4.430928199606948e-06,\n",
       " 'andy_hro_org': 3.991643061279934e-06,\n",
       " 'iryna_voron': 4.338740324673703e-06,\n",
       " 'freetatarstan': 4.64876140492269e-06,\n",
       " 'bully_girl': 4.804053945019349e-06,\n",
       " 'purplebbw': 5.609114511416259e-06,\n",
       " 'soura': 6.758809850645845e-06,\n",
       " 'une_zeppelina': 5.02396757665591e-06,\n",
       " 'elle_imagine': 6.639526980742247e-06,\n",
       " 'esya': 2.00982121086671e-05,\n",
       " 'user_owl': 4.944713967397548e-06,\n",
       " 'green_point': 7.81814910785324e-06,\n",
       " 'vbvbv200': 4.8593411579519646e-06,\n",
       " '1joytrod1': 4.027165871445291e-06,\n",
       " 'amoreimpossible': 4.341901050434325e-06,\n",
       " 'e_cat': 1.0657465452842121e-05,\n",
       " 'the_shmul': 4.954506218649325e-06,\n",
       " 'dustyo_o': 5.3553968853844005e-06,\n",
       " 'to_tosh_ka': 4.169863911559937e-06,\n",
       " 'vera46': 4.2000773763654175e-06,\n",
       " '16optimistka37': 4.988481095089727e-06,\n",
       " 'calzaslargas': 5.02396757665591e-06,\n",
       " 'zarevna_budur': 9.274352179850586e-06,\n",
       " 'wesel': 3.924505232852876e-06,\n",
       " 'bolibrukh': 4.800586885685576e-06,\n",
       " 'ayalusha': 8.690223334052913e-06,\n",
       " 'elwenlaurlas': 4.247864552195891e-06,\n",
       " '7vedma7': 4.56294959229064e-06,\n",
       " '1st_jedy': 4.276152059800469e-06,\n",
       " 'marymani': 4.988481095089727e-06,\n",
       " 'ksu_51': 4.668082220684408e-06,\n",
       " 'sigurd1377': 4.64876140492269e-06,\n",
       " 'o_proskurin': 1.4017661080976466e-05,\n",
       " 'yanayankee': 4.904335831049245e-06,\n",
       " 'daiboza': 4.284888221264366e-06,\n",
       " 'dumk': 4.066096443121818e-06,\n",
       " 'olenushka': 4.52301844692508e-06,\n",
       " 'plusche4ka': 4.8315090552400785e-06,\n",
       " 'dozhdik123': 2.5944189749688615e-05,\n",
       " 'yelenah': 2.4330799525902253e-05,\n",
       " 'paladyn': 3.991643061279934e-06,\n",
       " 'krapina': 4.209712199688779e-06,\n",
       " 'rotorfan': 4.951987213413933e-06,\n",
       " 'hemule': 4.504097613431467e-06,\n",
       " 'menoter': 9.369615057970803e-06,\n",
       " 'stagirite': 4.4698049264377494e-06,\n",
       " 'waxahachie': 4.011289069513677e-06,\n",
       " 'adrina_lin': 4.143163427958748e-06,\n",
       " 'uncle_luber': 4.164720238631803e-06,\n",
       " 'nibbl': 1.2842295419003501e-05,\n",
       " 'bad7773': 4.800586885685576e-06,\n",
       " 'rusisraelreject': 3.817768411115066e-06,\n",
       " 'nosorojik': 4.241545978691701e-06,\n",
       " 'headnews': 6.283233225751378e-06,\n",
       " 'zweifel': 4.108774054753421e-06,\n",
       " 'barbuh': 4.61641631614011e-06,\n",
       " 'acid_office': 4.360860392657298e-06,\n",
       " 'gersey_girl': 4.9283730908144685e-06,\n",
       " 'bellooha': 7.007061338179417e-06,\n",
       " 'plrplrplum': 4.430928199606948e-06,\n",
       " 'interbahus': 4.140467932709657e-06,\n",
       " 'le_secret_de': 4.808905675900319e-06,\n",
       " 'mihul': 3.816211253263535e-06,\n",
       " 'alfanet': 4.0802705252523305e-06,\n",
       " 'v_suhachevsky': 4.464196540456912e-06,\n",
       " 'medok': 4.274239474984632e-06,\n",
       " 'cosy_ela_vita': 7.175927032327469e-06,\n",
       " 'vadim_v': 4.951987213413933e-06,\n",
       " 'juno_erector': 4.209712199688779e-06,\n",
       " 'anjulle': 4.165805228718663e-06,\n",
       " 'mbs_1': 5.30467872760654e-06,\n",
       " 'imwhoimwhoami': 4.334112271383637e-06,\n",
       " 'khatul': 1.0603304987629766e-05,\n",
       " 'zifra_8': 4.5142971015657965e-06,\n",
       " 'gololiod': 4.5142971015657965e-06,\n",
       " 'lenya': 4.800586885685576e-06,\n",
       " 'tasha451': 3.900078024664117e-06,\n",
       " 'vovaldo': 4.904335831049245e-06,\n",
       " 'morta_vitalia': 4.209712199688779e-06,\n",
       " 'lokapakti': 4.38254743925013e-06,\n",
       " 'nely_snork': 4.430928199606948e-06,\n",
       " 'prangi69': 4.209712199688779e-06,\n",
       " 'alina_g': 4.592632848192081e-06,\n",
       " 'viktusya': 5.3553968853844005e-06,\n",
       " 'helpmymac': 4.464196540456912e-06,\n",
       " 'alvida': 4.325666238196966e-06,\n",
       " 'mour_mour': 5.3553968853844005e-06,\n",
       " 'bw_makaruha': 4.720158593942467e-06,\n",
       " 'eduardqgorod': 4.179828794669393e-06,\n",
       " '_ab_': 6.549196384530795e-06,\n",
       " 'pattu': 4.276152059800469e-06,\n",
       " 'kurkumar': 4.767255061845043e-06,\n",
       " 'dr_nata': 4.1611343452002625e-06,\n",
       " 'bosna75': 6.603066927303859e-06,\n",
       " 'where_dogs_run': 4.8315090552400785e-06,\n",
       " 'ellery_ahe': 6.95365488832095e-06,\n",
       " 'katikzhook': 4.1870710432170185e-06,\n",
       " 'd_bakharev': 4.825356941085576e-06,\n",
       " 'style_spotlight': 4.56294959229064e-06,\n",
       " 'fluxinternes': 4.2561681919184305e-06,\n",
       " 'kovai': 4.61641631614011e-06,\n",
       " 'vaksa_': 5.3553968853844005e-06,\n",
       " 'annet_nnov_ru': 4.761597058615746e-06,\n",
       " 'murmura': 4.394726657554025e-06,\n",
       " 'ms_paganini': 7.893761913183278e-06,\n",
       " 'erizo_': 6.901564521509283e-06,\n",
       " 'natasha_e': 4.804053945019349e-06,\n",
       " 'klaus_k_alex': 5.30467872760654e-06,\n",
       " 'hcs': 4.140467932709657e-06,\n",
       " 'veranika': 4.078639575031127e-06,\n",
       " '_stern_b': 9.229440344406242e-06,\n",
       " 'akuaku': 1.8616271681170842e-05,\n",
       " 'u3poccuu': 4.56294959229064e-06,\n",
       " 'ma_vi': 4.804053945019349e-06,\n",
       " 'chissarra': 4.430928199606948e-06,\n",
       " 'jeykolt': 5.07263433371167e-06,\n",
       " 'lifedrive': 4.464196540456912e-06,\n",
       " 'yojik_yamamoto': 4.800586885685576e-06,\n",
       " 'tailaly': 4.140467932709657e-06,\n",
       " 'automer': 4.1282607315512294e-06,\n",
       " 'stratosferova': 4.825356941085576e-06,\n",
       " 'tuzpuz': 5.02396757665591e-06,\n",
       " 'call_me_mary': 1.5692026312823754e-05,\n",
       " 'k_shevi': 7.512317377556135e-06,\n",
       " 'unfairy_tale': 1.1630242976861184e-05,\n",
       " 'adiwa': 8.072024930764564e-06,\n",
       " 'r_v': 7.037686541113377e-06,\n",
       " 'dmytrovoytko': 8.069870273038912e-06,\n",
       " 'dyatlova': 4.338740324673703e-06,\n",
       " 'evgenn111': 1.3276209443104767e-05,\n",
       " 'kamilz': 4.822779869569463e-06,\n",
       " 'protyotruta': 4.241699548037521e-06,\n",
       " 'galkasolovey': 5.30467872760654e-06,\n",
       " 'san_sani4': 1.0084267653963832e-05,\n",
       " 'dunea': 2.017097944004033e-05,\n",
       " 'namse_travel': 4.752177377174785e-06,\n",
       " 'fox69': 9.645739809634804e-06,\n",
       " 'karta_ostrova': 4.800586885685576e-06,\n",
       " 'missmarmot': 6.2034457468259565e-06,\n",
       " 'jane_leveret': 6.405384901481904e-06,\n",
       " 'kst': 4.1282607315512294e-06,\n",
       " 'my_crossroads': 4.5769806961871035e-06,\n",
       " 'izumi_amaya': 4.582641766511377e-06,\n",
       " 'susopik': 4.464196540456912e-06,\n",
       " 'avgustovich': 4.3950881762835375e-06,\n",
       " 'arsp': 5.30467872760654e-06,\n",
       " 'brain_storm': 4.140467932709657e-06,\n",
       " 'afan': 4.108774054753421e-06,\n",
       " 'veleslavushka': 4.64876140492269e-06,\n",
       " 'kykl': 4.248777192522627e-06,\n",
       " 'jay_fiction': 5.30467872760654e-06,\n",
       " 'stock_news': 4.311962066159724e-06,\n",
       " 'suffle': 4.209712199688779e-06,\n",
       " 'irss': 4.269631347969028e-06,\n",
       " 'naglaya_aglaya': 6.633677919911136e-06,\n",
       " 'uncobbesch': 4.2797589007245855e-06,\n",
       " 'krible_krable': 6.539419796500124e-06,\n",
       " 'prosto_leka': 4.156565688788762e-06,\n",
       " 'tutta': 1.2617045744719608e-05,\n",
       " 'julia_mif': 4.592632848192081e-06,\n",
       " 'affettuosamente': 4.334112271383637e-06,\n",
       " 'rus_47_78': 4.262062505458895e-06,\n",
       " 'verbochka95': 4.269631347969028e-06,\n",
       " '0fleur_de_sante': 7.046095974455181e-06,\n",
       " 'alma_sabia': 8.021460764528121e-06,\n",
       " 'djahilia': 3.817768411115066e-06,\n",
       " 'tamoa': 7.68313992953629e-06,\n",
       " 'isoka': 7.4761158355032115e-06,\n",
       " 'lenachudo': 4.070448691553828e-06,\n",
       " 'mar_shim': 3.92379135845664e-06,\n",
       " 'hagen777': 4.070448691553828e-06,\n",
       " 'irlandets01': 4.8315090552400785e-06,\n",
       " 'anoz': 8.732145577000525e-06,\n",
       " 'kyra_meyerhold': 4.61641631614011e-06,\n",
       " 'pluschen_hase': 4.808905675900319e-06,\n",
       " 'pereyaslavets': 4.276152059800469e-06,\n",
       " 'molchischka': 4.247864552195891e-06,\n",
       " 'milla_lt': 6.598502326252635e-06,\n",
       " 'ubretid': 4.247864552195891e-06,\n",
       " 'rizhaya_sava': 4.284888221264366e-06,\n",
       " 'nata_kabanova': 8.069870273038912e-06,\n",
       " 'mtv_po_russki': 4.430928199606948e-06,\n",
       " 'orangines': 1.1166590417858477e-05,\n",
       " 'flust': 3.685354768149949e-06,\n",
       " 'fotosniper': 4.64876140492269e-06,\n",
       " 'rosso_nero': 4.56294959229064e-06,\n",
       " 'lonely_gist': 7.5765078879606e-06,\n",
       " 'mashkins': 3.1834161276411666e-05,\n",
       " 'wasunchik': 7.199290562786095e-06,\n",
       " 'rigello': 4.464196540456912e-06,\n",
       " 'temperaturka': 6.88156364646751e-06,\n",
       " 'alex_orthodox': 4.8593411579519646e-06,\n",
       " 'gm_dar': 7.224552605907933e-06,\n",
       " 'ten_no_kuro': 4.8593411579519646e-06,\n",
       " 'reinbach': 4.276152059800469e-06,\n",
       " 'serik_katya': 4.2797589007245855e-06,\n",
       " 'gentle_m_a_n': 4.8593411579519646e-06,\n",
       " 'vsegdaprav': 4.464196540456912e-06,\n",
       " 'nikitamoiseev': 4.4698049264377494e-06,\n",
       " 'orkir': 4.748249496563279e-06,\n",
       " 'armiakrajowa': 5.3553968853844005e-06,\n",
       " 'lerner': 7.000349654607975e-06,\n",
       " 'aleks_megen': 4.338740324673703e-06,\n",
       " 'plowwwka': 1.5895361421627858e-05,\n",
       " 'letuchij_mishka': 4.066096443121818e-06,\n",
       " 'witchkaito': 6.7187944145406885e-06,\n",
       " 'finel': 5.690457703786218e-06,\n",
       " 'floramaria': 8.069870273038912e-06,\n",
       " 'seraya_roza': 4.5773581810346625e-06,\n",
       " 'eiddwen_bisulka': 4.839194421382762e-06,\n",
       " 'shevyakin': 4.825356941085576e-06,\n",
       " 'abobrov11': 4.5555814825027916e-06,\n",
       " 'navmalela': 5.3553968853844005e-06,\n",
       " 'dalys': 6.853772887473943e-06,\n",
       " 'lyubutov': 3.7614968850820283e-06,\n",
       " 'g_getsby': 4.338740324673703e-06,\n",
       " 'nico_nicolaas': 1.5201127632742915e-05,\n",
       " 'dalexeev': 4.2000773763654175e-06,\n",
       " 'olga_euro': 4.325666238196966e-06,\n",
       " 'sharik_uletel': 4.334112271383637e-06,\n",
       " 'rada_sati': 4.592632848192081e-06,\n",
       " 'qopytowa': 4.2797589007245855e-06,\n",
       " 'rezzzolution': 4.4698049264377494e-06,\n",
       " 'inistories': 4.988481095089727e-06,\n",
       " 'thai_thai': 6.091279944304909e-06,\n",
       " 'existentia': 4.108774054753421e-06,\n",
       " 'remedioz': 4.276152059800469e-06,\n",
       " '7823060': 4.5773581810346625e-06,\n",
       " 'koltsov': 1.1624637343081729e-05,\n",
       " 'oleg_ka': 3.924505232852876e-06,\n",
       " 'ilmare_en': 7.4124468153120855e-06,\n",
       " 'elianne_fabke': 3.900078024664117e-06,\n",
       " 'kazhdan': 4.61641631614011e-06,\n",
       " 'tarik': 7.00677541061979e-06,\n",
       " '_paradokc_': 4.255350821887454e-06,\n",
       " 'ylitka_natka': 4.247864552195891e-06,\n",
       " 'dushka': 8.86910841097042e-06,\n",
       " 'anchik_chik': 4.808905675900319e-06,\n",
       " 'nord_of_themoon': 4.886496483494991e-06,\n",
       " 'hu_li_nam': 4.2000773763654175e-06,\n",
       " 'jom_art': 4.612072905984881e-06,\n",
       " 'piranhas_ru': 4.904335831049245e-06,\n",
       " 'frida25': 4.2561681919184305e-06,\n",
       " 'pyccino': 4.8593411579519646e-06,\n",
       " 'varvik': 4.011289069513677e-06,\n",
       " 'todatoda': 4.886496483494991e-06,\n",
       " 'italicka': 7.829638674512466e-06,\n",
       " 'natasha_ku': 4.269631347969028e-06,\n",
       " 'grivaonline': 7.368221738808081e-06,\n",
       " 'liznova': 6.48274780461248e-06,\n",
       " 'yulik_zulik': 4.886496483494991e-06,\n",
       " '_sleza_': 1.243768400834042e-05,\n",
       " '405t': 3.900078024664117e-06,\n",
       " 'tekilla_mlad': 1.1390312297939358e-05,\n",
       " '1drey': 4.464196540456912e-06,\n",
       " 'an_eme': 4.464196540456912e-06,\n",
       " 'lojka': 4.804053945019349e-06,\n",
       " 'ctmd': 5.30467872760654e-06,\n",
       " 'shabunc': 3.685354768149949e-06,\n",
       " 'no_ob_spb': 4.808905675900319e-06,\n",
       " 'kulin': 4.9283730908144685e-06,\n",
       " 'tegava': 4.2000773763654175e-06,\n",
       " 'lenatolstik': 1.0927158604667801e-05,\n",
       " 'silkovaja': 6.546630766790764e-06,\n",
       " 'llenterak': 3.858649257555155e-06,\n",
       " 'lost_haired': 4.247864552195891e-06,\n",
       " 'dearmad': 4.4446781919408945e-06,\n",
       " 'agendaz': 4.209712199688779e-06,\n",
       " 'velositi': 4.334112271383637e-06,\n",
       " 'une_olive': 6.672819553409093e-06,\n",
       " 'undercover_love': 4.904335831049245e-06,\n",
       " 'alisa_karin': 4.140467932709657e-06,\n",
       " 'paris_online': 4.34743561896496e-06,\n",
       " 'vanairy': 4.741987080810207e-06,\n",
       " 'timontda': 4.944713967397548e-06,\n",
       " 'aiaka21': 4.800586885685576e-06,\n",
       " 'fleetingness': 5.30467872760654e-06,\n",
       " 'melni': 6.87610246342446e-06,\n",
       " 'lisenock': 3.902776821448173e-06,\n",
       " 'bumamashko': 4.9283730908144685e-06,\n",
       " 'aruslde': 4.144952033343124e-06,\n",
       " 'nutritdestruit_': 4.4446781919408945e-06,\n",
       " 'dudina': 4.753768031890683e-06,\n",
       " 'wine_soul': 5.902443541230803e-06,\n",
       " 'dominionus': 4.333306435614918e-06,\n",
       " 'trapperfj': 5.07263433371167e-06,\n",
       " 'igorvet': 4.825356941085576e-06,\n",
       " 'jolkina': 9.944181019557693e-06,\n",
       " 'motorpage': 7.992655716844176e-06,\n",
       " 'vechnaja_vesna': 4.2561681919184305e-06,\n",
       " 'zapiski4ertenka': 4.904335831049245e-06,\n",
       " 'nareira': 4.56294959229064e-06,\n",
       " 'aaa_vafrikereki': 4.2561681919184305e-06,\n",
       " 'clair4081': 4.61641631614011e-06,\n",
       " 'vmt': 6.743175295198477e-06,\n",
       " 'tip_rus': 3.858649257555155e-06,\n",
       " 'spy_eye': 4.8593411579519646e-06,\n",
       " 'karpah': 2.101079160931435e-05,\n",
       " 'homo_risorius': 7.301277795415837e-06,\n",
       " 'grase_': 6.884406103147001e-06,\n",
       " 'ury_smirnov': 4.1870710432170185e-06,\n",
       " 'carinadelight': 5.02396757665591e-06,\n",
       " 'belij_mishka': 9.102014616691736e-06,\n",
       " 'sanchess': 3.996197126558126e-06,\n",
       " 'ohubelka': 2.4860162961928666e-05,\n",
       " 'lorkin': 4.2797589007245855e-06,\n",
       " 'tanuhr': 9.27554276934671e-06,\n",
       " 'marks777': 6.546976111750846e-06,\n",
       " 'alena_gray': 4.34743561896496e-06,\n",
       " 'aka_elizaday': 4.269631347969028e-06,\n",
       " 'hilazonart': 4.5769806961871035e-06,\n",
       " 'rumas_d': 4.276152059800469e-06,\n",
       " 'razumbunt': 4.904335831049245e-06,\n",
       " 'rikusha': 4.430928199606948e-06,\n",
       " 'elcampero': 1.1698939480886284e-05,\n",
       " 'serpi': 1.634749526581112e-05,\n",
       " 'bage_bage': 4.066096443121818e-06,\n",
       " 'facel': 3.9746450842541155e-06,\n",
       " 'badty': 5.3553968853844005e-06,\n",
       " 'w00d_g0blin': 5.30467872760654e-06,\n",
       " 'commedefille': 4.34743561896496e-06,\n",
       " 'pterodaktille': 6.559814789449409e-06,\n",
       " 'primava': 4.070448691553828e-06,\n",
       " 'fedayi': 4.325666238196966e-06,\n",
       " 'razor_don': 0.0004926083339639876,\n",
       " 'nochnaya_koshka': 6.906133177920784e-06,\n",
       " 'santail': 4.8593411579519646e-06,\n",
       " 'svetljach_ok': 4.066096443121818e-06,\n",
       " 'ka_leto': 5.91602458588614e-06,\n",
       " 'privet_ottuda': 7.554661163720709e-06,\n",
       " 'brother_mahatma': 4.394726657554025e-06,\n",
       " 'zosya_mishkina': 4.066096443121818e-06,\n",
       " 'juliamaxi': 2.9773080365399564e-05,\n",
       " 'von_drachenwald': 4.4446781919408945e-06,\n",
       " 'larisap': 4.262062505458895e-06,\n",
       " 'comrade_dimge': 4.8593411579519646e-06,\n",
       " 'o_rasstroistvo': 1.0361717839038819e-05,\n",
       " 'ua9nw_jr': 4.209712199688779e-06,\n",
       " 'lioragan': 4.1870710432170185e-06,\n",
       " 'tai_sa': 3.787942647462185e-06,\n",
       " 'pernata_fogel': 4.2000773763654175e-06,\n",
       " 'dress_xs': 5.9941088463659725e-06,\n",
       " 'improviez': 4.8315090552400785e-06,\n",
       " 'solange_dnepr': 4.464196540456912e-06,\n",
       " 'ppzppzppz': 8.717692854134186e-06,\n",
       " 'miss_me_please': 4.4698049264377494e-06,\n",
       " 'cool_reality': 7.159281113862616e-06,\n",
       " 'dll': 4.464196540456912e-06,\n",
       " 'lame_silver': 4.4698049264377494e-06,\n",
       " 'uti_arcunem': 4.484997098376004e-06,\n",
       " 'farzand': 8.364264107296617e-06,\n",
       " 'red_dressed': 4.230151472919968e-06,\n",
       " 'wonders_in_oven': 4.269631347969028e-06,\n",
       " 'estland': 7.864267536611874e-06,\n",
       " '_svetliachok_': 4.394726657554025e-06,\n",
       " '___shiro____': 4.954506218649325e-06,\n",
       " '__ann__': 4.430928199606948e-06,\n",
       " 'i_risha': 4.262062505458895e-06,\n",
       " 'kallisfentb': 4.162017964281259e-06,\n",
       " 'af1461': 4.61641631614011e-06,\n",
       " 'twisthead': 4.2000773763654175e-06,\n",
       " '21_gramm': 4.2797589007245855e-06,\n",
       " 'gingerat': 6.20817445380341e-06,\n",
       " 'kykha': 4.1611343452002625e-06,\n",
       " 'kitaec_wundrbar': 4.078639575031127e-06,\n",
       " 'alexandr37': 7.007061338179417e-06,\n",
       " 'favolla': 4.269631347969028e-06,\n",
       " 'natalia_r': 6.623050795185897e-06,\n",
       " 'mila_60': 4.825356941085576e-06,\n",
       " 'bliadina': 4.262062505458895e-06,\n",
       " 'streltsofff': 4.988481095089727e-06,\n",
       " 'zuzo': 4.904335831049245e-06,\n",
       " 'loveliness_love': 4.430928199606948e-06,\n",
       " 'anasanta': 4.34743561896496e-06,\n",
       " 'polina_simpson': 4.61641631614011e-06,\n",
       " 'verybadbat': 4.43773007087914e-06,\n",
       " 'jushaa': 1.1716521618208143e-05,\n",
       " 'proh_m': 7.0630238371223835e-06,\n",
       " 'tl1': 4.513404593265918e-06,\n",
       " 'day_sniper': 4.317970718953384e-06,\n",
       " 'gorelka_tarelka': 4.165805228718663e-06,\n",
       " 'natalia_gogina': 5.3553968853844005e-06,\n",
       " 'margaritkin': 3.847279646160345e-06,\n",
       " 'impressionisme': 8.069870273038912e-06,\n",
       " 'verba_knt': 4.8593411579519646e-06,\n",
       " 'xsevenbeta': 4.247864552195891e-06,\n",
       " 'remainin': 4.2000773763654175e-06,\n",
       " 'cap_man': 4.804053945019349e-06,\n",
       " 'komissarov': 6.345775457826143e-06,\n",
       " 'nadyt': 4.988481095089727e-06,\n",
       " 'gelavasadze': 7.307948425011163e-06,\n",
       " 'micello': 4.262062505458895e-06,\n",
       " 'siciliaways': 4.334112271383637e-06,\n",
       " 'firstmanul': 4.394726657554025e-06,\n",
       " 'melilot_909': 4.311962066159724e-06,\n",
       " 'nelly_g': 4.135203122061839e-06,\n",
       " 'ja_ray': 9.235705257996557e-06,\n",
       " 'tabusis': 7.689292043690792e-06,\n",
       " 'buffiville': 4.988481095089727e-06,\n",
       " 'muha007': 6.686223053069755e-06,\n",
       " 'oxfri': 4.808905675900319e-06,\n",
       " 'tavka': 6.530044279726688e-06,\n",
       " 'chich8': 1.69407381904533e-05,\n",
       " 'pivpav': 6.945076209085939e-06,\n",
       " 'prospero067': 4.464196540456912e-06,\n",
       " 'shicmimi': 4.5773581810346625e-06,\n",
       " 'cheza_stray': 4.262062505458895e-06,\n",
       " 'vladkul': 4.209712199688779e-06,\n",
       " 'admirer08': 4.2000773763654175e-06,\n",
       " 'devilizza': 6.7541389671274444e-06,\n",
       " 'elkapalka': 4.269631347969028e-06,\n",
       " 'eleecem': 4.2000773763654175e-06,\n",
       " 'sumnakaj': 4.800586885685576e-06,\n",
       " 'zzoi': 4.61641631614011e-06,\n",
       " 'vixen_in_me': 8.984520314582197e-06,\n",
       " 'spirax_sarco': 4.4698049264377494e-06,\n",
       " 'verbochca': 7.884063729843901e-06,\n",
       " 'ethel_arriva': 4.720158593942467e-06,\n",
       " 'fanta69': 4.2561681919184305e-06,\n",
       " '0_riz_0': 4.800586885685576e-06,\n",
       " 'e_kaspersky': 1.226509061106613e-05,\n",
       " 'lao_czy': 4.886496483494991e-06,\n",
       " 'lair': 4.140467932709657e-06,\n",
       " 'gdola': 9.018584027697921e-06,\n",
       " 'ninulj_angel': 4.904335831049245e-06,\n",
       " 'crazy_lusinoid': 4.156565688788762e-06,\n",
       " 'goddamn_russkie': 4.007793895785826e-06,\n",
       " 'shelhevet': 1.4402249885135877e-05,\n",
       " 'violetka': 4.904335831049245e-06,\n",
       " 'you_ri': 7.370784965873032e-06,\n",
       " 'tanvika': 4.4446781919408945e-06,\n",
       " 'deev_lip': 3.9002072752183166e-06,\n",
       " 'morgetta': 4.612072905984881e-06,\n",
       " 'monisto': 9.749885062475035e-06,\n",
       " 'knorky': 5.686161941152455e-06,\n",
       " 'travelmind': 8.83764822321137e-06,\n",
       " 'marie_marrie': 4.822779869569463e-06,\n",
       " 'negrustinova': 4.248777192522627e-06,\n",
       " 'buddhacommunity': 4.61641631614011e-06,\n",
       " 'pupsyatina': 6.7069993290214e-06,\n",
       " 'maintenanceteam': 4.334112271383637e-06,\n",
       " 'sledodel': 4.808905675900319e-06,\n",
       " 'lepusculus': 6.788212954741455e-06,\n",
       " 'chychelko': 3.924505232852876e-06,\n",
       " 'nrg4u': 1.0029898768793254e-05,\n",
       " 'gonchaya': 6.752576997411284e-06,\n",
       " 'vzdoh': 9.174411383394962e-06,\n",
       " 'madmit': 5.09082234833963e-06,\n",
       " 'suslik': 4.269631347969028e-06,\n",
       " 'speakingstone': 1.257395764020705e-05,\n",
       " 'wind_rose13': 4.800586885685576e-06,\n",
       " 'l_greensleeves': 6.795929175758332e-06,\n",
       " 'lelik3': 4.019065477817625e-06,\n",
       " 'news4_top': 4.8315090552400785e-06,\n",
       " 'wisest_owl': 4.4698049264377494e-06,\n",
       " 'utamusic': 2.3990497164933898e-05,\n",
       " 'ac_damon': 9.621101296144981e-06,\n",
       " 'juljune': 7.083147340144471e-06,\n",
       " 'toro_toro_toro': 4.904335831049245e-06,\n",
       " 'cloudthatdrift': 4.761597058615746e-06,\n",
       " 'vsha': 8.934051745941405e-06,\n",
       " 'londres': 1.3789724624612273e-05,\n",
       " 'amantula': 1.4804423640785208e-05,\n",
       " 'tinve777': 4.464196540456912e-06,\n",
       " 'cat_cheshir': 4.34743561896496e-06,\n",
       " 'two_chinamen': 4.247864552195891e-06,\n",
       " 'philadelphia_': 4.164720238631803e-06,\n",
       " 'the_coffe_girl': 3.817768411115066e-06,\n",
       " 'enott': 4.019065477817625e-06,\n",
       " 'creator_hrenov': 9.068920761657368e-06,\n",
       " '_blackroze1': 1.4630072795644454e-05,\n",
       " 'dp_roland': 4.620016135052543e-06,\n",
       " 'tematic': 1.1551584247973696e-05,\n",
       " 'aaa13': 6.760010549646969e-06,\n",
       " 'kizune': 6.345775457826143e-06,\n",
       " 'sobol_noobz': 4.808905675900319e-06,\n",
       " 'alt_danilov': 6.760145839921417e-06,\n",
       " 'bezcheliovechny': 5.3553968853844005e-06,\n",
       " 'destiniar': 4.011289069513677e-06,\n",
       " 'yaguarundee': 7.231330879787357e-06,\n",
       " '451_fahrenheit': 4.342748901198652e-06,\n",
       " 'irina_oct': 4.2000773763654175e-06,\n",
       " 'sly2m': 8.394381986120545e-06,\n",
       " 'silwergoff_lj': 4.748249496563279e-06,\n",
       " 'tutsee': 1.8139562944269325e-05,\n",
       " 'prozaid': 4.2000773763654175e-06,\n",
       " 'viktor_a': 4.338740324673703e-06,\n",
       " 'zianon_pazniak': 4.56294959229064e-06,\n",
       " 'pognat': 4.407927610158413e-06,\n",
       " 'khinachlek': 3.817768411115066e-06,\n",
       " 'ivangryaznov': 4.4698049264377494e-06,\n",
       " 'fstep': 4.701812635202092e-06,\n",
       " 'antuan_graftio': 4.988481095089727e-06,\n",
       " 'stolzer_vogel': 4.3622361013816755e-06,\n",
       " 'polit_mudak': 3.92379135845664e-06,\n",
       " 'konfetkas': 4.312202329663572e-06,\n",
       " 'aldara_the_wise': 4.247864552195891e-06,\n",
       " 'lisa_nataly': 3.924505232852876e-06,\n",
       " 'melkaya_koshka': 3.817768411115066e-06,\n",
       " 'vilkas_pilkas': 4.276152059800469e-06,\n",
       " 'marlborro': 4.720158593942467e-06,\n",
       " 'jahontova': 4.255350821887454e-06,\n",
       " 'nuncki': 9.351784965139942e-06,\n",
       " 'darling_q': 5.609114511416259e-06,\n",
       " '30jenuary': 4.430928199606948e-06,\n",
       " 'ulyubashka': 4.904335831049245e-06,\n",
       " 'medeis': 4.255350821887454e-06,\n",
       " 'tg_wife': 3.9746450842541155e-06,\n",
       " 'albius': 4.276152059800469e-06,\n",
       " 'add_to_bag': 4.34743561896496e-06,\n",
       " 'katestrem': 4.464196540456912e-06,\n",
       " 'isaenkodmitry': 4.248777192522627e-06,\n",
       " 'masha_chaplin': 4.2022774118093475e-06,\n",
       " 'ollagushka': 4.504097613431467e-06,\n",
       " 'jahh': 6.676621046860721e-06,\n",
       " 'libellule_fun': 7.44314553039219e-06,\n",
       " 'oportet_vivere': 7.3694756692083846e-06,\n",
       " 'akacia': 9.430231365968784e-06,\n",
       " 'sovastream': 4.329678385455136e-06,\n",
       " 'maassive': 3.909115413483313e-06,\n",
       " 'sid_night': 4.8315090552400785e-06,\n",
       " 'vahmurka_': 7.994043799213175e-06,\n",
       " 'tina379': 4.464196540456912e-06,\n",
       " 'vikont1': 4.944713967397548e-06,\n",
       " 'viktorklimov': 4.800586885685576e-06,\n",
       " 'soolima': 4.951987213413933e-06,\n",
       " 'anyago': 4.800586885685576e-06,\n",
       " 'lenulja79': 3.9002072752183166e-06,\n",
       " 'ya_nita': 4.1611343452002625e-06,\n",
       " 'ka_mi11a': 4.8315090552400785e-06,\n",
       " 'aqvarel': 7.463907869045343e-06,\n",
       " 'swid': 7.357541237749655e-06,\n",
       " 'kot_kotyara': 4.2000773763654175e-06,\n",
       " 'bebele': 7.327214493432593e-06,\n",
       " 'vze': 4.38254743925013e-06,\n",
       " 'rkhrapov': 4.8315090552400785e-06,\n",
       " 'in_version': 1.413262065618967e-05,\n",
       " 'hefest': 4.338740324673703e-06,\n",
       " 'dianush': 6.556610935074207e-06,\n",
       " 'gargantua68': 4.269631347969028e-06,\n",
       " 'kasatka_a': 9.731721981993218e-06,\n",
       " 'myrddin_willt': 5.3553968853844005e-06,\n",
       " 'ranger_of_path': 6.366441870316749e-06,\n",
       " 'annlagut': 6.696410262215247e-06,\n",
       " 'eyelets': 4.34743561896496e-06,\n",
       " 'fuetes': 4.904335831049245e-06,\n",
       " 'whitemoscow': 4.276152059800469e-06,\n",
       " 'bastardo': 3.858649257555155e-06,\n",
       " 'lekarauskas777': 4.504097613431467e-06,\n",
       " 'afonuy': 5.07263433371167e-06,\n",
       " 'olga_mukhortova': 1.3947204849780827e-05,\n",
       " 'vampa333a': 4.951987213413933e-06,\n",
       " 'lisbetina': 1.4865216150987534e-05,\n",
       " 'a_s_n_a_t': 6.248496669980775e-06,\n",
       " 'mr_dh': 4.496192478469155e-06,\n",
       " 'marinamarymarch': 4.269631347969028e-06,\n",
       " 'arelav_renert': 4.5142971015657965e-06,\n",
       " 'straytrain': 4.741987080810207e-06,\n",
       " 'petr0vich': 4.255350821887454e-06,\n",
       " 'alleli': 4.255350821887454e-06,\n",
       " 'e_shishkina': 4.209712199688779e-06,\n",
       " 'peramoga': 4.56294959229064e-06,\n",
       " 'slavochka': 4.2797589007245855e-06,\n",
       " 'old_mad': 3.817768411115066e-06,\n",
       " 'el_li': 2.5220440745780085e-05,\n",
       " 'dmitry_moskvin': 1.0020663921225762e-05,\n",
       " 'rossalev_a': 4.951987213413933e-06,\n",
       " 'anastess': 4.800586885685576e-06,\n",
       " 'timoti_liri': 4.904335831049245e-06,\n",
       " 'realmark': 9.953265994198084e-06,\n",
       " 'as_pr': 4.255350821887454e-06,\n",
       " 'shwe_dagon': 7.079111104104159e-06,\n",
       " 'vad1m_ru': 4.8593411579519646e-06,\n",
       " 'vesnuwa': 4.334112271383637e-06,\n",
       " 'chertopoloshka': 3.92379135845664e-06,\n",
       " 'nouve': 4.752177377174785e-06,\n",
       " 'vasiliyakw': 7.060506183672711e-06,\n",
       " 'milwin': 4.274239474984632e-06,\n",
       " 'nim_f': 4.334112271383637e-06,\n",
       " 'chanelut': 4.216617969274098e-06,\n",
       " 'infinity_way': 4.329678385455136e-06,\n",
       " 'volnij_hudoznik': 4.8593411579519646e-06,\n",
       " 'astra_l': 4.334112271383637e-06,\n",
       " 'talichka': 6.901564521509283e-06,\n",
       " 'tessimora': 4.091343196702719e-06,\n",
       " '_tushkan_': 4.247864552195891e-06,\n",
       " 'flisa': 4.1611343452002625e-06,\n",
       " 'omnia_amor': 4.4446781919408945e-06,\n",
       " 'owic': 6.603648090275676e-06,\n",
       " 'rp_pobegaylova': 3.817768411115066e-06,\n",
       " 'jkudianova': 4.808905675900319e-06,\n",
       " 'giperbolik': 4.9283730908144685e-06,\n",
       " 'ya_kadyr0v': 7.322296829093286e-06,\n",
       " 'rebenok_zdorov': 7.177864155937887e-06,\n",
       " 'ailm29': 4.230151472919968e-06,\n",
       " 'wolfichek': 1.0545334758259732e-05,\n",
       " 'ta_ra_ra': 1.6278640168516673e-05,\n",
       " 'rozinapr': 4.951987213413933e-06,\n",
       " 'milena': 7.040250727582531e-06,\n",
       " 'julia_yakubova': 7.489316788107598e-06,\n",
       " 'shipa': 4.140467932709657e-06,\n",
       " 'pagiao': 4.753768031890683e-06,\n",
       " 'izumcheg': 4.2000773763654175e-06,\n",
       " 'ohw': 4.140467932709657e-06,\n",
       " 'crystal_skulls': 4.338740324673703e-06,\n",
       " 'totomka': 6.891075151411016e-06,\n",
       " '8_kat_8': 8.234499506704592e-06,\n",
       " 'rupert_murdoch': 4.808905675900319e-06,\n",
       " 'tarusha': 9.196106864320105e-06,\n",
       " 'mama_arwen': 9.276434859316564e-06,\n",
       " 'film_editor': 4.262062505458895e-06,\n",
       " 'starshinazapasa': 4.241699548037521e-06,\n",
       " '_spouse_': 1.4042483690337373e-05,\n",
       " 'terora': 4.2561681919184305e-06,\n",
       " 'dima_dragon': 7.4162955100160424e-06,\n",
       " 'aliaz': 4.134099523963111e-06,\n",
       " 'olejnikov': 1.2144212712075148e-05,\n",
       " 'walltar': 4.193088952793812e-06,\n",
       " 'sinepari': 4.070448691553828e-06,\n",
       " 'hobysss': 1.2292298093552738e-05,\n",
       " 'negrusti': 4.247864552195891e-06,\n",
       " 'mary_kvit': 4.800586885685576e-06,\n",
       " 'lupikatze': 4.269631347969028e-06,\n",
       " 'beautifullady22': 4.520318855593114e-06,\n",
       " '1357721': 4.019065477817625e-06,\n",
       " 'mehanizator': 1.453140011395666e-05,\n",
       " 'hony_mom': 6.827098646992844e-06,\n",
       " 'mamariti': 6.447891634633103e-06,\n",
       " 'ivar59': 7.2744781307429974e-06,\n",
       " 'xenia_potochnik': 4.312202329663572e-06,\n",
       " 'lady_researcher': 4.066096443121818e-06,\n",
       " 'rullnox': 4.334112271383637e-06,\n",
       " 'ex_antonio_b222': 7.915548272321879e-06,\n",
       " 'alia_tempora': 6.7085084364809e-06,\n",
       " 'lame_fate': 9.904558007724048e-06,\n",
       " 'grenzlos': 4.276152059800469e-06,\n",
       " 'mik_yesha': 1.98336249202884e-05,\n",
       " 'ivansstef': 4.2561681919184305e-06,\n",
       " 'kshenska': 7.209649909500415e-06,\n",
       " 'mckaby': 9.223831958425404e-06,\n",
       " 'gralena': 6.828315287593987e-06,\n",
       " '_busido': 4.255350821887454e-06,\n",
       " 'lu_star': 4.066096443121818e-06,\n",
       " 'nazar_rus': 4.8593411579519646e-06,\n",
       " 'j_e_w_e_l': 6.436231138815181e-06,\n",
       " 'fiveseconddelay': 5.169529904779481e-06,\n",
       " 'shantell_spring': 4.287370832739496e-06,\n",
       " 'kssc': 4.413904166786076e-06,\n",
       " 'kykyshka13': 4.904335831049245e-06,\n",
       " 'uuuhh': 3.92637107498077e-06,\n",
       " 'zaychoona': 4.007215094692432e-06,\n",
       " 'ekheria': 4.592632848192081e-06,\n",
       " 'terehov_alexei': 4.886496483494991e-06,\n",
       " 'mkshus': 1.3328151286164042e-05,\n",
       " 'conservator_85': 4.8593411579519646e-06,\n",
       " 'ksushka_barashk': 4.752177377174785e-06,\n",
       " 'vampirek': 5.3553968853844005e-06,\n",
       " 'pepsiman6': 3.787942647462185e-06,\n",
       " 'zukerka': 1.1662437286438921e-05,\n",
       " 'alexanddra': 4.287370832739496e-06,\n",
       " 'juliora': 6.271403968238305e-06,\n",
       " 'cheroma': 4.091343196702719e-06,\n",
       " 'trollle': 4.262062505458895e-06,\n",
       " 'kaerru': 4.954506218649325e-06,\n",
       " 'begemout': 4.262062505458895e-06,\n",
       " 'raelka': 7.162095231406339e-06,\n",
       " 'still_iffy': 4.592632848192081e-06,\n",
       " 'missalla': 3.869038062477266e-05,\n",
       " 'sunny_smilee': 4.2797589007245855e-06,\n",
       " 'kesha89': 4.64876140492269e-06,\n",
       " 'donc': 4.2000773763654175e-06,\n",
       " 'strawdog_ru': 4.741987080810207e-06,\n",
       " 'pyshistaya': 4.720158593942467e-06,\n",
       " 'lelskaya': 4.804053945019349e-06,\n",
       " 'kat_bellydancer': 4.808905675900319e-06,\n",
       " 'dantist': 4.108774054753421e-06,\n",
       " 'fallosova': 4.338740324673703e-06,\n",
       " 'lexiff': 4.8593411579519646e-06,\n",
       " 'ernual': 4.287370832739496e-06,\n",
       " 'zhmenya': 6.7069993290214e-06,\n",
       " 'zalman34': 4.1870710432170185e-06,\n",
       " 'eva_flint': 4.954506218649325e-06,\n",
       " 'wedplan': 8.592647648070746e-06,\n",
       " 'wolffa': 2.0075056440298663e-05,\n",
       " 'adesigna': 1.4294714285220643e-05,\n",
       " 'siddhh': 4.808905675900319e-06,\n",
       " '_adf_': 8.96099129810191e-06,\n",
       " 'aklim27': 4.804053945019349e-06,\n",
       " 'krusnik_05': 4.839194421382762e-06,\n",
       " 'icetronic': 4.767255061845043e-06,\n",
       " 'sinyaya_tigra': 7.103428360992222e-06,\n",
       " 'flammis_acribus': 9.27504311244721e-06,\n",
       " 'aline_p': 4.4698049264377494e-06,\n",
       " 'zlaya_hadzich': 6.5383608803000465e-06,\n",
       " 'rhysbg': 3.816211253263535e-06,\n",
       " 'devnu11': 4.56294959229064e-06,\n",
       " 'dorei_gari': 4.334112271383637e-06,\n",
       " 'dlara': 6.789372256428832e-06,\n",
       " 'myshara': 4.464196540456912e-06,\n",
       " 'kroshka_charly': 3.817768411115066e-06,\n",
       " 'nevinnay_dusha': 4.988481095089727e-06,\n",
       " 'cypok_vlada': 4.216617969274098e-06,\n",
       " 'volchegur': 3.685354768149949e-06,\n",
       " 'shapito': 4.108774054753421e-06,\n",
       " 'dgtex': 4.262062505458895e-06,\n",
       " 'pic_nick': 4.165805228718663e-06,\n",
       " 'nuki_chan': 4.255350821887454e-06,\n",
       " 'ann_chous': 4.1611343452002625e-06,\n",
       " 'dzertapodge': 4.513404593265918e-06,\n",
       " 'mr_mulder': 4.8315090552400785e-06,\n",
       " 'feoshat': 4.4698049264377494e-06,\n",
       " 'kublog': 8.732739276281548e-06,\n",
       " 'ennisikeiel': 4.1611343452002625e-06,\n",
       " 'tolstyi_zver': 4.5773581810346625e-06,\n",
       " 'vorontsova_nvu': 2.188209510223682e-05,\n",
       " 'manngust': 4.2561681919184305e-06,\n",
       " 'tiakatia': 4.464196540456912e-06,\n",
       " 'vema': 7.912351237448478e-06,\n",
       " 'budidich': 4.248777192522627e-06,\n",
       " 'nemozlivist': 4.5769806961871035e-06,\n",
       " 'lamaeshy': 4.135849069227052e-06,\n",
       " 'my_vois': 7.057161899288302e-06,\n",
       " 'cbor': 7.735698068526469e-06,\n",
       " 'iacocca1': 8.799908034383487e-06,\n",
       " 'zoltr': 4.43773007087914e-06,\n",
       " 'orchid_new': 4.140467932709657e-06,\n",
       " 'lone_pilgrim': 4.430928199606948e-06,\n",
       " 'hewvey': 4.2000773763654175e-06,\n",
       " 'vsyapravdao': 4.34743561896496e-06,\n",
       " 'ubikk': 4.0531516455107586e-06,\n",
       " 'slmedia': 4.767255061845043e-06,\n",
       " 'mikalag': 1.1177011889859983e-05,\n",
       " 'aya_ran': 5.3553968853844005e-06,\n",
       " 'fragile_really': 4.592632848192081e-06,\n",
       " 'kashram': 4.164720238631803e-06,\n",
       " 'morrigan_lee': 4.209712199688779e-06,\n",
       " '_ane4ka': 6.577835913762029e-06,\n",
       " 'ane4kane4ka': 7.18344922664768e-06,\n",
       " 'likaangel': 5.30467872760654e-06,\n",
       " 'lyulya_f': 4.4698049264377494e-06,\n",
       " 'sea_urchin': 4.338740324673703e-06,\n",
       " 'wifezilla5150': 6.782179183424385e-06,\n",
       " 'life_for_you': 3.902776821448173e-06,\n",
       " 'treevkin': 4.338740324673703e-06,\n",
       " 'ilipin': 4.800586885685576e-06,\n",
       " 'm_bl_s_h_k_a': 4.61641631614011e-06,\n",
       " 'myagovki': 4.337805296434637e-06,\n",
       " 'itsjadju': 4.38254743925013e-06,\n",
       " 'linuva': 4.2797589007245855e-06,\n",
       " 'ikalina': 4.620016135052543e-06,\n",
       " 'grandi_flora': 4.34743561896496e-06,\n",
       " 'vkusclubruu': 4.341901050434325e-06,\n",
       " 'odiss': 4.767255061845043e-06,\n",
       " 'o7831505': 4.135849069227052e-06,\n",
       " 'dice_dragon': 4.464196540456912e-06,\n",
       " 'mlk': 3.991643061279934e-06,\n",
       " 'germafrodita': 4.1611343452002625e-06,\n",
       " 'madmcmurphy': 4.8315090552400785e-06,\n",
       " 'wil_keys': 4.513404593265918e-06,\n",
       " 'tamara_fishka': 1.2271193858007502e-05,\n",
       " 'drop13': 4.34743561896496e-06,\n",
       " 'duhonavt': 4.800586885685576e-06,\n",
       " 'a_tanka': 4.502553679862739e-06,\n",
       " 'copperlady': 4.4698049264377494e-06,\n",
       " 'pinagor': 4.140467932709657e-06,\n",
       " 'moskau13': 4.520318855593114e-06,\n",
       " 'kinonochi': 4.61641631614011e-06,\n",
       " 'capri25': 1.5980590670539094e-05,\n",
       " 'jimmyab': 4.276152059800469e-06,\n",
       " 'bandacollection': 4.140467932709657e-06,\n",
       " 'jimbolaya': 3.823199756695898e-06,\n",
       " 'totochenka': 1.1435911171666846e-05,\n",
       " 'superfuzzsk': 4.464196540456912e-06,\n",
       " 'moderndayeve': 4.262257332847397e-06,\n",
       " 'levg': 3.991643061279934e-06,\n",
       " '40ina': 6.385773473575157e-06,\n",
       " 'lightjedi': 7.609948376653324e-06,\n",
       " 'shturmtrooper': 4.274239474984632e-06,\n",
       " 'marsik92': 4.334112271383637e-06,\n",
       " 'maxefimov': 4.143163427958748e-06,\n",
       " 'taiellor': 4.464196540456912e-06,\n",
       " 'tozhe_tut': 5.02396757665591e-06,\n",
       " 'bssdj3': 4.1870710432170185e-06,\n",
       " 'apakova': 4.209712199688779e-06,\n",
       " 'marushka77': 4.269631347969028e-06,\n",
       " 'danasha': 6.729446174635559e-06,\n",
       " 'skyth666': 4.8593411579519646e-06,\n",
       " 'mturtle': 9.434700319192992e-06,\n",
       " 'honey_lana': 6.71352004085284e-06,\n",
       " 'nabitashka': 4.091343196702719e-06,\n",
       " 'valyell': 4.334112271383637e-06,\n",
       " 'daliah_dr': 4.247864552195891e-06,\n",
       " 'nezametny': 9.832152810823486e-06,\n",
       " 'u_mol4anova': 4.886496483494991e-06,\n",
       " 'immoralist': 6.263222859139896e-05,\n",
       " 'elenran': 4.2561681919184305e-06,\n",
       " 'stas_kushnarov': 4.886496483494991e-06,\n",
       " 'garpoon': 4.360860392657298e-06,\n",
       " 'yarika': 4.904335831049245e-06,\n",
       " 'digitalys': 1.1827293982677378e-05,\n",
       " 'co1ombina': 4.276152059800469e-06,\n",
       " 'mozyakov': 3.924505232852876e-06,\n",
       " 'for1000': 4.9283730908144685e-06,\n",
       " 'ashley_usa': 5.3553968853844005e-06,\n",
       " 'italyan': 4.464196540456912e-06,\n",
       " 'gomza': 9.944962354475543e-06,\n",
       " 'getover': 4.944713967397548e-06,\n",
       " 'max_i_m': 6.225174158230659e-06,\n",
       " 'loki_warfarer': 4.8315090552400785e-06,\n",
       " 'annitta': 6.639526980742247e-06,\n",
       " 'cymere4nar': 4.582641766511377e-06,\n",
       " 'besisland': 4.07120108587826e-06,\n",
       " 'bailagatita': 9.138615113026439e-06,\n",
       " 'israeliada': 4.262257332847397e-06,\n",
       " 'lord_nevil': 5.30467872760654e-06,\n",
       " 'kolowrat_artem': 4.312202329663572e-06,\n",
       " 'fedechko': 4.341901050434325e-06,\n",
       " 'miredo': 9.304813622169932e-06,\n",
       " 'magistra_1986': 4.156565688788762e-06,\n",
       " 'velik': 7.16997849341626e-06,\n",
       " 'bird_of_sea': 4.34743561896496e-06,\n",
       " 'algrider': 4.9283730908144685e-06,\n",
       " 'axeoxe': 1.2408644353855509e-05,\n",
       " 'yren1981': 4.312202329663572e-06,\n",
       " 'honeysucle': 4.4446781919408945e-06,\n",
       " 'proch': 2.4940290434656443e-05,\n",
       " 'boumsong': 4.954506218649325e-06,\n",
       " 'tashka_talmon': 1.541772012452929e-05,\n",
       " 'ocmoc': 4.1870710432170185e-06,\n",
       " 'crazy_chaplin': 5.30467872760654e-06,\n",
       " 'mnogolimnenado': 4.066096443121818e-06,\n",
       " 'apelsinovna': 4.248777192522627e-06,\n",
       " 'jw61': 4.002761173833575e-06,\n",
       " 'niffiwan': 4.255350821887454e-06,\n",
       " 'dixiegvo': 4.248777192522627e-06,\n",
       " 'liskai': 3.924505232852876e-06,\n",
       " 'urus_dervish': 3.7430796443528583e-06,\n",
       " 'dimka_plotnikov': 4.752177377174785e-06,\n",
       " 'nkb': 7.042820695894246e-06,\n",
       " 'zdroid': 4.904335831049245e-06,\n",
       " 'mrs_maggy_may': 9.54429878914487e-06,\n",
       " 'john_green': 3.924505232852876e-06,\n",
       " 'notka_': 4.027165871445291e-06,\n",
       " 'umamuma': 1.1027023468651569e-05,\n",
       " 'andrey_60': 4.464196540456912e-06,\n",
       " 'dasgert': 4.2561681919184305e-06,\n",
       " 'trustix': 9.151717639645398e-06,\n",
       " 'sceptic_rus': 2.6429178312822092e-05,\n",
       " ...}"
      ]
     },
     "execution_count": 34,
     "metadata": {},
     "output_type": "execute_result"
    }
   ],
   "source": [
    "net.pagerank(net.Graph(g))"
   ]
  },
  {
   "cell_type": "code",
   "execution_count": null,
   "metadata": {
    "collapsed": true
   },
   "outputs": [],
   "source": []
  }
 ],
 "metadata": {
  "anaconda-cloud": {},
  "kernelspec": {
   "display_name": "Python [default]",
   "language": "python",
   "name": "python3"
  },
  "language_info": {
   "codemirror_mode": {
    "name": "ipython",
    "version": 3
   },
   "file_extension": ".py",
   "mimetype": "text/x-python",
   "name": "python",
   "nbconvert_exporter": "python",
   "pygments_lexer": "ipython3",
   "version": "3.5.1"
  }
 },
 "nbformat": 4,
 "nbformat_minor": 1
}
