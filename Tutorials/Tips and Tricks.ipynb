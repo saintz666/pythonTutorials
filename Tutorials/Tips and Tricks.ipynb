{
 "cells": [
  {
   "cell_type": "markdown",
   "metadata": {},
   "source": [
    "# Remove space and ?\n",
    "df.columns = [c.lower().replace(' ', '_').replace('?', '').replace(\"'\", \"\") for c in df.columns]"
   ]
  },
  {
   "cell_type": "markdown",
   "metadata": {},
   "source": [
    "# Change yes , no , true false to 0 and 1\n",
    "binary_columns = ['intl_plan', 'vmail_plan', 'churn']  \n",
    "\n",
    "for col in binary_columns:  \n",
    "    \n",
    "    df[col] = df[col].map({\n",
    "           \n",
    "           'no': 0\n",
    "       \n",
    "       ,   'False.': 0\n",
    "       \n",
    "       ,   'yes': 1\n",
    "       \n",
    "       ,   'True.': 1\n",
    "   \n",
    "   })"
   ]
  },
  {
   "cell_type": "code",
   "execution_count": null,
   "metadata": {
    "collapsed": true
   },
   "outputs": [],
   "source": []
  }
 ],
 "metadata": {
  "kernelspec": {
   "display_name": "Python 3",
   "language": "python",
   "name": "python3"
  },
  "language_info": {
   "codemirror_mode": {
    "name": "ipython",
    "version": 3
   },
   "file_extension": ".py",
   "mimetype": "text/x-python",
   "name": "python",
   "nbconvert_exporter": "python",
   "pygments_lexer": "ipython3",
   "version": "3.5.1"
  }
 },
 "nbformat": 4,
 "nbformat_minor": 0
}
