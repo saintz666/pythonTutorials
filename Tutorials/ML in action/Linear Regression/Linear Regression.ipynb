{
 "cells": [
  {
   "cell_type": "markdown",
   "metadata": {},
   "source": [
    "# Linear regression\n",
    "\n",
    "Pros: Easy to interpret results, computationally inexpensive\n",
    "\n",
    "Cons: Poorly models nonlinear data\n",
    "\n",
    "Works with: Numeric values, nominal values"
   ]
  },
  {
   "cell_type": "markdown",
   "metadata": {},
   "source": [
    "Our goal when using regression is to predict a numeric target value. One way to do\n",
    "this is to write out an equation for the target value with respect to the inputs. For\n",
    "example, assume you’re trying to forecast the horsepower of your sister’s boyfriend’s\n",
    "automobile. One possible equation is\n",
    "\n",
    "HorsePower = 0.0015*annualSalary - 0.99*hoursListeningToPublicRadio\n",
    "\n",
    "This is known as a regression equation. The values 0.0015 and -0.99 are known as regression\n",
    "weights. The process of finding these regression weights is called regression. Once\n",
    "you’ve found the regression weights, forecasting new values given a set of inputs is\n",
    "easy."
   ]
  },
  {
   "cell_type": "markdown",
   "metadata": {},
   "source": [
    "All you have to do is multiply the inputs by the regression weights and add them\n",
    "together to get a forecast."
   ]
  },
  {
   "cell_type": "markdown",
   "metadata": {},
   "source": [
    "### General approach to regression\n",
    "\n",
    "1. Collect: Any method.\n",
    "\n",
    "2. Prepare: We’ll need numeric values for regression. Nominal values should be\n",
    "mapped to binary values.\n",
    "\n",
    "3. Analyze: It’s helpful to visualized 2D plots. Also, we can visualize the regression\n",
    "weights if we apply shrinkage methods.\n",
    "\n",
    "4. Train: Find the regression weights.\n",
    "\n",
    "5. Test: We can measure the R2, or correlation of the predicted value and data, to\n",
    "measure the success of our models.\n",
    "\n",
    "6. Use: With regression, we can forecast a numeric value for a number of inputs.\n",
    "This is an improvement over classification because we’re predicting a continuous\n",
    "value rather than a discrete category.\n",
    "\n"
   ]
  },
  {
   "cell_type": "code",
   "execution_count": 2,
   "metadata": {
    "collapsed": true
   },
   "outputs": [],
   "source": [
    "from numpy import *\n",
    "\n",
    "def loadDataSet(fileName):      #general function to parse tab -delimited floats\n",
    "    numFeat = len(open(fileName).readline().split('\\t')) - 1 #get number of fields \n",
    "    dataMat = []; labelMat = []\n",
    "    fr = open(fileName)\n",
    "    for line in fr.readlines():\n",
    "        lineArr =[]\n",
    "        curLine = line.strip().split('\\t')\n",
    "        for i in range(numFeat):\n",
    "            lineArr.append(float(curLine[i]))\n",
    "        dataMat.append(lineArr)\n",
    "        labelMat.append(float(curLine[-1]))\n",
    "    return dataMat,labelMat"
   ]
  },
  {
   "cell_type": "markdown",
   "metadata": {},
   "source": [
    "StandRegres(), is the function that computes the\n",
    "best-fit line. You first load the x and y arrays and then convert them into matrices.\n",
    "Next you compute XTX and then test if its determinate is zero. If the determinate\n",
    "is zero, then you’ll get an error when you try to compute the inverse."
   ]
  },
  {
   "cell_type": "code",
   "execution_count": 4,
   "metadata": {
    "collapsed": true
   },
   "outputs": [],
   "source": [
    "def standRegres(xArr,yArr):\n",
    "    xMat = mat(xArr); yMat = mat(yArr).T\n",
    "    \n",
    "    xTx = xMat.T*xMat\n",
    "    if linalg.det(xTx) == 0.0:\n",
    "        print (\"This matrix is singular, cannot do inverse\")\n",
    "        return\n",
    "    #for solving unknown matrices: ws = linalg.solve(xTx,xMat.T*yMatT)\n",
    "    ws = xTx.I * (xMat.T*yMat)\n",
    "    return ws"
   ]
  },
  {
   "cell_type": "code",
   "execution_count": 5,
   "metadata": {
    "collapsed": true
   },
   "outputs": [],
   "source": [
    "xArr,yArr=loadDataSet('ex0.txt')"
   ]
  },
  {
   "cell_type": "code",
   "execution_count": 13,
   "metadata": {
    "collapsed": false
   },
   "outputs": [
    {
     "data": {
      "text/plain": [
       "[[1.0, 0.067732], [1.0, 0.42781]]"
      ]
     },
     "execution_count": 13,
     "metadata": {},
     "output_type": "execute_result"
    }
   ],
   "source": [
    "xArr[0:2]"
   ]
  },
  {
   "cell_type": "code",
   "execution_count": 7,
   "metadata": {
    "collapsed": true
   },
   "outputs": [],
   "source": [
    "ws = standRegres(xArr,yArr)"
   ]
  },
  {
   "cell_type": "code",
   "execution_count": 8,
   "metadata": {
    "collapsed": false
   },
   "outputs": [
    {
     "data": {
      "text/plain": [
       "matrix([[ 3.00774324],\n",
       "        [ 1.69532264]])"
      ]
     },
     "execution_count": 8,
     "metadata": {},
     "output_type": "execute_result"
    }
   ],
   "source": [
    "ws"
   ]
  },
  {
   "cell_type": "code",
   "execution_count": 14,
   "metadata": {
    "collapsed": true
   },
   "outputs": [],
   "source": [
    "xMat = mat(xArr)"
   ]
  },
  {
   "cell_type": "code",
   "execution_count": 15,
   "metadata": {
    "collapsed": true
   },
   "outputs": [],
   "source": [
    "yMat = mat(yArr)"
   ]
  },
  {
   "cell_type": "code",
   "execution_count": 16,
   "metadata": {
    "collapsed": true
   },
   "outputs": [],
   "source": [
    "yHat = xMat * ws"
   ]
  },
  {
   "cell_type": "code",
   "execution_count": 17,
   "metadata": {
    "collapsed": false
   },
   "outputs": [
    {
     "data": {
      "text/plain": [
       "matrix([[ 3.12257084],\n",
       "        [ 3.73301922],\n",
       "        [ 4.69582855],\n",
       "        [ 4.25946098],\n",
       "        [ 4.67099547],\n",
       "        [ 3.89977285],\n",
       "        [ 3.65007895],\n",
       "        [ 3.06514517],\n",
       "        [ 3.23286683],\n",
       "        [ 3.24221654],\n",
       "        [ 3.42785945],\n",
       "        [ 4.10677005],\n",
       "        [ 4.24737842],\n",
       "        [ 3.40925159],\n",
       "        [ 4.6518468 ],\n",
       "        [ 4.03763819],\n",
       "        [ 3.61572324],\n",
       "        [ 3.25838991],\n",
       "        [ 4.08905393],\n",
       "        [ 3.39829811],\n",
       "        [ 3.12681762],\n",
       "        [ 3.12159094],\n",
       "        [ 4.57689489],\n",
       "        [ 4.22453225],\n",
       "        [ 3.03380205],\n",
       "        [ 3.575795  ],\n",
       "        [ 3.07638008],\n",
       "        [ 3.36812645],\n",
       "        [ 4.05412689],\n",
       "        [ 3.92524508],\n",
       "        [ 3.08463121],\n",
       "        [ 3.22264573],\n",
       "        [ 3.95116656],\n",
       "        [ 4.53547307],\n",
       "        [ 4.63266931],\n",
       "        [ 3.47321272],\n",
       "        [ 3.67637171],\n",
       "        [ 4.48687834],\n",
       "        [ 3.70271024],\n",
       "        [ 4.54873897],\n",
       "        [ 3.29055527],\n",
       "        [ 4.13515992],\n",
       "        [ 3.4548456 ],\n",
       "        [ 3.39972557],\n",
       "        [ 3.9451346 ],\n",
       "        [ 3.08868473],\n",
       "        [ 3.62780072],\n",
       "        [ 3.84693134],\n",
       "        [ 3.84432733],\n",
       "        [ 4.35061   ],\n",
       "        [ 4.31256527],\n",
       "        [ 3.43466109],\n",
       "        [ 3.31620889],\n",
       "        [ 4.37786401],\n",
       "        [ 3.57417766],\n",
       "        [ 3.58183035],\n",
       "        [ 3.77501915],\n",
       "        [ 4.18560255],\n",
       "        [ 4.00951278],\n",
       "        [ 3.52978055],\n",
       "        [ 3.25926809],\n",
       "        [ 4.1981649 ],\n",
       "        [ 4.23099312],\n",
       "        [ 4.13833018],\n",
       "        [ 3.2195416 ],\n",
       "        [ 4.0559375 ],\n",
       "        [ 3.65380697],\n",
       "        [ 3.66153255],\n",
       "        [ 4.32530562],\n",
       "        [ 3.20455155],\n",
       "        [ 3.20353097],\n",
       "        [ 4.13260677],\n",
       "        [ 3.43985386],\n",
       "        [ 4.69270407],\n",
       "        [ 3.50859919],\n",
       "        [ 4.62257705],\n",
       "        [ 3.52828697],\n",
       "        [ 3.47779009],\n",
       "        [ 3.48090949],\n",
       "        [ 3.30565212],\n",
       "        [ 3.27286288],\n",
       "        [ 4.25069447],\n",
       "        [ 4.44561758],\n",
       "        [ 4.31514894],\n",
       "        [ 3.73587075],\n",
       "        [ 3.28268389],\n",
       "        [ 4.56246261],\n",
       "        [ 3.54184447],\n",
       "        [ 3.34930498],\n",
       "        [ 3.51131849],\n",
       "        [ 3.57846852],\n",
       "        [ 4.13701291],\n",
       "        [ 3.99762179],\n",
       "        [ 3.15189822],\n",
       "        [ 4.17244007],\n",
       "        [ 4.61771487],\n",
       "        [ 3.32970536],\n",
       "        [ 4.43864133],\n",
       "        [ 3.57277394],\n",
       "        [ 3.73170535],\n",
       "        [ 3.79838917],\n",
       "        [ 3.94128791],\n",
       "        [ 3.47940404],\n",
       "        [ 4.56535313],\n",
       "        [ 4.51074001],\n",
       "        [ 3.97320914],\n",
       "        [ 3.12027706],\n",
       "        [ 3.57694952],\n",
       "        [ 3.73141375],\n",
       "        [ 3.6786604 ],\n",
       "        [ 4.18467182],\n",
       "        [ 3.47015945],\n",
       "        [ 3.86132972],\n",
       "        [ 3.1215316 ],\n",
       "        [ 3.07271818],\n",
       "        [ 4.02344833],\n",
       "        [ 4.61330533],\n",
       "        [ 4.14577773],\n",
       "        [ 3.74488818],\n",
       "        [ 3.87130839],\n",
       "        [ 4.27828923],\n",
       "        [ 3.10609569],\n",
       "        [ 3.82654678],\n",
       "        [ 3.79907916],\n",
       "        [ 3.61427374],\n",
       "        [ 4.61681295],\n",
       "        [ 3.71523529],\n",
       "        [ 4.56822162],\n",
       "        [ 3.27294765],\n",
       "        [ 4.1209972 ],\n",
       "        [ 4.05277064],\n",
       "        [ 4.45457905],\n",
       "        [ 3.23372127],\n",
       "        [ 4.1826137 ],\n",
       "        [ 3.31027187],\n",
       "        [ 3.34600419],\n",
       "        [ 3.13188155],\n",
       "        [ 3.49347861],\n",
       "        [ 3.31633604],\n",
       "        [ 4.06142526],\n",
       "        [ 3.5919243 ],\n",
       "        [ 3.68342425],\n",
       "        [ 3.82212368],\n",
       "        [ 3.26772097],\n",
       "        [ 3.29907766],\n",
       "        [ 4.47772699],\n",
       "        [ 3.38724969],\n",
       "        [ 3.90338389],\n",
       "        [ 4.5169059 ],\n",
       "        [ 3.1880442 ],\n",
       "        [ 4.56385616],\n",
       "        [ 3.03292726],\n",
       "        [ 3.97014739],\n",
       "        [ 3.12447299],\n",
       "        [ 4.03092979],\n",
       "        [ 3.90973965],\n",
       "        [ 4.11201199],\n",
       "        [ 4.53561039],\n",
       "        [ 3.35416039],\n",
       "        [ 4.18782512],\n",
       "        [ 4.64190543],\n",
       "        [ 4.67151593],\n",
       "        [ 4.68257113],\n",
       "        [ 4.68771813],\n",
       "        [ 4.25553631],\n",
       "        [ 3.43763299],\n",
       "        [ 4.15161473],\n",
       "        [ 4.60027508],\n",
       "        [ 3.4068544 ],\n",
       "        [ 3.195112  ],\n",
       "        [ 3.37736257],\n",
       "        [ 4.48229758],\n",
       "        [ 3.3414336 ],\n",
       "        [ 4.6321641 ],\n",
       "        [ 4.6567378 ],\n",
       "        [ 4.27210978],\n",
       "        [ 3.76330447],\n",
       "        [ 3.80548918],\n",
       "        [ 3.93887547],\n",
       "        [ 3.5768478 ],\n",
       "        [ 4.5076613 ],\n",
       "        [ 4.56560234],\n",
       "        [ 3.75676222],\n",
       "        [ 3.20541447],\n",
       "        [ 3.61682859],\n",
       "        [ 4.38911078],\n",
       "        [ 3.66404502],\n",
       "        [ 4.67296204],\n",
       "        [ 4.33158679],\n",
       "        [ 4.11405146],\n",
       "        [ 4.4827248 ],\n",
       "        [ 4.03299809],\n",
       "        [ 3.44040992],\n",
       "        [ 4.24625442],\n",
       "        [ 3.84494273],\n",
       "        [ 3.44346998],\n",
       "        [ 4.42119307],\n",
       "        [ 3.12657688],\n",
       "        [ 3.90129695],\n",
       "        [ 3.20467701]])"
      ]
     },
     "execution_count": 17,
     "metadata": {},
     "output_type": "execute_result"
    }
   ],
   "source": []
  },
  {
   "cell_type": "code",
   "execution_count": 18,
   "metadata": {
    "collapsed": false
   },
   "outputs": [
    {
     "data": {
      "text/plain": [
       "<matplotlib.collections.PathCollection at 0x1801dec6a20>"
      ]
     },
     "execution_count": 18,
     "metadata": {},
     "output_type": "execute_result"
    },
    {
     "data": {
      "image/png": "[encoded data removed]",
      "text/plain": [
       "<matplotlib.figure.Figure at 0x1801b6c3160>"
      ]
     },
     "metadata": {},
     "output_type": "display_data"
    }
   ],
   "source": [
    "import matplotlib.pyplot as plt\n",
    "%matplotlib inline\n",
    "fig = plt.figure()\n",
    "ax = fig.add_subplot(111)\n",
    "ax.scatter(xMat[:,1].flatten().A[0],yMat.T[:,0].flatten().A[0])"
   ]
  },
  {
   "cell_type": "markdown",
   "metadata": {},
   "source": [
    "## To plot the best-line fit\n"
   ]
  },
  {
   "cell_type": "markdown",
   "metadata": {},
   "source": [
    "Pyplot will have a problem if the points on our\n",
    "line are out of order, so we first sort the points in ascending order"
   ]
  },
  {
   "cell_type": "code",
   "execution_count": 33,
   "metadata": {
    "collapsed": false
   },
   "outputs": [
    {
     "data": {
      "image/png": "[encoded data removed]",
      "text/plain": [
       "<matplotlib.figure.Figure at 0x1801e6427b8>"
      ]
     },
     "metadata": {},
     "output_type": "display_data"
    }
   ],
   "source": [
    "fig = plt.figure()\n",
    "ax = fig.add_subplot(111)\n",
    "ax.scatter(xMat[:,1].flatten().A[0],yMat.T[:,0].flatten().A[0])\n",
    "xCopy = xMat.copy()\n",
    "xCopy.sort(0)\n",
    "yHat = xCopy*ws\n",
    "ax.plot(xCopy[:,1],yHat)\n",
    "plt.show()"
   ]
  },
  {
   "cell_type": "code",
   "execution_count": 35,
   "metadata": {
    "collapsed": false
   },
   "outputs": [],
   "source": [
    "yHat = xMat*ws"
   ]
  },
  {
   "cell_type": "code",
   "execution_count": 36,
   "metadata": {
    "collapsed": false
   },
   "outputs": [
    {
     "data": {
      "text/plain": [
       "array([[ 1.        ,  0.98647356],\n",
       "       [ 0.98647356,  1.        ]])"
      ]
     },
     "execution_count": 36,
     "metadata": {},
     "output_type": "execute_result"
    }
   ],
   "source": [
    "corrcoef(yHat.T,yMat)"
   ]
  },
  {
   "cell_type": "markdown",
   "metadata": {},
   "source": [
    "This gives you the correlation between all possible pairs; elements on the diagonal\n",
    "are 1.0 because the correlation between yMat and yMat is perfect. The correlation\n",
    "between yHat and yMat is 0.98."
   ]
  },
  {
   "cell_type": "markdown",
   "metadata": {},
   "source": [
    "### Locally weighted linear regression"
   ]
  },
  {
   "cell_type": "markdown",
   "metadata": {},
   "source": [
    "One way to reduce the mean-squared error is a technique known as locally weighted\n",
    "linear regression (LWLR). In LWLR we give a weight to data points near our data point\n",
    "of interest; then we compute a least-squares regression. "
   ]
  },
  {
   "cell_type": "code",
   "execution_count": 38,
   "metadata": {
    "collapsed": false
   },
   "outputs": [],
   "source": [
    "#creates a diagonal weights matrix called weights\n",
    "def lwlr(testPoint,xArr,yArr,k=1.0):\n",
    "    xMat = mat(xArr); yMat = mat(yArr).T\n",
    "    m = shape(xMat)[0]\n",
    "    #The weights matrix is a square matrix with as many elements as data points. This assigns one weight to each\n",
    "    #data point.\n",
    "    weights = mat(eye((m)))\n",
    "    for j in range(m):                      #next 2 lines create weights matrix\n",
    "        diffMat = testPoint - xMat[j,:]     #\n",
    "        #The input k controls how quickly the decay happens. We have to specify it.\n",
    "        weights[j,j] = exp(diffMat*diffMat.T/(-2.0*k**2))\n",
    "    xTx = xMat.T * (weights * xMat)\n",
    "    if linalg.det(xTx) == 0.0:\n",
    "        print (\"This matrix is singular, cannot do inverse\")\n",
    "        return\n",
    "    ws = xTx.I * (xMat.T * (weights * yMat))\n",
    "    return testPoint * ws"
   ]
  },
  {
   "cell_type": "code",
   "execution_count": 40,
   "metadata": {
    "collapsed": true
   },
   "outputs": [],
   "source": [
    "#This is helpful for evaluating the size of k.\n",
    "def lwlrTest(testArr,xArr,yArr,k=1.0):  #loops over all the data points and applies lwlr to each one\n",
    "    m = shape(testArr)[0]\n",
    "    yHat = zeros(m)\n",
    "    for i in range(m):\n",
    "        yHat[i] = lwlr(testArr[i],xArr,yArr,k)\n",
    "    return yHat"
   ]
  },
  {
   "cell_type": "code",
   "execution_count": 41,
   "metadata": {
    "collapsed": false
   },
   "outputs": [
    {
     "data": {
      "text/plain": [
       "3.176513"
      ]
     },
     "execution_count": 41,
     "metadata": {},
     "output_type": "execute_result"
    }
   ],
   "source": [
    "#estimate a single point with the following\n",
    "yArr[0]"
   ]
  },
  {
   "cell_type": "code",
   "execution_count": 42,
   "metadata": {
    "collapsed": false
   },
   "outputs": [
    {
     "data": {
      "text/plain": [
       "matrix([[ 3.12204471]])"
      ]
     },
     "execution_count": 42,
     "metadata": {},
     "output_type": "execute_result"
    }
   ],
   "source": [
    "lwlr(xArr[0],xArr,yArr,1.0)"
   ]
  },
  {
   "cell_type": "code",
   "execution_count": 43,
   "metadata": {
    "collapsed": false
   },
   "outputs": [
    {
     "data": {
      "text/plain": [
       "matrix([[ 3.20175729]])"
      ]
     },
     "execution_count": 43,
     "metadata": {},
     "output_type": "execute_result"
    }
   ],
   "source": [
    "lwlr(xArr[0],xArr,yArr,0.001)"
   ]
  },
  {
   "cell_type": "markdown",
   "metadata": {},
   "source": [
    "#### To get an estimate for all the points in our dataset, you can use lwlrTest()"
   ]
  },
  {
   "cell_type": "code",
   "execution_count": 68,
   "metadata": {
    "collapsed": true
   },
   "outputs": [],
   "source": [
    "yHat = lwlrTest(xArr, xArr, yArr,0.003)"
   ]
  },
  {
   "cell_type": "code",
   "execution_count": 61,
   "metadata": {
    "collapsed": false
   },
   "outputs": [
    {
     "data": {
      "image/png": "[encoded data removed]",
      "text/plain": [
       "<matplotlib.figure.Figure at 0x1801e718668>"
      ]
     },
     "metadata": {},
     "output_type": "display_data"
    }
   ],
   "source": [
    "import matplotlib.pyplot as plt\n",
    "xMat = mat(xArr)\n",
    "srtInd = xMat[:,1].argsort(0)\n",
    "xSort = xMat[srtInd][:,0,:]\n",
    "fig = plt.figure()\n",
    "ax = fig.add_subplot(111)\n",
    "ax.plot(xSort[:,1],yHat[srtInd])\n",
    "ax.scatter(xMat[:,1].flatten().A[0], mat(yArr).T.flatten().A[0] , s=5,\n",
    "c='red')\n",
    "plt.show()"
   ]
  },
  {
   "cell_type": "markdown",
   "metadata": {},
   "source": [
    "With k=1.0, the weights are so large\n",
    "that they appear to weight all the data equally, and you have the same best-fit line as\n",
    "using standard regression."
   ]
  },
  {
   "cell_type": "code",
   "execution_count": 63,
   "metadata": {
    "collapsed": false
   },
   "outputs": [
    {
     "data": {
      "image/png": "[encoded data removed]",
      "text/plain": [
       "<matplotlib.figure.Figure at 0x1802052e6a0>"
      ]
     },
     "metadata": {},
     "output_type": "display_data"
    }
   ],
   "source": [
    "import matplotlib.pyplot as plt\n",
    "xMat = mat(xArr)\n",
    "srtInd = xMat[:,1].argsort(0)\n",
    "xSort = xMat[srtInd][:,0,:]\n",
    "fig = plt.figure()\n",
    "ax = fig.add_subplot(111)\n",
    "ax.plot(xSort[:,1],yHat[srtInd])\n",
    "ax.scatter(xMat[:,1].flatten().A[0], mat(yArr).T.flatten().A[0] , s=5,\n",
    "c='red')\n",
    "plt.show()"
   ]
  },
  {
   "cell_type": "markdown",
   "metadata": {},
   "source": [
    "Using k=0.01 does a much better job of capturing the\n",
    "underlying pattern in the data."
   ]
  },
  {
   "cell_type": "code",
   "execution_count": 69,
   "metadata": {
    "collapsed": false
   },
   "outputs": [
    {
     "data": {
      "image/png": "[encoded data removed]",
      "text/plain": [
       "<matplotlib.figure.Figure at 0x1801e6340f0>"
      ]
     },
     "metadata": {},
     "output_type": "display_data"
    }
   ],
   "source": [
    "import matplotlib.pyplot as plt\n",
    "xMat = mat(xArr)\n",
    "srtInd = xMat[:,1].argsort(0)\n",
    "xSort = xMat[srtInd][:,0,:]\n",
    "fig = plt.figure()\n",
    "ax = fig.add_subplot(111)\n",
    "ax.plot(xSort[:,1],yHat[srtInd])\n",
    "ax.scatter(xMat[:,1].flatten().A[0], mat(yArr).T.flatten().A[0] , s=5,\n",
    "c='red')\n",
    "plt.show()"
   ]
  },
  {
   "cell_type": "markdown",
   "metadata": {},
   "source": [
    "Using k=0.003. This is\n",
    "too noisy and fits the line closely to the data. \n",
    "k = 0.003 is an example of overfitting, whereas k = 1.0 is an example of underfitting."
   ]
  },
  {
   "cell_type": "code",
   "execution_count": 71,
   "metadata": {
    "collapsed": true
   },
   "outputs": [],
   "source": [
    "def lwlrTestPlot(xArr,yArr,k=1.0):  #same thing as lwlrTest except it sorts X first\n",
    "    yHat = zeros(shape(yArr))       #easier for plotting\n",
    "    xCopy = mat(xArr)\n",
    "    xCopy.sort(0)\n",
    "    for i in range(shape(xArr)[0]):\n",
    "        yHat[i] = lwlr(xCopy[i],xArr,yArr,k)\n",
    "    return yHat,xCopy"
   ]
  },
  {
   "cell_type": "markdown",
   "metadata": {},
   "source": [
    "### rssError() will give us a single number describing the error of our estimate"
   ]
  },
  {
   "cell_type": "code",
   "execution_count": 72,
   "metadata": {
    "collapsed": true
   },
   "outputs": [],
   "source": [
    "def rssError(yArr,yHatArr): #yArr and yHatArr both need to be arrays\n",
    "    return ((yArr-yHatArr)**2).sum()"
   ]
  },
  {
   "cell_type": "code",
   "execution_count": 73,
   "metadata": {
    "collapsed": true
   },
   "outputs": [],
   "source": [
    "abX,abY=loadDataSet('abalone.txt')"
   ]
  },
  {
   "cell_type": "code",
   "execution_count": 81,
   "metadata": {
    "collapsed": false
   },
   "outputs": [],
   "source": [
    "yHat01 = lwlrTest(abX[0:99],abX[0:99],abY[0:99],0.1)"
   ]
  },
  {
   "cell_type": "code",
   "execution_count": 82,
   "metadata": {
    "collapsed": false
   },
   "outputs": [],
   "source": [
    "yHat1 = lwlrTest(abX[0:99],abX[0:99],abY[0:99],1)"
   ]
  },
  {
   "cell_type": "code",
   "execution_count": 83,
   "metadata": {
    "collapsed": true
   },
   "outputs": [],
   "source": [
    "yHat10 = lwlrTest(abX[0:99],abX[0:99],abY[0:99],10)"
   ]
  },
  {
   "cell_type": "code",
   "execution_count": 84,
   "metadata": {
    "collapsed": false
   },
   "outputs": [
    {
     "data": {
      "text/plain": [
       "56.804197255611498"
      ]
     },
     "execution_count": 84,
     "metadata": {},
     "output_type": "execute_result"
    }
   ],
   "source": [
    "rssError(abY[0:99],yHat01.T)"
   ]
  },
  {
   "cell_type": "code",
   "execution_count": 85,
   "metadata": {
    "collapsed": false
   },
   "outputs": [
    {
     "data": {
      "text/plain": [
       "429.8905618702197"
      ]
     },
     "execution_count": 85,
     "metadata": {},
     "output_type": "execute_result"
    }
   ],
   "source": [
    "rssError(abY[0:99],yHat1.T)"
   ]
  },
  {
   "cell_type": "code",
   "execution_count": 86,
   "metadata": {
    "collapsed": false
   },
   "outputs": [
    {
     "data": {
      "text/plain": [
       "549.11817088267856"
      ]
     },
     "execution_count": 86,
     "metadata": {},
     "output_type": "execute_result"
    }
   ],
   "source": [
    "rssError(abY[0:99],yHat10.T)"
   ]
  },
  {
   "cell_type": "markdown",
   "metadata": {},
   "source": [
    "Using a smaller kernel will give us a lower error, so why don’t we use the smallest\n",
    "kernel all the time? Using the smallest kernel will overfit our data."
   ]
  },
  {
   "cell_type": "markdown",
   "metadata": {},
   "source": [
    "### Prediction on new data"
   ]
  },
  {
   "cell_type": "code",
   "execution_count": 93,
   "metadata": {
    "collapsed": true
   },
   "outputs": [],
   "source": [
    "yHat01=lwlrTest(abX[100:199],abX[0:99],abY[0:99],0.1)"
   ]
  },
  {
   "cell_type": "code",
   "execution_count": 95,
   "metadata": {
    "collapsed": true
   },
   "outputs": [],
   "source": [
    "yHat1=lwlrTest(abX[100:199],abX[0:99],abY[0:99],1)"
   ]
  },
  {
   "cell_type": "code",
   "execution_count": 90,
   "metadata": {
    "collapsed": true
   },
   "outputs": [],
   "source": [
    "yHat10=lwlrTest(abX[100:199],abX[0:99],abY[0:99],10)"
   ]
  },
  {
   "cell_type": "code",
   "execution_count": 94,
   "metadata": {
    "collapsed": false
   },
   "outputs": [
    {
     "data": {
      "text/plain": [
       "106085.40657203968"
      ]
     },
     "execution_count": 94,
     "metadata": {},
     "output_type": "execute_result"
    }
   ],
   "source": [
    "rssError(abY[100:199],yHat01.T)"
   ]
  },
  {
   "cell_type": "code",
   "execution_count": 96,
   "metadata": {
    "collapsed": false
   },
   "outputs": [
    {
     "data": {
      "text/plain": [
       "573.5261441895799"
      ]
     },
     "execution_count": 96,
     "metadata": {},
     "output_type": "execute_result"
    }
   ],
   "source": [
    "rssError(abY[100:199],yHat1.T)"
   ]
  },
  {
   "cell_type": "code",
   "execution_count": 97,
   "metadata": {
    "collapsed": false
   },
   "outputs": [
    {
     "data": {
      "text/plain": [
       "517.57119053828137"
      ]
     },
     "execution_count": 97,
     "metadata": {},
     "output_type": "execute_result"
    }
   ],
   "source": [
    "rssError(abY[100:199],yHat10.T)"
   ]
  },
  {
   "cell_type": "markdown",
   "metadata": {},
   "source": [
    "This is our test error, and the smallest value of the test error\n",
    "occurred with a kernel size of 10. The kernel size of 10 gave us the largest training\n",
    "error. Let’s see how these errors compare to our simple linear regression:"
   ]
  },
  {
   "cell_type": "code",
   "execution_count": 98,
   "metadata": {
    "collapsed": false
   },
   "outputs": [
    {
     "data": {
      "text/plain": [
       "518.63631532533987"
      ]
     },
     "execution_count": 98,
     "metadata": {},
     "output_type": "execute_result"
    }
   ],
   "source": [
    "ws = standRegres(abX[0:99],abY[0:99])\n",
    "yHat=mat(abX[100:199])*ws\n",
    "rssError(abY[100:199],yHat.T.A)"
   ]
  },
  {
   "cell_type": "markdown",
   "metadata": {},
   "source": [
    "Simple linear regression did almost as well as the locally weighted linear regression.\n",
    "This demonstration illustrates one fact, and that is that in order to choose the best\n",
    "model you have to see how the model does on unknown data."
   ]
  },
  {
   "cell_type": "markdown",
   "metadata": {},
   "source": [
    "## Shrinking coefficients to understand our data"
   ]
  },
  {
   "cell_type": "markdown",
   "metadata": {},
   "source": [
    "### Ridge regression"
   ]
  },
  {
   "cell_type": "markdown",
   "metadata": {},
   "source": [
    "If we have more features than data points (n>m), we say that our data matrix X isn’t\n",
    "full rank. When the data isn’t full rank, we’ll have a difficult time computing the\n",
    "inverse.\n",
    "Ridge regression adds an additional matrix to the matrix so that it’s non-singular."
   ]
  },
  {
   "cell_type": "markdown",
   "metadata": {},
   "source": [
    "it can also be used to add bias into our estimations, giving\n",
    "us a better estimate."
   ]
  },
  {
   "cell_type": "markdown",
   "metadata": {},
   "source": [
    "ridgeRegres(), implements ridge regression for any given\n",
    "value of lambda. If no value is given, lambda defaults to 0.2"
   ]
  },
  {
   "cell_type": "code",
   "execution_count": 99,
   "metadata": {
    "collapsed": true
   },
   "outputs": [],
   "source": [
    "def ridgeRegres(xMat,yMat,lam=0.2):\n",
    "    xTx = xMat.T*xMat\n",
    "    denom = xTx + eye(shape(xMat)[1])*lam\n",
    "    if linalg.det(denom) == 0.0:\n",
    "        print (\"This matrix is singular, cannot do inverse\")\n",
    "        return\n",
    "    ws = denom.I * (xMat.T*yMat)\n",
    "    return ws"
   ]
  },
  {
   "cell_type": "markdown",
   "metadata": {},
   "source": [
    "To use ridge regression and all shrinkage methods, you need to first normalize your\n",
    "features.\n",
    "\n",
    "ridgeTest(), shows an example of how to normalize the data. This\n",
    "is done by subtracting off the mean from each feature and dividing by the variance\n",
    "\n",
    "After the regularization is done, you call ridgeRegres() with 30 different lambda\n",
    "values. The values vary exponentially so that you can see how very small values of\n",
    "lambda and very large values impact your results. The weights are packed into a\n",
    "matrix and returned."
   ]
  },
  {
   "cell_type": "code",
   "execution_count": 101,
   "metadata": {
    "collapsed": true
   },
   "outputs": [],
   "source": [
    "def ridgeTest(xArr,yArr):\n",
    "    xMat = mat(xArr); yMat=mat(yArr).T\n",
    "    yMean = mean(yMat,0)\n",
    "    yMat = yMat - yMean     #to eliminate X0 take mean off of Y\n",
    "    #regularize X's\n",
    "    xMeans = mean(xMat,0)   #calc mean then subtract it off\n",
    "    xVar = var(xMat,0)      #calc variance of Xi then divide by it\n",
    "    xMat = (xMat - xMeans)/xVar\n",
    "    numTestPts = 30\n",
    "    wMat = zeros((numTestPts,shape(xMat)[1]))\n",
    "    for i in range(numTestPts):\n",
    "        ws = ridgeRegres(xMat,yMat,exp(i-10))\n",
    "        wMat[i,:]=ws.T\n",
    "    return wMat\n"
   ]
  },
  {
   "cell_type": "code",
   "execution_count": 102,
   "metadata": {
    "collapsed": true
   },
   "outputs": [],
   "source": [
    "ridgeWeights = ridgeTest(abX,abY)"
   ]
  },
  {
   "cell_type": "code",
   "execution_count": 105,
   "metadata": {
    "collapsed": false
   },
   "outputs": [
    {
     "data": {
      "image/png": "[encoded data removed]",
      "text/plain": [
       "<matplotlib.figure.Figure at 0x18020695668>"
      ]
     },
     "metadata": {},
     "output_type": "display_data"
    }
   ],
   "source": [
    "fig = plt.figure()\n",
    "ax = fig.add_subplot(111)\n",
    "ax.plot(ridgeWeights)\n",
    "plt.ylabel('Regression coeficients')\n",
    "plt.xlabel('log(lambda)')\n",
    "plt.show()"
   ]
  },
  {
   "cell_type": "markdown",
   "metadata": {},
   "source": [
    "On the very left where lambda is the smallest, you have the full values of our coefficients, which are the same as linear regression. On the\n",
    "right side, the coefficients are all zero. Somewhere in the middle, you have some coefficient\n",
    "values that will give you better prediction results. To find satisfactory answers,\n",
    "you’d need to do cross-validation testing."
   ]
  },
  {
   "cell_type": "markdown",
   "metadata": {},
   "source": [
    "There are other shrinkage methods such as the lasso, LAR, PCA regression and\n",
    "subset selection.\n",
    "\n",
    "When two or more of the features are correlated, we may have a very large positive\n",
    "weight and a very large negative weight using regular least-squares regression. By\n",
    "using ridge regression we’re avoiding this problem because the weights are subject to\n",
    "the previous constraint."
   ]
  },
  {
   "cell_type": "markdown",
   "metadata": {},
   "source": [
    "### The lasso"
   ]
  },
  {
   "cell_type": "markdown",
   "metadata": {},
   "source": [
    "The lasso imposes a different constraint on the weights. We’re taking the absolute value instead of the square of all\n",
    "the weights as in Ridge Regresssion.\n",
    "\n",
    "Using a slightly different constraint will give us different results. If  is\n",
    "small enough, some of the weights are forced to be exactly 0, which makes it easier to\n",
    "understand our data.\n",
    "\n"
   ]
  },
  {
   "cell_type": "markdown",
   "metadata": {},
   "source": [
    "## Forward stagewise regression"
   ]
  },
  {
   "cell_type": "markdown",
   "metadata": {},
   "source": [
    "A greedy algorithm in that at each step it makes the\n",
    "decision that will reduce the error the most at that step. Initially, all the weights are\n",
    "set to 0. The decision that’s made at each step is increasing or decreasing a weight\n",
    "by some small amount.\n",
    "\n",
    "Pseudo-code would look like this:\n",
    "\n",
    "Regularize the data to have 0 mean and unit variance\n",
    "\n",
    "For every iteration:\n",
    "\n",
    "    Set lowestError to + infinity\n",
    "\n",
    "    For every feature:\n",
    "\n",
    "        For increasing and decreasing:\n",
    "        \n",
    "            Change one coefficient to get a new W\n",
    "\n",
    "            Calculate the Error with new W\n",
    "            \n",
    "            If the Error is lower than lowestError: set Wbest to the current W\n",
    "\n",
    "        Update set W to Wbest"
   ]
  },
  {
   "cell_type": "code",
   "execution_count": 107,
   "metadata": {
    "collapsed": true
   },
   "outputs": [],
   "source": [
    "def regularize(xMat):#regularize by columns\n",
    "    inMat = xMat.copy()\n",
    "    inMeans = mean(inMat,0)   #calc mean then subtract it off\n",
    "    inVar = var(inMat,0)      #calc variance of Xi then divide by it\n",
    "    inMat = (inMat - inMeans)/inVar\n",
    "    return inMat"
   ]
  },
  {
   "cell_type": "code",
   "execution_count": 118,
   "metadata": {
    "collapsed": true
   },
   "outputs": [],
   "source": [
    "def stageWise(xArr,yArr,eps=0.01,numIt=100):\n",
    "    xMat = mat(xArr); yMat=mat(yArr).T\n",
    "    yMean = mean(yMat,0)\n",
    "    yMat = yMat - yMean     #can also regularize ys but will get smaller coef\n",
    "    xMat = regularize(xMat)\n",
    "    m,n=shape(xMat)\n",
    "    returnMat = zeros((numIt,n)) #testing code remove\n",
    "    #ws, to hold our w values,and you create two copies for use in the greedy optimization.\n",
    "    ws = zeros((n,1)); wsTest = ws.copy(); wsMax = ws.copy()\n",
    "    for i in range(numIt):\n",
    "        #print out the w vector so you have some idea what’s going on inside\n",
    "        #print (ws.T)\n",
    "        lowestError = inf; \n",
    "        for j in range(n):\n",
    "            for sign in [-1,1]:\n",
    "                wsTest = ws.copy()\n",
    "                wsTest[j] += eps*sign\n",
    "                yTest = xMat*wsTest\n",
    "                #The error is measured by the squared error, which is calculated by the rssError() function\n",
    "                rssE = rssError(yMat.A,yTest.A)\n",
    "                if rssE < lowestError:\n",
    "                    lowestError = rssE\n",
    "                    wsMax = wsTest\n",
    "        ws = wsMax.copy()\n",
    "        returnMat[i,:]=ws.T\n",
    "    return returnMat"
   ]
  },
  {
   "cell_type": "code",
   "execution_count": 119,
   "metadata": {
    "collapsed": false
   },
   "outputs": [],
   "source": [
    "xArr,yArr=loadDataSet('abalone.txt')"
   ]
  },
  {
   "cell_type": "code",
   "execution_count": 120,
   "metadata": {
    "collapsed": false
   },
   "outputs": [
    {
     "data": {
      "text/plain": [
       "array([[ 0.  ,  0.  ,  0.  , ...,  0.  ,  0.  ,  0.  ],\n",
       "       [ 0.  ,  0.  ,  0.  , ...,  0.  ,  0.  ,  0.  ],\n",
       "       [ 0.  ,  0.  ,  0.  , ...,  0.  ,  0.  ,  0.  ],\n",
       "       ..., \n",
       "       [ 0.05,  0.  ,  0.09, ..., -0.64,  0.  ,  0.36],\n",
       "       [ 0.04,  0.  ,  0.09, ..., -0.64,  0.  ,  0.36],\n",
       "       [ 0.05,  0.  ,  0.09, ..., -0.64,  0.  ,  0.36]])"
      ]
     },
     "execution_count": 120,
     "metadata": {},
     "output_type": "execute_result"
    }
   ],
   "source": [
    "stageWise(xArr,yArr,0.01,200)"
   ]
  },
  {
   "cell_type": "markdown",
   "metadata": {},
   "source": [
    "One thing to notice is that w1 and w6 are exactly 0. This means they don’t contribute\n",
    "anything to the result. These variables are probably not needed"
   ]
  },
  {
   "cell_type": "markdown",
   "metadata": {},
   "source": [
    "With the eps variable\n",
    "set to 0.01, after some time the coefficients will all saturate and oscillate between certain\n",
    "values because the step size is too large. Here you can see that the first weight is\n",
    "oscillating between 0.04 and 0.005.\n",
    "\n",
    "Let’s try again with a smaller step size and many more steps:"
   ]
  },
  {
   "cell_type": "code",
   "execution_count": 122,
   "metadata": {
    "collapsed": false
   },
   "outputs": [
    {
     "data": {
      "text/plain": [
       "array([[ 0.   ,  0.   ,  0.   , ...,  0.   ,  0.   ,  0.   ],\n",
       "       [ 0.   ,  0.   ,  0.   , ...,  0.   ,  0.   ,  0.   ],\n",
       "       [ 0.   ,  0.   ,  0.   , ...,  0.   ,  0.   ,  0.   ],\n",
       "       ..., \n",
       "       [ 0.043, -0.011,  0.12 , ..., -0.963, -0.105,  0.187],\n",
       "       [ 0.044, -0.011,  0.12 , ..., -0.963, -0.105,  0.187],\n",
       "       [ 0.043, -0.011,  0.12 , ..., -0.963, -0.105,  0.187]])"
      ]
     },
     "execution_count": 122,
     "metadata": {},
     "output_type": "execute_result"
    }
   ],
   "source": [
    "stageWise(xArr,yArr,0.001,5000)"
   ]
  },
  {
   "cell_type": "markdown",
   "metadata": {},
   "source": [
    "###### Let’s compare these answers to the least-squares weights."
   ]
  },
  {
   "cell_type": "code",
   "execution_count": 125,
   "metadata": {
    "collapsed": false
   },
   "outputs": [
    {
     "data": {
      "text/plain": [
       "matrix([[ 0.0430442 , -0.02274163,  0.13214087,  0.02075182,  2.22403814,\n",
       "         -0.99895312, -0.11725427,  0.16622915]])"
      ]
     },
     "execution_count": 125,
     "metadata": {},
     "output_type": "execute_result"
    }
   ],
   "source": [
    "xMat=mat(xArr)\n",
    "yMat=mat(yArr).T\n",
    "xMat=regularize(xMat)\n",
    "yM = mean(yMat,0)\n",
    "yMat = yMat - yM\n",
    "weights=standRegres(xMat,yMat.T)\n",
    "weights.T"
   ]
  },
  {
   "cell_type": "markdown",
   "metadata": {},
   "source": [
    "The benefit is this algorithm allows\n",
    "you to better understand your models and build better models. When building a\n",
    "model, you’d want to run this algorithm and find out which features are important.\n",
    "You may choose to stop collecting data for unimportant features. Ultimately, you’d\n",
    "want to build many models with w values from the algorithm and after every 100 iterations\n",
    "test these. To test these models, you’d do something like tenfold cross validation\n",
    "and choose the model that minimizes error."
   ]
  },
  {
   "cell_type": "code",
   "execution_count": null,
   "metadata": {
    "collapsed": true
   },
   "outputs": [],
   "source": []
  }
 ],
 "metadata": {
  "kernelspec": {
   "display_name": "Python 3",
   "language": "python",
   "name": "python3"
  },
  "language_info": {
   "codemirror_mode": {
    "name": "ipython",
    "version": 3
   },
   "file_extension": ".py",
   "mimetype": "text/x-python",
   "name": "python",
   "nbconvert_exporter": "python",
   "pygments_lexer": "ipython3",
   "version": "3.5.1"
  }
 },
 "nbformat": 4,
 "nbformat_minor": 0
}
