{
 "cells": [
  {
   "cell_type": "markdown",
   "metadata": {},
   "source": [
    "# Tree-based regression\n",
    "\n",
    "Pros: Fits complex, nonlinear data\n",
    "\n",
    "Cons: Difficult to interpret results\n",
    "\n",
    "Works with: Numeric values, nominal values"
   ]
  },
  {
   "cell_type": "markdown",
   "metadata": {},
   "source": [
    "CART is a well-known and well-documented tree-building algorithm that makes\n",
    "binary splits and handles continuous variables. CART can handle regression with a simple\n",
    "modification."
   ]
  },
  {
   "cell_type": "markdown",
   "metadata": {},
   "source": [
    "Regression trees\n",
    "are similar to trees used for classification but with the leaves representing a numeric\n",
    "value rather than a discrete one."
   ]
  },
  {
   "cell_type": "markdown",
   "metadata": {},
   "source": [
    "#### General approach to tree-based regression\n",
    "\n",
    "1. Collect: Any method.\n",
    "\n",
    "2. Prepare: Numeric values are needed. If you have nominal values, it’s a good idea\n",
    "to map them into binary values.\n",
    "\n",
    "3. Analyze: We’ll visualize the data in two-dimensional plots and generate trees as\n",
    "dictionaries.\n",
    "\n",
    "4. Train: The majority of the time will be spent building trees with models at the leaf\n",
    "nodes.\n",
    "\n",
    "5. Test: We’ll use the R2 value with test data to determine the quality of our models.\n",
    "\n",
    "6. Use: We’ll use our trees to make forecasts. We can do almost anything with\n",
    "these results."
   ]
  },
  {
   "cell_type": "markdown",
   "metadata": {
    "collapsed": true
   },
   "source": [
    "#### Pseudo-code for createTree() would look like this:\n",
    "\n",
    "Find the best feature to split on:\n",
    "    \n",
    "    If we can’t split the data, this node becomes a leaf node\n",
    "    \n",
    "    Make a binary split of the data\n",
    "    \n",
    "    Call createTree() on the right split of the data\n",
    "    \n",
    "    Call createTree() on the left split of the data"
   ]
  },
  {
   "cell_type": "markdown",
   "metadata": {},
   "source": [
    "### CART tree-building"
   ]
  },
  {
   "cell_type": "code",
   "execution_count": 110,
   "metadata": {
    "collapsed": false
   },
   "outputs": [],
   "source": [
    "from numpy import *\n",
    "#Previously we broke the target variable off into its own list,here we keep data together\n",
    "def loadDataSet(fileName):      #general function to parse tab -delimited floats\n",
    "    dataMat = []                #assume last column is target value\n",
    "    fr = open(fileName)\n",
    "    for line in fr.readlines():\n",
    "        curLine = line.strip().split('\\t')\n",
    "        fltLine = list(map(float,curLine))#[float(x) for x in curLine]\n",
    "        #map(float,curLine) #map all elements to float()\n",
    "        \n",
    "        dataMat.append(fltLine)\n",
    "    return dataMat"
   ]
  },
  {
   "cell_type": "code",
   "execution_count": 99,
   "metadata": {
    "collapsed": true
   },
   "outputs": [],
   "source": [
    "#The two sets are created using array filtering for the given feature and value\n",
    "def binSplitDataSet(dataSet, feature, value):\n",
    "    mat0 = dataSet[nonzero(dataSet[:,feature] > value)[0],:][0]\n",
    "    mat1 = dataSet[nonzero(dataSet[:,feature] <= value)[0],:][0]\n",
    "    return mat0,mat1"
   ]
  },
  {
   "cell_type": "markdown",
   "metadata": {},
   "source": [
    "There are four\n",
    "arguments to createTree(): a dataset on which to build the tree and three optional\n",
    "arguments. The three optional arguments tell the function which type of tree to create.\n",
    "The argument leafType is the function used to create a leaf. The argument errType is\n",
    "a function used for measuring the error on the dataset. The last argument, ops, is a tuple\n",
    "of parameters for creating a tree.\n",
    "\n",
    "The split is determined by the function chooseBestSplit().\n",
    "\n",
    "In the case of regression trees, this model\n",
    "is a constant value; in the case of model trees, this model is a linear equation."
   ]
  },
  {
   "cell_type": "code",
   "execution_count": 100,
   "metadata": {
    "collapsed": false
   },
   "outputs": [],
   "source": [
    "def createTree(dataSet, leafType=regLeaf, errType=regErr, ops=(1,4)):#assume dataSet is NumPy Mat so we can array filtering\n",
    "    feat, val = chooseBestSplit(dataSet, leafType, errType, ops)#choose the best split\n",
    "    if feat == None: return val #if the splitting hit a stop condition return val\n",
    "    retTree = {}\n",
    "    retTree['spInd'] = feat\n",
    "    retTree['spVal'] = val\n",
    "    lSet, rSet = binSplitDataSet(dataSet, feat, val)\n",
    "    retTree['left'] = createTree(lSet, leafType, errType, ops)\n",
    "    retTree['right'] = createTree(rSet, leafType, errType, ops)\n",
    "    return retTree "
   ]
  },
  {
   "cell_type": "code",
   "execution_count": 101,
   "metadata": {
    "collapsed": true
   },
   "outputs": [],
   "source": [
    "testMat = mat(eye(4))"
   ]
  },
  {
   "cell_type": "code",
   "execution_count": 102,
   "metadata": {
    "collapsed": false
   },
   "outputs": [],
   "source": [
    "mat0,mat1 = binSplitDataSet(testMat,1,0.5)"
   ]
  },
  {
   "cell_type": "code",
   "execution_count": 103,
   "metadata": {
    "collapsed": false
   },
   "outputs": [
    {
     "data": {
      "text/plain": [
       "matrix([[ 0.,  1.,  0.,  0.]])"
      ]
     },
     "execution_count": 103,
     "metadata": {},
     "output_type": "execute_result"
    }
   ],
   "source": [
    "mat0"
   ]
  },
  {
   "cell_type": "markdown",
   "metadata": {},
   "source": [
    "The regression tree method breaks up data using a tree with constant values\n",
    "on the leaf nodes.\n",
    "\n",
    "In order to construct a tree of piecewise constant values, we need to be able to\n",
    "measure the consistency of data. It is done by total squared error."
   ]
  },
  {
   "cell_type": "markdown",
   "metadata": {},
   "source": [
    "### Building the tree"
   ]
  },
  {
   "cell_type": "markdown",
   "metadata": {},
   "source": [
    "chooseBestSplit()does only two\n",
    "things: split a dataset by the best possible split and generate a leaf node for a dataset.\n",
    "    \n",
    "The leafType argument is a\n",
    "reference to a function that we use to create the leaf node. The errType argument is a\n",
    "reference to a function that will be used to calculate the squared deviation from the\n",
    "mean described earlier. Finally, ops is a tuple of user-defined parameters to help with\n",
    "tree building.\n",
    "\n",
    "For every feature:\n",
    "\n",
    "    For every unique value:\n",
    "        Split the dataset it two\n",
    "        Measure the error of the two splits\n",
    "        If the error is less than bestError ➞ set bestSplit to this split, update bestError\n",
    "Return bestSplit feature and threshold"
   ]
  },
  {
   "cell_type": "code",
   "execution_count": 104,
   "metadata": {
    "collapsed": true
   },
   "outputs": [],
   "source": [
    "def regLeaf(dataSet):#returns the value used for each leaf\n",
    "    a = dataSet[:,-1]\n",
    "    return mean(a)\n",
    "\n",
    "def regErr(dataSet):\n",
    "    return var(dataSet[:,-1]) * shape(dataSet)[0]"
   ]
  },
  {
   "cell_type": "code",
   "execution_count": 214,
   "metadata": {
    "collapsed": true
   },
   "outputs": [],
   "source": [
    "def chooseBestSplit(dataSet, leafType=regLeaf, errType=regErr, ops=(1,4)):\n",
    "    tolS = ops[0]; tolN = ops[1]\n",
    "    #if all the target variables are the same value: quit and return value\n",
    "    if len(set(dataSet[:,-1].T.tolist()[0])) == 1: #exit cond 1\n",
    "        return None, leafType(dataSet)\n",
    "    m,n = shape(dataSet)\n",
    "    #the choice of the best feature is driven by Reduction in RSS error from mean\n",
    "    S = errType(dataSet)\n",
    "    bestS = inf; bestIndex = 0; bestValue = 0\n",
    "    for featIndex in range(n-1):\n",
    "        for splitVal in set(dataSet[:,featIndex]):\n",
    "            mat0, mat1 = binSplitDataSet(dataSet, featIndex, splitVal)\n",
    "            if (shape(mat0)[0] < tolN) or (shape(mat1)[0] < tolN): continue\n",
    "            newS = errType(mat0) + errType(mat1)\n",
    "            if newS < bestS: \n",
    "                bestIndex = featIndex\n",
    "                bestValue = splitVal\n",
    "                bestS = newS\n",
    "    #if the decrease (S-bestS) is less than a threshold don't do the split\n",
    "    if (S - bestS) < tolS: \n",
    "        return None, leafType(dataSet) #exit cond 2\n",
    "    mat0, mat1 = binSplitDataSet(dataSet, bestIndex, bestValue)\n",
    "    if (shape(mat0)[0] < tolN) or (shape(mat1)[0] < tolN):  #exit cond 3\n",
    "        return None, leafType(dataSet)\n",
    "    return bestIndex,bestValue#returns the best feature to split on\n",
    "                              #and the value used for that split\n"
   ]
  },
  {
   "cell_type": "code",
   "execution_count": 215,
   "metadata": {
    "collapsed": false
   },
   "outputs": [],
   "source": [
    "myDat = loadDataSet('ex00.txt')"
   ]
  },
  {
   "cell_type": "code",
   "execution_count": 216,
   "metadata": {
    "collapsed": false
   },
   "outputs": [
    {
     "data": {
      "text/plain": [
       "[[0.036098, 0.155096],\n",
       " [0.993349, 1.077553],\n",
       " [0.530897, 0.893462],\n",
       " [0.712386, 0.564858],\n",
       " [0.343554, -0.3717],\n",
       " [0.098016, -0.33276],\n",
       " [0.691115, 0.834391],\n",
       " [0.091358, 0.099935],\n",
       " [0.727098, 1.000567],\n",
       " [0.951949, 0.945255],\n",
       " [0.768596, 0.760219],\n",
       " [0.541314, 0.893748],\n",
       " [0.146366, 0.034283],\n",
       " [0.673195, 0.915077],\n",
       " [0.18351, 0.184843],\n",
       " [0.339563, 0.206783],\n",
       " [0.517921, 1.493586],\n",
       " [0.703755, 1.101678],\n",
       " [0.008307, 0.069976],\n",
       " [0.243909, -0.029467],\n",
       " [0.306964, -0.177321],\n",
       " [0.036492, 0.408155],\n",
       " [0.295511, 0.002882],\n",
       " [0.837522, 1.229373],\n",
       " [0.202054, -0.087744],\n",
       " [0.919384, 1.029889],\n",
       " [0.377201, -0.24355],\n",
       " [0.814825, 1.095206],\n",
       " [0.61127, 0.982036],\n",
       " [0.072243, -0.420983],\n",
       " [0.41023, 0.331722],\n",
       " [0.869077, 1.114825],\n",
       " [0.620599, 1.334421],\n",
       " [0.101149, 0.068834],\n",
       " [0.820802, 1.325907],\n",
       " [0.520044, 0.961983],\n",
       " [0.48813, -0.097791],\n",
       " [0.819823, 0.835264],\n",
       " [0.975022, 0.673579],\n",
       " [0.953112, 1.06469],\n",
       " [0.475976, -0.163707],\n",
       " [0.273147, -0.455219],\n",
       " [0.804586, 0.924033],\n",
       " [0.074795, -0.349692],\n",
       " [0.625336, 0.623696],\n",
       " [0.656218, 0.958506],\n",
       " [0.834078, 1.01058],\n",
       " [0.78193, 1.074488],\n",
       " [0.009849, 0.056594],\n",
       " [0.302217, -0.14865],\n",
       " [0.678287, 0.907727],\n",
       " [0.180506, 0.103676],\n",
       " [0.193641, -0.327589],\n",
       " [0.343479, 0.175264],\n",
       " [0.145809, 0.136979],\n",
       " [0.996757, 1.035533],\n",
       " [0.59021, 1.336661],\n",
       " [0.23807, -0.358459],\n",
       " [0.561362, 1.070529],\n",
       " [0.377597, 0.088505],\n",
       " [0.099142, 0.02528],\n",
       " [0.539558, 1.053846],\n",
       " [0.79024, 0.533214],\n",
       " [0.242204, 0.209359],\n",
       " [0.152324, 0.132858],\n",
       " [0.252649, -0.055613],\n",
       " [0.89593, 1.077275],\n",
       " [0.1333, -0.223143],\n",
       " [0.559763, 1.253151],\n",
       " [0.643665, 1.024241],\n",
       " [0.877241, 0.797005],\n",
       " [0.613765, 1.621091],\n",
       " [0.645762, 1.026886],\n",
       " [0.651376, 1.315384],\n",
       " [0.697718, 1.212434],\n",
       " [0.742527, 1.087056],\n",
       " [0.901056, 1.0559],\n",
       " [0.362314, -0.556464],\n",
       " [0.948268, 0.631862],\n",
       " [0.000234, 0.060903],\n",
       " [0.750078, 0.906291],\n",
       " [0.325412, -0.219245],\n",
       " [0.726828, 1.017112],\n",
       " [0.348013, 0.048939],\n",
       " [0.458121, -0.061456],\n",
       " [0.280738, -0.22888],\n",
       " [0.567704, 0.969058],\n",
       " [0.750918, 0.748104],\n",
       " [0.575805, 0.89909],\n",
       " [0.50794, 1.107265],\n",
       " [0.071769, -0.110946],\n",
       " [0.55352, 1.391273],\n",
       " [0.401152, -0.12164],\n",
       " [0.406649, -0.366317],\n",
       " [0.652121, 1.004346],\n",
       " [0.347837, -0.153405],\n",
       " [0.081931, -0.269756],\n",
       " [0.821648, 1.280895],\n",
       " [0.048014, 0.064496],\n",
       " [0.130962, 0.184241],\n",
       " [0.773422, 1.125943],\n",
       " [0.789625, 0.552614],\n",
       " [0.096994, 0.227167],\n",
       " [0.625791, 1.244731],\n",
       " [0.589575, 1.185812],\n",
       " [0.323181, 0.180811],\n",
       " [0.822443, 1.086648],\n",
       " [0.360323, -0.20483],\n",
       " [0.950153, 1.022906],\n",
       " [0.527505, 0.87956],\n",
       " [0.860049, 0.71749],\n",
       " [0.007044, 0.09415],\n",
       " [0.438367, 0.034014],\n",
       " [0.574573, 1.06613],\n",
       " [0.536689, 0.867284],\n",
       " [0.782167, 0.886049],\n",
       " [0.989888, 0.744207],\n",
       " [0.761474, 1.058262],\n",
       " [0.985425, 1.227946],\n",
       " [0.132543, -0.329372],\n",
       " [0.346986, -0.150389],\n",
       " [0.768784, 0.899705],\n",
       " [0.848921, 1.170959],\n",
       " [0.44928, 0.069098],\n",
       " [0.066172, 0.052439],\n",
       " [0.813719, 0.706601],\n",
       " [0.661923, 0.76704],\n",
       " [0.529491, 1.022206],\n",
       " [0.846455, 0.72003],\n",
       " [0.448656, 0.026974],\n",
       " [0.795072, 0.965721],\n",
       " [0.118156, -0.077409],\n",
       " [0.084248, -0.019547],\n",
       " [0.845815, 0.952617],\n",
       " [0.576946, 1.234129],\n",
       " [0.772083, 1.299018],\n",
       " [0.696648, 0.845423],\n",
       " [0.595012, 1.213435],\n",
       " [0.648675, 1.287407],\n",
       " [0.897094, 1.240209],\n",
       " [0.55299, 1.036158],\n",
       " [0.332982, 0.210084],\n",
       " [0.065615, -0.30697],\n",
       " [0.278661, 0.253628],\n",
       " [0.773168, 1.140917],\n",
       " [0.203693, -0.064036],\n",
       " [0.355688, -0.119399],\n",
       " [0.988852, 1.069062],\n",
       " [0.518735, 1.037179],\n",
       " [0.514563, 1.156648],\n",
       " [0.976414, 0.862911],\n",
       " [0.919074, 1.123413],\n",
       " [0.697777, 0.827805],\n",
       " [0.928097, 0.883225],\n",
       " [0.900272, 0.996871],\n",
       " [0.344102, -0.061539],\n",
       " [0.148049, 0.204298],\n",
       " [0.130052, -0.026167],\n",
       " [0.302001, 0.317135],\n",
       " [0.3371, 0.026332],\n",
       " [0.314924, -0.001952],\n",
       " [0.269681, -0.165971],\n",
       " [0.196005, -0.048847],\n",
       " [0.129061, 0.305107],\n",
       " [0.936783, 1.026258],\n",
       " [0.30554, -0.115991],\n",
       " [0.683921, 1.414382],\n",
       " [0.622398, 0.76633],\n",
       " [0.902532, 0.861601],\n",
       " [0.712503, 0.93349],\n",
       " [0.590062, 0.705531],\n",
       " [0.72312, 1.307248],\n",
       " [0.188218, 0.113685],\n",
       " [0.643601, 0.782552],\n",
       " [0.520207, 1.209557],\n",
       " [0.233115, -0.348147],\n",
       " [0.465625, -0.15294],\n",
       " [0.884512, 1.117833],\n",
       " [0.6632, 0.701634],\n",
       " [0.268857, 0.073447],\n",
       " [0.729234, 0.931956],\n",
       " [0.429664, -0.188659],\n",
       " [0.737189, 1.200781],\n",
       " [0.378595, -0.296094],\n",
       " [0.930173, 1.035645],\n",
       " [0.774301, 0.836763],\n",
       " [0.27394, -0.085713],\n",
       " [0.824442, 1.082153],\n",
       " [0.626011, 0.840544],\n",
       " [0.67939, 1.307217],\n",
       " [0.578252, 0.921885],\n",
       " [0.785541, 1.165296],\n",
       " [0.597409, 0.97477],\n",
       " [0.014083, -0.132525],\n",
       " [0.66387, 1.187129],\n",
       " [0.552381, 1.36963],\n",
       " [0.683886, 0.999985],\n",
       " [0.210334, -0.006899],\n",
       " [0.604529, 1.212685],\n",
       " [0.250744, 0.046297]]"
      ]
     },
     "execution_count": 216,
     "metadata": {},
     "output_type": "execute_result"
    }
   ],
   "source": [
    "myDat"
   ]
  },
  {
   "cell_type": "code",
   "execution_count": 217,
   "metadata": {
    "collapsed": false
   },
   "outputs": [],
   "source": [
    "myMat = mat(myDat)"
   ]
  },
  {
   "cell_type": "code",
   "execution_count": 218,
   "metadata": {
    "collapsed": false
   },
   "outputs": [
    {
     "data": {
      "text/plain": [
       "matrix([[  3.60980000e-02,   1.55096000e-01],\n",
       "        [  9.93349000e-01,   1.07755300e+00],\n",
       "        [  5.30897000e-01,   8.93462000e-01],\n",
       "        [  7.12386000e-01,   5.64858000e-01],\n",
       "        [  3.43554000e-01,  -3.71700000e-01],\n",
       "        [  9.80160000e-02,  -3.32760000e-01],\n",
       "        [  6.91115000e-01,   8.34391000e-01],\n",
       "        [  9.13580000e-02,   9.99350000e-02],\n",
       "        [  7.27098000e-01,   1.00056700e+00],\n",
       "        [  9.51949000e-01,   9.45255000e-01],\n",
       "        [  7.68596000e-01,   7.60219000e-01],\n",
       "        [  5.41314000e-01,   8.93748000e-01],\n",
       "        [  1.46366000e-01,   3.42830000e-02],\n",
       "        [  6.73195000e-01,   9.15077000e-01],\n",
       "        [  1.83510000e-01,   1.84843000e-01],\n",
       "        [  3.39563000e-01,   2.06783000e-01],\n",
       "        [  5.17921000e-01,   1.49358600e+00],\n",
       "        [  7.03755000e-01,   1.10167800e+00],\n",
       "        [  8.30700000e-03,   6.99760000e-02],\n",
       "        [  2.43909000e-01,  -2.94670000e-02],\n",
       "        [  3.06964000e-01,  -1.77321000e-01],\n",
       "        [  3.64920000e-02,   4.08155000e-01],\n",
       "        [  2.95511000e-01,   2.88200000e-03],\n",
       "        [  8.37522000e-01,   1.22937300e+00],\n",
       "        [  2.02054000e-01,  -8.77440000e-02],\n",
       "        [  9.19384000e-01,   1.02988900e+00],\n",
       "        [  3.77201000e-01,  -2.43550000e-01],\n",
       "        [  8.14825000e-01,   1.09520600e+00],\n",
       "        [  6.11270000e-01,   9.82036000e-01],\n",
       "        [  7.22430000e-02,  -4.20983000e-01],\n",
       "        [  4.10230000e-01,   3.31722000e-01],\n",
       "        [  8.69077000e-01,   1.11482500e+00],\n",
       "        [  6.20599000e-01,   1.33442100e+00],\n",
       "        [  1.01149000e-01,   6.88340000e-02],\n",
       "        [  8.20802000e-01,   1.32590700e+00],\n",
       "        [  5.20044000e-01,   9.61983000e-01],\n",
       "        [  4.88130000e-01,  -9.77910000e-02],\n",
       "        [  8.19823000e-01,   8.35264000e-01],\n",
       "        [  9.75022000e-01,   6.73579000e-01],\n",
       "        [  9.53112000e-01,   1.06469000e+00],\n",
       "        [  4.75976000e-01,  -1.63707000e-01],\n",
       "        [  2.73147000e-01,  -4.55219000e-01],\n",
       "        [  8.04586000e-01,   9.24033000e-01],\n",
       "        [  7.47950000e-02,  -3.49692000e-01],\n",
       "        [  6.25336000e-01,   6.23696000e-01],\n",
       "        [  6.56218000e-01,   9.58506000e-01],\n",
       "        [  8.34078000e-01,   1.01058000e+00],\n",
       "        [  7.81930000e-01,   1.07448800e+00],\n",
       "        [  9.84900000e-03,   5.65940000e-02],\n",
       "        [  3.02217000e-01,  -1.48650000e-01],\n",
       "        [  6.78287000e-01,   9.07727000e-01],\n",
       "        [  1.80506000e-01,   1.03676000e-01],\n",
       "        [  1.93641000e-01,  -3.27589000e-01],\n",
       "        [  3.43479000e-01,   1.75264000e-01],\n",
       "        [  1.45809000e-01,   1.36979000e-01],\n",
       "        [  9.96757000e-01,   1.03553300e+00],\n",
       "        [  5.90210000e-01,   1.33666100e+00],\n",
       "        [  2.38070000e-01,  -3.58459000e-01],\n",
       "        [  5.61362000e-01,   1.07052900e+00],\n",
       "        [  3.77597000e-01,   8.85050000e-02],\n",
       "        [  9.91420000e-02,   2.52800000e-02],\n",
       "        [  5.39558000e-01,   1.05384600e+00],\n",
       "        [  7.90240000e-01,   5.33214000e-01],\n",
       "        [  2.42204000e-01,   2.09359000e-01],\n",
       "        [  1.52324000e-01,   1.32858000e-01],\n",
       "        [  2.52649000e-01,  -5.56130000e-02],\n",
       "        [  8.95930000e-01,   1.07727500e+00],\n",
       "        [  1.33300000e-01,  -2.23143000e-01],\n",
       "        [  5.59763000e-01,   1.25315100e+00],\n",
       "        [  6.43665000e-01,   1.02424100e+00],\n",
       "        [  8.77241000e-01,   7.97005000e-01],\n",
       "        [  6.13765000e-01,   1.62109100e+00],\n",
       "        [  6.45762000e-01,   1.02688600e+00],\n",
       "        [  6.51376000e-01,   1.31538400e+00],\n",
       "        [  6.97718000e-01,   1.21243400e+00],\n",
       "        [  7.42527000e-01,   1.08705600e+00],\n",
       "        [  9.01056000e-01,   1.05590000e+00],\n",
       "        [  3.62314000e-01,  -5.56464000e-01],\n",
       "        [  9.48268000e-01,   6.31862000e-01],\n",
       "        [  2.34000000e-04,   6.09030000e-02],\n",
       "        [  7.50078000e-01,   9.06291000e-01],\n",
       "        [  3.25412000e-01,  -2.19245000e-01],\n",
       "        [  7.26828000e-01,   1.01711200e+00],\n",
       "        [  3.48013000e-01,   4.89390000e-02],\n",
       "        [  4.58121000e-01,  -6.14560000e-02],\n",
       "        [  2.80738000e-01,  -2.28880000e-01],\n",
       "        [  5.67704000e-01,   9.69058000e-01],\n",
       "        [  7.50918000e-01,   7.48104000e-01],\n",
       "        [  5.75805000e-01,   8.99090000e-01],\n",
       "        [  5.07940000e-01,   1.10726500e+00],\n",
       "        [  7.17690000e-02,  -1.10946000e-01],\n",
       "        [  5.53520000e-01,   1.39127300e+00],\n",
       "        [  4.01152000e-01,  -1.21640000e-01],\n",
       "        [  4.06649000e-01,  -3.66317000e-01],\n",
       "        [  6.52121000e-01,   1.00434600e+00],\n",
       "        [  3.47837000e-01,  -1.53405000e-01],\n",
       "        [  8.19310000e-02,  -2.69756000e-01],\n",
       "        [  8.21648000e-01,   1.28089500e+00],\n",
       "        [  4.80140000e-02,   6.44960000e-02],\n",
       "        [  1.30962000e-01,   1.84241000e-01],\n",
       "        [  7.73422000e-01,   1.12594300e+00],\n",
       "        [  7.89625000e-01,   5.52614000e-01],\n",
       "        [  9.69940000e-02,   2.27167000e-01],\n",
       "        [  6.25791000e-01,   1.24473100e+00],\n",
       "        [  5.89575000e-01,   1.18581200e+00],\n",
       "        [  3.23181000e-01,   1.80811000e-01],\n",
       "        [  8.22443000e-01,   1.08664800e+00],\n",
       "        [  3.60323000e-01,  -2.04830000e-01],\n",
       "        [  9.50153000e-01,   1.02290600e+00],\n",
       "        [  5.27505000e-01,   8.79560000e-01],\n",
       "        [  8.60049000e-01,   7.17490000e-01],\n",
       "        [  7.04400000e-03,   9.41500000e-02],\n",
       "        [  4.38367000e-01,   3.40140000e-02],\n",
       "        [  5.74573000e-01,   1.06613000e+00],\n",
       "        [  5.36689000e-01,   8.67284000e-01],\n",
       "        [  7.82167000e-01,   8.86049000e-01],\n",
       "        [  9.89888000e-01,   7.44207000e-01],\n",
       "        [  7.61474000e-01,   1.05826200e+00],\n",
       "        [  9.85425000e-01,   1.22794600e+00],\n",
       "        [  1.32543000e-01,  -3.29372000e-01],\n",
       "        [  3.46986000e-01,  -1.50389000e-01],\n",
       "        [  7.68784000e-01,   8.99705000e-01],\n",
       "        [  8.48921000e-01,   1.17095900e+00],\n",
       "        [  4.49280000e-01,   6.90980000e-02],\n",
       "        [  6.61720000e-02,   5.24390000e-02],\n",
       "        [  8.13719000e-01,   7.06601000e-01],\n",
       "        [  6.61923000e-01,   7.67040000e-01],\n",
       "        [  5.29491000e-01,   1.02220600e+00],\n",
       "        [  8.46455000e-01,   7.20030000e-01],\n",
       "        [  4.48656000e-01,   2.69740000e-02],\n",
       "        [  7.95072000e-01,   9.65721000e-01],\n",
       "        [  1.18156000e-01,  -7.74090000e-02],\n",
       "        [  8.42480000e-02,  -1.95470000e-02],\n",
       "        [  8.45815000e-01,   9.52617000e-01],\n",
       "        [  5.76946000e-01,   1.23412900e+00],\n",
       "        [  7.72083000e-01,   1.29901800e+00],\n",
       "        [  6.96648000e-01,   8.45423000e-01],\n",
       "        [  5.95012000e-01,   1.21343500e+00],\n",
       "        [  6.48675000e-01,   1.28740700e+00],\n",
       "        [  8.97094000e-01,   1.24020900e+00],\n",
       "        [  5.52990000e-01,   1.03615800e+00],\n",
       "        [  3.32982000e-01,   2.10084000e-01],\n",
       "        [  6.56150000e-02,  -3.06970000e-01],\n",
       "        [  2.78661000e-01,   2.53628000e-01],\n",
       "        [  7.73168000e-01,   1.14091700e+00],\n",
       "        [  2.03693000e-01,  -6.40360000e-02],\n",
       "        [  3.55688000e-01,  -1.19399000e-01],\n",
       "        [  9.88852000e-01,   1.06906200e+00],\n",
       "        [  5.18735000e-01,   1.03717900e+00],\n",
       "        [  5.14563000e-01,   1.15664800e+00],\n",
       "        [  9.76414000e-01,   8.62911000e-01],\n",
       "        [  9.19074000e-01,   1.12341300e+00],\n",
       "        [  6.97777000e-01,   8.27805000e-01],\n",
       "        [  9.28097000e-01,   8.83225000e-01],\n",
       "        [  9.00272000e-01,   9.96871000e-01],\n",
       "        [  3.44102000e-01,  -6.15390000e-02],\n",
       "        [  1.48049000e-01,   2.04298000e-01],\n",
       "        [  1.30052000e-01,  -2.61670000e-02],\n",
       "        [  3.02001000e-01,   3.17135000e-01],\n",
       "        [  3.37100000e-01,   2.63320000e-02],\n",
       "        [  3.14924000e-01,  -1.95200000e-03],\n",
       "        [  2.69681000e-01,  -1.65971000e-01],\n",
       "        [  1.96005000e-01,  -4.88470000e-02],\n",
       "        [  1.29061000e-01,   3.05107000e-01],\n",
       "        [  9.36783000e-01,   1.02625800e+00],\n",
       "        [  3.05540000e-01,  -1.15991000e-01],\n",
       "        [  6.83921000e-01,   1.41438200e+00],\n",
       "        [  6.22398000e-01,   7.66330000e-01],\n",
       "        [  9.02532000e-01,   8.61601000e-01],\n",
       "        [  7.12503000e-01,   9.33490000e-01],\n",
       "        [  5.90062000e-01,   7.05531000e-01],\n",
       "        [  7.23120000e-01,   1.30724800e+00],\n",
       "        [  1.88218000e-01,   1.13685000e-01],\n",
       "        [  6.43601000e-01,   7.82552000e-01],\n",
       "        [  5.20207000e-01,   1.20955700e+00],\n",
       "        [  2.33115000e-01,  -3.48147000e-01],\n",
       "        [  4.65625000e-01,  -1.52940000e-01],\n",
       "        [  8.84512000e-01,   1.11783300e+00],\n",
       "        [  6.63200000e-01,   7.01634000e-01],\n",
       "        [  2.68857000e-01,   7.34470000e-02],\n",
       "        [  7.29234000e-01,   9.31956000e-01],\n",
       "        [  4.29664000e-01,  -1.88659000e-01],\n",
       "        [  7.37189000e-01,   1.20078100e+00],\n",
       "        [  3.78595000e-01,  -2.96094000e-01],\n",
       "        [  9.30173000e-01,   1.03564500e+00],\n",
       "        [  7.74301000e-01,   8.36763000e-01],\n",
       "        [  2.73940000e-01,  -8.57130000e-02],\n",
       "        [  8.24442000e-01,   1.08215300e+00],\n",
       "        [  6.26011000e-01,   8.40544000e-01],\n",
       "        [  6.79390000e-01,   1.30721700e+00],\n",
       "        [  5.78252000e-01,   9.21885000e-01],\n",
       "        [  7.85541000e-01,   1.16529600e+00],\n",
       "        [  5.97409000e-01,   9.74770000e-01],\n",
       "        [  1.40830000e-02,  -1.32525000e-01],\n",
       "        [  6.63870000e-01,   1.18712900e+00],\n",
       "        [  5.52381000e-01,   1.36963000e+00],\n",
       "        [  6.83886000e-01,   9.99985000e-01],\n",
       "        [  2.10334000e-01,  -6.89900000e-03],\n",
       "        [  6.04529000e-01,   1.21268500e+00],\n",
       "        [  2.50744000e-01,   4.62970000e-02]])"
      ]
     },
     "execution_count": 218,
     "metadata": {},
     "output_type": "execute_result"
    }
   ],
   "source": [
    "myMat"
   ]
  },
  {
   "cell_type": "markdown",
   "metadata": {},
   "source": [
    "### List Comprehension"
   ]
  },
  {
   "cell_type": "code",
   "execution_count": 220,
   "metadata": {
    "collapsed": false
   },
   "outputs": [
    {
     "data": {
      "text/plain": [
       "[0, 1, 4, 9, 16, 25, 36, 49, 64, 81]"
      ]
     },
     "execution_count": 220,
     "metadata": {},
     "output_type": "execute_result"
    }
   ],
   "source": [
    "squares = []\n",
    "for x in range(10):\n",
    "    squares.append(x**2)\n",
    "squares"
   ]
  },
  {
   "cell_type": "code",
   "execution_count": 222,
   "metadata": {
    "collapsed": true
   },
   "outputs": [],
   "source": [
    "squaresL = list(map(lambda x: x**2, range(10)))"
   ]
  },
  {
   "cell_type": "code",
   "execution_count": 223,
   "metadata": {
    "collapsed": false
   },
   "outputs": [
    {
     "data": {
      "text/plain": [
       "[0, 1, 4, 9, 16, 25, 36, 49, 64, 81]"
      ]
     },
     "execution_count": 223,
     "metadata": {},
     "output_type": "execute_result"
    }
   ],
   "source": [
    "squaresL"
   ]
  },
  {
   "cell_type": "code",
   "execution_count": 225,
   "metadata": {
    "collapsed": true
   },
   "outputs": [],
   "source": [
    "squaresList = [x**2 for x in range(10)]"
   ]
  },
  {
   "cell_type": "code",
   "execution_count": 226,
   "metadata": {
    "collapsed": false
   },
   "outputs": [
    {
     "data": {
      "text/plain": [
       "[0, 1, 4, 9, 16, 25, 36, 49, 64, 81]"
      ]
     },
     "execution_count": 226,
     "metadata": {},
     "output_type": "execute_result"
    }
   ],
   "source": [
    "squaresList"
   ]
  },
  {
   "cell_type": "markdown",
   "metadata": {},
   "source": [
    "A list comprehension consists of brackets containing an expression followed by a for clause, then zero or more for or if clauses. The result will be a new list resulting from evaluating the expression in the context of the for and if clauses which follow it. For example, this listcomp combines the elements of two lists if they are not equal:"
   ]
  },
  {
   "cell_type": "code",
   "execution_count": 227,
   "metadata": {
    "collapsed": false
   },
   "outputs": [
    {
     "data": {
      "text/plain": [
       "[(1, 3), (1, 4), (2, 3), (2, 1), (2, 4), (3, 1), (3, 4)]"
      ]
     },
     "execution_count": 227,
     "metadata": {},
     "output_type": "execute_result"
    }
   ],
   "source": [
    "[(x, y) for x in [1,2,3] for y in [3,1,4] if x != y]"
   ]
  },
  {
   "cell_type": "code",
   "execution_count": 228,
   "metadata": {
    "collapsed": false
   },
   "outputs": [
    {
     "data": {
      "text/plain": [
       "[(1, 3), (1, 4), (2, 3), (2, 1), (2, 4), (3, 1), (3, 4)]"
      ]
     },
     "execution_count": 228,
     "metadata": {},
     "output_type": "execute_result"
    }
   ],
   "source": [
    "combs = []\n",
    "for x in [1,2,3]:\n",
    "     for y in [3,1,4]:\n",
    "        if x != y:\n",
    "           combs.append((x, y))\n",
    "combs"
   ]
  },
  {
   "cell_type": "code",
   "execution_count": null,
   "metadata": {
    "collapsed": true
   },
   "outputs": [],
   "source": []
  }
 ],
 "metadata": {
  "kernelspec": {
   "display_name": "Python 3",
   "language": "python",
   "name": "python3"
  },
  "language_info": {
   "codemirror_mode": {
    "name": "ipython",
    "version": 3
   },
   "file_extension": ".py",
   "mimetype": "text/x-python",
   "name": "python",
   "nbconvert_exporter": "python",
   "pygments_lexer": "ipython3",
   "version": "3.5.1"
  }
 },
 "nbformat": 4,
 "nbformat_minor": 0
}
