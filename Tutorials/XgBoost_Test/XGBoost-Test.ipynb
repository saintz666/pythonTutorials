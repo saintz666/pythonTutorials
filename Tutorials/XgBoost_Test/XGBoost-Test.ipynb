{
 "cells": [
  {
   "cell_type": "code",
   "execution_count": 1,
   "metadata": {
    "collapsed": true
   },
   "outputs": [],
   "source": [
    "import os\n",
    "\n",
    "mingw_path = 'C:\\\\Program Files\\\\mingw-w64\\\\x86_64-6.1.0-posix-seh-rt_v5-rev1\\\\mingw64\\\\bin'\n",
    "\n",
    "os.environ['PATH'] = mingw_path + ';' + os.environ['PATH']"
   ]
  },
  {
   "cell_type": "code",
   "execution_count": 2,
   "metadata": {
    "collapsed": true
   },
   "outputs": [],
   "source": [
    "import xgboost as xgb"
   ]
  },
  {
   "cell_type": "code",
   "execution_count": 3,
   "metadata": {
    "collapsed": false
   },
   "outputs": [
    {
     "name": "stdout",
     "output_type": "stream",
     "text": [
      "[0]\teval-auc:0.5\ttrain-auc:0.5\n",
      "[1]\teval-auc:0.5\ttrain-auc:0.5\n",
      "[2]\teval-auc:0.5\ttrain-auc:0.5\n",
      "[3]\teval-auc:0.5\ttrain-auc:0.5\n",
      "[4]\teval-auc:0.5\ttrain-auc:0.5\n",
      "[5]\teval-auc:0.5\ttrain-auc:0.5\n",
      "[6]\teval-auc:0.5\ttrain-auc:0.5\n",
      "[7]\teval-auc:0.5\ttrain-auc:0.5\n",
      "[8]\teval-auc:0.5\ttrain-auc:0.5\n",
      "[9]\teval-auc:0.5\ttrain-auc:0.5\n"
     ]
    }
   ],
   "source": [
    "import numpy as np\n",
    "\n",
    "data = np.random.rand(5,10) # 5 entities, each contains 10 features\n",
    "label = np.random.randint(2, size=5) # binary target\n",
    "dtrain = xgb.DMatrix( data, label=label)\n",
    "\n",
    "dtest = dtrain\n",
    "\n",
    "param = {'bst:max_depth':2, 'bst:eta':1, 'silent':1, 'objective':'binary:logistic' }\n",
    "param['nthread'] = 4\n",
    "param['eval_metric'] = 'auc'\n",
    "\n",
    "evallist  = [(dtest,'eval'), (dtrain,'train')]\n",
    "\n",
    "num_round = 10\n",
    "bst = xgb.train( param, dtrain, num_round, evallist )\n",
    "\n",
    "bst.dump_model('dump.raw.txt')"
   ]
  },
  {
   "cell_type": "code",
   "execution_count": null,
   "metadata": {
    "collapsed": true
   },
   "outputs": [],
   "source": []
  }
 ],
 "metadata": {
  "kernelspec": {
   "display_name": "Python 3",
   "language": "python",
   "name": "python3"
  },
  "language_info": {
   "codemirror_mode": {
    "name": "ipython",
    "version": 3
   },
   "file_extension": ".py",
   "mimetype": "text/x-python",
   "name": "python",
   "nbconvert_exporter": "python",
   "pygments_lexer": "ipython3",
   "version": "3.5.1"
  }
 },
 "nbformat": 4,
 "nbformat_minor": 0
}
