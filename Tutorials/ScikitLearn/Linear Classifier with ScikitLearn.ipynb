{
 "cells": [
  {
   "cell_type": "code",
   "execution_count": 1,
   "metadata": {
    "collapsed": false
   },
   "outputs": [
    {
     "name": "stdout",
     "output_type": "stream",
     "text": [
      "Populating the interactive namespace from numpy and matplotlib\n"
     ]
    }
   ],
   "source": [
    "%pylab inline\n",
    "#Populating the interactive namespace from numpy and matplotlib\n",
    "#Import scikit-learn, numpy and pyplot\n",
    "import sklearn as sk\n",
    "import numpy as np\n",
    "import matplotlib.pyplot as plt"
   ]
  },
  {
   "cell_type": "code",
   "execution_count": 3,
   "metadata": {
    "collapsed": false
   },
   "outputs": [
    {
     "name": "stdout",
     "output_type": "stream",
     "text": [
      "(150, 4) (150,)\n",
      "[ 5.1  3.5  1.4  0.2] 0\n"
     ]
    }
   ],
   "source": [
    "#Load Iris dataset\n",
    "from sklearn import datasets\n",
    "iris = datasets.load_iris()\n",
    "X_iris, y_iris = iris.data, iris.target\n",
    "print (X_iris.shape, y_iris.shape)\n",
    "print( X_iris[0], y_iris[0])"
   ]
  },
  {
   "cell_type": "markdown",
   "metadata": {},
   "source": [
    "### Create training and testing partitions and standarize data."
   ]
  },
  {
   "cell_type": "code",
   "execution_count": 5,
   "metadata": {
    "collapsed": false
   },
   "outputs": [
    {
     "name": "stdout",
     "output_type": "stream",
     "text": [
      "(112, 2) (112,)\n"
     ]
    }
   ],
   "source": [
    "from sklearn.cross_validation import train_test_split\n",
    "from sklearn.preprocessing import StandardScaler\n",
    "\n",
    "# Get dataset with only the first two attributes\n",
    "X, y = X_iris[:,:2], y_iris\n",
    "# Split the dataset into a training and a testing set\n",
    "# Test set will be the 25% taken randomly\n",
    "X_train, X_test, y_train, y_test = train_test_split(X, y, test_size=0.25, random_state=33)\n",
    "print (X_train.shape, y_train.shape)\n",
    "# Standarize the features\n",
    "# Feature Scaling\n",
    "#For each feature, calculate the average, subtract the mean\n",
    "#value from the feature value, and divide the result by their standard deviation. After\n",
    "#scaling, each feature will have a zero average, with a standard deviation of one.\n",
    "scaler = StandardScaler().fit(X_train)\n",
    "X_train = scaler.transform(X_train)\n",
    "\n",
    "X_test = scaler.transform(X_test)\n"
   ]
  },
  {
   "cell_type": "markdown",
   "metadata": {},
   "source": [
    "### Plot the training data."
   ]
  },
  {
   "cell_type": "code",
   "execution_count": 7,
   "metadata": {
    "collapsed": false
   },
   "outputs": [
    {
     "data": {
      "text/plain": [
       "<matplotlib.text.Text at 0x18a4e6b1b00>"
      ]
     },
     "execution_count": 7,
     "metadata": {},
     "output_type": "execute_result"
    },
    {
     "data": {
      "image/png": "[encoded data removed]",
      "text/plain": [
       "<matplotlib.figure.Figure at 0x18a4e62b978>"
      ]
     },
     "metadata": {},
     "output_type": "display_data"
    }
   ],
   "source": [
    "colors = ['red', 'greenyellow', 'blue']\n",
    "for i in range(len(colors)):\n",
    "    px = X_train[:, 0][y_train == i]\n",
    "    py = X_train[:, 1][y_train == i]\n",
    "    plt.scatter(px, py, c=colors[i])\n",
    "\n",
    "plt.legend(iris.target_names)\n",
    "plt.xlabel('Sepal length')\n",
    "plt.ylabel('Sepal width')"
   ]
  },
  {
   "cell_type": "markdown",
   "metadata": {},
   "source": [
    "Looking at the preceding screenshot, we can see that the separation between the red\n",
    "dots (corresponding to the Iris setosa) and green and blue dots (corresponding to the\n",
    "two other Iris species) is quite clear, while separating green from blue dots seems a\n",
    "very difficult task, given the two features available"
   ]
  },
  {
   "cell_type": "markdown",
   "metadata": {},
   "source": [
    "To implement linear classification, we will use the SGDClassifier from scikit-learn.\n",
    "SGD stands for Stochastic Gradient Descent, a very popular numerical procedure\n",
    "to find the local minimum of a function (in this case, the loss function, which\n",
    "measures how far every instance is from our boundary). The algorithm will learn the\n",
    "coefficients of the hyperplane by minimizing the loss function."
   ]
  },
  {
   "cell_type": "markdown",
   "metadata": {},
   "source": [
    "#### To use any method in scikit-learn,\n",
    "we must first create the corresponding classifier object, initialize its parameters, and train the model that better fits the training data."
   ]
  },
  {
   "cell_type": "markdown",
   "metadata": {},
   "source": [
    "### Fit a Linear Classification method."
   ]
  },
  {
   "cell_type": "code",
   "execution_count": 9,
   "metadata": {
    "collapsed": false
   },
   "outputs": [
    {
     "data": {
      "text/plain": [
       "SGDClassifier(alpha=0.0001, average=False, class_weight=None, epsilon=0.1,\n",
       "       eta0=0.0, fit_intercept=True, l1_ratio=0.15,\n",
       "       learning_rate='optimal', loss='hinge', n_iter=5, n_jobs=1,\n",
       "       penalty='l2', power_t=0.5, random_state=None, shuffle=True,\n",
       "       verbose=0, warm_start=False)"
      ]
     },
     "execution_count": 9,
     "metadata": {},
     "output_type": "execute_result"
    }
   ],
   "source": [
    "# create the linear model classifier\n",
    "from sklearn.linear_model import SGDClassifier\n",
    "clf = SGDClassifier()\n",
    "# fit (train) the classifier\n",
    "clf.fit(X_train, y_train)\n"
   ]
  },
  {
   "cell_type": "markdown",
   "metadata": {},
   "source": [
    "For the\n",
    "moment, we will use the default values, but keep in mind that these parameters\n",
    "could be very important, especially when you face more real-world tasks, where the\n",
    "number of instances (or even the number of attributes) could be very large. \n",
    "\n",
    "The fit\n",
    "function is probably the most important one in scikit-learn. It receives the training\n",
    "data and the training classes, and builds the classifier. Every supervised learning\n",
    "method in scikit-learn implements this function."
   ]
  },
  {
   "cell_type": "markdown",
   "metadata": {},
   "source": [
    "### Every classification decision depends just on a hyperplane.\n",
    "\n",
    "That\n",
    "hyperplane is, then, our model. \n",
    "\n",
    "The coef_ attribute of the clf object (consider, for\n",
    "the moment, only the first row of the matrices), now has the coefficients of the linear\n",
    "boundary and the intercept_ attribute, the point of intersection of the line with the\n",
    "y axis."
   ]
  },
  {
   "cell_type": "code",
   "execution_count": 11,
   "metadata": {
    "collapsed": false
   },
   "outputs": [
    {
     "name": "stdout",
     "output_type": "stream",
     "text": [
      "[[-35.15056178  19.74436595]\n",
      " [  7.21378436 -18.84799596]\n",
      " [ 26.08674786   4.07000427]]\n",
      "[-11.73953054 -15.63066843  -4.05654805]\n"
     ]
    }
   ],
   "source": [
    "# print learned coeficients\n",
    "print (clf.coef_)\n",
    "print (clf.intercept_)"
   ]
  },
  {
   "cell_type": "markdown",
   "metadata": {},
   "source": [
    "##### With these three values, we can draw a line, represented by the following equation:\n",
    "-11.73953054 - 15.63066843 * x1 - 4.05654805 * x2 = 0\n",
    "\n",
    "Now, given x1 and x2 (our real-valued features), we just have to compute the value\n",
    "of the left-side of the equation: if its value is greater than zero, then the point is\n",
    "above the decision boundary (the red side), otherwise it will be beneath the line (the\n",
    "green or blue side). Our prediction algorithm will simply check this and predict the\n",
    "corresponding class for any new iris flower."
   ]
  },
  {
   "cell_type": "markdown",
   "metadata": {},
   "source": [
    "##### why does our coefficient matrix have three rows?"
   ]
  },
  {
   "cell_type": "markdown",
   "metadata": {},
   "source": [
    "Because we did not tell the\n",
    "method that we have changed our problem definition (how could we have done\n",
    "this?), and it is facing a three-class problem, not a binary decision problem. W\n",
    "\n",
    "What, in\n",
    "this case, the classifier does is the same we did—it converts the problem into three\n",
    "binary classification problems in a one-versus-all setting (it proposes three lines that\n",
    "separate a class from the rest)."
   ]
  },
  {
   "cell_type": "markdown",
   "metadata": {},
   "source": [
    "Plot the three decision curves. Note that Class 0 is linearly separable, while Class 1 and Class 2 are not"
   ]
  },
  {
   "cell_type": "code",
   "execution_count": 14,
   "metadata": {
    "collapsed": false
   },
   "outputs": [
    {
     "data": {
      "image/png": "[encoded data removed]",
      "text/plain": [
       "<matplotlib.figure.Figure at 0x18a4f563d30>"
      ]
     },
     "metadata": {},
     "output_type": "display_data"
    }
   ],
   "source": [
    "x_min, x_max = X_train[:, 0].min() - .5, X_train[:, 0].max() + .5\n",
    "y_min, y_max = X_train[:, 1].min() - .5, X_train[:, 1].max() + .5\n",
    "xs = np.arange(x_min,x_max,0.5)\n",
    "fig, axes = plt.subplots(1,3)\n",
    "fig.set_size_inches(10,6)\n",
    "for i in [0,1,2]:\n",
    "    axes[i].set_aspect('equal')\n",
    "    axes[i].set_title('Class ' + str(i) + ' versus the rest')\n",
    "    axes[i].set_xlabel('Sepal length')\n",
    "    axes[i].set_ylabel('Sepal width')\n",
    "    axes[i].set_xlim(x_min, x_max)\n",
    "    axes[i].set_ylim(y_min, y_max)\n",
    "    sca(axes[i])\n",
    "    for j in range(len(colors)):\n",
    "        px = X_train[:, 0][y_train == j]\n",
    "        py = X_train[:, 1][y_train == j]\n",
    "        plt.scatter(px, py, c=colors[j])\n",
    "    ys = (-clf.intercept_[i]-xs*clf.coef_[i,0])/clf.coef_[i,1]\n",
    "    plt.plot(xs,ys,hold=True)"
   ]
  },
  {
   "cell_type": "markdown",
   "metadata": {},
   "source": [
    "The first plot shows the model built for our original binary problem. It looks like\n",
    "the line separates quite well the Iris setosa from the rest. For the other two tasks, as\n",
    "we expected, there are several points that lie on the wrong side of the hyperplane."
   ]
  },
  {
   "cell_type": "markdown",
   "metadata": {},
   "source": [
    "##### Suppose that we have a new flower \n",
    "with a sepal width of 4.7 and a sepal length of 3.1, and we want to predict its class. We just have to apply\n",
    "our brand new classifier to it (after normalizing!)."
   ]
  },
  {
   "cell_type": "markdown",
   "metadata": {},
   "source": [
    "The predict method takes\n",
    "an array of instances (in this case, with just one element) and returns a list of\n",
    "predicted classes:"
   ]
  },
  {
   "cell_type": "code",
   "execution_count": 16,
   "metadata": {
    "collapsed": false
   },
   "outputs": [
    {
     "name": "stdout",
     "output_type": "stream",
     "text": [
      "[0]\n",
      "[[ 34.3969495  -26.49609974 -36.52854845]]\n"
     ]
    }
   ],
   "source": [
    "#Evaluate a particular instance\n",
    "print (clf.predict(scaler.transform([[4.7, 3.1]])))\n",
    "\n",
    "#If our classifier is right, this Iris flower is a setosa.\n",
    "\n",
    "\n",
    "#we will select the boundary line whose distance to the\n",
    "#instance is longer.\n",
    "print (clf.decision_function(scaler.transform([[4.7, 3.1]])))"
   ]
  },
  {
   "cell_type": "markdown",
   "metadata": {},
   "source": [
    "## Evaluating our results\n",
    "\n",
    "The performance of a classifier is a measure of its effectiveness. \n",
    "\n",
    "The\n",
    "simplest performance measure is accuracy: given a classifier and an evaluation\n",
    "dataset, it measures the proportion of instances correctly classified by the classifier.\n",
    "\n",
    "First, let's test the accuracy on the training set:"
   ]
  },
  {
   "cell_type": "code",
   "execution_count": 17,
   "metadata": {
    "collapsed": false
   },
   "outputs": [
    {
     "name": "stdout",
     "output_type": "stream",
     "text": [
      "0.794642857143\n"
     ]
    }
   ],
   "source": [
    "from sklearn import metrics\n",
    "y_train_pred = clf.predict(X_train)\n",
    "print (metrics.accuracy_score(y_train, y_train_pred))"
   ]
  },
  {
   "cell_type": "markdown",
   "metadata": {},
   "source": [
    "This figure tells us that 79.4 percent of the training set instances are correctly classified\n",
    "by our classifier."
   ]
  },
  {
   "cell_type": "markdown",
   "metadata": {},
   "source": [
    "###### If you measure based on your training data, you will never detect overfitting. So, never measure based on your training data."
   ]
  },
  {
   "cell_type": "markdown",
   "metadata": {},
   "source": [
    "we\n",
    "want to evaluate performance on previously unseen data. Let's check the accuracy\n",
    "again, now on the evaluation set (recall that it was already scaled):"
   ]
  },
  {
   "cell_type": "code",
   "execution_count": 19,
   "metadata": {
    "collapsed": false
   },
   "outputs": [
    {
     "name": "stdout",
     "output_type": "stream",
     "text": [
      "0.631578947368\n"
     ]
    }
   ],
   "source": [
    "#Measure accuracy on the testing set\n",
    "y_pred = clf.predict(X_test)\n",
    "print (metrics.accuracy_score(y_test, y_pred))"
   ]
  },
  {
   "cell_type": "markdown",
   "metadata": {},
   "source": [
    "We obtained an accuracy of 63 percent in our testing set. \n",
    "\n",
    "Usually, accuracy on the\n",
    "testing set is lower than the accuracy on the training set, since the model is actually\n",
    "modeling the training set, not the testing set."
   ]
  },
  {
   "cell_type": "markdown",
   "metadata": {},
   "source": [
    "Accuracy on the test set is a good performance measure when the number of instances\n",
    "of each class is similar, that is, we have a uniform distribution of classes. \n",
    "\n",
    "But if you\n",
    "have a skewed distribution (say, 99 percent of the instances belong to one class), a\n",
    "classifier that always predicts the majority class could have an excellent performance in\n",
    "terms of accuracy despite the fact that it is an extremely naive method."
   ]
  },
  {
   "cell_type": "markdown",
   "metadata": {},
   "source": [
    "###### We can define these measures in terms of True and False, and Positives and Negatives:\n",
    "    \n",
    "                    \n",
    "With m being the sample size (that is, True Positive(TP) + True Negative(TN) + False Positive(FP) + False Negative(FN)), we have the\n",
    "following formulae:\n",
    "\n",
    "• Accuracy = (TP + TN) / m\n",
    "\n",
    "• Precision = TP / (TP + FP)\n",
    "\n",
    "• Recall = TP / (TP + FN)\n",
    "\n",
    "• F1-score = 2 * Precision * Recall / (Precision + Recall)"
   ]
  },
  {
   "cell_type": "markdown",
   "metadata": {},
   "source": [
    "###### Evaluate results using Precision, Recall and F-score, and show the confusion matrix"
   ]
  },
  {
   "cell_type": "code",
   "execution_count": 21,
   "metadata": {
    "collapsed": false
   },
   "outputs": [
    {
     "name": "stdout",
     "output_type": "stream",
     "text": [
      "             precision    recall  f1-score   support\n",
      "\n",
      "     setosa       1.00      1.00      1.00         8\n",
      " versicolor       0.20      0.09      0.13        11\n",
      "  virginica       0.60      0.79      0.68        19\n",
      "\n",
      "avg / total       0.57      0.63      0.59        38\n",
      "\n"
     ]
    }
   ],
   "source": [
    "print (metrics.classification_report(y_test, y_pred, target_names=iris.target_names))"
   ]
  },
  {
   "cell_type": "markdown",
   "metadata": {},
   "source": [
    "The classifier obtained 1.0 precision and recall in the setosa class. This\n",
    "means that for precision, 100 percent of the instances that are classified as\n",
    "setosa are really setosa instances, and for recall, that 100 percent of the setosa\n",
    "instances were classified as setosa.\n",
    "\n",
    "On the other hand, in the versicolor class, the results are not as good:\n",
    "we have a precision of 0.20, that is, only 20 percent of the instances that are\n",
    "classified as versicolor are really versicolor instances. Also, for versicolor, we\n",
    "have a recall of 0.09, that is, only 9 percent of the versicolor instances are\n",
    "correctly classified."
   ]
  },
  {
   "cell_type": "markdown",
   "metadata": {},
   "source": [
    "Now, we can see that our method (as we expected) is very good at predicting\n",
    "setosa, while it suffers when it has to separate the versicolor or virginica\n",
    "classes. \n",
    "\n",
    "The support value shows how many instances of each class we had in the\n",
    "testing set."
   ]
  },
  {
   "cell_type": "markdown",
   "metadata": {},
   "source": [
    "Another useful metric (especially for multi-class problems) is the confusion matrix:\n",
    "in its (i, j) cell, it shows the number of class instances i that were predicted to\n",
    "be in class j. \n",
    "\n",
    "A good classifier will accumulate the values on the confusion matrix\n",
    "diagonal, where correctly classified instances belong."
   ]
  },
  {
   "cell_type": "code",
   "execution_count": 24,
   "metadata": {
    "collapsed": false
   },
   "outputs": [
    {
     "name": "stdout",
     "output_type": "stream",
     "text": [
      "[[ 8  0  0]\n",
      " [ 0  1 10]\n",
      " [ 0  4 15]]\n"
     ]
    }
   ],
   "source": [
    "print (metrics.confusion_matrix(y_test, y_pred))"
   ]
  },
  {
   "cell_type": "markdown",
   "metadata": {},
   "source": [
    "Our classifier is never wrong in our evaluation set when it classifies class 0 (setosa)\n",
    "flowers. But, when it faces classes 1 and 2 flowers (versicolor and virginica), it\n",
    "confuses them. The confusion matrix gives us useful information to know what types\n",
    "of errors the classifier is making."
   ]
  },
  {
   "cell_type": "markdown",
   "metadata": {},
   "source": [
    "###### To finish our evaluation process, we will introduce a very useful method known as cross-validation."
   ]
  },
  {
   "cell_type": "markdown",
   "metadata": {},
   "source": [
    "Cross-validation allows us to avoid this particular case, reducing result variance and\n",
    "producing a more realistic score for our models. \n",
    "\n",
    "The usual steps for k-fold\n",
    "cross-validation are the following:\n",
    "\n",
    "1. Partition the dataset into k different subsets.\n",
    "\n",
    "2. Create k different models by training on k-1 subsets and testing on the remaining subset.\n",
    "\n",
    "3. Measure the performance on each of the k models and take the average measure.\n",
    "\n",
    "Cross-validation, by default, uses accuracy\n",
    "as its performance measure, but we could select the measurement by passing any\n",
    "scorer function as an argument."
   ]
  },
  {
   "cell_type": "markdown",
   "metadata": {},
   "source": [
    "We will have to create a composite\n",
    "estimator made by a pipeline of the standardization and linear models. \n",
    "\n",
    "With this\n",
    "technique, we make sure that each iteration will standardize the data and then\n",
    "train/test on the transformed data. \n",
    "\n",
    "The Pipeline class is also useful to simplify\n",
    "the construction of more complex models that chain-multiply the transformations."
   ]
  },
  {
   "cell_type": "code",
   "execution_count": 28,
   "metadata": {
    "collapsed": false
   },
   "outputs": [
    {
     "name": "stdout",
     "output_type": "stream",
     "text": [
      "[ 0.73333333  0.8         0.76666667  0.76666667  0.76666667]\n"
     ]
    }
   ],
   "source": [
    "#Create a new classifier: a pipeline of the standarizer and the linear model. \n",
    "#Measure the cross-validation accuracy.\n",
    "\n",
    "from sklearn.cross_validation import cross_val_score, KFold\n",
    "from sklearn.pipeline import Pipeline\n",
    "\n",
    "# create a composite estimator made by a pipeline of the standarization and the linear model\n",
    "clf = Pipeline([\n",
    "        ('scaler', StandardScaler()),\n",
    "        ('linear_model', SGDClassifier())\n",
    "])\n",
    "# create a k-fold croos validation iterator of k=5 folds\n",
    "cv = KFold(X.shape[0], 5, shuffle=True, random_state=33)\n",
    "# by default the score used is the one returned by score method of the estimator (accuracy)\n",
    "scores = cross_val_score(clf, X, y, cv=cv)\n",
    "print (scores)"
   ]
  },
  {
   "cell_type": "code",
   "execution_count": 29,
   "metadata": {
    "collapsed": false
   },
   "outputs": [
    {
     "name": "stdout",
     "output_type": "stream",
     "text": [
      "Mean score: 0.767 (+/-0.011)\n"
     ]
    }
   ],
   "source": [
    "#Calculate the mean and standard error of cross-validation accuracy\n",
    "\n",
    "from scipy.stats import sem\n",
    "\n",
    "def mean_score(scores):\n",
    "    \"\"\"Print the empirical mean score and standard error of the mean.\"\"\"\n",
    "    return (\"Mean score: {0:.3f} (+/-{1:.3f})\").format(\n",
    "        np.mean(scores), sem(scores))\n",
    "\n",
    "print (mean_score(scores))"
   ]
  },
  {
   "cell_type": "markdown",
   "metadata": {},
   "source": [
    "Our model has an average accuracy of 0.76."
   ]
  },
  {
   "cell_type": "markdown",
   "metadata": {},
   "source": [
    "The general rule in order to avoid overfitting is, we should prefer simple (that\n",
    "is, with less parameters) methods, something that could be seen as an instantiation\n",
    "of the philosophical principle of Occam's razor, which states that among competing\n",
    "hypotheses, the hypothesis with the fewest assumptions should be selected."
   ]
  },
  {
   "cell_type": "code",
   "execution_count": null,
   "metadata": {
    "collapsed": true
   },
   "outputs": [],
   "source": []
  }
 ],
 "metadata": {
  "kernelspec": {
   "display_name": "Python 3",
   "language": "python",
   "name": "python3"
  },
  "language_info": {
   "codemirror_mode": {
    "name": "ipython",
    "version": 3
   },
   "file_extension": ".py",
   "mimetype": "text/x-python",
   "name": "python",
   "nbconvert_exporter": "python",
   "pygments_lexer": "ipython3",
   "version": "3.5.1"
  }
 },
 "nbformat": 4,
 "nbformat_minor": 0
}
