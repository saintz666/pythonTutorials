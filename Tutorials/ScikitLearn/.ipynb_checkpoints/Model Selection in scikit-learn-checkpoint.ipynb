{
 "cells": [
  {
   "cell_type": "markdown",
   "metadata": {},
   "source": [
    "We will focus on selecting\n",
    "the algorithm parameters, known as hyperparameters to distinguish them from the\n",
    "parameters that are adjusted within the machine learning algorithm."
   ]
  },
  {
   "cell_type": "code",
   "execution_count": 1,
   "metadata": {
    "collapsed": false
   },
   "outputs": [
    {
     "name": "stdout",
     "output_type": "stream",
     "text": [
      "Populating the interactive namespace from numpy and matplotlib\n"
     ]
    }
   ],
   "source": [
    "%pylab inline\n",
    "from sklearn.datasets import fetch_20newsgroups\n",
    "\n",
    "news = fetch_20newsgroups(subset='all')\n",
    "\n",
    "n_samples = 3000\n",
    "\n",
    "X = news.data[:n_samples]\n",
    "y = news.target[:n_samples]"
   ]
  },
  {
   "cell_type": "code",
   "execution_count": 2,
   "metadata": {
    "collapsed": true
   },
   "outputs": [],
   "source": [
    "from sklearn.naive_bayes import MultinomialNB\n",
    "from sklearn.pipeline import Pipeline\n",
    "from sklearn.feature_extraction.text import TfidfVectorizer"
   ]
  },
  {
   "cell_type": "code",
   "execution_count": 3,
   "metadata": {
    "collapsed": false
   },
   "outputs": [],
   "source": [
    "def get_stop_words():\n",
    "    result = set()\n",
    "    for line in open('stopwords_en.txt', 'r').readlines():\n",
    "        result.add(line.strip())\n",
    "    return result\n",
    "\n",
    "stop_words = get_stop_words()\n",
    "\n",
    "clf = Pipeline([\n",
    "    ('vect', TfidfVectorizer(\n",
    "                stop_words=stop_words,\n",
    "                token_pattern=r\"\\b[a-z0-9_\\-\\.]+[a-z][a-z0-9_\\-\\.]+\\b\",         \n",
    "    )),\n",
    "    ('nb', MultinomialNB(alpha=0.01)),\n",
    "])"
   ]
  },
  {
   "cell_type": "markdown",
   "metadata": {},
   "source": [
    "#### Evaluate our algorithm with a three-fold cross-validation"
   ]
  },
  {
   "cell_type": "code",
   "execution_count": 4,
   "metadata": {
    "collapsed": false
   },
   "outputs": [],
   "source": [
    "from sklearn.cross_validation import cross_val_score, KFold\n",
    "from scipy.stats import sem\n",
    "\n",
    "def evaluate_cross_validation(clf, X, y, K):\n",
    "    # create a k-fold croos validation iterator of k=5 folds\n",
    "    cv = KFold(len(y), K, shuffle=True, random_state=0)\n",
    "    # by default the score used is the one returned by score method of the estimator (accuracy)\n",
    "    scores = cross_val_score(clf, X, y, cv=cv)\n",
    "    print (scores)\n",
    "    print ((\"Mean score: {0:.3f} (+/-{1:.3f})\").format(\n",
    "        np.mean(scores), sem(scores)))"
   ]
  },
  {
   "cell_type": "code",
   "execution_count": 5,
   "metadata": {
    "collapsed": false
   },
   "outputs": [
    {
     "name": "stdout",
     "output_type": "stream",
     "text": [
      "[ 0.812  0.808  0.822]\n",
      "Mean score: 0.814 (+/-0.004)\n"
     ]
    }
   ],
   "source": [
    "evaluate_cross_validation(clf, X, y, 3)"
   ]
  },
  {
   "cell_type": "markdown",
   "metadata": {},
   "source": [
    "It looks like we should train the algorithm with a list of different parameter values\n",
    "and keep the parameter value that achieves the best results. Let's implement a helper\n",
    "function to do that. This function will train the algorithm with a list of values, each\n",
    "time obtaining an accuracy score calculated by performing k-fold cross-validation\n",
    "on the training instances. After that, it will plot the training and testing scores as a\n",
    "function of the parameter values."
   ]
  },
  {
   "cell_type": "code",
   "execution_count": 6,
   "metadata": {
    "collapsed": false
   },
   "outputs": [],
   "source": [
    "def calc_params(X, y, clf, param_values, param_name, K):\n",
    "    # initialize training and testing scores with zeros\n",
    "    train_scores = np.zeros(len(param_values))\n",
    "    test_scores = np.zeros(len(param_values))\n",
    "    \n",
    "    # iterate over the different parameter values\n",
    "    for i, param_value in enumerate(param_values):\n",
    "        print (param_name, ' = ', param_value)\n",
    "        \n",
    "        # set classifier parameters\n",
    "        clf.set_params(**{param_name:param_value})\n",
    "        \n",
    "        # initialize the K scores obtained for each fold\n",
    "        k_train_scores = np.zeros(K)\n",
    "        k_test_scores = np.zeros(K)\n",
    "        \n",
    "        # create KFold cross validation\n",
    "        cv = KFold(n_samples, K, shuffle=True, random_state=0)\n",
    "        \n",
    "        # iterate over the K folds\n",
    "        for j, (train, test) in enumerate(cv):\n",
    "            # fit the classifier in the corresponding fold\n",
    "            # and obtain the corresponding accuracy scores on train and test sets\n",
    "            clf.fit([X[k] for k in train], y[train])\n",
    "            k_train_scores[j] = clf.score([X[k] for k in train], y[train])\n",
    "            k_test_scores[j] = clf.score([X[k] for k in test], y[test])\n",
    "            \n",
    "        # store the mean of the K fold scores\n",
    "        train_scores[i] = np.mean(k_train_scores)\n",
    "        test_scores[i] = np.mean(k_test_scores)\n",
    "       \n",
    "    # plot the training and testing scores in a log scale\n",
    "    plt.semilogx(param_values, train_scores, alpha=0.4, lw=2, c='b')\n",
    "    plt.semilogx(param_values, test_scores, alpha=0.4, lw=2, c='g')\n",
    "    \n",
    "    plt.xlabel(param_name + \" values\")\n",
    "    plt.ylabel(\"Mean cross validation accuracy\")\n",
    "\n",
    "    # return the training and testing scores on each parameter value\n",
    "    return train_scores, test_scores"
   ]
  },
  {
   "cell_type": "markdown",
   "metadata": {},
   "source": [
    "The function accepts six arguments: the feature array, the target array, the classifier\n",
    "object to be used, the list of parameter values, the name of the parameter to adjust,\n",
    "and the number of K folds to be used in the crossvalidation evaluation."
   ]
  },
  {
   "cell_type": "markdown",
   "metadata": {},
   "source": [
    "we will use numpy's logspace function to generate a list of\n",
    "alpha values spaced evenly on a log scale."
   ]
  },
  {
   "cell_type": "code",
   "execution_count": 7,
   "metadata": {
    "collapsed": false
   },
   "outputs": [
    {
     "name": "stdout",
     "output_type": "stream",
     "text": [
      "[  1.00000000e-07   1.00000000e-06   1.00000000e-05   1.00000000e-04\n",
      "   1.00000000e-03   1.00000000e-02   1.00000000e-01   1.00000000e+00]\n"
     ]
    }
   ],
   "source": [
    "alphas = np.logspace(-7, 0, 8)\n",
    "print (alphas)"
   ]
  },
  {
   "cell_type": "code",
   "execution_count": 8,
   "metadata": {
    "collapsed": false
   },
   "outputs": [
    {
     "name": "stdout",
     "output_type": "stream",
     "text": [
      "nb__alpha  =  1e-07\n",
      "nb__alpha  =  1e-06\n",
      "nb__alpha  =  1e-05\n",
      "nb__alpha  =  0.0001\n",
      "nb__alpha  =  0.001\n",
      "nb__alpha  =  0.01\n",
      "nb__alpha  =  0.1\n",
      "nb__alpha  =  1.0\n"
     ]
    },
    {
     "data": {
      "image/png": "[encoded data removed]",
      "text/plain": [
       "<matplotlib.figure.Figure at 0x174956a2b70>"
      ]
     },
     "metadata": {},
     "output_type": "display_data"
    }
   ],
   "source": [
    "train_scores, test_scores = calc_params(X, y, clf, alphas, 'nb__alpha', 3)"
   ]
  },
  {
   "cell_type": "markdown",
   "metadata": {},
   "source": [
    "the training accuracy is always greater than the testing accuracy. We\n",
    "can see in the graph that the best testing accuracy is obtained with an alpha value in\n",
    "the range of 10-2 and 10-1. Below this range, the classifier shows signs of overfitting\n",
    "(the training accuracy is high but the testing accuracy is lower than it could be).\n",
    "Above this range, the classifier shows signs of underfitting (accuracy on the training\n",
    "set is lower than it could be).\n",
    "\n",
    "It is worth mentioning that at this point a second pass could be performed in the\n",
    "range of 10-2 and 10-1with a finer grid to find an ever better alpha value."
   ]
  },
  {
   "cell_type": "code",
   "execution_count": 9,
   "metadata": {
    "collapsed": false
   },
   "outputs": [
    {
     "name": "stdout",
     "output_type": "stream",
     "text": [
      "training scores:  [ 1.          1.          1.          1.          1.          1.\n",
      "  0.99683333  0.97416667]\n",
      "testing scores:  [ 0.77133333  0.77666667  0.78233333  0.79466667  0.80366667  0.814\n",
      "  0.80733333  0.74533333]\n"
     ]
    }
   ],
   "source": [
    "print ('training scores: ', train_scores)\n",
    "print ('testing scores: ', test_scores)"
   ]
  },
  {
   "cell_type": "markdown",
   "metadata": {},
   "source": [
    "The best results are obtained with an alpha value of 1.0 or 0.1 (accuracy of 0.814 or 0.807)."
   ]
  },
  {
   "cell_type": "markdown",
   "metadata": {},
   "source": [
    "#### Let us try on SVM"
   ]
  },
  {
   "cell_type": "code",
   "execution_count": 10,
   "metadata": {
    "collapsed": false
   },
   "outputs": [],
   "source": [
    "from sklearn.svm import SVC\n",
    "\n",
    "clf = Pipeline([\n",
    "    ('vect', TfidfVectorizer(\n",
    "                stop_words=stop_words,\n",
    "                token_pattern=r\"\\b[a-z0-9_\\-\\.]+[a-z][a-z0-9_\\-\\.]+\\b\",         \n",
    "    )),\n",
    "    ('svc', SVC()),\n",
    "])"
   ]
  },
  {
   "cell_type": "code",
   "execution_count": 11,
   "metadata": {
    "collapsed": false
   },
   "outputs": [
    {
     "name": "stdout",
     "output_type": "stream",
     "text": [
      "svc__gamma  =  0.01\n",
      "svc__gamma  =  0.1\n",
      "svc__gamma  =  1.0\n",
      "svc__gamma  =  10.0\n"
     ]
    },
    {
     "data": {
      "image/png": "[encoded data removed]",
      "text/plain": [
       "<matplotlib.figure.Figure at 0x174957bc438>"
      ]
     },
     "metadata": {},
     "output_type": "display_data"
    }
   ],
   "source": [
    "gammas = np.logspace(-2, 1, 4)\n",
    "\n",
    "train_scores, test_scores = calc_params(X, y, clf, gammas, 'svc__gamma', 3)"
   ]
  },
  {
   "cell_type": "markdown",
   "metadata": {},
   "source": [
    "For gamma values lesser than one we have underfitting and for gamma values\n",
    "greater than one we have overfitting."
   ]
  },
  {
   "cell_type": "code",
   "execution_count": 12,
   "metadata": {
    "collapsed": false
   },
   "outputs": [
    {
     "name": "stdout",
     "output_type": "stream",
     "text": [
      "training scores:  [ 0.06183333  0.279       0.99966667  1.        ]\n",
      "testing scores:  [ 0.04866667  0.162       0.74666667  0.05166667]\n"
     ]
    }
   ],
   "source": [
    "print ('training scores: ', train_scores)\n",
    "print ('testing scores: ', test_scores)"
   ]
  },
  {
   "cell_type": "markdown",
   "metadata": {},
   "source": [
    "So the best result is for a gamma value of 1, where we obtain a training accuracy of\n",
    "0.999 and a testing accuracy of 0.760."
   ]
  },
  {
   "cell_type": "markdown",
   "metadata": {},
   "source": [
    "To mitigate the problem of trying all the parameter combinations, sklearn has got GridSearchCV within\n",
    "the sklearn.grid_search module. What we have been doing with our calc_\n",
    "params function is a kind of grid search in one dimension. With GridSearchCV, we\n",
    "can specify a grid of any number of parameters and parameter values to traverse. It\n",
    "will train the classifier for each combination and obtain a cross-validation accuracy to\n",
    "evaluate each one.\n",
    "\n",
    "Let's use it to adjust the C and the gamma parameters in SVM at the same time."
   ]
  },
  {
   "cell_type": "code",
   "execution_count": 20,
   "metadata": {
    "collapsed": true
   },
   "outputs": [],
   "source": [
    "from sklearn.grid_search import GridSearchCV\n",
    "\n",
    "parameters = {\n",
    "    'svc__gamma': np.logspace(-2, 1, 4),\n",
    "    'svc__C': np.logspace(-1, 1, 3),\n",
    "}\n",
    "\n",
    "clf = Pipeline([\n",
    "    ('vect', TfidfVectorizer(\n",
    "                stop_words=stop_words,\n",
    "                token_pattern=r\"\\b[a-z0-9_\\-\\.]+[a-z][a-z0-9_\\-\\.]+\\b\",         \n",
    "    )),\n",
    "    ('svc', SVC()),\n",
    "])\n",
    "\n",
    "gs = GridSearchCV(clf, parameters, verbose=2, refit=False, cv=3)"
   ]
  },
  {
   "cell_type": "markdown",
   "metadata": {},
   "source": [
    "Let's execute our grid search and print the best parameter values and scores."
   ]
  },
  {
   "cell_type": "code",
   "execution_count": 21,
   "metadata": {
    "collapsed": false
   },
   "outputs": [
    {
     "name": "stdout",
     "output_type": "stream",
     "text": [
      "Fitting 3 folds for each of 12 candidates, totalling 36 fits\n",
      "[CV] svc__C=0.1, svc__gamma=0.01 .....................................\n",
      "[CV] ............................ svc__C=0.1, svc__gamma=0.01 -   8.4s\n",
      "[CV] svc__C=0.1, svc__gamma=0.01 .....................................\n",
      "[CV] ............................ svc__C=0.1, svc__gamma=0.01 -   8.9s\n",
      "[CV] svc__C=0.1, svc__gamma=0.01 .....................................\n",
      "[CV] ............................ svc__C=0.1, svc__gamma=0.01 -   9.3s\n",
      "[CV] svc__C=0.1, svc__gamma=0.1 ......................................\n",
      "[CV] ............................. svc__C=0.1, svc__gamma=0.1 -  10.5s\n",
      "[CV] svc__C=0.1, svc__gamma=0.1 ......................................\n",
      "[CV] ............................. svc__C=0.1, svc__gamma=0.1 -   9.2s\n",
      "[CV] svc__C=0.1, svc__gamma=0.1 ......................................\n",
      "[CV] ............................. svc__C=0.1, svc__gamma=0.1 -   9.8s\n",
      "[CV] svc__C=0.1, svc__gamma=1.0 ......................................\n",
      "[CV] ............................. svc__C=0.1, svc__gamma=1.0 -   9.6s\n",
      "[CV] svc__C=0.1, svc__gamma=1.0 ......................................\n",
      "[CV] ............................. svc__C=0.1, svc__gamma=1.0 -   9.4s\n",
      "[CV] svc__C=0.1, svc__gamma=1.0 ......................................\n",
      "[CV] ............................. svc__C=0.1, svc__gamma=1.0 -   9.6s\n",
      "[CV] svc__C=0.1, svc__gamma=10.0 .....................................\n",
      "[CV] ............................ svc__C=0.1, svc__gamma=10.0 -  10.2s\n",
      "[CV] svc__C=0.1, svc__gamma=10.0 .....................................\n",
      "[CV] ............................ svc__C=0.1, svc__gamma=10.0 -   9.4s\n",
      "[CV] svc__C=0.1, svc__gamma=10.0 .....................................\n",
      "[CV] ............................ svc__C=0.1, svc__gamma=10.0 -   9.4s\n",
      "[CV] svc__C=1.0, svc__gamma=0.01 .....................................\n",
      "[CV] ............................ svc__C=1.0, svc__gamma=0.01 -   9.2s\n",
      "[CV] svc__C=1.0, svc__gamma=0.01 .....................................\n",
      "[CV] ............................ svc__C=1.0, svc__gamma=0.01 -   9.2s\n",
      "[CV] svc__C=1.0, svc__gamma=0.01 .....................................\n",
      "[CV] ............................ svc__C=1.0, svc__gamma=0.01 -   9.2s\n",
      "[CV] svc__C=1.0, svc__gamma=0.1 ......................................\n",
      "[CV] ............................. svc__C=1.0, svc__gamma=0.1 -   8.8s\n",
      "[CV] svc__C=1.0, svc__gamma=0.1 ......................................\n",
      "[CV] ............................. svc__C=1.0, svc__gamma=0.1 -   8.8s\n",
      "[CV] svc__C=1.0, svc__gamma=0.1 ......................................\n",
      "[CV] ............................. svc__C=1.0, svc__gamma=0.1 -   8.8s\n",
      "[CV] svc__C=1.0, svc__gamma=1.0 ......................................\n",
      "[CV] ............................. svc__C=1.0, svc__gamma=1.0 -   8.4s\n",
      "[CV] svc__C=1.0, svc__gamma=1.0 ......................................\n",
      "[CV] ............................. svc__C=1.0, svc__gamma=1.0 -   8.8s\n",
      "[CV] svc__C=1.0, svc__gamma=1.0 ......................................\n",
      "[CV] ............................. svc__C=1.0, svc__gamma=1.0 -   9.0s\n",
      "[CV] svc__C=1.0, svc__gamma=10.0 .....................................\n",
      "[CV] ............................ svc__C=1.0, svc__gamma=10.0 -   8.7s\n",
      "[CV] svc__C=1.0, svc__gamma=10.0 .....................................\n",
      "[CV] ............................ svc__C=1.0, svc__gamma=10.0 -   8.8s\n",
      "[CV] svc__C=1.0, svc__gamma=10.0 .....................................\n",
      "[CV] ............................ svc__C=1.0, svc__gamma=10.0 -   8.9s\n",
      "[CV] svc__C=10.0, svc__gamma=0.01 ....................................\n",
      "[CV] ........................... svc__C=10.0, svc__gamma=0.01 -   8.6s\n",
      "[CV] svc__C=10.0, svc__gamma=0.01 ....................................\n",
      "[CV] ........................... svc__C=10.0, svc__gamma=0.01 -   8.3s\n",
      "[CV] svc__C=10.0, svc__gamma=0.01 ....................................\n",
      "[CV] ........................... svc__C=10.0, svc__gamma=0.01 -   8.7s\n",
      "[CV] svc__C=10.0, svc__gamma=0.1 .....................................\n",
      "[CV] ............................ svc__C=10.0, svc__gamma=0.1 -   8.7s\n",
      "[CV] svc__C=10.0, svc__gamma=0.1 .....................................\n",
      "[CV] ............................ svc__C=10.0, svc__gamma=0.1 -   8.7s\n",
      "[CV] svc__C=10.0, svc__gamma=0.1 .....................................\n",
      "[CV] ............................ svc__C=10.0, svc__gamma=0.1 -   9.1s\n",
      "[CV] svc__C=10.0, svc__gamma=1.0 .....................................\n",
      "[CV] ............................ svc__C=10.0, svc__gamma=1.0 -   9.3s\n",
      "[CV] svc__C=10.0, svc__gamma=1.0 .....................................\n",
      "[CV] ............................ svc__C=10.0, svc__gamma=1.0 -   9.1s\n",
      "[CV] svc__C=10.0, svc__gamma=1.0 .....................................\n",
      "[CV] ............................ svc__C=10.0, svc__gamma=1.0 -   9.5s\n",
      "[CV] svc__C=10.0, svc__gamma=10.0 ....................................\n",
      "[CV] ........................... svc__C=10.0, svc__gamma=10.0 -   8.8s\n",
      "[CV] svc__C=10.0, svc__gamma=10.0 ....................................\n",
      "[CV] ........................... svc__C=10.0, svc__gamma=10.0 -   8.8s\n",
      "[CV] svc__C=10.0, svc__gamma=10.0 ....................................\n",
      "[CV] ........................... svc__C=10.0, svc__gamma=10.0 -   9.1s\n",
      "Wall time: 5min 30s\n"
     ]
    },
    {
     "name": "stderr",
     "output_type": "stream",
     "text": [
      "[Parallel(n_jobs=1)]: Done  36 out of  36 | elapsed:  5.5min finished\n"
     ]
    },
    {
     "data": {
      "text/plain": [
       "({'svc__C': 10.0, 'svc__gamma': 0.10000000000000001}, 0.82666666666666666)"
      ]
     },
     "execution_count": 21,
     "metadata": {},
     "output_type": "execute_result"
    }
   ],
   "source": [
    "%time _ = gs.fit(X, y)\n",
    "\n",
    "gs.best_params_, gs.best_score_"
   ]
  },
  {
   "cell_type": "markdown",
   "metadata": {},
   "source": [
    "With the grid search, we obtained a better combination of C and gamma parameters,\n",
    "for values 10.0 and 0.10 respectively, with a three-fold cross-validation accuracy of\n",
    "0.811, which is much better than the best value we obtained (0.76) in the previous\n",
    "experiment by only adjusting gamma and keeping the C value at 1.0."
   ]
  },
  {
   "cell_type": "markdown",
   "metadata": {},
   "source": [
    "### Parallel grid search"
   ]
  },
  {
   "cell_type": "markdown",
   "metadata": {},
   "source": [
    "Grid search calculation grows exponentially with each parameter and its possible\n",
    "values we want to tune. We could reduce our response time if we calculate each\n",
    "of the combinations in parallel instead of sequentially, as we have done. In our\n",
    "previous example, we had four different values for gamma and three different values\n",
    "for C, summing up 12 parameter combinations. Additionally, we also needed to train\n",
    "each combination three times (in a three-fold cross-validation), so we summed up\n",
    "36 trainings and evaluations."
   ]
  },
  {
   "cell_type": "markdown",
   "metadata": {},
   "source": [
    "First we will declare a function that will persist all the K folds for the cross validation in different files. These files will be loaded by a process that will execute the corresponding fold:"
   ]
  },
  {
   "cell_type": "code",
   "execution_count": 22,
   "metadata": {
    "collapsed": true
   },
   "outputs": [],
   "source": [
    "from sklearn.externals import joblib\n",
    "from sklearn.cross_validation import ShuffleSplit\n",
    "import os\n",
    "\n",
    "def persist_cv_splits(X, y, K=3, name='data', suffix=\"_cv_%03d.pkl\"):\n",
    "    \"\"\"Dump K folds to filesystem.\"\"\"\n",
    "    \n",
    "    cv_split_filenames = []\n",
    "    \n",
    "    # create KFold cross validation\n",
    "    cv = KFold(n_samples, K, shuffle=True, random_state=0)\n",
    "    \n",
    "    # iterate over the K folds\n",
    "    for i, (train, test) in enumerate(cv):\n",
    "        cv_fold = ([X[k] for k in train], y[train], [X[k] for k in test], y[test])\n",
    "        cv_split_filename = name + suffix % i\n",
    "        cv_split_filename = os.path.abspath(cv_split_filename)\n",
    "        joblib.dump(cv_fold, cv_split_filename)\n",
    "        cv_split_filenames.append(cv_split_filename)\n",
    "    \n",
    "    return cv_split_filenames"
   ]
  },
  {
   "cell_type": "code",
   "execution_count": 23,
   "metadata": {
    "collapsed": true
   },
   "outputs": [],
   "source": [
    "cv_filenames = persist_cv_splits(X, y, name='news')"
   ]
  },
  {
   "cell_type": "markdown",
   "metadata": {},
   "source": [
    "The following function loads a particular fold and fits the classifier with the specified\n",
    "parameter set, returning the testing score. This function will be called by each of the\n",
    "parallel tasks."
   ]
  },
  {
   "cell_type": "code",
   "execution_count": 24,
   "metadata": {
    "collapsed": true
   },
   "outputs": [],
   "source": [
    "def compute_evaluation(cv_split_filename, clf, params):\n",
    "    \n",
    "    # All module imports should be executed in the worker namespace\n",
    "    from sklearn.externals import joblib\n",
    "\n",
    "    # load the fold training and testing partitions from the filesystem\n",
    "    X_train, y_train, X_test, y_test = joblib.load(\n",
    "        cv_split_filename, mmap_mode='c')\n",
    "    \n",
    "    clf.set_params(**params)\n",
    "    clf.fit(X_train, y_train)\n",
    "    test_score = clf.score(X_test, y_test)\n",
    "    return test_score"
   ]
  },
  {
   "cell_type": "markdown",
   "metadata": {},
   "source": [
    "Finally, the following function executes the grid search in parallel tasks. For each\n",
    "parameter combination (returned by the IterGrid iterator), it iterates over K folds\n",
    "and creates a task to compute the evaluation. It returns the parameter combinations\n",
    "alongside the tasks list."
   ]
  },
  {
   "cell_type": "code",
   "execution_count": 25,
   "metadata": {
    "collapsed": false
   },
   "outputs": [],
   "source": [
    "from sklearn.grid_search import ParameterGrid\n",
    "\n",
    "def parallel_grid_search(lb_view, clf, cv_split_filenames, param_grid):\n",
    "    \n",
    "    all_tasks = []\n",
    "    all_parameters = list(ParameterGrid(param_grid))\n",
    "    \n",
    "    # iterate over parameter combinations\n",
    "    for i, params in enumerate(all_parameters):\n",
    "        task_for_params = []\n",
    "        \n",
    "        # iterate over the K folds\n",
    "        for j, cv_split_filename in enumerate(cv_split_filenames):    \n",
    "            t = lb_view.apply(\n",
    "                compute_evaluation, cv_split_filename, clf, params)\n",
    "            task_for_params.append(t) \n",
    "        \n",
    "        all_tasks.append(task_for_params)\n",
    "        \n",
    "    return all_parameters, all_tasks"
   ]
  },
  {
   "cell_type": "markdown",
   "metadata": {},
   "source": [
    "Now we use IPython parallel to get the client and a load balanced view. We must first create a local cluster of N engines by using the Cluster tab in the IPython notebook. Then we create the client, the view and execute our parallel_grid_search function:"
   ]
  },
  {
   "cell_type": "code",
   "execution_count": 26,
   "metadata": {
    "collapsed": false
   },
   "outputs": [
    {
     "name": "stdout",
     "output_type": "stream",
     "text": [
      "Waiting for connection file: ~\\.ipython\\profile_default\\security\\ipcontroller-client.json\n"
     ]
    },
    {
     "ename": "OSError",
     "evalue": "Connection file '~\\\\.ipython\\\\profile_default\\\\security\\\\ipcontroller-client.json' not found.\nYou have attempted to connect to an IPython Cluster but no Controller could be found.\nPlease double-check your configuration and ensure that a cluster is running.",
     "output_type": "error",
     "traceback": [
      "\u001b[1;31m---------------------------------------------------------------------------\u001b[0m",
      "\u001b[1;31mOSError\u001b[0m                                   Traceback (most recent call last)",
      "\u001b[1;32m<ipython-input-26-b15f1b6b1722>\u001b[0m in \u001b[0;36m<module>\u001b[1;34m()\u001b[0m\n\u001b[0;32m      3\u001b[0m \u001b[1;32mimport\u001b[0m \u001b[0mos\u001b[0m\u001b[1;33m\u001b[0m\u001b[0m\n\u001b[0;32m      4\u001b[0m \u001b[1;33m\u001b[0m\u001b[0m\n\u001b[1;32m----> 5\u001b[1;33m \u001b[0mclient\u001b[0m \u001b[1;33m=\u001b[0m \u001b[0mipp\u001b[0m\u001b[1;33m.\u001b[0m\u001b[0mClient\u001b[0m\u001b[1;33m(\u001b[0m\u001b[1;33m)\u001b[0m\u001b[1;33m\u001b[0m\u001b[0m\n\u001b[0m\u001b[0;32m      6\u001b[0m \u001b[0mlb_view\u001b[0m \u001b[1;33m=\u001b[0m \u001b[0mclient\u001b[0m\u001b[1;33m.\u001b[0m\u001b[0mload_balanced_view\u001b[0m\u001b[1;33m(\u001b[0m\u001b[1;33m)\u001b[0m\u001b[1;33m\u001b[0m\u001b[0m\n\u001b[0;32m      7\u001b[0m \u001b[1;33m\u001b[0m\u001b[0m\n",
      "\u001b[1;32mC:\\Anaconda3\\lib\\site-packages\\ipyparallel\\client\\client.py\u001b[0m in \u001b[0;36m__init__\u001b[1;34m(self, url_file, profile, profile_dir, ipython_dir, context, debug, sshserver, sshkey, password, paramiko, timeout, cluster_id, **extra_args)\u001b[0m\n\u001b[0;32m    389\u001b[0m                         \u001b[0mno_file_msg\u001b[0m\u001b[1;33m,\u001b[0m\u001b[1;33m\u001b[0m\u001b[0m\n\u001b[0;32m    390\u001b[0m                     ])\n\u001b[1;32m--> 391\u001b[1;33m                     \u001b[1;32mraise\u001b[0m \u001b[0mIOError\u001b[0m\u001b[1;33m(\u001b[0m\u001b[0mmsg\u001b[0m\u001b[1;33m)\u001b[0m\u001b[1;33m\u001b[0m\u001b[0m\n\u001b[0m\u001b[0;32m    392\u001b[0m         \u001b[1;32mif\u001b[0m \u001b[0murl_file\u001b[0m \u001b[1;32mis\u001b[0m \u001b[1;32mNone\u001b[0m\u001b[1;33m:\u001b[0m\u001b[1;33m\u001b[0m\u001b[0m\n\u001b[0;32m    393\u001b[0m             \u001b[1;32mraise\u001b[0m \u001b[0mIOError\u001b[0m\u001b[1;33m(\u001b[0m\u001b[0mno_file_msg\u001b[0m\u001b[1;33m)\u001b[0m\u001b[1;33m\u001b[0m\u001b[0m\n",
      "\u001b[1;31mOSError\u001b[0m: Connection file '~\\\\.ipython\\\\profile_default\\\\security\\\\ipcontroller-client.json' not found.\nYou have attempted to connect to an IPython Cluster but no Controller could be found.\nPlease double-check your configuration and ensure that a cluster is running."
     ]
    }
   ],
   "source": [
    "from sklearn.svm import SVC\n",
    "import ipyparallel as ipp\n",
    "import os\n",
    "\n",
    "client = ipp.Client()\n",
    "lb_view = client.load_balanced_view()\n",
    "\n",
    "all_parameters, all_tasks = parallel_grid_search(\n",
    "   lb_view, clf, cv_filenames, parameters)"
   ]
  },
  {
   "cell_type": "code",
   "execution_count": null,
   "metadata": {
    "collapsed": true
   },
   "outputs": [],
   "source": [
    "def print_progress(tasks):\n",
    "    progress = np.mean([task.ready() for task_group in tasks\n",
    "                                 for task in task_group])\n",
    "    print (\"Tasks completed: {0}%\".format(100 * progress))"
   ]
  },
  {
   "cell_type": "code",
   "execution_count": null,
   "metadata": {
    "collapsed": true
   },
   "outputs": [],
   "source": [
    "print_progress(all_tasks)"
   ]
  },
  {
   "cell_type": "code",
   "execution_count": null,
   "metadata": {
    "collapsed": true
   },
   "outputs": [],
   "source": [
    "def find_bests(all_parameters, all_tasks, n_top=5):\n",
    "    \"\"\"Compute the mean score of the completed tasks\"\"\"\n",
    "    mean_scores = []\n",
    "    \n",
    "    for param, task_group in zip(all_parameters, all_tasks):\n",
    "        scores = [t.get() for t in task_group if t.ready()]\n",
    "        if len(scores) == 0:\n",
    "            continue\n",
    "        mean_scores.append((np.mean(scores), param))\n",
    "                   \n",
    "    return sorted(mean_scores, reverse=True)[:n_top]"
   ]
  },
  {
   "cell_type": "code",
   "execution_count": null,
   "metadata": {
    "collapsed": true
   },
   "outputs": [],
   "source": [
    "print find_bests(all_parameters, all_tasks)"
   ]
  },
  {
   "cell_type": "markdown",
   "metadata": {},
   "source": [
    "You can observe that we computed the same results as in the previous section,\n",
    "but in half the time (if you used two cores) or in a quarter of the time (if you used\n",
    "four cores)."
   ]
  },
  {
   "cell_type": "code",
   "execution_count": null,
   "metadata": {
    "collapsed": true
   },
   "outputs": [],
   "source": []
  }
 ],
 "metadata": {
  "kernelspec": {
   "display_name": "Python 3",
   "language": "python",
   "name": "python3"
  },
  "language_info": {
   "codemirror_mode": {
    "name": "ipython",
    "version": 3
   },
   "file_extension": ".py",
   "mimetype": "text/x-python",
   "name": "python",
   "nbconvert_exporter": "python",
   "pygments_lexer": "ipython3",
   "version": "3.5.1"
  }
 },
 "nbformat": 4,
 "nbformat_minor": 0
}
