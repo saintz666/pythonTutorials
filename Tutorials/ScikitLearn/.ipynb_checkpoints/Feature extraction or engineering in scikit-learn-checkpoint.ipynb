{
 "cells": [
  {
   "cell_type": "markdown",
   "metadata": {},
   "source": [
    "# Feature extraction or feature engineering \n",
    "is to extract what we think are potentially useful features and convert them to our learning\n",
    "format."
   ]
  },
  {
   "cell_type": "code",
   "execution_count": 1,
   "metadata": {
    "collapsed": false
   },
   "outputs": [
    {
     "name": "stdout",
     "output_type": "stream",
     "text": [
      "Populating the interactive namespace from numpy and matplotlib\n"
     ]
    }
   ],
   "source": [
    "%pylab inline\n",
    "import pandas as pd\n",
    "import numpy as np\n",
    "import matplotlib.pyplot as plt"
   ]
  },
  {
   "cell_type": "markdown",
   "metadata": {},
   "source": [
    "### Import titanic data using pandas"
   ]
  },
  {
   "cell_type": "code",
   "execution_count": 13,
   "metadata": {
    "collapsed": false
   },
   "outputs": [
    {
     "name": "stdout",
     "output_type": "stream",
     "text": [
      "  pclass  survived      age     embarked   boat     sex\n",
      "0    1st         1  29.0000  Southampton      2  female\n",
      "1    1st         0   2.0000  Southampton    NaN  female\n",
      "2    1st         0  30.0000  Southampton  (135)    male\n",
      "3    1st         0  25.0000  Southampton    NaN  female\n",
      "4    1st         1   0.9167  Southampton     11    male\n"
     ]
    }
   ],
   "source": [
    "titanic = pd.read_csv('titanic.csv')\n",
    "print (titanic.head()[['pclass', 'survived', 'age', 'embarked', 'boat', 'sex']])"
   ]
  },
  {
   "cell_type": "code",
   "execution_count": 14,
   "metadata": {
    "collapsed": false
   },
   "outputs": [
    {
     "name": "stdout",
     "output_type": "stream",
     "text": [
      "<class 'pandas.core.frame.DataFrame'>\n",
      "RangeIndex: 1313 entries, 0 to 1312\n",
      "Data columns (total 11 columns):\n",
      "row.names    1313 non-null int64\n",
      "pclass       1313 non-null object\n",
      "survived     1313 non-null int64\n",
      "name         1313 non-null object\n",
      "age          633 non-null float64\n",
      "embarked     821 non-null object\n",
      "home.dest    754 non-null object\n",
      "room         77 non-null object\n",
      "ticket       69 non-null object\n",
      "boat         347 non-null object\n",
      "sex          1313 non-null object\n",
      "dtypes: float64(1), int64(2), object(8)\n",
      "memory usage: 112.9+ KB\n",
      "None\n"
     ]
    }
   ],
   "source": [
    "print (titanic.info())"
   ]
  },
  {
   "cell_type": "code",
   "execution_count": 15,
   "metadata": {
    "collapsed": false
   },
   "outputs": [
    {
     "data": {
      "text/html": [
       "<div>\n",
       "<table border=\"1\" class=\"dataframe\">\n",
       "  <thead>\n",
       "    <tr style=\"text-align: right;\">\n",
       "      <th></th>\n",
       "      <th>row.names</th>\n",
       "      <th>survived</th>\n",
       "      <th>age</th>\n",
       "    </tr>\n",
       "  </thead>\n",
       "  <tbody>\n",
       "    <tr>\n",
       "      <th>count</th>\n",
       "      <td>1313.000000</td>\n",
       "      <td>1313.000000</td>\n",
       "      <td>633.000000</td>\n",
       "    </tr>\n",
       "    <tr>\n",
       "      <th>mean</th>\n",
       "      <td>657.000000</td>\n",
       "      <td>0.341965</td>\n",
       "      <td>31.194181</td>\n",
       "    </tr>\n",
       "    <tr>\n",
       "      <th>std</th>\n",
       "      <td>379.174762</td>\n",
       "      <td>0.474549</td>\n",
       "      <td>14.747525</td>\n",
       "    </tr>\n",
       "    <tr>\n",
       "      <th>min</th>\n",
       "      <td>1.000000</td>\n",
       "      <td>0.000000</td>\n",
       "      <td>0.166700</td>\n",
       "    </tr>\n",
       "    <tr>\n",
       "      <th>25%</th>\n",
       "      <td>329.000000</td>\n",
       "      <td>0.000000</td>\n",
       "      <td>21.000000</td>\n",
       "    </tr>\n",
       "    <tr>\n",
       "      <th>50%</th>\n",
       "      <td>657.000000</td>\n",
       "      <td>0.000000</td>\n",
       "      <td>30.000000</td>\n",
       "    </tr>\n",
       "    <tr>\n",
       "      <th>75%</th>\n",
       "      <td>985.000000</td>\n",
       "      <td>1.000000</td>\n",
       "      <td>41.000000</td>\n",
       "    </tr>\n",
       "    <tr>\n",
       "      <th>max</th>\n",
       "      <td>1313.000000</td>\n",
       "      <td>1.000000</td>\n",
       "      <td>71.000000</td>\n",
       "    </tr>\n",
       "  </tbody>\n",
       "</table>\n",
       "</div>"
      ],
      "text/plain": [
       "         row.names     survived         age\n",
       "count  1313.000000  1313.000000  633.000000\n",
       "mean    657.000000     0.341965   31.194181\n",
       "std     379.174762     0.474549   14.747525\n",
       "min       1.000000     0.000000    0.166700\n",
       "25%     329.000000     0.000000   21.000000\n",
       "50%     657.000000     0.000000   30.000000\n",
       "75%     985.000000     1.000000   41.000000\n",
       "max    1313.000000     1.000000   71.000000"
      ]
     },
     "execution_count": 15,
     "metadata": {},
     "output_type": "execute_result"
    }
   ],
   "source": [
    "titanic.describe()"
   ]
  },
  {
   "cell_type": "markdown",
   "metadata": {},
   "source": [
    "The one_hot_dataframe method (based on the script at https://gist.github.\n",
    "com/kljensen/5452382) takes a pandas DataFrame data structure and a list of\n",
    "columns and encodes each column into the necessary 1-of-K features. If the replace\n",
    "parameter is True, it will also substitute the original column with the new set"
   ]
  },
  {
   "cell_type": "code",
   "execution_count": 29,
   "metadata": {
    "collapsed": false
   },
   "outputs": [],
   "source": [
    "from sklearn import feature_extraction\n",
    "#from sklearn.feature_extraction import DictVectorizer\n",
    "\n",
    "def one_hot_dataframe(data, cols, replace=False):\n",
    "    vec = feature_extraction.DictVectorizer()\n",
    "    mkdict = lambda row: dict((col, row[col]) for col in cols)\n",
    "    #vecData = pd.DataFrame(vec.fit_transform(data[cols].to_dict(outtype='records')).toarray())\n",
    "    vecData = pd.DataFrame(vec.fit_transform(data[cols].apply(mkdict, axis=1)).toarray())\n",
    "    vecData.columns = vec.get_feature_names()\n",
    "    vecData.index = data.index\n",
    "    if replace:\n",
    "        data = data.drop(cols, axis=1)\n",
    "        data = data.join(vecData)\n",
    "    return (data, vecData)\n",
    "\n",
    "titanic, titanic_n = one_hot_dataframe(titanic, ['embarked'], replace=True)"
   ]
  },
  {
   "cell_type": "markdown",
   "metadata": {},
   "source": [
    "Let's\n",
    "see it applied to the categorical pclass, embarked, and sex features"
   ]
  },
  {
   "cell_type": "code",
   "execution_count": 30,
   "metadata": {
    "collapsed": false
   },
   "outputs": [
    {
     "data": {
      "text/html": [
       "<div>\n",
       "<table border=\"1\" class=\"dataframe\">\n",
       "  <thead>\n",
       "    <tr style=\"text-align: right;\">\n",
       "      <th></th>\n",
       "      <th>row.names</th>\n",
       "      <th>survived</th>\n",
       "      <th>age</th>\n",
       "      <th>embarked=Cherbourg</th>\n",
       "      <th>embarked=Queenstown</th>\n",
       "      <th>embarked=Southampton</th>\n",
       "      <th>pclass=1st</th>\n",
       "      <th>pclass=2nd</th>\n",
       "      <th>pclass=3rd</th>\n",
       "      <th>sex=female</th>\n",
       "      <th>sex=male</th>\n",
       "      <th>embarked</th>\n",
       "    </tr>\n",
       "  </thead>\n",
       "  <tbody>\n",
       "    <tr>\n",
       "      <th>count</th>\n",
       "      <td>1313.000000</td>\n",
       "      <td>1313.000000</td>\n",
       "      <td>633.000000</td>\n",
       "      <td>1313.000000</td>\n",
       "      <td>1313.000000</td>\n",
       "      <td>1313.000000</td>\n",
       "      <td>1313.000000</td>\n",
       "      <td>1313.000000</td>\n",
       "      <td>1313.000000</td>\n",
       "      <td>1313.000000</td>\n",
       "      <td>1313.000000</td>\n",
       "      <td>821.0</td>\n",
       "    </tr>\n",
       "    <tr>\n",
       "      <th>mean</th>\n",
       "      <td>657.000000</td>\n",
       "      <td>0.341965</td>\n",
       "      <td>31.194181</td>\n",
       "      <td>0.154608</td>\n",
       "      <td>0.034273</td>\n",
       "      <td>0.436405</td>\n",
       "      <td>0.245240</td>\n",
       "      <td>0.213252</td>\n",
       "      <td>0.541508</td>\n",
       "      <td>0.352628</td>\n",
       "      <td>0.647372</td>\n",
       "      <td>0.0</td>\n",
       "    </tr>\n",
       "    <tr>\n",
       "      <th>std</th>\n",
       "      <td>379.174762</td>\n",
       "      <td>0.474549</td>\n",
       "      <td>14.747525</td>\n",
       "      <td>0.361668</td>\n",
       "      <td>0.181998</td>\n",
       "      <td>0.496128</td>\n",
       "      <td>0.430393</td>\n",
       "      <td>0.409760</td>\n",
       "      <td>0.498464</td>\n",
       "      <td>0.477970</td>\n",
       "      <td>0.477970</td>\n",
       "      <td>0.0</td>\n",
       "    </tr>\n",
       "    <tr>\n",
       "      <th>min</th>\n",
       "      <td>1.000000</td>\n",
       "      <td>0.000000</td>\n",
       "      <td>0.166700</td>\n",
       "      <td>0.000000</td>\n",
       "      <td>0.000000</td>\n",
       "      <td>0.000000</td>\n",
       "      <td>0.000000</td>\n",
       "      <td>0.000000</td>\n",
       "      <td>0.000000</td>\n",
       "      <td>0.000000</td>\n",
       "      <td>0.000000</td>\n",
       "      <td>0.0</td>\n",
       "    </tr>\n",
       "    <tr>\n",
       "      <th>25%</th>\n",
       "      <td>329.000000</td>\n",
       "      <td>0.000000</td>\n",
       "      <td>21.000000</td>\n",
       "      <td>0.000000</td>\n",
       "      <td>0.000000</td>\n",
       "      <td>0.000000</td>\n",
       "      <td>0.000000</td>\n",
       "      <td>0.000000</td>\n",
       "      <td>0.000000</td>\n",
       "      <td>0.000000</td>\n",
       "      <td>0.000000</td>\n",
       "      <td>0.0</td>\n",
       "    </tr>\n",
       "    <tr>\n",
       "      <th>50%</th>\n",
       "      <td>657.000000</td>\n",
       "      <td>0.000000</td>\n",
       "      <td>30.000000</td>\n",
       "      <td>0.000000</td>\n",
       "      <td>0.000000</td>\n",
       "      <td>0.000000</td>\n",
       "      <td>0.000000</td>\n",
       "      <td>0.000000</td>\n",
       "      <td>1.000000</td>\n",
       "      <td>0.000000</td>\n",
       "      <td>1.000000</td>\n",
       "      <td>0.0</td>\n",
       "    </tr>\n",
       "    <tr>\n",
       "      <th>75%</th>\n",
       "      <td>985.000000</td>\n",
       "      <td>1.000000</td>\n",
       "      <td>41.000000</td>\n",
       "      <td>0.000000</td>\n",
       "      <td>0.000000</td>\n",
       "      <td>1.000000</td>\n",
       "      <td>0.000000</td>\n",
       "      <td>0.000000</td>\n",
       "      <td>1.000000</td>\n",
       "      <td>1.000000</td>\n",
       "      <td>1.000000</td>\n",
       "      <td>0.0</td>\n",
       "    </tr>\n",
       "    <tr>\n",
       "      <th>max</th>\n",
       "      <td>1313.000000</td>\n",
       "      <td>1.000000</td>\n",
       "      <td>71.000000</td>\n",
       "      <td>1.000000</td>\n",
       "      <td>1.000000</td>\n",
       "      <td>1.000000</td>\n",
       "      <td>1.000000</td>\n",
       "      <td>1.000000</td>\n",
       "      <td>1.000000</td>\n",
       "      <td>1.000000</td>\n",
       "      <td>1.000000</td>\n",
       "      <td>0.0</td>\n",
       "    </tr>\n",
       "  </tbody>\n",
       "</table>\n",
       "</div>"
      ],
      "text/plain": [
       "         row.names     survived         age  embarked=Cherbourg  \\\n",
       "count  1313.000000  1313.000000  633.000000         1313.000000   \n",
       "mean    657.000000     0.341965   31.194181            0.154608   \n",
       "std     379.174762     0.474549   14.747525            0.361668   \n",
       "min       1.000000     0.000000    0.166700            0.000000   \n",
       "25%     329.000000     0.000000   21.000000            0.000000   \n",
       "50%     657.000000     0.000000   30.000000            0.000000   \n",
       "75%     985.000000     1.000000   41.000000            0.000000   \n",
       "max    1313.000000     1.000000   71.000000            1.000000   \n",
       "\n",
       "       embarked=Queenstown  embarked=Southampton   pclass=1st   pclass=2nd  \\\n",
       "count          1313.000000           1313.000000  1313.000000  1313.000000   \n",
       "mean              0.034273              0.436405     0.245240     0.213252   \n",
       "std               0.181998              0.496128     0.430393     0.409760   \n",
       "min               0.000000              0.000000     0.000000     0.000000   \n",
       "25%               0.000000              0.000000     0.000000     0.000000   \n",
       "50%               0.000000              0.000000     0.000000     0.000000   \n",
       "75%               0.000000              1.000000     0.000000     0.000000   \n",
       "max               1.000000              1.000000     1.000000     1.000000   \n",
       "\n",
       "        pclass=3rd   sex=female     sex=male  embarked  \n",
       "count  1313.000000  1313.000000  1313.000000     821.0  \n",
       "mean      0.541508     0.352628     0.647372       0.0  \n",
       "std       0.498464     0.477970     0.477970       0.0  \n",
       "min       0.000000     0.000000     0.000000       0.0  \n",
       "25%       0.000000     0.000000     0.000000       0.0  \n",
       "50%       1.000000     0.000000     1.000000       0.0  \n",
       "75%       1.000000     1.000000     1.000000       0.0  \n",
       "max       1.000000     1.000000     1.000000       0.0  "
      ]
     },
     "execution_count": 30,
     "metadata": {},
     "output_type": "execute_result"
    }
   ],
   "source": [
    "titanic.describe()"
   ]
  },
  {
   "cell_type": "markdown",
   "metadata": {},
   "source": [
    "Note that the\n",
    "embarked feature has not disappeared, This is due to the fact that the original\n",
    "embarked attribute included NaN values, indicating a missing value; in those cases,\n",
    "every feature based on embarked will be valued 0, but the original feature whose\n",
    "value is NaN remains, indicating the feature is missing for certain instances."
   ]
  },
  {
   "cell_type": "code",
   "execution_count": 31,
   "metadata": {
    "collapsed": true
   },
   "outputs": [],
   "source": [
    "titanic, titanic_n = one_hot_dataframe(titanic, ['home.dest', 'room', 'ticket', 'boat'], replace=True)\n"
   ]
  },
  {
   "cell_type": "markdown",
   "metadata": {},
   "source": [
    "#### Adjust N/A ages with the mean age"
   ]
  },
  {
   "cell_type": "code",
   "execution_count": 32,
   "metadata": {
    "collapsed": false
   },
   "outputs": [
    {
     "name": "stdout",
     "output_type": "stream",
     "text": [
      "count    633.000000\n",
      "mean      31.194181\n",
      "std       14.747525\n",
      "min        0.166700\n",
      "25%       21.000000\n",
      "50%       30.000000\n",
      "75%       41.000000\n",
      "max       71.000000\n",
      "Name: age, dtype: float64\n",
      "count    1313.000000\n",
      "mean       31.194181\n",
      "std        10.235540\n",
      "min         0.166700\n",
      "25%        30.000000\n",
      "50%        31.194181\n",
      "75%        31.194181\n",
      "max        71.000000\n",
      "Name: age, dtype: float64\n"
     ]
    }
   ],
   "source": [
    "print (titanic['age'].describe())\n",
    "mean = titanic['age'].mean()\n",
    "titanic['age'].fillna(mean, inplace=True)\n",
    "print (titanic['age'].describe())"
   ]
  },
  {
   "cell_type": "markdown",
   "metadata": {},
   "source": [
    "###### Complete n/a with zeros"
   ]
  },
  {
   "cell_type": "code",
   "execution_count": 33,
   "metadata": {
    "collapsed": true
   },
   "outputs": [],
   "source": [
    "titanic.fillna(0, inplace=True)"
   ]
  },
  {
   "cell_type": "code",
   "execution_count": 35,
   "metadata": {
    "collapsed": false
   },
   "outputs": [
    {
     "name": "stdout",
     "output_type": "stream",
     "text": [
      "   row.names  survived                                             name  \\\n",
      "0          1         1                     Allen, Miss Elisabeth Walton   \n",
      "1          2         0                      Allison, Miss Helen Loraine   \n",
      "2          3         0              Allison, Mr Hudson Joshua Creighton   \n",
      "3          4         0  Allison, Mrs Hudson J.C. (Bessie Waldo Daniels)   \n",
      "4          5         1                    Allison, Master Hudson Trevor   \n",
      "\n",
      "       age  embarked=Cherbourg  embarked=Queenstown  embarked=Southampton  \\\n",
      "0  29.0000                 0.0                  0.0                   1.0   \n",
      "1   2.0000                 0.0                  0.0                   1.0   \n",
      "2  30.0000                 0.0                  0.0                   1.0   \n",
      "3  25.0000                 0.0                  0.0                   1.0   \n",
      "4   0.9167                 0.0                  0.0                   1.0   \n",
      "\n",
      "   pclass=1st  pclass=2nd  pclass=3rd      ...        ticket=248744 L13  \\\n",
      "0         1.0         0.0         0.0      ...                      0.0   \n",
      "1         1.0         0.0         0.0      ...                      0.0   \n",
      "2         1.0         0.0         0.0      ...                      0.0   \n",
      "3         1.0         0.0         0.0      ...                      0.0   \n",
      "4         1.0         0.0         0.0      ...                      0.0   \n",
      "\n",
      "   ticket=248749 L13  ticket=250647  ticket=27849  ticket=28220 L32 10s  \\\n",
      "0                0.0            0.0           0.0                   0.0   \n",
      "1                0.0            0.0           0.0                   0.0   \n",
      "2                0.0            0.0           0.0                   0.0   \n",
      "3                0.0            0.0           0.0                   0.0   \n",
      "4                0.0            0.0           0.0                   0.0   \n",
      "\n",
      "   ticket=34218 L10 10s  ticket=36973 L83 9s 6d  ticket=392091  ticket=7076  \\\n",
      "0                   0.0                     0.0            0.0          0.0   \n",
      "1                   0.0                     0.0            0.0          0.0   \n",
      "2                   0.0                     0.0            0.0          0.0   \n",
      "3                   0.0                     0.0            0.0          0.0   \n",
      "4                   0.0                     0.0            0.0          0.0   \n",
      "\n",
      "   ticket=L15 1s  \n",
      "0            0.0  \n",
      "1            0.0  \n",
      "2            0.0  \n",
      "3            0.0  \n",
      "4            0.0  \n",
      "\n",
      "[5 rows x 581 columns]\n"
     ]
    }
   ],
   "source": [
    "print (titanic.head())"
   ]
  },
  {
   "cell_type": "markdown",
   "metadata": {},
   "source": [
    "Now, all of our features (except for Name) are in a suitable format. We are ready to\n",
    "build the test and training sets"
   ]
  },
  {
   "cell_type": "markdown",
   "metadata": {},
   "source": [
    "We simply drop the name attribute, since we do not expect it to be\n",
    "informative about the survival status (we have one different value for each instance,\n",
    "so we can generalize over it).\n",
    "\n",
    "We also specified the survived feature as the target\n",
    "class, and consequently eliminated it from the training vector."
   ]
  },
  {
   "cell_type": "code",
   "execution_count": 36,
   "metadata": {
    "collapsed": true
   },
   "outputs": [],
   "source": [
    "from sklearn.cross_validation import train_test_split\n",
    "titanic_target = titanic['survived']\n",
    "titanic_data = titanic.drop(['name', 'row.names', 'survived'], axis=1)\n",
    "X_train, X_test, y_train, y_test = train_test_split(titanic_data, titanic_target, test_size=0.25, random_state=33)\n"
   ]
  },
  {
   "cell_type": "code",
   "execution_count": 37,
   "metadata": {
    "collapsed": true
   },
   "outputs": [],
   "source": [
    "from sklearn import tree\n",
    "dt = tree.DecisionTreeClassifier(criterion='entropy')\n",
    "dt = dt.fit(X_train, y_train)"
   ]
  },
  {
   "cell_type": "code",
   "execution_count": 41,
   "metadata": {
    "collapsed": false
   },
   "outputs": [],
   "source": [
    "from sklearn import metrics\n",
    "def measure_performance(X, y, clf, show_accuracy=True, show_classification_report=True, show_confussion_matrix=True):\n",
    "    y_pred = clf.predict(X)   \n",
    "    if show_accuracy:\n",
    "         print (\"Accuracy:{0:.3f}\".format(metrics.accuracy_score(y, y_pred)),\"\\n\")\n",
    "    if show_classification_report:\n",
    "        print (\"Classification report\")\n",
    "        print (metrics.classification_report(y, y_pred),\"\\n\")\n",
    "      \n",
    "    if show_confussion_matrix:\n",
    "        print (\"Confussion matrix\")\n",
    "        print (metrics.confusion_matrix(y, y_pred),\"\\n\")"
   ]
  },
  {
   "cell_type": "code",
   "execution_count": 42,
   "metadata": {
    "collapsed": false
   },
   "outputs": [
    {
     "name": "stdout",
     "output_type": "stream",
     "text": [
      "Accuracy:0.833 \n",
      "\n"
     ]
    }
   ],
   "source": [
    "measure_performance(X_test, y_test, dt, show_confussion_matrix=False, show_classification_report=False)"
   ]
  },
  {
   "cell_type": "markdown",
   "metadata": {},
   "source": [
    "## Feature Selection"
   ]
  },
  {
   "cell_type": "markdown",
   "metadata": {},
   "source": [
    "We started with just 11\n",
    "features, but after 1-of-K encoding they grew to 581"
   ]
  },
  {
   "cell_type": "markdown",
   "metadata": {},
   "source": [
    "A general approach to find the relevant features\n",
    "is to find the smallest set of features that correctly characterize the training data. If\n",
    "a feature always coincides with the target class (that is, it is a perfect predictor), it is\n",
    "enough to characterize the data. On the other hand, if a feature always has the same\n",
    "value, its prediction power will be very low.\n",
    "\n",
    "You can get some kind of evaluation function\n",
    "that, when given a potential feature, returns a score of how useful the feature is,\n",
    "and then keeps the features with the highest scores. These methods may have the\n",
    "disadvantage of not detecting correlations between features. Other methods may\n",
    "be more brute force: try all possible subsets of the original feature list, train the\n",
    "algorithm on each combination, and keep the combination that gets the best results.\n",
    "\n",
    "Scikit-learn provides several methods in the feature_selection module. We will\n",
    "use the SelectPercentile method that, when given a statistical test, selects a userspecified\n",
    "percentile of features with the highest scoring. The most popular statistical\n",
    "test is the χ² (chi-squared) statistic."
   ]
  },
  {
   "cell_type": "code",
   "execution_count": 44,
   "metadata": {
    "collapsed": false
   },
   "outputs": [
    {
     "name": "stdout",
     "output_type": "stream",
     "text": [
      "Index(['age', 'embarked=Cherbourg', 'embarked=Southampton', 'pclass=1st',\n",
      "       'pclass=2nd', 'pclass=3rd', 'sex=female', 'sex=male', 'boat=1',\n",
      "       'boat=10',\n",
      "       ...\n",
      "       'room=C-125', 'room=C-7', 'room=D-35', 'ticket=111361 L57 19s 7d',\n",
      "       'ticket=13502 L77', 'ticket=17582 L153 9s 3d',\n",
      "       'ticket=17608 L262 7s 6d', 'ticket=230136 L39', 'ticket=24160 L221',\n",
      "       'ticket=392091'],\n",
      "      dtype='object', length=115)\n"
     ]
    }
   ],
   "source": [
    "from sklearn import feature_selection\n",
    "fs = feature_selection.SelectPercentile(feature_selection.chi2, percentile=20)\n",
    "X_train_fs = fs.fit_transform(X_train, y_train)\n",
    "print (titanic_data.columns[fs.get_support()])\n"
   ]
  },
  {
   "cell_type": "code",
   "execution_count": 45,
   "metadata": {
    "collapsed": false
   },
   "outputs": [
    {
     "name": "stdout",
     "output_type": "stream",
     "text": [
      "0.445367715169\n",
      "embarked=Queenstown\n"
     ]
    }
   ],
   "source": [
    "print (fs.scores_[2])\n",
    "print (titanic_data.columns[2])\n"
   ]
  },
  {
   "cell_type": "markdown",
   "metadata": {},
   "source": [
    "The X_train_fs array now has the statistically more important features. We can\n",
    "now train our decision tree on this data."
   ]
  },
  {
   "cell_type": "code",
   "execution_count": 46,
   "metadata": {
    "collapsed": false
   },
   "outputs": [
    {
     "name": "stdout",
     "output_type": "stream",
     "text": [
      "Accuracy:0.839 \n",
      "\n"
     ]
    }
   ],
   "source": [
    "dt.fit(X_train_fs, y_train)\n",
    "X_test_fs = fs.transform(X_test)\n",
    "measure_performance(X_test_fs, y_test, dt, show_confussion_matrix=False, show_classification_report=False)"
   ]
  },
  {
   "cell_type": "markdown",
   "metadata": {},
   "source": [
    "We can see that the accuracy on the training set improved .009 after feature\n",
    "selection on the training set."
   ]
  },
  {
   "cell_type": "markdown",
   "metadata": {},
   "source": [
    "Brute-force approach and trying different numbers of features while measuring\n",
    "their performance on the training set using cross-validation."
   ]
  },
  {
   "cell_type": "code",
   "execution_count": 47,
   "metadata": {
    "collapsed": false
   },
   "outputs": [
    {
     "name": "stdout",
     "output_type": "stream",
     "text": [
      "Optimal number of features:6 \n",
      "\n",
      "Mean scores: [ 0.83332303  0.87806638  0.87399505  0.87400536  0.86993403  0.87196454\n",
      "  0.86483199  0.87603587  0.8688827   0.87297464  0.86684189  0.86989281\n",
      "  0.87298495  0.86889301  0.8668522   0.86687281  0.86891363  0.86074005\n",
      "  0.86891363  0.86382189]\n"
     ]
    },
    {
     "name": "stderr",
     "output_type": "stream",
     "text": [
      "C:\\Anaconda3\\lib\\site-packages\\ipykernel\\__main__.py:13: DeprecationWarning: converting an array with ndim > 0 to an index will result in an error in the future\n"
     ]
    },
    {
     "data": {
      "image/png": "[encoded data removed]",
      "text/plain": [
       "<matplotlib.figure.Figure at 0x17a98bbee48>"
      ]
     },
     "metadata": {},
     "output_type": "display_data"
    }
   ],
   "source": [
    "from sklearn import cross_validation\n",
    "\n",
    "percentiles = range(1, 100, 5)\n",
    "results = []\n",
    "for i in range(1, 100, 5):\n",
    "    fs = feature_selection.SelectPercentile(feature_selection.chi2, percentile=i)\n",
    "    X_train_fs = fs.fit_transform(X_train, y_train)\n",
    "    scores = cross_validation.cross_val_score(dt, X_train_fs, y_train, cv=5)\n",
    "    #print i,scores.mean()\n",
    "    results = np.append(results, scores.mean())\n",
    "\n",
    "optimal_percentil = np.where(results == results.max())[0]\n",
    "print (\"Optimal number of features:{0}\".format(percentiles[optimal_percentil]), \"\\n\")\n",
    "\n",
    "# Plot number of features VS. cross-validation scores\n",
    "import pylab as pl\n",
    "pl.figure()\n",
    "pl.xlabel(\"Number of features selected\")\n",
    "pl.ylabel(\"Cross validation accuracy)\")\n",
    "pl.plot(percentiles,results)\n",
    "print (\"Mean scores:\",results)"
   ]
  },
  {
   "cell_type": "markdown",
   "metadata": {},
   "source": [
    "Figure shows how cross-validation accuracy changes with the number\n",
    "of features:"
   ]
  },
  {
   "cell_type": "markdown",
   "metadata": {},
   "source": [
    "We can see that accuracy quickly improves when we start adding features, remaining\n",
    "stable after the percentile of features turns about 10. In fact, the best accuracy is\n",
    "achieved when using 64 of the original 581 features (at the 11 percent percentile)."
   ]
  },
  {
   "cell_type": "markdown",
   "metadata": {},
   "source": [
    "#### Another look at optimal percentil"
   ]
  },
  {
   "cell_type": "code",
   "execution_count": 48,
   "metadata": {
    "collapsed": false
   },
   "outputs": [
    {
     "name": "stdout",
     "output_type": "stream",
     "text": [
      "Index(['embarked=Cherbourg', 'embarked=Southampton', 'pclass=1st',\n",
      "       'pclass=2nd', 'pclass=3rd', 'sex=female', 'sex=male', 'boat=1',\n",
      "       'boat=10', 'boat=11', 'boat=12', 'boat=13', 'boat=14', 'boat=15',\n",
      "       'boat=2', 'boat=3', 'boat=4', 'boat=5', 'boat=6', 'boat=7', 'boat=8',\n",
      "       'boat=9', 'boat=A', 'boat=B', 'boat=C', 'boat=D',\n",
      "       'home.dest=Bangkok, Thailand / Roseville, IL',\n",
      "       'home.dest=Bryn Mawr, PA',\n",
      "       'home.dest=Guntur, India / Benton Harbour, MI',\n",
      "       'home.dest=New York, NY', 'home.dest=Paris, France',\n",
      "       'home.dest=Plymouth, Devon / Detroit, MI', 'home.dest=St Louis, MO',\n",
      "       'home.dest=Syria New York, NY'],\n",
      "      dtype='object')\n"
     ]
    },
    {
     "name": "stderr",
     "output_type": "stream",
     "text": [
      "C:\\Anaconda3\\lib\\site-packages\\ipykernel\\__main__.py:1: DeprecationWarning: converting an array with ndim > 0 to an index will result in an error in the future\n",
      "  if __name__ == '__main__':\n"
     ]
    }
   ],
   "source": [
    "fs = feature_selection.SelectPercentile(feature_selection.chi2, percentile=percentiles[optimal_percentil])\n",
    "X_train_fs = fs.fit_transform(X_train, y_train)\n",
    "print (titanic_data.columns[fs.get_support()])\n"
   ]
  },
  {
   "cell_type": "code",
   "execution_count": 49,
   "metadata": {
    "collapsed": false
   },
   "outputs": [
    {
     "name": "stdout",
     "output_type": "stream",
     "text": [
      "Accuracy:0.857 \n",
      "\n"
     ]
    }
   ],
   "source": [
    "dt.fit(X_train_fs, y_train)\n",
    "X_test_fs = fs.transform(X_test)\n",
    "measure_performance(X_test_fs, y_test, dt, show_confussion_matrix=False, show_classification_report=False)"
   ]
  },
  {
   "cell_type": "markdown",
   "metadata": {},
   "source": [
    "An increase in the accuracy"
   ]
  },
  {
   "cell_type": "code",
   "execution_count": 52,
   "metadata": {
    "collapsed": false
   },
   "outputs": [
    {
     "name": "stdout",
     "output_type": "stream",
     "text": [
      "Accuracy:0.857 \n",
      "\n"
     ]
    }
   ],
   "source": [
    "#On the testing set\n",
    "y_pred_fs = dt.predict(X_test_fs)\n",
    "measure_performance(X_test_fs, y_test, dt, show_confussion_matrix=False, show_classification_report=False)"
   ]
  },
  {
   "cell_type": "markdown",
   "metadata": {},
   "source": [
    "The performance improved slightly, again. Compared with our initial performance,\n",
    "we have finally improved by almost one accuracy point using only 11 percent of\n",
    "the features."
   ]
  },
  {
   "cell_type": "code",
   "execution_count": 55,
   "metadata": {
    "collapsed": false
   },
   "outputs": [
    {
     "name": "stdout",
     "output_type": "stream",
     "text": [
      "Entropy criterion accuracy on cv: 0.877\n"
     ]
    }
   ],
   "source": [
    "dt = tree.DecisionTreeClassifier(criterion='entropy')\n",
    "scores = cross_validation.cross_val_score(dt, X_train_fs,\n",
    "y_train, cv=5)\n",
    "print (\"Entropy criterion accuracy on cv: {0:.3f}\".format(scores.mean()))"
   ]
  },
  {
   "cell_type": "code",
   "execution_count": 56,
   "metadata": {
    "collapsed": false
   },
   "outputs": [
    {
     "name": "stdout",
     "output_type": "stream",
     "text": [
      "Entropy criterion accuracy on cv: 0.882\n"
     ]
    }
   ],
   "source": [
    "dt = tree.DecisionTreeClassifier(criterion='gini')\n",
    "scores = cross_validation.cross_val_score(dt, X_train_fs,\n",
    "y_train, cv=5)\n",
    "print (\"Entropy criterion accuracy on cv: {0:.3f}\".format(scores.mean()))"
   ]
  },
  {
   "cell_type": "markdown",
   "metadata": {},
   "source": [
    "The Gini criterion performs better on our training set. how about on the test set?"
   ]
  },
  {
   "cell_type": "code",
   "execution_count": 57,
   "metadata": {
    "collapsed": false
   },
   "outputs": [
    {
     "name": "stdout",
     "output_type": "stream",
     "text": [
      "Accuracy:0.863 \n",
      "\n"
     ]
    }
   ],
   "source": [
    "dt.fit(X_train_fs, y_train)\n",
    "X_test_fs = fs.transform(X_test)\n",
    "y_pred_fs = dt.predict(X_test_fs)\n",
    "print (\"Accuracy:{0:.3f}\".format(metrics.accuracy_score(y_test,y_pred_fs)),\"\\n\")"
   ]
  }
 ],
 "metadata": {
  "kernelspec": {
   "display_name": "Python 3",
   "language": "python",
   "name": "python3"
  },
  "language_info": {
   "codemirror_mode": {
    "name": "ipython",
    "version": 3
   },
   "file_extension": ".py",
   "mimetype": "text/x-python",
   "name": "python",
   "nbconvert_exporter": "python",
   "pygments_lexer": "ipython3",
   "version": "3.5.1"
  }
 },
 "nbformat": 4,
 "nbformat_minor": 0
}
