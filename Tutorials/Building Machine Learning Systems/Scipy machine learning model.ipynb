{
 "cells": [
  {
   "cell_type": "markdown",
   "metadata": {},
   "source": [
    "### Reading in the data"
   ]
  },
  {
   "cell_type": "markdown",
   "metadata": {},
   "source": [
    "Tab Separated Values"
   ]
  },
  {
   "cell_type": "code",
   "execution_count": 1,
   "metadata": {
    "collapsed": true
   },
   "outputs": [],
   "source": [
    "#Using SciPy's genfromtxt(), we can easily read in the data.\n",
    "import scipy as sp\n",
    "data = sp.genfromtxt(\"web_traffic.tsv\", delimiter=\"\\t\")\n",
    "#We have to specify tab as the delimiter so that the columns are correctly determined.\n"
   ]
  },
  {
   "cell_type": "code",
   "execution_count": 2,
   "metadata": {
    "collapsed": false
   },
   "outputs": [
    {
     "name": "stdout",
     "output_type": "stream",
     "text": [
      "[[  1.00000000e+00   2.27200000e+03]\n",
      " [  2.00000000e+00              nan]\n",
      " [  3.00000000e+00   1.38600000e+03]\n",
      " [  4.00000000e+00   1.36500000e+03]\n",
      " [  5.00000000e+00   1.48800000e+03]\n",
      " [  6.00000000e+00   1.33700000e+03]\n",
      " [  7.00000000e+00   1.88300000e+03]\n",
      " [  8.00000000e+00   2.28300000e+03]\n",
      " [  9.00000000e+00   1.33500000e+03]\n",
      " [  1.00000000e+01   1.02500000e+03]]\n"
     ]
    }
   ],
   "source": [
    "print(data[:10])"
   ]
  },
  {
   "cell_type": "code",
   "execution_count": 3,
   "metadata": {
    "collapsed": false
   },
   "outputs": [
    {
     "name": "stdout",
     "output_type": "stream",
     "text": [
      "(743, 2)\n"
     ]
    }
   ],
   "source": [
    "print(data.shape)\n",
    "#We have 743 data points with two dimensions."
   ]
  },
  {
   "cell_type": "markdown",
   "metadata": {},
   "source": [
    "### Preprocessing and cleaning the data"
   ]
  },
  {
   "cell_type": "markdown",
   "metadata": {},
   "source": [
    "It is more convenient for SciPy to separate the dimensions into two vectors, each\n",
    "of size 743. The first vector, x, will contain the hours and the other, y, will contain\n",
    "the web hits in that particular hour. This splitting is done using the special index\n",
    "notation of SciPy, using which we can choose the columns individually."
   ]
  },
  {
   "cell_type": "code",
   "execution_count": 4,
   "metadata": {
    "collapsed": true
   },
   "outputs": [],
   "source": [
    "x = data[:,0]\n",
    "y = data[:,1]"
   ]
  },
  {
   "cell_type": "code",
   "execution_count": 6,
   "metadata": {
    "collapsed": false
   },
   "outputs": [
    {
     "data": {
      "text/plain": [
       "8"
      ]
     },
     "execution_count": 6,
     "metadata": {},
     "output_type": "execute_result"
    }
   ],
   "source": [
    "#Let us check how many hours contain invalid data.\n",
    "sp.sum(sp.isnan(y))"
   ]
  },
  {
   "cell_type": "markdown",
   "metadata": {},
   "source": [
    "We are missing only 8 out of 743 entries, so we can afford to remove them. Remember\n",
    "that we can index a SciPy array with another array. sp.isnan(y) returns an array of\n",
    "Booleans indicating whether an entry is not a number.\n",
    "\n",
    "Using ~, we logically negate\n",
    "that array so that we choose only those elements from x and y where y does contain\n",
    "valid numbers."
   ]
  },
  {
   "cell_type": "code",
   "execution_count": 7,
   "metadata": {
    "collapsed": true
   },
   "outputs": [],
   "source": [
    "x = x[~sp.isnan(y)]\n",
    "y = y[~sp.isnan(y)]"
   ]
  },
  {
   "cell_type": "code",
   "execution_count": 8,
   "metadata": {
    "collapsed": false
   },
   "outputs": [
    {
     "data": {
      "image/png": "[encoded data removed]",
      "text/plain": [
       "<matplotlib.figure.Figure at 0x1fb87c5e080>"
      ]
     },
     "metadata": {},
     "output_type": "display_data"
    }
   ],
   "source": [
    "#Visualize a scatterplot\n",
    "import matplotlib.pyplot as plt\n",
    "%matplotlib inline\n",
    "\n",
    "plt.scatter(x,y)\n",
    "plt.title(\"Web traffic over the last month\")\n",
    "plt.xlabel(\"Time\")\n",
    "plt.ylabel(\"Hits/hour\")\n",
    "plt.xticks([w*7*24 for w in range(10)],\n",
    "['week %i'%w for w in range(10)])\n",
    "plt.autoscale(tight=True)\n",
    "plt.grid()\n",
    "plt.show()"
   ]
  },
  {
   "cell_type": "markdown",
   "metadata": {},
   "source": [
    "we can see that while in the first weeks the traffic stayed more\n",
    "or less the same, the last week shows a steep increase."
   ]
  },
  {
   "cell_type": "markdown",
   "metadata": {},
   "source": [
    "### Choosing the right model and learning algorithm"
   ]
  },
  {
   "cell_type": "markdown",
   "metadata": {},
   "source": [
    "##### how long will our server handle the incoming web traffic"
   ]
  },
  {
   "cell_type": "markdown",
   "metadata": {},
   "source": [
    "To answer this we have to:\n",
    "\n",
    "• Find the real model behind the noisy data points\n",
    "\n",
    "• Use the model to extrapolate into the future to find the point in time\n",
    "where our infrastructure has to be extended"
   ]
  },
  {
   "cell_type": "markdown",
   "metadata": {},
   "source": [
    "### Before building our first model"
   ]
  },
  {
   "cell_type": "markdown",
   "metadata": {},
   "source": [
    "###### When we talk about models, you can think of them as simplified theoretical approximations of the complex reality. \n",
    "\n",
    "As such there is always some inferiority\n",
    "involved, also called the approximation error. This error will guide us in choosing\n",
    "the right model among the myriad of choices we have. This error will be calculated\n",
    "as the squared distance of the model's prediction to the real data."
   ]
  },
  {
   "cell_type": "code",
   "execution_count": 9,
   "metadata": {
    "collapsed": true
   },
   "outputs": [],
   "source": [
    "def error(f, x, y):\n",
    "    return sp.sum((f(x)-y)**2)"
   ]
  },
  {
   "cell_type": "markdown",
   "metadata": {},
   "source": [
    "The vectors x and y contain the web stats data that we have extracted before. It is\n",
    "the beauty of SciPy's vectorized functions that we exploit here with f(x)."
   ]
  },
  {
   "cell_type": "markdown",
   "metadata": {},
   "source": [
    "Let us assume for a second that the underlying model is a straight line. The\n",
    "challenge then is how to best put that line into the chart so that it results in the\n",
    "smallest approximation error.\n",
    "\n",
    "SciPy's polyfit() function does exactly that. Given\n",
    "data x and y and the desired order of the polynomial (straight line has order 1),\n",
    "it finds the model function that minimizes the error function defined earlier."
   ]
  },
  {
   "cell_type": "code",
   "execution_count": 10,
   "metadata": {
    "collapsed": true
   },
   "outputs": [],
   "source": [
    "fp1, residuals, rank, sv, rcond = sp.polyfit(x, y, 1, full=True)"
   ]
  },
  {
   "cell_type": "code",
   "execution_count": 13,
   "metadata": {
    "collapsed": false
   },
   "outputs": [
    {
     "name": "stdout",
     "output_type": "stream",
     "text": [
      "Model parameters: [   2.59619213  989.02487106]\n"
     ]
    }
   ],
   "source": [
    "print(\"Model parameters: %s\" % fp1)"
   ]
  },
  {
   "cell_type": "code",
   "execution_count": 15,
   "metadata": {
    "collapsed": false
   },
   "outputs": [
    {
     "name": "stdout",
     "output_type": "stream",
     "text": [
      "[  3.17389767e+08]\n"
     ]
    }
   ],
   "source": [
    "#only residuals are of interest, which is exactly the error of the approximation.\n",
    "print(residuals)"
   ]
  },
  {
   "cell_type": "markdown",
   "metadata": {},
   "source": [
    "This means that the best straight line fit is the following function:"
   ]
  },
  {
   "cell_type": "markdown",
   "metadata": {},
   "source": [
    "f(x) = 2.59619213 * x + 989.02487106."
   ]
  },
  {
   "cell_type": "markdown",
   "metadata": {},
   "source": [
    "We then use poly1d() to create a model function from the model parameters"
   ]
  },
  {
   "cell_type": "code",
   "execution_count": 17,
   "metadata": {
    "collapsed": true
   },
   "outputs": [],
   "source": [
    "f1 = sp.poly1d(fp1)"
   ]
  },
  {
   "cell_type": "code",
   "execution_count": 18,
   "metadata": {
    "collapsed": false
   },
   "outputs": [
    {
     "name": "stdout",
     "output_type": "stream",
     "text": [
      "317389767.34\n"
     ]
    }
   ],
   "source": [
    "print(error(f1,x,y))"
   ]
  },
  {
   "cell_type": "markdown",
   "metadata": {},
   "source": [
    "We can now use f1() to plot our first trained model."
   ]
  },
  {
   "cell_type": "code",
   "execution_count": 19,
   "metadata": {
    "collapsed": false
   },
   "outputs": [
    {
     "data": {
      "text/plain": [
       "<matplotlib.legend.Legend at 0x1fb89ff2630>"
      ]
     },
     "execution_count": 19,
     "metadata": {},
     "output_type": "execute_result"
    },
    {
     "data": {
      "image/png": "[encoded data removed]",
      "text/plain": [
       "<matplotlib.figure.Figure at 0x1fb87c60208>"
      ]
     },
     "metadata": {},
     "output_type": "display_data"
    }
   ],
   "source": [
    "fx = sp.linspace(0,x[-1], 1000) # generate X-values for plotting\n",
    "plt.plot(fx, f1(fx), linewidth=4)\n",
    "plt.legend([\"d=%i\" % f1.order], loc=\"upper left\")"
   ]
  },
  {
   "cell_type": "markdown",
   "metadata": {},
   "source": [
    "Although our first model clearly is not the one we would use, it\n",
    "serves a very important purpose in the workflow: we will use it as our baseline until\n",
    "we find a better one. Whatever model we will come up with in the future, we will\n",
    "compare it against the current baseline."
   ]
  },
  {
   "cell_type": "markdown",
   "metadata": {},
   "source": [
    "Let us now fit a more complex model, a polynomial of degree 2, to see whether it\n",
    "better \"understands\" our data:"
   ]
  },
  {
   "cell_type": "code",
   "execution_count": 23,
   "metadata": {
    "collapsed": true
   },
   "outputs": [],
   "source": [
    "f2p = sp.polyfit(x,y,2)"
   ]
  },
  {
   "cell_type": "code",
   "execution_count": 24,
   "metadata": {
    "collapsed": false
   },
   "outputs": [
    {
     "name": "stdout",
     "output_type": "stream",
     "text": [
      "[  1.05322215e-02  -5.26545650e+00   1.97476082e+03]\n"
     ]
    }
   ],
   "source": [
    "print(f2p)"
   ]
  },
  {
   "cell_type": "code",
   "execution_count": 25,
   "metadata": {
    "collapsed": false
   },
   "outputs": [],
   "source": [
    "f2 = sp.poly1d(f2p)"
   ]
  },
  {
   "cell_type": "code",
   "execution_count": 26,
   "metadata": {
    "collapsed": false
   },
   "outputs": [
    {
     "name": "stdout",
     "output_type": "stream",
     "text": [
      "179983507.878\n"
     ]
    }
   ],
   "source": [
    "print(error(f2, x, y))"
   ]
  },
  {
   "cell_type": "markdown",
   "metadata": {},
   "source": [
    "The error is 179,983,507.878, which is almost half the error of the straight-line model.\n",
    "This is good; however, it comes with a price. We now have a more complex function,\n",
    "meaning that we have one more parameter to tune inside polyfit(). \n",
    "\n",
    "The fitted\n",
    "polynomial is as follows:\n",
    "f(x) = 0.0105322215 * x**2 - 5.26545650 * x + 1974.76082"
   ]
  },
  {
   "cell_type": "markdown",
   "metadata": {},
   "source": [
    "So, if more complexity gives better results, why not increase the complexity even\n",
    "more? Let's try it for degree 3, 10, and 100."
   ]
  },
  {
   "cell_type": "code",
   "execution_count": 28,
   "metadata": {
    "collapsed": false
   },
   "outputs": [
    {
     "name": "stdout",
     "output_type": "stream",
     "text": [
      "[  3.04960132e-05  -2.35893797e-02   4.94226019e+00   1.33328797e+03]\n",
      "139350144.032\n"
     ]
    }
   ],
   "source": [
    "f3p = sp.polyfit(x,y,3)\n",
    "print(f3p)\n",
    "f3 = sp.poly1d(f3p)\n",
    "print(error(f3, x, y))"
   ]
  },
  {
   "cell_type": "code",
   "execution_count": 29,
   "metadata": {
    "collapsed": false
   },
   "outputs": [
    {
     "name": "stdout",
     "output_type": "stream",
     "text": [
      "[ -3.73981969e-22   1.36473757e-18  -2.14294407e-15   1.89884971e-12\n",
      "  -1.04570108e-09   3.70867731e-07  -8.45604589e-05   1.19167041e-02\n",
      "  -9.41618607e-01   3.33703840e+01   1.26421204e+03]\n",
      "121942326.364\n"
     ]
    }
   ],
   "source": [
    "f10p = sp.polyfit(x,y,10)\n",
    "print(f10p)\n",
    "f10 = sp.poly1d(f10p)\n",
    "print(error(f10, x, y))"
   ]
  },
  {
   "cell_type": "code",
   "execution_count": 30,
   "metadata": {
    "collapsed": false
   },
   "outputs": [
    {
     "name": "stdout",
     "output_type": "stream",
     "text": [
      "[  0.00000000e+000  -0.00000000e+000  -0.00000000e+000   0.00000000e+000\n",
      "  -0.00000000e+000   0.00000000e+000  -0.00000000e+000  -0.00000000e+000\n",
      "   0.00000000e+000   0.00000000e+000   0.00000000e+000   0.00000000e+000\n",
      "  -0.00000000e+000  -0.00000000e+000  -0.00000000e+000  -0.00000000e+000\n",
      "  -0.00000000e+000  -0.00000000e+000   0.00000000e+000   0.00000000e+000\n",
      "   0.00000000e+000   0.00000000e+000   0.00000000e+000   0.00000000e+000\n",
      "   0.00000000e+000  -0.00000000e+000   0.00000000e+000  -0.00000000e+000\n",
      "   0.00000000e+000  -0.00000000e+000   0.00000000e+000  -0.00000000e+000\n",
      "   0.00000000e+000   0.00000000e+000   0.00000000e+000   0.00000000e+000\n",
      "   0.00000000e+000   0.00000000e+000   0.00000000e+000   0.00000000e+000\n",
      "   0.00000000e+000   0.00000000e+000   0.00000000e+000   0.00000000e+000\n",
      "   0.00000000e+000   0.00000000e+000   0.00000000e+000  -6.72742023e-140\n",
      "   1.19703443e-136  -4.65665292e-135  -4.66497776e-131  -2.54247389e-128\n",
      "   2.25931547e-126   1.39018342e-122   1.16107799e-119   4.32286652e-117\n",
      "  -1.50799462e-114  -3.76680331e-111  -3.20549090e-108  -1.48607313e-105\n",
      "   6.29832326e-104   8.53730571e-100   9.11089012e-097   5.56851783e-094\n",
      "   1.31765049e-091  -1.52914274e-088  -2.41400175e-085  -1.84985173e-082\n",
      "  -7.30084957e-080   2.08110622e-077   6.26334129e-074   5.60978484e-071\n",
      "   2.52787719e-068  -4.42257459e-066  -1.85470096e-062  -1.62949048e-059\n",
      "  -5.76705289e-057   3.54980215e-054   6.50754330e-051   3.79773249e-048\n",
      "  -4.37077423e-046  -2.48050870e-042  -1.57873766e-039   3.45907163e-037\n",
      "   1.09220146e-033   3.34443327e-031  -4.93781382e-028  -2.97847154e-025\n",
      "   2.64850480e-022   1.18819488e-019  -2.02243508e-016   1.03622723e-013\n",
      "  -2.90541537e-011   4.79740319e-009  -4.21046573e-007   5.98111064e-006\n",
      "   2.59216633e-003  -2.60192462e-001   1.03507635e+001  -1.60104890e+002\n",
      "   2.14973370e+003]\n",
      "109452399.051\n"
     ]
    },
    {
     "name": "stderr",
     "output_type": "stream",
     "text": [
      "C:\\Anaconda3\\lib\\site-packages\\numpy\\lib\\polynomial.py:586: RuntimeWarning: overflow encountered in multiply\n",
      "  scale = NX.sqrt((lhs*lhs).sum(axis=0))\n",
      "C:\\Anaconda3\\lib\\site-packages\\numpy\\lib\\polynomial.py:594: RankWarning: Polyfit may be poorly conditioned\n",
      "  warnings.warn(msg, RankWarning)\n"
     ]
    }
   ],
   "source": [
    "f100p = sp.polyfit(x,y,100)\n",
    "print(f100p)\n",
    "f100 = sp.poly1d(f100p)\n",
    "print(error(f100, x, y))"
   ]
  },
  {
   "cell_type": "markdown",
   "metadata": {},
   "source": [
    "However, taking a closer look at the fitted curves, we start to wonder whether\n",
    "they also cap\n",
    "ture the true process that generated this data. Framed differently,\n",
    "do our models correctly represent the underlying mass behavior of customers\n",
    "visiting our website?\n",
    "\n",
    "It seems that the models are fitted too much to the\n",
    "data for 10 and 100. So much that it is now capturing not only the underlying process but also\n",
    "the noise. This is called overfitting.\n",
    "\n",
    "At this point, we have the following choices:\n",
    " \n",
    " • Selecting one of the fitted polynomial models.\n",
    " \n",
    " • Switching to another more complex model class; splines?\n",
    " \n",
    " • Thinking differently about the data and starting again."
   ]
  },
  {
   "cell_type": "markdown",
   "metadata": {},
   "source": [
    "Of the five fitted models, the first-order model clearly is too simple, and the models\n",
    "of order 10 and 100 are clearly overfitting. Only the second- and third-order models\n",
    "seem to somehow match the data. However, if we extrapolate them at both borders,\n",
    "we see them going berserk.\n",
    "\n",
    "Switching to a more complex class also seems to be the wrong way to go about it.\n",
    "What arguments would back which class? At this point, we realize that we probably\n",
    "have not completely understood our data."
   ]
  },
  {
   "cell_type": "markdown",
   "metadata": {},
   "source": [
    "## Another look at our data"
   ]
  },
  {
   "cell_type": "markdown",
   "metadata": {},
   "source": [
    "It seems that there is an inflection\n",
    "point between weeks 3 and 4. So let us separate the data and train two lines using\n",
    "week 3.5 as a separation point. We train the first line with the data up to week 3, and\n",
    "the second line with the remaining data."
   ]
  },
  {
   "cell_type": "code",
   "execution_count": 44,
   "metadata": {
    "collapsed": true
   },
   "outputs": [],
   "source": [
    "def plot_models(x, y, models, fname, mx=None, ymax=None, xmin=None):\n",
    "    plt.clf()\n",
    "    plt.scatter(x, y, s=10)\n",
    "    plt.title(\"Web traffic over the last month\")\n",
    "    plt.xlabel(\"Time\")\n",
    "    plt.ylabel(\"Hits/hour\")\n",
    "    plt.xticks(\n",
    "        [w * 7 * 24 for w in range(10)], ['week %i' % w for w in range(10)])\n",
    "\n",
    "    if models:\n",
    "        if mx is None:\n",
    "            mx = sp.linspace(0, x[-1], 1000)\n",
    "        for model, style, color in zip(models, linestyles, colors):\n",
    "            # print \"Model:\",model\n",
    "            # print \"Coeffs:\",model.coeffs\n",
    "            plt.plot(mx, model(mx), linestyle=style, linewidth=2, c=color)\n",
    "\n",
    "        plt.legend([\"d=%i\" % m.order for m in models], loc=\"upper left\")\n",
    "\n",
    "    plt.autoscale(tight=True)\n",
    "    plt.ylim(ymin=0)\n",
    "    if ymax:\n",
    "        plt.ylim(ymax=ymax)\n",
    "    if xmin:\n",
    "        plt.xlim(xmin=xmin)\n",
    "    plt.grid(True, linestyle='-', color='0.75')\n",
    "    plt.savefig(fname)\n"
   ]
  },
  {
   "cell_type": "code",
   "execution_count": 47,
   "metadata": {
    "collapsed": true
   },
   "outputs": [],
   "source": [
    "# all examples will have three classes in this file\n",
    "colors = ['g', 'k', 'b', 'm', 'r']\n",
    "linestyles = ['-', '-.', '--', ':', '-']"
   ]
  },
  {
   "cell_type": "code",
   "execution_count": 48,
   "metadata": {
    "collapsed": false
   },
   "outputs": [
    {
     "name": "stderr",
     "output_type": "stream",
     "text": [
      "C:\\Anaconda3\\lib\\site-packages\\ipykernel\\__main__.py:4: DeprecationWarning: using a non-integer number instead of an integer will result in an error in the future\n",
      "C:\\Anaconda3\\lib\\site-packages\\ipykernel\\__main__.py:5: DeprecationWarning: using a non-integer number instead of an integer will result in an error in the future\n",
      "C:\\Anaconda3\\lib\\site-packages\\ipykernel\\__main__.py:6: DeprecationWarning: using a non-integer number instead of an integer will result in an error in the future\n",
      "C:\\Anaconda3\\lib\\site-packages\\ipykernel\\__main__.py:7: DeprecationWarning: using a non-integer number instead of an integer will result in an error in the future\n"
     ]
    },
    {
     "data": {
      "image/png": "[encoded data removed]",
      "text/plain": [
       "<matplotlib.figure.Figure at 0x1fb8a0690f0>"
      ]
     },
     "metadata": {},
     "output_type": "display_data"
    }
   ],
   "source": [
    "import os\n",
    "# fit and plot a model using the knowledge about inflection point\n",
    "inflection = 3.5 * 7 * 24\n",
    "xa = x[:inflection]\n",
    "ya = y[:inflection]\n",
    "xb = x[inflection:]\n",
    "yb = y[inflection:]\n",
    "\n",
    "fa = sp.poly1d(sp.polyfit(xa, ya, 1))\n",
    "fb = sp.poly1d(sp.polyfit(xb, yb, 1))\n",
    "\n",
    "plot_models(x, y, [fa, fb], os.path.join(\"..\", \"1400_01_05.png\"))"
   ]
  },
  {
   "cell_type": "markdown",
   "metadata": {},
   "source": [
    "Although we cannot look into the future, we can and should simulate a similar effect\n",
    "by holding out a part of our data. Let us remove, for instance, a certain percentage of\n",
    "the data and train on the remaining one."
   ]
  },
  {
   "cell_type": "code",
   "execution_count": 49,
   "metadata": {
    "collapsed": false
   },
   "outputs": [
    {
     "name": "stderr",
     "output_type": "stream",
     "text": [
      "C:\\Anaconda3\\lib\\site-packages\\numpy\\lib\\polynomial.py:594: RankWarning: Polyfit may be poorly conditioned\n",
      "  warnings.warn(msg, RankWarning)\n",
      "C:\\Anaconda3\\lib\\site-packages\\numpy\\lib\\polynomial.py:586: RuntimeWarning: overflow encountered in multiply\n",
      "  scale = NX.sqrt((lhs*lhs).sum(axis=0))\n",
      "C:\\Anaconda3\\lib\\site-packages\\numpy\\lib\\polynomial.py:594: RankWarning: Polyfit may be poorly conditioned\n",
      "  warnings.warn(msg, RankWarning)\n"
     ]
    },
    {
     "name": "stdout",
     "output_type": "stream",
     "text": [
      "Test errors for only the time after inflection point\n",
      "Error d=1: 7697609.925933\n",
      "Error d=2: 6962766.574621\n",
      "Error d=3: 8298578.702758\n",
      "Error d=10: 8692880.879317\n",
      "Error d=53: 10017742.527241\n"
     ]
    },
    {
     "data": {
      "image/png": "[encoded data removed]",
      "text/plain": [
       "<matplotlib.figure.Figure at 0x1fb8a07c630>"
      ]
     },
     "metadata": {},
     "output_type": "display_data"
    }
   ],
   "source": [
    "# separating training from testing data\n",
    "frac = 0.3\n",
    "split_idx = int(frac * len(xb))\n",
    "shuffled = sp.random.permutation(list(range(len(xb))))\n",
    "test = sorted(shuffled[:split_idx])\n",
    "train = sorted(shuffled[split_idx:])\n",
    "fbt1 = sp.poly1d(sp.polyfit(xb[train], yb[train], 1))\n",
    "fbt2 = sp.poly1d(sp.polyfit(xb[train], yb[train], 2))\n",
    "fbt3 = sp.poly1d(sp.polyfit(xb[train], yb[train], 3))\n",
    "fbt10 = sp.poly1d(sp.polyfit(xb[train], yb[train], 10))\n",
    "fbt100 = sp.poly1d(sp.polyfit(xb[train], yb[train], 100))\n",
    "\n",
    "print(\"Test errors for only the time after inflection point\")\n",
    "for f in [fbt1, fbt2, fbt3, fbt10, fbt100]:\n",
    "    print(\"Error d=%i: %f\" % (f.order, error(f, xb[test], yb[test])))\n",
    "\n",
    "plot_models(\n",
    "    x, y, [fbt1, fbt2, fbt3, fbt10, fbt100], os.path.join(\"..\",\n",
    "                                                          \"1400_01_08.png\"),\n",
    "    mx=sp.linspace(0 * 7 * 24, 6 * 7 * 24, 100),\n",
    "    ymax=10000, xmin=0 * 7 * 24)\n"
   ]
  },
  {
   "cell_type": "markdown",
   "metadata": {},
   "source": [
    "It seems we finally have a clear winner. The model with degree 2 has the lowest\n",
    "test error, which is the error when measured using data that the model did not see\n",
    "during training."
   ]
  },
  {
   "cell_type": "markdown",
   "metadata": {},
   "source": [
    "## Answering our initial question"
   ]
  },
  {
   "cell_type": "markdown",
   "metadata": {},
   "source": [
    "Finally, we have arrived at a model that we think represents the underlying process\n",
    "best; it is now a simple task of finding out when our infrastructure will reach 100,000\n",
    "requests per hour. We have to calculate when our model function reaches the value\n",
    "100,000.\n",
    "\n",
    "Having a polynomial of degree 2, we could simply compute the inverse of the\n",
    "function and calculate its value at 100,000. Of course, we would like to have an\n",
    "approach that is applicable to any model function easily.\n",
    "This can be done by subtracting 100,000 from the polynomial, which results in\n",
    "another polynomial, and finding the root of it."
   ]
  },
  {
   "cell_type": "code",
   "execution_count": 50,
   "metadata": {
    "collapsed": false
   },
   "outputs": [
    {
     "name": "stdout",
     "output_type": "stream",
     "text": [
      "         2\n",
      "0.08597 x - 94.33 x + 2.762e+04\n"
     ]
    }
   ],
   "source": [
    "print(fbt2)"
   ]
  },
  {
   "cell_type": "code",
   "execution_count": 51,
   "metadata": {
    "collapsed": false
   },
   "outputs": [
    {
     "name": "stdout",
     "output_type": "stream",
     "text": [
      "         2\n",
      "0.08597 x - 94.33 x - 7.238e+04\n"
     ]
    }
   ],
   "source": [
    "print(fbt2-100000)"
   ]
  },
  {
   "cell_type": "code",
   "execution_count": 52,
   "metadata": {
    "collapsed": true
   },
   "outputs": [],
   "source": [
    "from scipy.optimize import fsolve"
   ]
  },
  {
   "cell_type": "code",
   "execution_count": 53,
   "metadata": {
    "collapsed": true
   },
   "outputs": [],
   "source": [
    "reached_max = fsolve(fbt2-100000, 800)/(7*24)"
   ]
  },
  {
   "cell_type": "code",
   "execution_count": 54,
   "metadata": {
    "collapsed": false
   },
   "outputs": [
    {
     "name": "stdout",
     "output_type": "stream",
     "text": [
      "100,000 hits/hour expected at week 9.629629\n"
     ]
    }
   ],
   "source": [
    "print(\"100,000 hits/hour expected at week %f\" % reached_max[0])"
   ]
  },
  {
   "cell_type": "markdown",
   "metadata": {},
   "source": [
    "Our model tells us that it will take another month until we have reached our threshold capacity."
   ]
  },
  {
   "cell_type": "code",
   "execution_count": null,
   "metadata": {
    "collapsed": true
   },
   "outputs": [],
   "source": []
  }
 ],
 "metadata": {
  "kernelspec": {
   "display_name": "Python 3",
   "language": "python",
   "name": "python3"
  },
  "language_info": {
   "codemirror_mode": {
    "name": "ipython",
    "version": 3
   },
   "file_extension": ".py",
   "mimetype": "text/x-python",
   "name": "python",
   "nbconvert_exporter": "python",
   "pygments_lexer": "ipython3",
   "version": "3.5.1"
  }
 },
 "nbformat": 4,
 "nbformat_minor": 0
}
