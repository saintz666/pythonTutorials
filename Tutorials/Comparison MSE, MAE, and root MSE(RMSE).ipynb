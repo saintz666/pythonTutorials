{
 "cells": [
  {
   "cell_type": "code",
   "execution_count": 1,
   "metadata": {
    "collapsed": false
   },
   "outputs": [
    {
     "name": "stdout",
     "output_type": "stream",
     "text": [
      "Errors \n",
      "[1.0, 0.6000000000000001, 1.1999999999999997, -2.5, -2.4, 1.25]\n"
     ]
    }
   ],
   "source": [
    "#here are some made-up numbers to start with\n",
    "target = [1.5, 2.1, 3.3, -4.7, -2.3, 0.75]\n",
    "prediction = [0.5, 1.5, 2.1, -2.2, 0.1, -0.5]\n",
    "\n",
    "error = []\n",
    "for i in range(len(target)):\n",
    "    error.append(target[i] - prediction[i])\n",
    "\n",
    "#print the errors\n",
    "print(\"Errors \",)\n",
    "print(error)"
   ]
  },
  {
   "cell_type": "code",
   "execution_count": 2,
   "metadata": {
    "collapsed": false
   },
   "outputs": [
    {
     "name": "stdout",
     "output_type": "stream",
     "text": [
      "Squared Error\n",
      "[1.0, 0.3600000000000001, 1.4399999999999993, 6.25, 5.76, 1.5625]\n",
      "Absolute Value of Error\n",
      "[1.0, 0.6000000000000001, 1.1999999999999997, 2.5, 2.4, 1.25]\n",
      "MSE =  2.72875\n",
      "RMSE =  1.651892853668179\n",
      "MAE =  1.4916666666666665\n",
      "Target Variance =  7.570347222222222\n",
      "Target Standard Deviation =  2.7514263977475797\n"
     ]
    }
   ],
   "source": [
    "#calculate the squared errors and absolute value of errors\n",
    "squaredError = []\n",
    "absError = []\n",
    "for val in error:\n",
    "    squaredError.append(val*val)\n",
    "    absError.append(abs(val))\n",
    "\n",
    "\n",
    "#print squared errors and absolute value of errors\n",
    "print(\"Squared Error\")\n",
    "print(squaredError)\n",
    "#ans: [1.0, 0.3600000000000001, 1.4399999999999993, 6.25, 5.7599999999999998, 1.5625]\n",
    "print(\"Absolute Value of Error\")\n",
    "print(absError)\n",
    "#ans: [1.0, 0.60000000000000009, 1.1999999999999997, 2.5, 2.3999999999999999, 1.25]\n",
    "\n",
    "\n",
    "#calculate and print mean squared error MSE\n",
    "print(\"MSE = \", sum(squaredError)/len(squaredError))\n",
    "#ans: 2.72875\n",
    "\n",
    "\n",
    "from math import sqrt\n",
    "#calculate and print square root of MSE (RMSE)\n",
    "print(\"RMSE = \", sqrt(sum(squaredError)/len(squaredError)))\n",
    "#ans: 1.65189285367\n",
    "\n",
    "\n",
    "#calculate and print mean absolute error MAE\n",
    "print(\"MAE = \", sum(absError)/len(absError))\n",
    "#ans: 1.49166666667\n",
    "#compare MSE to target variance\n",
    "targetDeviation = []\n",
    "targetMean = sum(target)/len(target)\n",
    "for val in target:\n",
    "    targetDeviation.append((val - targetMean)*(val - targetMean))\n",
    "\n",
    "#print the target variance\n",
    "print(\"Target Variance = \", sum(targetDeviation)/len(targetDeviation))\n",
    "#ans: 7.5703472222222219\n",
    "\n",
    "#print the the target standard deviation (square root of variance)\n",
    "print(\"Target Standard Deviation = \", sqrt(sum(targetDeviation)/len(targetDeviation)))\n",
    "#ans: 2.7514263977475797"
   ]
  },
  {
   "cell_type": "code",
   "execution_count": null,
   "metadata": {
    "collapsed": true
   },
   "outputs": [],
   "source": []
  }
 ],
 "metadata": {
  "kernelspec": {
   "display_name": "Python 3",
   "language": "python",
   "name": "python3"
  },
  "language_info": {
   "codemirror_mode": {
    "name": "ipython",
    "version": 3
   },
   "file_extension": ".py",
   "mimetype": "text/x-python",
   "name": "python",
   "nbconvert_exporter": "python",
   "pygments_lexer": "ipython3",
   "version": "3.5.1"
  }
 },
 "nbformat": 4,
 "nbformat_minor": 0
}
