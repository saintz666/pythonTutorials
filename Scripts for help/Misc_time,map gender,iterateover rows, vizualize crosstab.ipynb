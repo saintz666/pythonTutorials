{
 "cells": [
  {
   "cell_type": "code",
   "execution_count": 1,
   "metadata": {
    "collapsed": true
   },
   "outputs": [],
   "source": [
    "##If you want to reformat datetime columns *time consuming*\n",
    "\n",
    "##  https://www.kaggle.com/stravinsky/exploratory-data-analysis-beginnings\n",
    "\n",
    "##members['registration_init_time'] = members['registration_init_time'].apply(lambda x: pd.to_datetime(str(x), format='%Y%m%d %H:%M:%S'))\n",
    "##members['expiration_date'] = members['expiration_date'].apply(lambda x: pd.to_datetime(str(x), format='%Y%m%d %H:%M:%S'))\n",
    "##transactions['transaction_date'] = transactions['transaction_date'].apply(lambda x: pd.to_datetime(str(x), format='%Y%m%d %H:%M:%S'))\n",
    "##transactions['membership_expire_date'] = transactions['membership_expire_date'].apply(lambda x: pd.to_datetime(str(x), format='%Y%m%d %H:%M:%S'))\n",
    "##userLog['date'] = userLog['date'].apply(lambda x: pd.to_datetime(str(x), format='%Y%m%d %H:%M:%S'))"
   ]
  },
  {
   "cell_type": "code",
   "execution_count": 2,
   "metadata": {
    "collapsed": true
   },
   "outputs": [],
   "source": [
    "## user[\"gender\"]=user[\"gender\"].map({\"female\":1,\"male\":0,np.NaN:2}).astype(int)\n",
    "\n",
    "## gender = {'male':1, 'female':2}\n",
    "## train['gender'] = train['gender'].map(gender)\n",
    "## test['gender'] = test['gender'].map(gender)\n"
   ]
  },
  {
   "cell_type": "code",
   "execution_count": 3,
   "metadata": {
    "collapsed": true
   },
   "outputs": [],
   "source": [
    "#def transform_df(df):\n",
    "    #df = pd.DataFrame(df)\n",
    "    #df = df.sort_values(by=['date'], ascending=[False])\n",
    "    #df = df.reset_index(drop=True)\n",
    "    #df = df.drop_duplicates(subset=['msno'], keep='first')\n",
    "    #return df\n"
   ]
  },
  {
   "cell_type": "code",
   "execution_count": 4,
   "metadata": {
    "collapsed": true
   },
   "outputs": [],
   "source": [
    "#df_iter = pd.read_csv('../input/user_logs.csv', low_memory=False, iterator=True, chunksize=10000000)\n",
    "#last_user_logs = []\n",
    "#i = 0 #~400 Million Records - starting at the end but remove locally if needed\n",
    "#for df in df_iter:\n",
    "    #if i>35:\n",
    "        #if len(df)>0:\n",
    "            #print(df.shape)\n",
    "            #p = Pool(cpu_count())\n",
    "            #df = p.map(transform_df, np.array_split(df, cpu_count()))   \n",
    "            #df = pd.concat(df, axis=0, ignore_index=True).reset_index(drop=True)\n",
    "            #df = transform_df2(df)\n",
    "            #p.close(); p.join()\n",
    "            #last_user_logs.append(df)\n",
    "            #print('...', df.shape)\n",
    "            #df = []\n",
    "    #i+=1"
   ]
  },
  {
   "cell_type": "markdown",
   "metadata": {},
   "source": [
    "## Drawing crosstab\n",
    "\n"
   ]
  },
  {
   "cell_type": "code",
   "execution_count": 5,
   "metadata": {
    "collapsed": true
   },
   "outputs": [],
   "source": [
    "#churn = pd.crosstab(trainBIG['gender'],trainBIG['is_churn'])\n",
    "#print(churn)"
   ]
  },
  {
   "cell_type": "code",
   "execution_count": 6,
   "metadata": {
    "collapsed": true
   },
   "outputs": [],
   "source": [
    "#churn_rate = churn.div(churn.sum(1).astype(float),axis=0) # normalize the value\n",
    "\n",
    "#churn_rate.plot(kind='barh', stacked=True)"
   ]
  },
  {
   "cell_type": "code",
   "execution_count": null,
   "metadata": {
    "collapsed": true
   },
   "outputs": [],
   "source": [
    "## https://pandas.pydata.org/pandas-docs/stable/generated/pandas.DataFrame.div.html\n",
    "## https://stackoverflow.com/questions/22642162/python-divide-each-row-of-a-dataframe-by-another-dataframe-vector"
   ]
  }
 ],
 "metadata": {
  "anaconda-cloud": {},
  "kernelspec": {
   "display_name": "Python [conda root]",
   "language": "python",
   "name": "conda-root-py"
  },
  "language_info": {
   "codemirror_mode": {
    "name": "ipython",
    "version": 3
   },
   "file_extension": ".py",
   "mimetype": "text/x-python",
   "name": "python",
   "nbconvert_exporter": "python",
   "pygments_lexer": "ipython3",
   "version": "3.5.1"
  }
 },
 "nbformat": 4,
 "nbformat_minor": 1
}
